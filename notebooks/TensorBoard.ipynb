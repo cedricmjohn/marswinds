{
 "cells": [
  {
   "cell_type": "code",
   "execution_count": 35,
   "id": "1e62bc12",
   "metadata": {
    "ExecuteTime": {
     "end_time": "2021-07-07T15:07:13.439086Z",
     "start_time": "2021-07-07T15:07:12.801541Z"
    }
   },
   "outputs": [],
   "source": [
    "from os import environ\n",
    "from tensorflow.keras.preprocessing.image import load_img, ImageDataGenerator, img_to_array\n",
    "import numpy as np\n",
    "from tensorflow.keras import Sequential, layers\n",
    "import os\n",
    "from tensorflow.keras import optimizers\n",
    "from tensorflow.keras.callbacks import EarlyStopping, ModelCheckpoint, TensorBoard\n",
    "import matplotlib.pyplot as plt\n",
    "import os\n",
    "import tensorflow.keras\n",
    "import cv2\n",
    "import matplotlib.pyplot as plt\n",
    "import pandas as pd"
   ]
  },
  {
   "cell_type": "code",
   "execution_count": 7,
   "id": "f47d7877",
   "metadata": {
    "ExecuteTime": {
     "end_time": "2021-07-07T12:37:52.878044Z",
     "start_time": "2021-07-07T12:37:52.874325Z"
    }
   },
   "outputs": [],
   "source": [
    "def blur_func(img,k=5):\n",
    "    ksize = (k, k)\n",
    "    blur = cv2.blur(img, ksize) \n",
    "    return blur"
   ]
  },
  {
   "cell_type": "code",
   "execution_count": 9,
   "id": "4049eb7f",
   "metadata": {
    "ExecuteTime": {
     "end_time": "2021-07-07T12:43:28.953040Z",
     "start_time": "2021-07-07T12:42:38.875989Z"
    }
   },
   "outputs": [
    {
     "name": "stdout",
     "output_type": "stream",
     "text": [
      "Found 7896 images belonging to 2 classes.\n"
     ]
    },
    {
     "name": "stderr",
     "output_type": "stream",
     "text": [
      "/Users/cedric/.pyenv/versions/marswinds/lib/python3.8/site-packages/keras_preprocessing/image/image_data_generator.py:337: UserWarning: This ImageDataGenerator specifies `zca_whitening`, which overrides setting of `featurewise_center`.\n",
      "  warnings.warn('This ImageDataGenerator specifies '\n"
     ]
    },
    {
     "name": "stdout",
     "output_type": "stream",
     "text": [
      "Found 488672 images belonging to 2 classes.\n"
     ]
    }
   ],
   "source": [
    "val_flow_from_dir = ImageDataGenerator(rescale = 1./255)\n",
    "\n",
    "X_val = val_flow_from_dir.flow_from_directory('../raw_data/images/validation/',\n",
    "                                                    batch_size=32,\n",
    "                                                   classes = ['no_dunes',\n",
    "                                                             'dunes'],\n",
    "                                                    class_mode='binary',\n",
    "                                                    color_mode=\"grayscale\",\n",
    "                                                    target_size=(256, 256))\n",
    "\n",
    "X_train_flow_from_dir = ImageDataGenerator(rescale=1./255,\n",
    "                                   preprocessing_function=[blur_func],\n",
    "                                    zca_whitening=True,\n",
    "                                    brightness_range=(.5,1.5))\n",
    "\n",
    "X_train = X_train_flow_from_dir.flow_from_directory('../raw_data/images/training/',\n",
    "                                                    batch_size=32,\n",
    "                                                   classes = ['no_dunes',\n",
    "                                                             'dunes'],\n",
    "                                                    class_mode='binary',\n",
    "                                                    color_mode=\"grayscale\",\n",
    "                                                    target_size=(256, 256))"
   ]
  },
  {
   "cell_type": "code",
   "execution_count": 33,
   "id": "936acb0c",
   "metadata": {
    "ExecuteTime": {
     "end_time": "2021-07-07T12:55:41.179881Z",
     "start_time": "2021-07-07T12:55:41.164636Z"
    }
   },
   "outputs": [
    {
     "ename": "TypeError",
     "evalue": "'DirectoryIterator' object is not callable",
     "output_type": "error",
     "traceback": [
      "\u001b[0;31m---------------------------------------------------------------------------\u001b[0m",
      "\u001b[0;31mTypeError\u001b[0m                                 Traceback (most recent call last)",
      "\u001b[0;32m<ipython-input-33-60973ca083f1>\u001b[0m in \u001b[0;36m<module>\u001b[0;34m\u001b[0m\n\u001b[0;32m----> 1\u001b[0;31m \u001b[0mtype\u001b[0m\u001b[0;34m(\u001b[0m\u001b[0mX_train\u001b[0m\u001b[0;34m(\u001b[0m\u001b[0;36m0\u001b[0m\u001b[0;34m)\u001b[0m\u001b[0;34m)\u001b[0m\u001b[0;31m#[0][0])\u001b[0m\u001b[0;34m\u001b[0m\u001b[0;34m\u001b[0m\u001b[0m\n\u001b[0m",
      "\u001b[0;31mTypeError\u001b[0m: 'DirectoryIterator' object is not callable"
     ]
    }
   ],
   "source": [
    "type(X_train(0))#[0][0])"
   ]
  },
  {
   "cell_type": "code",
   "execution_count": 44,
   "id": "5cdfae3a",
   "metadata": {
    "ExecuteTime": {
     "end_time": "2021-07-07T15:50:40.902937Z",
     "start_time": "2021-07-07T15:50:40.848410Z"
    }
   },
   "outputs": [
    {
     "data": {
      "text/html": [
       "<div>\n",
       "<style scoped>\n",
       "    .dataframe tbody tr th:only-of-type {\n",
       "        vertical-align: middle;\n",
       "    }\n",
       "\n",
       "    .dataframe tbody tr th {\n",
       "        vertical-align: top;\n",
       "    }\n",
       "\n",
       "    .dataframe thead th {\n",
       "        text-align: right;\n",
       "    }\n",
       "</style>\n",
       "<table border=\"1\" class=\"dataframe\">\n",
       "  <thead>\n",
       "    <tr style=\"text-align: right;\">\n",
       "      <th></th>\n",
       "      <th>dropout</th>\n",
       "      <th>epoch</th>\n",
       "      <th>loss</th>\n",
       "      <th>accuracy</th>\n",
       "      <th>precision</th>\n",
       "      <th>recall</th>\n",
       "      <th>val_loss</th>\n",
       "      <th>val_accuracy</th>\n",
       "      <th>val_precision</th>\n",
       "      <th>val_recall</th>\n",
       "    </tr>\n",
       "  </thead>\n",
       "  <tbody>\n",
       "    <tr>\n",
       "      <th>0</th>\n",
       "      <td>0.0</td>\n",
       "      <td>1</td>\n",
       "      <td>0.1856</td>\n",
       "      <td>0.9279</td>\n",
       "      <td>0.9367</td>\n",
       "      <td>0.9179</td>\n",
       "      <td>0.2783</td>\n",
       "      <td>0.8675</td>\n",
       "      <td>0.9142</td>\n",
       "      <td>0.8092</td>\n",
       "    </tr>\n",
       "    <tr>\n",
       "      <th>1</th>\n",
       "      <td>0.0</td>\n",
       "      <td>2</td>\n",
       "      <td>0.1101</td>\n",
       "      <td>0.9595</td>\n",
       "      <td>0.9647</td>\n",
       "      <td>0.9538</td>\n",
       "      <td>0.7415</td>\n",
       "      <td>0.7708</td>\n",
       "      <td>0.7306</td>\n",
       "      <td>0.8535</td>\n",
       "    </tr>\n",
       "    <tr>\n",
       "      <th>2</th>\n",
       "      <td>0.0</td>\n",
       "      <td>3</td>\n",
       "      <td>0.0884</td>\n",
       "      <td>0.9683</td>\n",
       "      <td>0.9731</td>\n",
       "      <td>0.9633</td>\n",
       "      <td>0.2283</td>\n",
       "      <td>0.9189</td>\n",
       "      <td>0.8886</td>\n",
       "      <td>0.9566</td>\n",
       "    </tr>\n",
       "    <tr>\n",
       "      <th>3</th>\n",
       "      <td>0.0</td>\n",
       "      <td>4</td>\n",
       "      <td>0.0788</td>\n",
       "      <td>0.9722</td>\n",
       "      <td>0.9768</td>\n",
       "      <td>0.9673</td>\n",
       "      <td>0.3026</td>\n",
       "      <td>0.8826</td>\n",
       "      <td>0.9032</td>\n",
       "      <td>0.8553</td>\n",
       "    </tr>\n",
       "    <tr>\n",
       "      <th>4</th>\n",
       "      <td>0.2</td>\n",
       "      <td>1</td>\n",
       "      <td>0.2461</td>\n",
       "      <td>0.9020</td>\n",
       "      <td>0.9018</td>\n",
       "      <td>/9024</td>\n",
       "      <td>0.4489</td>\n",
       "      <td>0.8252</td>\n",
       "      <td>0.8688</td>\n",
       "      <td>0.7662</td>\n",
       "    </tr>\n",
       "    <tr>\n",
       "      <th>5</th>\n",
       "      <td>0.2</td>\n",
       "      <td>2</td>\n",
       "      <td>0.1496</td>\n",
       "      <td>0.9428</td>\n",
       "      <td>0.9432</td>\n",
       "      <td>0.9425</td>\n",
       "      <td>1.4392</td>\n",
       "      <td>0.4168</td>\n",
       "      <td>0.3700</td>\n",
       "      <td>0.2368</td>\n",
       "    </tr>\n",
       "    <tr>\n",
       "      <th>6</th>\n",
       "      <td>0.2</td>\n",
       "      <td>3</td>\n",
       "      <td>0.1336</td>\n",
       "      <td>0.9498</td>\n",
       "      <td>0.9483</td>\n",
       "      <td>0.9516</td>\n",
       "      <td>0.8711</td>\n",
       "      <td>0.5742</td>\n",
       "      <td>0.7434</td>\n",
       "      <td>0.2267</td>\n",
       "    </tr>\n",
       "    <tr>\n",
       "      <th>7</th>\n",
       "      <td>0.2</td>\n",
       "      <td>4</td>\n",
       "      <td>0.1206</td>\n",
       "      <td>0.9549</td>\n",
       "      <td>0.9533</td>\n",
       "      <td>0.9568</td>\n",
       "      <td>0.5531</td>\n",
       "      <td>0.8273</td>\n",
       "      <td>0.7600</td>\n",
       "      <td>0.9567</td>\n",
       "    </tr>\n",
       "    <tr>\n",
       "      <th>8</th>\n",
       "      <td>0.5</td>\n",
       "      <td>1</td>\n",
       "      <td>0.3152</td>\n",
       "      <td>0.8742</td>\n",
       "      <td>0.8732</td>\n",
       "      <td>0.8756</td>\n",
       "      <td>0.6764</td>\n",
       "      <td>0.7120</td>\n",
       "      <td>0.7465</td>\n",
       "      <td>0.6421</td>\n",
       "    </tr>\n",
       "    <tr>\n",
       "      <th>9</th>\n",
       "      <td>0.5</td>\n",
       "      <td>2</td>\n",
       "      <td>0.1904</td>\n",
       "      <td>0.9258</td>\n",
       "      <td>0.9234</td>\n",
       "      <td>0.9286</td>\n",
       "      <td>0.8042</td>\n",
       "      <td>0.4814</td>\n",
       "      <td>0.4556</td>\n",
       "      <td>0.1910</td>\n",
       "    </tr>\n",
       "    <tr>\n",
       "      <th>10</th>\n",
       "      <td>0.5</td>\n",
       "      <td>3</td>\n",
       "      <td>0.1730</td>\n",
       "      <td>0.9337</td>\n",
       "      <td>0.9320</td>\n",
       "      <td>0.9357</td>\n",
       "      <td>0.8618</td>\n",
       "      <td>0.4162</td>\n",
       "      <td>0.3274</td>\n",
       "      <td>0.1591</td>\n",
       "    </tr>\n",
       "  </tbody>\n",
       "</table>\n",
       "</div>"
      ],
      "text/plain": [
       "    dropout  epoch    loss  accuracy  precision  recall  val_loss  \\\n",
       "0       0.0      1  0.1856    0.9279     0.9367  0.9179    0.2783   \n",
       "1       0.0      2  0.1101    0.9595     0.9647  0.9538    0.7415   \n",
       "2       0.0      3  0.0884    0.9683     0.9731  0.9633    0.2283   \n",
       "3       0.0      4  0.0788    0.9722     0.9768  0.9673    0.3026   \n",
       "4       0.2      1  0.2461    0.9020     0.9018   /9024    0.4489   \n",
       "5       0.2      2  0.1496    0.9428     0.9432  0.9425    1.4392   \n",
       "6       0.2      3  0.1336    0.9498     0.9483  0.9516    0.8711   \n",
       "7       0.2      4  0.1206    0.9549     0.9533  0.9568    0.5531   \n",
       "8       0.5      1  0.3152    0.8742     0.8732  0.8756    0.6764   \n",
       "9       0.5      2  0.1904    0.9258     0.9234  0.9286    0.8042   \n",
       "10      0.5      3  0.1730    0.9337     0.9320  0.9357    0.8618   \n",
       "\n",
       "    val_accuracy  val_precision  val_recall  \n",
       "0         0.8675         0.9142      0.8092  \n",
       "1         0.7708         0.7306      0.8535  \n",
       "2         0.9189         0.8886      0.9566  \n",
       "3         0.8826         0.9032      0.8553  \n",
       "4         0.8252         0.8688      0.7662  \n",
       "5         0.4168         0.3700      0.2368  \n",
       "6         0.5742         0.7434      0.2267  \n",
       "7         0.8273         0.7600      0.9567  \n",
       "8         0.7120         0.7465      0.6421  \n",
       "9         0.4814         0.4556      0.1910  \n",
       "10        0.4162         0.3274      0.1591  "
      ]
     },
     "execution_count": 44,
     "metadata": {},
     "output_type": "execute_result"
    }
   ],
   "source": [
    "file = '../raw_data/model_tests/dropout_tests.csv'\n",
    "tests = pd.read_csv(file)\n",
    "tests"
   ]
  },
  {
   "cell_type": "code",
   "execution_count": 46,
   "id": "a8821023",
   "metadata": {
    "ExecuteTime": {
     "end_time": "2021-07-07T15:51:02.644200Z",
     "start_time": "2021-07-07T15:51:02.388398Z"
    }
   },
   "outputs": [
    {
     "data": {
      "text/plain": [
       "<matplotlib.legend.Legend at 0x1a99cd670>"
      ]
     },
     "execution_count": 46,
     "metadata": {},
     "output_type": "execute_result"
    },
    {
     "data": {
      "image/png": "[encoded data removed]",
      "text/plain": [
       "<Figure size 432x288 with 1 Axes>"
      ]
     },
     "metadata": {
      "needs_background": "light"
     },
     "output_type": "display_data"
    }
   ],
   "source": [
    "groups = tests.groupby(by='dropout')\n",
    "\n",
    "for name,group in groups:\n",
    "    plt.plot(group.epoch, group.loss, label=f'{name} loss')\n",
    "    plt.plot(group.epoch, group.val_loss,label=f'{name} val_loss')\n",
    "plt.legend()"
   ]
  },
  {
   "cell_type": "code",
   "execution_count": null,
   "id": "93d51b99",
   "metadata": {},
   "outputs": [],
   "source": []
  }
 ],
 "metadata": {
  "kernelspec": {
   "display_name": "marswinds",
   "language": "python",
   "name": "marswinds"
  },
  "language_info": {
   "codemirror_mode": {
    "name": "ipython",
    "version": 3
   },
   "file_extension": ".py",
   "mimetype": "text/x-python",
   "name": "python",
   "nbconvert_exporter": "python",
   "pygments_lexer": "ipython3",
   "version": "3.8.6"
  },
  "toc": {
   "base_numbering": 1,
   "nav_menu": {},
   "number_sections": true,
   "sideBar": true,
   "skip_h1_title": false,
   "title_cell": "Table of Contents",
   "title_sidebar": "Contents",
   "toc_cell": false,
   "toc_position": {},
   "toc_section_display": true,
   "toc_window_display": false
  }
 },
 "nbformat": 4,
 "nbformat_minor": 5
}
