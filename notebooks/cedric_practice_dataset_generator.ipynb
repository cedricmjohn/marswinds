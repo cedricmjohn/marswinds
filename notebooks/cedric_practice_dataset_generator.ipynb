{
 "cells": [
  {
   "cell_type": "markdown",
   "id": "65b6e7ef-3221-4061-ad82-80a42817c28f",
   "metadata": {},
   "source": [
    "# Notebook to generate a practice dataset\n",
    "\n",
    "## Wind Data\n",
    "\n",
    "Let's use the pre-downloaded wind data from the Arabian Peninsula and create a dataframe of useful values"
   ]
  },
  {
   "cell_type": "code",
   "execution_count": null,
   "id": "ccaf4aaa-0a55-4a6c-a73a-42670b0feaaf",
   "metadata": {
    "ExecuteTime": {
     "end_time": "2021-07-02T12:21:32.514618Z",
     "start_time": "2021-07-02T12:21:29.595575Z"
    },
    "execution": {
     "iopub.execute_input": "2021-06-09T15:50:38.040367Z",
     "iopub.status.busy": "2021-06-09T15:50:38.040112Z",
     "iopub.status.idle": "2021-06-09T15:50:40.063973Z",
     "shell.execute_reply": "2021-06-09T15:50:40.063376Z",
     "shell.execute_reply.started": "2021-06-09T15:50:38.040306Z"
    },
    "tags": []
   },
   "outputs": [],
   "source": [
    "import xarray as xr\n",
    "import pandas as pd\n",
    "import numpy as np\n",
    "import os\n",
    "import ee\n",
    "import geemap\n",
    "import cdsapi\n",
    "import cv2\n",
    "from sklearn.model_selection import train_test_split\n",
    "import matplotlib.pyplot as plt"
   ]
  },
  {
   "cell_type": "code",
   "execution_count": null,
   "id": "cde6283e-e6f0-4199-ba1c-852ce9b76822",
   "metadata": {
    "execution": {
     "iopub.execute_input": "2021-06-09T13:16:19.045448Z",
     "iopub.status.busy": "2021-06-09T13:16:19.045131Z",
     "iopub.status.idle": "2021-06-09T13:16:19.073722Z",
     "shell.execute_reply": "2021-06-09T13:16:19.073027Z",
     "shell.execute_reply.started": "2021-06-09T13:16:19.045419Z"
    },
    "tags": []
   },
   "outputs": [],
   "source": [
    "file_path = '../raw_data/namib_desert_winds.nc'\n",
    "\n",
    "ds = xr.open_dataset(file_path)\n",
    "raw_data = ds.to_dataframe()\n",
    "clean_df = raw_data.dropna().reset_index()\n",
    "clean_df"
   ]
  },
  {
   "cell_type": "markdown",
   "id": "f30c9953-70ec-4e33-8a0b-f1acdb5010f0",
   "metadata": {},
   "source": [
    "### Adding wind strength feature"
   ]
  },
  {
   "cell_type": "code",
   "execution_count": null,
   "id": "5db887b3-79ea-43a6-b538-8b9f93f820fc",
   "metadata": {
    "execution": {
     "iopub.execute_input": "2021-06-09T13:16:21.750392Z",
     "iopub.status.busy": "2021-06-09T13:16:21.750189Z",
     "iopub.status.idle": "2021-06-09T13:16:21.766541Z",
     "shell.execute_reply": "2021-06-09T13:16:21.765963Z",
     "shell.execute_reply.started": "2021-06-09T13:16:21.750369Z"
    },
    "tags": []
   },
   "outputs": [],
   "source": [
    "clean_df['wind_strength'] = (clean_df.u10**2 + clean_df.v10**2)**.5\n",
    "clean_df"
   ]
  },
  {
   "cell_type": "markdown",
   "id": "60e194d5-95b6-4dba-a2fd-12babc7bb706",
   "metadata": {},
   "source": [
    "### Adding Sin and Cosin of wind direction"
   ]
  },
  {
   "cell_type": "code",
   "execution_count": null,
   "id": "695a8d99-040e-461d-9fd8-2c3dd951e0cf",
   "metadata": {
    "execution": {
     "iopub.execute_input": "2021-06-09T13:16:24.216136Z",
     "iopub.status.busy": "2021-06-09T13:16:24.215915Z",
     "iopub.status.idle": "2021-06-09T13:16:24.236275Z",
     "shell.execute_reply": "2021-06-09T13:16:24.235332Z",
     "shell.execute_reply.started": "2021-06-09T13:16:24.216113Z"
    },
    "tags": []
   },
   "outputs": [],
   "source": [
    "clean_df['sin'] = np.sin(np.arctan2(clean_df['u10'],clean_df['v10']))\n",
    "clean_df['cosin'] = np.cos(np.arctan2(clean_df['u10'],clean_df['v10']))\n",
    "clean_df"
   ]
  },
  {
   "cell_type": "markdown",
   "id": "f803f942-0b86-4041-aaeb-35489aa18bb7",
   "metadata": {},
   "source": [
    "### Aggregating final wind dataset by mean()"
   ]
  },
  {
   "cell_type": "code",
   "execution_count": null,
   "id": "efb13cde-a7bf-4c61-a245-13d4d0cfc42f",
   "metadata": {
    "execution": {
     "iopub.execute_input": "2021-06-09T13:16:27.532460Z",
     "iopub.status.busy": "2021-06-09T13:16:27.532259Z",
     "iopub.status.idle": "2021-06-09T13:16:27.545406Z",
     "shell.execute_reply": "2021-06-09T13:16:27.544824Z",
     "shell.execute_reply.started": "2021-06-09T13:16:27.532439Z"
    },
    "tags": []
   },
   "outputs": [],
   "source": [
    "wind_data = clean_df.groupby(by=['latitude','longitude']).mean().reset_index()\n",
    "wind_data"
   ]
  },
  {
   "cell_type": "code",
   "execution_count": null,
   "id": "f4d4a3d8-f34f-497b-98e3-255710b93ffe",
   "metadata": {
    "ExecuteTime": {
     "end_time": "2021-06-10T07:42:40.834867Z",
     "start_time": "2021-06-10T07:42:40.830140Z"
    },
    "execution": {
     "iopub.execute_input": "2021-06-09T15:50:53.091960Z",
     "iopub.status.busy": "2021-06-09T15:50:53.091744Z",
     "iopub.status.idle": "2021-06-09T15:50:53.097093Z",
     "shell.execute_reply": "2021-06-09T15:50:53.096100Z",
     "shell.execute_reply.started": "2021-06-09T15:50:53.091938Z"
    },
    "tags": []
   },
   "outputs": [],
   "source": [
    "def prep_data(path):\n",
    "    ds = xr.open_dataset(path)\n",
    "    raw_data = ds.to_dataframe()\n",
    "    clean_df = raw_data.dropna().reset_index()\n",
    "    clean_df['wind_strength'] = (clean_df.u10**2 + clean_df.v10**2)**.5\n",
    "    clean_df['sin'] = np.sin(np.arctan2(clean_df['u10'],clean_df['v10']))\n",
    "    clean_df['cosin'] = np.cos(np.arctan2(clean_df['u10'],clean_df['v10']))\n",
    "    wind_data = clean_df.groupby(by=['latitude','longitude']).mean().reset_index()\n",
    "    return wind_data"
   ]
  },
  {
   "cell_type": "code",
   "execution_count": null,
   "id": "ff245094",
   "metadata": {
    "ExecuteTime": {
     "end_time": "2021-06-10T09:06:56.361191Z",
     "start_time": "2021-06-10T09:06:56.354622Z"
    }
   },
   "outputs": [],
   "source": [
    "def train_test_geographic_split(data:pd.DataFrame) -> pd.DataFrame:\n",
    "    \n",
    "    wind_data = data.copy()\n",
    "    \n",
    "    nb_long = wind_data.longitude.unique().shape[0]\n",
    "    nb_lat = wind_data.latitude.unique().shape[0]\n",
    "\n",
    "    nb_test_long = int(nb_long*.4)\n",
    "    nb_test_lat = int(nb_lat*.4)\n",
    "\n",
    "    test_lat = np.sort(wind_data.latitude.unique())[:nb_test_lat]\n",
    "    test_long = np.sort(wind_data.longitude.unique())[:nb_test_long]\n",
    "\n",
    "    wind_data.loc[:,'folder']='training'\n",
    "    \n",
    "    train_data = wind_data.copy()\n",
    "    test_val_data = pd.DataFrame()\n",
    "\n",
    "    for vlat in test_lat:\n",
    "        for vlong in test_long:\n",
    "            filter_ = ((train_data.latitude == vlat) & (train_data.longitude==vlong))\n",
    "            test_val_data=pd.concat([test_val_data, train_data[filter_]])\n",
    "            train_data =train_data[~filter_].copy()\n",
    "            \n",
    "    test_data, val_data = train_test_split(test_val_data, test_size=0.3)\n",
    "    \n",
    "    test_data.loc[:,'folder']='testing'\n",
    "    val_data.loc[:,'folder']='validation'\n",
    "    \n",
    "    \n",
    "    return pd.concat([train_data,test_data,val_data])"
   ]
  },
  {
   "cell_type": "code",
   "execution_count": null,
   "id": "825be64c",
   "metadata": {
    "ExecuteTime": {
     "end_time": "2021-06-10T09:07:00.839305Z",
     "start_time": "2021-06-10T09:07:00.707788Z"
    }
   },
   "outputs": [],
   "source": [
    "path = '../raw_data/practice_wind_dataset.nc'\n",
    "\n",
    "data = train_test_geographic_split(prep_data(path))"
   ]
  },
  {
   "cell_type": "code",
   "execution_count": null,
   "id": "c7250da2",
   "metadata": {
    "ExecuteTime": {
     "end_time": "2021-06-10T09:06:10.297026Z",
     "start_time": "2021-06-10T09:06:10.291231Z"
    }
   },
   "outputs": [],
   "source": [
    "data.folder.value_counts()"
   ]
  },
  {
   "cell_type": "markdown",
   "id": "f48d4838-7f09-4926-b31d-89dfade9d9be",
   "metadata": {},
   "source": [
    "## Aquiring satellite images"
   ]
  },
  {
   "cell_type": "markdown",
   "id": "3d2f1540-062e-455b-839b-0d24161d31e0",
   "metadata": {},
   "source": [
    "### Base function "
   ]
  },
  {
   "cell_type": "code",
   "execution_count": null,
   "id": "e20c7ddf-8378-4a34-8c67-127bf6b47fd0",
   "metadata": {
    "ExecuteTime": {
     "end_time": "2021-06-10T07:43:00.272588Z",
     "start_time": "2021-06-10T07:43:00.268132Z"
    },
    "execution": {
     "iopub.execute_input": "2021-06-09T14:53:02.750678Z",
     "iopub.status.busy": "2021-06-09T14:53:02.750460Z",
     "iopub.status.idle": "2021-06-09T14:53:02.763345Z",
     "shell.execute_reply": "2021-06-09T14:53:02.762676Z",
     "shell.execute_reply.started": "2021-06-09T14:53:02.750653Z"
    },
    "tags": []
   },
   "outputs": [],
   "source": [
    "def get_image_per_coordinates(data:pd.Series, **kwargs) -> list:\n",
    "    \n",
    "        coordinates = [(data.longitude-0.025,data.latitude-0.025),\n",
    "              (data.longitude-0.025,data.latitude+0.025),\n",
    "              (data.longitude+0.025,data.latitude+0.025),\n",
    "              (data.longitude+0.025,data.latitude-0.025)]\n",
    "        \n",
    "        for quadrant,coordinate in enumerate(coordinates):\n",
    "            get_one_image(long=coordinate[0], lat=coordinate[1], data=data, quadrant=quadrant)\n",
    "        \n",
    "        return None"
   ]
  },
  {
   "cell_type": "code",
   "execution_count": null,
   "id": "151f5f08-5ad9-443a-871e-058c54952efa",
   "metadata": {
    "ExecuteTime": {
     "end_time": "2021-06-10T07:43:03.905635Z",
     "start_time": "2021-06-10T07:43:03.898946Z"
    },
    "execution": {
     "iopub.execute_input": "2021-06-09T15:24:36.323368Z",
     "iopub.status.busy": "2021-06-09T15:24:36.323137Z",
     "iopub.status.idle": "2021-06-09T15:24:36.330097Z",
     "shell.execute_reply": "2021-06-09T15:24:36.329425Z",
     "shell.execute_reply.started": "2021-06-09T15:24:36.323340Z"
    },
    "tags": []
   },
   "outputs": [],
   "source": [
    "def get_one_image(long:float, lat:float,data:pd.Series, quadrant:int, **kwargs) -> list:\n",
    "    \n",
    "    ee.Initialize()\n",
    "    \n",
    "    if 'resolution' in kwargs.keys():\n",
    "        resolution=int(kwargs['resolution'])\n",
    "    else:\n",
    "        resolution = 512\n",
    "    \n",
    "    satellite_name='COPERNICUS/S2_SR'\n",
    "    \n",
    "    area = [(long-0.025,lat-0.025),\n",
    "            (long+0.025,lat+0.025)]\n",
    "        \n",
    "    roi = ee.Geometry.Rectangle(coords=area)\n",
    "           \n",
    "    collection = ee.ImageCollection(satellite_name) \\\n",
    "                .filterBounds(roi) \\\n",
    "                .sort(\"CLOUD_COVER\") \\\n",
    "                .filter('HIGH_PROBA_CLOUDS_PERCENTAGE < 10') \\\n",
    "                .limit(1)\n",
    "\n",
    "    image = collection.first()\n",
    "    \n",
    "    vis_params = {\n",
    "                  'bands': [ 'B4','B3','B2'],\n",
    "                  'min': 0,\n",
    "                  'max': 10000,\n",
    "                  'gamma': 1.4}\n",
    "\n",
    "    file_name = f\"{lat}_{long}_0{quadrant}_CW000_{data.sin}_{data.cosin}_{data.wind_strength}\"\n",
    "    out_img = os.path.expanduser(f\"../raw_data/practice_dataset/{file_name}.jpg\")\n",
    "\n",
    "    geemap.get_image_thumbnail(image, out_img,vis_params,dimensions=(resolution, resolution),region=roi, format='jpg')\n",
    "        \n",
    "    image_grey = cv2.imread(out_img)\n",
    "    image_grey = cv2.cvtColor(image_grey, cv2.COLOR_BGR2GRAY)\n",
    "    #plt.imshow(image_grey, cmap='Greys')\n",
    "    cv2.imshow(file_name,image_grey)\n",
    "    cv2.imwrite(f\"../raw_data/practice_dataset/{file_name}.jpg\",image_grey)\n",
    "    #geemap.show_image(out_img)\n",
    "    #images.append(out_img)\n",
    "        \n",
    "    return None"
   ]
  },
  {
   "cell_type": "code",
   "execution_count": null,
   "id": "f76c6791-bdca-492d-8c0e-da589529c749",
   "metadata": {
    "execution": {
     "iopub.execute_input": "2021-06-09T15:24:40.921811Z",
     "iopub.status.busy": "2021-06-09T15:24:40.921569Z",
     "iopub.status.idle": "2021-06-09T15:24:56.553545Z",
     "shell.execute_reply": "2021-06-09T15:24:56.552969Z",
     "shell.execute_reply.started": "2021-06-09T15:24:40.921778Z"
    },
    "tags": []
   },
   "outputs": [],
   "source": [
    "file_path = '../raw_data/practice_wind_dataset.nc'\n",
    "test_data = prep_data(file_path).iloc[1,:]\n",
    "get_image_per_coordinates(test_data)"
   ]
  },
  {
   "cell_type": "code",
   "execution_count": null,
   "id": "9ccd7b3b-786e-44bb-bf28-e33899f7eea5",
   "metadata": {
    "execution": {
     "iopub.execute_input": "2021-06-09T15:25:16.689282Z",
     "iopub.status.busy": "2021-06-09T15:25:16.689061Z",
     "iopub.status.idle": "2021-06-09T15:25:30.702525Z",
     "shell.execute_reply": "2021-06-09T15:25:30.701946Z",
     "shell.execute_reply.started": "2021-06-09T15:25:16.689258Z"
    },
    "tags": []
   },
   "outputs": [],
   "source": [
    "file_path = '../raw_data/white_sands_winds.nc'\n",
    "test_data = prep_data(file_path).iloc[1,:]\n",
    "get_image_per_coordinates(test_data)"
   ]
  },
  {
   "cell_type": "code",
   "execution_count": null,
   "id": "3e0169a8-76bc-412b-ab44-544e485e0bb4",
   "metadata": {
    "execution": {
     "iopub.execute_input": "2021-06-09T14:33:42.909614Z",
     "iopub.status.busy": "2021-06-09T14:33:42.909206Z",
     "iopub.status.idle": "2021-06-09T14:33:51.569232Z",
     "shell.execute_reply": "2021-06-09T14:33:51.568628Z",
     "shell.execute_reply.started": "2021-06-09T14:33:42.909552Z"
    },
    "tags": []
   },
   "outputs": [],
   "source": [
    "file_path = '../raw_data/practice_wind_dataset.nc'\n",
    "test_data = prep_data(file_path).iloc[0,:]\n",
    "arabian_values = get_one_image(test_data)"
   ]
  },
  {
   "cell_type": "code",
   "execution_count": null,
   "id": "e4347180-470b-4e77-ae5f-d5243edd2be7",
   "metadata": {
    "execution": {
     "iopub.execute_input": "2021-06-09T15:25:30.704119Z",
     "iopub.status.busy": "2021-06-09T15:25:30.703877Z",
     "iopub.status.idle": "2021-06-09T15:25:45.033369Z",
     "shell.execute_reply": "2021-06-09T15:25:45.032803Z",
     "shell.execute_reply.started": "2021-06-09T15:25:30.704092Z"
    },
    "tags": []
   },
   "outputs": [],
   "source": [
    "file_path = '../raw_data/namib_desert_winds.nc'\n",
    "test_data = prep_data(file_path).iloc[0,:]\n",
    "get_image_per_coordinates(test_data)"
   ]
  },
  {
   "cell_type": "code",
   "execution_count": null,
   "id": "43de3f6a-c3e3-4dae-b2ba-f7dd57dba479",
   "metadata": {
    "execution": {
     "iopub.execute_input": "2021-06-09T14:01:45.578047Z",
     "iopub.status.busy": "2021-06-09T14:01:45.577849Z",
     "iopub.status.idle": "2021-06-09T14:01:45.583027Z",
     "shell.execute_reply": "2021-06-09T14:01:45.582392Z",
     "shell.execute_reply.started": "2021-06-09T14:01:45.578024Z"
    }
   },
   "outputs": [],
   "source": [
    "test_data"
   ]
  },
  {
   "cell_type": "code",
   "execution_count": null,
   "id": "68980d8b-cd0a-4c2a-9ba1-95dc32def86b",
   "metadata": {
    "execution": {
     "iopub.execute_input": "2021-06-09T14:04:57.935588Z",
     "iopub.status.busy": "2021-06-09T14:04:57.935382Z",
     "iopub.status.idle": "2021-06-09T14:05:07.068154Z",
     "shell.execute_reply": "2021-06-09T14:05:07.067566Z",
     "shell.execute_reply.started": "2021-06-09T14:04:57.935566Z"
    },
    "tags": []
   },
   "outputs": [],
   "source": [
    "file_path = '../raw_data/gobi_winds.nc'\n",
    "test_data = prep_data(file_path).iloc[0,:]\n",
    "gobi_desert_values = get_one_image(test_data)"
   ]
  },
  {
   "cell_type": "code",
   "execution_count": null,
   "id": "8977d685-2444-44c1-b5b4-809858ae625a",
   "metadata": {
    "execution": {
     "iopub.execute_input": "2021-06-09T11:35:45.414456Z",
     "iopub.status.busy": "2021-06-09T11:35:45.414176Z",
     "iopub.status.idle": "2021-06-09T11:36:43.406963Z",
     "shell.execute_reply": "2021-06-09T11:36:43.405896Z",
     "shell.execute_reply.started": "2021-06-09T11:35:45.414402Z"
    },
    "tags": []
   },
   "outputs": [],
   "source": [
    "resolutions = [128, 256,512, 1024,2048]\n",
    "\n",
    "image_collection = []\n",
    "\n",
    "for resolution in resolutions:\n",
    "    print(f\"RESOLUTION: {resolution} x {resolution} pixels\")\n",
    "    image_collection.append(get_one_image(test_data,resolution=resolution))"
   ]
  },
  {
   "cell_type": "code",
   "execution_count": null,
   "id": "e004eb17-6b43-4ba9-a77d-2a0c55c26d12",
   "metadata": {
    "execution": {
     "iopub.execute_input": "2021-06-09T16:04:17.091716Z",
     "iopub.status.busy": "2021-06-09T16:04:17.091484Z",
     "iopub.status.idle": "2021-06-09T16:04:17.097047Z",
     "shell.execute_reply": "2021-06-09T16:04:17.096399Z",
     "shell.execute_reply.started": "2021-06-09T16:04:17.091694Z"
    },
    "tags": []
   },
   "outputs": [],
   "source": [
    "def train_test_geographic_split(data:pd.DataFrame) -> pd.DataFrame:\n",
    "    \n",
    "    wind_data = data.copy()\n",
    "    \n",
    "    nb_long = wind_data.longitude.unique().shape[0]\n",
    "    nb_lat = wind_data.latitude.unique().shape[0]\n",
    "\n",
    "    nb_test_long = int(nb_long*.4)\n",
    "    nb_test_lat = int(nb_lat*.4)\n",
    "\n",
    "    test_lat = np.sort(wind_data.latitude.unique())[:nb_test_lat]\n",
    "    test_long = np.sort(wind_data.longitude.unique())[:nb_test_long]\n",
    "\n",
    "    wind_data['folder']='training'\n",
    "\n",
    "    for vlat in test_lat:\n",
    "        for vlong in test_long:\n",
    "            wind_data.loc[(wind_data.latitude == vlat) & (wind_data.longitude==vlong),'folder']='testing'\n",
    "            \n",
    "    val = wind_data[wind_data.folder=='testing'].sample(frac=0.3)\n",
    "    wind_data.loc[~val,'folder'] = 'validating'\n",
    "    \n",
    "    return wind_data"
   ]
  },
  {
   "cell_type": "code",
   "execution_count": null,
   "id": "8ee5f924-c8db-4c7a-b90d-5f5bd59ddd95",
   "metadata": {
    "execution": {
     "iopub.execute_input": "2021-06-09T16:04:19.804457Z",
     "iopub.status.busy": "2021-06-09T16:04:19.804241Z",
     "iopub.status.idle": "2021-06-09T16:04:19.901814Z",
     "shell.execute_reply": "2021-06-09T16:04:19.900805Z",
     "shell.execute_reply.started": "2021-06-09T16:04:19.804435Z"
    },
    "tags": []
   },
   "outputs": [],
   "source": [
    "df = prep_data('../raw_data/practice_wind_dataset.nc')\n",
    "train_test_geographic_split(df)"
   ]
  },
  {
   "cell_type": "code",
   "execution_count": null,
   "id": "ce6f5b27-d457-4b37-ab0d-15d974ec707b",
   "metadata": {
    "execution": {
     "iopub.execute_input": "2021-06-09T15:55:21.120332Z",
     "iopub.status.busy": "2021-06-09T15:55:21.120110Z",
     "iopub.status.idle": "2021-06-09T15:55:21.185019Z",
     "shell.execute_reply": "2021-06-09T15:55:21.184309Z",
     "shell.execute_reply.started": "2021-06-09T15:55:21.120304Z"
    },
    "tags": []
   },
   "outputs": [],
   "source": [
    "df2 = train_test_geographic_split(df)\n",
    "df2"
   ]
  },
  {
   "cell_type": "code",
   "execution_count": null,
   "id": "197f9347-f43b-4da8-8f5e-096dfc6e6a1f",
   "metadata": {
    "execution": {
     "iopub.execute_input": "2021-06-09T15:55:24.980776Z",
     "iopub.status.busy": "2021-06-09T15:55:24.980572Z",
     "iopub.status.idle": "2021-06-09T15:55:24.984849Z",
     "shell.execute_reply": "2021-06-09T15:55:24.984206Z",
     "shell.execute_reply.started": "2021-06-09T15:55:24.980753Z"
    },
    "tags": []
   },
   "outputs": [],
   "source": [
    "df2.folder.unique()"
   ]
  },
  {
   "cell_type": "code",
   "execution_count": null,
   "id": "f4531b62-fda4-4745-acc8-e404ece1fb9d",
   "metadata": {
    "execution": {
     "iopub.execute_input": "2021-06-09T10:46:41.167282Z",
     "iopub.status.busy": "2021-06-09T10:46:41.167039Z",
     "iopub.status.idle": "2021-06-09T10:46:41.242294Z",
     "shell.execute_reply": "2021-06-09T10:46:41.241689Z",
     "shell.execute_reply.started": "2021-06-09T10:46:41.167256Z"
    },
    "tags": []
   },
   "outputs": [],
   "source": [
    "nb_long = wind_data.longitude.unique().shape[0]\n",
    "nb_lat = wind_data.latitude.unique().shape[0]\n",
    "\n",
    "nb_test_long = int(nb_long*.4)\n",
    "nb_test_lat = int(nb_lat*.4)\n",
    "\n",
    "test_lat = np.sort(wind_data.latitude.unique())[:nb_test_lat]\n",
    "test_long = np.sort(wind_data.longitude.unique())[:nb_test_long]\n",
    "\n",
    "test_validate_df = pd.DataFrame()\n",
    "\n",
    "for vlat in test_lat:\n",
    "    for vlong in test_long:\n",
    "        test_validate_df = pd.concat([test_validate_df,wind_data[(wind_data.latitude == vlat) & (wind_data.longitude==vlong)]])\n"
   ]
  },
  {
   "cell_type": "code",
   "execution_count": null,
   "id": "563557f4-f512-4a39-ba8f-286a3f527add",
   "metadata": {
    "execution": {
     "iopub.execute_input": "2021-06-09T10:59:44.204271Z",
     "iopub.status.busy": "2021-06-09T10:59:44.204064Z",
     "iopub.status.idle": "2021-06-09T10:59:44.278510Z",
     "shell.execute_reply": "2021-06-09T10:59:44.277809Z",
     "shell.execute_reply.started": "2021-06-09T10:59:44.204249Z"
    },
    "tags": []
   },
   "outputs": [],
   "source": [
    "test, validate = train_test_geographic_split(wind_data)"
   ]
  },
  {
   "cell_type": "code",
   "execution_count": null,
   "id": "13e73a58-5f32-43ef-976a-c8e2fece1c68",
   "metadata": {
    "execution": {
     "iopub.execute_input": "2021-06-09T11:23:09.911680Z",
     "iopub.status.busy": "2021-06-09T11:23:09.911479Z",
     "iopub.status.idle": "2021-06-09T11:23:09.924572Z",
     "shell.execute_reply": "2021-06-09T11:23:09.923967Z",
     "shell.execute_reply.started": "2021-06-09T11:23:09.911659Z"
    },
    "tags": []
   },
   "outputs": [],
   "source": [
    "validate"
   ]
  },
  {
   "cell_type": "code",
   "execution_count": null,
   "id": "2e1e8003-1ff5-40bd-832f-8a87a14e41ea",
   "metadata": {
    "execution": {
     "iopub.execute_input": "2021-06-09T13:00:52.715972Z",
     "iopub.status.busy": "2021-06-09T13:00:52.715668Z",
     "iopub.status.idle": "2021-06-09T13:00:52.732141Z",
     "shell.execute_reply": "2021-06-09T13:00:52.731503Z",
     "shell.execute_reply.started": "2021-06-09T13:00:52.715942Z"
    }
   },
   "outputs": [],
   "source": [
    "white_sand_values"
   ]
  },
  {
   "cell_type": "code",
   "execution_count": null,
   "id": "9378d2a4-3976-4b2b-9dbe-9356ea2900ff",
   "metadata": {
    "execution": {
     "iopub.execute_input": "2021-06-09T13:42:23.322000Z",
     "iopub.status.busy": "2021-06-09T13:42:23.321773Z",
     "iopub.status.idle": "2021-06-09T13:42:23.326523Z",
     "shell.execute_reply": "2021-06-09T13:42:23.325585Z",
     "shell.execute_reply.started": "2021-06-09T13:42:23.321979Z"
    },
    "tags": []
   },
   "outputs": [],
   "source": [
    "feature = 'CLOUDY_PIXEL_PERCENTAGE'\n",
    "\n",
    "print(white_sand_values['properties'][feature])\n",
    "print(arabian_sand_values['properties'][feature])\n",
    "print(namib_desert_values['properties'][feature])"
   ]
  },
  {
   "cell_type": "code",
   "execution_count": null,
   "id": "023c455f-a906-49a6-a0a5-2f323efd3042",
   "metadata": {
    "execution": {
     "iopub.execute_input": "2021-06-09T13:42:31.080403Z",
     "iopub.status.busy": "2021-06-09T13:42:31.080197Z",
     "iopub.status.idle": "2021-06-09T13:42:31.083924Z",
     "shell.execute_reply": "2021-06-09T13:42:31.083235Z",
     "shell.execute_reply.started": "2021-06-09T13:42:31.080381Z"
    },
    "tags": []
   },
   "outputs": [],
   "source": [
    "feature = 'HIGH_PROBA_CLOUDS_PERCENTAGE'\n",
    "\n",
    "print(white_sand_values['properties'][feature])\n",
    "print(arabian_sand_values['properties'][feature])\n",
    "print(namib_desert_values['properties'][feature])"
   ]
  },
  {
   "cell_type": "code",
   "execution_count": null,
   "id": "e7ef44e9-692f-4b5d-8a3a-cb9129c193b9",
   "metadata": {},
   "outputs": [],
   "source": [
    "'DARK_FEATURES_PERCENTAGE'\n",
    "'SOLAR_IRRADIANCE_B9': 817.58,\n",
    "'SOLAR_IRRADIANCE_B3': 1824.93,\n",
    "    'SOLAR_IRRADIANCE_B12': 87.75,\n",
    "  'SOLAR_IRRADIANCE_B10': 365.41,\n",
    "  'SENSOR_QUALITY': 'PASSED',\n",
    "  'SOLAR_IRRADIANCE_B11': 247.08,\n",
    "  'GENERATION_TIME': 1544905108000,\n",
    "  'SOLAR_IRRADIANCE_B8A': 953.93,\n",
    "    'THIN_CIRRUS_PERCENTAGE': 25.026366,\n",
    "        'SNOW_ICE_PERCENTAGE': 0.006193,\n",
    "            'HIGH_PROBA_CLOUDS_PERCENTAGE': 16.185379,"
   ]
  },
  {
   "cell_type": "code",
   "execution_count": null,
   "id": "f498ac74",
   "metadata": {
    "ExecuteTime": {
     "end_time": "2021-06-10T12:10:54.078229Z",
     "start_time": "2021-06-10T12:10:54.064009Z"
    }
   },
   "outputs": [],
   "source": [
    "df = pd.read_csv('../raw_data/lists/dunes.csv')\n",
    "df"
   ]
  },
  {
   "cell_type": "code",
   "execution_count": null,
   "id": "6a82e476",
   "metadata": {
    "ExecuteTime": {
     "end_time": "2021-06-10T12:10:58.267844Z",
     "start_time": "2021-06-10T12:10:58.263540Z"
    }
   },
   "outputs": [],
   "source": [
    "df.iloc[0,:].region"
   ]
  },
  {
   "cell_type": "code",
   "execution_count": null,
   "id": "c44549ab",
   "metadata": {
    "ExecuteTime": {
     "end_time": "2021-06-10T15:57:47.935236Z",
     "start_time": "2021-06-10T15:57:47.931281Z"
    }
   },
   "outputs": [],
   "source": [
    "'-25.208000564575194_15.001249694824219_04_CW000_-0.07344180345535278_0.8557981848716736_2.4399986267089844.jpg'\n",
    "'-22.958000564575194_15.951750373840332_03_CW000_0.025373805314302444_-0.026895670220255852_1.3076690435409546'\n",
    "'40.80500183105469_102.6050018310547_04_CW000_0.31416749954223633_0.4041779935359955_1.3764691352844238'\n",
    "'-24.22500076293945_14.995000457763672_03_CW0'\n",
    "'40.605001831054686_102.3550018310547_01_CW000_0.24751798808574677_0.2894478142261505_1.1759923696517944'"
   ]
  },
  {
   "cell_type": "code",
   "execution_count": null,
   "id": "bf315777",
   "metadata": {
    "ExecuteTime": {
     "end_time": "2021-06-11T04:15:53.845800Z",
     "start_time": "2021-06-11T04:15:48.828306Z"
    }
   },
   "outputs": [],
   "source": [
    "'Fetching -24.425000762939455/15.295000457763672'\n",
    "lat = 27.99900093078613\n",
    "long = 24.292499923706053\n",
    "\n",
    "ee.Initialize()\n",
    "resolution = 512\n",
    "    \n",
    "area = [(long-0.025,lat-0.025),\n",
    "            (long+0.025,lat+0.025)]\n",
    "        \n",
    "roi = ee.Geometry.Rectangle(coords=area)\n",
    "\n",
    "    \n",
    "vis_params = {'bands': [ 'B4','B3','B2'],\n",
    "                  'min': 0,\n",
    "                  'max': 10000,\n",
    "                  'gamma': 1.4}\n",
    "           \n",
    "collection = ee.ImageCollection('COPERNICUS/S2_SR') \\\n",
    "                .filterBounds(roi) \\\n",
    "                .filter('HIGH_PROBA_CLOUDS_PERCENTAGE < 1') \\\n",
    "                .filter('NODATA_PIXEL_PERCENTAGE < 5') \\\n",
    "                .filter('DEGRADED_MSI_DATA_PERCENTAGE == 0') \\\n",
    "                .filter('SATURATED_DEFECTIVE_PIXEL_PERCENTAGE == 0') \\\n",
    "                .filter('DARK_FEATURES_PERCENTAGE < 5') \\\n",
    "                .limit(10)\n",
    "\n",
    "image = collection.first()\n",
    "\n",
    "out_img = os.path.expanduser(f\"../raw_data/practice_dataset/test.jpg\")\n",
    "\n",
    "try:\n",
    "    geemap.get_image_thumbnail(image, out_img,vis_params,dimensions=(resolution, resolution),region=roi, format='jpg')\n",
    "except:\n",
    "    print(\"Cannot fetch image from Sentinel, attempting to fet from Landsat\")\n",
    "    collection = ee.ImageCollection('LANDSAT/LC08/C01/T1_SR') \\\n",
    "                .filterBounds(roi) \\\n",
    "                .filter('CLOUD_COVER < 1') \\\n",
    "                .filter('CLOUD_COVER_LAND < 1') \\\n",
    "                .limit(10)\n",
    "    image = collection.first()\n",
    "    try:\n",
    "        geemap.get_image_thumbnail(image, out_img,vis_params,dimensions=(resolution, resolution),region=roi, format='jpg')\n",
    "    except:\n",
    "        print(\"Cannot fetch image from either satellites (30 meters resolution)\")\n",
    "\n",
    "im = cv2.imread(out_img)\n",
    "\n",
    "tot_pix = im.shape[0]*im.shape[1]*im.shape[2]\n",
    "missing_pix = im[np.where(im == 0)].shape[0]\n",
    "\n",
    "if missing_pix/tot_pix > 0.05:\n",
    "    print(\"Too much information missing from picture, trying to fetch from Landsat 8\")\n",
    "    collection = ee.ImageCollection('LANDSAT/LC08/C01/T1_SR') \\\n",
    "                .filterBounds(roi) \\\n",
    "                .filter('CLOUD_COVER < 1') \\\n",
    "                .filter('CLOUD_COVER_LAND < 1') \\\n",
    "                .limit(10)\n",
    "    image = collection.first()\n",
    "    try:\n",
    "        geemap.get_image_thumbnail(image, out_img,vis_params,dimensions=(resolution, resolution),region=roi, format='jpg')\n",
    "    except:\n",
    "        print(\"Cannot fetch image from Landstat 8\")\n",
    "geemap.show_image(out_img)\n",
    "    \n"
   ]
  },
  {
   "cell_type": "code",
   "execution_count": null,
   "id": "ce16b27c",
   "metadata": {
    "ExecuteTime": {
     "end_time": "2021-06-11T04:24:07.612274Z",
     "start_time": "2021-06-11T04:24:07.598997Z"
    }
   },
   "outputs": [],
   "source": [
    "file_ = '29.74900093078613_25.2427001953125_02_CW000_-0.03601320460438728_-0.6826015710830688_1.9123581647872925.jpg'\n",
    "im = cv2.imread(f'../raw_data/images/training/dunes/{file_}')\n",
    "tot_pix = im.shape[0]*im.shape[1]*im.shape[2]\n",
    "missing_pix = im[np.where(im == 0)].shape[0]\n",
    "missing_pix/tot_pix"
   ]
  },
  {
   "cell_type": "code",
   "execution_count": null,
   "id": "7f35b6a6",
   "metadata": {
    "ExecuteTime": {
     "end_time": "2021-06-11T04:37:16.271383Z",
     "start_time": "2021-06-11T04:37:16.267245Z"
    }
   },
   "outputs": [],
   "source": [
    "import datetime\n",
    "datetime.datetime.now().strftime(\"%d-%b-%Y-%H:%M:%S.%f\")"
   ]
  },
  {
   "cell_type": "code",
   "execution_count": null,
   "id": "0d4b3f72",
   "metadata": {
    "ExecuteTime": {
     "end_time": "2021-06-11T04:50:56.461897Z",
     "start_time": "2021-06-11T04:50:56.454220Z"
    }
   },
   "outputs": [],
   "source": [
    "d = {\"time\":[],\n",
    "    \"region\":[],\n",
    "    \"image_latitude\":[],\n",
    "    \"imge_longitude\":[],\n",
    "     \"SENTINEL_available\":[],\n",
    "     \"SENTINEL_complete\":[],\n",
    "     \"LANDSAT_available\":[],\n",
    "     \"LANDSAT_complete\":[],\n",
    "     \"file_name\":[]\n",
    "    }\n",
    "pd.DataFrame.from_dict(d)"
   ]
  },
  {
   "cell_type": "code",
   "execution_count": null,
   "id": "fc0ce9a2",
   "metadata": {
    "ExecuteTime": {
     "end_time": "2021-06-10T17:38:05.919896Z",
     "start_time": "2021-06-10T17:38:05.911663Z"
    }
   },
   "outputs": [],
   "source": [
    "def train_test_geographic_split(data:pd.DataFrame) -> pd.DataFrame:\n",
    "        wind_data = data.copy()\n",
    "        nb_long = wind_data.longitude.unique().shape[0]\n",
    "        nb_lat = wind_data.latitude.unique().shape[0]\n",
    "        nb_test_long = 0\n",
    "        nb_test_lat = 0\n",
    "        \n",
    "        while nb_test_long * nb_test_lat < wind_data.shape[0]*.3:\n",
    "            nb_test_long += 1\n",
    "            if (nb_test_long * nb_test_lat < wind_data.shape[0]*.3):\n",
    "                nb_test_lat += 1\n",
    "        \n",
    "\n",
    "        test_lat = np.sort(wind_data.latitude.unique())[:nb_test_lat]\n",
    "        test_long = np.sort(wind_data.longitude.unique())[:nb_test_long]\n",
    "        wind_data.loc[:,'image_type']='dunes'\n",
    "        wind_data.loc[:,'folder']='training'\n",
    "        \n",
    "        \n",
    "        train_data = wind_data.copy()\n",
    "        test_val_data = pd.DataFrame()\n",
    "\n",
    "        for vlat in test_lat:\n",
    "            for vlong in test_long:\n",
    "                filter_ = ((train_data.latitude == vlat) & (train_data.longitude==vlong))\n",
    "                test_val_data=pd.concat([test_val_data, train_data[filter_]])\n",
    "                train_data =train_data[~filter_].copy()\n",
    "        \n",
    "        test_val_data.loc[:,'folder']='testing' \n",
    "        \n",
    "        if (nb_test_long*nb_test_lat<3):\n",
    "            print(f'Grid is too small to split: {nb_lat} x {nb_long}. Returning training and testing data only.')\n",
    "            return pd.concat([train_data,test_val_data])\n",
    "          \n",
    "        test_data, val_data = train_test_split(test_val_data, test_size=0.3)   \n",
    "        test_data.loc[:,'folder']='testing'\n",
    "        val_data.loc[:,'folder']='validation'\n",
    "\n",
    "        return pd.concat([train_data,test_data,val_data])"
   ]
  },
  {
   "cell_type": "code",
   "execution_count": null,
   "id": "e600bf3b",
   "metadata": {
    "ExecuteTime": {
     "end_time": "2021-06-10T17:44:27.336559Z",
     "start_time": "2021-06-10T17:44:27.196179Z"
    }
   },
   "outputs": [],
   "source": [
    "fn = '../raw_data/wind/4.nc'\n",
    "dat = prep_data(fn)\n",
    "dat = train_test_geographic_split(dat)"
   ]
  },
  {
   "cell_type": "code",
   "execution_count": null,
   "id": "2ea15134",
   "metadata": {
    "ExecuteTime": {
     "end_time": "2021-06-10T17:44:31.550965Z",
     "start_time": "2021-06-10T17:44:31.545318Z"
    }
   },
   "outputs": [],
   "source": [
    "dat.folder.value_counts()"
   ]
  },
  {
   "cell_type": "code",
   "execution_count": null,
   "id": "26aa57bb",
   "metadata": {
    "ExecuteTime": {
     "end_time": "2021-06-10T17:44:53.362413Z",
     "start_time": "2021-06-10T17:44:53.358430Z"
    }
   },
   "outputs": [],
   "source": [
    "112/(112+39+17)"
   ]
  },
  {
   "cell_type": "code",
   "execution_count": null,
   "id": "b69b01d1",
   "metadata": {
    "ExecuteTime": {
     "end_time": "2021-06-10T17:39:18.976234Z",
     "start_time": "2021-06-10T17:39:18.972681Z"
    }
   },
   "outputs": [],
   "source": [
    "11/4"
   ]
  },
  {
   "cell_type": "code",
   "execution_count": null,
   "id": "ba4af726",
   "metadata": {
    "ExecuteTime": {
     "end_time": "2021-06-10T17:49:57.377716Z",
     "start_time": "2021-06-10T17:49:57.362008Z"
    }
   },
   "outputs": [],
   "source": [
    "data = pd.read_csv('../raw_data/lists/dunes.csv')\n",
    "data"
   ]
  },
  {
   "cell_type": "code",
   "execution_count": null,
   "id": "dc9831d7",
   "metadata": {
    "ExecuteTime": {
     "end_time": "2021-06-10T17:53:32.212393Z",
     "start_time": "2021-06-10T17:53:32.195265Z"
    }
   },
   "outputs": [],
   "source": [
    "data['lat_diff'] = (np.abs(data.north - data.south)/0.1).astype(int)\n",
    "data['long_diff'] = (np.abs(data.west - data.east)/0.1).astype(int)\n",
    "data['nb_cells']= data['lat_diff']*data['long_diff']\n",
    "data"
   ]
  },
  {
   "cell_type": "code",
   "execution_count": null,
   "id": "879ac213",
   "metadata": {
    "ExecuteTime": {
     "end_time": "2021-06-10T18:06:00.027545Z",
     "start_time": "2021-06-10T18:06:00.022449Z"
    }
   },
   "outputs": [],
   "source": [
    "nmp = 3\n",
    "nb_photos = data.nb_cells.sum()*nmp**2\n",
    "print(f'Total:{nb_photos}')\n",
    "print(f'Train:{nb_photos*.6}')\n",
    "print(f'Test:{nb_photos*.4*.7}')\n",
    "print(f'Val:{nb_photos*.4*.3}')\n",
    "print(f'Train_augmented:{nb_photos*.6*4} at a size of {.1/nmp*40000/360} km')"
   ]
  },
  {
   "cell_type": "code",
   "execution_count": null,
   "id": "5cbfd1f7",
   "metadata": {
    "ExecuteTime": {
     "end_time": "2021-06-10T18:06:03.039664Z",
     "start_time": "2021-06-10T18:06:03.035776Z"
    }
   },
   "outputs": [],
   "source": [
    "px_res = (.1/nmp*40000/360*1000)/512\n",
    "px_res"
   ]
  },
  {
   "cell_type": "code",
   "execution_count": null,
   "id": "217840a7",
   "metadata": {
    "ExecuteTime": {
     "end_time": "2021-06-11T10:25:21.614687Z",
     "start_time": "2021-06-11T10:25:21.590850Z"
    }
   },
   "outputs": [],
   "source": [
    "pd.read_csv('../raw_data/logs/11-Jun-2021-11-16-28.csv')"
   ]
  },
  {
   "cell_type": "code",
   "execution_count": null,
   "id": "fcd584f1",
   "metadata": {
    "ExecuteTime": {
     "end_time": "2021-06-11T06:54:35.023589Z",
     "start_time": "2021-06-11T06:54:35.011214Z"
    }
   },
   "outputs": [],
   "source": [
    "\n",
    "pd.DataFrame(columns=[\"time\",\"image_latitude\",\"image_longitude\",\"SENTINEL_available\",\n",
    "              \"SENTINEL_complete\",\"LANDSAT_available\",\n",
    "              \"LANDSAT_complete\",\"file_name\"]).to_csv('test.csv')"
   ]
  },
  {
   "cell_type": "code",
   "execution_count": null,
   "id": "5ab97b6a",
   "metadata": {
    "ExecuteTime": {
     "end_time": "2021-06-11T06:54:37.493265Z",
     "start_time": "2021-06-11T06:54:37.482265Z"
    }
   },
   "outputs": [],
   "source": [
    "pd.read_csv('test.csv')"
   ]
  },
  {
   "cell_type": "code",
   "execution_count": null,
   "id": "5bb66563",
   "metadata": {
    "ExecuteTime": {
     "end_time": "2021-06-11T06:56:13.388622Z",
     "start_time": "2021-06-11T06:56:13.365326Z"
    }
   },
   "outputs": [],
   "source": [
    "d = {\"time\":[datetime.datetime.now().strftime(\"%d-%b-%Y-%H:%M:%S.%f\")],\n",
    "            \"image_latitude\":[1],\n",
    "            \"image_longitude\":[1],\n",
    "            \"SENTINEL_available\":[1],\n",
    "            \"SENTINEL_complete\":['no'],\n",
    "            \"LANDSAT_available\":['no'],\n",
    "            \"LANDSAT_complete\":['no'],\n",
    "            \"file_name\":['no']\n",
    "        }\n",
    "pd.concat([pd.DataFrame.from_dict(d),\n",
    "                               pd.read_csv('test.csv')])"
   ]
  },
  {
   "cell_type": "code",
   "execution_count": null,
   "id": "5e5a74fb",
   "metadata": {
    "ExecuteTime": {
     "end_time": "2021-06-11T10:06:57.426832Z",
     "start_time": "2021-06-11T10:06:57.419884Z"
    }
   },
   "outputs": [],
   "source": [
    "import cv2\n",
    "import numpy as np\n",
    "# from matplotlib import pyplot as plt\n",
    "\n",
    "# Automatic brightness and contrast optimization with optional histogram clipping\n",
    "def automatic_brightness_and_contrast(image, clip_hist_percent=25):\n",
    "    gray = cv2.cvtColor(image, cv2.COLOR_BGR2GRAY)\n",
    "\n",
    "    # Calculate grayscale histogram\n",
    "    hist = cv2.calcHist([gray],[0],None,[256],[0,256])\n",
    "    hist_size = len(hist)\n",
    "\n",
    "    # Calculate cumulative distribution from the histogram\n",
    "    accumulator = []\n",
    "    accumulator.append(float(hist[0]))\n",
    "    for index in range(1, hist_size):\n",
    "        accumulator.append(accumulator[index -1] + float(hist[index]))\n",
    "\n",
    "    # Locate points to clip\n",
    "    maximum = accumulator[-1]\n",
    "    clip_hist_percent *= (maximum/100.0)\n",
    "    clip_hist_percent /= 4.0\n",
    "\n",
    "    # Locate left cut\n",
    "    minimum_gray = 0\n",
    "    while accumulator[minimum_gray] < clip_hist_percent:\n",
    "        minimum_gray += 1\n",
    "\n",
    "    # Locate right cut\n",
    "    maximum_gray = hist_size -1\n",
    "    while accumulator[maximum_gray] >= (maximum - clip_hist_percent):\n",
    "        maximum_gray -= 1\n",
    "\n",
    "    # Calculate alpha and beta values\n",
    "    alpha = 255 / (maximum_gray - minimum_gray)\n",
    "    beta = -minimum_gray * alpha\n",
    "\n",
    "    '''\n",
    "    # Calculate new histogram with desired range and show histogram \n",
    "    new_hist = cv2.calcHist([gray],[0],None,[256],[minimum_gray,maximum_gray])\n",
    "    plt.plot(hist)\n",
    "    plt.plot(new_hist)\n",
    "    plt.xlim([0,256])\n",
    "    plt.show()\n",
    "    '''\n",
    "\n",
    "    auto_result = cv2.convertScaleAbs(image, alpha=alpha, beta=beta)\n",
    "    return (auto_result, alpha, beta)"
   ]
  },
  {
   "cell_type": "code",
   "execution_count": null,
   "id": "ddda481a",
   "metadata": {
    "ExecuteTime": {
     "end_time": "2021-06-11T10:42:40.339211Z",
     "start_time": "2021-06-11T10:42:40.337242Z"
    }
   },
   "outputs": [],
   "source": [
    "fn1='../raw_data/images/training/no_dunes/21.429000473022462_17.773750686645506_04_CW000_-0.8940587043762207_-0.0577491857111454_1.2933330535888672.jpg'"
   ]
  },
  {
   "cell_type": "code",
   "execution_count": null,
   "id": "ad070be1",
   "metadata": {
    "ExecuteTime": {
     "end_time": "2021-06-11T10:42:42.654080Z",
     "start_time": "2021-06-11T10:42:42.650046Z"
    }
   },
   "outputs": [],
   "source": [
    "os.path.exists(fn1)"
   ]
  },
  {
   "cell_type": "code",
   "execution_count": null,
   "id": "c9a3990a",
   "metadata": {
    "ExecuteTime": {
     "end_time": "2021-06-11T10:04:42.581679Z",
     "start_time": "2021-06-11T10:04:42.579320Z"
    }
   },
   "outputs": [],
   "source": [
    "fn2 = '20.47900047302246_17.773750686645506_01_CW000_-0.7069132924079895_-0.2963283061981201_0.9895244240760803.jpg'"
   ]
  },
  {
   "cell_type": "code",
   "execution_count": null,
   "id": "710d49db",
   "metadata": {
    "ExecuteTime": {
     "end_time": "2021-06-11T10:07:00.126221Z",
     "start_time": "2021-06-11T10:07:00.108223Z"
    }
   },
   "outputs": [],
   "source": [
    "folder = '../raw_data/images/training/no_dunes/'\n",
    "path = f'{folder}{fn1}'\n",
    "image = cv2.imread(path)\n",
    "auto_result, alpha, beta = automatic_brightness_and_contrast(image)\n",
    "print('alpha', alpha)\n",
    "print('beta', beta)\n",
    "cv2.imwrite(f'{folder}auto_result.png', auto_result)\n",
    "#geemap.show_image(f'{folder}auto_result.png')"
   ]
  },
  {
   "cell_type": "markdown",
   "id": "41a05571",
   "metadata": {},
   "source": [
    "# Code to test the vertical flipping of an image"
   ]
  },
  {
   "cell_type": "code",
   "execution_count": 20,
   "id": "25860751",
   "metadata": {
    "ExecuteTime": {
     "end_time": "2021-07-02T12:39:46.402510Z",
     "start_time": "2021-07-02T12:39:46.399257Z"
    }
   },
   "outputs": [],
   "source": [
    "import cv2\n",
    "import matplotlib.pyplot as plt\n",
    "import math\n",
    "from marswinds.utils import radian_to_degree, degree_to_radian, encode_angle, decode_angle\n",
    "import numpy as np\n",
    "\n",
    "\n",
    "image_name = '21.167500305175782_52.422499084472655_020_CW000_-0.5686831474304199_-0.4207611083984375_1.706290364265442.jpg'\n",
    "folder_name = '../raw_data/practice_dataset'\n",
    "path =f'{folder_name}/{image_name}'"
   ]
  },
  {
   "cell_type": "code",
   "execution_count": 15,
   "id": "960e2eda",
   "metadata": {
    "ExecuteTime": {
     "end_time": "2021-07-02T12:34:45.322803Z",
     "start_time": "2021-07-02T12:34:45.312416Z"
    }
   },
   "outputs": [],
   "source": [
    "def plot_image(folder_name='training',image_type='dunes', image_name=None, ax=None):\n",
    "    \n",
    "    if ax == None:\n",
    "        fig, ax = plt.subplots(1,1,figsize=(4,4))\n",
    "        \n",
    "    folder_path = f'../images/{folder_name}/{image_type}'\n",
    "    if image_name == None:\n",
    "        image_name = random.choice(os.listdir(folder_path))\n",
    "        path = f'{folder_path}/{image_name}'\n",
    "    else:\n",
    "        path = f'{folder_name}/{image_name}'\n",
    "        \n",
    "        \n",
    "    data = image_name.split('_')\n",
    "    wind_strength = float(data[-1].split('.')[0])\n",
    "    original_sin = float(data[-3])\n",
    "    original_cos = float(data[-2])\n",
    "    original_angle = math.atan2(original_sin, original_cos)\n",
    "    original_angle = radian_to_degree(original_angle)\n",
    "    arrow_length = 64 \n",
    "    if original_angle < 0: original_angle += 360\n",
    "    \n",
    "    if (original_angle<=90):\n",
    "        arr_angle = degree_to_radian(original_angle)\n",
    "        adj = np.cos(arr_angle)*arrow_length\n",
    "        op = np.sin(arr_angle)*arrow_length\n",
    "        dx = op*2\n",
    "        dy = -adj*2\n",
    "        tail_x = 128-op\n",
    "        tail_y = adj+128\n",
    "    if (original_angle<=180) & (original_angle>90):\n",
    "        arr_angle = degree_to_radian(original_angle-90)\n",
    "        adj = np.cos(arr_angle)*arrow_length\n",
    "        op = np.sin(arr_angle)*arrow_length\n",
    "        dx = adj*2\n",
    "        dy = op*2\n",
    "        tail_x = 128-adj\n",
    "        tail_y = 128-op\n",
    "    if (original_angle<=270) & (original_angle>180):\n",
    "        arr_angle = degree_to_radian(original_angle-180)\n",
    "        adj = np.cos(arr_angle)*arrow_length\n",
    "        op = np.sin(arr_angle)*arrow_length\n",
    "        dx = -op*2\n",
    "        dy = adj*2\n",
    "        tail_x = 128+op\n",
    "        tail_y = 128-adj\n",
    "    if (original_angle<=360) & (original_angle>270):\n",
    "        arr_angle = degree_to_radian(original_angle-270)\n",
    "        adj = np.cos(arr_angle)*arrow_length\n",
    "        op = np.sin(arr_angle)*arrow_length\n",
    "        dx = -adj*2\n",
    "        dy = -op*2\n",
    "        tail_x = 128+adj\n",
    "        tail_y = 128+op\n",
    "    print(path)\n",
    "    img = cv2.imread(path)\n",
    "\n",
    "    ax.imshow(img, cmap='Greys')\n",
    "    ax.arrow(tail_x,tail_y,dx,dy,color='r',\n",
    "         length_includes_head=True,\n",
    "         width=wind_strength*5,\n",
    "        alpha=.3)\n",
    "    \n",
    "    ax.tick_params(\n",
    "        axis='x',          # changes apply to the x-axis\n",
    "        which='both',      # both major and minor ticks are affected\n",
    "        bottom=False,      # ticks along the bottom edge are off\n",
    "        top=False,         # ticks along the top edge are off\n",
    "        labelbottom=False) # labels along the bottom edge are off\n",
    "    \n",
    "    ax.tick_params(\n",
    "        axis='y',          # changes apply to the x-axis\n",
    "        which='both',      # both major and minor ticks are affected\n",
    "        left=False,      # ticks along the bottom edge are off\n",
    "        right=False,         # ticks along the top edge are off\n",
    "        labelleft=False) # labels along the bottom edge are off\n",
    "    \n",
    "    return ax"
   ]
  },
  {
   "cell_type": "code",
   "execution_count": 18,
   "id": "4040d25c",
   "metadata": {
    "ExecuteTime": {
     "end_time": "2021-07-02T12:35:31.493954Z",
     "start_time": "2021-07-02T12:35:31.352741Z"
    }
   },
   "outputs": [
    {
     "name": "stdout",
     "output_type": "stream",
     "text": [
      "../raw_data/practice_dataset/21.167500305175782_52.422499084472655_020_CW000_-0.5686831474304199_-0.4207611083984375_1.706290364265442.jpg\n"
     ]
    },
    {
     "data": {
      "text/plain": [
       "<AxesSubplot:>"
      ]
     },
     "execution_count": 18,
     "metadata": {},
     "output_type": "execute_result"
    },
    {
     "data": {
      "image/png": "[encoded data removed]",
      "text/plain": [
       "<Figure size 288x288 with 1 Axes>"
      ]
     },
     "metadata": {},
     "output_type": "display_data"
    }
   ],
   "source": [
    "#im = cv2.imread(path)\n",
    "plot_image(folder_name=folder_name,image_name=image_name)"
   ]
  },
  {
   "cell_type": "code",
   "execution_count": 19,
   "id": "89ba8ee8",
   "metadata": {
    "ExecuteTime": {
     "end_time": "2021-07-02T12:39:16.279442Z",
     "start_time": "2021-07-02T12:39:16.121035Z"
    }
   },
   "outputs": [
    {
     "data": {
      "text/plain": [
       "<matplotlib.image.AxesImage at 0x168359250>"
      ]
     },
     "execution_count": 19,
     "metadata": {},
     "output_type": "execute_result"
    },
    {
     "data": {
      "image/png": "[encoded data removed]",
      "text/plain": [
       "<Figure size 432x288 with 1 Axes>"
      ]
     },
     "metadata": {
      "needs_background": "light"
     },
     "output_type": "display_data"
    }
   ],
   "source": [
    "img = cv2.imread(path)\n",
    "img_flip_lr = cv2.flip(img, 1)\n",
    "plt.imshow(img_flip_lr, cmap='Greys')"
   ]
  },
  {
   "cell_type": "code",
   "execution_count": 25,
   "id": "9a8cdc08",
   "metadata": {
    "ExecuteTime": {
     "end_time": "2021-07-02T12:46:02.130760Z",
     "start_time": "2021-07-02T12:46:02.126987Z"
    }
   },
   "outputs": [
    {
     "data": {
      "text/plain": [
       "233.50275301557173"
      ]
     },
     "execution_count": 25,
     "metadata": {},
     "output_type": "execute_result"
    }
   ],
   "source": [
    "original_angle = decode_angle(image_name)\n",
    "original_angle"
   ]
  },
  {
   "cell_type": "code",
   "execution_count": 26,
   "id": "0620e437",
   "metadata": {
    "ExecuteTime": {
     "end_time": "2021-07-02T12:46:04.233125Z",
     "start_time": "2021-07-02T12:46:04.230712Z"
    }
   },
   "outputs": [],
   "source": [
    "new_angle = 360-original_angle"
   ]
  },
  {
   "cell_type": "code",
   "execution_count": 27,
   "id": "bc4346fb",
   "metadata": {
    "ExecuteTime": {
     "end_time": "2021-07-02T12:46:08.408592Z",
     "start_time": "2021-07-02T12:46:08.405214Z"
    }
   },
   "outputs": [
    {
     "data": {
      "text/plain": [
       "126.49724698442827"
      ]
     },
     "execution_count": 27,
     "metadata": {},
     "output_type": "execute_result"
    }
   ],
   "source": [
    "new_angle"
   ]
  },
  {
   "cell_type": "code",
   "execution_count": 28,
   "id": "56d27386",
   "metadata": {
    "ExecuteTime": {
     "end_time": "2021-07-02T12:53:45.673444Z",
     "start_time": "2021-07-02T12:53:45.654010Z"
    }
   },
   "outputs": [
    {
     "data": {
      "text/plain": [
       "True"
      ]
     },
     "execution_count": 28,
     "metadata": {},
     "output_type": "execute_result"
    }
   ],
   "source": [
    "new_sin, new_cos = encode_angle(new_angle)\n",
    "name_tags = image_name.split('_')\n",
    "name_tags[-5] = f'{name_tags[-5]}F'\n",
    "name_tags[-3] = str(new_sin)\n",
    "name_tags[-2] = str(new_cos)\n",
    "image_label = \"_\".join(name_tags)\n",
    "image_path = f'{folder_name}/{image_label}'\n",
    "cv2.imwrite(image_path,img_flip_lr)"
   ]
  },
  {
   "cell_type": "code",
   "execution_count": 29,
   "id": "8178349e",
   "metadata": {
    "ExecuteTime": {
     "end_time": "2021-07-02T12:54:23.666312Z",
     "start_time": "2021-07-02T12:54:23.524896Z"
    }
   },
   "outputs": [
    {
     "name": "stdout",
     "output_type": "stream",
     "text": [
      "../raw_data/practice_dataset/21.167500305175782_52.422499084472655_020F_CW000_0.8038854404400327_-0.5947841613968335_1.706290364265442.jpg\n"
     ]
    },
    {
     "data": {
      "text/plain": [
       "<AxesSubplot:>"
      ]
     },
     "execution_count": 29,
     "metadata": {},
     "output_type": "execute_result"
    },
    {
     "data": {
      "image/png": "[encoded data removed]",
      "text/plain": [
       "<Figure size 288x288 with 1 Axes>"
      ]
     },
     "metadata": {},
     "output_type": "display_data"
    }
   ],
   "source": [
    "plot_image(folder_name=folder_name,image_name=image_label)"
   ]
  },
  {
   "cell_type": "code",
   "execution_count": null,
   "id": "4b356ec9",
   "metadata": {},
   "outputs": [],
   "source": []
  }
 ],
 "metadata": {
  "kernelspec": {
   "display_name": "marswinds",
   "language": "python",
   "name": "marswinds"
  },
  "language_info": {
   "codemirror_mode": {
    "name": "ipython",
    "version": 3
   },
   "file_extension": ".py",
   "mimetype": "text/x-python",
   "name": "python",
   "nbconvert_exporter": "python",
   "pygments_lexer": "ipython3",
   "version": "3.8.6"
  },
  "toc": {
   "base_numbering": 1,
   "nav_menu": {},
   "number_sections": true,
   "sideBar": true,
   "skip_h1_title": false,
   "title_cell": "Table of Contents",
   "title_sidebar": "Contents",
   "toc_cell": false,
   "toc_position": {},
   "toc_section_display": true,
   "toc_window_display": false
  }
 },
 "nbformat": 4,
 "nbformat_minor": 5
}
