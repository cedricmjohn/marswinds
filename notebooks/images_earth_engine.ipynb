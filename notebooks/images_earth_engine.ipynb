{
 "cells": [
  {
   "cell_type": "code",
   "execution_count": 1,
   "id": "9615be76",
   "metadata": {
    "ExecuteTime": {
     "end_time": "2021-09-01T14:34:00.228549Z",
     "start_time": "2021-09-01T14:33:59.158097Z"
    }
   },
   "outputs": [],
   "source": [
    "import ee\n",
    "import os\n",
    "import geemap\n",
    "import numpy as np "
   ]
  },
  {
   "cell_type": "code",
   "execution_count": 2,
   "id": "8e9cdd7a",
   "metadata": {
    "ExecuteTime": {
     "end_time": "2021-09-01T14:34:12.989942Z",
     "start_time": "2021-09-01T14:34:01.452343Z"
    },
    "scrolled": true
   },
   "outputs": [
    {
     "data": {
      "text/html": [
       "<p>To authorize access needed by Earth Engine, open the following\n",
       "        URL in a web browser and follow the instructions:</p>\n",
       "        <p><a href=https://accounts.google.com/o/oauth2/auth?client_id=517222506229-vsmmajv00ul0bs7p89v5m89qs8eb9359.apps.googleusercontent.com&scope=https%3A%2F%2Fwww.googleapis.com%2Fauth%2Fearthengine+https%3A%2F%2Fwww.googleapis.com%2Fauth%2Fdevstorage.full_control&redirect_uri=urn%3Aietf%3Awg%3Aoauth%3A2.0%3Aoob&response_type=code&code_challenge=9PTc0LyCH0vFBOTInschSbwlNZnr6DHl8ONLHjaXWEY&code_challenge_method=S256>https://accounts.google.com/o/oauth2/auth?client_id=517222506229-vsmmajv00ul0bs7p89v5m89qs8eb9359.apps.googleusercontent.com&scope=https%3A%2F%2Fwww.googleapis.com%2Fauth%2Fearthengine+https%3A%2F%2Fwww.googleapis.com%2Fauth%2Fdevstorage.full_control&redirect_uri=urn%3Aietf%3Awg%3Aoauth%3A2.0%3Aoob&response_type=code&code_challenge=9PTc0LyCH0vFBOTInschSbwlNZnr6DHl8ONLHjaXWEY&code_challenge_method=S256</a></p>\n",
       "        <p>The authorization workflow will generate a code, which you\n",
       "        should paste in the box below</p>\n",
       "        "
      ],
      "text/plain": [
       "<IPython.core.display.HTML object>"
      ]
     },
     "metadata": {},
     "output_type": "display_data"
    },
    {
     "name": "stdout",
     "output_type": "stream",
     "text": [
      "Enter verification code: 4/1AX4XfWjjhEWWcvWYw78JDFI1zlvWuA_2GhDftb5yHsitH2aeviy6vz_P2s8\n",
      "\n",
      "Successfully saved authorization token.\n"
     ]
    }
   ],
   "source": [
    "ee.Authenticate()"
   ]
  },
  {
   "cell_type": "code",
   "execution_count": 3,
   "id": "c2fa3b98",
   "metadata": {
    "ExecuteTime": {
     "end_time": "2021-09-01T14:34:17.575178Z",
     "start_time": "2021-09-01T14:34:14.583512Z"
    }
   },
   "outputs": [],
   "source": [
    "ee.Initialize()"
   ]
  },
  {
   "cell_type": "code",
   "execution_count": 4,
   "id": "15035c57",
   "metadata": {
    "ExecuteTime": {
     "end_time": "2021-09-01T14:34:17.579175Z",
     "start_time": "2021-09-01T14:34:17.577003Z"
    }
   },
   "outputs": [],
   "source": [
    "margin =.1\n",
    "# coords=[54.28, 22.002]\n",
    "coords=[-106.373427, 33.023187]"
   ]
  },
  {
   "cell_type": "code",
   "execution_count": 9,
   "id": "0861ea23",
   "metadata": {
    "ExecuteTime": {
     "end_time": "2021-09-01T14:38:04.363159Z",
     "start_time": "2021-09-01T14:38:04.355507Z"
    }
   },
   "outputs": [],
   "source": [
    "def quadrants(coords, margin, nwse=None):\n",
    "    \n",
    "    if nwse is not None:\n",
    "        ll_long=nwse.get('west')\n",
    "        ll_lat=nwse.get('south')\n",
    "        ur_long=nwse.get('east')\n",
    "        ur_lat=nwse.get('north')\n",
    "        \n",
    "        dims = (int(abs(nwse.get('west')-nwse.get('east')) / 0.025 * 256), \n",
    "                int(abs(nwse.get('north')-nwse.get('south')) / 0.025 * 256))\n",
    "    else:\n",
    "        ll_long=coords[0]-margin\n",
    "        ll_lat=coords[1]-margin\n",
    "        ur_long=coords[0]+margin\n",
    "        ur_lat=coords[1]+margin\n",
    "    \n",
    "        dims = (margin / 0.025 * 256, margin / 0.025 *256)\n",
    "        \n",
    "    bounds = [ll_long, ll_lat, ur_long, ur_lat]\n",
    "    \n",
    "    # 'COPERNICUS/S2_SR'\n",
    "    # 'LANDSAT/LC08/C01/T1_SR'\n",
    "    roi = ee.Geometry.Point(coords)\n",
    "    collection = ee.ImageCollection('COPERNICUS/S2_SR') \\\n",
    "    .filterBounds(roi) \\\n",
    "    .sort(\"CLOUD_COVER\")\\\n",
    "    .limit(1)\n",
    "    \n",
    "    image = collection.first()\n",
    "    quadrant = ee.Geometry.Rectangle(bounds)\n",
    "    \n",
    "    vis_params = {\n",
    "        'bands': ['B4'],\n",
    "#         'bands':['VV'],\n",
    "        'min': 0,\n",
    "        'max': 20000,\n",
    "#         \n",
    "        'palette': ['000000','808080','FFFFFF']};\n",
    "#         'opacity':0.5,\n",
    "#         'gamma': 1.6};\n",
    "    \n",
    "    roi_str = \"_\".join([str(value) for value in bounds])\n",
    "    out_img = os.path.expanduser(f\"~/Downloads/landsat{roi_str}.png\")\n",
    "    region = ee.Geometry.Rectangle(bounds)\n",
    "    #geemap.get_image_thumbnail(image, out_img,vis_params,dimensions=dims,region=region, format='jpg')\n",
    "    geemap.plot_raster(ee_object=image)\n",
    "    geemap.show_image(out_img)\n",
    "    \n",
    "    return out_img"
   ]
  },
  {
   "cell_type": "code",
   "execution_count": 10,
   "id": "88c1f7fb",
   "metadata": {
    "ExecuteTime": {
     "end_time": "2021-09-01T14:38:07.632405Z",
     "start_time": "2021-09-01T14:38:07.620236Z"
    },
    "scrolled": true
   },
   "outputs": [
    {
     "ename": "AttributeError",
     "evalue": "module 'geemap' has no attribute 'plot_raster'",
     "output_type": "error",
     "traceback": [
      "\u001b[0;31m---------------------------------------------------------------------------\u001b[0m",
      "\u001b[0;31mAttributeError\u001b[0m                            Traceback (most recent call last)",
      "\u001b[0;32m<ipython-input-10-e11b44ea8385>\u001b[0m in \u001b[0;36m<module>\u001b[0;34m\u001b[0m\n\u001b[1;32m      4\u001b[0m        'east':-75.595}\n\u001b[1;32m      5\u001b[0m \u001b[0;34m\u001b[0m\u001b[0m\n\u001b[0;32m----> 6\u001b[0;31m \u001b[0mquadrants\u001b[0m\u001b[0;34m(\u001b[0m\u001b[0mcoords\u001b[0m\u001b[0;34m,\u001b[0m \u001b[0mmargin\u001b[0m\u001b[0;34m)\u001b[0m\u001b[0;34m\u001b[0m\u001b[0;34m\u001b[0m\u001b[0m\n\u001b[0m",
      "\u001b[0;32m<ipython-input-9-06f783bc9f78>\u001b[0m in \u001b[0;36mquadrants\u001b[0;34m(coords, margin, nwse)\u001b[0m\n\u001b[1;32m     44\u001b[0m     \u001b[0mregion\u001b[0m \u001b[0;34m=\u001b[0m \u001b[0mee\u001b[0m\u001b[0;34m.\u001b[0m\u001b[0mGeometry\u001b[0m\u001b[0;34m.\u001b[0m\u001b[0mRectangle\u001b[0m\u001b[0;34m(\u001b[0m\u001b[0mbounds\u001b[0m\u001b[0;34m)\u001b[0m\u001b[0;34m\u001b[0m\u001b[0;34m\u001b[0m\u001b[0m\n\u001b[1;32m     45\u001b[0m     \u001b[0;31m#geemap.get_image_thumbnail(image, out_img,vis_params,dimensions=dims,region=region, format='jpg')\u001b[0m\u001b[0;34m\u001b[0m\u001b[0;34m\u001b[0m\u001b[0;34m\u001b[0m\u001b[0m\n\u001b[0;32m---> 46\u001b[0;31m     \u001b[0mgeemap\u001b[0m\u001b[0;34m.\u001b[0m\u001b[0mplot_raster\u001b[0m\u001b[0;34m(\u001b[0m\u001b[0mee_object\u001b[0m\u001b[0;34m=\u001b[0m\u001b[0mimage\u001b[0m\u001b[0;34m)\u001b[0m\u001b[0;34m\u001b[0m\u001b[0;34m\u001b[0m\u001b[0m\n\u001b[0m\u001b[1;32m     47\u001b[0m     \u001b[0mgeemap\u001b[0m\u001b[0;34m.\u001b[0m\u001b[0mshow_image\u001b[0m\u001b[0;34m(\u001b[0m\u001b[0mout_img\u001b[0m\u001b[0;34m)\u001b[0m\u001b[0;34m\u001b[0m\u001b[0;34m\u001b[0m\u001b[0m\n\u001b[1;32m     48\u001b[0m \u001b[0;34m\u001b[0m\u001b[0m\n",
      "\u001b[0;31mAttributeError\u001b[0m: module 'geemap' has no attribute 'plot_raster'"
     ]
    }
   ],
   "source": [
    "nwse = {'north':-13.59,\n",
    "        'west':-76.17,\n",
    "        'south':-14.34,\n",
    "       'east':-75.595}\n",
    "\n",
    "quadrants(coords, margin)"
   ]
  },
  {
   "cell_type": "code",
   "execution_count": 8,
   "id": "422bf201",
   "metadata": {
    "ExecuteTime": {
     "end_time": "2021-08-31T15:32:06.638666Z",
     "start_time": "2021-08-31T15:32:06.635073Z"
    }
   },
   "outputs": [],
   "source": [
    "def coordinates(coords, margin):\n",
    "    \n",
    "    ll_long=coords[0]-margin\n",
    "    ll_lat=coords[1]-margin\n",
    "    ur_long=coords[0]+margin\n",
    "    ur_lat=coords[1]+margin\n",
    "    \n",
    "    coordinates = [[ll_long, ll_lat],\n",
    "                  [ll_long, ur_lat], \n",
    "                  [ur_long, ur_lat],\n",
    "                  [ur_long, ll_lat]]\n",
    "    \n",
    "\n",
    "    return coordinates"
   ]
  },
  {
   "cell_type": "code",
   "execution_count": 9,
   "id": "bd4bf760",
   "metadata": {
    "ExecuteTime": {
     "end_time": "2021-08-31T15:32:08.487342Z",
     "start_time": "2021-08-31T15:32:08.483125Z"
    }
   },
   "outputs": [
    {
     "data": {
      "text/plain": [
       "[[-106.39842700000001, 32.998187],\n",
       " [-106.39842700000001, 33.048187],\n",
       " [-106.348427, 33.048187],\n",
       " [-106.348427, 32.998187]]"
      ]
     },
     "execution_count": 9,
     "metadata": {},
     "output_type": "execute_result"
    }
   ],
   "source": [
    "coordinates = coordinates(coords, margin)\n",
    "coordinates"
   ]
  },
  {
   "cell_type": "code",
   "execution_count": 10,
   "id": "f416ecb5",
   "metadata": {
    "ExecuteTime": {
     "end_time": "2021-08-31T15:32:21.742718Z",
     "start_time": "2021-08-31T15:32:13.202820Z"
    }
   },
   "outputs": [
    {
     "data": {
      "application/vnd.jupyter.widget-view+json": {
       "model_id": "f75cffc8a0fe4672a56dd6ee67890932",
       "version_major": 2,
       "version_minor": 0
      },
      "text/plain": [
       "Output()"
      ]
     },
     "metadata": {},
     "output_type": "display_data"
    },
    {
     "data": {
      "application/vnd.jupyter.widget-view+json": {
       "model_id": "6b0f9ec8a909432ea3afc42b16b517f6",
       "version_major": 2,
       "version_minor": 0
      },
      "text/plain": [
       "Output()"
      ]
     },
     "metadata": {},
     "output_type": "display_data"
    },
    {
     "data": {
      "application/vnd.jupyter.widget-view+json": {
       "model_id": "39e70ffd840a4cf5a8ac7faec55ffdfc",
       "version_major": 2,
       "version_minor": 0
      },
      "text/plain": [
       "Output()"
      ]
     },
     "metadata": {},
     "output_type": "display_data"
    },
    {
     "data": {
      "application/vnd.jupyter.widget-view+json": {
       "model_id": "d4866040cb1840dda1c0450e86819a10",
       "version_major": 2,
       "version_minor": 0
      },
      "text/plain": [
       "Output()"
      ]
     },
     "metadata": {},
     "output_type": "display_data"
    }
   ],
   "source": [
    "for coordinate in coordinates:\n",
    "    quadrants(coordinate,margin)"
   ]
  },
  {
   "cell_type": "code",
   "execution_count": 2,
   "id": "cf37c506",
   "metadata": {
    "ExecuteTime": {
     "end_time": "2021-09-01T08:15:44.999310Z",
     "start_time": "2021-09-01T08:15:44.996596Z"
    }
   },
   "outputs": [],
   "source": [
    "kwargs = {'resolution':23}"
   ]
  },
  {
   "cell_type": "code",
   "execution_count": 3,
   "id": "1e0f45b8",
   "metadata": {
    "ExecuteTime": {
     "end_time": "2021-09-01T08:16:01.952235Z",
     "start_time": "2021-09-01T08:16:01.941662Z"
    }
   },
   "outputs": [
    {
     "data": {
      "text/plain": [
       "23"
      ]
     },
     "execution_count": 3,
     "metadata": {},
     "output_type": "execute_result"
    }
   ],
   "source": [
    "kwargs.get('resolution',256)"
   ]
  },
  {
   "cell_type": "code",
   "execution_count": 4,
   "id": "df290797",
   "metadata": {
    "ExecuteTime": {
     "end_time": "2021-09-01T08:16:12.818339Z",
     "start_time": "2021-09-01T08:16:12.814560Z"
    }
   },
   "outputs": [
    {
     "data": {
      "text/plain": [
       "256"
      ]
     },
     "execution_count": 4,
     "metadata": {},
     "output_type": "execute_result"
    }
   ],
   "source": [
    "kwargs.get('nothing',256)"
   ]
  },
  {
   "cell_type": "code",
   "execution_count": null,
   "id": "311cf79d",
   "metadata": {},
   "outputs": [],
   "source": []
  }
 ],
 "metadata": {
  "kernelspec": {
   "display_name": "Python 3",
   "language": "python",
   "name": "python3"
  },
  "language_info": {
   "codemirror_mode": {
    "name": "ipython",
    "version": 3
   },
   "file_extension": ".py",
   "mimetype": "text/x-python",
   "name": "python",
   "nbconvert_exporter": "python",
   "pygments_lexer": "ipython3",
   "version": "3.8.6"
  },
  "toc": {
   "base_numbering": 1,
   "nav_menu": {},
   "number_sections": true,
   "sideBar": true,
   "skip_h1_title": false,
   "title_cell": "Table of Contents",
   "title_sidebar": "Contents",
   "toc_cell": false,
   "toc_position": {},
   "toc_section_display": true,
   "toc_window_display": false
  }
 },
 "nbformat": 4,
 "nbformat_minor": 5
}
