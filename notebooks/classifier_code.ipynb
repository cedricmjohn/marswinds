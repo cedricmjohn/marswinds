{
 "cells": [
  {
   "cell_type": "markdown",
   "metadata": {
    "id": "E0u2pwTYaaa5"
   },
   "source": [
    "# Classifier Notebook\n",
    "\n"
   ]
  },
  {
   "cell_type": "code",
   "execution_count": 7,
   "metadata": {
    "ExecuteTime": {
     "end_time": "2021-07-08T18:46:56.117981Z",
     "start_time": "2021-07-08T18:46:56.114343Z"
    }
   },
   "outputs": [
    {
     "name": "stdout",
     "output_type": "stream",
     "text": [
      "The tensorboard extension is already loaded. To reload it, use:\n",
      "  %reload_ext tensorboard\n"
     ]
    }
   ],
   "source": [
    "%load_ext tensorboard\n",
    "logdir = '../raw_data/logs/long_train'"
   ]
  },
  {
   "cell_type": "code",
   "execution_count": 2,
   "metadata": {
    "ExecuteTime": {
     "end_time": "2021-07-08T18:45:28.312367Z",
     "start_time": "2021-07-08T18:45:24.455456Z"
    },
    "id": "neujfhX47zi-"
   },
   "outputs": [],
   "source": [
    "from os import environ\n",
    "from tensorflow.keras.preprocessing.image import load_img, ImageDataGenerator, img_to_array\n",
    "import numpy as np\n",
    "from tensorflow.keras import Sequential, layers\n",
    "import os\n",
    "from tensorflow.keras import optimizers\n",
    "from tensorflow.keras.callbacks import EarlyStopping, ModelCheckpoint, TensorBoard\n",
    "import matplotlib.pyplot as plt\n",
    "import os\n",
    "import tensorflow.keras\n"
   ]
  },
  {
   "cell_type": "code",
   "execution_count": 3,
   "metadata": {
    "ExecuteTime": {
     "end_time": "2021-07-08T18:45:29.852195Z",
     "start_time": "2021-07-08T18:45:29.845850Z"
    }
   },
   "outputs": [
    {
     "data": {
      "text/plain": [
       "[PhysicalDevice(name='/physical_device:GPU:0', device_type='GPU')]"
      ]
     },
     "execution_count": 3,
     "metadata": {},
     "output_type": "execute_result"
    }
   ],
   "source": [
    "tensorflow.config.list_physical_devices('GPU')"
   ]
  },
  {
   "cell_type": "code",
   "execution_count": 4,
   "metadata": {
    "ExecuteTime": {
     "end_time": "2021-07-08T14:23:39.396806Z",
     "start_time": "2021-07-08T14:23:39.393865Z"
    }
   },
   "outputs": [],
   "source": [
    "def blur_func(img,k=5):\n",
    "    ksize = (k, k)\n",
    "    blur = cv2.blur(img, ksize) \n",
    "    return blur"
   ]
  },
  {
   "cell_type": "code",
   "execution_count": 4,
   "metadata": {
    "ExecuteTime": {
     "end_time": "2021-07-08T18:46:01.600110Z",
     "start_time": "2021-07-08T18:45:39.458259Z"
    },
    "id": "TFfCIycT97u9"
   },
   "outputs": [
    {
     "name": "stdout",
     "output_type": "stream",
     "text": [
      "Found 7896 images belonging to 2 classes.\n",
      "Found 488672 images belonging to 2 classes.\n"
     ]
    }
   ],
   "source": [
    "simple_data = ImageDataGenerator(rescale = 1./255)\n",
    "\n",
    "x_val = simple_data.flow_from_directory('../raw_data/images/validation/',\n",
    "                                                    batch_size=32,\n",
    "                                                   classes = ['no_dunes',\n",
    "                                                             'dunes'],\n",
    "                                                    class_mode='binary',\n",
    "                                                    color_mode=\"grayscale\",\n",
    "                                                    target_size=(256, 256))\n",
    "\n",
    "augmented_data = ImageDataGenerator(rescale=1./255,\n",
    "                                    brightness_range=(.5,1.5))\n",
    "\n",
    "aug_generator = augmented_data.flow_from_directory('../raw_data/images/training/',\n",
    "                                                    batch_size=32,\n",
    "                                                   classes = ['no_dunes',\n",
    "                                                             'dunes'],\n",
    "                                                    class_mode='binary',\n",
    "                                                    color_mode=\"grayscale\",\n",
    "                                                    target_size=(256, 256))"
   ]
  },
  {
   "cell_type": "code",
   "execution_count": 16,
   "metadata": {
    "ExecuteTime": {
     "end_time": "2021-07-08T07:24:12.589379Z",
     "start_time": "2021-07-08T07:24:12.585128Z"
    },
    "colab": {
     "base_uri": "https://localhost:8080/"
    },
    "id": "oQS22pdtjUQW",
    "outputId": "bfcdf281-8698-4bcc-c706-7472777d15d8"
   },
   "outputs": [
    {
     "data": {
      "text/plain": [
       "{'no_dunes': 0, 'dunes': 1}"
      ]
     },
     "execution_count": 16,
     "metadata": {},
     "output_type": "execute_result"
    }
   ],
   "source": [
    "aug_generator.class_indices"
   ]
  },
  {
   "cell_type": "code",
   "execution_count": 5,
   "metadata": {
    "ExecuteTime": {
     "end_time": "2021-07-08T18:46:13.142454Z",
     "start_time": "2021-07-08T18:46:13.108636Z"
    },
    "colab": {
     "base_uri": "https://localhost:8080/"
    },
    "id": "DpQPx0-K-PW5",
    "outputId": "0d9931d5-35a9-406b-cb3a-bc5eae2a8ad8"
   },
   "outputs": [],
   "source": [
    "def setup_model(dropout_rate=0.5, rate_fact=1):\n",
    "    model = Sequential()\n",
    "    model.add(layers.Conv2D(16, (3,3), activation='relu', input_shape=(256,256,1)))\n",
    "    model.add(layers.MaxPool2D(2,2))\n",
    "    model.add(layers.Dropout(.2))\n",
    "    dropout_rate = dropout_rate/rate_fact\n",
    "    model.add(layers.Conv2D(32, (3,3), activation='relu'))\n",
    "    model.add(layers.MaxPool2D(2,2))\n",
    "    model.add(layers.Dropout(.8))\n",
    "    dropout_rate = dropout_rate/rate_fact\n",
    "    model.add(layers.BatchNormalization())\n",
    "    model.add(layers.Conv2D(32, (3,3), activation='relu'))\n",
    "    model.add(layers.MaxPool2D(2,2))\n",
    "    model.add(layers.Dropout(.5))\n",
    "    model.add(layers.Conv2D(64, (3,3), activation='relu'))\n",
    "    model.add(layers.MaxPool2D(2,2))\n",
    "    model.add(layers.Dropout(.5))\n",
    "    model.add(layers.Flatten())\n",
    "    model.add(layers.Dense(512, activation='relu'))\n",
    "    model.add(layers.Dense(1, activation='sigmoid'))\n",
    "\n",
    "    print(model.summary())\n",
    "    \n",
    "    return model\n",
    " "
   ]
  },
  {
   "cell_type": "code",
   "execution_count": 6,
   "metadata": {
    "ExecuteTime": {
     "end_time": "2021-07-08T18:46:16.712144Z",
     "start_time": "2021-07-08T18:46:16.709050Z"
    },
    "id": "sBl2imCFPat2"
   },
   "outputs": [],
   "source": [
    "def compile(model):\n",
    "\n",
    "    adam_opt = optimizers.Adam(learning_rate= 0.0005922448979591837)\n",
    "    model.compile(loss='binary_crossentropy', \n",
    "              optimizer=adam_opt,\n",
    "              metrics=['accuracy', 'Precision', 'Recall'])\n",
    "    \n",
    "    return model"
   ]
  },
  {
   "cell_type": "code",
   "execution_count": null,
   "metadata": {},
   "outputs": [],
   "source": []
  },
  {
   "cell_type": "code",
   "execution_count": 8,
   "metadata": {
    "ExecuteTime": {
     "end_time": "2021-07-08T19:11:58.645769Z",
     "start_time": "2021-07-08T18:47:02.326531Z"
    },
    "colab": {
     "base_uri": "https://localhost:8080/"
    },
    "id": "BIjAUm9_-PbR",
    "outputId": "eab64217-b1a4-409d-9634-2cd3139f1dc1",
    "scrolled": true
   },
   "outputs": [
    {
     "name": "stdout",
     "output_type": "stream",
     "text": [
      "Model: \"sequential\"\n",
      "_________________________________________________________________\n",
      "Layer (type)                 Output Shape              Param #   \n",
      "=================================================================\n",
      "conv2d (Conv2D)              (None, 254, 254, 16)      160       \n",
      "_________________________________________________________________\n",
      "max_pooling2d (MaxPooling2D) (None, 127, 127, 16)      0         \n",
      "_________________________________________________________________\n",
      "dropout (Dropout)            (None, 127, 127, 16)      0         \n",
      "_________________________________________________________________\n",
      "conv2d_1 (Conv2D)            (None, 125, 125, 32)      4640      \n",
      "_________________________________________________________________\n",
      "max_pooling2d_1 (MaxPooling2 (None, 62, 62, 32)        0         \n",
      "_________________________________________________________________\n",
      "dropout_1 (Dropout)          (None, 62, 62, 32)        0         \n",
      "_________________________________________________________________\n",
      "batch_normalization (BatchNo (None, 62, 62, 32)        128       \n",
      "_________________________________________________________________\n",
      "conv2d_2 (Conv2D)            (None, 60, 60, 32)        9248      \n",
      "_________________________________________________________________\n",
      "max_pooling2d_2 (MaxPooling2 (None, 30, 30, 32)        0         \n",
      "_________________________________________________________________\n",
      "dropout_2 (Dropout)          (None, 30, 30, 32)        0         \n",
      "_________________________________________________________________\n",
      "conv2d_3 (Conv2D)            (None, 28, 28, 64)        18496     \n",
      "_________________________________________________________________\n",
      "max_pooling2d_3 (MaxPooling2 (None, 14, 14, 64)        0         \n",
      "_________________________________________________________________\n",
      "dropout_3 (Dropout)          (None, 14, 14, 64)        0         \n",
      "_________________________________________________________________\n",
      "flatten (Flatten)            (None, 12544)             0         \n",
      "_________________________________________________________________\n",
      "dense (Dense)                (None, 512)               6423040   \n",
      "_________________________________________________________________\n",
      "dense_1 (Dense)              (None, 1)                 513       \n",
      "=================================================================\n",
      "Total params: 6,456,225\n",
      "Trainable params: 6,456,161\n",
      "Non-trainable params: 64\n",
      "_________________________________________________________________\n",
      "None\n",
      "Now training model 20_percent\n",
      "Epoch 1/500\n",
      " 4925/15271 [========>.....................] - ETA: 52:08 - loss: 0.6096 - accuracy: 0.6636 - precision: 0.6718 - recall: 0.6418"
     ]
    },
    {
     "ename": "KeyboardInterrupt",
     "evalue": "",
     "output_type": "error",
     "traceback": [
      "\u001b[0;31m---------------------------------------------------------------------------\u001b[0m",
      "\u001b[0;31mKeyboardInterrupt\u001b[0m                         Traceback (most recent call last)",
      "\u001b[0;32m<ipython-input-8-52472c6b9736>\u001b[0m in \u001b[0;36m<module>\u001b[0;34m\u001b[0m\n\u001b[1;32m     12\u001b[0m     \u001b[0mmodel\u001b[0m \u001b[0;34m=\u001b[0m \u001b[0mcompile\u001b[0m\u001b[0;34m(\u001b[0m\u001b[0mmodel\u001b[0m\u001b[0;34m)\u001b[0m\u001b[0;34m\u001b[0m\u001b[0;34m\u001b[0m\u001b[0m\n\u001b[1;32m     13\u001b[0m     \u001b[0mprint\u001b[0m\u001b[0;34m(\u001b[0m\u001b[0;34mf'Now training model {name}'\u001b[0m\u001b[0;34m)\u001b[0m\u001b[0;34m\u001b[0m\u001b[0;34m\u001b[0m\u001b[0m\n\u001b[0;32m---> 14\u001b[0;31m     history = model.fit(aug_generator,\n\u001b[0m\u001b[1;32m     15\u001b[0m           \u001b[0mepochs\u001b[0m\u001b[0;34m=\u001b[0m\u001b[0;36m500\u001b[0m\u001b[0;34m,\u001b[0m\u001b[0;34m\u001b[0m\u001b[0;34m\u001b[0m\u001b[0m\n\u001b[1;32m     16\u001b[0m           \u001b[0mverbose\u001b[0m\u001b[0;34m=\u001b[0m\u001b[0;36m1\u001b[0m\u001b[0;34m,\u001b[0m\u001b[0;34m\u001b[0m\u001b[0;34m\u001b[0m\u001b[0m\n",
      "\u001b[0;32m~/.pyenv/versions/3.8.6/envs/marswinds/lib/python3.8/site-packages/tensorflow/python/keras/engine/training.py\u001b[0m in \u001b[0;36mfit\u001b[0;34m(self, x, y, batch_size, epochs, verbose, callbacks, validation_split, validation_data, shuffle, class_weight, sample_weight, initial_epoch, steps_per_epoch, validation_steps, validation_batch_size, validation_freq, max_queue_size, workers, use_multiprocessing)\u001b[0m\n\u001b[1;32m   1186\u001b[0m               \u001b[0mlogs\u001b[0m \u001b[0;34m=\u001b[0m \u001b[0mtmp_logs\u001b[0m  \u001b[0;31m# No error, now safe to assign to logs.\u001b[0m\u001b[0;34m\u001b[0m\u001b[0;34m\u001b[0m\u001b[0m\n\u001b[1;32m   1187\u001b[0m               \u001b[0mend_step\u001b[0m \u001b[0;34m=\u001b[0m \u001b[0mstep\u001b[0m \u001b[0;34m+\u001b[0m \u001b[0mdata_handler\u001b[0m\u001b[0;34m.\u001b[0m\u001b[0mstep_increment\u001b[0m\u001b[0;34m\u001b[0m\u001b[0;34m\u001b[0m\u001b[0m\n\u001b[0;32m-> 1188\u001b[0;31m               \u001b[0mcallbacks\u001b[0m\u001b[0;34m.\u001b[0m\u001b[0mon_train_batch_end\u001b[0m\u001b[0;34m(\u001b[0m\u001b[0mend_step\u001b[0m\u001b[0;34m,\u001b[0m \u001b[0mlogs\u001b[0m\u001b[0;34m)\u001b[0m\u001b[0;34m\u001b[0m\u001b[0;34m\u001b[0m\u001b[0m\n\u001b[0m\u001b[1;32m   1189\u001b[0m               \u001b[0;32mif\u001b[0m \u001b[0mself\u001b[0m\u001b[0;34m.\u001b[0m\u001b[0mstop_training\u001b[0m\u001b[0;34m:\u001b[0m\u001b[0;34m\u001b[0m\u001b[0;34m\u001b[0m\u001b[0m\n\u001b[1;32m   1190\u001b[0m                 \u001b[0;32mbreak\u001b[0m\u001b[0;34m\u001b[0m\u001b[0;34m\u001b[0m\u001b[0m\n",
      "\u001b[0;32m~/.pyenv/versions/3.8.6/envs/marswinds/lib/python3.8/site-packages/tensorflow/python/keras/callbacks.py\u001b[0m in \u001b[0;36mon_train_batch_end\u001b[0;34m(self, batch, logs)\u001b[0m\n\u001b[1;32m    455\u001b[0m     \"\"\"\n\u001b[1;32m    456\u001b[0m     \u001b[0;32mif\u001b[0m \u001b[0mself\u001b[0m\u001b[0;34m.\u001b[0m\u001b[0m_should_call_train_batch_hooks\u001b[0m\u001b[0;34m:\u001b[0m\u001b[0;34m\u001b[0m\u001b[0;34m\u001b[0m\u001b[0m\n\u001b[0;32m--> 457\u001b[0;31m       \u001b[0mself\u001b[0m\u001b[0;34m.\u001b[0m\u001b[0m_call_batch_hook\u001b[0m\u001b[0;34m(\u001b[0m\u001b[0mModeKeys\u001b[0m\u001b[0;34m.\u001b[0m\u001b[0mTRAIN\u001b[0m\u001b[0;34m,\u001b[0m \u001b[0;34m'end'\u001b[0m\u001b[0;34m,\u001b[0m \u001b[0mbatch\u001b[0m\u001b[0;34m,\u001b[0m \u001b[0mlogs\u001b[0m\u001b[0;34m=\u001b[0m\u001b[0mlogs\u001b[0m\u001b[0;34m)\u001b[0m\u001b[0;34m\u001b[0m\u001b[0;34m\u001b[0m\u001b[0m\n\u001b[0m\u001b[1;32m    458\u001b[0m \u001b[0;34m\u001b[0m\u001b[0m\n\u001b[1;32m    459\u001b[0m   \u001b[0;32mdef\u001b[0m \u001b[0mon_test_batch_begin\u001b[0m\u001b[0;34m(\u001b[0m\u001b[0mself\u001b[0m\u001b[0;34m,\u001b[0m \u001b[0mbatch\u001b[0m\u001b[0;34m,\u001b[0m \u001b[0mlogs\u001b[0m\u001b[0;34m=\u001b[0m\u001b[0;32mNone\u001b[0m\u001b[0;34m)\u001b[0m\u001b[0;34m:\u001b[0m\u001b[0;34m\u001b[0m\u001b[0;34m\u001b[0m\u001b[0m\n",
      "\u001b[0;32m~/.pyenv/versions/3.8.6/envs/marswinds/lib/python3.8/site-packages/tensorflow/python/keras/callbacks.py\u001b[0m in \u001b[0;36m_call_batch_hook\u001b[0;34m(self, mode, hook, batch, logs)\u001b[0m\n\u001b[1;32m    315\u001b[0m       \u001b[0mself\u001b[0m\u001b[0;34m.\u001b[0m\u001b[0m_call_batch_begin_hook\u001b[0m\u001b[0;34m(\u001b[0m\u001b[0mmode\u001b[0m\u001b[0;34m,\u001b[0m \u001b[0mbatch\u001b[0m\u001b[0;34m,\u001b[0m \u001b[0mlogs\u001b[0m\u001b[0;34m)\u001b[0m\u001b[0;34m\u001b[0m\u001b[0;34m\u001b[0m\u001b[0m\n\u001b[1;32m    316\u001b[0m     \u001b[0;32melif\u001b[0m \u001b[0mhook\u001b[0m \u001b[0;34m==\u001b[0m \u001b[0;34m'end'\u001b[0m\u001b[0;34m:\u001b[0m\u001b[0;34m\u001b[0m\u001b[0;34m\u001b[0m\u001b[0m\n\u001b[0;32m--> 317\u001b[0;31m       \u001b[0mself\u001b[0m\u001b[0;34m.\u001b[0m\u001b[0m_call_batch_end_hook\u001b[0m\u001b[0;34m(\u001b[0m\u001b[0mmode\u001b[0m\u001b[0;34m,\u001b[0m \u001b[0mbatch\u001b[0m\u001b[0;34m,\u001b[0m \u001b[0mlogs\u001b[0m\u001b[0;34m)\u001b[0m\u001b[0;34m\u001b[0m\u001b[0;34m\u001b[0m\u001b[0m\n\u001b[0m\u001b[1;32m    318\u001b[0m     \u001b[0;32melse\u001b[0m\u001b[0;34m:\u001b[0m\u001b[0;34m\u001b[0m\u001b[0;34m\u001b[0m\u001b[0m\n\u001b[1;32m    319\u001b[0m       \u001b[0;32mraise\u001b[0m \u001b[0mValueError\u001b[0m\u001b[0;34m(\u001b[0m\u001b[0;34m'Unrecognized hook: {}'\u001b[0m\u001b[0;34m.\u001b[0m\u001b[0mformat\u001b[0m\u001b[0;34m(\u001b[0m\u001b[0mhook\u001b[0m\u001b[0;34m)\u001b[0m\u001b[0;34m)\u001b[0m\u001b[0;34m\u001b[0m\u001b[0;34m\u001b[0m\u001b[0m\n",
      "\u001b[0;32m~/.pyenv/versions/3.8.6/envs/marswinds/lib/python3.8/site-packages/tensorflow/python/keras/callbacks.py\u001b[0m in \u001b[0;36m_call_batch_end_hook\u001b[0;34m(self, mode, batch, logs)\u001b[0m\n\u001b[1;32m    335\u001b[0m       \u001b[0mself\u001b[0m\u001b[0;34m.\u001b[0m\u001b[0m_batch_times\u001b[0m\u001b[0;34m.\u001b[0m\u001b[0mappend\u001b[0m\u001b[0;34m(\u001b[0m\u001b[0mbatch_time\u001b[0m\u001b[0;34m)\u001b[0m\u001b[0;34m\u001b[0m\u001b[0;34m\u001b[0m\u001b[0m\n\u001b[1;32m    336\u001b[0m \u001b[0;34m\u001b[0m\u001b[0m\n\u001b[0;32m--> 337\u001b[0;31m     \u001b[0mself\u001b[0m\u001b[0;34m.\u001b[0m\u001b[0m_call_batch_hook_helper\u001b[0m\u001b[0;34m(\u001b[0m\u001b[0mhook_name\u001b[0m\u001b[0;34m,\u001b[0m \u001b[0mbatch\u001b[0m\u001b[0;34m,\u001b[0m \u001b[0mlogs\u001b[0m\u001b[0;34m)\u001b[0m\u001b[0;34m\u001b[0m\u001b[0;34m\u001b[0m\u001b[0m\n\u001b[0m\u001b[1;32m    338\u001b[0m \u001b[0;34m\u001b[0m\u001b[0m\n\u001b[1;32m    339\u001b[0m     \u001b[0;32mif\u001b[0m \u001b[0mlen\u001b[0m\u001b[0;34m(\u001b[0m\u001b[0mself\u001b[0m\u001b[0;34m.\u001b[0m\u001b[0m_batch_times\u001b[0m\u001b[0;34m)\u001b[0m \u001b[0;34m>=\u001b[0m \u001b[0mself\u001b[0m\u001b[0;34m.\u001b[0m\u001b[0m_num_batches_for_timing_check\u001b[0m\u001b[0;34m:\u001b[0m\u001b[0;34m\u001b[0m\u001b[0;34m\u001b[0m\u001b[0m\n",
      "\u001b[0;32m~/.pyenv/versions/3.8.6/envs/marswinds/lib/python3.8/site-packages/tensorflow/python/keras/callbacks.py\u001b[0m in \u001b[0;36m_call_batch_hook_helper\u001b[0;34m(self, hook_name, batch, logs)\u001b[0m\n\u001b[1;32m    373\u001b[0m     \u001b[0;32mfor\u001b[0m \u001b[0mcallback\u001b[0m \u001b[0;32min\u001b[0m \u001b[0mself\u001b[0m\u001b[0;34m.\u001b[0m\u001b[0mcallbacks\u001b[0m\u001b[0;34m:\u001b[0m\u001b[0;34m\u001b[0m\u001b[0;34m\u001b[0m\u001b[0m\n\u001b[1;32m    374\u001b[0m       \u001b[0mhook\u001b[0m \u001b[0;34m=\u001b[0m \u001b[0mgetattr\u001b[0m\u001b[0;34m(\u001b[0m\u001b[0mcallback\u001b[0m\u001b[0;34m,\u001b[0m \u001b[0mhook_name\u001b[0m\u001b[0;34m)\u001b[0m\u001b[0;34m\u001b[0m\u001b[0;34m\u001b[0m\u001b[0m\n\u001b[0;32m--> 375\u001b[0;31m       \u001b[0mhook\u001b[0m\u001b[0;34m(\u001b[0m\u001b[0mbatch\u001b[0m\u001b[0;34m,\u001b[0m \u001b[0mlogs\u001b[0m\u001b[0;34m)\u001b[0m\u001b[0;34m\u001b[0m\u001b[0;34m\u001b[0m\u001b[0m\n\u001b[0m\u001b[1;32m    376\u001b[0m \u001b[0;34m\u001b[0m\u001b[0m\n\u001b[1;32m    377\u001b[0m     \u001b[0;32mif\u001b[0m \u001b[0mself\u001b[0m\u001b[0;34m.\u001b[0m\u001b[0m_check_timing\u001b[0m\u001b[0;34m:\u001b[0m\u001b[0;34m\u001b[0m\u001b[0;34m\u001b[0m\u001b[0m\n",
      "\u001b[0;32m~/.pyenv/versions/3.8.6/envs/marswinds/lib/python3.8/site-packages/tensorflow/python/keras/callbacks.py\u001b[0m in \u001b[0;36mon_train_batch_end\u001b[0;34m(self, batch, logs)\u001b[0m\n\u001b[1;32m   1027\u001b[0m \u001b[0;34m\u001b[0m\u001b[0m\n\u001b[1;32m   1028\u001b[0m   \u001b[0;32mdef\u001b[0m \u001b[0mon_train_batch_end\u001b[0m\u001b[0;34m(\u001b[0m\u001b[0mself\u001b[0m\u001b[0;34m,\u001b[0m \u001b[0mbatch\u001b[0m\u001b[0;34m,\u001b[0m \u001b[0mlogs\u001b[0m\u001b[0;34m=\u001b[0m\u001b[0;32mNone\u001b[0m\u001b[0;34m)\u001b[0m\u001b[0;34m:\u001b[0m\u001b[0;34m\u001b[0m\u001b[0;34m\u001b[0m\u001b[0m\n\u001b[0;32m-> 1029\u001b[0;31m     \u001b[0mself\u001b[0m\u001b[0;34m.\u001b[0m\u001b[0m_batch_update_progbar\u001b[0m\u001b[0;34m(\u001b[0m\u001b[0mbatch\u001b[0m\u001b[0;34m,\u001b[0m \u001b[0mlogs\u001b[0m\u001b[0;34m)\u001b[0m\u001b[0;34m\u001b[0m\u001b[0;34m\u001b[0m\u001b[0m\n\u001b[0m\u001b[1;32m   1030\u001b[0m \u001b[0;34m\u001b[0m\u001b[0m\n\u001b[1;32m   1031\u001b[0m   \u001b[0;32mdef\u001b[0m \u001b[0mon_test_batch_end\u001b[0m\u001b[0;34m(\u001b[0m\u001b[0mself\u001b[0m\u001b[0;34m,\u001b[0m \u001b[0mbatch\u001b[0m\u001b[0;34m,\u001b[0m \u001b[0mlogs\u001b[0m\u001b[0;34m=\u001b[0m\u001b[0;32mNone\u001b[0m\u001b[0;34m)\u001b[0m\u001b[0;34m:\u001b[0m\u001b[0;34m\u001b[0m\u001b[0;34m\u001b[0m\u001b[0m\n",
      "\u001b[0;32m~/.pyenv/versions/3.8.6/envs/marswinds/lib/python3.8/site-packages/tensorflow/python/keras/callbacks.py\u001b[0m in \u001b[0;36m_batch_update_progbar\u001b[0;34m(self, batch, logs)\u001b[0m\n\u001b[1;32m   1099\u001b[0m     \u001b[0;32mif\u001b[0m \u001b[0mself\u001b[0m\u001b[0;34m.\u001b[0m\u001b[0mverbose\u001b[0m \u001b[0;34m==\u001b[0m \u001b[0;36m1\u001b[0m\u001b[0;34m:\u001b[0m\u001b[0;34m\u001b[0m\u001b[0;34m\u001b[0m\u001b[0m\n\u001b[1;32m   1100\u001b[0m       \u001b[0;31m# Only block async when verbose = 1.\u001b[0m\u001b[0;34m\u001b[0m\u001b[0;34m\u001b[0m\u001b[0;34m\u001b[0m\u001b[0m\n\u001b[0;32m-> 1101\u001b[0;31m       \u001b[0mlogs\u001b[0m \u001b[0;34m=\u001b[0m \u001b[0mtf_utils\u001b[0m\u001b[0;34m.\u001b[0m\u001b[0msync_to_numpy_or_python_type\u001b[0m\u001b[0;34m(\u001b[0m\u001b[0mlogs\u001b[0m\u001b[0;34m)\u001b[0m\u001b[0;34m\u001b[0m\u001b[0;34m\u001b[0m\u001b[0m\n\u001b[0m\u001b[1;32m   1102\u001b[0m       \u001b[0mself\u001b[0m\u001b[0;34m.\u001b[0m\u001b[0mprogbar\u001b[0m\u001b[0;34m.\u001b[0m\u001b[0mupdate\u001b[0m\u001b[0;34m(\u001b[0m\u001b[0mself\u001b[0m\u001b[0;34m.\u001b[0m\u001b[0mseen\u001b[0m\u001b[0;34m,\u001b[0m \u001b[0mlist\u001b[0m\u001b[0;34m(\u001b[0m\u001b[0mlogs\u001b[0m\u001b[0;34m.\u001b[0m\u001b[0mitems\u001b[0m\u001b[0;34m(\u001b[0m\u001b[0;34m)\u001b[0m\u001b[0;34m)\u001b[0m\u001b[0;34m,\u001b[0m \u001b[0mfinalize\u001b[0m\u001b[0;34m=\u001b[0m\u001b[0;32mFalse\u001b[0m\u001b[0;34m)\u001b[0m\u001b[0;34m\u001b[0m\u001b[0;34m\u001b[0m\u001b[0m\n\u001b[1;32m   1103\u001b[0m \u001b[0;34m\u001b[0m\u001b[0m\n",
      "\u001b[0;32m~/.pyenv/versions/3.8.6/envs/marswinds/lib/python3.8/site-packages/tensorflow/python/keras/utils/tf_utils.py\u001b[0m in \u001b[0;36msync_to_numpy_or_python_type\u001b[0;34m(tensors)\u001b[0m\n\u001b[1;32m    517\u001b[0m     \u001b[0;32mreturn\u001b[0m \u001b[0mt\u001b[0m  \u001b[0;31m# Don't turn ragged or sparse tensors to NumPy.\u001b[0m\u001b[0;34m\u001b[0m\u001b[0;34m\u001b[0m\u001b[0m\n\u001b[1;32m    518\u001b[0m \u001b[0;34m\u001b[0m\u001b[0m\n\u001b[0;32m--> 519\u001b[0;31m   \u001b[0;32mreturn\u001b[0m \u001b[0mnest\u001b[0m\u001b[0;34m.\u001b[0m\u001b[0mmap_structure\u001b[0m\u001b[0;34m(\u001b[0m\u001b[0m_to_single_numpy_or_python_type\u001b[0m\u001b[0;34m,\u001b[0m \u001b[0mtensors\u001b[0m\u001b[0;34m)\u001b[0m\u001b[0;34m\u001b[0m\u001b[0;34m\u001b[0m\u001b[0m\n\u001b[0m\u001b[1;32m    520\u001b[0m \u001b[0;34m\u001b[0m\u001b[0m\n\u001b[1;32m    521\u001b[0m \u001b[0;34m\u001b[0m\u001b[0m\n",
      "\u001b[0;32m~/.pyenv/versions/3.8.6/envs/marswinds/lib/python3.8/site-packages/tensorflow/python/util/nest.py\u001b[0m in \u001b[0;36mmap_structure\u001b[0;34m(func, *structure, **kwargs)\u001b[0m\n\u001b[1;32m    865\u001b[0m \u001b[0;34m\u001b[0m\u001b[0m\n\u001b[1;32m    866\u001b[0m   return pack_sequence_as(\n\u001b[0;32m--> 867\u001b[0;31m       \u001b[0mstructure\u001b[0m\u001b[0;34m[\u001b[0m\u001b[0;36m0\u001b[0m\u001b[0;34m]\u001b[0m\u001b[0;34m,\u001b[0m \u001b[0;34m[\u001b[0m\u001b[0mfunc\u001b[0m\u001b[0;34m(\u001b[0m\u001b[0;34m*\u001b[0m\u001b[0mx\u001b[0m\u001b[0;34m)\u001b[0m \u001b[0;32mfor\u001b[0m \u001b[0mx\u001b[0m \u001b[0;32min\u001b[0m \u001b[0mentries\u001b[0m\u001b[0;34m]\u001b[0m\u001b[0;34m,\u001b[0m\u001b[0;34m\u001b[0m\u001b[0;34m\u001b[0m\u001b[0m\n\u001b[0m\u001b[1;32m    868\u001b[0m       expand_composites=expand_composites)\n\u001b[1;32m    869\u001b[0m \u001b[0;34m\u001b[0m\u001b[0m\n",
      "\u001b[0;32m~/.pyenv/versions/3.8.6/envs/marswinds/lib/python3.8/site-packages/tensorflow/python/util/nest.py\u001b[0m in \u001b[0;36m<listcomp>\u001b[0;34m(.0)\u001b[0m\n\u001b[1;32m    865\u001b[0m \u001b[0;34m\u001b[0m\u001b[0m\n\u001b[1;32m    866\u001b[0m   return pack_sequence_as(\n\u001b[0;32m--> 867\u001b[0;31m       \u001b[0mstructure\u001b[0m\u001b[0;34m[\u001b[0m\u001b[0;36m0\u001b[0m\u001b[0;34m]\u001b[0m\u001b[0;34m,\u001b[0m \u001b[0;34m[\u001b[0m\u001b[0mfunc\u001b[0m\u001b[0;34m(\u001b[0m\u001b[0;34m*\u001b[0m\u001b[0mx\u001b[0m\u001b[0;34m)\u001b[0m \u001b[0;32mfor\u001b[0m \u001b[0mx\u001b[0m \u001b[0;32min\u001b[0m \u001b[0mentries\u001b[0m\u001b[0;34m]\u001b[0m\u001b[0;34m,\u001b[0m\u001b[0;34m\u001b[0m\u001b[0;34m\u001b[0m\u001b[0m\n\u001b[0m\u001b[1;32m    868\u001b[0m       expand_composites=expand_composites)\n\u001b[1;32m    869\u001b[0m \u001b[0;34m\u001b[0m\u001b[0m\n",
      "\u001b[0;32m~/.pyenv/versions/3.8.6/envs/marswinds/lib/python3.8/site-packages/tensorflow/python/keras/utils/tf_utils.py\u001b[0m in \u001b[0;36m_to_single_numpy_or_python_type\u001b[0;34m(t)\u001b[0m\n\u001b[1;32m    513\u001b[0m   \u001b[0;32mdef\u001b[0m \u001b[0m_to_single_numpy_or_python_type\u001b[0m\u001b[0;34m(\u001b[0m\u001b[0mt\u001b[0m\u001b[0;34m)\u001b[0m\u001b[0;34m:\u001b[0m\u001b[0;34m\u001b[0m\u001b[0;34m\u001b[0m\u001b[0m\n\u001b[1;32m    514\u001b[0m     \u001b[0;32mif\u001b[0m \u001b[0misinstance\u001b[0m\u001b[0;34m(\u001b[0m\u001b[0mt\u001b[0m\u001b[0;34m,\u001b[0m \u001b[0mops\u001b[0m\u001b[0;34m.\u001b[0m\u001b[0mTensor\u001b[0m\u001b[0;34m)\u001b[0m\u001b[0;34m:\u001b[0m\u001b[0;34m\u001b[0m\u001b[0;34m\u001b[0m\u001b[0m\n\u001b[0;32m--> 515\u001b[0;31m       \u001b[0mx\u001b[0m \u001b[0;34m=\u001b[0m \u001b[0mt\u001b[0m\u001b[0;34m.\u001b[0m\u001b[0mnumpy\u001b[0m\u001b[0;34m(\u001b[0m\u001b[0;34m)\u001b[0m\u001b[0;34m\u001b[0m\u001b[0;34m\u001b[0m\u001b[0m\n\u001b[0m\u001b[1;32m    516\u001b[0m       \u001b[0;32mreturn\u001b[0m \u001b[0mx\u001b[0m\u001b[0;34m.\u001b[0m\u001b[0mitem\u001b[0m\u001b[0;34m(\u001b[0m\u001b[0;34m)\u001b[0m \u001b[0;32mif\u001b[0m \u001b[0mnp\u001b[0m\u001b[0;34m.\u001b[0m\u001b[0mndim\u001b[0m\u001b[0;34m(\u001b[0m\u001b[0mx\u001b[0m\u001b[0;34m)\u001b[0m \u001b[0;34m==\u001b[0m \u001b[0;36m0\u001b[0m \u001b[0;32melse\u001b[0m \u001b[0mx\u001b[0m\u001b[0;34m\u001b[0m\u001b[0;34m\u001b[0m\u001b[0m\n\u001b[1;32m    517\u001b[0m     \u001b[0;32mreturn\u001b[0m \u001b[0mt\u001b[0m  \u001b[0;31m# Don't turn ragged or sparse tensors to NumPy.\u001b[0m\u001b[0;34m\u001b[0m\u001b[0;34m\u001b[0m\u001b[0m\n",
      "\u001b[0;32m~/.pyenv/versions/3.8.6/envs/marswinds/lib/python3.8/site-packages/tensorflow/python/framework/ops.py\u001b[0m in \u001b[0;36mnumpy\u001b[0;34m(self)\u001b[0m\n\u001b[1;32m   1092\u001b[0m     \"\"\"\n\u001b[1;32m   1093\u001b[0m     \u001b[0;31m# TODO(slebedev): Consider avoiding a copy for non-CPU or remote tensors.\u001b[0m\u001b[0;34m\u001b[0m\u001b[0;34m\u001b[0m\u001b[0;34m\u001b[0m\u001b[0m\n\u001b[0;32m-> 1094\u001b[0;31m     \u001b[0mmaybe_arr\u001b[0m \u001b[0;34m=\u001b[0m \u001b[0mself\u001b[0m\u001b[0;34m.\u001b[0m\u001b[0m_numpy\u001b[0m\u001b[0;34m(\u001b[0m\u001b[0;34m)\u001b[0m  \u001b[0;31m# pylint: disable=protected-access\u001b[0m\u001b[0;34m\u001b[0m\u001b[0;34m\u001b[0m\u001b[0m\n\u001b[0m\u001b[1;32m   1095\u001b[0m     \u001b[0;32mreturn\u001b[0m \u001b[0mmaybe_arr\u001b[0m\u001b[0;34m.\u001b[0m\u001b[0mcopy\u001b[0m\u001b[0;34m(\u001b[0m\u001b[0;34m)\u001b[0m \u001b[0;32mif\u001b[0m \u001b[0misinstance\u001b[0m\u001b[0;34m(\u001b[0m\u001b[0mmaybe_arr\u001b[0m\u001b[0;34m,\u001b[0m \u001b[0mnp\u001b[0m\u001b[0;34m.\u001b[0m\u001b[0mndarray\u001b[0m\u001b[0;34m)\u001b[0m \u001b[0;32melse\u001b[0m \u001b[0mmaybe_arr\u001b[0m\u001b[0;34m\u001b[0m\u001b[0;34m\u001b[0m\u001b[0m\n\u001b[1;32m   1096\u001b[0m \u001b[0;34m\u001b[0m\u001b[0m\n",
      "\u001b[0;32m~/.pyenv/versions/3.8.6/envs/marswinds/lib/python3.8/site-packages/tensorflow/python/framework/ops.py\u001b[0m in \u001b[0;36m_numpy\u001b[0;34m(self)\u001b[0m\n\u001b[1;32m   1058\u001b[0m   \u001b[0;32mdef\u001b[0m \u001b[0m_numpy\u001b[0m\u001b[0;34m(\u001b[0m\u001b[0mself\u001b[0m\u001b[0;34m)\u001b[0m\u001b[0;34m:\u001b[0m\u001b[0;34m\u001b[0m\u001b[0;34m\u001b[0m\u001b[0m\n\u001b[1;32m   1059\u001b[0m     \u001b[0;32mtry\u001b[0m\u001b[0;34m:\u001b[0m\u001b[0;34m\u001b[0m\u001b[0;34m\u001b[0m\u001b[0m\n\u001b[0;32m-> 1060\u001b[0;31m       \u001b[0;32mreturn\u001b[0m \u001b[0mself\u001b[0m\u001b[0;34m.\u001b[0m\u001b[0m_numpy_internal\u001b[0m\u001b[0;34m(\u001b[0m\u001b[0;34m)\u001b[0m\u001b[0;34m\u001b[0m\u001b[0;34m\u001b[0m\u001b[0m\n\u001b[0m\u001b[1;32m   1061\u001b[0m     \u001b[0;32mexcept\u001b[0m \u001b[0mcore\u001b[0m\u001b[0;34m.\u001b[0m\u001b[0m_NotOkStatusException\u001b[0m \u001b[0;32mas\u001b[0m \u001b[0me\u001b[0m\u001b[0;34m:\u001b[0m  \u001b[0;31m# pylint: disable=protected-access\u001b[0m\u001b[0;34m\u001b[0m\u001b[0;34m\u001b[0m\u001b[0m\n\u001b[1;32m   1062\u001b[0m       \u001b[0msix\u001b[0m\u001b[0;34m.\u001b[0m\u001b[0mraise_from\u001b[0m\u001b[0;34m(\u001b[0m\u001b[0mcore\u001b[0m\u001b[0;34m.\u001b[0m\u001b[0m_status_to_exception\u001b[0m\u001b[0;34m(\u001b[0m\u001b[0me\u001b[0m\u001b[0;34m.\u001b[0m\u001b[0mcode\u001b[0m\u001b[0;34m,\u001b[0m \u001b[0me\u001b[0m\u001b[0;34m.\u001b[0m\u001b[0mmessage\u001b[0m\u001b[0;34m)\u001b[0m\u001b[0;34m,\u001b[0m \u001b[0;32mNone\u001b[0m\u001b[0;34m)\u001b[0m  \u001b[0;31m# pylint: disable=protected-access\u001b[0m\u001b[0;34m\u001b[0m\u001b[0;34m\u001b[0m\u001b[0m\n",
      "\u001b[0;31mKeyboardInterrupt\u001b[0m: "
     ]
    }
   ],
   "source": [
    "experiments = [(0.2,1.0,'20_percent'),(0.5,1.0,'55_percent'),(.5,2.2,'adaptative')]\n",
    "histories=[]\n",
    "\n",
    "\n",
    "\n",
    "for rate, factor, name in experiments:\n",
    "\n",
    "    es = EarlyStopping(monitor = 'val_loss', patience = 40, restore_best_weights = True, verbose = True)\n",
    "    mc = ModelCheckpoint('best_model.h5',save_best_only=True)\n",
    "    tb = TensorBoard(log_dir=f'{logdir}/{name}', histogram_freq=1)\n",
    "    model = setup_model(dropout_rate=rate, rate_fact=factor)\n",
    "    model = compile(model)\n",
    "    print(f'Now training model {name}')\n",
    "    history = model.fit(aug_generator,\n",
    "          epochs=500,\n",
    "          verbose=1,\n",
    "          validation_data = x_val,\n",
    "          callbacks = [mc, es, tb]\n",
    "          )\n",
    "    histories.append(history)"
   ]
  },
  {
   "cell_type": "code",
   "execution_count": null,
   "metadata": {
    "colab": {
     "base_uri": "https://localhost:8080/"
    },
    "id": "p211EVhD-Pne",
    "outputId": "7da7e2f6-8d35-462a-90cf-08e9c4dd8ab1",
    "scrolled": true
   },
   "outputs": [
    {
     "name": "stdout",
     "output_type": "stream",
     "text": [
      "734/734 [==============================] - 14s 19ms/step - loss: 0.1222 - accuracy: 0.9567 - precision: 0.9418 - recall: 0.9757\n"
     ]
    },
    {
     "data": {
      "text/plain": [
       "[0.12224973738193512,\n",
       " 0.9566513299942017,\n",
       " 0.9417616128921509,\n",
       " 0.975731372833252]"
      ]
     },
     "execution_count": 11,
     "metadata": {
      "tags": []
     },
     "output_type": "execute_result"
    }
   ],
   "source": [
    "model.evaluate(x_val, verbose = 1)"
   ]
  },
  {
   "cell_type": "code",
   "execution_count": null,
   "metadata": {},
   "outputs": [],
   "source": [
    "Epoch 1/500\n",
    "25356/25356 [==============================] - 7519s 297ms/step - loss: 0.1856 - accuracy: 0.9279 - precision: 0.9367 - recall: 0.9179 - val_loss: 0.2783 - val_accuracy: 0.8675 - val_precision: 0.9142 - val_recall: 0.8092\n",
    "Epoch 2/500\n",
    "25356/25356 [==============================] - 7511s 296ms/step - loss: 0.1101 - accuracy: 0.9595 - precision: 0.9647 - recall: 0.9538 - val_loss: 0.7415 - val_accuracy: 0.7708 - val_precision: 0.7306 - val_recall: 0.8535\n",
    "Epoch 3/500\n",
    "25356/25356 [==============================] - 7539s 297ms/step - loss: 0.0884 - accuracy: 0.9683 - precision: 0.9731 - recall: 0.9633 - val_loss: 0.2283 - val_accuracy: 0.9189 - val_precision: 0.8886 - val_recall: 0.9566\n",
    "Epoch 4/500\n",
    "25356/25356 [==============================] - 7526s 297ms/step - loss: 0.0788 - accuracy: 0.9722 - precision: 0.9768 - recall: 0.9673 - val_loss: 0.3026 - val_accuracy: 0.8826 - val_precision: 0.9032 - val_recall: 0.8553\n",
    "Epoch 5/500\n",
    "25356/25356 [==============================] - 7504s 296ms/step - loss: 0.0740 - accuracy: 0.9742 - precision: 0.9783 - recall: 0.9700 - val_loss: 0.1677 - val_accuracy: 0.9321 - val_precision: 0.9546 - val_recall: 0.9064\n",
    "Epoch 6/500\n",
    "25356/25356 [==============================] - 7540s 297ms/step - loss: 0.0686 - accuracy: 0.9763 - precision: 0.9802 - recall: 0.9723 - val_loss: 0.2394 - val_accuracy: 0.9127 - val_precision: 0.9567 - val_recall: 0.8634\n",
    "Epoch 7/500\n",
    "25356/25356 [==============================] - 7541s 297ms/step - loss: 0.0655 - accuracy: 0.9773 - precision: 0.9811 - recall: 0.9733 - val_loss: 0.1863 - val_accuracy: 0.9272 - val_precision: 0.9655 - val_recall: 0.8851\n",
    "Epoch 8/500\n",
    "25356/25356 [==============================] - 7655s 302ms/step - loss: 0.0626 - accuracy: 0.9785 - precision: 0.9821 - recall: 0.9748 - val_loss: 0.1722 - val_accuracy: 0.9274 - val_precision: 0.9849 - val_recall: 0.8671\n",
    "Epoch 9/500\n",
    "25356/25356 [==============================] - 7606s 300ms/step - loss: 0.0629 - accuracy: 0.9786 - precision: 0.9820 - recall: 0.9750 - val_loss: 0.3395 - val_accuracy: 0.8545 - val_precision: 0.9762 - val_recall: 0.7249\n",
    "Epoch 10/500\n",
    "25356/25356 [==============================] - 7614s 300ms/step - loss: 0.0592 - accuracy: 0.9797 - precision: 0.9831 - recall: 0.9762 - val_loss: 0.1523 - val_accuracy: 0.9378 - val_precision: 0.9757 - val_recall: 0.8971\n",
    "Epoch 11/500\n",
    "25356/25356 [==============================] - 7613s 300ms/step - loss: 0.0603 - accuracy: 0.9803 - precision: 0.9840 - recall: 0.9766 - val_loss: 0.1332 - val_accuracy: 0.9547 - val_precision: 0.9506 - val_recall: 0.9588\n",
    "Epoch 12/500\n",
    "25356/25356 [==============================] - 7624s 301ms/step - loss: 0.0568 - accuracy: 0.9810 - precision: 0.9842 - recall: 0.9776 - val_loss: 0.3120 - val_accuracy: 0.8793 - val_precision: 0.9826 - val_recall: 0.7708\n",
    "Epoch 13/500\n",
    "25356/25356 [==============================] - 7595s 300ms/step - loss: 0.0562 - accuracy: 0.9810 - precision: 0.9841 - recall: 0.9779 - val_loss: 0.1711 - val_accuracy: 0.9355 - val_precision: 0.9683 - val_recall: 0.8996\n",
    "Epoch 14/500\n",
    "25356/25356 [==============================] - 7557s 298ms/step - loss: 0.0540 - accuracy: 0.9817 - precision: 0.9849 - recall: 0.9784 - val_loss: 0.1463 - val_accuracy: 0.9431 - val_precision: 0.9704 - val_recall: 0.9133\n",
    "Epoch 15/500\n",
    "25356/25356 [==============================] - 7557s 298ms/step - loss: 0.0539 - accuracy: 0.9817 - precision: 0.9848 - recall: 0.9785 - val_loss: 0.1925 - val_accuracy: 0.9224 - val_precision: 0.9454 - val_recall: 0.8956\n",
    "Epoch 16/500\n",
    "25356/25356 [==============================] - 7590s 299ms/step - loss: 0.0552 - accuracy: 0.9815 - precision: 0.9849 - recall: 0.9780 - val_loss: 0.1652 - val_accuracy: 0.9300 - val_precision: 0.9786 - val_recall: 0.8783\n",
    "Epoch 17/500\n",
    "25356/25356 [==============================] - 7673s 303ms/step - loss: 0.0523 - accuracy: 0.9820 - precision: 0.9851 - recall: 0.9788 - val_loss: 0.2155 - val_accuracy: 0.9107 - val_precision: 0.9646 - val_recall: 0.8516\n",
    "Epoch 18/500\n",
    "25356/25356 [==============================] - 8007s 316ms/step - loss: 0.0568 - accuracy: 0.9811 - precision: 0.9847 - recall: 0.9773 - val_loss: 0.1548 - val_accuracy: 0.9367 - val_precision: 0.9604 - val_recall: 0.9102\n",
    "Epoch 19/500\n",
    "25356/25356 [==============================] - 7620s 301ms/step - loss: 0.0541 - accuracy: 0.9821 - precision: 0.9855 - recall: 0.9787 - val_loss: 0.1880 - val_accuracy: 0.9233 - val_precision: 0.9746 - val_recall: 0.8683\n",
    "Epoch 20/500\n",
    "25356/25356 [==============================] - 7614s 300ms/step - loss: 0.0520 - accuracy: 0.9826 - precision: 0.9857 - recall: 0.9793 - val_loss: 0.1884 - val_accuracy: 0.9427 - val_precision: 0.9732 - val_recall: 0.9099\n",
    "Epoch 21/500\n",
    "25356/25356 [==============================] - 7840s 309ms/step - loss: 0.0527 - accuracy: 0.9822 - precision: 0.9854 - recall: 0.9789 - val_loss: 0.2700 - val_accuracy: 0.9032 - val_precision: 0.9751 - val_recall: 0.8262\n",
    "Restoring model weights from the end of the best epoch.\n",
    "Epoch 00021: early stopping"
   ]
  },
  {
   "cell_type": "code",
   "execution_count": 30,
   "metadata": {
    "ExecuteTime": {
     "end_time": "2021-07-08T10:58:57.070644Z",
     "start_time": "2021-07-08T10:58:56.889304Z"
    },
    "id": "FWnfwL2X-PqK"
   },
   "outputs": [
    {
     "data": {
      "text/plain": [
       "<matplotlib.legend.Legend at 0x1ed1bd160>"
      ]
     },
     "execution_count": 30,
     "metadata": {},
     "output_type": "execute_result"
    },
    {
     "data": {
      "image/png": "[encoded data removed]",
      "text/plain": [
       "<Figure size 432x288 with 1 Axes>"
      ]
     },
     "metadata": {
      "needs_background": "light"
     },
     "output_type": "display_data"
    }
   ],
   "source": [
    "\n",
    "for experiment,history in zip(experiments, histories):\n",
    "    name = experiment[2]\n",
    "    plt.plot(history.history['loss'],label=f'{experiment}_loss')\n",
    "    plt.plot(history.history['val_loss'],label=f'{experiment}_val_loss')\n",
    "plt.legend()"
   ]
  },
  {
   "cell_type": "code",
   "execution_count": null,
   "metadata": {
    "ExecuteTime": {
     "end_time": "2021-07-06T13:40:17.601127Z",
     "start_time": "2021-07-06T13:13:25.839Z"
    },
    "id": "rET0SifT-Pvr"
   },
   "outputs": [],
   "source": [
    "%tensorboard --logdir logs"
   ]
  },
  {
   "cell_type": "code",
   "execution_count": 8,
   "metadata": {
    "ExecuteTime": {
     "end_time": "2021-07-08T15:11:51.997759Z",
     "start_time": "2021-07-08T14:24:13.338461Z"
    },
    "id": "chfmVoBt-Pyf"
   },
   "outputs": [
    {
     "name": "stdout",
     "output_type": "stream",
     "text": [
      "Model: \"sequential\"\n",
      "_________________________________________________________________\n",
      "Layer (type)                 Output Shape              Param #   \n",
      "=================================================================\n",
      "conv2d (Conv2D)              (None, 254, 254, 16)      160       \n",
      "_________________________________________________________________\n",
      "max_pooling2d (MaxPooling2D) (None, 127, 127, 16)      0         \n",
      "_________________________________________________________________\n",
      "dropout (Dropout)            (None, 127, 127, 16)      0         \n",
      "_________________________________________________________________\n",
      "conv2d_1 (Conv2D)            (None, 125, 125, 32)      4640      \n",
      "_________________________________________________________________\n",
      "max_pooling2d_1 (MaxPooling2 (None, 62, 62, 32)        0         \n",
      "_________________________________________________________________\n",
      "dropout_1 (Dropout)          (None, 62, 62, 32)        0         \n",
      "_________________________________________________________________\n",
      "batch_normalization (BatchNo (None, 62, 62, 32)        128       \n",
      "_________________________________________________________________\n",
      "conv2d_2 (Conv2D)            (None, 60, 60, 32)        9248      \n",
      "_________________________________________________________________\n",
      "max_pooling2d_2 (MaxPooling2 (None, 30, 30, 32)        0         \n",
      "_________________________________________________________________\n",
      "dropout_2 (Dropout)          (None, 30, 30, 32)        0         \n",
      "_________________________________________________________________\n",
      "conv2d_3 (Conv2D)            (None, 28, 28, 64)        18496     \n",
      "_________________________________________________________________\n",
      "max_pooling2d_3 (MaxPooling2 (None, 14, 14, 64)        0         \n",
      "_________________________________________________________________\n",
      "dropout_3 (Dropout)          (None, 14, 14, 64)        0         \n",
      "_________________________________________________________________\n",
      "flatten (Flatten)            (None, 12544)             0         \n",
      "_________________________________________________________________\n",
      "dense (Dense)                (None, 512)               6423040   \n",
      "_________________________________________________________________\n",
      "dense_1 (Dense)              (None, 1)                 513       \n",
      "=================================================================\n",
      "Total params: 6,456,225\n",
      "Trainable params: 6,456,161\n",
      "Non-trainable params: 64\n",
      "_________________________________________________________________\n",
      "None\n",
      "Epoch 1/10\n",
      "972/972 [==============================] - 271s 275ms/step - loss: 0.6267 - accuracy: 0.7370 - precision: 0.7418 - recall: 0.9898 - val_loss: 0.6942 - val_accuracy: 0.5000 - val_precision: 0.5000 - val_recall: 1.0000\n",
      "Epoch 2/10\n",
      "972/972 [==============================] - 277s 284ms/step - loss: 0.4911 - accuracy: 0.7454 - precision: 0.7593 - recall: 0.9615 - val_loss: 0.7084 - val_accuracy: 0.4847 - val_precision: 0.0000e+00 - val_recall: 0.0000e+00\n",
      "Epoch 3/10\n",
      "972/972 [==============================] - 283s 291ms/step - loss: 0.4510 - accuracy: 0.7539 - precision: 0.7923 - recall: 0.9054 - val_loss: 0.7153 - val_accuracy: 0.4825 - val_precision: 0.0633 - val_recall: 0.0025\n",
      "Epoch 4/10\n",
      "972/972 [==============================] - 290s 299ms/step - loss: 0.4286 - accuracy: 0.7670 - precision: 0.8256 - recall: 0.8693 - val_loss: 0.7219 - val_accuracy: 0.4828 - val_precision: 0.1937 - val_recall: 0.0109\n",
      "Epoch 5/10\n",
      "972/972 [==============================] - 294s 302ms/step - loss: 0.4188 - accuracy: 0.7728 - precision: 0.8341 - recall: 0.8659 - val_loss: 0.7283 - val_accuracy: 0.4796 - val_precision: 0.2428 - val_recall: 0.0193\n",
      "Epoch 6/10\n",
      "972/972 [==============================] - 296s 305ms/step - loss: 0.4034 - accuracy: 0.7797 - precision: 0.8486 - recall: 0.8557 - val_loss: 0.7062 - val_accuracy: 0.4938 - val_precision: 0.0377 - val_recall: 5.0659e-04\n",
      "Epoch 7/10\n",
      "972/972 [==============================] - 297s 305ms/step - loss: 0.3933 - accuracy: 0.7861 - precision: 0.8568 - recall: 0.8543 - val_loss: 0.6718 - val_accuracy: 0.7015 - val_precision: 0.6461 - val_recall: 0.8911\n",
      "Epoch 8/10\n",
      "972/972 [==============================] - 286s 294ms/step - loss: 0.3861 - accuracy: 0.7870 - precision: 0.8585 - recall: 0.8535 - val_loss: 0.7036 - val_accuracy: 0.4906 - val_precision: 0.0132 - val_recall: 2.5329e-04\n",
      "Epoch 9/10\n",
      "972/972 [==============================] - 281s 289ms/step - loss: 0.3796 - accuracy: 0.7970 - precision: 0.8569 - recall: 0.8719 - val_loss: 0.7375 - val_accuracy: 0.4837 - val_precision: 0.0292 - val_recall: 0.0010\n",
      "Epoch 10/10\n",
      "972/972 [==============================] - 275s 283ms/step - loss: 0.3632 - accuracy: 0.8054 - precision: 0.8640 - recall: 0.8753 - val_loss: 0.6813 - val_accuracy: 0.5740 - val_precision: 0.5401 - val_recall: 0.9952\n"
     ]
    }
   ],
   "source": [
    "es = EarlyStopping(monitor = 'val_loss', patience = 20, restore_best_weights = True, verbose = True)\n",
    "mc = ModelCheckpoint('best_model.h5',save_best_only=True)\n",
    "tb = TensorBoard(log_dir=f'{logdir}/best', histogram_freq=1)\n",
    "model = setup_model(dropout_rate=.5, rate_fact=1)\n",
    "model = compile(model)\n",
    "history = model.fit(aug_generator,\n",
    "          epochs=10,\n",
    "          verbose=1,\n",
    "          validation_data = x_val,\n",
    "          callbacks = [mc, es, tb]\n",
    "          )\n"
   ]
  },
  {
   "cell_type": "code",
   "execution_count": 34,
   "metadata": {
    "ExecuteTime": {
     "end_time": "2021-07-08T14:20:55.544851Z",
     "start_time": "2021-07-08T14:20:55.529604Z"
    }
   },
   "outputs": [
    {
     "data": {
      "text/plain": [
       "[0.5506487488746643,\n",
       " 0.4360262155532837,\n",
       " 0.40668120980262756,\n",
       " 0.39736485481262207,\n",
       " 0.370868444442749,\n",
       " 0.34169742465019226,\n",
       " 0.3434922993183136,\n",
       " 0.2856542468070984,\n",
       " 0.24931243062019348,\n",
       " 0.21775884926319122]"
      ]
     },
     "execution_count": 34,
     "metadata": {},
     "output_type": "execute_result"
    }
   ],
   "source": [
    "history.history['loss']"
   ]
  },
  {
   "cell_type": "code",
   "execution_count": null,
   "metadata": {},
   "outputs": [],
   "source": []
  }
 ],
 "metadata": {
  "accelerator": "GPU",
  "colab": {
   "machine_shape": "hm",
   "name": "Classifier_code.ipynb",
   "provenance": []
  },
  "kernelspec": {
   "display_name": "Python 3",
   "language": "python",
   "name": "python3"
  },
  "language_info": {
   "codemirror_mode": {
    "name": "ipython",
    "version": 3
   },
   "file_extension": ".py",
   "mimetype": "text/x-python",
   "name": "python",
   "nbconvert_exporter": "python",
   "pygments_lexer": "ipython3",
   "version": "3.8.6"
  },
  "toc": {
   "base_numbering": 1,
   "nav_menu": {},
   "number_sections": true,
   "sideBar": true,
   "skip_h1_title": false,
   "title_cell": "Table of Contents",
   "title_sidebar": "Contents",
   "toc_cell": false,
   "toc_position": {},
   "toc_section_display": true,
   "toc_window_display": false
  }
 },
 "nbformat": 4,
 "nbformat_minor": 1
}
