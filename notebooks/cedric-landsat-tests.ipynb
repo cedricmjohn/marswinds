{
 "cells": [
  {
   "cell_type": "code",
   "execution_count": 1,
   "id": "792fe1f7",
   "metadata": {
    "ExecuteTime": {
     "end_time": "2021-06-08T15:37:16.764216Z",
     "start_time": "2021-06-08T15:37:15.691348Z"
    }
   },
   "outputs": [],
   "source": [
    "import os\n",
    "import ee\n",
    "import geemap\n",
    "import folium"
   ]
  },
  {
   "cell_type": "code",
   "execution_count": 2,
   "id": "b5f1bbb4",
   "metadata": {
    "ExecuteTime": {
     "end_time": "2021-06-08T15:37:21.272084Z",
     "start_time": "2021-06-08T15:37:18.434616Z"
    }
   },
   "outputs": [],
   "source": [
    "ee.Initialize()"
   ]
  },
  {
   "cell_type": "code",
   "execution_count": 27,
   "id": "cb290caa",
   "metadata": {
    "ExecuteTime": {
     "end_time": "2021-06-08T16:07:33.104721Z",
     "start_time": "2021-06-08T16:07:25.025125Z"
    }
   },
   "outputs": [
    {
     "name": "stdout",
     "output_type": "stream",
     "text": [
      "[(44.050000000000004, 24.950000000000003), (44.1, 25.0)]\n"
     ]
    },
    {
     "data": {
      "application/vnd.jupyter.widget-view+json": {
       "model_id": "cafcb99d896e46a2aaa94df2f15ecd5a",
       "version_major": 2,
       "version_minor": 0
      },
      "text/plain": [
       "Output()"
      ]
     },
     "metadata": {},
     "output_type": "display_data"
    },
    {
     "name": "stdout",
     "output_type": "stream",
     "text": [
      "[(44.050000000000004, 25.0), (44.1, 25.049999999999997)]\n"
     ]
    },
    {
     "data": {
      "application/vnd.jupyter.widget-view+json": {
       "model_id": "b82bd7ececf244279a933fcb75232c46",
       "version_major": 2,
       "version_minor": 0
      },
      "text/plain": [
       "Output()"
      ]
     },
     "metadata": {},
     "output_type": "display_data"
    },
    {
     "name": "stdout",
     "output_type": "stream",
     "text": [
      "[(44.1, 25.0), (44.15, 25.049999999999997)]\n"
     ]
    },
    {
     "data": {
      "application/vnd.jupyter.widget-view+json": {
       "model_id": "4b32aa39ddc74ddcbba9207079b31458",
       "version_major": 2,
       "version_minor": 0
      },
      "text/plain": [
       "Output()"
      ]
     },
     "metadata": {},
     "output_type": "display_data"
    },
    {
     "name": "stdout",
     "output_type": "stream",
     "text": [
      "[(44.1, 24.950000000000003), (44.15, 25.0)]\n"
     ]
    },
    {
     "data": {
      "application/vnd.jupyter.widget-view+json": {
       "model_id": "feccf8d1003549ccbc5c6f3addfc64f2",
       "version_major": 2,
       "version_minor": 0
      },
      "text/plain": [
       "Output()"
      ]
     },
     "metadata": {},
     "output_type": "display_data"
    }
   ],
   "source": [
    "lat= 25.0\n",
    "long = 44.1\n",
    "#satellite_name = 'LANDSAT/LC08/C01/T1_SR'\n",
    "satellite_name='COPERNICUS/S2_SR'\n",
    "\n",
    "\n",
    "def get_quadrant_image(coordinate, margin=0.025):\n",
    "    \n",
    "    #bounds = [coordinate[0]-0.025, \n",
    "     #  coordinate[1]-0.025,\n",
    "     # coordinate[0]+0.025,\n",
    "     # coordinate[1]+0.025]\n",
    "    \n",
    "    bounds = [(coordinate[0]-0.025,coordinate[1]-0.025),\n",
    "            (coordinate[0]+0.025,coordinate[1]+0.025)]\n",
    "        \n",
    "    #small_roi = np.array(roi)-0.025\n",
    "    roi = ee.Geometry.Rectangle(coords=bounds)\n",
    "    \n",
    "    collection = ee.ImageCollection(satellite_name) \\\n",
    "    .filterBounds(roi) \\\n",
    "    .sort(\"CLOUD_COVER\") \\\n",
    "    .limit(1)\n",
    "\n",
    "\n",
    "    image = collection.first()\n",
    "    \n",
    "    vis_params = {\n",
    "  'bands': [ 'B4','B3','B2'],\n",
    "  'min': 0,\n",
    "  'max': 6000,\n",
    "  'gamma': 1.4};\n",
    "    roi_str = \"_\".join([str(value) for value in bounds])\n",
    "    #out_img = os.path.expanduser(f\"~/Downloads/{'-'.join(satellite_name.split('/'))}{roi_str}.png\")\n",
    "    out_img = os.path.expanduser(f\"~/Downloads/test.jpg\")\n",
    "    region = ee.Geometry.Rectangle(bounds)\n",
    "    geemap.get_image_thumbnail(image, out_img,vis_params,dimensions=256,region=region, format='jpg')\n",
    "    #geemap.ee_to_numpy(image, bands=['B4' ,'B3', 'B2'],region=region)\n",
    "    print(bounds)\n",
    "    geemap.show_image(out_img)\n",
    "    \n",
    "    return out_img\n",
    "\n",
    "coordinates = [(long-0.025,lat-0.025),\n",
    "              (long-0.025,lat+0.025),\n",
    "              (long+0.025,lat+0.025),\n",
    "              (long+0.025,lat-0.025)]\n",
    "\n",
    "for coordinate in coordinates:\n",
    "    get_quadrant_image(coordinate)\n"
   ]
  },
  {
   "cell_type": "code",
   "execution_count": null,
   "id": "387128d5",
   "metadata": {},
   "outputs": [],
   "source": []
  }
 ],
 "metadata": {
  "kernelspec": {
   "display_name": "Python 3",
   "language": "python",
   "name": "python3"
  },
  "language_info": {
   "codemirror_mode": {
    "name": "ipython",
    "version": 3
   },
   "file_extension": ".py",
   "mimetype": "text/x-python",
   "name": "python",
   "nbconvert_exporter": "python",
   "pygments_lexer": "ipython3",
   "version": "3.8.6"
  },
  "toc": {
   "base_numbering": 1,
   "nav_menu": {},
   "number_sections": true,
   "sideBar": true,
   "skip_h1_title": false,
   "title_cell": "Table of Contents",
   "title_sidebar": "Contents",
   "toc_cell": false,
   "toc_position": {},
   "toc_section_display": true,
   "toc_window_display": false
  }
 },
 "nbformat": 4,
 "nbformat_minor": 5
}
