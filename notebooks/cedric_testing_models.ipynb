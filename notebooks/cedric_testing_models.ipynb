{
 "cells": [
  {
   "cell_type": "code",
   "execution_count": 2,
   "id": "943d4d67",
   "metadata": {
    "ExecuteTime": {
     "end_time": "2021-07-01T19:15:30.024054Z",
     "start_time": "2021-07-01T19:15:30.020562Z"
    }
   },
   "outputs": [],
   "source": [
    "import cv2\n",
    "import os\n",
    "import numpy as np\n",
    "import pandas as pd\n",
    "import matplotlib.pyplot as plt\n",
    "import matplotlib.pyplot as plt\n",
    "import math\n",
    "from marswinds.utils import radian_to_degree, degree_to_radian\n",
    "from tensorflow.keras.models import load_model\n",
    "import joblib\n",
    "from os import listdir\n",
    "from os.path import isfile, join"
   ]
  },
  {
   "cell_type": "code",
   "execution_count": 3,
   "id": "cd9a4874",
   "metadata": {
    "ExecuteTime": {
     "end_time": "2021-07-01T19:15:39.033460Z",
     "start_time": "2021-07-01T19:15:32.127032Z"
    }
   },
   "outputs": [
    {
     "name": "stderr",
     "output_type": "stream",
     "text": [
      "/Users/cedric/.pyenv/versions/marswinds/lib/python3.8/site-packages/sklearn/base.py:310: UserWarning: Trying to unpickle estimator MinMaxScaler from version 0.22 when using version 0.24.2. This might lead to breaking code or invalid results. Use at your own risk.\n",
      "  warnings.warn(\n"
     ]
    }
   ],
   "source": [
    "dune_test_path = '../raw_data/images/testing/dunes'\n",
    "no_dune_test_path = '../raw_data/images/testing/no_dunes'\n",
    "base_folder='../raw_data/trained_models'\n",
    "\n",
    "regressor = load_model(f'{base_folder}/regressor.h5')\n",
    "regressor_2 = load_model(f'{base_folder}/final_post_bootcamp.h5')\n",
    "final_regressor = load_model(f'{base_folder}/final_post_bootcamp.h5')\n",
    "regressor_dir = load_model(f'{base_folder}/wind_direction.h5')\n",
    "classifier = load_model(f'{base_folder}/classifier.h5')\n",
    "scaler = joblib.load(f'{base_folder}/scaler.lib')\n"
   ]
  },
  {
   "cell_type": "markdown",
   "id": "0f1665fd",
   "metadata": {},
   "source": [
    "# Testing the regressor"
   ]
  },
  {
   "cell_type": "code",
   "execution_count": null,
   "id": "08ef2a01",
   "metadata": {
    "ExecuteTime": {
     "end_time": "2021-07-01T19:08:48.941701Z",
     "start_time": "2021-07-01T19:08:48.838433Z"
    }
   },
   "outputs": [],
   "source": [
    "test_files = [f for f in listdir(dune_test_path) if len(f)>30]\n",
    "test_files"
   ]
  },
  {
   "cell_type": "code",
   "execution_count": null,
   "id": "0a4b5179",
   "metadata": {
    "ExecuteTime": {
     "end_time": "2021-07-01T16:05:26.755525Z",
     "start_time": "2021-07-01T16:05:26.751809Z"
    }
   },
   "outputs": [],
   "source": [
    "def get_label(image_name):\n",
    "    parts = image_name[:-4].split('_')\n",
    "    sin = float(parts[-3])\n",
    "    cos = float(parts[-2])\n",
    "    angle = radian_to_degree(math.atan2(sin, cos))\n",
    "    wind_strength = float(parts[-1])\n",
    "    \n",
    "    return(wind_strength, angle)"
   ]
  },
  {
   "cell_type": "code",
   "execution_count": null,
   "id": "e9537786",
   "metadata": {
    "ExecuteTime": {
     "end_time": "2021-07-01T16:05:28.805561Z",
     "start_time": "2021-07-01T16:05:28.760556Z"
    }
   },
   "outputs": [],
   "source": [
    "labels = [get_label(f) for f in test_files]\n",
    "labels"
   ]
  },
  {
   "cell_type": "code",
   "execution_count": null,
   "id": "0c653bd5",
   "metadata": {
    "ExecuteTime": {
     "end_time": "2021-07-01T16:05:33.495559Z",
     "start_time": "2021-07-01T16:05:33.489821Z"
    }
   },
   "outputs": [],
   "source": [
    "def prediction_from_models(image_name):\n",
    "        image_path = f'{dune_test_path}/{image_name}'\n",
    "        try:\n",
    "            image = cv2.imread(image_path)\n",
    "            grey_image = cv2.cvtColor(image, cv2.COLOR_RGB2GRAY) / 255.0\n",
    "            expanded = np.expand_dims(np.expand_dims(grey_image,axis=0), axis=3)\n",
    "            predicted_regressed = final_regressor.predict(expanded)[0]\n",
    "            wind_strength = predicted_regressed[0]\n",
    "            sin = predicted_regressed[2] # Changed to match Aris code\n",
    "            cos = predicted_regressed[1]\n",
    "            angle_rad = math.atan2(sin, cos)\n",
    "        except Exception as e:\n",
    "            print(f'Problem with file {image_path}')\n",
    "            print(e)\n",
    "            return (np.nan,np.nan)\n",
    "        \n",
    "        return (scaler.inverse_transform([[wind_strength]])[0][0], radian_to_degree(angle_rad))"
   ]
  },
  {
   "cell_type": "code",
   "execution_count": null,
   "id": "ef071034",
   "metadata": {
    "ExecuteTime": {
     "end_time": "2021-07-01T18:08:39.875044Z",
     "start_time": "2021-07-01T18:08:39.857581Z"
    }
   },
   "outputs": [],
   "source": [
    "from tqdm import tqdm\n",
    "\n",
    "log_name = '../raw_data/logs/testing_regressor_2.csv'\n",
    "d = {'filename':[],\n",
    "    'angular_diff':[],\n",
    "    'speed_diff':[],\n",
    "    'predicted_angle':[],\n",
    "    'actual_angle':[]}\n",
    "\n",
    "df = pd.DataFrame.from_dict(d).to_csv(log_name, index=False)\n",
    "\n",
    "def get_diff(files):\n",
    "    \n",
    "    for file in tqdm(files):\n",
    "        pred_wind, pred_angle = prediction_from_models(file)\n",
    "        label_wind, label_angle = get_label(file)\n",
    "        \n",
    "        wind_diff = np.abs(label_wind-pred_wind)\n",
    "        angle_diff = np.abs(label_angle-pred_angle)\n",
    "        if angle_diff > 180: angle_diff = 360-angle_diff\n",
    "            \n",
    "        d = {'filename':[file],\n",
    "        'angular_diff':[angle_diff**2],\n",
    "        'speed_diff':[wind_diff**2],\n",
    "    'predicted_angle':[pred_angle],\n",
    "    'actual_angle':[label_angle]}\n",
    "\n",
    "        pd.concat([pd.read_csv(log_name), pd.DataFrame.from_dict(d)]).to_csv(log_name, index=False)\n",
    "    \n",
    "    return pd.read_csv(log_name)\n",
    "        \n",
    "        "
   ]
  },
  {
   "cell_type": "code",
   "execution_count": null,
   "id": "c922c34c",
   "metadata": {
    "ExecuteTime": {
     "end_time": "2021-07-01T16:10:20.589474Z",
     "start_time": "2021-07-01T16:05:41.414908Z"
    }
   },
   "outputs": [],
   "source": [
    "get_diff(test_files)\n"
   ]
  },
  {
   "cell_type": "code",
   "execution_count": null,
   "id": "731481ec",
   "metadata": {
    "ExecuteTime": {
     "end_time": "2021-07-01T16:10:27.317227Z",
     "start_time": "2021-07-01T16:10:27.303506Z"
    }
   },
   "outputs": [],
   "source": [
    "res = pd.read_csv(log_name)\n",
    "\n",
    "np.sqrt(res.angular_diff.mean())"
   ]
  },
  {
   "cell_type": "code",
   "execution_count": null,
   "id": "032864e5",
   "metadata": {
    "ExecuteTime": {
     "end_time": "2021-06-18T12:56:04.716387Z",
     "start_time": "2021-06-18T12:56:04.709156Z"
    }
   },
   "outputs": [],
   "source": [
    "bad_res = res[res.angular_diff>100**2]"
   ]
  },
  {
   "cell_type": "code",
   "execution_count": null,
   "id": "612b9cb3",
   "metadata": {
    "ExecuteTime": {
     "end_time": "2021-06-18T12:56:07.934055Z",
     "start_time": "2021-06-18T12:56:07.913207Z"
    }
   },
   "outputs": [],
   "source": [
    "bad_res.drop_duplicates()"
   ]
  },
  {
   "cell_type": "code",
   "execution_count": null,
   "id": "72d101ba",
   "metadata": {
    "ExecuteTime": {
     "end_time": "2021-07-01T16:11:10.887050Z",
     "start_time": "2021-07-01T16:11:10.882702Z"
    }
   },
   "outputs": [],
   "source": [
    "np.sqrt(res.angular_diff.mean())"
   ]
  },
  {
   "cell_type": "code",
   "execution_count": null,
   "id": "5b25623c",
   "metadata": {
    "ExecuteTime": {
     "end_time": "2021-07-01T16:11:13.635032Z",
     "start_time": "2021-07-01T16:11:13.631853Z"
    }
   },
   "outputs": [],
   "source": [
    "mrse_wind_model = np.sqrt(res.speed_diff.mean())"
   ]
  },
  {
   "cell_type": "code",
   "execution_count": null,
   "id": "d11cd7bd",
   "metadata": {
    "ExecuteTime": {
     "end_time": "2021-07-01T16:11:15.906354Z",
     "start_time": "2021-07-01T16:11:15.738199Z"
    }
   },
   "outputs": [],
   "source": [
    "res.actual_angle.hist()"
   ]
  },
  {
   "cell_type": "code",
   "execution_count": null,
   "id": "70d65c11",
   "metadata": {
    "ExecuteTime": {
     "end_time": "2021-07-01T16:11:22.654739Z",
     "start_time": "2021-07-01T16:11:22.514586Z"
    }
   },
   "outputs": [],
   "source": [
    "res.predicted_angle.hist()"
   ]
  },
  {
   "cell_type": "code",
   "execution_count": null,
   "id": "c410db6e",
   "metadata": {
    "ExecuteTime": {
     "end_time": "2021-07-01T16:12:24.168275Z",
     "start_time": "2021-07-01T16:12:23.843818Z"
    }
   },
   "outputs": [],
   "source": [
    "dune_train_path = '../raw_data/images/training/dunes'\n",
    "train_files = [f for f in listdir(dune_train_path) if len(f)>30]\n",
    "train_labels_direction = [get_label(f)[1] for f in train_files]\n",
    "pd.DataFrame(train_labels_direction).hist()"
   ]
  },
  {
   "cell_type": "markdown",
   "id": "df07933c",
   "metadata": {},
   "source": [
    "### Performance of wind direction prediction model"
   ]
  },
  {
   "cell_type": "code",
   "execution_count": null,
   "id": "a0c6af4e",
   "metadata": {
    "ExecuteTime": {
     "end_time": "2021-07-01T16:12:27.187223Z",
     "start_time": "2021-07-01T16:12:27.181816Z"
    }
   },
   "outputs": [],
   "source": [
    "mean_wind_dir = np.mean(train_labels_direction)\n",
    "mrse_base_wind_dir = np.sqrt(np.mean((np.array(train_labels_direction)-mean_wind_dir)**2))\n",
    "mrse_model_wind_dir = np.sqrt(res.angular_diff.mean())\n",
    "\n",
    "print(f'MRSE our model: {mrse_model_wind_dir}')\n",
    "print(f'MRSE base prediction: {mrse_base_wind_dir}')"
   ]
  },
  {
   "cell_type": "markdown",
   "id": "27b8c08e",
   "metadata": {},
   "source": [
    "### Performance of wind strength prediction model"
   ]
  },
  {
   "cell_type": "code",
   "execution_count": null,
   "id": "c1143c97",
   "metadata": {
    "ExecuteTime": {
     "end_time": "2021-07-01T16:12:31.801966Z",
     "start_time": "2021-07-01T16:12:31.771914Z"
    }
   },
   "outputs": [],
   "source": [
    "wind_directions_training = [get_label(f)[0] for f in train_files]\n",
    "\n",
    "mean_wind_direction = np.mean(wind_directions_training)\n",
    "\n",
    "base_model_score = np.sqrt(np.mean((np.array(wind_directions_training)-mean_wind_direction)**2))\n",
    "base_model_score"
   ]
  },
  {
   "cell_type": "code",
   "execution_count": null,
   "id": "9b483d8e",
   "metadata": {
    "ExecuteTime": {
     "end_time": "2021-07-01T16:12:36.653530Z",
     "start_time": "2021-07-01T16:12:36.650094Z"
    },
    "scrolled": true
   },
   "outputs": [],
   "source": [
    "print(f'MRSE our model: {mrse_wind_model}')\n",
    "print(f'MRSE base prediction: {base_model_score}')"
   ]
  },
  {
   "cell_type": "markdown",
   "id": "c2e50dc6",
   "metadata": {},
   "source": [
    "## Testing Sin/Cos model only"
   ]
  },
  {
   "cell_type": "code",
   "execution_count": null,
   "id": "9fbd0f18",
   "metadata": {
    "ExecuteTime": {
     "end_time": "2021-06-17T12:35:16.074485Z",
     "start_time": "2021-06-17T12:35:16.069987Z"
    }
   },
   "outputs": [],
   "source": [
    "def get_diff_direction(files):\n",
    "    \n",
    "    for file in files:\n",
    "        pred_angle = predict_direction_from_models(file)\n",
    "        label_wind, label_angle = get_label(file)\n",
    "        angle_diff = np.abs(label_angle-pred_angle)\n",
    "        if angle_diff > 180: angle_diff = 360-angle_diff\n",
    "            \n",
    "        d = {'filename':[file],\n",
    "        'angular_diff':[angle_diff**2],\n",
    "        'predicted_angle':[pred_angle],\n",
    "        'actual_angle':[label_angle]}\n",
    "\n",
    "        pd.concat([pd.read_csv(log_name), pd.DataFrame.from_dict(d)]).to_csv(log_name, index=False)\n",
    "    \n",
    "    return pd.read_csv(log_name)\n",
    "        \n",
    "        "
   ]
  },
  {
   "cell_type": "code",
   "execution_count": null,
   "id": "a5869386",
   "metadata": {
    "ExecuteTime": {
     "end_time": "2021-06-17T13:25:14.998237Z",
     "start_time": "2021-06-17T13:25:14.993613Z"
    }
   },
   "outputs": [],
   "source": [
    "def predict_direction_from_models(image_name):\n",
    "        image_path = f'{dune_test_path}/{image_name}'\n",
    "        try:\n",
    "            image = cv2.imread(image_path)\n",
    "            grey_image = cv2.cvtColor(image, cv2.COLOR_RGB2GRAY) / 255.0\n",
    "            expanded = np.expand_dims(np.expand_dims(grey_image,axis=0), axis=3)\n",
    "            predicted_regressed = regressor_dir.predict(expanded)[0]\n",
    "            sin = predicted_regressed[1] # Changed to match Aris code\n",
    "            cos = predicted_regressed[0]\n",
    "            angle_rad = math.atan2(sin, cos)\n",
    "        except:\n",
    "            print(f'Problem with file {image_path}')\n",
    "            return (np.nan,np.nan)\n",
    "        \n",
    "        return (radian_to_degree(angle_rad))"
   ]
  },
  {
   "cell_type": "code",
   "execution_count": null,
   "id": "52b3a83e",
   "metadata": {
    "ExecuteTime": {
     "end_time": "2021-06-17T13:27:02.365570Z",
     "start_time": "2021-06-17T13:27:02.338003Z"
    }
   },
   "outputs": [],
   "source": [
    "log_name = '../raw_data/logs/testing_wind_dir_regressor.csv'\n",
    "\n",
    "d = {'filename':[],\n",
    "    'angular_diff':[],\n",
    "    'predicted_angle':[],\n",
    "    'actual_angle':[]}\n",
    "\n",
    "df = pd.DataFrame.from_dict(d).to_csv(log_name, index=False)\n",
    "\n",
    "dune_test_path = '../raw_data/images/testing/dunes'\n",
    "\n",
    "test_wind_dir_files = [f for f in listdir(dune_test_path) if len(f)>30]"
   ]
  },
  {
   "cell_type": "code",
   "execution_count": null,
   "id": "9aafb468",
   "metadata": {
    "ExecuteTime": {
     "end_time": "2021-06-17T14:03:47.724778Z",
     "start_time": "2021-06-17T13:27:06.975993Z"
    }
   },
   "outputs": [],
   "source": [
    "df = get_diff_direction(test_wind_dir_files)\n",
    "df"
   ]
  },
  {
   "cell_type": "code",
   "execution_count": null,
   "id": "7e097544",
   "metadata": {
    "ExecuteTime": {
     "end_time": "2021-06-17T14:04:40.863637Z",
     "start_time": "2021-06-17T14:04:40.859796Z"
    }
   },
   "outputs": [],
   "source": [
    "\n",
    "mrse_model_wind_dir_sin_cos = np.sqrt(df.angular_diff.mean())\n",
    "\n",
    "print(f'MRSE our model: {mrse_model_wind_dir_sin_cos}')\n",
    "print(f'MRSE base prediction: {mrse_base_wind_dir}')"
   ]
  },
  {
   "cell_type": "code",
   "execution_count": null,
   "id": "1f867564",
   "metadata": {},
   "outputs": [],
   "source": []
  },
  {
   "cell_type": "markdown",
   "id": "bdc41907",
   "metadata": {
    "ExecuteTime": {
     "end_time": "2021-06-17T04:28:06.005655Z",
     "start_time": "2021-06-17T04:28:06.003129Z"
    }
   },
   "source": [
    "# Testing the Classifier"
   ]
  },
  {
   "cell_type": "code",
   "execution_count": 4,
   "id": "ba29abd5",
   "metadata": {
    "ExecuteTime": {
     "end_time": "2021-07-01T19:15:53.194494Z",
     "start_time": "2021-07-01T19:15:53.180482Z"
    }
   },
   "outputs": [],
   "source": [
    "from tqdm import tqdm\n",
    "\n",
    "def prediction_from_classifier(image_name):\n",
    "        image_path = f'{dune_test_path}/{image_name}'\n",
    "        try:\n",
    "            image = cv2.imread(image_path)\n",
    "            grey_image = cv2.cvtColor(image, cv2.COLOR_RGB2GRAY) / 255.0\n",
    "            expanded = np.expand_dims(np.expand_dims(grey_image,axis=0), axis=3)\n",
    "            predicted_proba = classifier.predict(expanded)[0][0]\n",
    "            if predicted_proba > 0.5:\n",
    "                predicted_class = 'dunes'\n",
    "            else:\n",
    "                predicted_class = 'no_dunes'\n",
    "        except:\n",
    "            print(f'Problem with file {image_path}')\n",
    "            return (np.nan,np.nan)\n",
    "        \n",
    "        return (predicted_proba, predicted_class)"
   ]
  },
  {
   "cell_type": "code",
   "execution_count": 8,
   "id": "99e9397c",
   "metadata": {
    "ExecuteTime": {
     "end_time": "2021-07-01T19:17:06.558447Z",
     "start_time": "2021-07-01T19:17:06.552081Z"
    }
   },
   "outputs": [],
   "source": [
    "log_name = '../raw_data/logs/testing_classifier2.csv'\n",
    "d = {'filename':[],\n",
    "    'actual_class':[],\n",
    "    'predicted_class':[],\n",
    "    'predicted_proba':[]}\n",
    "\n",
    "df = pd.DataFrame.from_dict(d).to_csv(log_name, index=False)\n",
    "\n",
    "def get_class(files, label):\n",
    "    \n",
    "    for file in tqdm(files):\n",
    "        pred_proba, pred_class = prediction_from_classifier(file)\n",
    "\n",
    "            \n",
    "        d = {'filename':[file],\n",
    "        'actual_class':[label],\n",
    "        'predicted_class':[pred_class],\n",
    "        'predicted_proba':[pred_proba]}\n",
    "\n",
    "        pd.concat([pd.read_csv(log_name), pd.DataFrame.from_dict(d)]).to_csv(log_name, index=False)\n",
    "    \n",
    "    return pd.read_csv(log_name)"
   ]
  },
  {
   "cell_type": "code",
   "execution_count": 6,
   "id": "809a70e5",
   "metadata": {
    "ExecuteTime": {
     "end_time": "2021-07-01T19:16:03.443634Z",
     "start_time": "2021-07-01T19:16:03.364723Z"
    }
   },
   "outputs": [],
   "source": [
    "dune_test_path = '../raw_data/images/testing/dunes'\n",
    "no_dune_test_path = '../raw_data/images/testing/no_dunes'\n",
    "\n",
    "is_dune_files = ('dunes', [f for f in listdir(dune_test_path) if len(f)>30])\n",
    "no_dune_files = ('no_dunes',[f for f in listdir(no_dune_test_path) if len(f)>30])"
   ]
  },
  {
   "cell_type": "code",
   "execution_count": 9,
   "id": "a581955b",
   "metadata": {
    "ExecuteTime": {
     "end_time": "2021-07-01T19:23:11.923722Z",
     "start_time": "2021-07-01T19:17:09.202075Z"
    },
    "scrolled": true
   },
   "outputs": [
    {
     "name": "stderr",
     "output_type": "stream",
     "text": [
      "100%|██████████| 2777/2777 [03:18<00:00, 13.97it/s]\n",
      "  0%|          | 3/3313 [00:00<02:23, 23.13it/s]"
     ]
    },
    {
     "name": "stdout",
     "output_type": "stream",
     "text": [
      "Problem with file ../raw_data/images/testing/dunes/14.757500267028808_48.25750045776367_01_CW000_0.5697365403175354_-0.24281641840934753_1.2468816041946411.jpg\n",
      "Problem with file ../raw_data/images/testing/dunes/43.09849853515625_100.77872314453126_010_CW000_-0.4079539477825165_0.7680480480194092_2.133735179901123.jpg\n",
      "Problem with file ../raw_data/images/testing/dunes/33.33850173950195_64.25090179443359_023_CW000_-0.19145871698856354_-0.3099783658981323_0.959148108959198.jpg\n",
      "Problem with file ../raw_data/images/testing/dunes/20.466499710083006_16.83580093383789_031_CW000_-0.7050067186355591_0.17107044160366058_0.5570440888404846.jpg\n",
      "Problem with file ../raw_data/images/testing/dunes/38.5854995727539_96.08677520751954_020_CW000_0.1708187609910965_0.8070891499519348_1.4546841382980347.jpg\n"
     ]
    },
    {
     "name": "stderr",
     "output_type": "stream",
     "text": [
      "  0%|          | 9/3313 [00:00<02:29, 22.09it/s]"
     ]
    },
    {
     "name": "stdout",
     "output_type": "stream",
     "text": [
      "Problem with file ../raw_data/images/testing/dunes/20.36649932861328_16.38554916381836_033_CW000_-0.06521864980459213_0.15649478137493134_0.6092240214347839.jpg\n",
      "Problem with file ../raw_data/images/testing/dunes/33.41849975585937_55.486542510986325_021_CW000_-0.6878598928451538_0.35237565636634827_1.3015036582946777.jpg\n",
      "Problem with file ../raw_data/images/testing/dunes/41.62049942016601_75.97950134277343_023_CW000_0.19551150500774384_-0.18319888412952423_0.7999233603477478.jpg\n",
      "Problem with file ../raw_data/images/testing/dunes/43.14850082397461_101.1038330078125_031_CW000_-0.1863543689250946_0.8408895134925842_1.9971835613250732.jpg\n",
      "Problem with file ../raw_data/images/testing/dunes/22.167500305175782_51.19749984741211_023_CW000_-0.7303146719932556_-0.5044719576835632_1.9662197828292847.jpg\n"
     ]
    },
    {
     "name": "stderr",
     "output_type": "stream",
     "text": [
      "\r",
      "  0%|          | 12/3313 [00:00<02:28, 22.21it/s]"
     ]
    },
    {
     "name": "stdout",
     "output_type": "stream",
     "text": [
      "Problem with file ../raw_data/images/testing/dunes/38.060499572753905_96.36195526123046_033_CW000_-0.20896528661251068_0.882768452167511_1.398188591003418.jpg\n",
      "Problem with file ../raw_data/images/testing/dunes/19.917499160766603_34.14212341308594_02_CW000_-0.8118012547492981_-0.20359788835048676_3.499728202819824.jpg\n",
      "Problem with file ../raw_data/images/testing/dunes/21.04149971008301_16.81080093383789_00_CW000_-0.684723973274231_-0.03733500838279724_0.8428527116775513.jpg\n",
      "Problem with file ../raw_data/images/testing/dunes/33.91849975585937_55.83666763305664_023_CW000_-0.7876712679862976_-0.07554517686367035_1.9258984327316284.jpg\n",
      "Problem with file ../raw_data/images/testing/dunes/20.641500091552736_16.91085090637207_00_CW000_-0.7020641565322876_0.2976413369178772_0.5236460566520691.jpg\n"
     ]
    },
    {
     "name": "stderr",
     "output_type": "stream",
     "text": [
      "  1%|          | 18/3313 [00:00<02:28, 22.25it/s]"
     ]
    },
    {
     "name": "stdout",
     "output_type": "stream",
     "text": [
      "Problem with file ../raw_data/images/testing/dunes/20.71650047302246_17.08590087890625_013_CW000_-0.5626145005226135_0.3532107174396515_0.5967787504196167.jpg\n",
      "Problem with file ../raw_data/images/testing/dunes/33.01349868774414_63.40049819946289_031_CW000_-0.6691743731498718_-0.43069934844970703_0.7408806681632996.jpg\n",
      "Problem with file ../raw_data/images/testing/dunes/15.007500457763673_48.10749969482422_023_CW000_0.5406758785247803_-0.2509938180446625_2.1969501972198486.jpg\n",
      "Problem with file ../raw_data/images/testing/dunes/31.299500274658204_61.382544708251956_022_CW000_-0.9628475308418274_0.24484972655773163_5.422873020172119.jpg\n",
      "Problem with file ../raw_data/images/testing/dunes/40.42049865722656_76.65474243164063_022_CW000_-0.7288605570793152_0.6054867506027222_1.2320246696472168.jpg\n"
     ]
    },
    {
     "name": "stderr",
     "output_type": "stream",
     "text": [
      "  1%|          | 24/3313 [00:01<02:27, 22.27it/s]"
     ]
    },
    {
     "name": "stdout",
     "output_type": "stream",
     "text": [
      "Problem with file ../raw_data/images/testing/dunes/31.44950065612793_61.83276214599609_00_CW000_-0.8927316069602966_0.34784722328186035_4.256605625152588.jpg\n",
      "Problem with file ../raw_data/images/testing/dunes/44.54449996948242_109.08058471679688_02_CW000_-0.5588897466659546_0.5677530169487_2.0252604484558105.jpg\n",
      "Problem with file ../raw_data/images/testing/dunes/43.01750106811524_107.88594360351563_012_CW000_0.16554132103919983_0.7164748907089233_1.9545917510986328.jpg\n",
      "Problem with file ../raw_data/images/testing/dunes/41.445498657226565_76.72977905273437_011_CW000_0.6956762075424194_0.04067382961511612_1.0818815231323242.jpg\n",
      "Problem with file ../raw_data/images/testing/dunes/33.23849945068359_64.00079803466797_021_CW000_-0.02712608315050602_-0.4054909646511078_0.9594680666923523.jpg\n"
     ]
    },
    {
     "name": "stderr",
     "output_type": "stream",
     "text": [
      "\r",
      "  1%|          | 27/3313 [00:01<02:24, 22.69it/s]"
     ]
    },
    {
     "name": "stdout",
     "output_type": "stream",
     "text": [
      "Problem with file ../raw_data/images/testing/dunes/33.968499755859376_55.386498260498044_01_CW000_-0.8169167637825012_0.11580604314804077_2.0763494968414307.jpg\n",
      "Problem with file ../raw_data/images/testing/dunes/43.21750183105469_107.060498046875_011_CW000_-0.3970525562763214_0.6987496018409729_2.124063491821289.jpg\n",
      "Problem with file ../raw_data/images/testing/dunes/40.49550094604492_76.40466918945313_030_CW000_-0.28530389070510864_0.7889005541801453_0.8629425168037415.jpg\n",
      "Problem with file ../raw_data/images/testing/dunes/31.349500274658205_61.807717895507814_03_CW000_-0.909125030040741_0.343302458524704_4.3167877197265625.jpg\n",
      "Problem with file ../raw_data/images/testing/dunes/31.628500366210936_57.08076629638672_033_CW000_-0.6103047728538513_0.683489978313446_1.1949867010116577.jpg\n"
     ]
    },
    {
     "name": "stderr",
     "output_type": "stream",
     "text": [
      "  1%|          | 33/3313 [00:01<02:20, 23.42it/s]"
     ]
    },
    {
     "name": "stdout",
     "output_type": "stream",
     "text": [
      "Problem with file ../raw_data/images/testing/dunes/44.64449844360352_108.95550231933593_01_CW000_-0.44161590933799744_0.6375353336334229_2.070099115371704.jpg\n",
      "Problem with file ../raw_data/images/testing/dunes/34.118500518798825_55.98674850463867_021_CW000_-0.6121608018875122_-0.43064016103744507_2.032421588897705.jpg\n",
      "Problem with file ../raw_data/images/testing/dunes/31.228500747680663_57.230900573730466_031_CW000_-0.6411070823669434_0.6768450140953064_1.0373378992080688.jpg\n",
      "Problem with file ../raw_data/images/testing/dunes/20.641500091552736_16.885800933837892_03_CW000_-0.7365004420280457_0.14443030953407288_0.5568229556083679.jpg\n",
      "Problem with file ../raw_data/images/testing/dunes/25.66250076293945_26.972500228881835_030_CW000_-0.9113928079605103_0.05076518654823303_2.305976629257202.jpg\n"
     ]
    },
    {
     "name": "stderr",
     "output_type": "stream",
     "text": [
      "  1%|          | 39/3313 [00:01<02:17, 23.80it/s]"
     ]
    },
    {
     "name": "stdout",
     "output_type": "stream",
     "text": [
      "Problem with file ../raw_data/images/testing/dunes/15.327500152587891_49.457498168945314_023_CW000_0.4904870092868805_-0.5652287006378174_1.6804332733154297.jpg\n",
      "Problem with file ../raw_data/images/testing/dunes/43.042501068115236_107.3606689453125_01_CW000_-0.21536904573440552_0.7283552289009094_1.9757072925567627.jpg\n",
      "Problem with file ../raw_data/images/testing/dunes/44.99149856567383_70.7788818359375_01_CW000_-0.1807394027709961_-0.6585723161697388_1.8677932024002075.jpg\n",
      "Problem with file ../raw_data/images/testing/dunes/40.64549942016602_76.90484466552735_010_CW000_-0.7509445548057556_0.6033833026885986_1.1220580339431763.jpg\n",
      "Problem with file ../raw_data/images/testing/dunes/18.862499618530272_45.34250106811523_030_CW000_0.01870831288397312_-0.7180923223495483_2.287445068359375.jpg\n"
     ]
    },
    {
     "name": "stderr",
     "output_type": "stream",
     "text": [
      "\r",
      "  1%|▏         | 42/3313 [00:01<02:17, 23.76it/s]"
     ]
    },
    {
     "name": "stdout",
     "output_type": "stream",
     "text": [
      "Problem with file ../raw_data/images/testing/dunes/38.410498809814456_96.63722534179688_012_CW000_0.03490131348371506_0.8277473449707031_1.4033863544464111.jpg\n",
      "Problem with file ../raw_data/images/testing/dunes/44.91649856567383_70.35357513427735_030_CW000_-0.14516392350196838_-0.6476145386695862_1.860705018043518.jpg\n",
      "Problem with file ../raw_data/images/testing/dunes/15.552499961853027_49.28249969482422_010_CW000_0.4089500904083252_-0.5863487124443054_2.01102352142334.jpg\n",
      "Problem with file ../raw_data/images/testing/dunes/14.982500457763672_48.13249816894531_030_CW000_0.5263717770576477_-0.25283780694007874_2.1373305320739746.jpg\n",
      "Problem with file ../raw_data/images/testing/dunes/38.010501098632815_96.11177520751953_011_CW000_-0.4780835509300232_0.8095149993896484_1.3793857097625732.jpg\n"
     ]
    },
    {
     "name": "stderr",
     "output_type": "stream",
     "text": [
      "  1%|▏         | 48/3313 [00:02<02:22, 22.91it/s]"
     ]
    },
    {
     "name": "stdout",
     "output_type": "stream",
     "text": [
      "Problem with file ../raw_data/images/testing/dunes/40.92049865722656_76.3296401977539_021_CW000_0.568324625492096_0.22971676290035248_0.8561831712722778.jpg\n",
      "Problem with file ../raw_data/images/testing/dunes/43.79250030517578_107.085498046875_022_CW000_-0.5001820921897888_0.7152990102767944_2.6138482093811035.jpg\n",
      "Problem with file ../raw_data/images/testing/dunes/33.53849868774414_63.850701904296876_023_CW000_-0.6696593761444092_-0.17544731497764587_0.9920624494552612.jpg\n",
      "Problem with file ../raw_data/images/testing/dunes/33.393499755859374_55.96174850463867_030_CW000_-0.4221571087837219_-0.20386292040348053_1.2630585432052612.jpg\n",
      "Problem with file ../raw_data/images/testing/dunes/15.227499771118165_49.38249816894531_020_CW000_0.5408222675323486_-0.5589249134063721_1.6612167358398438.jpg\n"
     ]
    },
    {
     "name": "stderr",
     "output_type": "stream",
     "text": [
      "  2%|▏         | 54/3313 [00:02<02:20, 23.17it/s]"
     ]
    },
    {
     "name": "stdout",
     "output_type": "stream",
     "text": [
      "Problem with file ../raw_data/images/testing/dunes/20.591500091552735_17.03590087890625_021_CW000_-0.6005749106407166_0.3735356032848358_0.5327000021934509.jpg\n",
      "Problem with file ../raw_data/images/testing/dunes/44.394501495361325_109.53099670410157_020_CW000_-0.4494197368621826_0.595008909702301_1.5383142232894897.jpg\n",
      "Problem with file ../raw_data/images/testing/dunes/19.8924991607666_33.81675033569336_011_CW000_-0.8738033175468445_-0.11709754168987274_3.705632209777832.jpg\n",
      "Problem with file ../raw_data/images/testing/dunes/15.082499885559082_48.08249969482422_032_CW000_0.555108368396759_-0.25157174468040466_2.1437087059020996.jpg\n",
      "Problem with file ../raw_data/images/testing/dunes/14.782499694824219_48.30750045776367_033_CW000_0.5260545015335083_-0.2561887502670288_1.52852463722229.jpg\n"
     ]
    },
    {
     "name": "stderr",
     "output_type": "stream",
     "text": [
      "\r",
      "  2%|▏         | 57/3313 [00:02<02:26, 22.26it/s]"
     ]
    },
    {
     "name": "stdout",
     "output_type": "stream",
     "text": [
      "Problem with file ../raw_data/images/testing/dunes/32.71349945068359_63.42549819946289_032_CW000_-0.5832479596138_-0.22287534177303314_0.8822293877601624.jpg\n",
      "Problem with file ../raw_data/images/testing/dunes/32.7634994506836_63.775701904296874_010_CW000_-0.5201670527458191_0.20122765004634857_0.7504945397377014.jpg\n",
      "Problem with file ../raw_data/images/testing/dunes/45.09150085449219_70.72880706787109_03_CW000_-0.18113432824611664_-0.6709339022636414_1.9068721532821655.jpg\n",
      "Problem with file ../raw_data/images/testing/dunes/42.84850158691406_100.42857666015625_032_CW000_-0.7145716547966003_0.401710569858551_1.8731719255447388.jpg\n",
      "Problem with file ../raw_data/images/testing/dunes/43.76750030517578_107.43572082519532_030_CW000_-0.5626519322395325_0.6359518766403198_2.296236038208008.jpg\n"
     ]
    },
    {
     "name": "stderr",
     "output_type": "stream",
     "text": [
      "  2%|▏         | 63/3313 [00:02<02:20, 23.08it/s]"
     ]
    },
    {
     "name": "stdout",
     "output_type": "stream",
     "text": [
      "Problem with file ../raw_data/images/testing/dunes/40.545500946044925_76.67974243164062_013_CW000_-0.5778640508651733_0.7082821726799011_1.0332496166229248.jpg\n",
      "Problem with file ../raw_data/images/testing/dunes/31.2745002746582_61.382544708251956_032_CW000_-0.9628475308418274_0.24484972655773163_5.422873020172119.jpg\n",
      "Problem with file ../raw_data/images/testing/dunes/40.64549942016602_77.07988128662109_013_CW000_-0.7803475260734558_0.5782200694084167_1.1328470706939697.jpg\n",
      "Problem with file ../raw_data/images/testing/dunes/40.695501708984374_76.3296401977539_031_CW000_0.4586837589740753_0.5249853730201721_0.9056394100189209.jpg\n",
      "Problem with file ../raw_data/images/testing/dunes/41.49550094604492_77.07988128662109_033_CW000_0.7791029810905457_0.10028454661369324_1.132707118988037.jpg\n"
     ]
    },
    {
     "name": "stderr",
     "output_type": "stream",
     "text": [
      "  2%|▏         | 69/3313 [00:03<02:19, 23.25it/s]"
     ]
    },
    {
     "name": "stdout",
     "output_type": "stream",
     "text": [
      "Problem with file ../raw_data/images/testing/dunes/29.205500411987305_16.781499481201173_023_CW000_-0.4958956241607666_-0.2636813819408417_1.9415779113769531.jpg\n",
      "Problem with file ../raw_data/images/testing/dunes/33.31350173950195_63.70065002441406_031_CW000_-0.47929540276527405_-0.38916826248168945_0.748898983001709.jpg\n",
      "Problem with file ../raw_data/images/testing/dunes/42.96750106811523_107.18555755615235_032_CW000_-0.29717308282852173_0.6999905705451965_1.9841382503509521.jpg\n",
      "Problem with file ../raw_data/images/testing/dunes/26.132500076293944_40.55161743164062_031_CW000_0.06576713919639587_0.2708597183227539_1.3499454259872437.jpg\n",
      "Problem with file ../raw_data/images/testing/dunes/41.17049942016602_76.92984466552734_01_CW000_0.07071025669574738_-0.12174086272716522_0.6477588415145874.jpg\n"
     ]
    },
    {
     "name": "stderr",
     "output_type": "stream",
     "text": [
      "\r",
      "  2%|▏         | 72/3313 [00:03<02:19, 23.30it/s]"
     ]
    },
    {
     "name": "stdout",
     "output_type": "stream",
     "text": [
      "Problem with file ../raw_data/images/testing/dunes/21.116500091552734_16.46059913635254_012_CW000_-0.35357558727264404_-0.5766075849533081_1.0990289449691772.jpg\n",
      "Problem with file ../raw_data/images/testing/dunes/20.641500091552736_16.81080093383789_00_CW000_-0.7365004420280457_0.14443030953407288_0.5568229556083679.jpg\n",
      "Problem with file ../raw_data/images/testing/dunes/40.695501708984374_75.92950134277343_031_CW000_0.5467350482940674_0.5771613121032715_1.3074040412902832.jpg\n",
      "Problem with file ../raw_data/images/testing/dunes/45.56650085449219_70.5537322998047_010_CW000_-0.13166145980358124_-0.6816415190696716_1.943590521812439.jpg\n",
      "Problem with file ../raw_data/images/testing/dunes/26.257500457763673_41.02691116333008_020_CW000_-0.1396024376153946_-0.19605056941509247_1.3086574077606201.jpg\n"
     ]
    },
    {
     "name": "stderr",
     "output_type": "stream",
     "text": [
      "  2%|▏         | 78/3313 [00:03<02:16, 23.62it/s]"
     ]
    },
    {
     "name": "stdout",
     "output_type": "stream",
     "text": [
      "Problem with file ../raw_data/images/testing/dunes/31.778500747680663_57.1558334350586_012_CW000_-0.7081820964813232_0.5840337872505188_1.5030890703201294.jpg\n",
      "Problem with file ../raw_data/images/testing/dunes/29.03049964904785_16.856625747680663_012_CW000_-0.4834824800491333_-0.29929909110069275_1.8937963247299194.jpg\n",
      "Problem with file ../raw_data/images/testing/dunes/28.057500457763673_22.472499084472656_02_CW000_-0.6200980544090271_-0.2958184778690338_1.8857307434082031.jpg\n",
      "Problem with file ../raw_data/images/testing/dunes/20.591500091552735_16.38554916381836_023_CW000_-0.23219582438468933_0.16233600676059723_0.5211135149002075.jpg\n",
      "Problem with file ../raw_data/images/testing/dunes/20.86649932861328_16.410599136352538_030_CW000_-0.5094184875488281_-0.31974539160728455_0.6648147106170654.jpg\n"
     ]
    },
    {
     "name": "stderr",
     "output_type": "stream",
     "text": [
      "  3%|▎         | 84/3313 [00:03<02:21, 22.85it/s]"
     ]
    },
    {
     "name": "stdout",
     "output_type": "stream",
     "text": [
      "Problem with file ../raw_data/images/testing/dunes/20.36649932861328_16.885800933837892_033_CW000_-0.599555253982544_0.043672915548086166_0.5805388689041138.jpg\n",
      "Problem with file ../raw_data/images/testing/dunes/44.91950149536133_109.03058471679688_010_CW000_-0.2759314775466919_0.6766248941421509_1.9672640562057495.jpg\n",
      "Problem with file ../raw_data/images/testing/dunes/43.24250183105469_107.88594360351563_02_CW000_-0.0030304808169603348_0.6833584308624268_1.6944835186004639.jpg\n",
      "Problem with file ../raw_data/images/testing/dunes/43.07349853515625_100.60364990234375_021_CW000_-0.44795066118240356_0.7251629829406738_2.0357656478881836.jpg\n",
      "Problem with file ../raw_data/images/testing/dunes/33.06349868774414_64.2259017944336_012_CW000_-0.44719189405441284_0.33589333295822144_0.6691069006919861.jpg\n"
     ]
    },
    {
     "name": "stderr",
     "output_type": "stream",
     "text": [
      "\r",
      "  3%|▎         | 87/3313 [00:03<02:20, 23.02it/s]"
     ]
    },
    {
     "name": "stdout",
     "output_type": "stream",
     "text": [
      "Problem with file ../raw_data/images/testing/dunes/31.20350036621094_57.30596771240234_00_CW000_-0.6978933811187744_0.6380075216293335_1.167223334312439.jpg\n",
      "Problem with file ../raw_data/images/testing/dunes/43.84250030517578_107.83594360351563_00_CW000_-0.5789913535118103_0.5506714582443237_1.8655177354812622.jpg\n",
      "Problem with file ../raw_data/images/testing/dunes/41.12049942016601_76.65474243164063_022_CW000_0.44775301218032837_-0.025391191244125366_0.7543943524360657.jpg\n",
      "Problem with file ../raw_data/images/testing/dunes/40.74550170898438_76.07953796386718_013_CW000_0.5342249870300293_0.5941424369812012_1.3011113405227661.jpg\n",
      "Problem with file ../raw_data/images/testing/dunes/32.73849945068359_63.67565002441406_020_CW000_-0.543756365776062_0.05391550064086914_0.7607227563858032.jpg\n"
     ]
    },
    {
     "name": "stderr",
     "output_type": "stream",
     "text": [
      "  3%|▎         | 93/3313 [00:04<02:26, 21.91it/s]"
     ]
    },
    {
     "name": "stdout",
     "output_type": "stream",
     "text": [
      "Problem with file ../raw_data/images/testing/dunes/31.474499130249022_61.407544708251955_033_CW000_-0.9509894251823425_0.279853492975235_5.712926864624023.jpg\n",
      "Problem with file ../raw_data/images/testing/dunes/45.016500854492186_70.92896423339843_033_CW000_-0.1992909014225006_-0.6736181378364563_1.9138033390045166.jpg\n",
      "Problem with file ../raw_data/images/testing/dunes/44.86950149536133_109.03058471679688_030_CW000_-0.2759314775466919_0.6766248941421509_1.9672640562057495.jpg\n",
      "Problem with file ../raw_data/images/testing/dunes/33.6635009765625_63.62559814453125_012_CW000_-0.5289808511734009_-0.16425897181034088_1.0264666080474854.jpg\n",
      "Problem with file ../raw_data/images/testing/dunes/19.787499237060548_45.242498779296874_020_CW000_0.12202513217926025_-0.6915692090988159_2.2859389781951904.jpg\n"
     ]
    },
    {
     "name": "stderr",
     "output_type": "stream",
     "text": [
      "  3%|▎         | 99/3313 [00:04<02:20, 22.83it/s]"
     ]
    },
    {
     "name": "stdout",
     "output_type": "stream",
     "text": [
      "Problem with file ../raw_data/images/testing/dunes/20.441499328613283_17.18595085144043_03_CW000_-0.28596338629722595_0.5224985480308533_0.44578996300697327.jpg\n",
      "Problem with file ../raw_data/images/testing/dunes/31.64949951171875_61.25750045776367_01_CW000_-0.9500872492790222_0.2917090654373169_5.941537380218506.jpg\n",
      "Problem with file ../raw_data/images/testing/dunes/21.14250030517578_49.17249984741211_032_CW000_-0.40393123030662537_-0.789857029914856_2.0977749824523926.jpg\n",
      "Problem with file ../raw_data/images/testing/dunes/28.60550003051758_17.056874465942382_022_CW000_-0.3906416594982147_-0.2960372567176819_1.8671456575393677.jpg\n",
      "Problem with file ../raw_data/images/testing/dunes/25.632500076293944_40.50155792236328_033_CW000_0.09549535065889359_0.3240325152873993_1.4849518537521362.jpg\n"
     ]
    },
    {
     "name": "stderr",
     "output_type": "stream",
     "text": [
      "\r",
      "  3%|▎         | 102/3313 [00:04<02:21, 22.62it/s]"
     ]
    },
    {
     "name": "stdout",
     "output_type": "stream",
     "text": [
      "Problem with file ../raw_data/images/testing/dunes/20.391499328613282_16.73574905395508_021_CW000_-0.6116777062416077_0.035889215767383575_0.648766815662384.jpg\n",
      "Problem with file ../raw_data/images/testing/dunes/42.423501586914064_100.77872314453126_00_CW000_-0.436320036649704_0.3099846839904785_1.2104905843734741.jpg\n",
      "Problem with file ../raw_data/images/testing/dunes/31.378499221801757_57.08076629638672_013_CW000_-0.555110514163971_0.6716208457946777_0.9215668439865112.jpg\n",
      "Problem with file ../raw_data/images/testing/dunes/19.612500381469726_45.86750106811523_011_CW000_0.04421413317322731_-0.7449430227279663_2.2413136959075928.jpg\n",
      "Problem with file ../raw_data/images/testing/dunes/31.653500366210938_57.13083343505859_021_CW000_-0.6969375610351562_0.6152050495147705_1.4064199924468994.jpg\n"
     ]
    },
    {
     "name": "stderr",
     "output_type": "stream",
     "text": [
      "  3%|▎         | 108/3313 [00:04<02:24, 22.20it/s]"
     ]
    },
    {
     "name": "stdout",
     "output_type": "stream",
     "text": [
      "Problem with file ../raw_data/images/testing/dunes/44.61949844360352_109.00550231933593_013_CW000_-0.44161590933799744_0.6375353336334229_2.070099115371704.jpg\n",
      "Problem with file ../raw_data/images/testing/dunes/29.205500411987305_16.70649948120117_020_CW000_-0.4958956241607666_-0.2636813819408417_1.9415779113769531.jpg\n",
      "Problem with file ../raw_data/images/testing/dunes/44.941498565673825_70.90396423339844_022_CW000_-0.19007128477096558_-0.6595726013183594_1.8703441619873047.jpg\n",
      "Problem with file ../raw_data/images/testing/dunes/31.128500366210936_57.40603485107422_030_CW000_-0.750908613204956_0.586715817451477_1.4864286184310913.jpg\n",
      "Problem with file ../raw_data/images/testing/dunes/42.87350158691406_100.60364990234375_021_CW000_-0.675938606262207_0.500434160232544_1.9753309488296509.jpg\n"
     ]
    },
    {
     "name": "stderr",
     "output_type": "stream",
     "text": [
      "  3%|▎         | 114/3313 [00:05<02:23, 22.23it/s]"
     ]
    },
    {
     "name": "stdout",
     "output_type": "stream",
     "text": [
      "Problem with file ../raw_data/images/testing/dunes/32.788499450683595_64.3509536743164_03_CW000_-0.501689612865448_0.6559579968452454_0.7979852557182312.jpg\n",
      "Problem with file ../raw_data/images/testing/dunes/15.032500457763671_48.182498168945315_012_CW000_0.5263717770576477_-0.25283780694007874_2.1373305320739746.jpg\n",
      "Problem with file ../raw_data/images/testing/dunes/25.801500701904295_7.776500034332275_031_CW000_-0.09208878129720688_-0.37843793630599976_1.071054458618164.jpg\n",
      "Problem with file ../raw_data/images/testing/dunes/38.23550186157227_96.31195526123047_01_CW000_-0.07097212225198746_0.8929637670516968_1.5245940685272217.jpg\n",
      "Problem with file ../raw_data/images/testing/dunes/32.7634994506836_63.750650024414064_013_CW000_-0.543756365776062_0.05391550064086914_0.7607227563858032.jpg\n"
     ]
    },
    {
     "name": "stderr",
     "output_type": "stream",
     "text": [
      "\r",
      "  4%|▎         | 117/3313 [00:05<02:22, 22.47it/s]"
     ]
    },
    {
     "name": "stdout",
     "output_type": "stream",
     "text": [
      "Problem with file ../raw_data/images/testing/dunes/43.61749954223633_107.31060943603515_013_CW000_-0.5396078824996948_0.6689233779907227_2.3593597412109375.jpg\n",
      "Problem with file ../raw_data/images/testing/dunes/43.11749954223633_107.63583221435547_010_CW000_-0.09514021873474121_0.7583049535751343_1.9841558933258057.jpg\n",
      "Problem with file ../raw_data/images/testing/dunes/26.007499313354494_40.70167694091797_03_CW000_0.05847509950399399_0.22264893352985382_1.3430331945419312.jpg\n",
      "Problem with file ../raw_data/images/testing/dunes/20.466499710083006_16.410599136352538_030_CW000_-0.2529115080833435_0.23270092904567719_0.6442298293113708.jpg\n",
      "Problem with file ../raw_data/images/testing/dunes/20.821499633789063_34.30791549682617_021_CW000_-0.7865186929702759_-0.31928643584251404_3.4195661544799805.jpg\n"
     ]
    },
    {
     "name": "stderr",
     "output_type": "stream",
     "text": [
      "  4%|▎         | 123/3313 [00:05<02:14, 23.67it/s]"
     ]
    },
    {
     "name": "stdout",
     "output_type": "stream",
     "text": [
      "Problem with file ../raw_data/images/testing/dunes/20.316500854492187_16.48559913635254_013_CW000_-0.09725315868854523_0.20584911108016968_0.6866973638534546.jpg\n",
      "Problem with file ../raw_data/images/testing/dunes/42.59849853515625_101.00379638671875_011_CW000_-0.6087461709976196_0.21150092780590057_1.2210578918457031.jpg\n",
      "Problem with file ../raw_data/images/testing/dunes/20.441499328613283_16.93585090637207_01_CW000_-0.5764865875244141_0.18182383477687836_0.4804065227508545.jpg\n",
      "Problem with file ../raw_data/images/testing/dunes/44.86950149536133_109.13066711425782_030_CW000_-0.27590587735176086_0.6779554486274719_1.911336898803711.jpg\n",
      "Problem with file ../raw_data/images/testing/dunes/44.84449920654297_109.60599670410156_03_CW000_-0.3621758818626404_0.6434014439582825_1.7163724899291992.jpg\n"
     ]
    },
    {
     "name": "stderr",
     "output_type": "stream",
     "text": [
      "  4%|▍         | 129/3313 [00:05<02:13, 23.77it/s]"
     ]
    },
    {
     "name": "stdout",
     "output_type": "stream",
     "text": [
      "Problem with file ../raw_data/images/testing/dunes/31.278500747680663_56.70556488037109_010_CW000_-0.17529793083667755_0.4317544996738434_1.0995070934295654.jpg\n",
      "Problem with file ../raw_data/images/testing/dunes/15.132499885559081_48.207498168945314_013_CW000_0.5415379405021667_-0.2568032741546631_2.109870195388794.jpg\n",
      "Problem with file ../raw_data/images/testing/dunes/21.14650077819824_33.78249969482422_010_CW000_-0.9161922335624695_-0.09259109944105148_3.5866894721984863.jpg\n",
      "Problem with file ../raw_data/images/testing/dunes/20.49149971008301_16.560649108886718_022_CW000_-0.3883780241012573_0.1885625123977661_0.6620272397994995.jpg\n",
      "Problem with file ../raw_data/images/testing/dunes/20.49149971008301_16.21049919128418_020_CW000_0.012546190991997719_0.08689669519662857_0.5482457876205444.jpg\n"
     ]
    },
    {
     "name": "stderr",
     "output_type": "stream",
     "text": [
      "  4%|▍         | 135/3313 [00:05<02:12, 23.96it/s]"
     ]
    },
    {
     "name": "stdout",
     "output_type": "stream",
     "text": [
      "Problem with file ../raw_data/images/testing/dunes/45.441498565673825_70.30350036621094_022_CW000_-0.154693141579628_-0.664530873298645_1.9085493087768555.jpg\n",
      "Problem with file ../raw_data/images/testing/dunes/20.59650077819824_34.1577507019043_033_CW000_-0.8334205150604248_-0.22890405356884003_3.3193700313568115.jpg\n",
      "Problem with file ../raw_data/images/testing/dunes/33.21349945068359_64.15084991455078_033_CW000_-0.10783100128173828_-0.27949056029319763_0.9294078350067139.jpg\n",
      "Problem with file ../raw_data/images/testing/dunes/20.54149971008301_16.43559913635254_01_CW000_-0.2529115080833435_0.23270092904567719_0.6442298293113708.jpg\n",
      "Problem with file ../raw_data/images/testing/dunes/20.71650047302246_16.48559913635254_013_CW000_-0.4338754713535309_0.15508918464183807_0.5579233169555664.jpg\n"
     ]
    },
    {
     "name": "stderr",
     "output_type": "stream",
     "text": [
      "\r",
      "  4%|▍         | 138/3313 [00:06<02:09, 24.46it/s]"
     ]
    },
    {
     "name": "stdout",
     "output_type": "stream",
     "text": [
      "Problem with file ../raw_data/images/testing/dunes/44.894501495361325_109.03058471679688_020_CW000_-0.2759314775466919_0.6766248941421509_1.9672640562057495.jpg\n",
      "Problem with file ../raw_data/images/testing/dunes/31.653500366210938_56.95569915771485_022_CW000_-0.483203262090683_0.7090615630149841_1.1020348072052002.jpg\n",
      "Problem with file ../raw_data/images/testing/dunes/33.56349868774414_63.62559814453125_012_CW000_-0.7315329909324646_-0.06930819153785706_0.997871994972229.jpg\n",
      "Problem with file ../raw_data/images/testing/dunes/32.7634994506836_64.12584991455078_012_CW000_-0.5056102871894836_0.6342415809631348_0.8027263283729553.jpg\n",
      "Problem with file ../raw_data/images/testing/dunes/32.788499450683595_63.80070190429687_01_CW000_-0.5201670527458191_0.20122765004634857_0.7504945397377014.jpg\n",
      "Problem with file ../raw_data/images/testing/dunes/38.510501098632815_96.211865234375_011_CW000_0.18288764357566833_0.8287736177444458_1.5402576923370361.jpg\n"
     ]
    },
    {
     "name": "stderr",
     "output_type": "stream",
     "text": [
      "  4%|▍         | 144/3313 [00:06<02:05, 25.20it/s]"
     ]
    },
    {
     "name": "stdout",
     "output_type": "stream",
     "text": [
      "Problem with file ../raw_data/images/testing/dunes/38.5854995727539_96.01168518066406_021_CW000_0.16292287409305573_0.8041420578956604_1.3900864124298096.jpg\n",
      "Problem with file ../raw_data/images/testing/dunes/20.59650077819824_34.03266830444336_032_CW000_-0.8601608872413635_-0.17921343445777893_3.368201971054077.jpg\n",
      "Problem with file ../raw_data/images/testing/dunes/41.29550018310547_76.42966918945312_031_CW000_0.4738213121891022_-0.0968143492937088_0.8734332323074341.jpg\n",
      "Problem with file ../raw_data/images/testing/dunes/20.846499633789062_33.83249969482422_012_CW000_-0.9146891236305237_-0.0756167620420456_3.583883285522461.jpg\n",
      "Problem with file ../raw_data/images/testing/dunes/25.632500076293944_40.62667694091797_030_CW000_0.13406191766262054_0.19482681155204773_1.4763489961624146.jpg\n",
      "Problem with file ../raw_data/images/testing/dunes/18.032499694824217_45.70750122070312_031_CW000_-0.22642366588115692_-0.7616746425628662_2.156766176223755.jpg\n"
     ]
    },
    {
     "name": "stderr",
     "output_type": "stream",
     "text": [
      "  5%|▍         | 150/3313 [00:06<02:05, 25.19it/s]"
     ]
    },
    {
     "name": "stdout",
     "output_type": "stream",
     "text": [
      "Problem with file ../raw_data/images/testing/dunes/28.855500793457033_16.75649948120117_02_CW000_-0.36922043561935425_-0.3061298727989197_1.8614999055862427.jpg\n",
      "Problem with file ../raw_data/images/testing/dunes/38.618500518798825_68.51789245605468_023_CW000_-0.9010850191116333_-0.17595115303993225_0.5024951696395874.jpg\n",
      "Problem with file ../raw_data/images/testing/dunes/43.317500305175784_107.18555755615235_012_CW000_-0.42812126874923706_0.7013036608695984_2.1822221279144287.jpg\n",
      "Problem with file ../raw_data/images/testing/dunes/20.966499710083006_16.23549919128418_031_CW000_-0.2041156142950058_-0.7232433557510376_0.9618509411811829.jpg\n",
      "Problem with file ../raw_data/images/testing/dunes/14.757500267028808_47.832498931884764_00_CW000_0.6285747289657593_-0.3254481256008148_1.4163028001785278.jpg\n",
      "Problem with file ../raw_data/images/testing/dunes/40.945498657226565_76.87980804443359_013_CW000_0.017393581569194794_0.22431668639183044_0.4759232699871063.jpg\n"
     ]
    },
    {
     "name": "stderr",
     "output_type": "stream",
     "text": [
      "  5%|▍         | 156/3313 [00:06<02:05, 25.18it/s]"
     ]
    },
    {
     "name": "stdout",
     "output_type": "stream",
     "text": [
      "Problem with file ../raw_data/images/testing/dunes/31.524499130249023_61.782717895507815_012_CW000_-0.9059226512908936_0.3216901421546936_4.6800007820129395.jpg\n",
      "Problem with file ../raw_data/images/testing/dunes/38.010501098632815_96.5621353149414_013_CW000_-0.33969244360923767_0.8482838869094849_1.5306893587112427.jpg\n",
      "Problem with file ../raw_data/images/testing/dunes/31.52849998474121_56.85563201904297_032_CW000_-0.3753592371940613_0.6780613660812378_1.0144665241241455.jpg\n",
      "Problem with file ../raw_data/images/testing/dunes/20.391499328613282_16.36054916381836_022_CW000_-0.06521864980459213_0.15649478137493134_0.6092240214347839.jpg\n",
      "Problem with file ../raw_data/images/testing/dunes/31.37450065612793_61.43258514404297_030_CW000_-0.9479904174804688_0.27951526641845703_5.437341690063477.jpg\n"
     ]
    },
    {
     "name": "stderr",
     "output_type": "stream",
     "text": [
      "  5%|▍         | 162/3313 [00:06<02:04, 25.25it/s]"
     ]
    },
    {
     "name": "stdout",
     "output_type": "stream",
     "text": [
      "Problem with file ../raw_data/images/testing/dunes/21.64250030517578_49.372500610351565_032_CW000_-0.5148846507072449_-0.7219304442405701_2.042055368423462.jpg\n",
      "Problem with file ../raw_data/images/testing/dunes/43.167501831054686_107.21055755615234_033_CW000_-0.38510793447494507_0.7082982659339905_2.125148057937622.jpg\n",
      "Problem with file ../raw_data/images/testing/dunes/44.91950149536133_109.13066711425782_010_CW000_-0.27590587735176086_0.6779554486274719_1.911336898803711.jpg\n",
      "Problem with file ../raw_data/images/testing/dunes/38.28550033569336_95.96158752441406_023_CW000_-0.09166600555181503_0.8732662200927734_1.2599958181381226.jpg\n",
      "Problem with file ../raw_data/images/testing/dunes/41.270501708984376_76.30464019775391_00_CW000_0.36324208974838257_-0.1682421863079071_0.8382837176322937.jpg\n",
      "Problem with file ../raw_data/images/testing/dunes/43.41749877929688_107.83594360351563_010_CW000_-0.22831451892852783_0.6485686898231506_1.5787773132324219.jpg\n"
     ]
    },
    {
     "name": "stderr",
     "output_type": "stream",
     "text": [
      "  5%|▌         | 168/3313 [00:07<02:05, 25.15it/s]"
     ]
    },
    {
     "name": "stdout",
     "output_type": "stream",
     "text": [
      "Problem with file ../raw_data/images/testing/dunes/32.938500213623044_63.925749969482425_022_CW000_-0.24206915497779846_0.034709881991147995_0.6473000049591064.jpg\n",
      "Problem with file ../raw_data/images/testing/dunes/19.717500305175783_33.89187469482422_00_CW000_-0.8389399647712708_-0.1340692639350891_3.5958170890808105.jpg\n",
      "Problem with file ../raw_data/images/testing/dunes/38.13549957275391_95.91158752441406_01_CW000_-0.40668028593063354_0.8547045588493347_1.372118353843689.jpg\n",
      "Problem with file ../raw_data/images/testing/dunes/42.54849853515625_100.97879638671876_030_CW000_-0.6087461709976196_0.21150092780590057_1.2210578918457031.jpg\n",
      "Problem with file ../raw_data/images/testing/dunes/33.393499755859374_55.386498260498044_031_CW000_-0.70892333984375_0.33195340633392334_1.3386222124099731.jpg\n",
      "Problem with file ../raw_data/images/testing/dunes/28.880499267578124_17.157000732421874_032_CW000_-0.45954445004463196_-0.24324582517147064_1.8100817203521729.jpg\n"
     ]
    },
    {
     "name": "stderr",
     "output_type": "stream",
     "text": [
      "  5%|▌         | 174/3313 [00:07<02:03, 25.38it/s]"
     ]
    },
    {
     "name": "stdout",
     "output_type": "stream",
     "text": [
      "Problem with file ../raw_data/images/testing/dunes/43.71750183105469_107.3856689453125_012_CW000_-0.5689128041267395_0.6423789262771606_2.355210304260254.jpg\n",
      "Problem with file ../raw_data/images/testing/dunes/44.569498443603514_109.55599670410156_031_CW000_-0.4599796533584595_0.6089715957641602_1.6961402893066406.jpg\n",
      "Problem with file ../raw_data/images/testing/dunes/33.49349822998047_55.78666763305664_031_CW000_-0.4758235812187195_-0.08277229964733124_1.2777628898620605.jpg\n",
      "Problem with file ../raw_data/images/testing/dunes/40.64549942016602_76.22960357666015_011_CW000_0.2744268774986267_0.6674769520759583_0.818360447883606.jpg\n",
      "Problem with file ../raw_data/images/testing/dunes/28.855500793457033_17.382249450683595_03_CW000_-0.43740975856781006_-0.2662850618362427_1.7170414924621582.jpg\n",
      "Problem with file ../raw_data/images/testing/dunes/41.39549865722656_76.72977905273437_031_CW000_0.6956762075424194_0.04067382961511612_1.0818815231323242.jpg\n"
     ]
    },
    {
     "name": "stderr",
     "output_type": "stream",
     "text": [
      "  5%|▌         | 180/3313 [00:07<02:04, 25.15it/s]"
     ]
    },
    {
     "name": "stdout",
     "output_type": "stream",
     "text": [
      "Problem with file ../raw_data/images/testing/dunes/41.095499420166014_76.72977905273437_031_CW000_0.39497748017311096_-0.05050608888268471_0.7165769934654236.jpg\n",
      "Problem with file ../raw_data/images/testing/dunes/31.228500747680663_56.93069915771484_031_CW000_-0.37960392236709595_0.6079015135765076_0.8213202357292175.jpg\n",
      "Problem with file ../raw_data/images/testing/dunes/42.448500061035155_100.878759765625_030_CW000_-0.49239465594291687_0.19740483164787292_1.1725594997406006.jpg\n",
      "Problem with file ../raw_data/images/testing/dunes/38.38549880981445_96.38704528808594_020_CW000_0.10158061981201172_0.8471601605415344_1.5373255014419556.jpg\n",
      "Problem with file ../raw_data/images/testing/dunes/44.84449920654297_109.38083190917969_02_CW000_-0.33580848574638367_0.6632636785507202_1.8371663093566895.jpg\n",
      "Problem with file ../raw_data/images/testing/dunes/18.05749969482422_45.48250045776367_020_CW000_-0.2027721107006073_-0.7563003301620483_2.1648447513580322.jpg\n"
     ]
    },
    {
     "name": "stderr",
     "output_type": "stream",
     "text": [
      "  6%|▌         | 186/3313 [00:07<02:03, 25.33it/s]"
     ]
    },
    {
     "name": "stdout",
     "output_type": "stream",
     "text": [
      "Problem with file ../raw_data/images/testing/dunes/33.01349868774414_64.25090179443359_033_CW000_-0.44719189405441284_0.33589333295822144_0.6691069006919861.jpg\n",
      "Problem with file ../raw_data/images/testing/dunes/43.56749954223633_107.085498046875_032_CW000_-0.4977668225765228_0.7086882591247559_2.486868381500244.jpg\n",
      "Problem with file ../raw_data/images/testing/dunes/38.435498809814455_96.31195526123047_01_CW000_0.11097325384616852_0.8613903522491455_1.603798508644104.jpg\n",
      "Problem with file ../raw_data/images/testing/dunes/45.541500854492185_70.85396423339844_020_CW000_-0.1376262903213501_-0.6878644824028015_1.9643235206604004.jpg\n",
      "Problem with file ../raw_data/images/testing/dunes/21.091500091552735_16.33554916381836_021_CW000_-0.27550795674324036_-0.7101987600326538_1.1483139991760254.jpg\n",
      "Problem with file ../raw_data/images/testing/dunes/31.478499603271484_56.680501556396486_013_CW000_-0.22809141874313354_0.5115693807601929_1.0801432132720947.jpg\n"
     ]
    },
    {
     "name": "stderr",
     "output_type": "stream",
     "text": [
      "  6%|▌         | 192/3313 [00:08<02:10, 23.95it/s]"
     ]
    },
    {
     "name": "stdout",
     "output_type": "stream",
     "text": [
      "Problem with file ../raw_data/images/testing/dunes/43.167501831054686_107.16055755615234_031_CW000_-0.38510793447494507_0.7082982659339905_2.125148057937622.jpg\n",
      "Problem with file ../raw_data/images/testing/dunes/21.04149971008301_16.36054916381836_02_CW000_-0.2906379997730255_-0.618285596370697_0.8882009983062744.jpg\n",
      "Problem with file ../raw_data/images/testing/dunes/41.52050094604492_76.57970581054687_023_CW000_0.6960700750350952_0.052124351263046265_0.9985663890838623.jpg\n",
      "Problem with file ../raw_data/images/testing/dunes/40.820500183105466_76.42966918945312_021_CW000_0.5033560395240784_0.39051440358161926_0.8296945691108704.jpg\n",
      "Problem with file ../raw_data/images/testing/dunes/20.91649932861328_17.03590087890625_011_CW000_-0.6136155724525452_0.04744504392147064_0.7678508162498474.jpg\n"
     ]
    },
    {
     "name": "stderr",
     "output_type": "stream",
     "text": [
      "\r",
      "  6%|▌         | 195/3313 [00:08<02:10, 23.89it/s]"
     ]
    },
    {
     "name": "stdout",
     "output_type": "stream",
     "text": [
      "Problem with file ../raw_data/images/testing/dunes/43.667501831054686_107.61078033447265_033_CW000_-0.5657927989959717_0.6162134408950806_2.1445159912109375.jpg\n",
      "Problem with file ../raw_data/images/testing/dunes/44.91649856567383_70.8038818359375_032_CW000_-0.1807394027709961_-0.6585723161697388_1.8677932024002075.jpg\n",
      "Problem with file ../raw_data/images/testing/dunes/33.6135009765625_63.725650024414065_032_CW000_-0.5965145826339722_-0.14967745542526245_1.0601316690444946.jpg\n",
      "Problem with file ../raw_data/images/testing/dunes/19.76750068664551_33.89187469482422_020_CW000_-0.8490555882453918_-0.13830071687698364_3.6207082271575928.jpg\n",
      "Problem with file ../raw_data/images/testing/dunes/20.69150047302246_16.760749053955077_022_CW000_-0.673046886920929_-0.037063002586364746_0.582739531993866.jpg\n"
     ]
    },
    {
     "name": "stderr",
     "output_type": "stream",
     "text": [
      "  6%|▌         | 201/3313 [00:08<02:10, 23.77it/s]"
     ]
    },
    {
     "name": "stdout",
     "output_type": "stream",
     "text": [
      "Problem with file ../raw_data/images/testing/dunes/33.21349945068359_63.87574996948242_030_CW000_-0.029654886573553085_-0.4541453421115875_0.8775291442871094.jpg\n",
      "Problem with file ../raw_data/images/testing/dunes/31.628500366210936_56.7555648803711_032_CW000_-0.3664163649082184_0.7035951018333435_0.9957700967788696.jpg\n",
      "Problem with file ../raw_data/images/testing/dunes/38.535501098632814_95.8364974975586_02_CW000_0.24601466953754425_0.7194265723228455_1.275434970855713.jpg\n",
      "Problem with file ../raw_data/images/testing/dunes/33.94349975585938_55.486542510986325_011_CW000_-0.8246844410896301_0.0980977863073349_2.1433112621307373.jpg\n",
      "Problem with file ../raw_data/images/testing/dunes/14.757500267028808_47.85749893188476_01_CW000_0.6285747289657593_-0.3254481256008148_1.4163028001785278.jpg\n"
     ]
    },
    {
     "name": "stderr",
     "output_type": "stream",
     "text": [
      "  6%|▌         | 207/3313 [00:08<02:14, 23.15it/s]"
     ]
    },
    {
     "name": "stdout",
     "output_type": "stream",
     "text": [
      "Problem with file ../raw_data/images/testing/dunes/44.91950149536133_109.18066711425782_012_CW000_-0.27590587735176086_0.6779554486274719_1.911336898803711.jpg\n",
      "Problem with file ../raw_data/images/testing/dunes/20.816500854492187_16.310549163818358_010_CW000_-0.40184101462364197_-0.2816149890422821_0.4855424165725708.jpg\n",
      "Problem with file ../raw_data/images/testing/dunes/31.62449951171875_61.30750045776367_013_CW000_-0.9500872492790222_0.2917090654373169_5.941537380218506.jpg\n",
      "Problem with file ../raw_data/images/testing/dunes/33.23849945068359_64.20090179443359_021_CW000_-0.16660599410533905_-0.20299237966537476_0.9247713088989258.jpg\n",
      "Problem with file ../raw_data/images/testing/dunes/43.02350006103516_101.1038330078125_01_CW000_-0.48369863629341125_0.6125851273536682_1.6593947410583496.jpg\n"
     ]
    },
    {
     "name": "stderr",
     "output_type": "stream",
     "text": [
      "\r",
      "  6%|▋         | 210/3313 [00:08<02:12, 23.36it/s]"
     ]
    },
    {
     "name": "stdout",
     "output_type": "stream",
     "text": [
      "Problem with file ../raw_data/images/testing/dunes/33.58849868774414_63.70065002441406_01_CW000_-0.6641709208488464_-0.1211867555975914_0.9556662440299988.jpg\n",
      "Problem with file ../raw_data/images/testing/dunes/43.367498779296874_107.18555755615235_032_CW000_-0.4740649163722992_0.689431369304657_2.2312939167022705.jpg\n",
      "Problem with file ../raw_data/images/testing/dunes/14.957500076293945_48.057499694824216_01_CW000_0.5537184476852417_-0.2568524479866028_1.9163249731063843.jpg\n",
      "Problem with file ../raw_data/images/testing/dunes/20.86649932861328_16.760749053955077_032_CW000_-0.6857670545578003_-0.05471138283610344_0.7159388065338135.jpg\n",
      "Problem with file ../raw_data/images/testing/dunes/20.591500091552735_17.18595085144043_023_CW000_-0.48802709579467773_0.4733189046382904_0.5603674650192261.jpg\n"
     ]
    },
    {
     "name": "stderr",
     "output_type": "stream",
     "text": [
      "  7%|▋         | 216/3313 [00:09<02:12, 23.41it/s]"
     ]
    },
    {
     "name": "stdout",
     "output_type": "stream",
     "text": [
      "Problem with file ../raw_data/images/testing/dunes/43.79250030517578_107.3356689453125_020_CW000_-0.5513802170753479_0.6567386388778687_2.3800370693206787.jpg\n",
      "Problem with file ../raw_data/images/testing/dunes/15.627500343322755_50.00750045776367_021_CW000_0.36638081073760986_-0.5745360851287842_1.5820748805999756.jpg\n",
      "Problem with file ../raw_data/images/testing/dunes/44.34449920654297_109.65608673095703_01_CW000_-0.2641898989677429_0.6325899958610535_1.3895773887634277.jpg\n",
      "Problem with file ../raw_data/images/testing/dunes/15.327500152587891_49.757501220703126_023_CW000_0.46431758999824524_-0.5653150677680969_1.3872489929199219.jpg\n",
      "Problem with file ../raw_data/images/testing/dunes/31.153500366210938_56.65550155639649_022_CW000_-0.08559714257717133_0.3675735294818878_1.2026362419128418.jpg\n"
     ]
    },
    {
     "name": "stderr",
     "output_type": "stream",
     "text": [
      "  7%|▋         | 222/3313 [00:09<02:09, 23.92it/s]"
     ]
    },
    {
     "name": "stdout",
     "output_type": "stream",
     "text": [
      "Problem with file ../raw_data/images/testing/dunes/31.2745002746582_62.00780258178711_033_CW000_-0.8739580512046814_0.38215383887290955_3.827754259109497.jpg\n",
      "Problem with file ../raw_data/images/testing/dunes/41.12049942016601_76.50470581054688_020_CW000_0.4803626835346222_-0.010953057557344437_0.7996968030929565.jpg\n",
      "Problem with file ../raw_data/images/testing/dunes/38.36049880981445_96.08677520751954_030_CW000_0.051238764077425_0.8677064776420593_1.4141662120819092.jpg\n",
      "Problem with file ../raw_data/images/testing/dunes/20.49149971008301_17.18595085144043_023_CW000_-0.410241961479187_0.5179249048233032_0.5145276784896851.jpg\n",
      "Problem with file ../raw_data/images/testing/dunes/33.99349822998047_55.98674850463867_031_CW000_-0.47932302951812744_-0.4654006361961365_1.8566752672195435.jpg\n",
      "Problem with file ../raw_data/images/testing/dunes/21.046500396728515_34.257833099365236_013_CW000_-0.8183461427688599_-0.27958765625953674_3.453178644180298.jpg\n"
     ]
    },
    {
     "name": "stderr",
     "output_type": "stream",
     "text": [
      "  7%|▋         | 228/3313 [00:09<02:03, 24.92it/s]"
     ]
    },
    {
     "name": "stdout",
     "output_type": "stream",
     "text": [
      "Problem with file ../raw_data/images/testing/dunes/20.966499710083006_16.38554916381836_033_CW000_-0.2906379997730255_-0.618285596370697_0.8882009983062744.jpg\n",
      "Problem with file ../raw_data/images/testing/dunes/15.152500343322753_49.807499694824216_011_CW000_0.6504278182983398_-0.47019436955451965_1.0947129726409912.jpg\n",
      "Problem with file ../raw_data/images/testing/dunes/28.880499267578124_17.056874465942382_032_CW000_-0.4540223777294159_-0.25677013397216797_1.8461145162582397.jpg\n",
      "Problem with file ../raw_data/images/testing/dunes/43.07349853515625_100.80372314453125_021_CW000_-0.4079539477825165_0.7680480480194092_2.133735179901123.jpg\n",
      "Problem with file ../raw_data/images/testing/dunes/43.09849853515625_100.65364990234374_013_CW000_-0.44795066118240356_0.7251629829406738_2.0357656478881836.jpg\n",
      "Problem with file ../raw_data/images/testing/dunes/33.48850021362305_63.45049819946289_03_CW000_-0.8435562252998352_-0.11427003145217896_1.04338538646698.jpg\n"
     ]
    },
    {
     "name": "stderr",
     "output_type": "stream",
     "text": [
      "  7%|▋         | 234/3313 [00:09<02:03, 24.87it/s]"
     ]
    },
    {
     "name": "stdout",
     "output_type": "stream",
     "text": [
      "Problem with file ../raw_data/images/testing/dunes/45.31650009155273_70.45365753173829_030_CW000_-0.15368613600730896_-0.6864147186279297_1.9800692796707153.jpg\n",
      "Problem with file ../raw_data/images/testing/dunes/31.55349998474121_56.80563201904297_020_CW000_-0.3753592371940613_0.6780613660812378_1.0144665241241455.jpg\n",
      "Problem with file ../raw_data/images/testing/dunes/40.64250030517578_101.64250030517579_030_CW000_0.3220670819282532_0.23009014129638672_1.1366126537322998.jpg\n",
      "Problem with file ../raw_data/images/testing/dunes/20.01749954223633_33.81675033569336_01_CW000_-0.8782212138175964_-0.11979679018259048_3.7005937099456787.jpg\n",
      "Problem with file ../raw_data/images/testing/dunes/33.413500213623045_63.550550079345705_033_CW000_-0.8722261786460876_-0.07182224094867706_1.0256292819976807.jpg\n",
      "Problem with file ../raw_data/images/testing/dunes/20.516499710083007_17.03590087890625_011_CW000_-0.5178451538085938_0.403838574886322_0.49439409375190735.jpg\n"
     ]
    },
    {
     "name": "stderr",
     "output_type": "stream",
     "text": [
      "  7%|▋         | 240/3313 [00:10<02:02, 25.02it/s]"
     ]
    },
    {
     "name": "stdout",
     "output_type": "stream",
     "text": [
      "Problem with file ../raw_data/images/testing/dunes/41.49550094604492_76.50470581054688_030_CW000_0.6960700750350952_0.052124351263046265_0.9985663890838623.jpg\n",
      "Problem with file ../raw_data/images/testing/dunes/42.423501586914064_100.7286865234375_02_CW000_-0.4656716287136078_0.33532214164733887_1.255114197731018.jpg\n",
      "Problem with file ../raw_data/images/testing/dunes/43.07349853515625_101.1288330078125_022_CW000_-0.3312939703464508_0.7593549489974976_1.8075082302093506.jpg\n",
      "Problem with file ../raw_data/images/testing/dunes/41.22050170898437_77.12991027832031_021_CW000_-0.061476025730371475_-0.06232086569070816_0.6432257890701294.jpg\n",
      "Problem with file ../raw_data/images/testing/dunes/31.64949951171875_61.782717895507815_02_CW000_-0.9027343392372131_0.3084760010242462_4.7700300216674805.jpg\n",
      "Problem with file ../raw_data/images/testing/dunes/33.56349868774414_63.57559814453125_010_CW000_-0.7315329909324646_-0.06930819153785706_0.997871994972229.jpg\n"
     ]
    },
    {
     "name": "stderr",
     "output_type": "stream",
     "text": [
      "  7%|▋         | 246/3313 [00:10<02:02, 25.09it/s]"
     ]
    },
    {
     "name": "stdout",
     "output_type": "stream",
     "text": [
      "Problem with file ../raw_data/images/testing/dunes/34.09350051879883_56.111792755126956_032_CW000_-0.6013681292533875_-0.4364713430404663_1.966863751411438.jpg\n",
      "Problem with file ../raw_data/images/testing/dunes/20.441499328613283_16.46059913635254_02_CW000_-0.16867341101169586_0.21569600701332092_0.6603161096572876.jpg\n",
      "Problem with file ../raw_data/images/testing/dunes/45.09150085449219_70.25350036621094_00_CW000_-0.17122940719127655_-0.6595162749290466_1.8802216053009033.jpg\n",
      "Problem with file ../raw_data/images/testing/dunes/43.21750183105469_107.035498046875_010_CW000_-0.3970525562763214_0.6987496018409729_2.124063491821289.jpg\n",
      "Problem with file ../raw_data/images/testing/dunes/21.116500091552734_16.28549919128418_013_CW000_-0.2559588849544525_-0.817025363445282_1.3681243658065796.jpg\n",
      "Problem with file ../raw_data/images/testing/dunes/18.937499618530275_45.84250106811523_00_CW000_-0.07011207938194275_-0.7532768249511719_2.30422043800354.jpg\n"
     ]
    },
    {
     "name": "stderr",
     "output_type": "stream",
     "text": [
      "  8%|▊         | 252/3313 [00:10<02:00, 25.30it/s]"
     ]
    },
    {
     "name": "stdout",
     "output_type": "stream",
     "text": [
      "Problem with file ../raw_data/images/testing/dunes/45.41649856567383_70.30350036621094_032_CW000_-0.154693141579628_-0.664530873298645_1.9085493087768555.jpg\n",
      "Problem with file ../raw_data/images/testing/dunes/31.52849998474121_57.48103485107422_033_CW000_-0.89073646068573_0.3505879342556_1.7888357639312744.jpg\n",
      "Problem with file ../raw_data/images/testing/dunes/38.843501281738284_67.91755828857421_013_CW000_-0.3350638449192047_-0.1139078214764595_0.2567577362060547.jpg\n",
      "Problem with file ../raw_data/images/testing/dunes/15.677500343322754_49.682501220703124_00_CW000_0.256740927696228_-0.6341574788093567_1.553894281387329.jpg\n",
      "Problem with file ../raw_data/images/testing/dunes/44.519499969482425_108.95550231933593_011_CW000_-0.5493270754814148_0.5796059966087341_2.085843086242676.jpg\n",
      "Problem with file ../raw_data/images/testing/dunes/42.7734992980957_100.953759765625_023_CW000_-0.7069888710975647_0.3345068693161011_1.6086927652359009.jpg\n"
     ]
    },
    {
     "name": "stderr",
     "output_type": "stream",
     "text": [
      "  8%|▊         | 258/3313 [00:10<02:02, 24.89it/s]"
     ]
    },
    {
     "name": "stdout",
     "output_type": "stream",
     "text": [
      "Problem with file ../raw_data/images/testing/dunes/31.40349922180176_57.13083343505859_01_CW000_-0.6473767161369324_0.6402140259742737_1.0926613807678223.jpg\n",
      "Problem with file ../raw_data/images/testing/dunes/38.61049957275391_96.58722534179688_010_CW000_0.052560217678546906_0.6555051207542419_1.05289888381958.jpg\n",
      "Problem with file ../raw_data/images/testing/dunes/33.363501739501956_63.82570190429688_012_CW000_-0.2792373597621918_-0.41813185811042786_0.7775893807411194.jpg\n",
      "Problem with file ../raw_data/images/testing/dunes/20.791500854492188_16.410599136352538_020_CW000_-0.5448057651519775_-0.04585214704275131_0.5535215139389038.jpg\n",
      "Problem with file ../raw_data/images/testing/dunes/20.641500091552736_16.760749053955077_02_CW000_-0.7230864763259888_-0.0019386454951018095_0.599372148513794.jpg\n"
     ]
    },
    {
     "name": "stderr",
     "output_type": "stream",
     "text": [
      "  8%|▊         | 264/3313 [00:11<02:03, 24.76it/s]"
     ]
    },
    {
     "name": "stdout",
     "output_type": "stream",
     "text": [
      "Problem with file ../raw_data/images/testing/dunes/40.84550018310547_76.3296401977539_011_CW000_0.5365363359451294_0.3835773766040802_0.8833788633346558.jpg\n",
      "Problem with file ../raw_data/images/testing/dunes/21.116500091552734_16.98585090637207_013_CW000_-0.6952460408210754_-0.12563982605934143_0.8509045243263245.jpg\n",
      "Problem with file ../raw_data/images/testing/dunes/25.16250076293945_26.77249946594238_030_CW000_-0.8954083323478699_-0.06290557980537415_2.2618520259857178.jpg\n",
      "Problem with file ../raw_data/images/testing/dunes/33.968499755859376_55.81166763305664_02_CW000_-0.7876712679862976_-0.07554517686367035_1.9258984327316284.jpg\n",
      "Problem with file ../raw_data/images/testing/dunes/31.328499221801756_57.35596771240235_032_CW000_-0.7547659873962402_0.59235680103302_1.49251127243042.jpg\n"
     ]
    },
    {
     "name": "stderr",
     "output_type": "stream",
     "text": [
      "\r",
      "  8%|▊         | 267/3313 [00:11<02:03, 24.68it/s]"
     ]
    },
    {
     "name": "stdout",
     "output_type": "stream",
     "text": [
      "Problem with file ../raw_data/images/testing/dunes/33.48850021362305_63.37549819946289_00_CW000_-0.8435562252998352_-0.11427003145217896_1.04338538646698.jpg\n",
      "Problem with file ../raw_data/images/testing/dunes/40.74550170898438_76.8048080444336_010_CW000_-0.5306148529052734_0.7230538725852966_0.7401151657104492.jpg\n",
      "Problem with file ../raw_data/images/testing/dunes/43.24250183105469_107.43572082519532_00_CW000_-0.30510076880455017_0.7323349118232727_2.0478405952453613.jpg\n",
      "Problem with file ../raw_data/images/testing/dunes/29.130500030517577_17.257125091552734_012_CW000_-0.5167321562767029_-0.2138291448354721_1.8215068578720093.jpg\n",
      "Problem with file ../raw_data/images/testing/dunes/15.157499885559082_47.98250122070313_02_CW000_0.570123016834259_-0.261973112821579_2.191725969314575.jpg\n"
     ]
    },
    {
     "name": "stderr",
     "output_type": "stream",
     "text": [
      "  8%|▊         | 273/3313 [00:11<02:02, 24.85it/s]"
     ]
    },
    {
     "name": "stdout",
     "output_type": "stream",
     "text": [
      "Problem with file ../raw_data/images/testing/dunes/21.04149971008301_16.560649108886718_02_CW000_-0.5252588391304016_-0.30512937903404236_0.8372002243995667.jpg\n",
      "Problem with file ../raw_data/images/testing/dunes/40.945498657226565_76.82980804443359_011_CW000_0.017393581569194794_0.22431668639183044_0.4759232699871063.jpg\n",
      "Problem with file ../raw_data/images/testing/dunes/19.667500305175782_33.81675033569336_021_CW000_-0.8568165302276611_-0.11473585665225983_3.68485164642334.jpg\n",
      "Problem with file ../raw_data/images/testing/dunes/28.83050079345703_16.731499481201173_011_CW000_-0.36922043561935425_-0.3061298727989197_1.8614999055862427.jpg\n",
      "Problem with file ../raw_data/images/testing/dunes/43.79250030517578_107.4106689453125_023_CW000_-0.5513802170753479_0.6567386388778687_2.3800370693206787.jpg\n",
      "Problem with file ../raw_data/images/testing/dunes/18.10749969482422_45.70750122070312_01_CW000_-0.22642366588115692_-0.7616746425628662_2.156766176223755.jpg\n"
     ]
    },
    {
     "name": "stderr",
     "output_type": "stream",
     "text": [
      "  8%|▊         | 279/3313 [00:11<02:00, 25.10it/s]"
     ]
    },
    {
     "name": "stdout",
     "output_type": "stream",
     "text": [
      "Problem with file ../raw_data/images/testing/dunes/31.57449951171875_61.23250045776367_030_CW000_-0.9500872492790222_0.2917090654373169_5.941537380218506.jpg\n",
      "Problem with file ../raw_data/images/testing/dunes/31.678500366210937_56.60550155639648_010_CW000_-0.32447588443756104_0.6363072991371155_1.0399030447006226.jpg\n",
      "Problem with file ../raw_data/images/testing/dunes/40.595499420166014_76.82980804443359_031_CW000_-0.6970863938331604_0.6420078277587891_1.0369129180908203.jpg\n",
      "Problem with file ../raw_data/images/testing/dunes/40.64549942016602_76.47966918945312_013_CW000_0.10334809124469757_0.7213232517242432_0.7636888027191162.jpg\n",
      "Problem with file ../raw_data/images/testing/dunes/20.821499633789063_34.35791549682617_023_CW000_-0.7865186929702759_-0.31928643584251404_3.4195661544799805.jpg\n",
      "Problem with file ../raw_data/images/testing/dunes/41.39549865722656_76.75477905273438_032_CW000_0.6956762075424194_0.04067382961511612_1.0818815231323242.jpg\n"
     ]
    },
    {
     "name": "stderr",
     "output_type": "stream",
     "text": [
      "  9%|▊         | 285/3313 [00:11<02:01, 24.93it/s]"
     ]
    },
    {
     "name": "stdout",
     "output_type": "stream",
     "text": [
      "Problem with file ../raw_data/images/testing/dunes/20.69150047302246_16.73574905395508_021_CW000_-0.673046886920929_-0.037063002586364746_0.582739531993866.jpg\n",
      "Problem with file ../raw_data/images/testing/dunes/40.52050094604492_76.47966918945312_023_CW000_-0.28530389070510864_0.7889005541801453_0.8629425168037415.jpg\n",
      "Problem with file ../raw_data/images/testing/dunes/21.046500396728515_34.30791549682617_011_CW000_-0.805659294128418_-0.2949983775615692_3.407492160797119.jpg\n",
      "Problem with file ../raw_data/images/testing/dunes/44.669500732421874_109.60599670410156_033_CW000_-0.4021812379360199_0.6358212828636169_1.7243456840515137.jpg\n",
      "Problem with file ../raw_data/images/testing/dunes/31.824500274658202_62.00780258178711_013_CW000_-0.8641168475151062_0.25640398263931274_4.2204437255859375.jpg\n",
      "Problem with file ../raw_data/images/testing/dunes/38.560499572753905_96.41204528808593_031_CW000_0.12886519730091095_0.7174606919288635_1.1566250324249268.jpg\n"
     ]
    },
    {
     "name": "stderr",
     "output_type": "stream",
     "text": [
      "  9%|▉         | 291/3313 [00:12<02:00, 25.17it/s]"
     ]
    },
    {
     "name": "stdout",
     "output_type": "stream",
     "text": [
      "Problem with file ../raw_data/images/testing/dunes/20.34150085449219_16.98585090637207_03_CW000_-0.4664161205291748_0.025598566979169846_0.5182279348373413.jpg\n",
      "Problem with file ../raw_data/images/testing/dunes/32.7634994506836_64.07584991455079_010_CW000_-0.5056102871894836_0.6342415809631348_0.8027263283729553.jpg\n",
      "Problem with file ../raw_data/images/testing/dunes/20.846499633789062_34.30791549682617_011_CW000_-0.7865186929702759_-0.31928643584251404_3.4195661544799805.jpg\n",
      "Problem with file ../raw_data/images/testing/dunes/31.999501037597657_61.65767364501953_021_CW000_-0.8953281044960022_0.28921231627464294_4.824737071990967.jpg\n",
      "Problem with file ../raw_data/images/testing/dunes/40.61750183105469_101.61750183105468_03_CW000_0.2839035391807556_0.24566471576690674_1.1208438873291016.jpg\n",
      "Problem with file ../raw_data/images/testing/dunes/33.03849868774414_64.10084991455078_021_CW000_-0.16106922924518585_0.08705172687768936_0.675915539264679.jpg\n"
     ]
    },
    {
     "name": "stderr",
     "output_type": "stream",
     "text": [
      "  9%|▉         | 297/3313 [00:12<01:59, 25.26it/s]"
     ]
    },
    {
     "name": "stdout",
     "output_type": "stream",
     "text": [
      "Problem with file ../raw_data/images/testing/dunes/43.07349853515625_101.1038330078125_021_CW000_-0.3312939703464508_0.7593549489974976_1.8075082302093506.jpg\n",
      "Problem with file ../raw_data/images/testing/dunes/38.535501098632814_96.58722534179688_00_CW000_0.0916852280497551_0.7485294938087463_1.2225630283355713.jpg\n",
      "Problem with file ../raw_data/images/testing/dunes/31.89950065612793_61.8827621459961_022_CW000_-0.8730796575546265_0.2584809362888336_4.418321132659912.jpg\n",
      "Problem with file ../raw_data/images/testing/dunes/20.891499328613282_16.53564910888672_021_CW000_-0.6154614686965942_-0.12207043915987015_0.682747483253479.jpg\n",
      "Problem with file ../raw_data/images/testing/dunes/42.448500061035155_100.3535400390625_033_CW000_-0.6728621125221252_0.3687357008457184_1.6322270631790161.jpg\n",
      "Problem with file ../raw_data/images/testing/dunes/20.891499328613282_16.46059913635254_022_CW000_-0.5094184875488281_-0.31974539160728455_0.6648147106170654.jpg\n"
     ]
    },
    {
     "name": "stderr",
     "output_type": "stream",
     "text": [
      "  9%|▉         | 303/3313 [00:12<02:01, 24.69it/s]"
     ]
    },
    {
     "name": "stdout",
     "output_type": "stream",
     "text": [
      "Problem with file ../raw_data/images/testing/dunes/32.96350021362305_64.32595367431641_012_CW000_-0.6062071919441223_0.6115427017211914_0.759109616279602.jpg\n",
      "Problem with file ../raw_data/images/testing/dunes/20.641500091552736_17.13595085144043_01_CW000_-0.48802709579467773_0.4733189046382904_0.5603674650192261.jpg\n",
      "Problem with file ../raw_data/images/testing/dunes/20.391499328613282_16.48559913635254_023_CW000_-0.16867341101169586_0.21569600701332092_0.6603161096572876.jpg\n",
      "Problem with file ../raw_data/images/testing/dunes/40.445498657226565_76.87980804443359_013_CW000_-0.7844164967536926_0.5528392791748047_1.2394577264785767.jpg\n",
      "Problem with file ../raw_data/images/testing/dunes/42.7484992980957_101.1038330078125_031_CW000_-0.6748458743095398_0.2847256660461426_1.421557903289795.jpg\n"
     ]
    },
    {
     "name": "stderr",
     "output_type": "stream",
     "text": [
      "  9%|▉         | 309/3313 [00:12<02:00, 24.83it/s]"
     ]
    },
    {
     "name": "stdout",
     "output_type": "stream",
     "text": [
      "Problem with file ../raw_data/images/testing/dunes/44.31949920654297_109.53099670410157_010_CW000_-0.3349169194698334_0.6186919212341309_1.414851188659668.jpg\n",
      "Problem with file ../raw_data/images/testing/dunes/40.545500946044925_76.47966918945312_013_CW000_-0.28530389070510864_0.7889005541801453_0.8629425168037415.jpg\n",
      "Problem with file ../raw_data/images/testing/dunes/31.453499603271485_56.63050155639648_021_CW000_-0.22809141874313354_0.5115693807601929_1.0801432132720947.jpg\n",
      "Problem with file ../raw_data/images/testing/dunes/31.778500747680663_57.48103485107422_013_CW000_-0.8882879018783569_0.3220795691013336_1.975223422050476.jpg\n",
      "Problem with file ../raw_data/images/testing/dunes/42.898501586914065_100.62864990234375_012_CW000_-0.675938606262207_0.500434160232544_1.9753309488296509.jpg\n",
      "Problem with file ../raw_data/images/testing/dunes/25.90149917602539_7.751500034332276_030_CW000_-0.15097318589687347_-0.36875617504119873_1.1030093431472778.jpg\n"
     ]
    },
    {
     "name": "stderr",
     "output_type": "stream",
     "text": [
      " 10%|▉         | 315/3313 [00:13<02:00, 24.97it/s]"
     ]
    },
    {
     "name": "stdout",
     "output_type": "stream",
     "text": [
      "Problem with file ../raw_data/images/testing/dunes/43.39249877929687_107.86094360351562_021_CW000_-0.22831451892852783_0.6485686898231506_1.5787773132324219.jpg\n",
      "Problem with file ../raw_data/images/testing/dunes/44.36950149536133_109.13066711425782_030_CW000_-0.5832961797714233_0.5323303937911987_1.8591136932373047.jpg\n",
      "Problem with file ../raw_data/images/testing/dunes/34.14350051879883_56.06179275512695_010_CW000_-0.6013681292533875_-0.4364713430404663_1.966863751411438.jpg\n",
      "Problem with file ../raw_data/images/testing/dunes/20.696499252319335_34.05766830444336_033_CW000_-0.8621965646743774_-0.18088172376155853_3.3785696029663086.jpg\n",
      "Problem with file ../raw_data/images/testing/dunes/33.58849868774414_63.57559814453125_00_CW000_-0.7315329909324646_-0.06930819153785706_0.997871994972229.jpg\n",
      "Problem with file ../raw_data/images/testing/dunes/25.807500457763673_40.801736450195314_03_CW000_0.1265324503183365_0.15716145932674408_1.4407179355621338.jpg\n"
     ]
    },
    {
     "name": "stderr",
     "output_type": "stream",
     "text": [
      " 10%|▉         | 321/3313 [00:13<01:59, 25.13it/s]"
     ]
    },
    {
     "name": "stdout",
     "output_type": "stream",
     "text": [
      "Problem with file ../raw_data/images/testing/dunes/31.128500366210936_56.60550155639648_030_CW000_-0.08559714257717133_0.3675735294818878_1.2026362419128418.jpg\n",
      "Problem with file ../raw_data/images/testing/dunes/33.21349945068359_63.4755500793457_030_CW000_-0.7278525829315186_-0.4196597933769226_0.7802976369857788.jpg\n",
      "Problem with file ../raw_data/images/testing/dunes/42.54849853515625_100.7036865234375_031_CW000_-0.6895604133605957_0.28865087032318115_1.4176580905914307.jpg\n",
      "Problem with file ../raw_data/images/testing/dunes/19.542499923706053_34.14212341308594_032_CW000_-0.7919952273368835_-0.1618201583623886_3.509389638900757.jpg\n",
      "Problem with file ../raw_data/images/testing/dunes/32.83850173950195_63.5005500793457_021_CW000_-0.5877053141593933_-0.26812654733657837_0.7760009169578552.jpg\n",
      "Problem with file ../raw_data/images/testing/dunes/19.64250030517578_33.916874694824216_031_CW000_-0.8389399647712708_-0.1340692639350891_3.5958170890808105.jpg\n"
     ]
    },
    {
     "name": "stderr",
     "output_type": "stream",
     "text": [
      "\r",
      " 10%|▉         | 324/3313 [00:13<02:01, 24.67it/s]"
     ]
    },
    {
     "name": "stdout",
     "output_type": "stream",
     "text": [
      "Problem with file ../raw_data/images/testing/dunes/45.34150009155273_70.5537322998047_020_CW000_-0.16012175381183624_-0.689518928527832_1.985512137413025.jpg\n",
      "Problem with file ../raw_data/images/testing/dunes/28.705500411987305_16.856625747680663_022_CW000_-0.3636600375175476_-0.29754436016082764_1.8568904399871826.jpg\n",
      "Problem with file ../raw_data/images/testing/dunes/31.153500366210938_56.80563201904297_020_CW000_-0.21088147163391113_0.4786773920059204_0.9718106389045715.jpg\n",
      "Problem with file ../raw_data/images/testing/dunes/42.423501586914064_100.2785400390625_00_CW000_-0.6265398859977722_0.3935728371143341_1.552695870399475.jpg\n",
      "Problem with file ../raw_data/images/testing/dunes/31.39950065612793_62.00780258178711_023_CW000_-0.8800142407417297_0.34601882100105286_3.980861186981201.jpg\n"
     ]
    },
    {
     "name": "stderr",
     "output_type": "stream",
     "text": [
      " 10%|▉         | 330/3313 [00:13<02:00, 24.70it/s]"
     ]
    },
    {
     "name": "stdout",
     "output_type": "stream",
     "text": [
      "Problem with file ../raw_data/images/testing/dunes/41.195501708984374_77.0048812866211_030_CW000_0.005261147860437632_-0.14277048408985138_0.7232062816619873.jpg\n",
      "Problem with file ../raw_data/images/testing/dunes/44.36950149536133_109.50591430664062_033_CW000_-0.4724518358707428_0.5909433960914612_1.6088941097259521.jpg\n",
      "Problem with file ../raw_data/images/testing/dunes/15.677500343322754_49.65749893188477_03_CW000_0.2599341869354248_-0.6166831254959106_1.6151213645935059.jpg\n",
      "Problem with file ../raw_data/images/testing/dunes/44.49449996948242_109.05558471679687_021_CW000_-0.5588897466659546_0.5677530169487_2.0252604484558105.jpg\n",
      "Problem with file ../raw_data/images/testing/dunes/31.478499603271484_56.90569915771484_010_CW000_-0.4677460789680481_0.7126262784004211_0.9044305682182312.jpg\n",
      "Problem with file ../raw_data/images/testing/dunes/20.846499633789062_33.98266830444336_010_CW000_-0.8638318777084351_-0.18350116908550262_3.409942150115967.jpg\n"
     ]
    },
    {
     "name": "stderr",
     "output_type": "stream",
     "text": [
      " 10%|█         | 336/3313 [00:14<01:59, 24.92it/s]"
     ]
    },
    {
     "name": "stdout",
     "output_type": "stream",
     "text": [
      "Problem with file ../raw_data/images/testing/dunes/42.52350006103516_100.6786865234375_00_CW000_-0.5684000253677368_0.29431968927383423_1.2928047180175781.jpg\n",
      "Problem with file ../raw_data/images/testing/dunes/31.94950065612793_61.63267364501953_00_CW000_-0.9040991067886353_0.28551948070526123_5.007256031036377.jpg\n",
      "Problem with file ../raw_data/images/testing/dunes/44.31949920654297_109.68108673095703_012_CW000_-0.2641898989677429_0.6325899958610535_1.3895773887634277.jpg\n",
      "Problem with file ../raw_data/images/testing/dunes/20.791500854492188_16.710749053955077_020_CW000_-0.6643871068954468_-0.052440132945775986_0.6270217895507812.jpg\n",
      "Problem with file ../raw_data/images/testing/dunes/20.966499710083006_17.18595085144043_033_CW000_-0.5551247000694275_-0.09763241559267044_0.9070002436637878.jpg\n",
      "Problem with file ../raw_data/images/testing/dunes/33.06349868774414_63.37549819946289_010_CW000_-0.6691743731498718_-0.43069934844970703_0.7408806681632996.jpg\n"
     ]
    },
    {
     "name": "stderr",
     "output_type": "stream",
     "text": [
      " 10%|█         | 342/3313 [00:14<01:58, 24.97it/s]"
     ]
    },
    {
     "name": "stdout",
     "output_type": "stream",
     "text": [
      "Problem with file ../raw_data/images/testing/dunes/29.230500411987304_16.731499481201173_011_CW000_-0.4958956241607666_-0.2636813819408417_1.9415779113769531.jpg\n",
      "Problem with file ../raw_data/images/testing/dunes/31.228500747680663_56.7555648803711_032_CW000_-0.17529793083667755_0.4317544996738434_1.0995070934295654.jpg\n",
      "Problem with file ../raw_data/images/testing/dunes/20.99149971008301_17.03590087890625_021_CW000_-0.6252632141113281_-0.05287300795316696_0.8963918089866638.jpg\n",
      "Problem with file ../raw_data/images/testing/dunes/15.402499580383301_50.00750045776367_031_CW000_0.506493330001831_-0.4213229715824127_1.6316087245941162.jpg\n",
      "Problem with file ../raw_data/images/testing/dunes/45.11649932861328_70.52865753173828_033_CW000_-0.16307269036769867_-0.6771461963653564_1.9460620880126953.jpg\n",
      "Problem with file ../raw_data/images/testing/dunes/20.54149971008301_16.6856990814209_03_CW000_-0.5566275119781494_0.11900259554386139_0.6446698904037476.jpg\n"
     ]
    },
    {
     "name": "stderr",
     "output_type": "stream",
     "text": [
      " 11%|█         | 348/3313 [00:14<01:59, 24.75it/s]"
     ]
    },
    {
     "name": "stdout",
     "output_type": "stream",
     "text": [
      "Problem with file ../raw_data/images/testing/dunes/31.253500747680665_56.90569915771484_020_CW000_-0.37960392236709595_0.6079015135765076_0.8213202357292175.jpg\n",
      "Problem with file ../raw_data/images/testing/dunes/38.18550186157226_96.46204528808593_023_CW000_-0.05112128704786301_0.8917341232299805_1.6104462146759033.jpg\n",
      "Problem with file ../raw_data/images/testing/dunes/26.10749969482422_40.90179595947266_03_CW000_-0.026449987664818764_0.0108346501365304_1.2878034114837646.jpg\n",
      "Problem with file ../raw_data/images/testing/dunes/43.11749954223633_107.31060943603515_013_CW000_-0.3239474892616272_0.7198408842086792_2.048227548599243.jpg\n",
      "Problem with file ../raw_data/images/testing/dunes/43.39249877929687_107.8108917236328_023_CW000_-0.33430132269859314_0.6684755086898804_1.7250901460647583.jpg\n",
      "Problem with file ../raw_data/images/testing/dunes/44.49449996948242_109.15566711425781_021_CW000_-0.5682117938995361_0.5579925179481506_1.9668080806732178.jpg\n"
     ]
    },
    {
     "name": "stderr",
     "output_type": "stream",
     "text": [
      " 11%|█         | 354/3313 [00:14<02:02, 24.07it/s]"
     ]
    },
    {
     "name": "stdout",
     "output_type": "stream",
     "text": [
      "Problem with file ../raw_data/images/testing/dunes/28.83050079345703_17.031874465942384_011_CW000_-0.4138762950897217_-0.27483323216438293_1.839026927947998.jpg\n",
      "Problem with file ../raw_data/images/testing/dunes/20.641500091552736_16.6356990814209_01_CW000_-0.6486546993255615_0.08520163595676422_0.6117581725120544.jpg\n",
      "Problem with file ../raw_data/images/testing/dunes/33.6635009765625_64.3509536743164_013_CW000_-0.31477949023246765_-0.3192647695541382_1.1632159948349.jpg\n",
      "Problem with file ../raw_data/images/testing/dunes/42.57349853515625_101.05379638671874_023_CW000_-0.6087461709976196_0.21150092780590057_1.2210578918457031.jpg\n",
      "Problem with file ../raw_data/images/testing/dunes/25.957499313354493_40.85179595947265_021_CW000_0.029128888621926308_0.05440368130803108_1.3052104711532593.jpg\n"
     ]
    },
    {
     "name": "stderr",
     "output_type": "stream",
     "text": [
      " 11%|█         | 360/3313 [00:15<02:04, 23.74it/s]"
     ]
    },
    {
     "name": "stdout",
     "output_type": "stream",
     "text": [
      "Problem with file ../raw_data/images/testing/dunes/42.62349853515625_100.37857666015626_00_CW000_-0.7186414003372192_0.34517228603363037_1.6851884126663208.jpg\n",
      "Problem with file ../raw_data/images/testing/dunes/43.29250030517578_107.085498046875_022_CW000_-0.4392402470111847_0.6916735768318176_2.1830339431762695.jpg\n",
      "Problem with file ../raw_data/images/testing/dunes/43.41749877929688_107.73589172363282_010_CW000_-0.33430132269859314_0.6684755086898804_1.7250901460647583.jpg\n",
      "Problem with file ../raw_data/images/testing/dunes/40.87050018310547_76.42966918945312_01_CW000_0.5033560395240784_0.39051440358161926_0.8296945691108704.jpg\n",
      "Problem with file ../raw_data/images/testing/dunes/15.427499580383301_49.98250045776367_020_CW000_0.506493330001831_-0.4213229715824127_1.6316087245941162.jpg\n"
     ]
    },
    {
     "name": "stderr",
     "output_type": "stream",
     "text": [
      "\r",
      " 11%|█         | 363/3313 [00:15<02:04, 23.64it/s]"
     ]
    },
    {
     "name": "stdout",
     "output_type": "stream",
     "text": [
      "Problem with file ../raw_data/images/testing/dunes/25.707500076293947_40.62667694091797_00_CW000_0.13406191766262054_0.19482681155204773_1.4763489961624146.jpg\n",
      "Problem with file ../raw_data/images/testing/dunes/14.582499885559082_48.057499694824216_031_CW000_0.773026704788208_-0.16512669622898102_1.1143494844436646.jpg\n",
      "Problem with file ../raw_data/images/testing/dunes/43.167501831054686_107.86094360351562_031_CW000_-0.0030304808169603348_0.6833584308624268_1.6944835186004639.jpg\n",
      "Problem with file ../raw_data/images/testing/dunes/34.04349822998047_56.23683319091797_013_CW000_-0.46110016107559204_-0.4645468294620514_1.73538339138031.jpg\n",
      "Problem with file ../raw_data/images/testing/dunes/20.466499710083006_16.660699081420898_032_CW000_-0.5566275119781494_0.11900259554386139_0.6446698904037476.jpg\n"
     ]
    },
    {
     "name": "stderr",
     "output_type": "stream",
     "text": [
      " 11%|█         | 369/3313 [00:15<02:05, 23.47it/s]"
     ]
    },
    {
     "name": "stdout",
     "output_type": "stream",
     "text": [
      "Problem with file ../raw_data/images/testing/dunes/43.317500305175784_107.76089172363281_011_CW000_-0.2360256314277649_0.6960911154747009_1.7476433515548706.jpg\n",
      "Problem with file ../raw_data/images/testing/dunes/32.73849945068359_63.82570190429688_022_CW000_-0.5201670527458191_0.20122765004634857_0.7504945397377014.jpg\n",
      "Problem with file ../raw_data/images/testing/dunes/20.616500091552734_16.43559913635254_011_CW000_-0.3417208790779114_0.19860801100730896_0.592272937297821.jpg\n",
      "Problem with file ../raw_data/images/testing/dunes/20.441499328613283_16.28549919128418_03_CW000_0.17970147728919983_0.17535635828971863_0.5946692228317261.jpg\n",
      "Problem with file ../raw_data/images/testing/dunes/21.066500091552733_16.610699081420897_030_CW000_-0.5446922779083252_-0.3825142979621887_1.0154786109924316.jpg\n"
     ]
    },
    {
     "name": "stderr",
     "output_type": "stream",
     "text": [
      " 11%|█▏        | 375/3313 [00:15<02:11, 22.27it/s]"
     ]
    },
    {
     "name": "stdout",
     "output_type": "stream",
     "text": [
      "Problem with file ../raw_data/images/testing/dunes/20.567499923706055_51.09750137329102_023_CW000_-0.47240376472473145_-0.5905879735946655_1.8853944540023804.jpg\n",
      "Problem with file ../raw_data/images/testing/dunes/14.832499694824218_48.207498168945314_013_CW000_0.5580542683601379_-0.2581610083580017_1.5363388061523438.jpg\n",
      "Problem with file ../raw_data/images/testing/dunes/42.948500061035155_100.40357666015625_031_CW000_-0.6404752135276794_0.5131795406341553_1.9527767896652222.jpg\n",
      "Problem with file ../raw_data/images/testing/dunes/43.12349853515625_100.903759765625_01_CW000_-0.3889748156070709_0.7711955308914185_2.0742509365081787.jpg\n",
      "Problem with file ../raw_data/images/testing/dunes/26.307500457763673_41.07691116333008_02_CW000_-0.1396024376153946_-0.19605056941509247_1.3086574077606201.jpg\n"
     ]
    },
    {
     "name": "stderr",
     "output_type": "stream",
     "text": [
      "\r",
      " 11%|█▏        | 378/3313 [00:15<02:11, 22.35it/s]"
     ]
    },
    {
     "name": "stdout",
     "output_type": "stream",
     "text": [
      "Problem with file ../raw_data/images/testing/dunes/14.957500076293945_47.782500457763675_02_CW000_0.588310182094574_-0.3480420708656311_2.059981107711792.jpg\n",
      "Problem with file ../raw_data/images/testing/dunes/32.81350173950195_63.40049819946289_031_CW000_-0.6618372797966003_-0.2832964360713959_0.8083289861679077.jpg\n",
      "Problem with file ../raw_data/images/testing/dunes/38.18550186157226_96.08677520751954_020_CW000_-0.17464105784893036_0.8904946446418762_1.3666965961456299.jpg\n",
      "Problem with file ../raw_data/images/testing/dunes/14.907500076293946_48.08249969482422_022_CW000_0.5537184476852417_-0.2568524479866028_1.9163249731063843.jpg\n",
      "Problem with file ../raw_data/images/testing/dunes/21.116500091552734_16.410599136352538_010_CW000_-0.35357558727264404_-0.5766075849533081_1.0990289449691772.jpg\n"
     ]
    },
    {
     "name": "stderr",
     "output_type": "stream",
     "text": [
      " 12%|█▏        | 384/3313 [00:16<02:05, 23.30it/s]"
     ]
    },
    {
     "name": "stdout",
     "output_type": "stream",
     "text": [
      "Problem with file ../raw_data/images/testing/dunes/41.62049942016601_75.92950134277343_021_CW000_0.19551150500774384_-0.18319888412952423_0.7999233603477478.jpg\n",
      "Problem with file ../raw_data/images/testing/dunes/40.57050094604492_76.70477905273438_00_CW000_-0.706877589225769_0.6314568519592285_1.1913402080535889.jpg\n",
      "Problem with file ../raw_data/images/testing/dunes/20.871499633789064_34.23283309936524_02_CW000_-0.808279275894165_-0.284757137298584_3.379659652709961.jpg\n",
      "Problem with file ../raw_data/images/testing/dunes/40.52050094604492_76.65474243164063_022_CW000_-0.5778640508651733_0.7082821726799011_1.0332496166229248.jpg\n",
      "Problem with file ../raw_data/images/testing/dunes/43.26750030517578_107.13555755615235_030_CW000_-0.42812126874923706_0.7013036608695984_2.1822221279144287.jpg\n",
      "Problem with file ../raw_data/images/testing/dunes/31.628500366210936_56.60550155639648_030_CW000_-0.32447588443756104_0.6363072991371155_1.0399030447006226.jpg\n"
     ]
    },
    {
     "name": "stderr",
     "output_type": "stream",
     "text": [
      " 12%|█▏        | 390/3313 [00:16<02:00, 24.23it/s]"
     ]
    },
    {
     "name": "stdout",
     "output_type": "stream",
     "text": [
      "Problem with file ../raw_data/images/testing/dunes/38.5854995727539_96.11177520751953_021_CW000_0.1708187609910965_0.8070891499519348_1.4546841382980347.jpg\n",
      "Problem with file ../raw_data/images/testing/dunes/31.674499893188475_62.05784683227539_031_CW000_-0.8524061441421509_0.26555073261260986_3.9738004207611084.jpg\n",
      "Problem with file ../raw_data/images/testing/dunes/41.29550018310547_77.0048812866211_030_CW000_0.46222710609436035_-0.06810977309942245_0.7777317762374878.jpg\n",
      "Problem with file ../raw_data/images/testing/dunes/20.696499252319335_34.1327507019043_032_CW000_-0.8340299129486084_-0.23505526781082153_3.348466396331787.jpg\n",
      "Problem with file ../raw_data/images/testing/dunes/33.1885009765625_63.850701904296876_03_CW000_-0.14149506390094757_-0.35203054547309875_0.7193716764450073.jpg\n",
      "Problem with file ../raw_data/images/testing/dunes/20.66650047302246_16.86080093383789_032_CW000_-0.6723994016647339_0.12616480886936188_0.5599585771560669.jpg\n"
     ]
    },
    {
     "name": "stderr",
     "output_type": "stream",
     "text": [
      " 12%|█▏        | 396/3313 [00:16<02:00, 24.27it/s]"
     ]
    },
    {
     "name": "stdout",
     "output_type": "stream",
     "text": [
      "Problem with file ../raw_data/images/testing/dunes/33.01349868774414_63.45049819946289_033_CW000_-0.6691743731498718_-0.43069934844970703_0.7408806681632996.jpg\n",
      "Problem with file ../raw_data/images/testing/dunes/26.4075008392334_40.90179595947266_03_CW000_-0.10505552589893341_-0.11088480800390244_1.3147815465927124.jpg\n",
      "Problem with file ../raw_data/images/testing/dunes/32.98850021362305_63.95074996948242_03_CW000_-0.24206915497779846_0.034709881991147995_0.6473000049591064.jpg\n",
      "Problem with file ../raw_data/images/testing/dunes/43.11749954223633_107.3356689453125_010_CW000_-0.28662362694740295_0.7267662286758423_2.0171797275543213.jpg\n",
      "Problem with file ../raw_data/images/testing/dunes/43.04849853515625_100.928759765625_032_CW000_-0.3889748156070709_0.7711955308914185_2.0742509365081787.jpg\n"
     ]
    },
    {
     "name": "stderr",
     "output_type": "stream",
     "text": [
      " 12%|█▏        | 402/3313 [00:16<02:08, 22.62it/s]"
     ]
    },
    {
     "name": "stdout",
     "output_type": "stream",
     "text": [
      "Problem with file ../raw_data/images/testing/dunes/17.4075008392334_45.38249816894531_00_CW000_-0.23704053461551666_-0.679129958152771_1.711531400680542.jpg\n",
      "Problem with file ../raw_data/images/testing/dunes/43.042501068115236_107.76089172363281_01_CW000_0.07067034393548965_0.7441366314888_2.006405830383301.jpg\n",
      "Problem with file ../raw_data/images/testing/dunes/14.657499885559082_47.80750045776367_03_CW000_0.6773824691772461_-0.3964672088623047_1.3065567016601562.jpg\n",
      "Problem with file ../raw_data/images/testing/dunes/25.762499237060545_26.19749984741211_033_CW000_-0.809395432472229_-0.218753844499588_1.918020486831665.jpg\n",
      "Problem with file ../raw_data/images/testing/dunes/28.755500411987306_16.831625747680665_01_CW000_-0.3636600375175476_-0.29754436016082764_1.8568904399871826.jpg\n"
     ]
    },
    {
     "name": "stderr",
     "output_type": "stream",
     "text": [
      "\r",
      " 12%|█▏        | 405/3313 [00:16<02:06, 22.99it/s]"
     ]
    },
    {
     "name": "stdout",
     "output_type": "stream",
     "text": [
      "Problem with file ../raw_data/images/testing/dunes/15.502499961853028_50.00750045776367_031_CW000_0.4530928432941437_-0.4780612587928772_1.645377278327942.jpg\n",
      "Problem with file ../raw_data/images/testing/dunes/20.66650047302246_16.98585090637207_033_CW000_-0.6502166986465454_0.2707524001598358_0.5761353969573975.jpg\n",
      "Problem with file ../raw_data/images/testing/dunes/33.91849975585937_56.011748504638675_022_CW000_-0.39543676376342773_-0.44409340620040894_1.715564250946045.jpg\n",
      "Problem with file ../raw_data/images/testing/dunes/44.31949920654297_109.13066711425782_010_CW000_-0.5478127002716064_0.5291091799736023_1.7025138139724731.jpg\n",
      "Problem with file ../raw_data/images/testing/dunes/33.518498229980466_55.861708068847655_020_CW000_-0.426584392786026_-0.18486425280570984_1.295327067375183.jpg\n"
     ]
    },
    {
     "name": "stderr",
     "output_type": "stream",
     "text": [
      " 12%|█▏        | 411/3313 [00:17<02:03, 23.50it/s]"
     ]
    },
    {
     "name": "stdout",
     "output_type": "stream",
     "text": [
      "Problem with file ../raw_data/images/testing/dunes/29.130500030517577_17.107000732421874_010_CW000_-0.50916987657547_-0.1964150071144104_1.8493682146072388.jpg\n",
      "Problem with file ../raw_data/images/testing/dunes/29.255500411987306_16.731499481201173_01_CW000_-0.4958956241607666_-0.2636813819408417_1.9415779113769531.jpg\n",
      "Problem with file ../raw_data/images/testing/dunes/38.48550109863281_96.48713531494141_020_CW000_0.13647308945655823_0.7535533308982849_1.2568947076797485.jpg\n",
      "Problem with file ../raw_data/images/testing/dunes/28.730500411987304_17.132000732421876_011_CW000_-0.4012075960636139_-0.2811996042728424_1.8228366374969482.jpg\n",
      "Problem with file ../raw_data/images/testing/dunes/43.09849853515625_101.25386962890624_013_CW000_-0.285476416349411_0.7415161728858948_1.6268131732940674.jpg\n"
     ]
    },
    {
     "name": "stderr",
     "output_type": "stream",
     "text": [
      " 13%|█▎        | 417/3313 [00:17<01:59, 24.15it/s]"
     ]
    },
    {
     "name": "stdout",
     "output_type": "stream",
     "text": [
      "Problem with file ../raw_data/images/testing/dunes/44.81949920654297_109.18066711425782_012_CW000_-0.30368950963020325_0.6769421696662903_1.9560052156448364.jpg\n",
      "Problem with file ../raw_data/images/testing/dunes/31.803500747680665_57.10583343505859_00_CW000_-0.7081820964813232_0.5840337872505188_1.5030890703201294.jpg\n",
      "Problem with file ../raw_data/images/testing/dunes/29.10550003051758_16.931750106811524_021_CW000_-0.4982140064239502_-0.23002555966377258_1.9008547067642212.jpg\n",
      "Problem with file ../raw_data/images/testing/dunes/43.042501068115236_107.53578033447266_00_CW000_-0.08754419535398483_0.7478445768356323_1.9767793416976929.jpg\n",
      "Problem with file ../raw_data/images/testing/dunes/31.728500747680663_56.65550155639649_032_CW000_-0.3773847818374634_0.6704710721969604_1.0476168394088745.jpg\n"
     ]
    },
    {
     "name": "stderr",
     "output_type": "stream",
     "text": [
      "\r",
      " 13%|█▎        | 420/3313 [00:17<02:00, 23.99it/s]"
     ]
    },
    {
     "name": "stdout",
     "output_type": "stream",
     "text": [
      "Problem with file ../raw_data/images/testing/dunes/38.18550186157226_96.5621353149414_023_CW000_-0.0465027317404747_0.8922232985496521_1.7161295413970947.jpg\n",
      "Problem with file ../raw_data/images/testing/dunes/31.59949951171875_61.58262939453125_022_CW000_-0.926543116569519_0.307915061712265_5.361482620239258.jpg\n",
      "Problem with file ../raw_data/images/testing/dunes/44.46949996948242_109.68108673095703_032_CW000_-0.5022079944610596_0.5700734257698059_1.6070542335510254.jpg\n",
      "Problem with file ../raw_data/images/testing/dunes/21.091500091552735_16.96085090637207_022_CW000_-0.6952460408210754_-0.12563982605934143_0.8509045243263245.jpg\n",
      "Problem with file ../raw_data/images/testing/dunes/25.737500762939455_25.722500228881835_00_CW000_-0.7547097206115723_-0.3471554219722748_1.8870199918746948.jpg\n"
     ]
    },
    {
     "name": "stderr",
     "output_type": "stream",
     "text": [
      " 13%|█▎        | 426/3313 [00:17<01:59, 24.13it/s]"
     ]
    },
    {
     "name": "stdout",
     "output_type": "stream",
     "text": [
      "Problem with file ../raw_data/images/testing/dunes/45.166499328613284_70.25350036621094_010_CW000_-0.1815747767686844_-0.6640234589576721_1.903873324394226.jpg\n",
      "Problem with file ../raw_data/images/testing/dunes/38.510501098632815_96.38704528808594_010_CW000_0.16036121547222137_0.783257007598877_1.3496683835983276.jpg\n",
      "Problem with file ../raw_data/images/testing/dunes/33.6135009765625_64.05079803466796_033_CW000_-0.5101184844970703_-0.3115123510360718_1.1709128618240356.jpg\n",
      "Problem with file ../raw_data/images/testing/dunes/15.652500343322753_49.35749969482422_013_CW000_0.3484245836734772_-0.5908284783363342_1.9248461723327637.jpg\n",
      "Problem with file ../raw_data/images/testing/dunes/38.21050186157227_96.261865234375_013_CW000_-0.10370610654354095_0.8937575817108154_1.4411046504974365.jpg\n",
      "Problem with file ../raw_data/images/testing/dunes/33.21349945068359_63.97579803466797_030_CW000_-0.02712608315050602_-0.4054909646511078_0.9594680666923523.jpg\n"
     ]
    },
    {
     "name": "stderr",
     "output_type": "stream",
     "text": [
      " 13%|█▎        | 432/3313 [00:18<01:59, 24.09it/s]"
     ]
    },
    {
     "name": "stdout",
     "output_type": "stream",
     "text": [
      "Problem with file ../raw_data/images/testing/dunes/42.99250106811523_107.31060943603515_023_CW000_-0.26746049523353577_0.7162901759147644_1.9901317358016968.jpg\n",
      "Problem with file ../raw_data/images/testing/dunes/43.71750183105469_107.43572082519532_010_CW000_-0.5709773898124695_0.6269375681877136_2.2550153732299805.jpg\n",
      "Problem with file ../raw_data/images/testing/dunes/38.23550186157227_96.13677520751953_02_CW000_-0.17464105784893036_0.8904946446418762_1.3666965961456299.jpg\n",
      "Problem with file ../raw_data/images/testing/dunes/42.97350006103515_100.57864990234376_020_CW000_-0.5945671796798706_0.6023494601249695_2.0742669105529785.jpg\n",
      "Problem with file ../raw_data/images/testing/dunes/20.91649932861328_16.96085090637207_012_CW000_-0.6532648205757141_0.08141060918569565_0.7499223351478577.jpg\n"
     ]
    },
    {
     "name": "stderr",
     "output_type": "stream",
     "text": [
      " 13%|█▎        | 438/3313 [00:18<02:04, 23.18it/s]"
     ]
    },
    {
     "name": "stdout",
     "output_type": "stream",
     "text": [
      "Problem with file ../raw_data/images/testing/dunes/20.49149971008301_16.48559913635254_023_CW000_-0.2529115080833435_0.23270092904567719_0.6442298293113708.jpg\n",
      "Problem with file ../raw_data/images/testing/dunes/42.898501586914065_100.55361328125_013_CW000_-0.7000736594200134_0.45810407400131226_1.9835752248764038.jpg\n",
      "Problem with file ../raw_data/images/testing/dunes/34.09350051879883_55.43649826049805_033_CW000_-0.8240686655044556_0.004343690350651741_2.2954535484313965.jpg\n",
      "Problem with file ../raw_data/images/testing/dunes/15.327500152587891_49.85749969482422_023_CW000_0.4855238199234009_-0.5199835300445557_1.4125655889511108.jpg\n",
      "Problem with file ../raw_data/images/testing/dunes/33.618500518798825_56.186833190917966_021_CW000_-0.3614765405654907_-0.0484321154654026_1.2393122911453247.jpg\n"
     ]
    },
    {
     "name": "stderr",
     "output_type": "stream",
     "text": [
      "\r",
      " 13%|█▎        | 441/3313 [00:18<02:03, 23.19it/s]"
     ]
    },
    {
     "name": "stdout",
     "output_type": "stream",
     "text": [
      "Problem with file ../raw_data/images/testing/dunes/20.466499710083006_16.78574905395508_033_CW000_-0.6785840392112732_0.05545015260577202_0.6573966145515442.jpg\n",
      "Problem with file ../raw_data/images/testing/dunes/44.64449844360352_109.58099670410157_02_CW000_-0.4599796533584595_0.6089715957641602_1.6961402893066406.jpg\n",
      "Problem with file ../raw_data/images/testing/dunes/20.516499710083007_16.38554916381836_013_CW000_-0.16095563769340515_0.17761968076229095_0.5812479257583618.jpg\n",
      "Problem with file ../raw_data/images/testing/dunes/31.44950065612793_62.08284683227539_02_CW000_-0.8582533001899719_0.34897834062576294_3.7229902744293213.jpg\n",
      "Problem with file ../raw_data/images/testing/dunes/43.592499542236325_107.035498046875_020_CW000_-0.4977668225765228_0.7086882591247559_2.486868381500244.jpg\n"
     ]
    },
    {
     "name": "stderr",
     "output_type": "stream",
     "text": [
      " 13%|█▎        | 447/3313 [00:18<02:01, 23.63it/s]"
     ]
    },
    {
     "name": "stdout",
     "output_type": "stream",
     "text": [
      "Problem with file ../raw_data/images/testing/dunes/33.843501281738284_55.71162338256836_012_CW000_-0.8179576992988586_0.06272365152835846_1.8955152034759521.jpg\n",
      "Problem with file ../raw_data/images/testing/dunes/31.228500747680663_56.60550155639648_030_CW000_-0.13622033596038818_0.40587693452835083_1.153578281402588.jpg\n",
      "Problem with file ../raw_data/images/testing/dunes/31.128500366210936_57.33096771240234_031_CW000_-0.6978933811187744_0.6380075216293335_1.167223334312439.jpg\n",
      "Problem with file ../raw_data/images/testing/dunes/40.64549942016602_76.05453796386719_012_CW000_0.3640296459197998_0.7231192588806152_1.1394288539886475.jpg\n",
      "Problem with file ../raw_data/images/testing/dunes/31.52849998474121_56.60550155639648_030_CW000_-0.2770393192768097_0.5647757649421692_1.0589823722839355.jpg\n",
      "Problem with file ../raw_data/images/testing/dunes/31.59949951171875_61.30750045776367_023_CW000_-0.9500872492790222_0.2917090654373169_5.941537380218506.jpg\n"
     ]
    },
    {
     "name": "stderr",
     "output_type": "stream",
     "text": [
      " 14%|█▎        | 453/3313 [00:18<01:57, 24.35it/s]"
     ]
    },
    {
     "name": "stdout",
     "output_type": "stream",
     "text": [
      "Problem with file ../raw_data/images/testing/dunes/19.617499923706056_34.04199905395508_02_CW000_-0.8135537505149841_-0.13925354182720184_3.5280017852783203.jpg\n",
      "Problem with file ../raw_data/images/testing/dunes/31.178500366210937_57.30596771240234_010_CW000_-0.6978933811187744_0.6380075216293335_1.167223334312439.jpg\n",
      "Problem with file ../raw_data/images/testing/dunes/43.24250183105469_107.3606689453125_01_CW000_-0.33974334597587585_0.7245656251907349_2.0801100730895996.jpg\n",
      "Problem with file ../raw_data/images/testing/dunes/44.84449920654297_109.15566711425781_01_CW000_-0.30368950963020325_0.6769421696662903_1.9560052156448364.jpg\n",
      "Problem with file ../raw_data/images/testing/dunes/20.566500091552733_16.98585090637207_033_CW000_-0.7020641565322876_0.2976413369178772_0.5236460566520691.jpg\n"
     ]
    },
    {
     "name": "stderr",
     "output_type": "stream",
     "text": [
      " 14%|█▍        | 459/3313 [00:19<01:59, 23.98it/s]"
     ]
    },
    {
     "name": "stdout",
     "output_type": "stream",
     "text": [
      "Problem with file ../raw_data/images/testing/dunes/31.52849998474121_57.380967712402345_033_CW000_-0.8319311738014221_0.4609866142272949_1.6326491832733154.jpg\n",
      "Problem with file ../raw_data/images/testing/dunes/19.9875_45.967499542236325_021_CW000_0.02779167890548706_-0.7818498015403748_2.2502503395080566.jpg\n",
      "Problem with file ../raw_data/images/testing/dunes/33.76849899291992_56.011748504638675_02_CW000_-0.2964558005332947_-0.33702805638313293_1.4916207790374756.jpg\n",
      "Problem with file ../raw_data/images/testing/dunes/43.29250030517578_107.18555755615235_022_CW000_-0.42812126874923706_0.7013036608695984_2.1822221279144287.jpg\n",
      "Problem with file ../raw_data/images/testing/dunes/33.843501281738284_55.58658294677734_011_CW000_-0.8350712060928345_0.10379926860332489_1.9671274423599243.jpg\n"
     ]
    },
    {
     "name": "stderr",
     "output_type": "stream",
     "text": [
      " 14%|█▍        | 465/3313 [00:19<01:56, 24.35it/s]"
     ]
    },
    {
     "name": "stdout",
     "output_type": "stream",
     "text": [
      "Problem with file ../raw_data/images/testing/dunes/43.442498779296876_107.91094360351562_03_CW000_-0.22831451892852783_0.6485686898231506_1.5787773132324219.jpg\n",
      "Problem with file ../raw_data/images/testing/dunes/43.817500305175784_107.56078033447265_011_CW000_-0.5903657674789429_0.6053684949874878_2.2394893169403076.jpg\n",
      "Problem with file ../raw_data/images/testing/dunes/40.57050094604492_76.45466918945313_02_CW000_-0.28530389070510864_0.7889005541801453_0.8629425168037415.jpg\n",
      "Problem with file ../raw_data/images/testing/dunes/37.96050109863281_96.211865234375_031_CW000_-0.4190104901790619_0.8281781077384949_1.3005887269973755.jpg\n",
      "Problem with file ../raw_data/images/testing/dunes/15.627500343322755_49.682501220703124_020_CW000_0.256740927696228_-0.6341574788093567_1.553894281387329.jpg\n"
     ]
    },
    {
     "name": "stderr",
     "output_type": "stream",
     "text": [
      "\r",
      " 14%|█▍        | 468/3313 [00:19<01:56, 24.44it/s]"
     ]
    },
    {
     "name": "stdout",
     "output_type": "stream",
     "text": [
      "Problem with file ../raw_data/images/testing/dunes/31.724499893188476_61.25750045776367_011_CW000_-0.9407658576965332_0.3187292218208313_6.037672996520996.jpg\n",
      "Problem with file ../raw_data/images/testing/dunes/31.328499221801756_57.25590057373047_032_CW000_-0.6969814896583557_0.6346865892410278_1.2112970352172852.jpg\n",
      "Problem with file ../raw_data/images/testing/dunes/40.89549865722656_76.35464019775391_032_CW000_0.568324625492096_0.22971676290035248_0.8561831712722778.jpg\n",
      "Problem with file ../raw_data/images/testing/dunes/20.0375_45.44249954223633_00_CW000_0.07535156607627869_-0.7181721329689026_2.158968925476074.jpg\n",
      "Problem with file ../raw_data/images/testing/dunes/26.082499694824218_40.45155792236328_011_CW000_0.1026507169008255_0.3892436623573303_1.4255527257919312.jpg\n"
     ]
    },
    {
     "name": "stderr",
     "output_type": "stream",
     "text": [
      " 14%|█▍        | 474/3313 [00:19<01:58, 23.88it/s]"
     ]
    },
    {
     "name": "stdout",
     "output_type": "stream",
     "text": [
      "Problem with file ../raw_data/images/testing/dunes/37.96050109863281_96.28695526123047_030_CW000_-0.38557323813438416_0.8365060091018677_1.3470016717910767.jpg\n",
      "Problem with file ../raw_data/images/testing/dunes/44.64449844360352_109.18066711425782_02_CW000_-0.45960119366645813_0.6211330890655518_1.9466426372528076.jpg\n",
      "Problem with file ../raw_data/images/testing/dunes/44.26949920654297_109.45591430664062_031_CW000_-0.3737114667892456_0.6144821643829346_1.4741261005401611.jpg\n",
      "Problem with file ../raw_data/images/testing/dunes/43.667501831054686_107.16055755615234_031_CW000_-0.5445125102996826_0.6801014542579651_2.526923656463623.jpg\n",
      "Problem with file ../raw_data/images/testing/dunes/42.37350158691406_100.57864990234376_020_CW000_-0.5230313539505005_0.3490811586380005_1.3080353736877441.jpg\n"
     ]
    },
    {
     "name": "stderr",
     "output_type": "stream",
     "text": [
      "\r",
      " 14%|█▍        | 477/3313 [00:19<01:58, 23.91it/s]"
     ]
    },
    {
     "name": "stdout",
     "output_type": "stream",
     "text": [
      "Problem with file ../raw_data/images/testing/dunes/26.051499557495116_8.126928901672363_013_CW000_-0.05685173347592354_-0.3322336673736572_1.0810060501098633.jpg\n",
      "Problem with file ../raw_data/images/testing/dunes/32.888501739501955_64.3509536743164_03_CW000_-0.577610969543457_0.6462551951408386_0.7555250525474548.jpg\n",
      "Problem with file ../raw_data/images/testing/dunes/28.27249946594238_24.597499465942384_033_CW000_-0.6735036969184875_-0.017297444865107536_1.760688066482544.jpg\n",
      "Problem with file ../raw_data/images/testing/dunes/43.84250030517578_107.085498046875_02_CW000_-0.5001820921897888_0.7152990102767944_2.6138482093811035.jpg\n",
      "Problem with file ../raw_data/images/testing/dunes/20.746499252319335_34.082750701904295_010_CW000_-0.8340299129486084_-0.23505526781082153_3.348466396331787.jpg\n"
     ]
    },
    {
     "name": "stderr",
     "output_type": "stream",
     "text": [
      " 15%|█▍        | 483/3313 [00:20<01:57, 24.13it/s]"
     ]
    },
    {
     "name": "stdout",
     "output_type": "stream",
     "text": [
      "Problem with file ../raw_data/images/testing/dunes/31.803500747680665_57.40603485107422_00_CW000_-0.8882879018783569_0.3220795691013336_1.975223422050476.jpg\n",
      "Problem with file ../raw_data/images/testing/dunes/25.801500701904295_7.851642990112305_030_CW000_-0.0849752426147461_-0.3682674467563629_1.0448358058929443.jpg\n",
      "Problem with file ../raw_data/images/testing/dunes/45.36650009155274_70.85396423339844_010_CW000_-0.18420006334781647_-0.6940234303474426_1.9933085441589355.jpg\n",
      "Problem with file ../raw_data/images/testing/dunes/40.545500946044925_76.52970581054687_011_CW000_-0.40764981508255005_0.7714346051216125_0.9123136401176453.jpg\n",
      "Problem with file ../raw_data/images/testing/dunes/45.19149932861328_70.7038070678711_02_CW000_-0.18394336104393005_-0.681837260723114_1.9496077299118042.jpg\n"
     ]
    },
    {
     "name": "stderr",
     "output_type": "stream",
     "text": [
      " 15%|█▍        | 489/3313 [00:20<01:59, 23.70it/s]"
     ]
    },
    {
     "name": "stdout",
     "output_type": "stream",
     "text": [
      "Problem with file ../raw_data/images/testing/dunes/20.391499328613282_16.410599136352538_020_CW000_-0.16867341101169586_0.21569600701332092_0.6603161096572876.jpg\n",
      "Problem with file ../raw_data/images/testing/dunes/31.40349922180176_57.28090057373047_03_CW000_-0.6969814896583557_0.6346865892410278_1.2112970352172852.jpg\n",
      "Problem with file ../raw_data/images/testing/dunes/26.05749969482422_41.02691116333008_020_CW000_-0.07088113576173782_-0.12226144224405289_1.2823690176010132.jpg\n",
      "Problem with file ../raw_data/images/testing/dunes/41.52050094604492_77.15491027832032_022_CW000_0.7850807309150696_0.15583151578903198_1.0870587825775146.jpg\n",
      "Problem with file ../raw_data/images/testing/dunes/14.682500267028809_48.03249969482422_030_CW000_0.6427724361419678_-0.22423656284809113_1.2981243133544922.jpg\n"
     ]
    },
    {
     "name": "stderr",
     "output_type": "stream",
     "text": [
      "\r",
      " 15%|█▍        | 492/3313 [00:20<01:58, 23.72it/s]"
     ]
    },
    {
     "name": "stdout",
     "output_type": "stream",
     "text": [
      "Problem with file ../raw_data/images/testing/dunes/43.51750106811524_107.66083221435547_011_CW000_-0.46071723103523254_0.6431394219398499_1.8604093790054321.jpg\n",
      "Problem with file ../raw_data/images/testing/dunes/43.71750183105469_107.48572082519532_012_CW000_-0.5709773898124695_0.6269375681877136_2.2550153732299805.jpg\n",
      "Problem with file ../raw_data/images/testing/dunes/41.37050018310547_77.1799102783203_03_CW000_0.4720132350921631_0.00903276726603508_0.6998651027679443.jpg\n",
      "Problem with file ../raw_data/images/testing/dunes/42.72350082397461_100.953759765625_03_CW000_-0.7008964419364929_0.26701173186302185_1.4472295045852661.jpg\n",
      "Problem with file ../raw_data/images/testing/dunes/25.632500076293944_40.75173645019531_031_CW000_0.1397871971130371_0.13822759687900543_1.473233699798584.jpg\n"
     ]
    },
    {
     "name": "stderr",
     "output_type": "stream",
     "text": [
      " 15%|█▌        | 498/3313 [00:20<01:57, 23.95it/s]"
     ]
    },
    {
     "name": "stdout",
     "output_type": "stream",
     "text": [
      "Problem with file ../raw_data/images/testing/dunes/20.266500854492186_16.43559913635254_031_CW000_-0.09725315868854523_0.20584911108016968_0.6866973638534546.jpg\n",
      "Problem with file ../raw_data/images/testing/dunes/32.98850021362305_63.550550079345705_03_CW000_-0.5657123923301697_-0.3566766083240509_0.7216888666152954.jpg\n",
      "Problem with file ../raw_data/images/testing/dunes/43.51750106811524_107.28560943603516_012_CW000_-0.5092216730117798_0.6801055073738098_2.268923044204712.jpg\n",
      "Problem with file ../raw_data/images/testing/dunes/20.91649932861328_16.98585090637207_013_CW000_-0.6532648205757141_0.08141060918569565_0.7499223351478577.jpg\n",
      "Problem with file ../raw_data/images/testing/dunes/33.6135009765625_63.37549819946289_030_CW000_-0.5556339025497437_-0.1510927677154541_1.0892993211746216.jpg\n"
     ]
    },
    {
     "name": "stderr",
     "output_type": "stream",
     "text": [
      " 15%|█▌        | 504/3313 [00:21<02:02, 22.86it/s]"
     ]
    },
    {
     "name": "stdout",
     "output_type": "stream",
     "text": [
      "Problem with file ../raw_data/images/testing/dunes/28.23249931335449_22.622499847412108_010_CW000_-0.6210829615592957_-0.247902974486351_1.841108798980713.jpg\n",
      "Problem with file ../raw_data/images/testing/dunes/44.794499206542966_109.50591430664062_023_CW000_-0.35647401213645935_0.6537182331085205_1.7756799459457397.jpg\n",
      "Problem with file ../raw_data/images/testing/dunes/43.298499298095706_100.3535400390625_013_CW000_-0.005821020342409611_0.7945483326911926_1.6093640327453613.jpg\n",
      "Problem with file ../raw_data/images/testing/dunes/14.80749969482422_48.15749816894531_021_CW000_0.5580542683601379_-0.2581610083580017_1.5363388061523438.jpg\n",
      "Problem with file ../raw_data/images/testing/dunes/45.06650085449219_70.72880706787109_013_CW000_-0.18113432824611664_-0.6709339022636414_1.9068721532821655.jpg\n"
     ]
    },
    {
     "name": "stderr",
     "output_type": "stream",
     "text": [
      "\r",
      " 15%|█▌        | 507/3313 [00:21<02:03, 22.64it/s]"
     ]
    },
    {
     "name": "stdout",
     "output_type": "stream",
     "text": [
      "Problem with file ../raw_data/images/testing/dunes/20.316500854492187_17.16095085144043_012_CW000_-0.17775921523571014_0.3991169333457947_0.4318420886993408.jpg\n",
      "Problem with file ../raw_data/images/testing/dunes/42.96750106811523_107.71083221435546_033_CW000_-0.008332541212439537_0.7519580125808716_2.00122332572937.jpg\n",
      "Problem with file ../raw_data/images/testing/dunes/38.38549880981445_96.261865234375_023_CW000_0.09195462614297867_0.8640323877334595_1.5077096223831177.jpg\n",
      "Problem with file ../raw_data/images/testing/dunes/31.753500747680665_56.80563201904297_020_CW000_-0.48613056540489197_0.7145801186561584_1.0896981954574585.jpg\n",
      "Problem with file ../raw_data/images/testing/dunes/42.823499298095705_100.40357666015625_01_CW000_-0.7539007663726807_0.3295396864414215_1.8627591133117676.jpg\n"
     ]
    },
    {
     "name": "stderr",
     "output_type": "stream",
     "text": [
      " 15%|█▌        | 513/3313 [00:21<02:12, 21.14it/s]"
     ]
    },
    {
     "name": "stdout",
     "output_type": "stream",
     "text": [
      "Problem with file ../raw_data/images/testing/dunes/40.970498657226564_76.72977905273437_01_CW000_0.3942452669143677_0.2463376224040985_0.5731559991836548.jpg\n",
      "Problem with file ../raw_data/images/testing/dunes/38.18550186157226_96.16177520751953_023_CW000_-0.17464105784893036_0.8904946446418762_1.3666965961456299.jpg\n",
      "Problem with file ../raw_data/images/testing/dunes/44.894501495361325_109.25574951171875_021_CW000_-0.2859478294849396_0.6724535822868347_1.8539502620697021.jpg\n",
      "Problem with file ../raw_data/images/testing/dunes/44.31949920654297_109.45591430664062_011_CW000_-0.3737114667892456_0.6144821643829346_1.4741261005401611.jpg\n",
      "Problem with file ../raw_data/images/testing/dunes/31.328499221801756_57.230900573730466_031_CW000_-0.6969814896583557_0.6346865892410278_1.2112970352172852.jpg\n"
     ]
    },
    {
     "name": "stderr",
     "output_type": "stream",
     "text": [
      " 16%|█▌        | 519/3313 [00:21<02:07, 21.87it/s]"
     ]
    },
    {
     "name": "stdout",
     "output_type": "stream",
     "text": [
      "Problem with file ../raw_data/images/testing/dunes/40.52050094604492_76.70477905273438_020_CW000_-0.706877589225769_0.6314568519592285_1.1913402080535889.jpg\n",
      "Problem with file ../raw_data/images/testing/dunes/44.26949920654297_109.18066711425782_032_CW000_-0.5478127002716064_0.5291091799736023_1.7025138139724731.jpg\n",
      "Problem with file ../raw_data/images/testing/dunes/26.257500457763673_40.75173645019531_021_CW000_-0.08852653950452805_-0.008082548156380653_1.2819433212280273.jpg\n",
      "Problem with file ../raw_data/images/testing/dunes/31.349500274658205_61.8827621459961_02_CW000_-0.8920423984527588_0.3653720021247864_4.07539176940918.jpg\n",
      "Problem with file ../raw_data/images/testing/dunes/21.046500396728515_34.35791549682617_013_CW000_-0.805659294128418_-0.2949983775615692_3.407492160797119.jpg\n"
     ]
    },
    {
     "name": "stderr",
     "output_type": "stream",
     "text": [
      "\r",
      " 16%|█▌        | 522/3313 [00:21<02:06, 22.00it/s]"
     ]
    },
    {
     "name": "stdout",
     "output_type": "stream",
     "text": [
      "Problem with file ../raw_data/images/testing/dunes/20.34150085449219_16.48559913635254_03_CW000_-0.09725315868854523_0.20584911108016968_0.6866973638534546.jpg\n",
      "Problem with file ../raw_data/images/testing/dunes/44.59449844360351_109.15566711425781_021_CW000_-0.45960119366645813_0.6211330890655518_1.9466426372528076.jpg\n",
      "Problem with file ../raw_data/images/testing/dunes/31.92450065612793_61.682673645019534_012_CW000_-0.9040991067886353_0.28551948070526123_5.007256031036377.jpg\n",
      "Problem with file ../raw_data/images/testing/dunes/38.410498809814456_96.28695526123047_010_CW000_0.11097325384616852_0.8613903522491455_1.603798508644104.jpg\n",
      "Problem with file ../raw_data/images/testing/dunes/32.938500213623044_63.525550079345706_022_CW000_-0.5657123923301697_-0.3566766083240509_0.7216888666152954.jpg\n"
     ]
    },
    {
     "name": "stderr",
     "output_type": "stream",
     "text": [
      " 16%|█▌        | 528/3313 [00:22<02:07, 21.88it/s]"
     ]
    },
    {
     "name": "stdout",
     "output_type": "stream",
     "text": [
      "Problem with file ../raw_data/images/testing/dunes/29.130500030517577_17.182000732421876_013_CW000_-0.50916987657547_-0.1964150071144104_1.8493682146072388.jpg\n",
      "Problem with file ../raw_data/images/testing/dunes/34.16850051879883_56.011748504638675_02_CW000_-0.6121608018875122_-0.43064016103744507_2.032421588897705.jpg\n",
      "Problem with file ../raw_data/images/testing/dunes/33.48850021362305_64.25090179443359_03_CW000_-0.20786884427070618_-0.4033299684524536_1.0149190425872803.jpg\n",
      "Problem with file ../raw_data/images/testing/dunes/33.6885009765625_64.25090179443359_03_CW000_-0.3423406183719635_-0.3204615116119385_1.1499325037002563.jpg\n",
      "Problem with file ../raw_data/images/testing/dunes/34.04349822998047_56.186833190917966_011_CW000_-0.46110016107559204_-0.4645468294620514_1.73538339138031.jpg\n"
     ]
    },
    {
     "name": "stderr",
     "output_type": "stream",
     "text": [
      " 16%|█▌        | 534/3313 [00:22<02:05, 22.08it/s]"
     ]
    },
    {
     "name": "stdout",
     "output_type": "stream",
     "text": [
      "Problem with file ../raw_data/images/testing/dunes/28.705500411987305_16.931750106811524_021_CW000_-0.3803493082523346_-0.2937868535518646_1.8581100702285767.jpg\n",
      "Problem with file ../raw_data/images/testing/dunes/31.42450065612793_62.00780258178711_013_CW000_-0.8800142407417297_0.34601882100105286_3.980861186981201.jpg\n",
      "Problem with file ../raw_data/images/testing/dunes/25.78250045776367_40.95185165405273_011_CW000_0.13221238553524017_0.06039104238152504_1.395803451538086.jpg\n",
      "Problem with file ../raw_data/images/testing/dunes/20.36649932861328_17.03590087890625_031_CW000_-0.4548834264278412_0.3732754588127136_0.43831104040145874.jpg\n",
      "Problem with file ../raw_data/images/testing/dunes/19.137500381469728_45.61750183105469_03_CW000_0.03780717775225639_-0.7115976214408875_2.2412121295928955.jpg\n"
     ]
    },
    {
     "name": "stderr",
     "output_type": "stream",
     "text": [
      "\r",
      " 16%|█▌        | 537/3313 [00:22<02:07, 21.78it/s]"
     ]
    },
    {
     "name": "stdout",
     "output_type": "stream",
     "text": [
      "Problem with file ../raw_data/images/testing/dunes/21.121500778198243_34.03266830444336_022_CW000_-0.8657909631729126_-0.19315387308597565_3.470747947692871.jpg\n",
      "Problem with file ../raw_data/images/testing/dunes/38.31050033569336_96.43704528808594_012_CW000_0.042895276099443436_0.8825951814651489_1.6916111707687378.jpg\n",
      "Problem with file ../raw_data/images/testing/dunes/43.17350082397461_101.20386962890625_021_CW000_-0.1442180722951889_0.8279368281364441_1.8160905838012695.jpg\n",
      "Problem with file ../raw_data/images/testing/dunes/20.616500091552734_16.53564910888672_011_CW000_-0.479668527841568_0.17684780061244965_0.6195021271705627.jpg\n",
      "Problem with file ../raw_data/images/testing/dunes/31.42450065612793_61.85776214599609_011_CW000_-0.8927316069602966_0.34784722328186035_4.256605625152588.jpg\n"
     ]
    },
    {
     "name": "stderr",
     "output_type": "stream",
     "text": [
      " 16%|█▋        | 543/3313 [00:22<02:04, 22.19it/s]"
     ]
    },
    {
     "name": "stdout",
     "output_type": "stream",
     "text": [
      "Problem with file ../raw_data/images/testing/dunes/21.617499923706056_49.34750061035156_01_CW000_-0.4971260726451874_-0.735040545463562_2.0613443851470947.jpg\n",
      "Problem with file ../raw_data/images/testing/dunes/45.11649932861328_70.40357513427735_032_CW000_-0.1707596331834793_-0.6740814447402954_1.9329845905303955.jpg\n",
      "Problem with file ../raw_data/images/testing/dunes/26.382500839233398_40.50155792236328_013_CW000_0.10147184878587723_0.25305336713790894_1.401072382926941.jpg\n",
      "Problem with file ../raw_data/images/testing/dunes/19.617499923706056_33.79175033569336_00_CW000_-0.8467074036598206_-0.1086692214012146_3.6462507247924805.jpg\n",
      "Problem with file ../raw_data/images/testing/dunes/38.010501098632815_96.28695526123047_010_CW000_-0.38557323813438416_0.8365060091018677_1.3470016717910767.jpg\n"
     ]
    },
    {
     "name": "stderr",
     "output_type": "stream",
     "text": [
      " 17%|█▋        | 549/3313 [00:23<02:07, 21.74it/s]"
     ]
    },
    {
     "name": "stdout",
     "output_type": "stream",
     "text": [
      "Problem with file ../raw_data/images/testing/dunes/33.413500213623045_64.15084991455078_033_CW000_-0.2776692807674408_-0.44000786542892456_0.9850336313247681.jpg\n",
      "Problem with file ../raw_data/images/testing/dunes/28.805500793457032_17.282125091552736_023_CW000_-0.4434850513935089_-0.2522886097431183_1.786432147026062.jpg\n",
      "Problem with file ../raw_data/images/testing/dunes/38.23550186157227_96.53713531494141_02_CW000_-0.0465027317404747_0.8922232985496521_1.7161295413970947.jpg\n",
      "Problem with file ../raw_data/images/testing/dunes/25.882500839233398_40.776736450195315_012_CW000_0.0924835130572319_0.1494700312614441_1.3801978826522827.jpg\n",
      "Problem with file ../raw_data/images/testing/dunes/37.96050109863281_96.13677520751953_032_CW000_-0.4780835509300232_0.8095149993896484_1.3793857097625732.jpg\n"
     ]
    },
    {
     "name": "stderr",
     "output_type": "stream",
     "text": [
      "\r",
      " 17%|█▋        | 552/3313 [00:23<02:05, 21.95it/s]"
     ]
    },
    {
     "name": "stdout",
     "output_type": "stream",
     "text": [
      "Problem with file ../raw_data/images/testing/dunes/38.13549957275391_96.16177520751953_03_CW000_-0.3402532637119293_0.8606117367744446_1.308220386505127.jpg\n",
      "Problem with file ../raw_data/images/testing/dunes/31.824500274658202_61.43258514404297_010_CW000_-0.9257928133010864_0.3133894205093384_5.601871490478516.jpg\n",
      "Problem with file ../raw_data/images/testing/dunes/44.294499206542966_109.55599670410156_021_CW000_-0.3349169194698334_0.6186919212341309_1.414851188659668.jpg\n",
      "Problem with file ../raw_data/images/testing/dunes/33.81850128173828_56.08679275512695_021_CW000_-0.3420296311378479_-0.3857806622982025_1.5319945812225342.jpg\n",
      "Problem with file ../raw_data/images/testing/dunes/31.974501037597655_61.33254470825195_030_CW000_-0.918448805809021_0.3429715037345886_5.417370319366455.jpg\n"
     ]
    },
    {
     "name": "stderr",
     "output_type": "stream",
     "text": [
      " 17%|█▋        | 558/3313 [00:23<02:04, 22.16it/s]"
     ]
    },
    {
     "name": "stdout",
     "output_type": "stream",
     "text": [
      "Problem with file ../raw_data/images/testing/dunes/31.64949951171875_61.382544708251956_02_CW000_-0.9472439885139465_0.28369036316871643_5.757511138916016.jpg\n",
      "Problem with file ../raw_data/images/testing/dunes/33.968499755859376_55.73662338256836_03_CW000_-0.8335471153259277_0.011805154383182526_2.0720136165618896.jpg\n",
      "Problem with file ../raw_data/images/testing/dunes/25.73250045776367_40.801736450195314_033_CW000_0.1265324503183365_0.15716145932674408_1.4407179355621338.jpg\n",
      "Problem with file ../raw_data/images/testing/dunes/33.03849868774414_63.725650024414065_022_CW000_-0.344663143157959_-0.2610417604446411_0.6303470134735107.jpg\n",
      "Problem with file ../raw_data/images/testing/dunes/37.98550109863281_96.53713531494141_022_CW000_-0.33969244360923767_0.8482838869094849_1.5306893587112427.jpg\n"
     ]
    },
    {
     "name": "stderr",
     "output_type": "stream",
     "text": [
      " 17%|█▋        | 564/3313 [00:23<02:08, 21.43it/s]"
     ]
    },
    {
     "name": "stdout",
     "output_type": "stream",
     "text": [
      "Problem with file ../raw_data/images/testing/dunes/31.349500274658205_61.63267364501953_00_CW000_-0.9287709593772888_0.30891644954681396_4.64567232131958.jpg\n",
      "Problem with file ../raw_data/images/testing/dunes/15.057500457763672_48.207498168945314_03_CW000_0.5263717770576477_-0.25283780694007874_2.1373305320739746.jpg\n",
      "Problem with file ../raw_data/images/testing/dunes/31.44950065612793_61.682673645019534_02_CW000_-0.9260085225105286_0.30318284034729004_4.836687088012695.jpg\n",
      "Problem with file ../raw_data/images/testing/dunes/31.503499603271486_57.180833435058595_03_CW000_-0.6792840957641602_0.6364860534667969_1.2023500204086304.jpg\n",
      "Problem with file ../raw_data/images/testing/dunes/43.12349853515625_100.82872314453125_02_CW000_-0.4079539477825165_0.7680480480194092_2.133735179901123.jpg\n"
     ]
    },
    {
     "name": "stderr",
     "output_type": "stream",
     "text": [
      "\r",
      " 17%|█▋        | 567/3313 [00:24<02:06, 21.72it/s]"
     ]
    },
    {
     "name": "stdout",
     "output_type": "stream",
     "text": [
      "Problem with file ../raw_data/images/testing/dunes/33.6135009765625_63.60059814453125_031_CW000_-0.5289808511734009_-0.16425897181034088_1.0264666080474854.jpg\n",
      "Problem with file ../raw_data/images/testing/dunes/45.29150161743164_70.85396423339844_00_CW000_-0.2021656036376953_-0.6938071846961975_1.998993158340454.jpg\n",
      "Problem with file ../raw_data/images/testing/dunes/15.177500343322754_49.73250122070313_02_CW000_0.631294310092926_-0.5291854739189148_1.0608407258987427.jpg\n",
      "Problem with file ../raw_data/images/testing/dunes/38.48550109863281_96.66222534179687_023_CW000_0.0916852280497551_0.7485294938087463_1.2225630283355713.jpg\n",
      "Problem with file ../raw_data/images/testing/dunes/42.99850006103516_100.7036865234375_011_CW000_-0.5689179301261902_0.6382215023040771_2.085033416748047.jpg\n"
     ]
    },
    {
     "name": "stderr",
     "output_type": "stream",
     "text": [
      " 17%|█▋        | 573/3313 [00:24<02:04, 22.00it/s]"
     ]
    },
    {
     "name": "stdout",
     "output_type": "stream",
     "text": [
      "Problem with file ../raw_data/images/testing/dunes/20.316500854492187_17.06090087890625_012_CW000_-0.358525812625885_0.18560010194778442_0.44226521253585815.jpg\n",
      "Problem with file ../raw_data/images/testing/dunes/42.96750106811523_107.73589172363282_030_CW000_0.07067034393548965_0.7441366314888_2.006405830383301.jpg\n",
      "Problem with file ../raw_data/images/testing/dunes/41.595499420166014_76.70477905273438_030_CW000_0.8417595028877258_0.13494452834129333_1.1771981716156006.jpg\n",
      "Problem with file ../raw_data/images/testing/dunes/31.303500747680665_56.93069915771484_01_CW000_-0.37960392236709595_0.6079015135765076_0.8213202357292175.jpg\n",
      "Problem with file ../raw_data/images/testing/dunes/45.31650009155273_70.92896423339843_033_CW000_-0.18420006334781647_-0.6940234303474426_1.9933085441589355.jpg\n"
     ]
    },
    {
     "name": "stderr",
     "output_type": "stream",
     "text": [
      " 17%|█▋        | 579/3313 [00:24<02:07, 21.40it/s]"
     ]
    },
    {
     "name": "stdout",
     "output_type": "stream",
     "text": [
      "Problem with file ../raw_data/images/testing/dunes/25.237500762939455_27.222499084472656_02_CW000_-0.9400894641876221_0.09694861620664597_2.5903196334838867.jpg\n",
      "Problem with file ../raw_data/images/testing/dunes/20.466499710083006_16.96085090637207_032_CW000_-0.6630100011825562_0.3587871193885803_0.49719610810279846.jpg\n",
      "Problem with file ../raw_data/images/testing/dunes/43.167501831054686_107.68583221435547_032_CW000_-0.19944815337657928_0.7376483678817749_1.9059548377990723.jpg\n",
      "Problem with file ../raw_data/images/testing/dunes/19.612500381469726_45.76749877929687_011_CW000_0.06046648696064949_-0.7297626733779907_2.2194604873657227.jpg\n",
      "Problem with file ../raw_data/images/testing/dunes/31.503499603271486_56.980699157714845_03_CW000_-0.4677460789680481_0.7126262784004211_0.9044305682182312.jpg\n"
     ]
    },
    {
     "name": "stderr",
     "output_type": "stream",
     "text": [
      "\r",
      " 18%|█▊        | 582/3313 [00:24<02:07, 21.37it/s]"
     ]
    },
    {
     "name": "stdout",
     "output_type": "stream",
     "text": [
      "Problem with file ../raw_data/images/testing/dunes/20.69150047302246_16.58564910888672_023_CW000_-0.5643511414527893_0.13684606552124023_0.5955981612205505.jpg\n",
      "Problem with file ../raw_data/images/testing/dunes/22.26750068664551_49.64749984741211_021_CW000_-0.5875608325004578_-0.6599555611610413_1.9699019193649292.jpg\n",
      "Problem with file ../raw_data/images/testing/dunes/40.87050018310547_76.75477905273438_02_CW000_0.10616618394851685_0.5557782053947449_0.5313279628753662.jpg\n",
      "Problem with file ../raw_data/images/testing/dunes/40.64549942016602_77.0048812866211_010_CW000_-0.7803475260734558_0.5782200694084167_1.1328470706939697.jpg\n",
      "Problem with file ../raw_data/images/testing/dunes/45.041500854492185_70.92896423339843_023_CW000_-0.1992909014225006_-0.6736181378364563_1.9138033390045166.jpg\n"
     ]
    },
    {
     "name": "stderr",
     "output_type": "stream",
     "text": [
      " 18%|█▊        | 588/3313 [00:24<02:05, 21.68it/s]"
     ]
    },
    {
     "name": "stdout",
     "output_type": "stream",
     "text": [
      "Problem with file ../raw_data/images/testing/dunes/42.62349853515625_101.05379638671874_03_CW000_-0.6087461709976196_0.21150092780590057_1.2210578918457031.jpg\n",
      "Problem with file ../raw_data/images/testing/dunes/31.52849998474121_57.230900573730466_031_CW000_-0.7503873705863953_0.5718626976013184_1.521544337272644.jpg\n",
      "Problem with file ../raw_data/images/testing/dunes/26.28250045776367_40.776736450195315_012_CW000_-0.08852653950452805_-0.008082548156380653_1.2819433212280273.jpg\n",
      "Problem with file ../raw_data/images/testing/dunes/20.64650077819824_34.332915496826175_012_CW000_-0.7789096832275391_-0.3169129192829132_3.3478753566741943.jpg\n",
      "Problem with file ../raw_data/images/testing/dunes/42.37350158691406_101.0788330078125_020_CW000_-0.36165499687194824_0.17034883797168732_1.0835613012313843.jpg\n"
     ]
    },
    {
     "name": "stderr",
     "output_type": "stream",
     "text": [
      " 18%|█▊        | 594/3313 [00:25<02:02, 22.13it/s]"
     ]
    },
    {
     "name": "stdout",
     "output_type": "stream",
     "text": [
      "Problem with file ../raw_data/images/testing/dunes/42.49850006103516_100.97879638671876_010_CW000_-0.44336119294166565_0.16677427291870117_1.124032974243164.jpg\n",
      "Problem with file ../raw_data/images/testing/dunes/31.57449951171875_61.93280258178711_030_CW000_-0.8776283264160156_0.294670969247818_4.190341949462891.jpg\n",
      "Problem with file ../raw_data/images/testing/dunes/17.807500457763673_45.73250122070313_02_CW000_-0.28334763646125793_-0.7423248291015625_2.0331766605377197.jpg\n",
      "Problem with file ../raw_data/images/testing/dunes/31.499499130249024_62.08284683227539_022_CW000_-0.8613656163215637_0.3196846544742584_3.8689846992492676.jpg\n",
      "Problem with file ../raw_data/images/testing/dunes/33.6385009765625_64.27595367431641_020_CW000_-0.31477949023246765_-0.3192647695541382_1.1632159948349.jpg\n"
     ]
    },
    {
     "name": "stderr",
     "output_type": "stream",
     "text": [
      "\r",
      " 18%|█▊        | 597/3313 [00:25<02:10, 20.76it/s]"
     ]
    },
    {
     "name": "stdout",
     "output_type": "stream",
     "text": [
      "Problem with file ../raw_data/images/testing/dunes/31.549499130249025_62.05784683227539_01_CW000_-0.8613656163215637_0.3196846544742584_3.8689846992492676.jpg\n",
      "Problem with file ../raw_data/images/testing/dunes/31.678500366210937_57.1558334350586_012_CW000_-0.6969375610351562_0.6152050495147705_1.4064199924468994.jpg\n",
      "Problem with file ../raw_data/images/testing/dunes/45.56650085449219_70.8038818359375_012_CW000_-0.1364414393901825_-0.6864626407623291_1.9521132707595825.jpg\n",
      "Problem with file ../raw_data/images/testing/dunes/44.794499206542966_109.18066711425782_022_CW000_-0.30368950963020325_0.6769421696662903_1.9560052156448364.jpg\n",
      "Problem with file ../raw_data/images/testing/dunes/43.11749954223633_107.53578033447266_010_CW000_-0.16774529218673706_0.7544317245483398_2.0006778240203857.jpg\n"
     ]
    },
    {
     "name": "stderr",
     "output_type": "stream",
     "text": [
      " 18%|█▊        | 603/3313 [00:25<02:04, 21.70it/s]"
     ]
    },
    {
     "name": "stdout",
     "output_type": "stream",
     "text": [
      "Problem with file ../raw_data/images/testing/dunes/26.032499694824217_40.85179595947265_031_CW000_-0.026449987664818764_0.0108346501365304_1.2878034114837646.jpg\n",
      "Problem with file ../raw_data/images/testing/dunes/40.79550018310547_76.40466918945313_030_CW000_0.5033560395240784_0.39051440358161926_0.8296945691108704.jpg\n",
      "Problem with file ../raw_data/images/testing/dunes/32.96350021362305_64.20090179443359_011_CW000_-0.582917332649231_0.5881261229515076_0.748357892036438.jpg\n",
      "Problem with file ../raw_data/images/testing/dunes/31.428499603271483_57.28090057373047_033_CW000_-0.7345653176307678_0.5979325175285339_1.392768144607544.jpg\n",
      "Problem with file ../raw_data/images/testing/dunes/28.705500411987305_17.207125091552733_020_CW000_-0.41911643743515015_-0.269721657037735_1.7972992658615112.jpg\n"
     ]
    },
    {
     "name": "stderr",
     "output_type": "stream",
     "text": [
      " 18%|█▊        | 609/3313 [00:25<01:58, 22.73it/s]"
     ]
    },
    {
     "name": "stdout",
     "output_type": "stream",
     "text": [
      "Problem with file ../raw_data/images/testing/dunes/33.413500213623045_63.45049819946289_033_CW000_-0.8435562252998352_-0.11427003145217896_1.04338538646698.jpg\n",
      "Problem with file ../raw_data/images/testing/dunes/14.732500267028808_47.832498931884764_010_CW000_0.6285747289657593_-0.3254481256008148_1.4163028001785278.jpg\n",
      "Problem with file ../raw_data/images/testing/dunes/25.8765007019043_7.901642990112305_02_CW000_-0.0849752426147461_-0.3682674467563629_1.0448358058929443.jpg\n",
      "Problem with file ../raw_data/images/testing/dunes/20.86649932861328_16.6856990814209_033_CW000_-0.6810302734375_0.0036022611893713474_0.6935921311378479.jpg\n",
      "Problem with file ../raw_data/images/testing/dunes/31.89950065612793_61.382544708251956_022_CW000_-0.9245191812515259_0.3344726860523224_5.6120076179504395.jpg\n"
     ]
    },
    {
     "name": "stderr",
     "output_type": "stream",
     "text": [
      " 19%|█▊        | 615/3313 [00:26<01:53, 23.83it/s]"
     ]
    },
    {
     "name": "stdout",
     "output_type": "stream",
     "text": [
      "Problem with file ../raw_data/images/testing/dunes/42.923501586914064_100.82872314453125_02_CW000_-0.653212308883667_0.5031079053878784_1.8249260187149048.jpg\n",
      "Problem with file ../raw_data/images/testing/dunes/42.62349853515625_100.3535400390625_03_CW000_-0.7282792329788208_0.3506331145763397_1.7522379159927368.jpg\n",
      "Problem with file ../raw_data/images/testing/dunes/42.423501586914064_100.52861328125_02_CW000_-0.5571810603141785_0.37100932002067566_1.3955365419387817.jpg\n",
      "Problem with file ../raw_data/images/testing/dunes/45.441498565673825_70.40357513427735_022_CW000_-0.14625826478004456_-0.6748873591423035_1.9417333602905273.jpg\n",
      "Problem with file ../raw_data/images/testing/dunes/40.79550018310547_76.55470581054688_032_CW000_0.47031107544898987_0.4112088978290558_0.7825207710266113.jpg\n",
      "Problem with file ../raw_data/images/testing/dunes/42.62349853515625_101.22886962890625_02_CW000_-0.5688363909721375_0.14393645524978638_1.146878957748413.jpg\n"
     ]
    },
    {
     "name": "stderr",
     "output_type": "stream",
     "text": [
      "\r",
      " 19%|█▊        | 618/3313 [00:26<01:52, 23.90it/s]"
     ]
    },
    {
     "name": "stdout",
     "output_type": "stream",
     "text": [
      "Problem with file ../raw_data/images/testing/dunes/38.23550186157227_96.261865234375_03_CW000_-0.10370610654354095_0.8937575817108154_1.4411046504974365.jpg\n",
      "Problem with file ../raw_data/images/testing/dunes/41.470498657226564_77.02988128662109_01_CW000_0.6804739832878113_0.05211382731795311_0.9475784301757812.jpg\n",
      "Problem with file ../raw_data/images/testing/dunes/31.35349922180176_56.60550155639648_020_CW000_-0.18898075819015503_0.47843360900878906_1.0891294479370117.jpg\n",
      "Problem with file ../raw_data/images/testing/dunes/14.632499885559081_48.182498168945315_012_CW000_0.7591392397880554_-0.15973423421382904_1.0777760744094849.jpg\n",
      "Problem with file ../raw_data/images/testing/dunes/41.64549942016602_75.97950134277343_013_CW000_0.19551150500774384_-0.18319888412952423_0.7999233603477478.jpg\n"
     ]
    },
    {
     "name": "stderr",
     "output_type": "stream",
     "text": [
      " 19%|█▉        | 624/3313 [00:26<01:52, 23.95it/s]"
     ]
    },
    {
     "name": "stdout",
     "output_type": "stream",
     "text": [
      "Problem with file ../raw_data/images/testing/dunes/40.79550018310547_76.62974243164062_031_CW000_0.38307061791419983_0.46937716007232666_0.6629950404167175.jpg\n",
      "Problem with file ../raw_data/images/testing/dunes/25.98249931335449_40.90179595947266_013_CW000_0.029128888621926308_0.05440368130803108_1.3052104711532593.jpg\n",
      "Problem with file ../raw_data/images/testing/dunes/31.628500366210936_57.380967712402345_033_CW000_-0.8312428593635559_0.44442984461784363_1.7424017190933228.jpg\n",
      "Problem with file ../raw_data/images/testing/dunes/21.14650077819824_33.98266830444336_010_CW000_-0.8657909631729126_-0.19315387308597565_3.470747947692871.jpg\n",
      "Problem with file ../raw_data/images/testing/dunes/32.98850021362305_64.12584991455078_02_CW000_-0.4501468241214752_0.3341437578201294_0.6634880304336548.jpg\n"
     ]
    },
    {
     "name": "stderr",
     "output_type": "stream",
     "text": [
      " 19%|█▉        | 630/3313 [00:26<01:52, 23.82it/s]"
     ]
    },
    {
     "name": "stdout",
     "output_type": "stream",
     "text": [
      "Problem with file ../raw_data/images/testing/dunes/21.016499710083007_16.93585090637207_011_CW000_-0.6646875739097595_-0.03605775535106659_0.8784871697425842.jpg\n",
      "Problem with file ../raw_data/images/testing/dunes/40.057499694824216_100.64250030517579_020_CW000_-0.06798288971185684_0.3384861648082733_1.2679500579833984.jpg\n",
      "Problem with file ../raw_data/images/testing/dunes/32.02450103759766_61.33254470825195_010_CW000_-0.918448805809021_0.3429715037345886_5.417370319366455.jpg\n",
      "Problem with file ../raw_data/images/testing/dunes/42.72350082397461_100.42857666015625_02_CW000_-0.7548223733901978_0.3328409492969513_1.837989091873169.jpg\n",
      "Problem with file ../raw_data/images/testing/dunes/44.86950149536133_109.58099670410157_032_CW000_-0.32127106189727783_0.646939218044281_1.6671531200408936.jpg\n"
     ]
    },
    {
     "name": "stderr",
     "output_type": "stream",
     "text": [
      "\r",
      " 19%|█▉        | 633/3313 [00:26<01:51, 24.00it/s]"
     ]
    },
    {
     "name": "stdout",
     "output_type": "stream",
     "text": [
      "Problem with file ../raw_data/images/testing/dunes/31.749499893188478_61.382544708251956_02_CW000_-0.9382120966911316_0.3087848126888275_5.850787162780762.jpg\n",
      "Problem with file ../raw_data/images/testing/dunes/21.091500091552735_16.48559913635254_023_CW000_-0.35357558727264404_-0.5766075849533081_1.0990289449691772.jpg\n",
      "Problem with file ../raw_data/images/testing/dunes/43.02350006103516_100.60364990234375_01_CW000_-0.5945671796798706_0.6023494601249695_2.0742669105529785.jpg\n",
      "Problem with file ../raw_data/images/testing/dunes/40.92049865722656_76.70477905273438_020_CW000_0.3942452669143677_0.2463376224040985_0.5731559991836548.jpg\n",
      "Problem with file ../raw_data/images/testing/dunes/31.428499603271483_56.93069915771484_031_CW000_-0.4677460789680481_0.7126262784004211_0.9044305682182312.jpg\n"
     ]
    },
    {
     "name": "stderr",
     "output_type": "stream",
     "text": [
      " 19%|█▉        | 639/3313 [00:27<01:53, 23.60it/s]"
     ]
    },
    {
     "name": "stdout",
     "output_type": "stream",
     "text": [
      "Problem with file ../raw_data/images/testing/dunes/40.99550094604492_76.3796401977539_033_CW000_0.5771361589431763_0.10227207839488983_0.8666524887084961.jpg\n",
      "Problem with file ../raw_data/images/testing/dunes/33.6135009765625_63.65059814453125_033_CW000_-0.5289808511734009_-0.16425897181034088_1.0264666080474854.jpg\n",
      "Problem with file ../raw_data/images/testing/dunes/41.64549942016602_76.70477905273438_010_CW000_0.8417595028877258_0.13494452834129333_1.1771981716156006.jpg\n",
      "Problem with file ../raw_data/images/testing/dunes/33.69349899291992_56.23683319091797_033_CW000_-0.35695457458496094_-0.23840343952178955_1.313857078552246.jpg\n",
      "Problem with file ../raw_data/images/testing/dunes/20.696499252319335_34.18283309936523_030_CW000_-0.8021264672279358_-0.2873130142688751_3.3371903896331787.jpg\n"
     ]
    },
    {
     "name": "stderr",
     "output_type": "stream",
     "text": [
      " 19%|█▉        | 645/3313 [00:27<01:54, 23.27it/s]"
     ]
    },
    {
     "name": "stdout",
     "output_type": "stream",
     "text": [
      "Problem with file ../raw_data/images/testing/dunes/42.84850158691406_100.40357666015625_031_CW000_-0.7145716547966003_0.401710569858551_1.8731719255447388.jpg\n",
      "Problem with file ../raw_data/images/testing/dunes/40.695501708984374_76.0045379638672_030_CW000_0.5342249870300293_0.5941424369812012_1.3011113405227661.jpg\n",
      "Problem with file ../raw_data/images/testing/dunes/40.49550094604492_76.20460357666016_030_CW000_-0.12234601378440857_0.7557646036148071_0.8422565460205078.jpg\n",
      "Problem with file ../raw_data/images/testing/dunes/34.04349822998047_55.636582946777345_013_CW000_-0.8293412327766418_0.010032386519014835_2.236435651779175.jpg\n",
      "Problem with file ../raw_data/images/testing/dunes/31.674499893188475_61.8827621459961_032_CW000_-0.8873363137245178_0.28494125604629517_4.556934833526611.jpg\n"
     ]
    },
    {
     "name": "stderr",
     "output_type": "stream",
     "text": [
      "\r",
      " 20%|█▉        | 648/3313 [00:27<01:53, 23.38it/s]"
     ]
    },
    {
     "name": "stdout",
     "output_type": "stream",
     "text": [
      "Problem with file ../raw_data/images/testing/dunes/26.207500076293947_40.651676940917966_01_CW000_0.02295105904340744_0.16569238901138306_1.303858757019043.jpg\n",
      "Problem with file ../raw_data/images/testing/dunes/33.46350021362305_63.525550079345706_012_CW000_-0.8722261786460876_-0.07182224094867706_1.0256292819976807.jpg\n",
      "Problem with file ../raw_data/images/testing/dunes/20.741500473022462_16.48559913635254_03_CW000_-0.4338754713535309_0.15508918464183807_0.5579233169555664.jpg\n",
      "Problem with file ../raw_data/images/testing/dunes/44.941498565673825_70.45365753173829_020_CW000_-0.1376751959323883_-0.6498137712478638_1.8721716403961182.jpg\n",
      "Problem with file ../raw_data/images/testing/dunes/25.832500839233397_40.85179595947265_031_CW000_0.09459779411554337_0.09554686397314072_1.3553014993667603.jpg\n"
     ]
    },
    {
     "name": "stderr",
     "output_type": "stream",
     "text": [
      " 20%|█▉        | 654/3313 [00:27<01:57, 22.69it/s]"
     ]
    },
    {
     "name": "stdout",
     "output_type": "stream",
     "text": [
      "Problem with file ../raw_data/images/testing/dunes/43.042501068115236_107.71083221435546_03_CW000_-0.008332541212439537_0.7519580125808716_2.00122332572937.jpg\n",
      "Problem with file ../raw_data/images/testing/dunes/31.2745002746582_61.65767364501953_031_CW000_-0.9287709593772888_0.30891644954681396_4.64567232131958.jpg\n",
      "Problem with file ../raw_data/images/testing/dunes/25.757500457763673_40.70167694091797_023_CW000_0.11952321976423264_0.2164408564567566_1.4461398124694824.jpg\n",
      "Problem with file ../raw_data/images/testing/dunes/43.14850082397461_100.77872314453126_030_CW000_-0.24657216668128967_0.8413830399513245_2.2217018604278564.jpg\n",
      "Problem with file ../raw_data/images/testing/dunes/20.69150047302246_16.660699081420898_022_CW000_-0.6193869113922119_0.055047765374183655_0.5804615020751953.jpg\n"
     ]
    },
    {
     "name": "stderr",
     "output_type": "stream",
     "text": [
      "\r",
      " 20%|█▉        | 657/3313 [00:28<02:27, 18.06it/s]"
     ]
    },
    {
     "name": "stdout",
     "output_type": "stream",
     "text": [
      "Problem with file ../raw_data/images/testing/dunes/26.082499694824218_41.051911163330075_011_CW000_-0.07088113576173782_-0.12226144224405289_1.2823690176010132.jpg\n",
      "Problem with file ../raw_data/images/testing/dunes/38.843501281738284_67.81749877929687_013_CW000_-0.1935843825340271_-0.18485361337661743_0.21116571128368378.jpg\n",
      "Problem with file ../raw_data/images/testing/dunes/22.31750068664551_49.67249984741211_02_CW000_-0.5875608325004578_-0.6599555611610413_1.9699019193649292.jpg\n"
     ]
    },
    {
     "name": "stderr",
     "output_type": "stream",
     "text": [
      " 20%|██        | 663/3313 [00:28<02:14, 19.69it/s]"
     ]
    },
    {
     "name": "stdout",
     "output_type": "stream",
     "text": [
      "Problem with file ../raw_data/images/testing/dunes/20.891499328613282_16.710749053955077_020_CW000_-0.6857670545578003_-0.05471138283610344_0.7159388065338135.jpg\n",
      "Problem with file ../raw_data/images/testing/dunes/31.89950065612793_61.70767364501953_023_CW000_-0.9040991067886353_0.28551948070526123_5.007256031036377.jpg\n",
      "Problem with file ../raw_data/images/testing/dunes/40.52050094604492_76.77977905273437_023_CW000_-0.706877589225769_0.6314568519592285_1.1913402080535889.jpg\n",
      "Problem with file ../raw_data/images/testing/dunes/33.2634994506836_64.00079803466797_011_CW000_-0.02712608315050602_-0.4054909646511078_0.9594680666923523.jpg\n",
      "Problem with file ../raw_data/images/testing/dunes/44.394501495361325_109.70608673095703_023_CW000_-0.41784754395484924_0.5990960001945496_1.4728094339370728.jpg\n"
     ]
    },
    {
     "name": "stderr",
     "output_type": "stream",
     "text": [
      "\r",
      " 20%|██        | 666/3313 [00:28<02:10, 20.34it/s]"
     ]
    },
    {
     "name": "stdout",
     "output_type": "stream",
     "text": [
      "Problem with file ../raw_data/images/testing/dunes/41.57050094604492_76.65474243164063_02_CW000_0.7433007955551147_0.08164471387863159_1.0936511754989624.jpg\n",
      "Problem with file ../raw_data/images/testing/dunes/20.71650047302246_16.33554916381836_011_CW000_-0.31968554854393005_0.0962035283446312_0.4676901400089264.jpg\n",
      "Problem with file ../raw_data/images/testing/dunes/33.31350173950195_63.775701904296874_030_CW000_-0.2792373597621918_-0.41813185811042786_0.7775893807411194.jpg\n",
      "Problem with file ../raw_data/images/testing/dunes/42.99250106811523_107.8108917236328_023_CW000_0.07067034393548965_0.7441366314888_2.006405830383301.jpg\n",
      "Problem with file ../raw_data/images/testing/dunes/33.79350128173828_55.636582946777345_033_CW000_-0.8350712060928345_0.10379926860332489_1.9671274423599243.jpg\n"
     ]
    },
    {
     "name": "stderr",
     "output_type": "stream",
     "text": [
      " 20%|██        | 672/3313 [00:28<02:12, 19.91it/s]"
     ]
    },
    {
     "name": "stdout",
     "output_type": "stream",
     "text": [
      "Problem with file ../raw_data/images/testing/dunes/15.252499771118163_49.682501220703124_010_CW000_0.5339168310165405_-0.5314602851867676_1.2582452297210693.jpg\n",
      "Problem with file ../raw_data/images/testing/dunes/41.24550170898438_76.22960357666015_011_CW000_0.2607017755508423_-0.24212777614593506_0.8278721570968628.jpg\n",
      "Problem with file ../raw_data/images/testing/dunes/43.092499542236325_107.43572082519532_020_CW000_-0.23661687970161438_0.7380018830299377_2.0011441707611084.jpg\n",
      "Problem with file ../raw_data/images/testing/dunes/44.44450149536133_109.53099670410157_00_CW000_-0.4494197368621826_0.595008909702301_1.5383142232894897.jpg\n"
     ]
    },
    {
     "name": "stderr",
     "output_type": "stream",
     "text": [
      "\r",
      " 20%|██        | 675/3313 [00:28<02:10, 20.15it/s]"
     ]
    },
    {
     "name": "stdout",
     "output_type": "stream",
     "text": [
      "Problem with file ../raw_data/images/testing/dunes/31.428499603271483_57.13083343505859_031_CW000_-0.6792840957641602_0.6364860534667969_1.2023500204086304.jpg\n",
      "Problem with file ../raw_data/images/testing/dunes/45.516500854492186_70.60373229980469_032_CW000_-0.13166145980358124_-0.6816415190696716_1.943590521812439.jpg\n",
      "Problem with file ../raw_data/images/testing/dunes/33.413500213623045_64.10084991455078_031_CW000_-0.2776692807674408_-0.44000786542892456_0.9850336313247681.jpg\n",
      "Problem with file ../raw_data/images/testing/dunes/26.307500457763673_40.37649841308594_02_CW000_0.18097646534442902_0.3635493516921997_1.4861421585083008.jpg\n",
      "Problem with file ../raw_data/images/testing/dunes/33.91849975585937_55.41149826049805_022_CW000_-0.8169167637825012_0.11580604314804077_2.0763494968414307.jpg\n"
     ]
    },
    {
     "name": "stderr",
     "output_type": "stream",
     "text": [
      " 21%|██        | 681/3313 [00:29<02:05, 20.97it/s]"
     ]
    },
    {
     "name": "stdout",
     "output_type": "stream",
     "text": [
      "Problem with file ../raw_data/images/testing/dunes/29.255500411987306_16.981750106811525_03_CW000_-0.5096351504325867_-0.20398612320423126_1.9245661497116089.jpg\n",
      "Problem with file ../raw_data/images/testing/dunes/38.410498809814456_96.61222534179687_011_CW000_0.03490131348371506_0.8277473449707031_1.4033863544464111.jpg\n",
      "Problem with file ../raw_data/images/testing/dunes/21.171500778198244_33.85749969482422_03_CW000_-0.9161922335624695_-0.09259109944105148_3.5866894721984863.jpg\n",
      "Problem with file ../raw_data/images/testing/dunes/33.363501739501956_63.550550079345705_013_CW000_-0.8359847068786621_-0.22614561021327972_0.8922041654586792.jpg\n",
      "Problem with file ../raw_data/images/testing/dunes/15.702499771118164_49.807499694824216_031_CW000_0.2009655237197876_-0.6654635667800903_1.5377708673477173.jpg\n"
     ]
    },
    {
     "name": "stderr",
     "output_type": "stream",
     "text": [
      " 21%|██        | 687/3313 [00:29<02:05, 20.96it/s]"
     ]
    },
    {
     "name": "stdout",
     "output_type": "stream",
     "text": [
      "Problem with file ../raw_data/images/testing/dunes/44.91950149536133_109.30574951171874_013_CW000_-0.2859478294849396_0.6724535822868347_1.8539502620697021.jpg\n",
      "Problem with file ../raw_data/images/testing/dunes/22.31750068664551_49.62249984741211_00_CW000_-0.5875608325004578_-0.6599555611610413_1.9699019193649292.jpg\n",
      "Problem with file ../raw_data/images/testing/dunes/26.307500457763673_40.476557922363284_02_CW000_0.10226726531982422_0.31261441111564636_1.3945128917694092.jpg\n",
      "Problem with file ../raw_data/images/testing/dunes/45.016500854492186_70.85396423339844_030_CW000_-0.1992909014225006_-0.6736181378364563_1.9138033390045166.jpg\n",
      "Problem with file ../raw_data/images/testing/dunes/40.67049942016602_76.95484466552735_02_CW000_-0.7509445548057556_0.6033833026885986_1.1220580339431763.jpg\n"
     ]
    },
    {
     "name": "stderr",
     "output_type": "stream",
     "text": [
      "\r",
      " 21%|██        | 690/3313 [00:29<02:03, 21.22it/s]"
     ]
    },
    {
     "name": "stdout",
     "output_type": "stream",
     "text": [
      "Problem with file ../raw_data/images/testing/dunes/44.71950073242188_109.05558471679687_011_CW000_-0.3530530035495758_0.667420506477356_2.020052671432495.jpg\n",
      "Problem with file ../raw_data/images/testing/dunes/33.66850051879883_56.23683319091797_03_CW000_-0.3614765405654907_-0.0484321154654026_1.2393122911453247.jpg\n",
      "Problem with file ../raw_data/images/testing/dunes/25.78250045776367_40.85179595947265_011_CW000_0.1305827796459198_0.10917633026838303_1.4151362180709839.jpg\n",
      "Problem with file ../raw_data/images/testing/dunes/31.2745002746582_61.682673645019534_032_CW000_-0.9287709593772888_0.30891644954681396_4.64567232131958.jpg\n",
      "Problem with file ../raw_data/images/testing/dunes/33.99349822998047_55.53654251098633_033_CW000_-0.8228869438171387_0.051543645560741425_2.267083168029785.jpg\n"
     ]
    },
    {
     "name": "stderr",
     "output_type": "stream",
     "text": [
      " 21%|██        | 696/3313 [00:29<02:02, 21.41it/s]"
     ]
    },
    {
     "name": "stdout",
     "output_type": "stream",
     "text": [
      "Problem with file ../raw_data/images/testing/dunes/25.93249931335449_40.55161743164062_031_CW000_0.07508638501167297_0.32369768619537354_1.383949875831604.jpg\n",
      "Problem with file ../raw_data/images/testing/dunes/25.93249931335449_40.776736450195315_032_CW000_0.047021012753248215_0.1396743208169937_1.3254503011703491.jpg\n",
      "Problem with file ../raw_data/images/testing/dunes/33.843501281738284_55.96174850463867_010_CW000_-0.34272050857543945_-0.3985860049724579_1.5948807001113892.jpg\n",
      "Problem with file ../raw_data/images/testing/dunes/42.67350082397461_100.928759765625_022_CW000_-0.7008964419364929_0.26701173186302185_1.4472295045852661.jpg\n",
      "Problem with file ../raw_data/images/testing/dunes/31.52849998474121_57.13083343505859_031_CW000_-0.6886646151542664_0.6354705095291138_1.2991050481796265.jpg\n"
     ]
    },
    {
     "name": "stderr",
     "output_type": "stream",
     "text": [
      " 21%|██        | 702/3313 [00:30<02:00, 21.59it/s]"
     ]
    },
    {
     "name": "stdout",
     "output_type": "stream",
     "text": [
      "Problem with file ../raw_data/images/testing/dunes/42.59849853515625_100.3285400390625_012_CW000_-0.7282792329788208_0.3506331145763397_1.7522379159927368.jpg\n",
      "Problem with file ../raw_data/images/testing/dunes/40.89549865722656_76.3296401977539_031_CW000_0.568324625492096_0.22971676290035248_0.8561831712722778.jpg\n",
      "Problem with file ../raw_data/images/testing/dunes/31.59949951171875_61.83276214599609_020_CW000_-0.8926652669906616_0.2984755337238312_4.462830543518066.jpg\n",
      "Problem with file ../raw_data/images/testing/dunes/31.44950065612793_61.30750045776367_03_CW000_-0.9638761878013611_0.24762189388275146_5.716521739959717.jpg\n",
      "Problem with file ../raw_data/images/testing/dunes/40.64549942016602_76.3296401977539_011_CW000_0.19221679866313934_0.6753076314926147_0.7850009202957153.jpg\n"
     ]
    },
    {
     "name": "stderr",
     "output_type": "stream",
     "text": [
      "\r",
      " 21%|██▏       | 705/3313 [00:30<01:58, 22.06it/s]"
     ]
    },
    {
     "name": "stdout",
     "output_type": "stream",
     "text": [
      "Problem with file ../raw_data/images/testing/dunes/33.79350128173828_56.186833190917966_031_CW000_-0.37155091762542725_-0.34285807609558105_1.4440926313400269.jpg\n",
      "Problem with file ../raw_data/images/testing/dunes/33.2634994506836_64.2259017944336_012_CW000_-0.16660599410533905_-0.20299237966537476_0.9247713088989258.jpg\n",
      "Problem with file ../raw_data/images/testing/dunes/44.41950149536133_109.43091430664063_010_CW000_-0.4724518358707428_0.5909433960914612_1.6088941097259521.jpg\n",
      "Problem with file ../raw_data/images/testing/dunes/25.632500076293944_40.97685165405274_032_CW000_0.14773139357566833_0.05112936347723007_1.4334502220153809.jpg\n",
      "Problem with file ../raw_data/images/testing/dunes/40.49550094604492_76.55470581054688_032_CW000_-0.40764981508255005_0.7714346051216125_0.9123136401176453.jpg\n"
     ]
    },
    {
     "name": "stderr",
     "output_type": "stream",
     "text": [
      " 21%|██▏       | 711/3313 [00:30<01:54, 22.66it/s]"
     ]
    },
    {
     "name": "stdout",
     "output_type": "stream",
     "text": [
      "Problem with file ../raw_data/images/testing/dunes/38.21050186157227_96.236865234375_012_CW000_-0.10370610654354095_0.8937575817108154_1.4411046504974365.jpg\n",
      "Problem with file ../raw_data/images/testing/dunes/25.657500076293946_40.45155792236328_021_CW000_0.09549535065889359_0.3240325152873993_1.4849518537521362.jpg\n",
      "Problem with file ../raw_data/images/testing/dunes/14.70750026702881_47.832498931884764_020_CW000_0.6285747289657593_-0.3254481256008148_1.4163028001785278.jpg\n",
      "Problem with file ../raw_data/images/testing/dunes/42.898501586914065_101.1038330078125_011_CW000_-0.6108025908470154_0.4442507028579712_1.469562292098999.jpg\n",
      "Problem with file ../raw_data/images/testing/dunes/33.21349945068359_63.90074996948242_031_CW000_-0.029654886573553085_-0.4541453421115875_0.8775291442871094.jpg\n"
     ]
    },
    {
     "name": "stderr",
     "output_type": "stream",
     "text": [
      " 22%|██▏       | 717/3313 [00:30<01:53, 22.86it/s]"
     ]
    },
    {
     "name": "stdout",
     "output_type": "stream",
     "text": [
      "Problem with file ../raw_data/images/testing/dunes/40.49550094604492_76.27960357666015_033_CW000_-0.12234601378440857_0.7557646036148071_0.8422565460205078.jpg\n",
      "Problem with file ../raw_data/images/testing/dunes/42.49850006103516_101.17886962890626_010_CW000_-0.40173354744911194_0.11617141216993332_1.0731942653656006.jpg\n",
      "Problem with file ../raw_data/images/testing/dunes/31.478499603271484_57.230900573730466_011_CW000_-0.7345653176307678_0.5979325175285339_1.392768144607544.jpg\n",
      "Problem with file ../raw_data/images/testing/dunes/25.9075008392334_40.40149841308594_03_CW000_0.17513146996498108_0.4229266345500946_1.556725263595581.jpg\n",
      "Problem with file ../raw_data/images/testing/dunes/33.46350021362305_63.42549819946289_012_CW000_-0.8435562252998352_-0.11427003145217896_1.04338538646698.jpg\n"
     ]
    },
    {
     "name": "stderr",
     "output_type": "stream",
     "text": [
      "\r",
      " 22%|██▏       | 720/3313 [00:30<01:54, 22.71it/s]"
     ]
    },
    {
     "name": "stdout",
     "output_type": "stream",
     "text": [
      "Problem with file ../raw_data/images/testing/dunes/25.757500457763673_40.50155792236328_023_CW000_0.12277072668075562_0.3527190387248993_1.4977598190307617.jpg\n",
      "Problem with file ../raw_data/images/testing/dunes/44.81949920654297_109.48091430664063_012_CW000_-0.35647401213645935_0.6537182331085205_1.7756799459457397.jpg\n",
      "Problem with file ../raw_data/images/testing/dunes/33.41849975585937_56.186833190917966_021_CW000_-0.46064338088035583_0.18424516916275024_1.1554737091064453.jpg\n",
      "Problem with file ../raw_data/images/testing/dunes/40.445498657226565_75.97950134277343_013_CW000_-0.3491290509700775_0.7781546115875244_1.082564115524292.jpg\n",
      "Problem with file ../raw_data/images/testing/dunes/29.230500411987304_16.806625747680663_010_CW000_-0.5021669268608093_-0.23237678408622742_1.9316169023513794.jpg\n"
     ]
    },
    {
     "name": "stderr",
     "output_type": "stream",
     "text": [
      " 22%|██▏       | 726/3313 [00:31<01:53, 22.89it/s]"
     ]
    },
    {
     "name": "stdout",
     "output_type": "stream",
     "text": [
      "Problem with file ../raw_data/images/testing/dunes/40.84550018310547_76.8048080444336_010_CW000_-0.3190050423145294_0.5989899635314941_0.529788076877594.jpg\n",
      "Problem with file ../raw_data/images/testing/dunes/33.86850128173828_55.66162338256836_00_CW000_-0.8179576992988586_0.06272365152835846_1.8955152034759521.jpg\n",
      "Problem with file ../raw_data/images/testing/dunes/28.630500030517577_16.831625747680665_011_CW000_-0.3723045289516449_-0.2951122522354126_1.8755706548690796.jpg\n",
      "Problem with file ../raw_data/images/testing/dunes/33.71849899291992_56.186833190917966_021_CW000_-0.35695457458496094_-0.23840343952178955_1.313857078552246.jpg\n",
      "Problem with file ../raw_data/images/testing/dunes/33.6135009765625_63.42549819946289_032_CW000_-0.5556339025497437_-0.1510927677154541_1.0892993211746216.jpg\n"
     ]
    },
    {
     "name": "stderr",
     "output_type": "stream",
     "text": [
      " 22%|██▏       | 732/3313 [00:31<01:52, 22.84it/s]"
     ]
    },
    {
     "name": "stdout",
     "output_type": "stream",
     "text": [
      "Problem with file ../raw_data/images/testing/dunes/42.99250106811523_107.13555755615235_020_CW000_-0.29717308282852173_0.6999905705451965_1.9841382503509521.jpg\n",
      "Problem with file ../raw_data/images/testing/dunes/38.535501098632814_96.41204528808593_01_CW000_0.16036121547222137_0.783257007598877_1.3496683835983276.jpg\n",
      "Problem with file ../raw_data/images/testing/dunes/31.824500274658202_61.93280258178711_010_CW000_-0.8641168475151062_0.25640398263931274_4.2204437255859375.jpg\n",
      "Problem with file ../raw_data/images/testing/dunes/40.42049865722656_76.42966918945312_021_CW000_-0.5293348431587219_0.7111181616783142_0.9860074520111084.jpg\n",
      "Problem with file ../raw_data/images/testing/dunes/33.743498992919925_55.56158294677734_010_CW000_-0.816493809223175_0.16040976345539093_1.789162278175354.jpg\n"
     ]
    },
    {
     "name": "stderr",
     "output_type": "stream",
     "text": [
      " 22%|██▏       | 738/3313 [00:31<01:49, 23.54it/s]"
     ]
    },
    {
     "name": "stdout",
     "output_type": "stream",
     "text": [
      "Problem with file ../raw_data/images/testing/dunes/15.35250015258789_49.757501220703126_013_CW000_0.46431758999824524_-0.5653150677680969_1.3872489929199219.jpg\n",
      "Problem with file ../raw_data/images/testing/dunes/33.6135009765625_63.80070190429687_031_CW000_-0.6018028855323792_-0.17726749181747437_1.0962635278701782.jpg\n",
      "Problem with file ../raw_data/images/testing/dunes/38.843501281738284_67.96761016845703_011_CW000_-0.4083498418331146_-0.0527128241956234_0.3189184367656708.jpg\n",
      "Problem with file ../raw_data/images/testing/dunes/15.752499771118163_49.55750045776367_013_CW000_0.18674372136592865_-0.6197118759155273_1.6730375289916992.jpg\n",
      "Problem with file ../raw_data/images/testing/dunes/20.112500381469726_45.61750183105469_013_CW000_0.03911877050995827_-0.7461552619934082_2.172156810760498.jpg\n"
     ]
    },
    {
     "name": "stderr",
     "output_type": "stream",
     "text": [
      "\r",
      " 22%|██▏       | 741/3313 [00:31<01:49, 23.50it/s]"
     ]
    },
    {
     "name": "stdout",
     "output_type": "stream",
     "text": [
      "Problem with file ../raw_data/images/testing/dunes/20.087500381469727_45.417501068115236_023_CW000_0.05746952071785927_-0.7298583388328552_2.200040578842163.jpg\n",
      "Problem with file ../raw_data/images/testing/dunes/28.730500411987304_17.257125091552734_012_CW000_-0.41911643743515015_-0.269721657037735_1.7972992658615112.jpg\n",
      "Problem with file ../raw_data/images/testing/dunes/42.37350158691406_100.7536865234375_023_CW000_-0.4656716287136078_0.33532214164733887_1.255114197731018.jpg\n",
      "Problem with file ../raw_data/images/testing/dunes/33.58849868774414_63.525550079345706_02_CW000_-0.8136654496192932_-0.013480071909725666_1.0658302307128906.jpg\n",
      "Problem with file ../raw_data/images/testing/dunes/38.28550033569336_96.236865234375_022_CW000_0.004880859050899744_0.8867989778518677_1.5097514390945435.jpg\n"
     ]
    },
    {
     "name": "stderr",
     "output_type": "stream",
     "text": [
      " 23%|██▎       | 747/3313 [00:32<01:49, 23.54it/s]"
     ]
    },
    {
     "name": "stdout",
     "output_type": "stream",
     "text": [
      "Problem with file ../raw_data/images/testing/dunes/31.64949951171875_61.73271789550781_00_CW000_-0.9027343392372131_0.3084760010242462_4.7700300216674805.jpg\n",
      "Problem with file ../raw_data/images/testing/dunes/28.855500793457033_17.031874465942384_01_CW000_-0.4138762950897217_-0.27483323216438293_1.839026927947998.jpg\n",
      "Problem with file ../raw_data/images/testing/dunes/32.98850021362305_64.2259017944336_02_CW000_-0.582917332649231_0.5881261229515076_0.748357892036438.jpg\n",
      "Problem with file ../raw_data/images/testing/dunes/38.510501098632815_95.7864974975586_010_CW000_0.24601466953754425_0.7194265723228455_1.275434970855713.jpg\n",
      "Problem with file ../raw_data/images/testing/dunes/31.20350036621094_57.180833435058595_03_CW000_-0.48876750469207764_0.67909836769104_0.8083942532539368.jpg\n"
     ]
    },
    {
     "name": "stderr",
     "output_type": "stream",
     "text": [
      "\r",
      " 23%|██▎       | 750/3313 [00:32<01:48, 23.70it/s]"
     ]
    },
    {
     "name": "stdout",
     "output_type": "stream",
     "text": [
      "Problem with file ../raw_data/images/testing/dunes/41.22050170898437_76.72977905273437_021_CW000_0.35624563694000244_-0.1039375364780426_0.7911377549171448.jpg\n",
      "Problem with file ../raw_data/images/testing/dunes/15.152500343322753_49.55750045776367_013_CW000_0.5829294323921204_-0.5725922584533691_1.2109111547470093.jpg\n",
      "Problem with file ../raw_data/images/testing/dunes/20.316500854492187_16.26049919128418_012_CW000_0.29386845231056213_0.24127914011478424_0.6688743829727173.jpg\n",
      "Problem with file ../raw_data/images/testing/dunes/38.11049957275391_96.36195526123046_013_CW000_-0.20896528661251068_0.882768452167511_1.398188591003418.jpg\n",
      "Problem with file ../raw_data/images/testing/dunes/43.41749877929688_107.48572082519532_012_CW000_-0.4377151429653168_0.6892668604850769_2.0812344551086426.jpg\n"
     ]
    },
    {
     "name": "stderr",
     "output_type": "stream",
     "text": [
      " 23%|██▎       | 756/3313 [00:32<01:48, 23.64it/s]"
     ]
    },
    {
     "name": "stdout",
     "output_type": "stream",
     "text": [
      "Problem with file ../raw_data/images/testing/dunes/31.299500274658204_62.05784683227539_021_CW000_-0.8545985817909241_0.38880273699760437_3.570774555206299.jpg\n",
      "Problem with file ../raw_data/images/testing/dunes/33.79350128173828_56.16183319091797_030_CW000_-0.37155091762542725_-0.34285807609558105_1.4440926313400269.jpg\n",
      "Problem with file ../raw_data/images/testing/dunes/31.628500366210936_57.25590057373047_032_CW000_-0.7563540935516357_0.5491747260093689_1.6378235816955566.jpg\n",
      "Problem with file ../raw_data/images/testing/dunes/43.2484992980957_100.60364990234375_031_CW000_-0.13585664331912994_0.8724046945571899_2.146843194961548.jpg\n",
      "Problem with file ../raw_data/images/testing/dunes/40.470498657226564_75.95450134277344_02_CW000_-0.3491290509700775_0.7781546115875244_1.082564115524292.jpg\n"
     ]
    },
    {
     "name": "stderr",
     "output_type": "stream",
     "text": [
      " 23%|██▎       | 762/3313 [00:32<01:46, 23.95it/s]"
     ]
    },
    {
     "name": "stdout",
     "output_type": "stream",
     "text": [
      "Problem with file ../raw_data/images/testing/dunes/38.38549880981445_96.36195526123046_023_CW000_0.11097325384616852_0.8613903522491455_1.603798508644104.jpg\n",
      "Problem with file ../raw_data/images/testing/dunes/26.026499557495118_7.8766429901123045_021_CW000_-0.14519013464450836_-0.3576643168926239_1.1119623184204102.jpg\n",
      "Problem with file ../raw_data/images/testing/dunes/40.695501708984374_75.97950134277343_033_CW000_0.5467350482940674_0.5771613121032715_1.3074040412902832.jpg\n",
      "Problem with file ../raw_data/images/testing/dunes/31.299500274658204_61.8827621459961_022_CW000_-0.8920423984527588_0.3653720021247864_4.07539176940918.jpg\n",
      "Problem with file ../raw_data/images/testing/dunes/26.007499313354494_40.601617431640626_03_CW000_0.07508638501167297_0.32369768619537354_1.383949875831604.jpg\n"
     ]
    },
    {
     "name": "stderr",
     "output_type": "stream",
     "text": [
      "\r",
      " 23%|██▎       | 765/3313 [00:32<01:46, 24.00it/s]"
     ]
    },
    {
     "name": "stdout",
     "output_type": "stream",
     "text": [
      "Problem with file ../raw_data/images/testing/dunes/43.02350006103516_100.62864990234375_02_CW000_-0.5945671796798706_0.6023494601249695_2.0742669105529785.jpg\n",
      "Problem with file ../raw_data/images/testing/dunes/15.007500457763673_48.15749816894531_021_CW000_0.5263717770576477_-0.25283780694007874_2.1373305320739746.jpg\n",
      "Problem with file ../raw_data/images/testing/dunes/19.667500305175782_33.6916259765625_020_CW000_-0.871794581413269_-0.09796477109193802_3.77341365814209.jpg\n",
      "Problem with file ../raw_data/images/testing/dunes/20.91649932861328_16.73574905395508_011_CW000_-0.6857670545578003_-0.05471138283610344_0.7159388065338135.jpg\n",
      "Problem with file ../raw_data/images/testing/dunes/42.59849853515625_100.80372314453125_011_CW000_-0.6583199501037598_0.2732419967651367_1.3429620265960693.jpg\n"
     ]
    },
    {
     "name": "stderr",
     "output_type": "stream",
     "text": [
      " 23%|██▎       | 771/3313 [00:33<01:54, 22.26it/s]"
     ]
    },
    {
     "name": "stdout",
     "output_type": "stream",
     "text": [
      "Problem with file ../raw_data/images/testing/dunes/19.5375_45.742498779296874_00_CW000_0.0580858439207077_-0.7259284257888794_2.2200117111206055.jpg\n",
      "Problem with file ../raw_data/images/testing/dunes/34.16850051879883_55.361498260498045_00_CW000_-0.8240686655044556_0.004343690350651741_2.2954535484313965.jpg\n",
      "Problem with file ../raw_data/images/testing/dunes/14.982500457763672_48.182498168945315_032_CW000_0.5263717770576477_-0.25283780694007874_2.1373305320739746.jpg\n",
      "Problem with file ../raw_data/images/testing/dunes/33.56349868774414_64.25090179443359_013_CW000_-0.29760926961898804_-0.3853986859321594_1.0787827968597412.jpg\n",
      "Problem with file ../raw_data/images/testing/dunes/43.07349853515625_100.77872314453126_020_CW000_-0.4079539477825165_0.7680480480194092_2.133735179901123.jpg\n"
     ]
    },
    {
     "name": "stderr",
     "output_type": "stream",
     "text": [
      " 23%|██▎       | 777/3313 [00:33<01:52, 22.46it/s]"
     ]
    },
    {
     "name": "stdout",
     "output_type": "stream",
     "text": [
      "Problem with file ../raw_data/images/testing/dunes/26.001499557495116_7.951785945892334_030_CW000_-0.10474859923124313_-0.3361809253692627_1.0840989351272583.jpg\n",
      "Problem with file ../raw_data/images/testing/dunes/26.07649955749512_8.126928901672363_03_CW000_-0.05685173347592354_-0.3322336673736572_1.0810060501098633.jpg\n",
      "Problem with file ../raw_data/images/testing/dunes/33.48850021362305_63.95074996948242_03_CW000_-0.4704642593860626_-0.39948728680610657_0.9088390469551086.jpg\n",
      "Problem with file ../raw_data/images/testing/dunes/33.363501739501956_64.3009536743164_011_CW000_-0.33856260776519775_-0.21173477172851562_0.9153397679328918.jpg\n",
      "Problem with file ../raw_data/images/testing/dunes/40.62049942016601_76.42966918945312_021_CW000_0.10334809124469757_0.7213232517242432_0.7636888027191162.jpg\n"
     ]
    },
    {
     "name": "stderr",
     "output_type": "stream",
     "text": [
      "\r",
      " 24%|██▎       | 780/3313 [00:33<01:53, 22.41it/s]"
     ]
    },
    {
     "name": "stdout",
     "output_type": "stream",
     "text": [
      "Problem with file ../raw_data/images/testing/dunes/20.54149971008301_16.610699081420897_00_CW000_-0.5566275119781494_0.11900259554386139_0.6446698904037476.jpg\n",
      "Problem with file ../raw_data/images/testing/dunes/33.6885009765625_63.80070190429687_01_CW000_-0.6018028855323792_-0.17726749181747437_1.0962635278701782.jpg\n",
      "Problem with file ../raw_data/images/testing/dunes/31.89950065612793_61.35754470825195_021_CW000_-0.9245191812515259_0.3344726860523224_5.6120076179504395.jpg\n",
      "Problem with file ../raw_data/images/testing/dunes/26.3575008392334_41.051911163330075_021_CW000_-0.1430160403251648_-0.21915097534656525_1.3290443420410156.jpg\n",
      "Problem with file ../raw_data/images/testing/dunes/33.56849822998047_56.08679275512695_01_CW000_-0.38669881224632263_-0.11759087443351746_1.2315775156021118.jpg\n"
     ]
    },
    {
     "name": "stderr",
     "output_type": "stream",
     "text": [
      " 24%|██▎       | 786/3313 [00:33<01:55, 21.92it/s]"
     ]
    },
    {
     "name": "stdout",
     "output_type": "stream",
     "text": [
      "Problem with file ../raw_data/images/testing/dunes/26.07649955749512_7.976785945892334_01_CW000_-0.10474859923124313_-0.3361809253692627_1.0840989351272583.jpg\n",
      "Problem with file ../raw_data/images/testing/dunes/33.393499755859374_55.56158294677734_030_CW000_-0.5956853628158569_0.2805424928665161_1.2432688474655151.jpg\n",
      "Problem with file ../raw_data/images/testing/dunes/44.69450073242187_109.58099670410157_022_CW000_-0.4021812379360199_0.6358212828636169_1.7243456840515137.jpg\n",
      "Problem with file ../raw_data/images/testing/dunes/31.89950065612793_61.75771789550781_021_CW000_-0.8876993060112_0.27692607045173645_4.731226921081543.jpg\n",
      "Problem with file ../raw_data/images/testing/dunes/38.21050186157227_96.5121353149414_011_CW000_-0.0465027317404747_0.8922232985496521_1.7161295413970947.jpg\n"
     ]
    },
    {
     "name": "stderr",
     "output_type": "stream",
     "text": [
      " 24%|██▍       | 792/3313 [00:34<01:53, 22.18it/s]"
     ]
    },
    {
     "name": "stdout",
     "output_type": "stream",
     "text": [
      "Problem with file ../raw_data/images/testing/dunes/21.04149971008301_16.410599136352538_00_CW000_-0.4088377356529236_-0.46904414892196655_0.8587486743927002.jpg\n",
      "Problem with file ../raw_data/images/testing/dunes/19.667500305175782_34.092123413085936_020_CW000_-0.7992690205574036_-0.17534054815769196_3.519487142562866.jpg\n",
      "Problem with file ../raw_data/images/testing/dunes/33.71849899291992_55.636582946777345_023_CW000_-0.816493809223175_0.16040976345539093_1.789162278175354.jpg\n",
      "Problem with file ../raw_data/images/testing/dunes/20.316500854492187_16.28549919128418_013_CW000_0.29386845231056213_0.24127914011478424_0.6688743829727173.jpg\n",
      "Problem with file ../raw_data/images/testing/dunes/38.435498809814455_96.41204528808593_01_CW000_0.10158061981201172_0.8471601605415344_1.5373255014419556.jpg\n"
     ]
    },
    {
     "name": "stderr",
     "output_type": "stream",
     "text": [
      "\r",
      " 24%|██▍       | 795/3313 [00:34<01:52, 22.43it/s]"
     ]
    },
    {
     "name": "stdout",
     "output_type": "stream",
     "text": [
      "Problem with file ../raw_data/images/testing/dunes/33.69349899291992_56.186833190917966_031_CW000_-0.35695457458496094_-0.23840343952178955_1.313857078552246.jpg\n",
      "Problem with file ../raw_data/images/testing/dunes/26.07649955749512_7.8766429901123045_01_CW000_-0.14519013464450836_-0.3576643168926239_1.1119623184204102.jpg\n",
      "Problem with file ../raw_data/images/testing/dunes/38.0854995727539_95.8364974975586_022_CW000_-0.38617706298828125_0.8664689064025879_1.3352460861206055.jpg\n",
      "Problem with file ../raw_data/images/testing/dunes/14.682500267028809_47.932501220703124_030_CW000_0.6417410373687744_-0.2526096701622009_1.35492742061615.jpg\n",
      "Problem with file ../raw_data/images/testing/dunes/41.22050170898437_76.15456695556641_022_CW000_0.22322186827659607_-0.33204659819602966_0.8019689321517944.jpg\n"
     ]
    },
    {
     "name": "stderr",
     "output_type": "stream",
     "text": [
      " 24%|██▍       | 801/3313 [00:34<01:48, 23.24it/s]"
     ]
    },
    {
     "name": "stdout",
     "output_type": "stream",
     "text": [
      "Problem with file ../raw_data/images/testing/dunes/43.64249954223633_107.28560943603516_02_CW000_-0.5396078824996948_0.6689233779907227_2.3593597412109375.jpg\n",
      "Problem with file ../raw_data/images/testing/dunes/31.55349998474121_56.93069915771484_021_CW000_-0.4845132827758789_0.7173264026641846_0.9956381916999817.jpg\n",
      "Problem with file ../raw_data/images/testing/dunes/45.541500854492185_70.92896423339843_023_CW000_-0.1376262903213501_-0.6878644824028015_1.9643235206604004.jpg\n",
      "Problem with file ../raw_data/images/testing/dunes/33.06349868774414_63.70065002441406_011_CW000_-0.344663143157959_-0.2610417604446411_0.6303470134735107.jpg\n",
      "Problem with file ../raw_data/images/testing/dunes/14.882500076293946_47.75750045776367_031_CW000_0.588310182094574_-0.3480420708656311_2.059981107711792.jpg\n"
     ]
    },
    {
     "name": "stderr",
     "output_type": "stream",
     "text": [
      " 24%|██▍       | 807/3313 [00:34<01:46, 23.54it/s]"
     ]
    },
    {
     "name": "stdout",
     "output_type": "stream",
     "text": [
      "Problem with file ../raw_data/images/testing/dunes/44.894501495361325_109.58099670410157_022_CW000_-0.32127106189727783_0.646939218044281_1.6671531200408936.jpg\n",
      "Problem with file ../raw_data/images/testing/dunes/44.91950149536133_109.35583190917968_011_CW000_-0.3056570589542389_0.6643776297569275_1.7901220321655273.jpg\n",
      "Problem with file ../raw_data/images/testing/dunes/31.678500366210937_57.380967712402345_013_CW000_-0.8312428593635559_0.44442984461784363_1.7424017190933228.jpg\n",
      "Problem with file ../raw_data/images/testing/dunes/41.67049942016602_75.90450134277344_00_CW000_0.19551150500774384_-0.18319888412952423_0.7999233603477478.jpg\n",
      "Problem with file ../raw_data/images/testing/dunes/45.11649932861328_70.6538070678711_030_CW000_-0.18394336104393005_-0.681837260723114_1.9496077299118042.jpg\n"
     ]
    },
    {
     "name": "stderr",
     "output_type": "stream",
     "text": [
      "\r",
      " 24%|██▍       | 810/3313 [00:34<01:46, 23.48it/s]"
     ]
    },
    {
     "name": "stdout",
     "output_type": "stream",
     "text": [
      "Problem with file ../raw_data/images/testing/dunes/40.79550018310547_76.97984466552734_033_CW000_-0.6352092027664185_0.5760141611099243_0.6418247818946838.jpg\n",
      "Problem with file ../raw_data/images/testing/dunes/44.54449996948242_109.53099670410157_00_CW000_-0.53426194190979_0.5676106810569763_1.6813966035842896.jpg\n",
      "Problem with file ../raw_data/images/testing/dunes/20.891499328613282_16.610699081420897_020_CW000_-0.6810302734375_0.0036022611893713474_0.6935921311378479.jpg\n",
      "Problem with file ../raw_data/images/testing/dunes/43.12349853515625_100.65364990234374_03_CW000_-0.44795066118240356_0.7251629829406738_2.0357656478881836.jpg\n",
      "Problem with file ../raw_data/images/testing/dunes/43.19850082397461_101.20386962890625_011_CW000_-0.1442180722951889_0.8279368281364441_1.8160905838012695.jpg\n"
     ]
    },
    {
     "name": "stderr",
     "output_type": "stream",
     "text": [
      " 25%|██▍       | 816/3313 [00:35<01:47, 23.31it/s]"
     ]
    },
    {
     "name": "stdout",
     "output_type": "stream",
     "text": [
      "Problem with file ../raw_data/images/testing/dunes/44.76949920654297_109.18066711425782_032_CW000_-0.30368950963020325_0.6769421696662903_1.9560052156448364.jpg\n",
      "Problem with file ../raw_data/images/testing/dunes/43.41749877929688_107.43572082519532_010_CW000_-0.4377151429653168_0.6892668604850769_2.0812344551086426.jpg\n",
      "Problem with file ../raw_data/images/testing/dunes/43.71750183105469_107.13555755615235_010_CW000_-0.5445125102996826_0.6801014542579651_2.526923656463623.jpg\n",
      "Problem with file ../raw_data/images/testing/dunes/38.38549880981445_96.211865234375_021_CW000_0.09195462614297867_0.8640323877334595_1.5077096223831177.jpg\n",
      "Problem with file ../raw_data/images/testing/dunes/43.042501068115236_107.73589172363282_00_CW000_0.07067034393548965_0.7441366314888_2.006405830383301.jpg\n"
     ]
    },
    {
     "name": "stderr",
     "output_type": "stream",
     "text": [
      " 25%|██▍       | 822/3313 [00:35<01:45, 23.64it/s]"
     ]
    },
    {
     "name": "stdout",
     "output_type": "stream",
     "text": [
      "Problem with file ../raw_data/images/testing/dunes/43.84250030517578_107.035498046875_00_CW000_-0.5001820921897888_0.7152990102767944_2.6138482093811035.jpg\n",
      "Problem with file ../raw_data/images/testing/dunes/25.957499313354493_40.40149841308594_023_CW000_0.17173196375370026_0.4460687041282654_1.5383988618850708.jpg\n",
      "Problem with file ../raw_data/images/testing/dunes/19.867499160766602_33.79175033569336_020_CW000_-0.8738033175468445_-0.11709754168987274_3.705632209777832.jpg\n",
      "Problem with file ../raw_data/images/testing/dunes/41.445498657226565_77.0548812866211_012_CW000_0.6804739832878113_0.05211382731795311_0.9475784301757812.jpg\n",
      "Problem with file ../raw_data/images/testing/dunes/43.14850082397461_100.45357666015624_033_CW000_-0.29644423723220825_0.7749940156936646_1.8447566032409668.jpg\n"
     ]
    },
    {
     "name": "stderr",
     "output_type": "stream",
     "text": [
      "\r",
      " 25%|██▍       | 825/3313 [00:35<01:46, 23.37it/s]"
     ]
    },
    {
     "name": "stdout",
     "output_type": "stream",
     "text": [
      "Problem with file ../raw_data/images/testing/dunes/14.932500076293945_48.03249969482422_010_CW000_0.5537184476852417_-0.2568524479866028_1.9163249731063843.jpg\n",
      "Problem with file ../raw_data/images/testing/dunes/33.388501739501955_64.15084991455078_03_CW000_-0.10447978973388672_-0.3968108594417572_0.9748221039772034.jpg\n",
      "Problem with file ../raw_data/images/testing/dunes/33.438500213623044_63.37549819946289_020_CW000_-0.8435562252998352_-0.11427003145217896_1.04338538646698.jpg\n",
      "Problem with file ../raw_data/images/testing/dunes/44.61949844360352_109.38083190917969_012_CW000_-0.4984889328479767_0.5930717587471008_1.8404520750045776.jpg\n",
      "Problem with file ../raw_data/images/testing/dunes/29.205500411987305_17.382249450683595_023_CW000_-0.5175797343254089_-0.26923468708992004_1.81417977809906.jpg\n"
     ]
    },
    {
     "name": "stderr",
     "output_type": "stream",
     "text": [
      " 25%|██▌       | 831/3313 [00:35<01:44, 23.80it/s]"
     ]
    },
    {
     "name": "stdout",
     "output_type": "stream",
     "text": [
      "Problem with file ../raw_data/images/testing/dunes/31.178500366210937_56.980699157714845_013_CW000_-0.3053824305534363_0.552166759967804_0.8466128706932068.jpg\n",
      "Problem with file ../raw_data/images/testing/dunes/28.930499267578124_17.107000732421874_010_CW000_-0.45954445004463196_-0.24324582517147064_1.8100817203521729.jpg\n",
      "Problem with file ../raw_data/images/testing/dunes/42.37350158691406_100.7036865234375_021_CW000_-0.4656716287136078_0.33532214164733887_1.255114197731018.jpg\n",
      "Problem with file ../raw_data/images/testing/dunes/14.982500457763672_48.15749816894531_031_CW000_0.5263717770576477_-0.25283780694007874_2.1373305320739746.jpg\n",
      "Problem with file ../raw_data/images/testing/dunes/20.466499710083006_16.58564910888672_033_CW000_-0.3883780241012573_0.1885625123977661_0.6620272397994995.jpg\n"
     ]
    },
    {
     "name": "stderr",
     "output_type": "stream",
     "text": [
      " 25%|██▌       | 837/3313 [00:36<01:44, 23.60it/s]"
     ]
    },
    {
     "name": "stdout",
     "output_type": "stream",
     "text": [
      "Problem with file ../raw_data/images/testing/dunes/38.76849899291992_68.41783294677734_03_CW000_-0.6213557124137878_-0.08668562769889832_0.49845486879348755.jpg\n",
      "Problem with file ../raw_data/images/testing/dunes/31.799500274658204_61.95780258178711_021_CW000_-0.8641168475151062_0.25640398263931274_4.2204437255859375.jpg\n",
      "Problem with file ../raw_data/images/testing/dunes/38.560499572753905_96.16177520751953_033_CW000_0.1708187609910965_0.8070891499519348_1.4546841382980347.jpg\n",
      "Problem with file ../raw_data/images/testing/dunes/44.569498443603514_108.95550231933593_031_CW000_-0.44161590933799744_0.6375353336334229_2.070099115371704.jpg\n",
      "Problem with file ../raw_data/images/testing/dunes/42.69850082397461_100.45357666015624_013_CW000_-0.7548223733901978_0.3328409492969513_1.837989091873169.jpg\n"
     ]
    },
    {
     "name": "stderr",
     "output_type": "stream",
     "text": [
      "\r",
      " 25%|██▌       | 840/3313 [00:36<01:45, 23.49it/s]"
     ]
    },
    {
     "name": "stdout",
     "output_type": "stream",
     "text": [
      "Problem with file ../raw_data/images/testing/dunes/42.37350158691406_101.17886962890626_020_CW000_-0.3371007442474365_0.1406775414943695_1.0607670545578003.jpg\n",
      "Problem with file ../raw_data/images/testing/dunes/45.19149932861328_70.7538818359375_00_CW000_-0.1928340345621109_-0.6832738518714905_1.9524868726730347.jpg\n",
      "Problem with file ../raw_data/images/testing/dunes/29.080500030517577_16.906750106811522_030_CW000_-0.4982140064239502_-0.23002555966377258_1.9008547067642212.jpg\n",
      "Problem with file ../raw_data/images/testing/dunes/42.96750106811523_107.3856689453125_032_CW000_-0.21536904573440552_0.7283552289009094_1.9757072925567627.jpg\n",
      "Problem with file ../raw_data/images/testing/dunes/43.298499298095706_100.60364990234375_011_CW000_-0.13585664331912994_0.8724046945571899_2.146843194961548.jpg\n"
     ]
    },
    {
     "name": "stderr",
     "output_type": "stream",
     "text": [
      " 26%|██▌       | 846/3313 [00:36<01:42, 24.01it/s]"
     ]
    },
    {
     "name": "stdout",
     "output_type": "stream",
     "text": [
      "Problem with file ../raw_data/images/testing/dunes/44.99149856567383_70.67880706787109_01_CW000_-0.1634104996919632_-0.6558296084403992_1.873471736907959.jpg\n",
      "Problem with file ../raw_data/images/testing/dunes/44.94450149536133_109.55599670410156_01_CW000_-0.32127106189727783_0.646939218044281_1.6671531200408936.jpg\n",
      "Problem with file ../raw_data/images/testing/dunes/25.682500076293945_40.651676940917966_011_CW000_0.13406191766262054_0.19482681155204773_1.4763489961624146.jpg\n",
      "Problem with file ../raw_data/images/testing/dunes/20.34150085449219_16.310549163818358_00_CW000_0.10661174356937408_0.23844900727272034_0.6602726578712463.jpg\n",
      "Problem with file ../raw_data/images/testing/dunes/15.032500457763671_47.73250045776367_010_CW000_0.5840241312980652_-0.33360782265663147_2.3078091144561768.jpg\n"
     ]
    },
    {
     "name": "stderr",
     "output_type": "stream",
     "text": [
      " 26%|██▌       | 852/3313 [00:36<01:42, 23.92it/s]"
     ]
    },
    {
     "name": "stdout",
     "output_type": "stream",
     "text": [
      "Problem with file ../raw_data/images/testing/dunes/33.54349822998047_55.96174850463867_010_CW000_-0.3704032003879547_-0.24735252559185028_1.3345098495483398.jpg\n",
      "Problem with file ../raw_data/images/testing/dunes/15.227499771118165_49.957498168945314_023_CW000_0.574704647064209_-0.41313567757606506_1.375328779220581.jpg\n",
      "Problem with file ../raw_data/images/testing/dunes/40.79550018310547_77.1799102783203_033_CW000_-0.7648389935493469_0.5455771088600159_1.037061333656311.jpg\n",
      "Problem with file ../raw_data/images/testing/dunes/20.621500778198243_34.1327507019043_022_CW000_-0.8334205150604248_-0.22890405356884003_3.3193700313568115.jpg\n",
      "Problem with file ../raw_data/images/testing/dunes/20.97150001525879_34.28291549682617_00_CW000_-0.7939646244049072_-0.3145603835582733_3.4608707427978516.jpg\n"
     ]
    },
    {
     "name": "stderr",
     "output_type": "stream",
     "text": [
      "\r",
      " 26%|██▌       | 855/3313 [00:36<01:42, 23.91it/s]"
     ]
    },
    {
     "name": "stdout",
     "output_type": "stream",
     "text": [
      "Problem with file ../raw_data/images/testing/dunes/43.167501831054686_107.3356689453125_030_CW000_-0.33974334597587585_0.7245656251907349_2.0801100730895996.jpg\n",
      "Problem with file ../raw_data/images/testing/dunes/38.13549957275391_96.03668518066407_02_CW000_-0.407829612493515_0.8472695350646973_1.3741267919540405.jpg\n",
      "Problem with file ../raw_data/images/testing/dunes/42.7484992980957_100.52861328125_032_CW000_-0.7477524280548096_0.3641163110733032_1.9214640855789185.jpg\n",
      "Problem with file ../raw_data/images/testing/dunes/38.535501098632814_95.88658752441407_00_CW000_0.1989738792181015_0.7854389548301697_1.3388577699661255.jpg\n",
      "Problem with file ../raw_data/images/testing/dunes/20.441499328613283_16.760749053955077_02_CW000_-0.6116777062416077_0.035889215767383575_0.648766815662384.jpg\n"
     ]
    },
    {
     "name": "stderr",
     "output_type": "stream",
     "text": [
      " 26%|██▌       | 861/3313 [00:37<01:41, 24.18it/s]"
     ]
    },
    {
     "name": "stdout",
     "output_type": "stream",
     "text": [
      "Problem with file ../raw_data/images/testing/dunes/33.91849975585937_55.98674850463867_021_CW000_-0.39543676376342773_-0.44409340620040894_1.715564250946045.jpg\n",
      "Problem with file ../raw_data/images/testing/dunes/20.441499328613283_16.6856990814209_03_CW000_-0.47623181343078613_0.09062356501817703_0.6424728631973267.jpg\n",
      "Problem with file ../raw_data/images/testing/dunes/19.942499542236327_33.59150161743164_030_CW000_-0.9034959077835083_-0.08976404368877411_3.8963255882263184.jpg\n",
      "Problem with file ../raw_data/images/testing/dunes/41.470498657226564_76.87980804443359_03_CW000_0.6782362461090088_0.028966382145881653_1.0302200317382812.jpg\n",
      "Problem with file ../raw_data/images/testing/dunes/19.567499923706055_33.64150161743164_022_CW000_-0.8739610910415649_-0.08560045808553696_3.7886109352111816.jpg\n"
     ]
    },
    {
     "name": "stderr",
     "output_type": "stream",
     "text": [
      " 26%|██▌       | 867/3313 [00:37<01:44, 23.31it/s]"
     ]
    },
    {
     "name": "stdout",
     "output_type": "stream",
     "text": [
      "Problem with file ../raw_data/images/testing/dunes/26.332500839233397_40.87679595947266_032_CW000_-0.10505552589893341_-0.11088480800390244_1.3147815465927124.jpg\n",
      "Problem with file ../raw_data/images/testing/dunes/45.391500091552736_70.85396423339844_00_CW000_-0.18420006334781647_-0.6940234303474426_1.9933085441589355.jpg\n",
      "Problem with file ../raw_data/images/testing/dunes/26.3575008392334_40.42655792236328_020_CW000_0.10147184878587723_0.25305336713790894_1.401072382926941.jpg\n",
      "Problem with file ../raw_data/images/testing/dunes/33.03849868774414_63.42549819946289_022_CW000_-0.6691743731498718_-0.43069934844970703_0.7408806681632996.jpg\n",
      "Problem with file ../raw_data/images/testing/dunes/33.1385009765625_63.57559814453125_020_CW000_-0.5385022163391113_-0.38764768838882446_0.6727813482284546.jpg\n"
     ]
    },
    {
     "name": "stderr",
     "output_type": "stream",
     "text": [
      "\r",
      " 26%|██▋       | 870/3313 [00:37<01:46, 22.88it/s]"
     ]
    },
    {
     "name": "stdout",
     "output_type": "stream",
     "text": [
      "Problem with file ../raw_data/images/testing/dunes/38.510501098632815_96.5621353149414_013_CW000_0.13647308945655823_0.7535533308982849_1.2568947076797485.jpg\n",
      "Problem with file ../raw_data/images/testing/dunes/45.441498565673825_70.50365753173828_022_CW000_-0.13828419148921967_-0.6847541332244873_1.9758327007293701.jpg\n",
      "Problem with file ../raw_data/images/testing/dunes/31.349500274658205_61.83276214599609_00_CW000_-0.8920423984527588_0.3653720021247864_4.07539176940918.jpg\n",
      "Problem with file ../raw_data/images/testing/dunes/20.79649963378906_34.20783309936523_031_CW000_-0.808279275894165_-0.284757137298584_3.379659652709961.jpg\n",
      "Problem with file ../raw_data/images/testing/dunes/33.86850128173828_56.23683319091797_03_CW000_-0.37155091762542725_-0.34285807609558105_1.4440926313400269.jpg\n"
     ]
    },
    {
     "name": "stderr",
     "output_type": "stream",
     "text": [
      " 26%|██▋       | 876/3313 [00:37<01:51, 21.81it/s]"
     ]
    },
    {
     "name": "stdout",
     "output_type": "stream",
     "text": [
      "Problem with file ../raw_data/images/testing/dunes/20.791500854492188_16.36054916381836_022_CW000_-0.40184101462364197_-0.2816149890422821_0.4855424165725708.jpg\n",
      "Problem with file ../raw_data/images/testing/dunes/20.71650047302246_16.86080093383789_012_CW000_-0.6723994016647339_0.12616480886936188_0.5599585771560669.jpg\n",
      "Problem with file ../raw_data/images/testing/dunes/31.57449951171875_61.53262939453125_030_CW000_-0.926543116569519_0.307915061712265_5.361482620239258.jpg\n",
      "Problem with file ../raw_data/images/testing/dunes/20.566500091552733_17.16095085144043_032_CW000_-0.48802709579467773_0.4733189046382904_0.5603674650192261.jpg\n",
      "Problem with file ../raw_data/images/testing/dunes/40.42049865722656_75.92950134277343_021_CW000_-0.3491290509700775_0.7781546115875244_1.082564115524292.jpg\n"
     ]
    },
    {
     "name": "stderr",
     "output_type": "stream",
     "text": [
      " 27%|██▋       | 882/3313 [00:37<01:51, 21.80it/s]"
     ]
    },
    {
     "name": "stdout",
     "output_type": "stream",
     "text": [
      "Problem with file ../raw_data/images/testing/dunes/19.567499923706055_33.86675033569336_023_CW000_-0.8467074036598206_-0.1086692214012146_3.6462507247924805.jpg\n",
      "Problem with file ../raw_data/images/testing/dunes/44.569498443603514_109.53099670410157_030_CW000_-0.4599796533584595_0.6089715957641602_1.6961402893066406.jpg\n",
      "Problem with file ../raw_data/images/testing/dunes/25.707500076293947_40.70167694091797_03_CW000_0.13406191766262054_0.19482681155204773_1.4763489961624146.jpg\n",
      "Problem with file ../raw_data/images/testing/dunes/43.49250106811523_107.085498046875_022_CW000_-0.47812700271606445_0.7110421061515808_2.394564390182495.jpg\n",
      "Problem with file ../raw_data/images/testing/dunes/40.39549865722656_76.77977905273437_033_CW000_-0.7555796504020691_0.5836139917373657_1.2902488708496094.jpg\n"
     ]
    },
    {
     "name": "stderr",
     "output_type": "stream",
     "text": [
      "\r",
      " 27%|██▋       | 885/3313 [00:38<01:51, 21.83it/s]"
     ]
    },
    {
     "name": "stdout",
     "output_type": "stream",
     "text": [
      "Problem with file ../raw_data/images/testing/dunes/40.445498657226565_76.70477905273438_010_CW000_-0.7555796504020691_0.5836139917373657_1.2902488708496094.jpg\n",
      "Problem with file ../raw_data/images/testing/dunes/42.47350006103515_100.40357666015625_021_CW000_-0.6495601534843445_0.3612205982208252_1.5489890575408936.jpg\n",
      "Problem with file ../raw_data/images/testing/dunes/21.091500091552735_16.81080093383789_020_CW000_-0.7410833835601807_-0.14505797624588013_0.8259909749031067.jpg\n",
      "Problem with file ../raw_data/images/testing/dunes/15.652500343322753_49.73250122070313_012_CW000_0.256740927696228_-0.6341574788093567_1.553894281387329.jpg\n",
      "Problem with file ../raw_data/images/testing/dunes/31.478499603271484_56.85563201904297_012_CW000_-0.3589107394218445_0.6655879616737366_0.9280227422714233.jpg\n"
     ]
    },
    {
     "name": "stderr",
     "output_type": "stream",
     "text": [
      " 27%|██▋       | 891/3313 [00:38<01:51, 21.65it/s]"
     ]
    },
    {
     "name": "stdout",
     "output_type": "stream",
     "text": [
      "Problem with file ../raw_data/images/testing/dunes/41.12049942016601_76.02953796386718_021_CW000_0.46837061643600464_-0.19571518898010254_0.8019140362739563.jpg\n",
      "Problem with file ../raw_data/images/testing/dunes/20.616500091552734_16.78574905395508_013_CW000_-0.7230864763259888_-0.0019386454951018095_0.599372148513794.jpg\n",
      "Problem with file ../raw_data/images/testing/dunes/43.39249877929687_107.16055755615234_021_CW000_-0.4740649163722992_0.689431369304657_2.2312939167022705.jpg\n",
      "Problem with file ../raw_data/images/testing/dunes/42.54849853515625_101.17886962890626_030_CW000_-0.5688363909721375_0.14393645524978638_1.146878957748413.jpg\n",
      "Problem with file ../raw_data/images/testing/dunes/42.798499298095706_101.25386962890624_013_CW000_-0.6524389982223511_0.2614607810974121_1.3448525667190552.jpg\n"
     ]
    },
    {
     "name": "stderr",
     "output_type": "stream",
     "text": [
      " 27%|██▋       | 897/3313 [00:38<01:46, 22.63it/s]"
     ]
    },
    {
     "name": "stdout",
     "output_type": "stream",
     "text": [
      "Problem with file ../raw_data/images/testing/dunes/25.66250076293945_25.722500228881835_030_CW000_-0.7547097206115723_-0.3471554219722748_1.8870199918746948.jpg\n",
      "Problem with file ../raw_data/images/testing/dunes/15.057500457763672_48.15749816894531_01_CW000_0.5263717770576477_-0.25283780694007874_2.1373305320739746.jpg\n",
      "Problem with file ../raw_data/images/testing/dunes/44.94450149536133_109.10558471679687_03_CW000_-0.2759314775466919_0.6766248941421509_1.9672640562057495.jpg\n",
      "Problem with file ../raw_data/images/testing/dunes/19.567499923706055_33.89187469482422_020_CW000_-0.8316232562065125_-0.12269096076488495_3.579409599304199.jpg\n",
      "Problem with file ../raw_data/images/testing/dunes/28.83050079345703_16.981750106811525_013_CW000_-0.40423163771629333_-0.29693302512168884_1.8639382123947144.jpg\n"
     ]
    },
    {
     "name": "stderr",
     "output_type": "stream",
     "text": [
      "\r",
      " 27%|██▋       | 900/3313 [00:38<01:46, 22.62it/s]"
     ]
    },
    {
     "name": "stdout",
     "output_type": "stream",
     "text": [
      "Problem with file ../raw_data/images/testing/dunes/41.22050170898437_76.40466918945313_020_CW000_0.4562472105026245_-0.09365805983543396_0.8659334778785706.jpg\n",
      "Problem with file ../raw_data/images/testing/dunes/43.24250183105469_107.16055755615234_01_CW000_-0.38510793447494507_0.7082982659339905_2.125148057937622.jpg\n",
      "Problem with file ../raw_data/images/testing/dunes/38.660501861572264_96.66222534179687_033_CW000_0.06245463341474533_0.5495375394821167_0.9625502228736877.jpg\n",
      "Problem with file ../raw_data/images/testing/dunes/26.10749969482422_40.826795959472655_00_CW000_-0.026449987664818764_0.0108346501365304_1.2878034114837646.jpg\n",
      "Problem with file ../raw_data/images/testing/dunes/33.288499450683595_63.90074996948242_01_CW000_-0.029654886573553085_-0.4541453421115875_0.8775291442871094.jpg\n"
     ]
    },
    {
     "name": "stderr",
     "output_type": "stream",
     "text": [
      " 27%|██▋       | 906/3313 [00:39<01:44, 22.98it/s]"
     ]
    },
    {
     "name": "stdout",
     "output_type": "stream",
     "text": [
      "Problem with file ../raw_data/images/testing/dunes/43.09849853515625_101.0788330078125_010_CW000_-0.3312939703464508_0.7593549489974976_1.8075082302093506.jpg\n",
      "Problem with file ../raw_data/images/testing/dunes/44.71950073242188_109.60599670410156_013_CW000_-0.4021812379360199_0.6358212828636169_1.7243456840515137.jpg\n",
      "Problem with file ../raw_data/images/testing/dunes/31.753500747680665_56.7555648803711_022_CW000_-0.4323958158493042_0.7198100090026855_1.0254751443862915.jpg\n",
      "Problem with file ../raw_data/images/testing/dunes/19.96749954223633_34.016999053955075_021_CW000_-0.8352704644203186_-0.17697227001190186_3.5348799228668213.jpg\n",
      "Problem with file ../raw_data/images/testing/dunes/20.621500778198243_34.107750701904294_021_CW000_-0.8334205150604248_-0.22890405356884003_3.3193700313568115.jpg\n"
     ]
    },
    {
     "name": "stderr",
     "output_type": "stream",
     "text": [
      " 28%|██▊       | 912/3313 [00:39<01:44, 23.04it/s]"
     ]
    },
    {
     "name": "stdout",
     "output_type": "stream",
     "text": [
      "Problem with file ../raw_data/images/testing/dunes/20.441499328613283_16.98585090637207_03_CW000_-0.5764865875244141_0.18182383477687836_0.4804065227508545.jpg\n",
      "Problem with file ../raw_data/images/testing/dunes/38.36049880981445_96.236865234375_032_CW000_0.09195462614297867_0.8640323877334595_1.5077096223831177.jpg\n",
      "Problem with file ../raw_data/images/testing/dunes/33.44349975585938_55.386498260498044_011_CW000_-0.70892333984375_0.33195340633392334_1.3386222124099731.jpg\n",
      "Problem with file ../raw_data/images/testing/dunes/20.41649932861328_16.48559913635254_013_CW000_-0.16867341101169586_0.21569600701332092_0.6603161096572876.jpg\n",
      "Problem with file ../raw_data/images/testing/dunes/33.843501281738284_55.361498260498045_010_CW000_-0.8217553496360779_0.1607774943113327_1.945356011390686.jpg\n"
     ]
    },
    {
     "name": "stderr",
     "output_type": "stream",
     "text": [
      "\r",
      " 28%|██▊       | 915/3313 [00:39<01:44, 22.87it/s]"
     ]
    },
    {
     "name": "stdout",
     "output_type": "stream",
     "text": [
      "Problem with file ../raw_data/images/testing/dunes/31.35349922180176_57.20590057373047_020_CW000_-0.6969814896583557_0.6346865892410278_1.2112970352172852.jpg\n",
      "Problem with file ../raw_data/images/testing/dunes/38.59350051879883_68.24278106689454_030_CW000_-0.8259504437446594_-0.2710208594799042_0.5902291536331177.jpg\n",
      "Problem with file ../raw_data/images/testing/dunes/42.7734992980957_101.1288330078125_022_CW000_-0.6748458743095398_0.2847256660461426_1.421557903289795.jpg\n",
      "Problem with file ../raw_data/images/testing/dunes/40.89549865722656_76.3796401977539_033_CW000_0.568324625492096_0.22971676290035248_0.8561831712722778.jpg\n",
      "Problem with file ../raw_data/images/testing/dunes/19.717500305175783_33.7416259765625_02_CW000_-0.871794581413269_-0.09796477109193802_3.77341365814209.jpg\n"
     ]
    },
    {
     "name": "stderr",
     "output_type": "stream",
     "text": [
      " 28%|██▊       | 921/3313 [00:39<01:43, 23.20it/s]"
     ]
    },
    {
     "name": "stdout",
     "output_type": "stream",
     "text": [
      "Problem with file ../raw_data/images/testing/dunes/44.26949920654297_109.60599670410156_033_CW000_-0.3349169194698334_0.6186919212341309_1.414851188659668.jpg\n",
      "Problem with file ../raw_data/images/testing/dunes/31.603499984741212_57.33096771240234_01_CW000_-0.8319311738014221_0.4609866142272949_1.6326491832733154.jpg\n",
      "Problem with file ../raw_data/images/testing/dunes/44.31949920654297_109.00550231933593_013_CW000_-0.5852670073509216_0.5274772644042969_1.8723646402359009.jpg\n",
      "Problem with file ../raw_data/images/testing/dunes/34.16850051879883_55.636582946777345_03_CW000_-0.8334642648696899_-0.056364309042692184_2.339884042739868.jpg\n",
      "Problem with file ../raw_data/images/testing/dunes/20.821499633789063_34.18283309936523_020_CW000_-0.808279275894165_-0.284757137298584_3.379659652709961.jpg\n"
     ]
    },
    {
     "name": "stderr",
     "output_type": "stream",
     "text": [
      " 28%|██▊       | 927/3313 [00:39<01:42, 23.19it/s]"
     ]
    },
    {
     "name": "stdout",
     "output_type": "stream",
     "text": [
      "Problem with file ../raw_data/images/testing/dunes/38.11049957275391_95.7864974975586_010_CW000_-0.38617706298828125_0.8664689064025879_1.3352460861206055.jpg\n",
      "Problem with file ../raw_data/images/testing/dunes/45.391500091552736_70.52865753173828_03_CW000_-0.15368613600730896_-0.6864147186279297_1.9800692796707153.jpg\n",
      "Problem with file ../raw_data/images/testing/dunes/20.941499328613283_16.6356990814209_01_CW000_-0.6810302734375_0.0036022611893713474_0.6935921311378479.jpg\n",
      "Problem with file ../raw_data/images/testing/dunes/20.741500473022462_16.28549919128418_03_CW000_-0.09464243054389954_-0.12252181023359299_0.43868738412857056.jpg\n",
      "Problem with file ../raw_data/images/testing/dunes/33.468499755859376_55.51154251098633_02_CW000_-0.6878598928451538_0.35237565636634827_1.3015036582946777.jpg\n"
     ]
    },
    {
     "name": "stderr",
     "output_type": "stream",
     "text": [
      "\r",
      " 28%|██▊       | 930/3313 [00:40<01:42, 23.33it/s]"
     ]
    },
    {
     "name": "stdout",
     "output_type": "stream",
     "text": [
      "Problem with file ../raw_data/images/testing/dunes/28.730500411987304_16.956750106811523_012_CW000_-0.3803493082523346_-0.2937868535518646_1.8581100702285767.jpg\n",
      "Problem with file ../raw_data/images/testing/dunes/40.695501708984374_76.77977905273437_033_CW000_-0.2506358325481415_0.7672725915908813_0.6477415561676025.jpg\n",
      "Problem with file ../raw_data/images/testing/dunes/44.519499969482425_109.65608673095703_011_CW000_-0.5022079944610596_0.5700734257698059_1.6070542335510254.jpg\n",
      "Problem with file ../raw_data/images/testing/dunes/40.545500946044925_76.02953796386718_011_CW000_0.07816573232412338_0.8385636210441589_1.1010502576828003.jpg\n",
      "Problem with file ../raw_data/images/testing/dunes/40.67049942016602_76.40466918945313_00_CW000_0.10334809124469757_0.7213232517242432_0.7636888027191162.jpg\n"
     ]
    },
    {
     "name": "stderr",
     "output_type": "stream",
     "text": [
      " 28%|██▊       | 936/3313 [00:40<01:42, 23.18it/s]"
     ]
    },
    {
     "name": "stdout",
     "output_type": "stream",
     "text": [
      "Problem with file ../raw_data/images/testing/dunes/43.56749954223633_107.31060943603515_033_CW000_-0.5396078824996948_0.6689233779907227_2.3593597412109375.jpg\n",
      "Problem with file ../raw_data/images/testing/dunes/31.94950065612793_61.83276214599609_00_CW000_-0.8730796575546265_0.2584809362888336_4.418321132659912.jpg\n",
      "Problem with file ../raw_data/images/testing/dunes/42.7484992980957_100.3535400390625_033_CW000_-0.752376914024353_0.31957969069480896_1.826165795326233.jpg\n",
      "Problem with file ../raw_data/images/testing/dunes/43.12349853515625_100.55361328125_03_CW000_-0.4791315197944641_0.6866766810417175_2.013192653656006.jpg\n",
      "Problem with file ../raw_data/images/testing/dunes/20.791500854492188_16.81080093383789_020_CW000_-0.6576237082481384_0.09578590095043182_0.6180264949798584.jpg\n"
     ]
    },
    {
     "name": "stderr",
     "output_type": "stream",
     "text": [
      " 28%|██▊       | 942/3313 [00:40<01:43, 22.90it/s]"
     ]
    },
    {
     "name": "stdout",
     "output_type": "stream",
     "text": [
      "Problem with file ../raw_data/images/testing/dunes/40.42049865722656_76.87980804443359_023_CW000_-0.7844164967536926_0.5528392791748047_1.2394577264785767.jpg\n",
      "Problem with file ../raw_data/images/testing/dunes/14.582499885559082_48.13249816894531_030_CW000_0.7591392397880554_-0.15973423421382904_1.0777760744094849.jpg\n",
      "Problem with file ../raw_data/images/testing/dunes/33.1635009765625_63.90074996948242_011_CW000_-0.09983144700527191_-0.3061773478984833_0.8082009553909302.jpg\n",
      "Problem with file ../raw_data/images/testing/dunes/33.33850173950195_63.67565002441406_020_CW000_-0.47929540276527405_-0.38916826248168945_0.748898983001709.jpg\n",
      "Problem with file ../raw_data/images/testing/dunes/41.49550094604492_77.0048812866211_030_CW000_0.7791029810905457_0.10028454661369324_1.132707118988037.jpg\n"
     ]
    },
    {
     "name": "stderr",
     "output_type": "stream",
     "text": [
      "\r",
      " 29%|██▊       | 945/3313 [00:40<01:44, 22.67it/s]"
     ]
    },
    {
     "name": "stdout",
     "output_type": "stream",
     "text": [
      "Problem with file ../raw_data/images/testing/dunes/42.64850082397461_100.878759765625_030_CW000_-0.7008964419364929_0.26701173186302185_1.4472295045852661.jpg\n",
      "Problem with file ../raw_data/images/testing/dunes/31.2745002746582_61.8827621459961_032_CW000_-0.8920423984527588_0.3653720021247864_4.07539176940918.jpg\n",
      "Problem with file ../raw_data/images/testing/dunes/33.438500213623044_63.95074996948242_023_CW000_-0.4704642593860626_-0.39948728680610657_0.9088390469551086.jpg\n",
      "Problem with file ../raw_data/images/testing/dunes/29.230500411987304_16.881625747680665_013_CW000_-0.5021669268608093_-0.23237678408622742_1.9316169023513794.jpg\n",
      "Problem with file ../raw_data/images/testing/dunes/42.87350158691406_101.0788330078125_020_CW000_-0.6108025908470154_0.4442507028579712_1.469562292098999.jpg\n"
     ]
    },
    {
     "name": "stderr",
     "output_type": "stream",
     "text": [
      " 29%|██▊       | 951/3313 [00:41<01:43, 22.84it/s]"
     ]
    },
    {
     "name": "stdout",
     "output_type": "stream",
     "text": [
      "Problem with file ../raw_data/images/testing/dunes/20.266500854492186_16.33554916381836_031_CW000_0.10661174356937408_0.23844900727272034_0.6602726578712463.jpg\n",
      "Problem with file ../raw_data/images/testing/dunes/19.69250030517578_33.81675033569336_011_CW000_-0.8568165302276611_-0.11473585665225983_3.68485164642334.jpg\n",
      "Problem with file ../raw_data/images/testing/dunes/20.391499328613282_16.33554916381836_021_CW000_-0.06521864980459213_0.15649478137493134_0.6092240214347839.jpg\n",
      "Problem with file ../raw_data/images/testing/dunes/33.23849945068359_63.95074996948242_023_CW000_-0.029654886573553085_-0.4541453421115875_0.8775291442871094.jpg\n",
      "Problem with file ../raw_data/images/testing/dunes/32.788499450683595_63.725650024414065_02_CW000_-0.543756365776062_0.05391550064086914_0.7607227563858032.jpg\n"
     ]
    },
    {
     "name": "stderr",
     "output_type": "stream",
     "text": [
      " 29%|██▉       | 957/3313 [00:41<01:42, 22.92it/s]"
     ]
    },
    {
     "name": "stdout",
     "output_type": "stream",
     "text": [
      "Problem with file ../raw_data/images/testing/dunes/41.470498657226564_77.07988128662109_03_CW000_0.6804739832878113_0.05211382731795311_0.9475784301757812.jpg\n",
      "Problem with file ../raw_data/images/testing/dunes/25.832500839233397_40.37649841308594_032_CW000_0.17513146996498108_0.4229266345500946_1.556725263595581.jpg\n",
      "Problem with file ../raw_data/images/testing/dunes/33.6635009765625_63.97579803466797_010_CW000_-0.5101184844970703_-0.3115123510360718_1.1709128618240356.jpg\n",
      "Problem with file ../raw_data/images/testing/dunes/25.807500457763673_41.001851654052736_03_CW000_0.13221238553524017_0.06039104238152504_1.395803451538086.jpg\n",
      "Problem with file ../raw_data/images/testing/dunes/31.90349922180176_57.45603485107422_02_CW000_-0.8880738615989685_0.3022298216819763_1.981667399406433.jpg\n"
     ]
    },
    {
     "name": "stderr",
     "output_type": "stream",
     "text": [
      "\r",
      " 29%|██▉       | 960/3313 [00:41<01:43, 22.82it/s]"
     ]
    },
    {
     "name": "stdout",
     "output_type": "stream",
     "text": [
      "Problem with file ../raw_data/images/testing/dunes/28.955499267578126_16.956750106811523_02_CW000_-0.44581758975982666_-0.28048256039619446_1.869318962097168.jpg\n",
      "Problem with file ../raw_data/images/testing/dunes/33.48850021362305_63.750650024414064_03_CW000_-0.7157612442970276_-0.18459554016590118_0.8789709210395813.jpg\n",
      "Problem with file ../raw_data/images/testing/dunes/15.702499771118164_49.83249969482422_032_CW000_0.2009655237197876_-0.6654635667800903_1.5377708673477173.jpg\n",
      "Problem with file ../raw_data/images/testing/dunes/20.821499633789063_34.05766830444336_023_CW000_-0.8638318777084351_-0.18350116908550262_3.409942150115967.jpg\n",
      "Problem with file ../raw_data/images/testing/dunes/31.62449951171875_61.65767364501953_011_CW000_-0.9144409894943237_0.3138855993747711_5.053655624389648.jpg\n"
     ]
    },
    {
     "name": "stderr",
     "output_type": "stream",
     "text": [
      " 29%|██▉       | 966/3313 [00:41<01:43, 22.70it/s]"
     ]
    },
    {
     "name": "stdout",
     "output_type": "stream",
     "text": [
      "Problem with file ../raw_data/images/testing/dunes/31.40349922180176_56.60550155639648_00_CW000_-0.18898075819015503_0.47843360900878906_1.0891294479370117.jpg\n",
      "Problem with file ../raw_data/images/testing/dunes/31.20350036621094_56.980699157714845_03_CW000_-0.3053824305534363_0.552166759967804_0.8466128706932068.jpg\n",
      "Problem with file ../raw_data/images/testing/dunes/21.04149971008301_16.98585090637207_03_CW000_-0.6646875739097595_-0.03605775535106659_0.8784871697425842.jpg\n",
      "Problem with file ../raw_data/images/testing/dunes/44.91649856567383_70.37857513427734_031_CW000_-0.14516392350196838_-0.6476145386695862_1.860705018043518.jpg\n",
      "Problem with file ../raw_data/images/testing/dunes/15.37750015258789_49.432498168945315_02_CW000_0.4904870092868805_-0.5652287006378174_1.6804332733154297.jpg\n"
     ]
    },
    {
     "name": "stderr",
     "output_type": "stream",
     "text": [
      " 29%|██▉       | 972/3313 [00:41<01:42, 22.83it/s]"
     ]
    },
    {
     "name": "stdout",
     "output_type": "stream",
     "text": [
      "Problem with file ../raw_data/images/testing/dunes/38.71849899291992_68.34283294677735_020_CW000_-0.6213557124137878_-0.08668562769889832_0.49845486879348755.jpg\n",
      "Problem with file ../raw_data/images/testing/dunes/33.388501739501955_64.25090179443359_03_CW000_-0.19145871698856354_-0.3099783658981323_0.959148108959198.jpg\n",
      "Problem with file ../raw_data/images/testing/dunes/34.09350051879883_55.98674850463867_031_CW000_-0.6121608018875122_-0.43064016103744507_2.032421588897705.jpg\n",
      "Problem with file ../raw_data/images/testing/dunes/33.51349868774414_63.60059814453125_031_CW000_-0.7315329909324646_-0.06930819153785706_0.997871994972229.jpg\n",
      "Problem with file ../raw_data/images/testing/dunes/20.891499328613282_16.93585090637207_021_CW000_-0.6532648205757141_0.08141060918569565_0.7499223351478577.jpg\n"
     ]
    },
    {
     "name": "stderr",
     "output_type": "stream",
     "text": [
      "\r",
      " 29%|██▉       | 975/3313 [00:42<01:42, 22.70it/s]"
     ]
    },
    {
     "name": "stdout",
     "output_type": "stream",
     "text": [
      "Problem with file ../raw_data/images/testing/dunes/28.730500411987304_16.806625747680663_010_CW000_-0.3636600375175476_-0.29754436016082764_1.8568904399871826.jpg\n",
      "Problem with file ../raw_data/images/testing/dunes/43.64249954223633_107.76089172363281_01_CW000_-0.5074372291564941_0.603607714176178_1.8269751071929932.jpg\n",
      "Problem with file ../raw_data/images/testing/dunes/15.627500343322755_49.33249969482422_022_CW000_0.3484245836734772_-0.5908284783363342_1.9248461723327637.jpg\n",
      "Problem with file ../raw_data/images/testing/dunes/21.066500091552733_16.46059913635254_032_CW000_-0.35357558727264404_-0.5766075849533081_1.0990289449691772.jpg\n",
      "Problem with file ../raw_data/images/testing/dunes/31.474499130249022_61.75771789550781_031_CW000_-0.9059226512908936_0.3216901421546936_4.6800007820129395.jpg\n"
     ]
    },
    {
     "name": "stderr",
     "output_type": "stream",
     "text": [
      " 30%|██▉       | 981/3313 [00:42<01:44, 22.23it/s]"
     ]
    },
    {
     "name": "stdout",
     "output_type": "stream",
     "text": [
      "Problem with file ../raw_data/images/testing/dunes/44.941498565673825_70.92896423339843_023_CW000_-0.19007128477096558_-0.6595726013183594_1.8703441619873047.jpg\n",
      "Problem with file ../raw_data/images/testing/dunes/15.602500343322754_49.98250045776367_030_CW000_0.36638081073760986_-0.5745360851287842_1.5820748805999756.jpg\n",
      "Problem with file ../raw_data/images/testing/dunes/44.94450149536133_109.30574951171874_03_CW000_-0.2859478294849396_0.6724535822868347_1.8539502620697021.jpg\n",
      "Problem with file ../raw_data/images/testing/dunes/15.302500152587891_49.932498168945315_032_CW000_0.5091120600700378_-0.4593682587146759_1.4873335361480713.jpg\n",
      "Problem with file ../raw_data/images/testing/dunes/33.6635009765625_63.82570190429688_012_CW000_-0.6018028855323792_-0.17726749181747437_1.0962635278701782.jpg\n"
     ]
    },
    {
     "name": "stderr",
     "output_type": "stream",
     "text": [
      " 30%|██▉       | 987/3313 [00:42<01:49, 21.29it/s]"
     ]
    },
    {
     "name": "stdout",
     "output_type": "stream",
     "text": [
      "Problem with file ../raw_data/images/testing/dunes/40.39549865722656_76.65474243164063_032_CW000_-0.7288605570793152_0.6054867506027222_1.2320246696472168.jpg\n",
      "Problem with file ../raw_data/images/testing/dunes/20.391499328613282_16.6356990814209_021_CW000_-0.47623181343078613_0.09062356501817703_0.6424728631973267.jpg\n",
      "Problem with file ../raw_data/images/testing/dunes/20.36649932861328_16.98585090637207_033_CW000_-0.5764865875244141_0.18182383477687836_0.4804065227508545.jpg\n",
      "Problem with file ../raw_data/images/testing/dunes/33.618500518798825_55.386498260498044_021_CW000_-0.8136365413665771_0.2233174443244934_1.6946970224380493.jpg\n"
     ]
    },
    {
     "name": "stderr",
     "output_type": "stream",
     "text": [
      "\r",
      " 30%|██▉       | 990/3313 [00:42<01:49, 21.14it/s]"
     ]
    },
    {
     "name": "stdout",
     "output_type": "stream",
     "text": [
      "Problem with file ../raw_data/images/testing/dunes/33.48850021362305_63.4755500793457_00_CW000_-0.8722261786460876_-0.07182224094867706_1.0256292819976807.jpg\n",
      "Problem with file ../raw_data/images/testing/dunes/44.294499206542966_109.60599670410156_023_CW000_-0.3349169194698334_0.6186919212341309_1.414851188659668.jpg\n",
      "Problem with file ../raw_data/images/testing/dunes/20.291500854492188_17.18595085144043_023_CW000_-0.17775921523571014_0.3991169333457947_0.4318420886993408.jpg\n",
      "Problem with file ../raw_data/images/testing/dunes/40.62049942016601_76.60474243164063_020_CW000_-0.35581591725349426_0.7801026105880737_0.7738096117973328.jpg\n",
      "Problem with file ../raw_data/images/testing/dunes/43.167501831054686_107.035498046875_030_CW000_-0.3970525562763214_0.6987496018409729_2.124063491821289.jpg\n"
     ]
    },
    {
     "name": "stderr",
     "output_type": "stream",
     "text": [
      " 30%|███       | 996/3313 [00:43<01:49, 21.16it/s]"
     ]
    },
    {
     "name": "stdout",
     "output_type": "stream",
     "text": [
      "Problem with file ../raw_data/images/testing/dunes/20.671500778198244_33.98266830444336_00_CW000_-0.8601608872413635_-0.17921343445777893_3.368201971054077.jpg\n",
      "Problem with file ../raw_data/images/testing/dunes/31.64949951171875_62.00780258178711_03_CW000_-0.8776283264160156_0.294670969247818_4.190341949462891.jpg\n",
      "Problem with file ../raw_data/images/testing/dunes/43.22350082397461_100.57864990234376_00_CW000_-0.27993252873420715_0.819489061832428_2.0724124908447266.jpg\n",
      "Problem with file ../raw_data/images/testing/dunes/20.566500091552733_16.43559913635254_031_CW000_-0.3417208790779114_0.19860801100730896_0.592272937297821.jpg\n",
      "Problem with file ../raw_data/images/testing/dunes/38.61049957275391_95.81149749755859_011_CW000_0.23360179364681244_0.7051487565040588_1.2659376859664917.jpg\n"
     ]
    },
    {
     "name": "stderr",
     "output_type": "stream",
     "text": [
      "\r",
      " 30%|███       | 999/3313 [00:43<01:48, 21.30it/s]"
     ]
    },
    {
     "name": "stdout",
     "output_type": "stream",
     "text": [
      "Problem with file ../raw_data/images/testing/dunes/38.33550033569336_95.81149749755859_01_CW000_-0.056062035262584686_0.863220751285553_1.2079259157180786.jpg\n",
      "Problem with file ../raw_data/images/testing/dunes/25.882500839233398_40.826795959472655_010_CW000_0.09459779411554337_0.09554686397314072_1.3553014993667603.jpg\n",
      "Problem with file ../raw_data/images/testing/dunes/20.466499710083006_16.36054916381836_032_CW000_-0.16095563769340515_0.17761968076229095_0.5812479257583618.jpg\n",
      "Problem with file ../raw_data/images/testing/dunes/43.317500305175784_107.3356689453125_010_CW000_-0.3866487741470337_0.7184271216392517_2.1307601928710938.jpg\n",
      "Problem with file ../raw_data/images/testing/dunes/45.391500091552736_70.72880706787109_03_CW000_-0.16840766370296478_-0.6913437843322754_1.9870202541351318.jpg\n"
     ]
    },
    {
     "name": "stderr",
     "output_type": "stream",
     "text": [
      "\r",
      " 30%|███       | 1002/3313 [00:43<01:50, 20.86it/s]"
     ]
    },
    {
     "name": "stdout",
     "output_type": "stream",
     "text": [
      "Problem with file ../raw_data/images/testing/dunes/28.60550003051758_16.856625747680663_022_CW000_-0.3723045289516449_-0.2951122522354126_1.8755706548690796.jpg\n",
      "Problem with file ../raw_data/images/testing/dunes/25.882500839233398_40.40149841308594_013_CW000_0.17513146996498108_0.4229266345500946_1.556725263595581.jpg\n",
      "Problem with file ../raw_data/images/testing/dunes/44.86950149536133_109.70608673095703_033_CW000_-0.32086411118507385_0.6356228590011597_1.6110759973526.jpg\n"
     ]
    },
    {
     "name": "stderr",
     "output_type": "stream",
     "text": [
      " 30%|███       | 1007/3313 [00:43<02:09, 17.84it/s]"
     ]
    },
    {
     "name": "stdout",
     "output_type": "stream",
     "text": [
      "Problem with file ../raw_data/images/testing/dunes/44.41950149536133_109.58099670410157_012_CW000_-0.4494197368621826_0.595008909702301_1.5383142232894897.jpg\n",
      "Problem with file ../raw_data/images/testing/dunes/20.441499328613283_16.26049919128418_02_CW000_0.17970147728919983_0.17535635828971863_0.5946692228317261.jpg\n",
      "Problem with file ../raw_data/images/testing/dunes/15.35250015258789_49.432498168945315_012_CW000_0.4904870092868805_-0.5652287006378174_1.6804332733154297.jpg\n",
      "Problem with file ../raw_data/images/testing/dunes/42.97350006103515_100.6786865234375_020_CW000_-0.5689179301261902_0.6382215023040771_2.085033416748047.jpg\n"
     ]
    },
    {
     "name": "stderr",
     "output_type": "stream",
     "text": [
      " 31%|███       | 1011/3313 [00:43<02:13, 17.23it/s]"
     ]
    },
    {
     "name": "stdout",
     "output_type": "stream",
     "text": [
      "Problem with file ../raw_data/images/testing/dunes/32.71349945068359_63.82570190429688_032_CW000_-0.5201670527458191_0.20122765004634857_0.7504945397377014.jpg\n",
      "Problem with file ../raw_data/images/testing/dunes/42.96750106811523_107.3606689453125_031_CW000_-0.21536904573440552_0.7283552289009094_1.9757072925567627.jpg\n",
      "Problem with file ../raw_data/images/testing/dunes/33.388501739501955_64.20090179443359_01_CW000_-0.19145871698856354_-0.3099783658981323_0.959148108959198.jpg\n",
      "Problem with file ../raw_data/images/testing/dunes/43.17350082397461_100.77872314453126_020_CW000_-0.24657216668128967_0.8413830399513245_2.2217018604278564.jpg\n"
     ]
    },
    {
     "name": "stderr",
     "output_type": "stream",
     "text": [
      " 31%|███       | 1017/3313 [00:44<01:57, 19.49it/s]"
     ]
    },
    {
     "name": "stdout",
     "output_type": "stream",
     "text": [
      "Problem with file ../raw_data/images/testing/dunes/15.057500457763672_47.90749893188477_03_CW000_0.5708051919937134_-0.29849594831466675_2.2737481594085693.jpg\n",
      "Problem with file ../raw_data/images/testing/dunes/20.91649932861328_16.48559913635254_013_CW000_-0.5094184875488281_-0.31974539160728455_0.6648147106170654.jpg\n",
      "Problem with file ../raw_data/images/testing/dunes/21.016499710083007_16.28549919128418_013_CW000_-0.2041156142950058_-0.7232433557510376_0.9618509411811829.jpg\n",
      "Problem with file ../raw_data/images/testing/dunes/38.11049957275391_95.86149749755859_013_CW000_-0.38617706298828125_0.8664689064025879_1.3352460861206055.jpg\n",
      "Problem with file ../raw_data/images/testing/dunes/19.617499923706056_34.06699905395508_03_CW000_-0.8135537505149841_-0.13925354182720184_3.5280017852783203.jpg\n"
     ]
    },
    {
     "name": "stderr",
     "output_type": "stream",
     "text": [
      "\r",
      " 31%|███       | 1020/3313 [00:44<01:52, 20.30it/s]"
     ]
    },
    {
     "name": "stdout",
     "output_type": "stream",
     "text": [
      "Problem with file ../raw_data/images/testing/dunes/25.212500762939452_27.197499084472657_011_CW000_-0.9400894641876221_0.09694861620664597_2.5903196334838867.jpg\n",
      "Problem with file ../raw_data/images/testing/dunes/33.6885009765625_64.00079803466797_01_CW000_-0.5101184844970703_-0.3115123510360718_1.1709128618240356.jpg\n",
      "Problem with file ../raw_data/images/testing/dunes/40.595499420166014_76.8548080444336_032_CW000_-0.6970863938331604_0.6420078277587891_1.0369129180908203.jpg\n",
      "Problem with file ../raw_data/images/testing/dunes/45.06650085449219_70.35357513427735_010_CW000_-0.16307860612869263_-0.66282719373703_1.8930944204330444.jpg\n",
      "Problem with file ../raw_data/images/testing/dunes/42.99850006103516_101.0788330078125_010_CW000_-0.48369863629341125_0.6125851273536682_1.6593947410583496.jpg\n"
     ]
    },
    {
     "name": "stderr",
     "output_type": "stream",
     "text": [
      " 31%|███       | 1026/3313 [00:44<01:45, 21.67it/s]"
     ]
    },
    {
     "name": "stdout",
     "output_type": "stream",
     "text": [
      "Problem with file ../raw_data/images/testing/dunes/44.99149856567383_70.47865753173828_01_CW000_-0.1376751959323883_-0.6498137712478638_1.8721716403961182.jpg\n",
      "Problem with file ../raw_data/images/testing/dunes/20.41649932861328_16.710749053955077_010_CW000_-0.6116777062416077_0.035889215767383575_0.648766815662384.jpg\n",
      "Problem with file ../raw_data/images/testing/dunes/26.207500076293947_40.601617431640626_03_CW000_0.06576713919639587_0.2708597183227539_1.3499454259872437.jpg\n",
      "Problem with file ../raw_data/images/testing/dunes/44.76949920654297_109.38083190917969_032_CW000_-0.33580848574638367_0.6632636785507202_1.8371663093566895.jpg\n",
      "Problem with file ../raw_data/images/testing/dunes/41.57050094604492_76.55470581054688_02_CW000_0.6960700750350952_0.052124351263046265_0.9985663890838623.jpg\n"
     ]
    },
    {
     "name": "stderr",
     "output_type": "stream",
     "text": [
      " 31%|███       | 1032/3313 [00:44<01:43, 22.05it/s]"
     ]
    },
    {
     "name": "stdout",
     "output_type": "stream",
     "text": [
      "Problem with file ../raw_data/images/testing/dunes/31.57849998474121_56.88063201904297_013_CW000_-0.3753592371940613_0.6780613660812378_1.0144665241241455.jpg\n",
      "Problem with file ../raw_data/images/testing/dunes/31.39950065612793_61.457585144042966_021_CW000_-0.9479904174804688_0.27951526641845703_5.437341690063477.jpg\n",
      "Problem with file ../raw_data/images/testing/dunes/33.6385009765625_63.40049819946289_021_CW000_-0.5556339025497437_-0.1510927677154541_1.0892993211746216.jpg\n",
      "Problem with file ../raw_data/images/testing/dunes/38.035501098632814_96.261865234375_03_CW000_-0.4190104901790619_0.8281781077384949_1.3005887269973755.jpg\n",
      "Problem with file ../raw_data/images/testing/dunes/21.091500091552735_16.710749053955077_020_CW000_-0.6809753775596619_-0.17973986268043518_0.9162723422050476.jpg\n"
     ]
    },
    {
     "name": "stderr",
     "output_type": "stream",
     "text": [
      "\r",
      " 31%|███       | 1035/3313 [00:45<01:42, 22.27it/s]"
     ]
    },
    {
     "name": "stdout",
     "output_type": "stream",
     "text": [
      "Problem with file ../raw_data/images/testing/dunes/38.11049957275391_96.66222534179687_013_CW000_-0.1671878695487976_0.8904272317886353_1.733194351196289.jpg\n",
      "Problem with file ../raw_data/images/testing/dunes/38.0854995727539_96.06168518066406_023_CW000_-0.407829612493515_0.8472695350646973_1.3741267919540405.jpg\n",
      "Problem with file ../raw_data/images/testing/dunes/21.066500091552733_16.710749053955077_030_CW000_-0.6809753775596619_-0.17973986268043518_0.9162723422050476.jpg\n",
      "Problem with file ../raw_data/images/testing/dunes/31.20350036621094_57.45603485107422_02_CW000_-0.750908613204956_0.586715817451477_1.4864286184310913.jpg\n",
      "Problem with file ../raw_data/images/testing/dunes/22.292500686645507_51.14749984741211_011_CW000_-0.7454290390014648_-0.4919027090072632_1.9740097522735596.jpg\n"
     ]
    },
    {
     "name": "stderr",
     "output_type": "stream",
     "text": [
      " 31%|███▏      | 1041/3313 [00:45<01:38, 23.04it/s]"
     ]
    },
    {
     "name": "stdout",
     "output_type": "stream",
     "text": [
      "Problem with file ../raw_data/images/testing/dunes/31.303500747680665_56.65550155639649_02_CW000_-0.13622033596038818_0.40587693452835083_1.153578281402588.jpg\n",
      "Problem with file ../raw_data/images/testing/dunes/43.592499542236325_107.78589172363282_022_CW000_-0.5074372291564941_0.603607714176178_1.8269751071929932.jpg\n",
      "Problem with file ../raw_data/images/testing/dunes/25.612500381469726_27.247499084472658_013_CW000_-0.9265093207359314_0.09962987899780273_2.4819040298461914.jpg\n",
      "Problem with file ../raw_data/images/testing/dunes/20.846499633789062_34.28291549682617_010_CW000_-0.7865186929702759_-0.31928643584251404_3.4195661544799805.jpg\n",
      "Problem with file ../raw_data/images/testing/dunes/41.34550018310547_76.27960357666015_013_CW000_0.28683432936668396_-0.2100602388381958_0.8476980328559875.jpg\n"
     ]
    },
    {
     "name": "stderr",
     "output_type": "stream",
     "text": [
      " 32%|███▏      | 1047/3313 [00:45<01:38, 22.99it/s]"
     ]
    },
    {
     "name": "stdout",
     "output_type": "stream",
     "text": [
      "Problem with file ../raw_data/images/testing/dunes/28.580500030517577_17.207125091552733_030_CW000_-0.4103155732154846_-0.289995402097702_1.8249518871307373.jpg\n",
      "Problem with file ../raw_data/images/testing/dunes/31.7745002746582_61.58262939453125_032_CW000_-0.9199698567390442_0.298672080039978_5.391808986663818.jpg\n",
      "Problem with file ../raw_data/images/testing/dunes/44.61949844360352_109.60599670410156_013_CW000_-0.4599796533584595_0.6089715957641602_1.6961402893066406.jpg\n",
      "Problem with file ../raw_data/images/testing/dunes/15.227499771118165_49.682501220703124_020_CW000_0.5339168310165405_-0.5314602851867676_1.2582452297210693.jpg\n",
      "Problem with file ../raw_data/images/testing/dunes/31.678500366210937_57.10583343505859_010_CW000_-0.6969375610351562_0.6152050495147705_1.4064199924468994.jpg\n"
     ]
    },
    {
     "name": "stderr",
     "output_type": "stream",
     "text": [
      "\r",
      " 32%|███▏      | 1050/3313 [00:45<01:38, 22.95it/s]"
     ]
    },
    {
     "name": "stdout",
     "output_type": "stream",
     "text": [
      "Problem with file ../raw_data/images/testing/dunes/21.091500091552735_16.73574905395508_021_CW000_-0.6809753775596619_-0.17973986268043518_0.9162723422050476.jpg\n",
      "Problem with file ../raw_data/images/testing/dunes/19.562500381469725_45.79249877929688_032_CW000_0.06046648696064949_-0.7297626733779907_2.2194604873657227.jpg\n",
      "Problem with file ../raw_data/images/testing/dunes/32.04950103759766_61.70767364501953_03_CW000_-0.8953281044960022_0.28921231627464294_4.824737071990967.jpg\n",
      "Problem with file ../raw_data/images/testing/dunes/40.970498657226564_75.92950134277343_01_CW000_0.6268746256828308_0.3569623827934265_1.1614198684692383.jpg\n",
      "Problem with file ../raw_data/images/testing/dunes/33.58849868774414_64.00079803466797_01_CW000_-0.5082791447639465_-0.3906800448894501_1.070723533630371.jpg\n"
     ]
    },
    {
     "name": "stderr",
     "output_type": "stream",
     "text": [
      " 32%|███▏      | 1056/3313 [00:45<01:37, 23.14it/s]"
     ]
    },
    {
     "name": "stdout",
     "output_type": "stream",
     "text": [
      "Problem with file ../raw_data/images/testing/dunes/45.516500854492186_70.27850036621093_031_CW000_-0.14054307341575623_-0.6582027077674866_1.8720004558563232.jpg\n",
      "Problem with file ../raw_data/images/testing/dunes/14.582499885559082_48.182498168945315_032_CW000_0.7591392397880554_-0.15973423421382904_1.0777760744094849.jpg\n",
      "Problem with file ../raw_data/images/testing/dunes/40.62049942016601_76.02953796386718_021_CW000_0.3640296459197998_0.7231192588806152_1.1394288539886475.jpg\n",
      "Problem with file ../raw_data/images/testing/dunes/19.742500686645506_33.6916259765625_030_CW000_-0.8796985745429993_-0.10158123075962067_3.8012449741363525.jpg\n",
      "Problem with file ../raw_data/images/testing/dunes/45.11649932861328_70.8288818359375_033_CW000_-0.1928340345621109_-0.6832738518714905_1.9524868726730347.jpg\n"
     ]
    },
    {
     "name": "stderr",
     "output_type": "stream",
     "text": [
      " 32%|███▏      | 1062/3313 [00:46<01:41, 22.26it/s]"
     ]
    },
    {
     "name": "stdout",
     "output_type": "stream",
     "text": [
      "Problem with file ../raw_data/images/testing/dunes/41.14549942016602_76.62974243164062_011_CW000_0.44775301218032837_-0.025391191244125366_0.7543943524360657.jpg\n",
      "Problem with file ../raw_data/images/testing/dunes/34.018498229980466_56.186833190917966_021_CW000_-0.46110016107559204_-0.4645468294620514_1.73538339138031.jpg\n",
      "Problem with file ../raw_data/images/testing/dunes/21.091500091552735_17.13595085144043_021_CW000_-0.5856184363365173_-0.18860609829425812_0.8822872042655945.jpg\n",
      "Problem with file ../raw_data/images/testing/dunes/40.595499420166014_76.42966918945312_031_CW000_0.10334809124469757_0.7213232517242432_0.7636888027191162.jpg\n",
      "Problem with file ../raw_data/images/testing/dunes/34.06849822998047_55.88670806884765_01_CW000_-0.6936283707618713_-0.2808060348033905_1.9442325830459595.jpg\n"
     ]
    },
    {
     "name": "stderr",
     "output_type": "stream",
     "text": [
      "\r",
      " 32%|███▏      | 1065/3313 [00:46<01:39, 22.59it/s]"
     ]
    },
    {
     "name": "stdout",
     "output_type": "stream",
     "text": [
      "Problem with file ../raw_data/images/testing/dunes/38.11049957275391_95.93658752441407_012_CW000_-0.40668028593063354_0.8547045588493347_1.372118353843689.jpg\n",
      "Problem with file ../raw_data/images/testing/dunes/45.46649856567383_70.5537322998047_010_CW000_-0.1444755345582962_-0.6879974603652954_1.9807779788970947.jpg\n",
      "Problem with file ../raw_data/images/testing/dunes/20.99149971008301_16.28549919128418_023_CW000_-0.2041156142950058_-0.7232433557510376_0.9618509411811829.jpg\n",
      "Problem with file ../raw_data/images/testing/dunes/31.37450065612793_62.08284683227539_032_CW000_-0.8582533001899719_0.34897834062576294_3.7229902744293213.jpg\n",
      "Problem with file ../raw_data/images/testing/dunes/20.97150001525879_34.00766830444336_01_CW000_-0.86432284116745_-0.1870267689228058_3.4366543292999268.jpg\n"
     ]
    },
    {
     "name": "stderr",
     "output_type": "stream",
     "text": [
      " 32%|███▏      | 1071/3313 [00:46<01:37, 22.90it/s]"
     ]
    },
    {
     "name": "stdout",
     "output_type": "stream",
     "text": [
      "Problem with file ../raw_data/images/testing/dunes/33.58849868774414_63.80070190429687_01_CW000_-0.6696593761444092_-0.17544731497764587_0.9920624494552612.jpg\n",
      "Problem with file ../raw_data/images/testing/dunes/19.062500381469725_45.79249877929688_032_CW000_-0.007287662010639906_-0.7349624037742615_2.2574334144592285.jpg\n",
      "Problem with file ../raw_data/images/testing/dunes/38.0854995727539_96.5621353149414_023_CW000_-0.1852608323097229_0.8832283020019531_1.593317985534668.jpg\n",
      "Problem with file ../raw_data/images/testing/dunes/33.438500213623044_63.80070190429687_021_CW000_-0.5527076721191406_-0.28333184123039246_0.8531238436698914.jpg\n",
      "Problem with file ../raw_data/images/testing/dunes/40.545500946044925_76.45466918945313_012_CW000_-0.28530389070510864_0.7889005541801453_0.8629425168037415.jpg\n"
     ]
    },
    {
     "name": "stderr",
     "output_type": "stream",
     "text": [
      " 33%|███▎      | 1077/3313 [00:46<01:46, 21.06it/s]"
     ]
    },
    {
     "name": "stdout",
     "output_type": "stream",
     "text": [
      "Problem with file ../raw_data/images/testing/dunes/40.39549865722656_75.92950134277343_031_CW000_-0.3491290509700775_0.7781546115875244_1.082564115524292.jpg\n",
      "Problem with file ../raw_data/images/testing/dunes/22.067499923706055_49.32250061035156_020_CW000_-0.5730376243591309_-0.6733039021492004_1.9815832376480103.jpg\n",
      "Problem with file ../raw_data/images/testing/dunes/28.955499267578126_17.00687446594238_00_CW000_-0.4540223777294159_-0.25677013397216797_1.8461145162582397.jpg\n",
      "Problem with file ../raw_data/images/testing/dunes/44.31949920654297_109.70608673095703_013_CW000_-0.2641898989677429_0.6325899958610535_1.3895773887634277.jpg\n",
      "Problem with file ../raw_data/images/testing/dunes/43.14249954223633_107.63583221435547_00_CW000_-0.09514021873474121_0.7583049535751343_1.9841558933258057.jpg\n"
     ]
    },
    {
     "name": "stderr",
     "output_type": "stream",
     "text": [
      "\r",
      " 33%|███▎      | 1080/3313 [00:47<01:42, 21.83it/s]"
     ]
    },
    {
     "name": "stdout",
     "output_type": "stream",
     "text": [
      "Problem with file ../raw_data/images/testing/dunes/42.798499298095706_100.7286865234375_012_CW000_-0.7328791618347168_0.36043301224708557_1.7636442184448242.jpg\n",
      "Problem with file ../raw_data/images/testing/dunes/31.603499984741212_56.680501556396486_03_CW000_-0.2770393192768097_0.5647757649421692_1.0589823722839355.jpg\n",
      "Problem with file ../raw_data/images/testing/dunes/40.970498657226564_76.97984466552734_03_CW000_-0.45483413338661194_0.18503020703792572_0.520279049873352.jpg\n",
      "Problem with file ../raw_data/images/testing/dunes/26.257500457763673_40.45155792236328_021_CW000_0.10226726531982422_0.31261441111564636_1.3945128917694092.jpg\n",
      "Problem with file ../raw_data/images/testing/dunes/28.680500411987303_16.981750106811525_033_CW000_-0.3803493082523346_-0.2937868535518646_1.8581100702285767.jpg\n"
     ]
    },
    {
     "name": "stderr",
     "output_type": "stream",
     "text": [
      " 33%|███▎      | 1086/3313 [00:47<01:38, 22.52it/s]"
     ]
    },
    {
     "name": "stdout",
     "output_type": "stream",
     "text": [
      "Problem with file ../raw_data/images/testing/dunes/31.39950065612793_61.65767364501953_021_CW000_-0.9260085225105286_0.30318284034729004_4.836687088012695.jpg\n",
      "Problem with file ../raw_data/images/testing/dunes/15.702499771118164_49.90749816894531_031_CW000_0.23317432403564453_-0.6723043322563171_1.5492827892303467.jpg\n",
      "Problem with file ../raw_data/images/testing/dunes/33.81850128173828_55.71162338256836_022_CW000_-0.8179576992988586_0.06272365152835846_1.8955152034759521.jpg\n",
      "Problem with file ../raw_data/images/testing/dunes/20.0375_45.51749954223633_03_CW000_0.07535156607627869_-0.7181721329689026_2.158968925476074.jpg\n",
      "Problem with file ../raw_data/images/testing/dunes/33.6635009765625_64.32595367431641_012_CW000_-0.31477949023246765_-0.3192647695541382_1.1632159948349.jpg\n"
     ]
    },
    {
     "name": "stderr",
     "output_type": "stream",
     "text": [
      " 33%|███▎      | 1092/3313 [00:47<01:37, 22.81it/s]"
     ]
    },
    {
     "name": "stdout",
     "output_type": "stream",
     "text": [
      "Problem with file ../raw_data/images/testing/dunes/25.93249931335449_40.72673645019531_030_CW000_0.047021012753248215_0.1396743208169937_1.3254503011703491.jpg\n",
      "Problem with file ../raw_data/images/testing/dunes/20.641500091552736_17.18595085144043_03_CW000_-0.48802709579467773_0.4733189046382904_0.5603674650192261.jpg\n",
      "Problem with file ../raw_data/images/testing/dunes/14.732500267028808_48.30750045776367_013_CW000_0.5697365403175354_-0.24281641840934753_1.2468816041946411.jpg\n",
      "Problem with file ../raw_data/images/testing/dunes/31.324500274658202_61.93280258178711_010_CW000_-0.8739580512046814_0.38215383887290955_3.827754259109497.jpg\n",
      "Problem with file ../raw_data/images/testing/dunes/31.453499603271485_57.30596771240234_020_CW000_-0.8061213493347168_0.5177724957466125_1.5697107315063477.jpg\n"
     ]
    },
    {
     "name": "stderr",
     "output_type": "stream",
     "text": [
      "\r",
      " 33%|███▎      | 1095/3313 [00:47<01:36, 22.94it/s]"
     ]
    },
    {
     "name": "stdout",
     "output_type": "stream",
     "text": [
      "Problem with file ../raw_data/images/testing/dunes/33.48850021362305_63.65059814453125_03_CW000_-0.8236797451972961_-0.12355146557092667_0.9487302899360657.jpg\n",
      "Problem with file ../raw_data/images/testing/dunes/33.438500213623044_63.57559814453125_020_CW000_-0.8236797451972961_-0.12355146557092667_0.9487302899360657.jpg\n",
      "Problem with file ../raw_data/images/testing/dunes/28.805500793457032_17.00687446594238_020_CW000_-0.4138762950897217_-0.27483323216438293_1.839026927947998.jpg\n",
      "Problem with file ../raw_data/images/testing/dunes/38.060499572753905_96.61222534179687_031_CW000_-0.1671878695487976_0.8904272317886353_1.733194351196289.jpg\n",
      "Problem with file ../raw_data/images/testing/dunes/42.84850158691406_101.17886962890626_030_CW000_-0.5839303731918335_0.4209716022014618_1.3743618726730347.jpg\n"
     ]
    },
    {
     "name": "stderr",
     "output_type": "stream",
     "text": [
      " 33%|███▎      | 1101/3313 [00:47<01:43, 21.47it/s]"
     ]
    },
    {
     "name": "stdout",
     "output_type": "stream",
     "text": [
      "Problem with file ../raw_data/images/testing/dunes/42.84850158691406_100.77872314453126_030_CW000_-0.653212308883667_0.5031079053878784_1.8249260187149048.jpg\n",
      "Problem with file ../raw_data/images/testing/dunes/26.28250045776367_40.55161743164062_011_CW000_0.04593879356980324_0.23208189010620117_1.3299119472503662.jpg\n",
      "Problem with file ../raw_data/images/testing/dunes/45.441498565673825_70.37857513427734_021_CW000_-0.14625826478004456_-0.6748873591423035_1.9417333602905273.jpg\n",
      "Problem with file ../raw_data/images/testing/dunes/42.923501586914064_100.37857666015626_00_CW000_-0.7145716547966003_0.401710569858551_1.8731719255447388.jpg\n"
     ]
    },
    {
     "name": "stderr",
     "output_type": "stream",
     "text": [
      "\r",
      " 33%|███▎      | 1104/3313 [00:48<01:40, 21.89it/s]"
     ]
    },
    {
     "name": "stdout",
     "output_type": "stream",
     "text": [
      "Problem with file ../raw_data/images/testing/dunes/45.541500854492185_70.62873229980468_023_CW000_-0.13166145980358124_-0.6816415190696716_1.943590521812439.jpg\n",
      "Problem with file ../raw_data/images/testing/dunes/31.603499984741212_57.28090057373047_03_CW000_-0.7503873705863953_0.5718626976013184_1.521544337272644.jpg\n",
      "Problem with file ../raw_data/images/testing/dunes/33.66850051879883_55.43649826049805_03_CW000_-0.8136365413665771_0.2233174443244934_1.6946970224380493.jpg\n",
      "Problem with file ../raw_data/images/testing/dunes/33.438500213623044_63.90074996948242_021_CW000_-0.4704642593860626_-0.39948728680610657_0.9088390469551086.jpg\n",
      "Problem with file ../raw_data/images/testing/dunes/19.667500305175782_33.916874694824216_021_CW000_-0.8389399647712708_-0.1340692639350891_3.5958170890808105.jpg\n"
     ]
    },
    {
     "name": "stderr",
     "output_type": "stream",
     "text": [
      " 34%|███▎      | 1110/3313 [00:48<01:37, 22.49it/s]"
     ]
    },
    {
     "name": "stdout",
     "output_type": "stream",
     "text": [
      "Problem with file ../raw_data/images/testing/dunes/15.007500457763673_48.03249969482422_020_CW000_0.5406758785247803_-0.2509938180446625_2.1969501972198486.jpg\n",
      "Problem with file ../raw_data/images/testing/dunes/41.39549865722656_76.92984466552734_031_CW000_0.6769541501998901_0.02883663959801197_0.9926735758781433.jpg\n",
      "Problem with file ../raw_data/images/testing/dunes/15.35250015258789_49.48250045776367_010_CW000_0.4600646197795868_-0.5812029242515564_1.5211749076843262.jpg\n",
      "Problem with file ../raw_data/images/testing/dunes/14.80749969482422_48.23250045776367_020_CW000_0.5260545015335083_-0.2561887502670288_1.52852463722229.jpg\n",
      "Problem with file ../raw_data/images/testing/dunes/44.941498565673825_70.8038818359375_022_CW000_-0.1807394027709961_-0.6585723161697388_1.8677932024002075.jpg\n"
     ]
    },
    {
     "name": "stderr",
     "output_type": "stream",
     "text": [
      " 34%|███▎      | 1116/3313 [00:48<01:41, 21.69it/s]"
     ]
    },
    {
     "name": "stdout",
     "output_type": "stream",
     "text": [
      "Problem with file ../raw_data/images/testing/dunes/26.28250045776367_40.75173645019531_011_CW000_-0.08852653950452805_-0.008082548156380653_1.2819433212280273.jpg\n",
      "Problem with file ../raw_data/images/testing/dunes/40.87050018310547_76.65474243164063_02_CW000_0.38307061791419983_0.46937716007232666_0.6629950404167175.jpg\n",
      "Problem with file ../raw_data/images/testing/dunes/19.8924991607666_33.84175033569336_012_CW000_-0.8738033175468445_-0.11709754168987274_3.705632209777832.jpg\n",
      "Problem with file ../raw_data/images/testing/dunes/44.99149856567383_70.45365753173829_00_CW000_-0.1376751959323883_-0.6498137712478638_1.8721716403961182.jpg\n",
      "Problem with file ../raw_data/images/testing/dunes/33.1885009765625_63.90074996948242_01_CW000_-0.09983144700527191_-0.3061773478984833_0.8082009553909302.jpg\n"
     ]
    },
    {
     "name": "stderr",
     "output_type": "stream",
     "text": [
      "\r",
      " 34%|███▍      | 1119/3313 [00:48<01:41, 21.71it/s]"
     ]
    },
    {
     "name": "stdout",
     "output_type": "stream",
     "text": [
      "Problem with file ../raw_data/images/testing/dunes/40.595499420166014_76.1795669555664_033_CW000_0.3316066563129425_0.6997290253639221_0.9764223098754883.jpg\n",
      "Problem with file ../raw_data/images/testing/dunes/43.24250183105469_107.28560943603516_02_CW000_-0.36938050389289856_0.7169845700263977_2.117690086364746.jpg\n",
      "Problem with file ../raw_data/images/testing/dunes/28.78050079345703_17.157000732421874_032_CW000_-0.42570146918296814_-0.2627851665019989_1.8101716041564941.jpg\n",
      "Problem with file ../raw_data/images/testing/dunes/33.66850051879883_55.861708068847655_00_CW000_-0.39061716198921204_-0.23013412952423096_1.3637804985046387.jpg\n",
      "Problem with file ../raw_data/images/testing/dunes/31.39950065612793_62.08284683227539_022_CW000_-0.8582533001899719_0.34897834062576294_3.7229902744293213.jpg\n"
     ]
    },
    {
     "name": "stderr",
     "output_type": "stream",
     "text": [
      " 34%|███▍      | 1125/3313 [00:49<01:43, 21.22it/s]"
     ]
    },
    {
     "name": "stdout",
     "output_type": "stream",
     "text": [
      "Problem with file ../raw_data/images/testing/dunes/15.552499961853027_49.78249969482422_010_CW000_0.36454153060913086_-0.5959151387214661_1.577105164527893.jpg\n",
      "Problem with file ../raw_data/images/testing/dunes/33.2634994506836_63.87574996948242_010_CW000_-0.029654886573553085_-0.4541453421115875_0.8775291442871094.jpg\n",
      "Problem with file ../raw_data/images/testing/dunes/31.753500747680665_57.180833435058595_023_CW000_-0.7081820964813232_0.5840337872505188_1.5030890703201294.jpg\n",
      "Problem with file ../raw_data/images/testing/dunes/43.49250106811523_107.23560943603516_020_CW000_-0.5092216730117798_0.6801055073738098_2.268923044204712.jpg\n",
      "Problem with file ../raw_data/images/testing/dunes/20.91649932861328_17.13595085144043_011_CW000_-0.5473282337188721_-0.015356907621026039_0.7793093919754028.jpg\n"
     ]
    },
    {
     "name": "stderr",
     "output_type": "stream",
     "text": [
      " 34%|███▍      | 1131/3313 [00:49<01:40, 21.65it/s]"
     ]
    },
    {
     "name": "stdout",
     "output_type": "stream",
     "text": [
      "Problem with file ../raw_data/images/testing/dunes/43.26750030517578_107.4106689453125_033_CW000_-0.3866487741470337_0.7184271216392517_2.1307601928710938.jpg\n",
      "Problem with file ../raw_data/images/testing/dunes/29.230500411987304_16.956750106811523_012_CW000_-0.5096351504325867_-0.20398612320423126_1.9245661497116089.jpg\n",
      "Problem with file ../raw_data/images/testing/dunes/31.603499984741212_57.431034851074216_01_CW000_-0.89073646068573_0.3505879342556_1.7888357639312744.jpg\n",
      "Problem with file ../raw_data/images/testing/dunes/38.28550033569336_96.43704528808594_022_CW000_0.042895276099443436_0.8825951814651489_1.6916111707687378.jpg\n",
      "Problem with file ../raw_data/images/testing/dunes/37.98550109863281_96.236865234375_022_CW000_-0.4190104901790619_0.8281781077384949_1.3005887269973755.jpg\n"
     ]
    },
    {
     "name": "stderr",
     "output_type": "stream",
     "text": [
      "\r",
      " 34%|███▍      | 1134/3313 [00:49<01:41, 21.46it/s]"
     ]
    },
    {
     "name": "stdout",
     "output_type": "stream",
     "text": [
      "Problem with file ../raw_data/images/testing/dunes/18.10749969482422_45.48250045776367_00_CW000_-0.2027721107006073_-0.7563003301620483_2.1648447513580322.jpg\n",
      "Problem with file ../raw_data/images/testing/dunes/20.816500854492187_16.26049919128418_012_CW000_-0.15044081211090088_-0.5090184807777405_0.5067636370658875.jpg\n",
      "Problem with file ../raw_data/images/testing/dunes/43.09849853515625_101.20386962890625_011_CW000_-0.285476416349411_0.7415161728858948_1.6268131732940674.jpg\n",
      "Problem with file ../raw_data/images/testing/dunes/32.96350021362305_63.550550079345705_013_CW000_-0.5657123923301697_-0.3566766083240509_0.7216888666152954.jpg\n",
      "Problem with file ../raw_data/images/testing/dunes/38.435498809814455_96.211865234375_01_CW000_0.09195462614297867_0.8640323877334595_1.5077096223831177.jpg\n"
     ]
    },
    {
     "name": "stderr",
     "output_type": "stream",
     "text": [
      " 34%|███▍      | 1140/3313 [00:49<01:40, 21.63it/s]"
     ]
    },
    {
     "name": "stdout",
     "output_type": "stream",
     "text": [
      "Problem with file ../raw_data/images/testing/dunes/43.24250183105469_107.48572082519532_02_CW000_-0.30510076880455017_0.7323349118232727_2.0478405952453613.jpg\n",
      "Problem with file ../raw_data/images/testing/dunes/21.116500091552734_16.91085090637207_010_CW000_-0.6952460408210754_-0.12563982605934143_0.8509045243263245.jpg\n",
      "Problem with file ../raw_data/images/testing/dunes/43.22350082397461_101.20386962890625_01_CW000_-0.1442180722951889_0.8279368281364441_1.8160905838012695.jpg\n",
      "Problem with file ../raw_data/images/testing/dunes/15.032500457763671_48.08249969482422_012_CW000_0.5406758785247803_-0.2509938180446625_2.1969501972198486.jpg\n",
      "Problem with file ../raw_data/images/testing/dunes/20.441499328613283_16.58564910888672_03_CW000_-0.316933810710907_0.17714694142341614_0.6688466668128967.jpg\n"
     ]
    },
    {
     "name": "stderr",
     "output_type": "stream",
     "text": [
      " 35%|███▍      | 1146/3313 [00:50<01:36, 22.34it/s]"
     ]
    },
    {
     "name": "stdout",
     "output_type": "stream",
     "text": [
      "Problem with file ../raw_data/images/testing/dunes/38.13549957275391_96.06168518066406_03_CW000_-0.407829612493515_0.8472695350646973_1.3741267919540405.jpg\n",
      "Problem with file ../raw_data/images/testing/dunes/33.86850128173828_56.06179275512695_00_CW000_-0.3420296311378479_-0.3857806622982025_1.5319945812225342.jpg\n",
      "Problem with file ../raw_data/images/testing/dunes/43.692501831054685_107.46072082519531_021_CW000_-0.5709773898124695_0.6269375681877136_2.2550153732299805.jpg\n",
      "Problem with file ../raw_data/images/testing/dunes/41.445498657226565_76.92984466552734_011_CW000_0.6769541501998901_0.02883663959801197_0.9926735758781433.jpg\n",
      "Problem with file ../raw_data/images/testing/dunes/26.3575008392334_40.57661743164063_022_CW000_0.04499298706650734_0.18263471126556396_1.3432600498199463.jpg\n"
     ]
    },
    {
     "name": "stderr",
     "output_type": "stream",
     "text": [
      "\r",
      " 35%|███▍      | 1149/3313 [00:50<01:36, 22.42it/s]"
     ]
    },
    {
     "name": "stdout",
     "output_type": "stream",
     "text": [
      "Problem with file ../raw_data/images/testing/dunes/29.10550003051758_17.182000732421876_023_CW000_-0.50916987657547_-0.1964150071144104_1.8493682146072388.jpg\n",
      "Problem with file ../raw_data/images/testing/dunes/42.52350006103516_100.47861328125_00_CW000_-0.6224517822265625_0.3512137234210968_1.4666533470153809.jpg\n",
      "Problem with file ../raw_data/images/testing/dunes/20.671500778198244_34.107750701904294_01_CW000_-0.8334205150604248_-0.22890405356884003_3.3193700313568115.jpg\n",
      "Problem with file ../raw_data/images/testing/dunes/45.516500854492186_70.7538818359375_030_CW000_-0.1364414393901825_-0.6864626407623291_1.9521132707595825.jpg\n",
      "Problem with file ../raw_data/images/testing/dunes/19.087500381469727_45.917501068115236_023_CW000_-0.026389839127659798_-0.7497044801712036_2.290433645248413.jpg\n"
     ]
    },
    {
     "name": "stderr",
     "output_type": "stream",
     "text": [
      " 35%|███▍      | 1155/3313 [00:50<01:36, 22.42it/s]"
     ]
    },
    {
     "name": "stdout",
     "output_type": "stream",
     "text": [
      "Problem with file ../raw_data/images/testing/dunes/42.99850006103516_100.57864990234376_010_CW000_-0.5945671796798706_0.6023494601249695_2.0742669105529785.jpg\n",
      "Problem with file ../raw_data/images/testing/dunes/28.347499465942384_24.622499847412108_00_CW000_-0.6779218316078186_-0.0068657854571938515_1.7628769874572754.jpg\n",
      "Problem with file ../raw_data/images/testing/dunes/31.349500274658205_61.907762145996095_03_CW000_-0.8920423984527588_0.3653720021247864_4.07539176940918.jpg\n",
      "Problem with file ../raw_data/images/testing/dunes/38.035501098632814_96.31195526123047_01_CW000_-0.38557323813438416_0.8365060091018677_1.3470016717910767.jpg\n",
      "Problem with file ../raw_data/images/testing/dunes/45.49149856567383_70.35357513427735_00_CW000_-0.14625826478004456_-0.6748873591423035_1.9417333602905273.jpg\n"
     ]
    },
    {
     "name": "stderr",
     "output_type": "stream",
     "text": [
      " 35%|███▌      | 1161/3313 [00:50<01:36, 22.36it/s]"
     ]
    },
    {
     "name": "stdout",
     "output_type": "stream",
     "text": [
      "Problem with file ../raw_data/images/testing/dunes/42.99850006103516_101.1538330078125_013_CW000_-0.48369863629341125_0.6125851273536682_1.6593947410583496.jpg\n",
      "Problem with file ../raw_data/images/testing/dunes/28.60550003051758_16.881625747680665_023_CW000_-0.3723045289516449_-0.2951122522354126_1.8755706548690796.jpg\n",
      "Problem with file ../raw_data/images/testing/dunes/26.307500457763673_40.85179595947265_01_CW000_-0.11016153544187546_-0.07586554437875748_1.2874208688735962.jpg\n",
      "Problem with file ../raw_data/images/testing/dunes/42.59849853515625_100.953759765625_013_CW000_-0.6342736482620239_0.24210113286972046_1.2769869565963745.jpg\n",
      "Problem with file ../raw_data/images/testing/dunes/28.98049964904785_17.232125091552735_031_CW000_-0.49946773052215576_-0.2143469601869583_1.7926068305969238.jpg\n"
     ]
    },
    {
     "name": "stderr",
     "output_type": "stream",
     "text": [
      "\r",
      " 35%|███▌      | 1164/3313 [00:50<01:35, 22.42it/s]"
     ]
    },
    {
     "name": "stdout",
     "output_type": "stream",
     "text": [
      "Problem with file ../raw_data/images/testing/dunes/43.042501068115236_107.110498046875_03_CW000_-0.3238201141357422_0.678856611251831_1.9719475507736206.jpg\n",
      "Problem with file ../raw_data/images/testing/dunes/38.46050109863281_96.03668518066407_032_CW000_0.16777095198631287_0.8236806988716125_1.411568284034729.jpg\n",
      "Problem with file ../raw_data/images/testing/dunes/33.6635009765625_64.10084991455078_011_CW000_-0.408455491065979_-0.33067744970321655_1.1640669107437134.jpg\n",
      "Problem with file ../raw_data/images/testing/dunes/33.86850128173828_55.58658294677734_01_CW000_-0.8350712060928345_0.10379926860332489_1.9671274423599243.jpg\n",
      "Problem with file ../raw_data/images/testing/dunes/28.905499267578126_16.931750106811524_021_CW000_-0.44581758975982666_-0.28048256039619446_1.869318962097168.jpg\n"
     ]
    },
    {
     "name": "stderr",
     "output_type": "stream",
     "text": [
      " 35%|███▌      | 1170/3313 [00:51<01:33, 22.99it/s]"
     ]
    },
    {
     "name": "stdout",
     "output_type": "stream",
     "text": [
      "Problem with file ../raw_data/images/testing/dunes/38.76849899291992_68.09266967773438_02_CW000_-0.6463066339492798_-0.027488093823194504_0.47066551446914673.jpg\n",
      "Problem with file ../raw_data/images/testing/dunes/38.76849899291992_68.39283294677735_02_CW000_-0.6213557124137878_-0.08668562769889832_0.49845486879348755.jpg\n",
      "Problem with file ../raw_data/images/testing/dunes/21.066500091552733_17.03590087890625_031_CW000_-0.6570918560028076_-0.14736638963222504_0.8686606287956238.jpg\n",
      "Problem with file ../raw_data/images/testing/dunes/26.19250030517578_22.57750015258789_011_CW000_-0.6143059730529785_-0.5490823984146118_2.09417986869812.jpg\n",
      "Problem with file ../raw_data/images/testing/dunes/44.569498443603514_109.15566711425781_031_CW000_-0.45960119366645813_0.6211330890655518_1.9466426372528076.jpg\n"
     ]
    },
    {
     "name": "stderr",
     "output_type": "stream",
     "text": [
      " 35%|███▌      | 1176/3313 [00:51<01:33, 22.86it/s]"
     ]
    },
    {
     "name": "stdout",
     "output_type": "stream",
     "text": [
      "Problem with file ../raw_data/images/testing/dunes/41.34550018310547_76.47966918945312_013_CW000_0.4738213121891022_-0.0968143492937088_0.8734332323074341.jpg\n",
      "Problem with file ../raw_data/images/testing/dunes/19.8924991607666_34.117123413085935_011_CW000_-0.8118012547492981_-0.20359788835048676_3.499728202819824.jpg\n",
      "Problem with file ../raw_data/images/testing/dunes/21.141500091552736_16.93585090637207_01_CW000_-0.6952460408210754_-0.12563982605934143_0.8509045243263245.jpg\n",
      "Problem with file ../raw_data/images/testing/dunes/42.72350082397461_101.0788330078125_00_CW000_-0.6646287441253662_0.21324422955513_1.3329226970672607.jpg\n",
      "Problem with file ../raw_data/images/testing/dunes/45.441498565673825_70.6538070678711_020_CW000_-0.15203239023685455_-0.6905085444450378_1.9832876920700073.jpg\n"
     ]
    },
    {
     "name": "stderr",
     "output_type": "stream",
     "text": [
      "\r",
      " 36%|███▌      | 1179/3313 [00:51<01:33, 22.82it/s]"
     ]
    },
    {
     "name": "stdout",
     "output_type": "stream",
     "text": [
      "Problem with file ../raw_data/images/testing/dunes/20.34150085449219_16.710749053955077_00_CW000_-0.5359694361686707_0.02194567583501339_0.6462063789367676.jpg\n",
      "Problem with file ../raw_data/images/testing/dunes/32.7634994506836_63.40049819946289_011_CW000_-0.5832479596138_-0.22287534177303314_0.8822293877601624.jpg\n",
      "Problem with file ../raw_data/images/testing/dunes/20.641500091552736_17.08590087890625_03_CW000_-0.6005749106407166_0.3735356032848358_0.5327000021934509.jpg\n",
      "Problem with file ../raw_data/images/testing/dunes/43.84250030517578_107.46072082519531_01_CW000_-0.5626519322395325_0.6359518766403198_2.296236038208008.jpg\n",
      "Problem with file ../raw_data/images/testing/dunes/38.31050033569336_96.46204528808593_013_CW000_0.042895276099443436_0.8825951814651489_1.6916111707687378.jpg\n"
     ]
    },
    {
     "name": "stderr",
     "output_type": "stream",
     "text": [
      " 36%|███▌      | 1185/3313 [00:51<01:32, 22.90it/s]"
     ]
    },
    {
     "name": "stdout",
     "output_type": "stream",
     "text": [
      "Problem with file ../raw_data/images/testing/dunes/34.06849822998047_55.91170806884766_02_CW000_-0.6936283707618713_-0.2808060348033905_1.9442325830459595.jpg\n",
      "Problem with file ../raw_data/images/testing/dunes/38.23550186157227_96.36195526123046_03_CW000_-0.07097212225198746_0.8929637670516968_1.5245940685272217.jpg\n",
      "Problem with file ../raw_data/images/testing/dunes/45.516500854492186_70.32850036621093_033_CW000_-0.14054307341575623_-0.6582027077674866_1.8720004558563232.jpg\n",
      "Problem with file ../raw_data/images/testing/dunes/42.69850082397461_100.37857666015626_010_CW000_-0.7548223733901978_0.3328409492969513_1.837989091873169.jpg\n",
      "Problem with file ../raw_data/images/testing/dunes/19.617499923706056_34.14212341308594_02_CW000_-0.7919952273368835_-0.1618201583623886_3.509389638900757.jpg\n"
     ]
    },
    {
     "name": "stderr",
     "output_type": "stream",
     "text": [
      "\r",
      " 36%|███▌      | 1188/3313 [00:51<01:34, 22.39it/s]"
     ]
    },
    {
     "name": "stdout",
     "output_type": "stream",
     "text": [
      "Problem with file ../raw_data/images/testing/dunes/20.69150047302246_16.560649108886718_022_CW000_-0.5643511414527893_0.13684606552124023_0.5955981612205505.jpg\n",
      "Problem with file ../raw_data/images/testing/dunes/43.167501831054686_107.060498046875_031_CW000_-0.3970525562763214_0.6987496018409729_2.124063491821289.jpg\n",
      "Problem with file ../raw_data/images/testing/dunes/45.31650009155273_70.67880706787109_031_CW000_-0.16840766370296478_-0.6913437843322754_1.9870202541351318.jpg\n",
      "Problem with file ../raw_data/images/testing/dunes/40.695501708984374_76.70477905273438_030_CW000_-0.2506358325481415_0.7672725915908813_0.6477415561676025.jpg\n"
     ]
    },
    {
     "name": "stderr",
     "output_type": "stream",
     "text": [
      " 36%|███▌      | 1194/3313 [00:52<01:40, 21.19it/s]"
     ]
    },
    {
     "name": "stdout",
     "output_type": "stream",
     "text": [
      "Problem with file ../raw_data/images/testing/dunes/31.70350036621094_56.63050155639648_01_CW000_-0.32447588443756104_0.6363072991371155_1.0399030447006226.jpg\n",
      "Problem with file ../raw_data/images/testing/dunes/15.652500343322753_50.05750045776367_013_CW000_0.36638081073760986_-0.5745360851287842_1.5820748805999756.jpg\n",
      "Problem with file ../raw_data/images/testing/dunes/25.90149917602539_7.901642990112305_032_CW000_-0.12161245197057724_-0.3521067798137665_1.071845293045044.jpg\n",
      "Problem with file ../raw_data/images/testing/dunes/20.69150047302246_17.08590087890625_023_CW000_-0.5626145005226135_0.3532107174396515_0.5967787504196167.jpg\n",
      "Problem with file ../raw_data/images/testing/dunes/15.302500152587891_49.957498168945314_033_CW000_0.5091120600700378_-0.4593682587146759_1.4873335361480713.jpg\n"
     ]
    },
    {
     "name": "stderr",
     "output_type": "stream",
     "text": [
      " 36%|███▌      | 1200/3313 [00:52<01:37, 21.70it/s]"
     ]
    },
    {
     "name": "stdout",
     "output_type": "stream",
     "text": [
      "Problem with file ../raw_data/images/testing/dunes/40.39549865722656_76.70477905273438_030_CW000_-0.7555796504020691_0.5836139917373657_1.2902488708496094.jpg\n",
      "Problem with file ../raw_data/images/testing/dunes/38.510501098632815_96.28695526123047_010_CW000_0.17541654407978058_0.8127560615539551_1.4691311120986938.jpg\n",
      "Problem with file ../raw_data/images/testing/dunes/31.2745002746582_61.83276214599609_030_CW000_-0.8920423984527588_0.3653720021247864_4.07539176940918.jpg\n",
      "Problem with file ../raw_data/images/testing/dunes/43.74250183105469_107.28560943603516_02_CW000_-0.566089928150177_0.6573291420936584_2.460852861404419.jpg\n",
      "Problem with file ../raw_data/images/testing/dunes/32.938500213623044_64.32595367431641_022_CW000_-0.6062071919441223_0.6115427017211914_0.759109616279602.jpg\n"
     ]
    },
    {
     "name": "stderr",
     "output_type": "stream",
     "text": [
      "\r",
      " 36%|███▋      | 1203/3313 [00:52<01:37, 21.73it/s]"
     ]
    },
    {
     "name": "stdout",
     "output_type": "stream",
     "text": [
      "Problem with file ../raw_data/images/testing/dunes/25.707500076293947_40.57661743164063_02_CW000_0.12125470489263535_0.25375744700431824_1.4787013530731201.jpg\n",
      "Problem with file ../raw_data/images/testing/dunes/43.22350082397461_100.77872314453126_00_CW000_-0.24657216668128967_0.8413830399513245_2.2217018604278564.jpg\n",
      "Problem with file ../raw_data/images/testing/dunes/33.51349868774414_63.5005500793457_031_CW000_-0.8136654496192932_-0.013480071909725666_1.0658302307128906.jpg\n",
      "Problem with file ../raw_data/images/testing/dunes/31.20350036621094_57.40603485107422_00_CW000_-0.750908613204956_0.586715817451477_1.4864286184310913.jpg\n",
      "Problem with file ../raw_data/images/testing/dunes/33.48850021362305_63.57559814453125_00_CW000_-0.8236797451972961_-0.12355146557092667_0.9487302899360657.jpg\n"
     ]
    },
    {
     "name": "stderr",
     "output_type": "stream",
     "text": [
      " 36%|███▋      | 1209/3313 [00:52<01:34, 22.16it/s]"
     ]
    },
    {
     "name": "stdout",
     "output_type": "stream",
     "text": [
      "Problem with file ../raw_data/images/testing/dunes/15.127500343322755_49.63249893188477_022_CW000_0.6250136494636536_-0.5413540005683899_1.1363763809204102.jpg\n",
      "Problem with file ../raw_data/images/testing/dunes/45.59150085449219_70.30350036621094_02_CW000_-0.14054307341575623_-0.6582027077674866_1.8720004558563232.jpg\n",
      "Problem with file ../raw_data/images/testing/dunes/33.06349868774414_63.60059814453125_011_CW000_-0.4777297079563141_-0.33530285954475403_0.6580554246902466.jpg\n",
      "Problem with file ../raw_data/images/testing/dunes/20.466499710083006_16.6856990814209_033_CW000_-0.5566275119781494_0.11900259554386139_0.6446698904037476.jpg\n",
      "Problem with file ../raw_data/images/testing/dunes/44.46949996948242_108.98050231933594_032_CW000_-0.5493270754814148_0.5796059966087341_2.085843086242676.jpg\n"
     ]
    },
    {
     "name": "stderr",
     "output_type": "stream",
     "text": [
      " 37%|███▋      | 1215/3313 [00:53<01:32, 22.71it/s]"
     ]
    },
    {
     "name": "stdout",
     "output_type": "stream",
     "text": [
      "Problem with file ../raw_data/images/testing/dunes/25.4875_27.07250061035156_020_CW000_-0.9199936985969543_0.07629037648439407_2.3992483615875244.jpg\n",
      "Problem with file ../raw_data/images/testing/dunes/43.692501831054685_107.5107208251953_023_CW000_-0.5709773898124695_0.6269375681877136_2.2550153732299805.jpg\n",
      "Problem with file ../raw_data/images/testing/dunes/31.89950065612793_61.85776214599609_021_CW000_-0.8730796575546265_0.2584809362888336_4.418321132659912.jpg\n",
      "Problem with file ../raw_data/images/testing/dunes/43.192501831054685_107.66083221435547_021_CW000_-0.19944815337657928_0.7376483678817749_1.9059548377990723.jpg\n",
      "Problem with file ../raw_data/images/testing/dunes/26.23250045776367_40.57661743164063_032_CW000_0.04593879356980324_0.23208189010620117_1.3299119472503662.jpg\n"
     ]
    },
    {
     "name": "stderr",
     "output_type": "stream",
     "text": [
      "\r",
      " 37%|███▋      | 1218/3313 [00:53<01:32, 22.69it/s]"
     ]
    },
    {
     "name": "stdout",
     "output_type": "stream",
     "text": [
      "Problem with file ../raw_data/images/testing/dunes/45.31650009155273_70.90396423339844_032_CW000_-0.18420006334781647_-0.6940234303474426_1.9933085441589355.jpg\n",
      "Problem with file ../raw_data/images/testing/dunes/43.817500305175784_107.86094360351562_011_CW000_-0.5789913535118103_0.5506714582443237_1.8655177354812622.jpg\n",
      "Problem with file ../raw_data/images/testing/dunes/28.955499267578126_17.257125091552734_02_CW000_-0.4729827046394348_-0.23391593992710114_1.785662055015564.jpg\n",
      "Problem with file ../raw_data/images/testing/dunes/28.83050079345703_17.382249450683595_013_CW000_-0.43740975856781006_-0.2662850618362427_1.7170414924621582.jpg\n",
      "Problem with file ../raw_data/images/testing/dunes/25.78250045776367_40.776736450195315_012_CW000_0.1265324503183365_0.15716145932674408_1.4407179355621338.jpg\n"
     ]
    },
    {
     "name": "stderr",
     "output_type": "stream",
     "text": [
      " 37%|███▋      | 1224/3313 [00:53<01:33, 22.26it/s]"
     ]
    },
    {
     "name": "stdout",
     "output_type": "stream",
     "text": [
      "Problem with file ../raw_data/images/testing/dunes/19.917499160766603_34.06699905395508_03_CW000_-0.8323107957839966_-0.17058706283569336_3.5404322147369385.jpg\n",
      "Problem with file ../raw_data/images/testing/dunes/38.23550186157227_96.211865234375_01_CW000_-0.10370610654354095_0.8937575817108154_1.4411046504974365.jpg\n",
      "Problem with file ../raw_data/images/testing/dunes/38.73550186157227_96.03668518066407_02_CW000_0.1569157987833023_0.7812523245811462_1.3717600107192993.jpg\n",
      "Problem with file ../raw_data/images/testing/dunes/33.413500213623045_63.40049819946289_031_CW000_-0.8435562252998352_-0.11427003145217896_1.04338538646698.jpg\n",
      "Problem with file ../raw_data/images/testing/dunes/45.24150161743164_70.27850036621093_021_CW000_-0.19073069095611572_-0.6680041551589966_1.9273992776870728.jpg\n"
     ]
    },
    {
     "name": "stderr",
     "output_type": "stream",
     "text": [
      " 37%|███▋      | 1230/3313 [00:53<01:34, 22.15it/s]"
     ]
    },
    {
     "name": "stdout",
     "output_type": "stream",
     "text": [
      "Problem with file ../raw_data/images/testing/dunes/19.96749954223633_33.81675033569336_021_CW000_-0.8782212138175964_-0.11979679018259048_3.7005937099456787.jpg\n",
      "Problem with file ../raw_data/images/testing/dunes/33.288499450683595_63.97579803466797_00_CW000_-0.02712608315050602_-0.4054909646511078_0.9594680666923523.jpg\n",
      "Problem with file ../raw_data/images/testing/dunes/44.94450149536133_109.60599670410156_03_CW000_-0.32127106189727783_0.646939218044281_1.6671531200408936.jpg\n",
      "Problem with file ../raw_data/images/testing/dunes/14.70750026702881_48.057499694824216_021_CW000_0.6427724361419678_-0.22423656284809113_1.2981243133544922.jpg\n",
      "Problem with file ../raw_data/images/testing/dunes/40.57050094604492_76.97984466552734_03_CW000_-0.777779221534729_0.5627327561378479_1.3146240711212158.jpg\n"
     ]
    },
    {
     "name": "stderr",
     "output_type": "stream",
     "text": [
      "\r",
      " 37%|███▋      | 1233/3313 [00:53<01:33, 22.23it/s]"
     ]
    },
    {
     "name": "stdout",
     "output_type": "stream",
     "text": [
      "Problem with file ../raw_data/images/testing/dunes/20.441499328613283_17.11095085144043_00_CW000_-0.28596338629722595_0.5224985480308533_0.44578996300697327.jpg\n",
      "Problem with file ../raw_data/images/testing/dunes/33.86850128173828_55.386498260498044_01_CW000_-0.8217553496360779_0.1607774943113327_1.945356011390686.jpg\n",
      "Problem with file ../raw_data/images/testing/dunes/41.67049942016602_75.92950134277343_01_CW000_0.19551150500774384_-0.18319888412952423_0.7999233603477478.jpg\n",
      "Problem with file ../raw_data/images/testing/dunes/20.816500854492187_16.33554916381836_011_CW000_-0.40184101462364197_-0.2816149890422821_0.4855424165725708.jpg\n",
      "Problem with file ../raw_data/images/testing/dunes/33.99349822998047_56.011748504638675_032_CW000_-0.47932302951812744_-0.4654006361961365_1.8566752672195435.jpg\n"
     ]
    },
    {
     "name": "stderr",
     "output_type": "stream",
     "text": [
      " 37%|███▋      | 1239/3313 [00:54<01:32, 22.50it/s]"
     ]
    },
    {
     "name": "stdout",
     "output_type": "stream",
     "text": [
      "Problem with file ../raw_data/images/testing/dunes/42.448500061035155_100.3035400390625_031_CW000_-0.6728621125221252_0.3687357008457184_1.6322270631790161.jpg\n",
      "Problem with file ../raw_data/images/testing/dunes/26.187500762939454_26.047499465942384_021_CW000_-0.7708818912506104_-0.17955932021141052_1.7763007879257202.jpg\n",
      "Problem with file ../raw_data/images/testing/dunes/21.171500778198244_34.107750701904294_01_CW000_-0.8437021374702454_-0.23805595934391022_3.461379289627075.jpg\n",
      "Problem with file ../raw_data/images/testing/dunes/33.79350128173828_56.03674850463867_033_CW000_-0.34272050857543945_-0.3985860049724579_1.5948807001113892.jpg\n",
      "Problem with file ../raw_data/images/testing/dunes/26.332500839233397_41.001851654052736_033_CW000_-0.12236502021551132_-0.17557546496391296_1.3277456760406494.jpg\n"
     ]
    },
    {
     "name": "stderr",
     "output_type": "stream",
     "text": [
      " 38%|███▊      | 1245/3313 [00:54<01:31, 22.65it/s]"
     ]
    },
    {
     "name": "stdout",
     "output_type": "stream",
     "text": [
      "Problem with file ../raw_data/images/testing/dunes/33.03849868774414_63.62559814453125_022_CW000_-0.4777297079563141_-0.33530285954475403_0.6580554246902466.jpg\n",
      "Problem with file ../raw_data/images/testing/dunes/42.49850006103516_100.55361328125_013_CW000_-0.6224517822265625_0.3512137234210968_1.4666533470153809.jpg\n",
      "Problem with file ../raw_data/images/testing/dunes/20.741500473022462_16.33554916381836_01_CW000_-0.31968554854393005_0.0962035283446312_0.4676901400089264.jpg\n",
      "Problem with file ../raw_data/images/testing/dunes/43.19850082397461_100.57864990234376_010_CW000_-0.27993252873420715_0.819489061832428_2.0724124908447266.jpg\n",
      "Problem with file ../raw_data/images/testing/dunes/14.70750026702881_47.90749893188477_023_CW000_0.6285747289657593_-0.3254481256008148_1.4163028001785278.jpg\n"
     ]
    },
    {
     "name": "stderr",
     "output_type": "stream",
     "text": [
      "\r",
      " 38%|███▊      | 1248/3313 [00:54<01:32, 22.27it/s]"
     ]
    },
    {
     "name": "stdout",
     "output_type": "stream",
     "text": [
      "Problem with file ../raw_data/images/testing/dunes/21.141500091552736_17.06090087890625_02_CW000_-0.6570918560028076_-0.14736638963222504_0.8686606287956238.jpg\n",
      "Problem with file ../raw_data/images/testing/dunes/25.637500381469728_25.69749984741211_03_CW000_-0.7398822903633118_-0.3871173560619354_1.8824076652526855.jpg\n",
      "Problem with file ../raw_data/images/testing/dunes/43.26750030517578_107.43572082519532_030_CW000_-0.3642835021018982_0.720122218132019_2.0803771018981934.jpg\n",
      "Problem with file ../raw_data/images/testing/dunes/29.130500030517577_16.931750106811524_011_CW000_-0.4982140064239502_-0.23002555966377258_1.9008547067642212.jpg\n",
      "Problem with file ../raw_data/images/testing/dunes/42.898501586914065_100.57864990234376_010_CW000_-0.675938606262207_0.500434160232544_1.9753309488296509.jpg\n"
     ]
    },
    {
     "name": "stderr",
     "output_type": "stream",
     "text": [
      " 38%|███▊      | 1254/3313 [00:54<01:35, 21.64it/s]"
     ]
    },
    {
     "name": "stdout",
     "output_type": "stream",
     "text": [
      "Problem with file ../raw_data/images/testing/dunes/25.92649917602539_7.901642990112305_022_CW000_-0.12161245197057724_-0.3521067798137665_1.071845293045044.jpg\n",
      "Problem with file ../raw_data/images/testing/dunes/33.6635009765625_64.12584991455078_012_CW000_-0.408455491065979_-0.33067744970321655_1.1640669107437134.jpg\n",
      "Problem with file ../raw_data/images/testing/dunes/44.49449996948242_109.38083190917969_022_CW000_-0.5645065307617188_0.5564512014389038_1.8319741487503052.jpg\n",
      "Problem with file ../raw_data/images/testing/dunes/34.09350051879883_55.61158294677735_032_CW000_-0.8334642648696899_-0.056364309042692184_2.339884042739868.jpg\n",
      "Problem with file ../raw_data/images/testing/dunes/32.04950103759766_61.53262939453125_00_CW000_-0.9056329131126404_0.3107823431491852_5.024990558624268.jpg\n"
     ]
    },
    {
     "name": "stderr",
     "output_type": "stream",
     "text": [
      " 38%|███▊      | 1260/3313 [00:55<01:39, 20.58it/s]"
     ]
    },
    {
     "name": "stdout",
     "output_type": "stream",
     "text": [
      "Problem with file ../raw_data/images/testing/dunes/43.06749954223633_107.23560943603516_030_CW000_-0.3239474892616272_0.7198408842086792_2.048227548599243.jpg\n",
      "Problem with file ../raw_data/images/testing/dunes/41.14549942016602_76.77977905273437_013_CW000_0.39497748017311096_-0.05050608888268471_0.7165769934654236.jpg\n",
      "Problem with file ../raw_data/images/testing/dunes/40.57050094604492_76.1795669555664_03_CW000_-0.005460376851260662_0.8130400776863098_0.9616098403930664.jpg\n",
      "Problem with file ../raw_data/images/testing/dunes/43.692501831054685_107.78589172363282_022_CW000_-0.5773500204086304_0.5711233019828796_1.9406782388687134.jpg\n",
      "Problem with file ../raw_data/images/testing/dunes/31.324500274658202_61.382544708251956_012_CW000_-0.9628475308418274_0.24484972655773163_5.422873020172119.jpg\n"
     ]
    },
    {
     "name": "stderr",
     "output_type": "stream",
     "text": [
      "\r",
      " 38%|███▊      | 1263/3313 [00:55<01:37, 20.95it/s]"
     ]
    },
    {
     "name": "stdout",
     "output_type": "stream",
     "text": [
      "Problem with file ../raw_data/images/testing/dunes/26.07649955749512_7.851642990112305_00_CW000_-0.14519013464450836_-0.3576643168926239_1.1119623184204102.jpg\n",
      "Problem with file ../raw_data/images/testing/dunes/31.55349998474121_57.13083343505859_021_CW000_-0.6886646151542664_0.6354705095291138_1.2991050481796265.jpg\n",
      "Problem with file ../raw_data/images/testing/dunes/15.677500343322754_49.98250045776367_00_CW000_0.36638081073760986_-0.5745360851287842_1.5820748805999756.jpg\n",
      "Problem with file ../raw_data/images/testing/dunes/31.89950065612793_61.407544708251955_023_CW000_-0.9245191812515259_0.3344726860523224_5.6120076179504395.jpg\n",
      "Problem with file ../raw_data/images/testing/dunes/45.59150085449219_70.5537322998047_00_CW000_-0.13166145980358124_-0.6816415190696716_1.943590521812439.jpg\n"
     ]
    },
    {
     "name": "stderr",
     "output_type": "stream",
     "text": [
      " 38%|███▊      | 1269/3313 [00:55<01:35, 21.35it/s]"
     ]
    },
    {
     "name": "stdout",
     "output_type": "stream",
     "text": [
      "Problem with file ../raw_data/images/testing/dunes/33.46350021362305_64.05079803466796_013_CW000_-0.3964866101741791_-0.46534496545791626_0.9686969518661499.jpg\n",
      "Problem with file ../raw_data/images/testing/dunes/33.388501739501955_63.775701904296874_00_CW000_-0.2792373597621918_-0.41813185811042786_0.7775893807411194.jpg\n",
      "Problem with file ../raw_data/images/testing/dunes/26.23250045776367_40.67667694091797_032_CW000_-0.009873449802398682_0.11496395617723465_1.2901782989501953.jpg\n",
      "Problem with file ../raw_data/images/testing/dunes/15.102500343322754_50.00750045776367_031_CW000_0.6308180689811707_-0.37644022703170776_1.282456874847412.jpg\n",
      "Problem with file ../raw_data/images/testing/dunes/40.87050018310547_76.47966918945312_03_CW000_0.5033560395240784_0.39051440358161926_0.8296945691108704.jpg\n"
     ]
    },
    {
     "name": "stderr",
     "output_type": "stream",
     "text": [
      " 38%|███▊      | 1275/3313 [00:55<01:34, 21.61it/s]"
     ]
    },
    {
     "name": "stdout",
     "output_type": "stream",
     "text": [
      "Problem with file ../raw_data/images/testing/dunes/33.94349975585938_56.06179275512695_010_CW000_-0.3892465829849243_-0.4385664463043213_1.6566416025161743.jpg\n",
      "Problem with file ../raw_data/images/testing/dunes/15.602500343322754_50.032500457763675_032_CW000_0.36638081073760986_-0.5745360851287842_1.5820748805999756.jpg\n",
      "Problem with file ../raw_data/images/testing/dunes/45.36650009155274_70.40357513427735_012_CW000_-0.1623912900686264_-0.6763166785240173_1.9462718963623047.jpg\n",
      "Problem with file ../raw_data/images/testing/dunes/14.832499694824218_48.23250045776367_010_CW000_0.5260545015335083_-0.2561887502670288_1.52852463722229.jpg\n",
      "Problem with file ../raw_data/images/testing/dunes/44.44450149536133_109.43091430664063_00_CW000_-0.4724518358707428_0.5909433960914612_1.6088941097259521.jpg\n"
     ]
    },
    {
     "name": "stderr",
     "output_type": "stream",
     "text": [
      "\r",
      " 39%|███▊      | 1278/3313 [00:56<01:33, 21.70it/s]"
     ]
    },
    {
     "name": "stdout",
     "output_type": "stream",
     "text": [
      "Problem with file ../raw_data/images/testing/dunes/38.63549957275391_95.91158752441406_01_CW000_0.19268926978111267_0.7639127373695374_1.321479320526123.jpg\n",
      "Problem with file ../raw_data/images/testing/dunes/33.23849945068359_63.37549819946289_020_CW000_-0.837819516658783_-0.35563814640045166_0.88577800989151.jpg\n",
      "Problem with file ../raw_data/images/testing/dunes/33.76849899291992_56.03674850463867_03_CW000_-0.2964558005332947_-0.33702805638313293_1.4916207790374756.jpg\n",
      "Problem with file ../raw_data/images/testing/dunes/45.56650085449219_70.30350036621094_012_CW000_-0.14054307341575623_-0.6582027077674866_1.8720004558563232.jpg\n",
      "Problem with file ../raw_data/images/testing/dunes/31.39950065612793_61.55762939453125_021_CW000_-0.9382845163345337_0.29067495465278625_5.165464401245117.jpg\n"
     ]
    },
    {
     "name": "stderr",
     "output_type": "stream",
     "text": [
      " 39%|███▉      | 1284/3313 [00:56<01:32, 21.93it/s]"
     ]
    },
    {
     "name": "stdout",
     "output_type": "stream",
     "text": [
      "Problem with file ../raw_data/images/testing/dunes/44.91950149536133_109.70608673095703_013_CW000_-0.32086411118507385_0.6356228590011597_1.6110759973526.jpg\n",
      "Problem with file ../raw_data/images/testing/dunes/29.005499649047852_17.232125091552735_021_CW000_-0.49946773052215576_-0.2143469601869583_1.7926068305969238.jpg\n",
      "Problem with file ../raw_data/images/testing/dunes/42.52350006103516_101.20386962890625_01_CW000_-0.40173354744911194_0.11617141216993332_1.0731942653656006.jpg\n",
      "Problem with file ../raw_data/images/testing/dunes/33.1385009765625_63.97579803466797_020_CW000_-0.0788906067609787_-0.204548642039299_0.8351045250892639.jpg\n",
      "Problem with file ../raw_data/images/testing/dunes/44.99149856567383_70.85396423339844_00_CW000_-0.19007128477096558_-0.6595726013183594_1.8703441619873047.jpg\n"
     ]
    },
    {
     "name": "stderr",
     "output_type": "stream",
     "text": [
      " 39%|███▉      | 1290/3313 [00:56<01:31, 22.06it/s]"
     ]
    },
    {
     "name": "stdout",
     "output_type": "stream",
     "text": [
      "Problem with file ../raw_data/images/testing/dunes/44.84449920654297_109.2056671142578_03_CW000_-0.30368950963020325_0.6769421696662903_1.9560052156448364.jpg\n",
      "Problem with file ../raw_data/images/testing/dunes/42.34850158691406_100.82872314453125_032_CW000_-0.436320036649704_0.3099846839904785_1.2104905843734741.jpg\n",
      "Problem with file ../raw_data/images/testing/dunes/41.595499420166014_76.42966918945312_031_CW000_0.6987918019294739_0.07153304666280746_0.8545734286308289.jpg\n",
      "Problem with file ../raw_data/images/testing/dunes/33.46350021362305_64.20090179443359_011_CW000_-0.20786884427070618_-0.4033299684524536_1.0149190425872803.jpg\n",
      "Problem with file ../raw_data/images/testing/dunes/43.24250183105469_107.5107208251953_03_CW000_-0.30510076880455017_0.7323349118232727_2.0478405952453613.jpg\n"
     ]
    },
    {
     "name": "stderr",
     "output_type": "stream",
     "text": [
      "\r",
      " 39%|███▉      | 1293/3313 [00:56<01:30, 22.33it/s]"
     ]
    },
    {
     "name": "stdout",
     "output_type": "stream",
     "text": [
      "Problem with file ../raw_data/images/testing/dunes/38.010501098632815_96.41204528808593_011_CW000_-0.36313843727111816_0.8414802551269531_1.4331268072128296.jpg\n",
      "Problem with file ../raw_data/images/testing/dunes/20.391499328613282_16.53564910888672_021_CW000_-0.316933810710907_0.17714694142341614_0.6688466668128967.jpg\n",
      "Problem with file ../raw_data/images/testing/dunes/26.307500457763673_40.40149841308594_03_CW000_0.18097646534442902_0.3635493516921997_1.4861421585083008.jpg\n",
      "Problem with file ../raw_data/images/testing/dunes/41.17049942016602_76.95484466552735_02_CW000_0.07071025669574738_-0.12174086272716522_0.6477588415145874.jpg\n",
      "Problem with file ../raw_data/images/testing/dunes/33.6885009765625_63.70065002441406_01_CW000_-0.5965145826339722_-0.14967745542526245_1.0601316690444946.jpg\n"
     ]
    },
    {
     "name": "stderr",
     "output_type": "stream",
     "text": [
      " 39%|███▉      | 1299/3313 [00:56<01:33, 21.57it/s]"
     ]
    },
    {
     "name": "stdout",
     "output_type": "stream",
     "text": [
      "Problem with file ../raw_data/images/testing/dunes/33.01349868774414_63.37549819946289_030_CW000_-0.6691743731498718_-0.43069934844970703_0.7408806681632996.jpg\n",
      "Problem with file ../raw_data/images/testing/dunes/28.60550003051758_17.332249450683594_021_CW000_-0.40341296792030334_-0.2982408404350281_1.7537842988967896.jpg\n",
      "Problem with file ../raw_data/images/testing/dunes/43.17350082397461_101.1538330078125_023_CW000_-0.1863543689250946_0.8408895134925842_1.9971835613250732.jpg\n",
      "Problem with file ../raw_data/images/testing/dunes/26.307500457763673_40.62667694091797_00_CW000_-0.009873449802398682_0.11496395617723465_1.2901782989501953.jpg\n",
      "Problem with file ../raw_data/images/testing/dunes/20.566500091552733_16.6356990814209_031_CW000_-0.6486546993255615_0.08520163595676422_0.6117581725120544.jpg\n"
     ]
    },
    {
     "name": "stderr",
     "output_type": "stream",
     "text": [
      " 39%|███▉      | 1305/3313 [00:57<01:36, 20.79it/s]"
     ]
    },
    {
     "name": "stdout",
     "output_type": "stream",
     "text": [
      "Problem with file ../raw_data/images/testing/dunes/44.81949920654297_109.15566711425781_011_CW000_-0.30368950963020325_0.6769421696662903_1.9560052156448364.jpg\n",
      "Problem with file ../raw_data/images/testing/dunes/21.141500091552736_17.03590087890625_01_CW000_-0.6570918560028076_-0.14736638963222504_0.8686606287956238.jpg\n",
      "Problem with file ../raw_data/images/testing/dunes/15.277499771118164_49.60749893188476_01_CW000_0.5329304337501526_-0.542854368686676_1.3357374668121338.jpg\n",
      "Problem with file ../raw_data/images/testing/dunes/20.66650047302246_16.560649108886718_032_CW000_-0.5643511414527893_0.13684606552124023_0.5955981612205505.jpg\n",
      "Problem with file ../raw_data/images/testing/dunes/44.46949996948242_109.00550231933593_033_CW000_-0.5493270754814148_0.5796059966087341_2.085843086242676.jpg\n"
     ]
    },
    {
     "name": "stderr",
     "output_type": "stream",
     "text": [
      "\r",
      " 39%|███▉      | 1308/3313 [00:57<01:36, 20.77it/s]"
     ]
    },
    {
     "name": "stdout",
     "output_type": "stream",
     "text": [
      "Problem with file ../raw_data/images/testing/dunes/44.26949920654297_109.08058471679688_032_CW000_-0.5882011651992798_0.5166877508163452_1.808281421661377.jpg\n",
      "Problem with file ../raw_data/images/testing/dunes/32.83850173950195_63.37549819946289_020_CW000_-0.6618372797966003_-0.2832964360713959_0.8083289861679077.jpg\n",
      "Problem with file ../raw_data/images/testing/dunes/20.66650047302246_16.33554916381836_031_CW000_-0.31968554854393005_0.0962035283446312_0.4676901400089264.jpg\n",
      "Problem with file ../raw_data/images/testing/dunes/44.91950149536133_109.10558471679687_013_CW000_-0.2759314775466919_0.6766248941421509_1.9672640562057495.jpg\n",
      "Problem with file ../raw_data/images/testing/dunes/31.603499984741212_56.80563201904297_00_CW000_-0.3753592371940613_0.6780613660812378_1.0144665241241455.jpg\n"
     ]
    },
    {
     "name": "stderr",
     "output_type": "stream",
     "text": [
      " 40%|███▉      | 1314/3313 [00:57<01:37, 20.55it/s]"
     ]
    },
    {
     "name": "stdout",
     "output_type": "stream",
     "text": [
      "Problem with file ../raw_data/images/testing/dunes/15.402499580383301_50.032500457763675_032_CW000_0.506493330001831_-0.4213229715824127_1.6316087245941162.jpg\n",
      "Problem with file ../raw_data/images/testing/dunes/25.657500076293946_40.42655792236328_020_CW000_0.09549535065889359_0.3240325152873993_1.4849518537521362.jpg\n",
      "Problem with file ../raw_data/images/testing/dunes/32.938500213623044_64.10084991455078_021_CW000_-0.4501468241214752_0.3341437578201294_0.6634880304336548.jpg\n",
      "Problem with file ../raw_data/images/testing/dunes/33.69349899291992_55.96174850463867_030_CW000_-0.2964558005332947_-0.33702805638313293_1.4916207790374756.jpg\n",
      "Problem with file ../raw_data/images/testing/dunes/43.07349853515625_100.85372314453124_023_CW000_-0.4079539477825165_0.7680480480194092_2.133735179901123.jpg\n"
     ]
    },
    {
     "name": "stderr",
     "output_type": "stream",
     "text": [
      "\r",
      " 40%|███▉      | 1317/3313 [00:57<01:37, 20.39it/s]"
     ]
    },
    {
     "name": "stdout",
     "output_type": "stream",
     "text": [
      "Problem with file ../raw_data/images/testing/dunes/40.595499420166014_76.10456695556641_030_CW000_0.3316066563129425_0.6997290253639221_0.9764223098754883.jpg\n",
      "Problem with file ../raw_data/images/testing/dunes/33.51349868774414_63.57559814453125_030_CW000_-0.7315329909324646_-0.06930819153785706_0.997871994972229.jpg\n",
      "Problem with file ../raw_data/images/testing/dunes/28.955499267578126_17.056874465942382_02_CW000_-0.4540223777294159_-0.25677013397216797_1.8461145162582397.jpg\n",
      "Problem with file ../raw_data/images/testing/dunes/15.252499771118163_49.78249969482422_010_CW000_0.5545884370803833_-0.479530394077301_1.2891514301300049.jpg\n"
     ]
    },
    {
     "name": "stderr",
     "output_type": "stream",
     "text": [
      " 40%|███▉      | 1322/3313 [00:58<01:41, 19.57it/s]"
     ]
    },
    {
     "name": "stdout",
     "output_type": "stream",
     "text": [
      "Problem with file ../raw_data/images/testing/dunes/20.616500091552734_16.6356990814209_011_CW000_-0.6486546993255615_0.08520163595676422_0.6117581725120544.jpg\n",
      "Problem with file ../raw_data/images/testing/dunes/38.510501098632815_96.06168518066406_013_CW000_0.16777095198631287_0.8236806988716125_1.411568284034729.jpg\n",
      "Problem with file ../raw_data/images/testing/dunes/28.60550003051758_17.207125091552733_020_CW000_-0.4103155732154846_-0.289995402097702_1.8249518871307373.jpg\n",
      "Problem with file ../raw_data/images/testing/dunes/14.607499885559083_48.03249969482422_020_CW000_0.773026704788208_-0.16512669622898102_1.1143494844436646.jpg\n"
     ]
    },
    {
     "name": "stderr",
     "output_type": "stream",
     "text": [
      " 40%|████      | 1327/3313 [00:58<01:45, 18.86it/s]"
     ]
    },
    {
     "name": "stdout",
     "output_type": "stream",
     "text": [
      "Problem with file ../raw_data/images/testing/dunes/42.798499298095706_100.40357666015625_011_CW000_-0.7539007663726807_0.3295396864414215_1.8627591133117676.jpg\n",
      "Problem with file ../raw_data/images/testing/dunes/21.171500778198244_34.23283309936524_02_CW000_-0.8320323824882507_-0.25281721353530884_3.40447735786438.jpg\n",
      "Problem with file ../raw_data/images/testing/dunes/19.592499923706054_34.04199905395508_012_CW000_-0.8135537505149841_-0.13925354182720184_3.5280017852783203.jpg\n",
      "Problem with file ../raw_data/images/testing/dunes/31.87450065612793_61.55762939453125_031_CW000_-0.9131856560707092_0.30446940660476685_5.2162251472473145.jpg\n"
     ]
    },
    {
     "name": "stderr",
     "output_type": "stream",
     "text": [
      "\r",
      " 40%|████      | 1330/3313 [00:58<01:41, 19.45it/s]"
     ]
    },
    {
     "name": "stdout",
     "output_type": "stream",
     "text": [
      "Problem with file ../raw_data/images/testing/dunes/43.76750030517578_107.3356689453125_030_CW000_-0.5513802170753479_0.6567386388778687_2.3800370693206787.jpg\n",
      "Problem with file ../raw_data/images/testing/dunes/20.54149971008301_16.28549919128418_03_CW000_0.012546190991997719_0.08689669519662857_0.5482457876205444.jpg\n",
      "Problem with file ../raw_data/images/testing/dunes/38.160501861572264_96.31195526123047_031_CW000_-0.07097212225198746_0.8929637670516968_1.5245940685272217.jpg\n",
      "Problem with file ../raw_data/images/testing/dunes/20.441499328613283_16.73574905395508_01_CW000_-0.6116777062416077_0.035889215767383575_0.648766815662384.jpg\n",
      "Problem with file ../raw_data/images/testing/dunes/29.205500411987305_16.856625747680663_022_CW000_-0.5021669268608093_-0.23237678408622742_1.9316169023513794.jpg\n"
     ]
    },
    {
     "name": "stderr",
     "output_type": "stream",
     "text": [
      " 40%|████      | 1336/3313 [00:58<01:38, 20.11it/s]"
     ]
    },
    {
     "name": "stdout",
     "output_type": "stream",
     "text": [
      "Problem with file ../raw_data/images/testing/dunes/38.46050109863281_95.96158752441406_033_CW000_0.1989738792181015_0.7854389548301697_1.3388577699661255.jpg\n",
      "Problem with file ../raw_data/images/testing/dunes/40.545500946044925_76.35464019775391_012_CW000_-0.2192709743976593_0.7749276757240295_0.8454846143722534.jpg\n",
      "Problem with file ../raw_data/images/testing/dunes/15.252499771118163_50.00750045776367_011_CW000_0.5859046578407288_-0.3570096790790558_1.4682555198669434.jpg\n",
      "Problem with file ../raw_data/images/testing/dunes/25.657500076293946_40.476557922363284_022_CW000_0.09549535065889359_0.3240325152873993_1.4849518537521362.jpg\n",
      "Problem with file ../raw_data/images/testing/dunes/20.746499252319335_34.332915496826175_012_CW000_-0.7798686027526855_-0.32205328345298767_3.3784804344177246.jpg\n"
     ]
    },
    {
     "name": "stderr",
     "output_type": "stream",
     "text": [
      " 40%|████      | 1341/3313 [00:59<01:42, 19.29it/s]"
     ]
    },
    {
     "name": "stdout",
     "output_type": "stream",
     "text": [
      "Problem with file ../raw_data/images/testing/dunes/28.955499267578126_16.75649948120117_02_CW000_-0.4088534414768219_-0.3161790072917938_1.8825643062591553.jpg\n",
      "Problem with file ../raw_data/images/testing/dunes/33.33850173950195_64.07584991455079_020_CW000_-0.10447978973388672_-0.3968108594417572_0.9748221039772034.jpg\n",
      "Problem with file ../raw_data/images/testing/dunes/31.653500366210938_56.63050155639648_021_CW000_-0.32447588443756104_0.6363072991371155_1.0399030447006226.jpg\n",
      "Problem with file ../raw_data/images/testing/dunes/45.541500854492185_70.7788818359375_021_CW000_-0.1364414393901825_-0.6864626407623291_1.9521132707595825.jpg\n"
     ]
    },
    {
     "name": "stderr",
     "output_type": "stream",
     "text": [
      "\r",
      " 41%|████      | 1344/3313 [00:59<01:40, 19.65it/s]"
     ]
    },
    {
     "name": "stdout",
     "output_type": "stream",
     "text": [
      "Problem with file ../raw_data/images/testing/dunes/33.1885009765625_64.3509536743164_03_CW000_-0.4736398756504059_0.1598576307296753_0.7752802968025208.jpg\n",
      "Problem with file ../raw_data/images/testing/dunes/41.52050094604492_77.10491027832032_020_CW000_0.7850807309150696_0.15583151578903198_1.0870587825775146.jpg\n",
      "Problem with file ../raw_data/images/testing/dunes/33.518498229980466_55.76166763305664_020_CW000_-0.4758235812187195_-0.08277229964733124_1.2777628898620605.jpg\n",
      "Problem with file ../raw_data/images/testing/dunes/41.37050018310547_76.60474243164063_00_CW000_0.5898355841636658_-0.019885987043380737_0.946825385093689.jpg\n",
      "Problem with file ../raw_data/images/testing/dunes/44.91649856567383_70.7788818359375_031_CW000_-0.1807394027709961_-0.6585723161697388_1.8677932024002075.jpg\n"
     ]
    },
    {
     "name": "stderr",
     "output_type": "stream",
     "text": [
      " 41%|████      | 1350/3313 [00:59<01:37, 20.23it/s]"
     ]
    },
    {
     "name": "stdout",
     "output_type": "stream",
     "text": [
      "Problem with file ../raw_data/images/testing/dunes/15.427499580383301_50.05750045776367_023_CW000_0.506493330001831_-0.4213229715824127_1.6316087245941162.jpg\n",
      "Problem with file ../raw_data/images/testing/dunes/28.705500411987305_17.00687446594238_020_CW000_-0.3880923092365265_-0.2925341725349426_1.8508652448654175.jpg\n",
      "Problem with file ../raw_data/images/testing/dunes/31.70350036621094_57.030766296386716_01_CW000_-0.6103047728538513_0.683489978313446_1.1949867010116577.jpg\n",
      "Problem with file ../raw_data/images/testing/dunes/42.59849853515625_101.1288330078125_012_CW000_-0.5958533883094788_0.17627762258052826_1.1922990083694458.jpg\n",
      "Problem with file ../raw_data/images/testing/dunes/33.94349975585938_55.53654251098633_013_CW000_-0.8246844410896301_0.0980977863073349_2.1433112621307373.jpg\n"
     ]
    },
    {
     "name": "stderr",
     "output_type": "stream",
     "text": [
      " 41%|████      | 1356/3313 [00:59<01:33, 20.92it/s]"
     ]
    },
    {
     "name": "stdout",
     "output_type": "stream",
     "text": [
      "Problem with file ../raw_data/images/testing/dunes/21.066500091552733_17.18595085144043_033_CW000_-0.5856184363365173_-0.18860609829425812_0.8822872042655945.jpg\n",
      "Problem with file ../raw_data/images/testing/dunes/38.36049880981445_96.06168518066406_033_CW000_0.0354793556034565_0.8667901754379272_1.353738784790039.jpg\n",
      "Problem with file ../raw_data/images/testing/dunes/40.87050018310547_76.97984466552734_03_CW000_-0.6352092027664185_0.5760141611099243_0.6418247818946838.jpg\n",
      "Problem with file ../raw_data/images/testing/dunes/20.566500091552733_16.81080093383789_030_CW000_-0.7365004420280457_0.14443030953407288_0.5568229556083679.jpg\n",
      "Problem with file ../raw_data/images/testing/dunes/40.49550094604492_76.15456695556641_032_CW000_-0.005460376851260662_0.8130400776863098_0.9616098403930664.jpg\n"
     ]
    },
    {
     "name": "stderr",
     "output_type": "stream",
     "text": [
      "\r",
      " 41%|████      | 1359/3313 [00:59<01:36, 20.28it/s]"
     ]
    },
    {
     "name": "stdout",
     "output_type": "stream",
     "text": [
      "Problem with file ../raw_data/images/testing/dunes/33.31350173950195_63.925749969482425_032_CW000_-0.189003124833107_-0.401081383228302_0.8570461869239807.jpg\n",
      "Problem with file ../raw_data/images/testing/dunes/42.64850082397461_100.97879638671876_030_CW000_-0.6811047792434692_0.242052361369133_1.3869277238845825.jpg\n",
      "Problem with file ../raw_data/images/testing/dunes/42.34850158691406_101.25386962890624_033_CW000_-0.3371007442474365_0.1406775414943695_1.0607670545578003.jpg\n",
      "Problem with file ../raw_data/images/testing/dunes/42.97350006103515_100.7286865234375_022_CW000_-0.5689179301261902_0.6382215023040771_2.085033416748047.jpg\n"
     ]
    },
    {
     "name": "stderr",
     "output_type": "stream",
     "text": [
      " 41%|████      | 1365/3313 [01:00<01:36, 20.21it/s]"
     ]
    },
    {
     "name": "stdout",
     "output_type": "stream",
     "text": [
      "Problem with file ../raw_data/images/testing/dunes/44.34449920654297_109.60599670410156_03_CW000_-0.3349169194698334_0.6186919212341309_1.414851188659668.jpg\n",
      "Problem with file ../raw_data/images/testing/dunes/31.2745002746582_62.08284683227539_032_CW000_-0.8545985817909241_0.38880273699760437_3.570774555206299.jpg\n",
      "Problem with file ../raw_data/images/testing/dunes/19.542499923706053_33.7666259765625_033_CW000_-0.8629893064498901_-0.09205415844917297_3.7333590984344482.jpg\n",
      "Problem with file ../raw_data/images/testing/dunes/19.717500305175783_33.59150161743164_00_CW000_-0.8821038007736206_-0.09133318066596985_3.8418962955474854.jpg\n",
      "Problem with file ../raw_data/images/testing/dunes/40.72050170898437_77.02988128662109_021_CW000_-0.747725784778595_0.6080844402313232_0.997211217880249.jpg\n"
     ]
    },
    {
     "name": "stderr",
     "output_type": "stream",
     "text": [
      "\r",
      " 41%|████▏     | 1368/3313 [01:00<01:35, 20.41it/s]"
     ]
    },
    {
     "name": "stdout",
     "output_type": "stream",
     "text": [
      "Problem with file ../raw_data/images/testing/dunes/28.132500839233398_22.422499084472655_010_CW000_-0.6201642751693726_-0.2807915508747101_1.8774893283843994.jpg\n",
      "Problem with file ../raw_data/images/testing/dunes/32.863501739501956_64.3009536743164_011_CW000_-0.577610969543457_0.6462551951408386_0.7555250525474548.jpg\n",
      "Problem with file ../raw_data/images/testing/dunes/31.85349922180176_57.48103485107422_023_CW000_-0.8880738615989685_0.3022298216819763_1.981667399406433.jpg\n",
      "Problem with file ../raw_data/images/testing/dunes/33.23849945068359_64.3009536743164_021_CW000_-0.27645736932754517_-0.11519242823123932_0.8834002017974854.jpg\n",
      "Problem with file ../raw_data/images/testing/dunes/33.31350173950195_63.82570190429688_032_CW000_-0.2792373597621918_-0.41813185811042786_0.7775893807411194.jpg\n"
     ]
    },
    {
     "name": "stderr",
     "output_type": "stream",
     "text": [
      " 41%|████▏     | 1374/3313 [01:00<01:36, 20.12it/s]"
     ]
    },
    {
     "name": "stdout",
     "output_type": "stream",
     "text": [
      "Problem with file ../raw_data/images/testing/dunes/42.923501586914064_100.60364990234375_01_CW000_-0.675938606262207_0.500434160232544_1.9753309488296509.jpg\n",
      "Problem with file ../raw_data/images/testing/dunes/31.328499221801756_57.20590057373047_030_CW000_-0.6969814896583557_0.6346865892410278_1.2112970352172852.jpg\n",
      "Problem with file ../raw_data/images/testing/dunes/44.84449920654297_109.48091430664063_02_CW000_-0.35647401213645935_0.6537182331085205_1.7756799459457397.jpg\n",
      "Problem with file ../raw_data/images/testing/dunes/33.6635009765625_64.3009536743164_011_CW000_-0.31477949023246765_-0.3192647695541382_1.1632159948349.jpg\n"
     ]
    },
    {
     "name": "stderr",
     "output_type": "stream",
     "text": [
      "\r",
      " 42%|████▏     | 1377/3313 [01:00<01:35, 20.36it/s]"
     ]
    },
    {
     "name": "stdout",
     "output_type": "stream",
     "text": [
      "Problem with file ../raw_data/images/testing/dunes/33.79350128173828_55.41149826049805_032_CW000_-0.8217553496360779_0.1607774943113327_1.945356011390686.jpg\n",
      "Problem with file ../raw_data/images/testing/dunes/44.744500732421876_109.05558471679687_01_CW000_-0.3530530035495758_0.667420506477356_2.020052671432495.jpg\n",
      "Problem with file ../raw_data/images/testing/dunes/22.292500686645507_49.397500610351564_013_CW000_-0.6052327752113342_-0.6401185989379883_1.927714467048645.jpg\n",
      "Problem with file ../raw_data/images/testing/dunes/41.67049942016602_76.1795669555664_03_CW000_0.38369303941726685_-0.13137894868850708_0.8038560152053833.jpg\n",
      "Problem with file ../raw_data/images/testing/dunes/31.57449951171875_61.83276214599609_030_CW000_-0.8926652669906616_0.2984755337238312_4.462830543518066.jpg\n"
     ]
    },
    {
     "name": "stderr",
     "output_type": "stream",
     "text": [
      " 42%|████▏     | 1383/3313 [01:01<01:34, 20.43it/s]"
     ]
    },
    {
     "name": "stdout",
     "output_type": "stream",
     "text": [
      "Problem with file ../raw_data/images/testing/dunes/31.678500366210937_57.00576629638672_010_CW000_-0.6103047728538513_0.683489978313446_1.1949867010116577.jpg\n",
      "Problem with file ../raw_data/images/testing/dunes/43.04849853515625_100.52861328125_032_CW000_-0.4791315197944641_0.6866766810417175_2.013192653656006.jpg\n",
      "Problem with file ../raw_data/images/testing/dunes/31.828499221801756_57.48103485107422_033_CW000_-0.8880738615989685_0.3022298216819763_1.981667399406433.jpg\n",
      "Problem with file ../raw_data/images/testing/dunes/40.39549865722656_75.97950134277343_033_CW000_-0.3491290509700775_0.7781546115875244_1.082564115524292.jpg\n",
      "Problem with file ../raw_data/images/testing/dunes/25.33749923706055_27.147500610351564_03_CW000_-0.9277774691581726_0.0818016529083252_2.4674928188323975.jpg\n"
     ]
    },
    {
     "name": "stderr",
     "output_type": "stream",
     "text": [
      " 42%|████▏     | 1389/3313 [01:01<01:33, 20.58it/s]"
     ]
    },
    {
     "name": "stdout",
     "output_type": "stream",
     "text": [
      "Problem with file ../raw_data/images/testing/dunes/20.99149971008301_16.760749053955077_022_CW000_-0.6926047205924988_-0.062145087867975235_0.8218837380409241.jpg\n",
      "Problem with file ../raw_data/images/testing/dunes/41.64549942016602_76.87980804443359_013_CW000_0.8368099927902222_0.060292404145002365_1.2634457349777222.jpg\n",
      "Problem with file ../raw_data/images/testing/dunes/25.4625_26.872499847412108_030_CW000_-0.8983696699142456_0.0193784236907959_2.205622673034668.jpg\n",
      "Problem with file ../raw_data/images/testing/dunes/15.202499771118164_49.807499694824216_031_CW000_0.5545884370803833_-0.479530394077301_1.2891514301300049.jpg\n",
      "Problem with file ../raw_data/images/testing/dunes/43.042501068115236_107.58578033447266_02_CW000_-0.08754419535398483_0.7478445768356323_1.9767793416976929.jpg\n"
     ]
    },
    {
     "name": "stderr",
     "output_type": "stream",
     "text": [
      "\r",
      " 42%|████▏     | 1392/3313 [01:01<01:33, 20.54it/s]"
     ]
    },
    {
     "name": "stdout",
     "output_type": "stream",
     "text": [
      "Problem with file ../raw_data/images/testing/dunes/38.560499572753905_96.01168518066406_031_CW000_0.16292287409305573_0.8041420578956604_1.3900864124298096.jpg\n",
      "Problem with file ../raw_data/images/testing/dunes/31.974501037597655_61.907762145996095_033_CW000_-0.865196943283081_0.23078139126300812_4.278225421905518.jpg\n",
      "Problem with file ../raw_data/images/testing/dunes/42.948500061035155_101.05379638671874_033_CW000_-0.5091218948364258_0.6407626867294312_1.8381099700927734.jpg\n",
      "Problem with file ../raw_data/images/testing/dunes/42.99850006103516_100.37857666015626_010_CW000_-0.6404752135276794_0.5131795406341553_1.9527767896652222.jpg\n",
      "Problem with file ../raw_data/images/testing/dunes/25.73250045776367_40.651676940917966_031_CW000_0.11952321976423264_0.2164408564567566_1.4461398124694824.jpg\n"
     ]
    },
    {
     "name": "stderr",
     "output_type": "stream",
     "text": [
      " 42%|████▏     | 1398/3313 [01:01<01:32, 20.61it/s]"
     ]
    },
    {
     "name": "stdout",
     "output_type": "stream",
     "text": [
      "Problem with file ../raw_data/images/testing/dunes/42.7734992980957_100.37857666015626_020_CW000_-0.7539007663726807_0.3295396864414215_1.8627591133117676.jpg\n",
      "Problem with file ../raw_data/images/testing/dunes/38.035501098632814_96.48713531494141_00_CW000_-0.33969244360923767_0.8482838869094849_1.5306893587112427.jpg\n",
      "Problem with file ../raw_data/images/testing/dunes/28.580500030517577_16.881625747680665_033_CW000_-0.3723045289516449_-0.2951122522354126_1.8755706548690796.jpg\n",
      "Problem with file ../raw_data/images/testing/dunes/38.435498809814455_96.01168518066406_01_CW000_0.0354793556034565_0.8667901754379272_1.353738784790039.jpg\n",
      "Problem with file ../raw_data/images/testing/dunes/20.64650077819824_34.18283309936523_010_CW000_-0.8013686537742615_-0.28167471289634705_3.307112216949463.jpg\n"
     ]
    },
    {
     "name": "stderr",
     "output_type": "stream",
     "text": [
      " 42%|████▏     | 1404/3313 [01:02<01:33, 20.40it/s]"
     ]
    },
    {
     "name": "stdout",
     "output_type": "stream",
     "text": [
      "Problem with file ../raw_data/images/testing/dunes/38.618500518798825_68.11766967773437_023_CW000_-0.9318245649337769_-0.20764973759651184_0.5035324692726135.jpg\n",
      "Problem with file ../raw_data/images/testing/dunes/33.413500213623045_63.87574996948242_030_CW000_-0.4704642593860626_-0.39948728680610657_0.9088390469551086.jpg\n",
      "Problem with file ../raw_data/images/testing/dunes/14.757500267028808_48.007501220703126_03_CW000_0.6417410373687744_-0.2526096701622009_1.35492742061615.jpg\n",
      "Problem with file ../raw_data/images/testing/dunes/19.69250030517578_33.59150161743164_010_CW000_-0.8821038007736206_-0.09133318066596985_3.8418962955474854.jpg\n",
      "Problem with file ../raw_data/images/testing/dunes/40.57050094604492_76.75477905273438_02_CW000_-0.706877589225769_0.6314568519592285_1.1913402080535889.jpg\n"
     ]
    },
    {
     "name": "stderr",
     "output_type": "stream",
     "text": [
      "\r",
      " 42%|████▏     | 1407/3313 [01:02<01:33, 20.34it/s]"
     ]
    },
    {
     "name": "stdout",
     "output_type": "stream",
     "text": [
      "Problem with file ../raw_data/images/testing/dunes/25.682500076293945_40.55161743164062_011_CW000_0.12125470489263535_0.25375744700431824_1.4787013530731201.jpg\n",
      "Problem with file ../raw_data/images/testing/dunes/45.14149932861328_70.50365753173828_022_CW000_-0.16307269036769867_-0.6771461963653564_1.9460620880126953.jpg\n",
      "Problem with file ../raw_data/images/testing/dunes/38.535501098632814_95.98668518066407_00_CW000_0.16777095198631287_0.8236806988716125_1.411568284034729.jpg\n",
      "Problem with file ../raw_data/images/testing/dunes/32.7634994506836_64.3009536743164_011_CW000_-0.501689612865448_0.6559579968452454_0.7979852557182312.jpg\n",
      "Problem with file ../raw_data/images/testing/dunes/20.741500473022462_16.710749053955077_00_CW000_-0.673046886920929_-0.037063002586364746_0.582739531993866.jpg\n"
     ]
    },
    {
     "name": "stderr",
     "output_type": "stream",
     "text": [
      " 43%|████▎     | 1413/3313 [01:02<01:35, 19.95it/s]"
     ]
    },
    {
     "name": "stdout",
     "output_type": "stream",
     "text": [
      "Problem with file ../raw_data/images/testing/dunes/14.857499694824218_48.282500457763675_02_CW000_0.5260545015335083_-0.2561887502670288_1.52852463722229.jpg\n",
      "Problem with file ../raw_data/images/testing/dunes/31.92450065612793_61.75771789550781_011_CW000_-0.8876993060112_0.27692607045173645_4.731226921081543.jpg\n",
      "Problem with file ../raw_data/images/testing/dunes/45.31650009155273_70.85396423339844_030_CW000_-0.18420006334781647_-0.6940234303474426_1.9933085441589355.jpg\n",
      "Problem with file ../raw_data/images/testing/dunes/43.2734992980957_100.928759765625_022_CW000_-0.12100613117218018_0.8784517645835876_2.3291614055633545.jpg\n",
      "Problem with file ../raw_data/images/testing/dunes/44.59449844360351_109.18066711425782_022_CW000_-0.45960119366645813_0.6211330890655518_1.9466426372528076.jpg\n"
     ]
    },
    {
     "name": "stderr",
     "output_type": "stream",
     "text": [
      " 43%|████▎     | 1419/3313 [01:02<01:31, 20.72it/s]"
     ]
    },
    {
     "name": "stdout",
     "output_type": "stream",
     "text": [
      "Problem with file ../raw_data/images/testing/dunes/25.8765007019043_7.8766429901123045_01_CW000_-0.0849752426147461_-0.3682674467563629_1.0448358058929443.jpg\n",
      "Problem with file ../raw_data/images/testing/dunes/28.1075008392334_22.447499084472657_021_CW000_-0.6201642751693726_-0.2807915508747101_1.8774893283843994.jpg\n",
      "Problem with file ../raw_data/images/testing/dunes/28.855500793457033_17.107000732421874_00_CW000_-0.42570146918296814_-0.2627851665019989_1.8101716041564941.jpg\n",
      "Problem with file ../raw_data/images/testing/dunes/15.527499961853028_49.757501220703126_023_CW000_0.3321518301963806_-0.6067373752593994_1.5844863653182983.jpg\n",
      "Problem with file ../raw_data/images/testing/dunes/19.64250030517578_33.59150161743164_030_CW000_-0.8821038007736206_-0.09133318066596985_3.8418962955474854.jpg\n"
     ]
    },
    {
     "name": "stderr",
     "output_type": "stream",
     "text": [
      "\r",
      " 43%|████▎     | 1422/3313 [01:03<01:29, 21.12it/s]"
     ]
    },
    {
     "name": "stdout",
     "output_type": "stream",
     "text": [
      "Problem with file ../raw_data/images/testing/dunes/38.13549957275391_95.96158752441406_03_CW000_-0.40668028593063354_0.8547045588493347_1.372118353843689.jpg\n",
      "Problem with file ../raw_data/images/testing/dunes/45.59150085449219_70.62873229980468_03_CW000_-0.13166145980358124_-0.6816415190696716_1.943590521812439.jpg\n",
      "Problem with file ../raw_data/images/testing/dunes/20.771499252319337_34.257833099365236_03_CW000_-0.8021264672279358_-0.2873130142688751_3.3371903896331787.jpg\n",
      "Problem with file ../raw_data/images/testing/dunes/33.388501739501955_64.12584991455078_02_CW000_-0.10447978973388672_-0.3968108594417572_0.9748221039772034.jpg\n",
      "Problem with file ../raw_data/images/testing/dunes/15.777499771118164_49.307499694824216_01_CW000_0.27702221274375916_-0.5867311954498291_1.8404041528701782.jpg\n"
     ]
    },
    {
     "name": "stderr",
     "output_type": "stream",
     "text": [
      " 43%|████▎     | 1428/3313 [01:03<01:27, 21.53it/s]"
     ]
    },
    {
     "name": "stdout",
     "output_type": "stream",
     "text": [
      "Problem with file ../raw_data/images/testing/dunes/43.84250030517578_107.58578033447266_02_CW000_-0.5903657674789429_0.6053684949874878_2.2394893169403076.jpg\n",
      "Problem with file ../raw_data/images/testing/dunes/38.23550186157227_95.8364974975586_02_CW000_-0.2267722487449646_0.8887361288070679_1.251452088356018.jpg\n",
      "Problem with file ../raw_data/images/testing/dunes/25.93249931335449_40.351498413085935_031_CW000_0.17173196375370026_0.4460687041282654_1.5383988618850708.jpg\n",
      "Problem with file ../raw_data/images/testing/dunes/29.15550003051758_17.081874465942384_03_CW000_-0.5043209195137024_-0.20788156986236572_1.8819308280944824.jpg\n",
      "Problem with file ../raw_data/images/testing/dunes/31.57849998474121_56.65550155639649_012_CW000_-0.2770393192768097_0.5647757649421692_1.0589823722839355.jpg\n"
     ]
    },
    {
     "name": "stderr",
     "output_type": "stream",
     "text": [
      " 43%|████▎     | 1434/3313 [01:03<01:26, 21.76it/s]"
     ]
    },
    {
     "name": "stdout",
     "output_type": "stream",
     "text": [
      "Problem with file ../raw_data/images/testing/dunes/45.06650085449219_70.6538070678711_010_CW000_-0.18113432824611664_-0.6709339022636414_1.9068721532821655.jpg\n",
      "Problem with file ../raw_data/images/testing/dunes/20.087500381469727_45.567501831054685_021_CW000_0.03911877050995827_-0.7461552619934082_2.172156810760498.jpg\n",
      "Problem with file ../raw_data/images/testing/dunes/29.15550003051758_16.981750106811525_03_CW000_-0.4982140064239502_-0.23002555966377258_1.9008547067642212.jpg\n",
      "Problem with file ../raw_data/images/testing/dunes/26.026499557495118_8.076928901672364_021_CW000_-0.05685173347592354_-0.3322336673736572_1.0810060501098633.jpg\n",
      "Problem with file ../raw_data/images/testing/dunes/33.743498992919925_55.43649826049805_013_CW000_-0.8225076198577881_0.2032286822795868_1.8250418901443481.jpg\n"
     ]
    },
    {
     "name": "stderr",
     "output_type": "stream",
     "text": [
      "\r",
      " 43%|████▎     | 1437/3313 [01:03<01:26, 21.65it/s]"
     ]
    },
    {
     "name": "stdout",
     "output_type": "stream",
     "text": [
      "Problem with file ../raw_data/images/testing/dunes/42.798499298095706_100.903759765625_011_CW000_-0.7069888710975647_0.3345068693161011_1.6086927652359009.jpg\n",
      "Problem with file ../raw_data/images/testing/dunes/38.59350051879883_68.21772155761718_033_CW000_-0.869401752948761_-0.2618516981601715_0.5565191507339478.jpg\n",
      "Problem with file ../raw_data/images/testing/dunes/31.828499221801756_56.63050155639648_031_CW000_-0.4771181344985962_0.6232045888900757_1.0944547653198242.jpg\n",
      "Problem with file ../raw_data/images/testing/dunes/44.394501495361325_109.13066711425782_020_CW000_-0.5832961797714233_0.5323303937911987_1.8591136932373047.jpg\n",
      "Problem with file ../raw_data/images/testing/dunes/28.78050079345703_17.056874465942382_032_CW000_-0.4138762950897217_-0.27483323216438293_1.839026927947998.jpg\n"
     ]
    },
    {
     "name": "stderr",
     "output_type": "stream",
     "text": [
      " 44%|████▎     | 1443/3313 [01:04<01:27, 21.41it/s]"
     ]
    },
    {
     "name": "stdout",
     "output_type": "stream",
     "text": [
      "Problem with file ../raw_data/images/testing/dunes/20.86649932861328_16.26049919128418_032_CW000_-0.18588700890541077_-0.6683453917503357_0.7124367952346802.jpg\n",
      "Problem with file ../raw_data/images/testing/dunes/38.31050033569336_96.36195526123046_013_CW000_0.02909848652780056_0.8845816254615784_1.6009963750839233.jpg\n",
      "Problem with file ../raw_data/images/testing/dunes/33.23849945068359_63.82570190429688_022_CW000_-0.058669015765190125_-0.4941750466823578_0.7816983461380005.jpg\n",
      "Problem with file ../raw_data/images/testing/dunes/33.91849975585937_56.21183319091797_022_CW000_-0.3906455934047699_-0.4254516661167145_1.5940691232681274.jpg\n",
      "Problem with file ../raw_data/images/testing/dunes/20.616500091552734_16.98585090637207_013_CW000_-0.7020641565322876_0.2976413369178772_0.5236460566520691.jpg\n"
     ]
    },
    {
     "name": "stderr",
     "output_type": "stream",
     "text": [
      " 44%|████▎     | 1449/3313 [01:04<01:25, 21.76it/s]"
     ]
    },
    {
     "name": "stdout",
     "output_type": "stream",
     "text": [
      "Problem with file ../raw_data/images/testing/dunes/20.616500091552734_16.310549163818358_010_CW000_-0.23219582438468933_0.16233600676059723_0.5211135149002075.jpg\n",
      "Problem with file ../raw_data/images/testing/dunes/31.603499984741212_57.25590057373047_02_CW000_-0.7503873705863953_0.5718626976013184_1.521544337272644.jpg\n",
      "Problem with file ../raw_data/images/testing/dunes/15.157499885559082_48.10749969482422_03_CW000_0.555108368396759_-0.25157174468040466_2.1437087059020996.jpg\n",
      "Problem with file ../raw_data/images/testing/dunes/45.56650085449219_70.92896423339843_013_CW000_-0.1376262903213501_-0.6878644824028015_1.9643235206604004.jpg\n",
      "Problem with file ../raw_data/images/testing/dunes/44.894501495361325_109.55599670410156_021_CW000_-0.32127106189727783_0.646939218044281_1.6671531200408936.jpg\n"
     ]
    },
    {
     "name": "stderr",
     "output_type": "stream",
     "text": [
      "\r",
      " 44%|████▍     | 1452/3313 [01:04<01:26, 21.57it/s]"
     ]
    },
    {
     "name": "stdout",
     "output_type": "stream",
     "text": [
      "Problem with file ../raw_data/images/testing/dunes/43.24250183105469_107.26060943603515_01_CW000_-0.36938050389289856_0.7169845700263977_2.117690086364746.jpg\n",
      "Problem with file ../raw_data/images/testing/dunes/43.76750030517578_107.46072082519531_031_CW000_-0.5626519322395325_0.6359518766403198_2.296236038208008.jpg\n",
      "Problem with file ../raw_data/images/testing/dunes/25.712500762939452_25.722500228881835_010_CW000_-0.7547097206115723_-0.3471554219722748_1.8870199918746948.jpg\n",
      "Problem with file ../raw_data/images/testing/dunes/42.64850082397461_101.1538330078125_033_CW000_-0.6646287441253662_0.21324422955513_1.3329226970672607.jpg\n",
      "Problem with file ../raw_data/images/testing/dunes/42.47350006103515_100.85372314453124_023_CW000_-0.5346254110336304_0.23889628052711487_1.2315219640731812.jpg\n"
     ]
    },
    {
     "name": "stderr",
     "output_type": "stream",
     "text": [
      " 44%|████▍     | 1458/3313 [01:04<01:29, 20.69it/s]"
     ]
    },
    {
     "name": "stdout",
     "output_type": "stream",
     "text": [
      "Problem with file ../raw_data/images/testing/dunes/33.6635009765625_63.725650024414065_012_CW000_-0.5965145826339722_-0.14967745542526245_1.0601316690444946.jpg\n",
      "Problem with file ../raw_data/images/testing/dunes/43.042501068115236_107.63583221435547_00_CW000_-0.008332541212439537_0.7519580125808716_2.00122332572937.jpg\n",
      "Problem with file ../raw_data/images/testing/dunes/20.66650047302246_16.58564910888672_033_CW000_-0.5643511414527893_0.13684606552124023_0.5955981612205505.jpg\n",
      "Problem with file ../raw_data/images/testing/dunes/40.84550018310547_76.52970581054687_011_CW000_0.47031107544898987_0.4112088978290558_0.7825207710266113.jpg\n"
     ]
    },
    {
     "name": "stderr",
     "output_type": "stream",
     "text": [
      "\r",
      " 44%|████▍     | 1461/3313 [01:04<01:32, 20.12it/s]"
     ]
    },
    {
     "name": "stdout",
     "output_type": "stream",
     "text": [
      "Problem with file ../raw_data/images/testing/dunes/42.7484992980957_100.37857666015626_030_CW000_-0.7539007663726807_0.3295396864414215_1.8627591133117676.jpg\n",
      "Problem with file ../raw_data/images/testing/dunes/20.391499328613282_17.18595085144043_023_CW000_-0.28596338629722595_0.5224985480308533_0.44578996300697327.jpg\n",
      "Problem with file ../raw_data/images/testing/dunes/33.743498992919925_55.386498260498044_011_CW000_-0.8225076198577881_0.2032286822795868_1.8250418901443481.jpg\n",
      "Problem with file ../raw_data/images/testing/dunes/44.44450149536133_109.50591430664062_03_CW000_-0.4724518358707428_0.5909433960914612_1.6088941097259521.jpg\n",
      "Problem with file ../raw_data/images/testing/dunes/20.391499328613282_16.610699081420897_020_CW000_-0.47623181343078613_0.09062356501817703_0.6424728631973267.jpg\n"
     ]
    },
    {
     "name": "stderr",
     "output_type": "stream",
     "text": [
      " 44%|████▍     | 1467/3313 [01:05<01:32, 20.05it/s]"
     ]
    },
    {
     "name": "stdout",
     "output_type": "stream",
     "text": [
      "Problem with file ../raw_data/images/testing/dunes/20.86649932861328_16.885800933837892_033_CW000_-0.6771032810211182_0.07206614315509796_0.7170417904853821.jpg\n",
      "Problem with file ../raw_data/images/testing/dunes/44.54449996948242_109.15566711425781_01_CW000_-0.5682117938995361_0.5579925179481506_1.9668080806732178.jpg\n",
      "Problem with file ../raw_data/images/testing/dunes/42.423501586914064_100.6786865234375_00_CW000_-0.4656716287136078_0.33532214164733887_1.255114197731018.jpg\n",
      "Problem with file ../raw_data/images/testing/dunes/32.938500213623044_64.00079803466797_021_CW000_-0.1903877705335617_0.09767372906208038_0.6856536865234375.jpg\n",
      "Problem with file ../raw_data/images/testing/dunes/28.630500030517577_17.031874465942384_011_CW000_-0.3906416594982147_-0.2960372567176819_1.8671456575393677.jpg\n"
     ]
    },
    {
     "name": "stderr",
     "output_type": "stream",
     "text": [
      "\r",
      " 44%|████▍     | 1470/3313 [01:05<01:31, 20.07it/s]"
     ]
    },
    {
     "name": "stdout",
     "output_type": "stream",
     "text": [
      "Problem with file ../raw_data/images/testing/dunes/20.54149971008301_16.885800933837892_03_CW000_-0.7050067186355591_0.17107044160366058_0.5570440888404846.jpg\n",
      "Problem with file ../raw_data/images/testing/dunes/40.74550170898438_76.92984466552734_011_CW000_-0.6864979267120361_0.6544946432113647_0.8831303119659424.jpg\n",
      "Problem with file ../raw_data/images/testing/dunes/33.51349868774414_64.07584991455079_030_CW000_-0.3980640470981598_-0.3934464454650879_1.0651755332946777.jpg\n",
      "Problem with file ../raw_data/images/testing/dunes/20.79649963378906_34.1327507019043_032_CW000_-0.8393993377685547_-0.23280617594718933_3.392848014831543.jpg\n"
     ]
    },
    {
     "name": "stderr",
     "output_type": "stream",
     "text": [
      " 45%|████▍     | 1475/3313 [01:05<01:34, 19.43it/s]"
     ]
    },
    {
     "name": "stdout",
     "output_type": "stream",
     "text": [
      "Problem with file ../raw_data/images/testing/dunes/15.627500343322755_49.73250122070313_022_CW000_0.256740927696228_-0.6341574788093567_1.553894281387329.jpg\n",
      "Problem with file ../raw_data/images/testing/dunes/40.89549865722656_76.87980804443359_033_CW000_0.017393581569194794_0.22431668639183044_0.4759232699871063.jpg\n",
      "Problem with file ../raw_data/images/testing/dunes/31.378499221801757_56.780564880371095_013_CW000_-0.22673991322517395_0.5100675225257874_1.04258131980896.jpg\n",
      "Problem with file ../raw_data/images/testing/dunes/26.257500457763673_40.87679595947266_022_CW000_-0.11016153544187546_-0.07586554437875748_1.2874208688735962.jpg\n"
     ]
    },
    {
     "name": "stderr",
     "output_type": "stream",
     "text": [
      " 45%|████▍     | 1481/3313 [01:05<01:31, 20.06it/s]"
     ]
    },
    {
     "name": "stdout",
     "output_type": "stream",
     "text": [
      "Problem with file ../raw_data/images/testing/dunes/17.182500076293945_45.307499694824216_011_CW000_-0.19679024815559387_-0.6418666839599609_1.551185131072998.jpg\n",
      "Problem with file ../raw_data/images/testing/dunes/41.195501708984374_76.35464019775391_032_CW000_0.36324208974838257_-0.1682421863079071_0.8382837176322937.jpg\n",
      "Problem with file ../raw_data/images/testing/dunes/44.294499206542966_109.05558471679687_021_CW000_-0.5882011651992798_0.5166877508163452_1.808281421661377.jpg\n",
      "Problem with file ../raw_data/images/testing/dunes/31.628500366210936_57.20590057373047_030_CW000_-0.7563540935516357_0.5491747260093689_1.6378235816955566.jpg\n",
      "Problem with file ../raw_data/images/testing/dunes/43.17350082397461_100.57864990234376_020_CW000_-0.27993252873420715_0.819489061832428_2.0724124908447266.jpg\n"
     ]
    },
    {
     "name": "stderr",
     "output_type": "stream",
     "text": [
      "\r",
      " 45%|████▍     | 1484/3313 [01:06<01:28, 20.65it/s]"
     ]
    },
    {
     "name": "stdout",
     "output_type": "stream",
     "text": [
      "Problem with file ../raw_data/images/testing/dunes/20.91649932861328_16.58564910888672_013_CW000_-0.6154614686965942_-0.12207043915987015_0.682747483253479.jpg\n",
      "Problem with file ../raw_data/images/testing/dunes/25.287499237060548_27.097500610351563_021_CW000_-0.9277774691581726_0.0818016529083252_2.4674928188323975.jpg\n",
      "Problem with file ../raw_data/images/testing/dunes/42.57349853515625_100.97879638671876_020_CW000_-0.6087461709976196_0.21150092780590057_1.2210578918457031.jpg\n",
      "Problem with file ../raw_data/images/testing/dunes/15.152500343322753_49.50750045776367_011_CW000_0.5829294323921204_-0.5725922584533691_1.2109111547470093.jpg\n",
      "Problem with file ../raw_data/images/testing/dunes/40.49550094604492_76.10456695556641_030_CW000_-0.005460376851260662_0.8130400776863098_0.9616098403930664.jpg\n"
     ]
    },
    {
     "name": "stderr",
     "output_type": "stream",
     "text": [
      " 45%|████▍     | 1490/3313 [01:06<01:25, 21.34it/s]"
     ]
    },
    {
     "name": "stdout",
     "output_type": "stream",
     "text": [
      "Problem with file ../raw_data/images/testing/dunes/40.49550094604492_76.57970581054687_033_CW000_-0.40764981508255005_0.7714346051216125_0.9123136401176453.jpg\n",
      "Problem with file ../raw_data/images/testing/dunes/42.823499298095705_100.80372314453125_01_CW000_-0.721983790397644_0.34904780983924866_1.684287190437317.jpg\n",
      "Problem with file ../raw_data/images/testing/dunes/31.85349922180176_57.431034851074216_021_CW000_-0.8880738615989685_0.3022298216819763_1.981667399406433.jpg\n",
      "Problem with file ../raw_data/images/testing/dunes/25.287499237060548_27.147500610351564_023_CW000_-0.9277774691581726_0.0818016529083252_2.4674928188323975.jpg\n",
      "Problem with file ../raw_data/images/testing/dunes/33.41849975585937_55.98674850463867_021_CW000_-0.4221571087837219_-0.20386292040348053_1.2630585432052612.jpg\n"
     ]
    },
    {
     "name": "stderr",
     "output_type": "stream",
     "text": [
      " 45%|████▌     | 1496/3313 [01:06<01:26, 20.89it/s]"
     ]
    },
    {
     "name": "stdout",
     "output_type": "stream",
     "text": [
      "Problem with file ../raw_data/images/testing/dunes/42.99250106811523_107.56078033447265_021_CW000_-0.08754419535398483_0.7478445768356323_1.9767793416976929.jpg\n",
      "Problem with file ../raw_data/images/testing/dunes/44.81949920654297_109.2056671142578_013_CW000_-0.30368950963020325_0.6769421696662903_1.9560052156448364.jpg\n",
      "Problem with file ../raw_data/images/testing/dunes/43.592499542236325_107.26060943603515_021_CW000_-0.5396078824996948_0.6689233779907227_2.3593597412109375.jpg\n",
      "Problem with file ../raw_data/images/testing/dunes/38.71050186157227_95.98668518066407_010_CW000_0.1569157987833023_0.7812523245811462_1.3717600107192993.jpg\n",
      "Problem with file ../raw_data/images/testing/dunes/32.83850173950195_63.42549819946289_022_CW000_-0.6618372797966003_-0.2832964360713959_0.8083289861679077.jpg\n"
     ]
    },
    {
     "name": "stderr",
     "output_type": "stream",
     "text": [
      "\r",
      " 45%|████▌     | 1499/3313 [01:06<01:27, 20.64it/s]"
     ]
    },
    {
     "name": "stdout",
     "output_type": "stream",
     "text": [
      "Problem with file ../raw_data/images/testing/dunes/38.59350051879883_67.74249877929688_030_CW000_-0.8749932050704956_0.16614902019500732_0.4734635055065155.jpg\n",
      "Problem with file ../raw_data/images/testing/dunes/43.167501831054686_107.66083221435547_031_CW000_-0.19944815337657928_0.7376483678817749_1.9059548377990723.jpg\n",
      "Problem with file ../raw_data/images/testing/dunes/44.71950073242188_109.25574951171875_011_CW000_-0.37220391631126404_0.6564979553222656_1.9096006155014038.jpg\n",
      "Problem with file ../raw_data/images/testing/dunes/25.412499618530273_27.097500610351563_011_CW000_-0.9237326979637146_0.07997694611549377_2.436265468597412.jpg\n",
      "Problem with file ../raw_data/images/testing/dunes/38.59350051879883_68.31778106689453_033_CW000_-0.8259504437446594_-0.2710208594799042_0.5902291536331177.jpg\n"
     ]
    },
    {
     "name": "stderr",
     "output_type": "stream",
     "text": [
      " 45%|████▌     | 1505/3313 [01:07<01:28, 20.50it/s]"
     ]
    },
    {
     "name": "stdout",
     "output_type": "stream",
     "text": [
      "Problem with file ../raw_data/images/testing/dunes/20.36649932861328_16.6356990814209_031_CW000_-0.47623181343078613_0.09062356501817703_0.6424728631973267.jpg\n",
      "Problem with file ../raw_data/images/testing/dunes/32.71349945068359_64.32595367431641_032_CW000_-0.501689612865448_0.6559579968452454_0.7979852557182312.jpg\n",
      "Problem with file ../raw_data/images/testing/dunes/28.955499267578126_17.132000732421876_01_CW000_-0.45954445004463196_-0.24324582517147064_1.8100817203521729.jpg\n",
      "Problem with file ../raw_data/images/testing/dunes/40.970498657226564_76.8548080444336_02_CW000_0.017393581569194794_0.22431668639183044_0.4759232699871063.jpg\n",
      "Problem with file ../raw_data/images/testing/dunes/33.2634994506836_63.925749969482425_012_CW000_-0.029654886573553085_-0.4541453421115875_0.8775291442871094.jpg\n"
     ]
    },
    {
     "name": "stderr",
     "output_type": "stream",
     "text": [
      " 46%|████▌     | 1510/3313 [01:07<01:31, 19.77it/s]"
     ]
    },
    {
     "name": "stdout",
     "output_type": "stream",
     "text": [
      "Problem with file ../raw_data/images/testing/dunes/43.51750106811524_107.18555755615235_012_CW000_-0.49531522393226624_0.6957945823669434_2.3344295024871826.jpg\n",
      "Problem with file ../raw_data/images/testing/dunes/29.080500030517577_16.70649948120117_030_CW000_-0.48625698685646057_-0.29959172010421753_1.924341082572937.jpg\n",
      "Problem with file ../raw_data/images/testing/dunes/31.44950065612793_62.05784683227539_01_CW000_-0.8582533001899719_0.34897834062576294_3.7229902744293213.jpg\n",
      "Problem with file ../raw_data/images/testing/dunes/43.442498779296876_107.21055755615234_03_CW000_-0.4740649163722992_0.689431369304657_2.2312939167022705.jpg\n"
     ]
    },
    {
     "name": "stderr",
     "output_type": "stream",
     "text": [
      "\r",
      " 46%|████▌     | 1513/3313 [01:07<01:30, 19.94it/s]"
     ]
    },
    {
     "name": "stdout",
     "output_type": "stream",
     "text": [
      "Problem with file ../raw_data/images/testing/dunes/31.57449951171875_62.03284683227539_030_CW000_-0.8556678295135498_0.2971683144569397_3.934854030609131.jpg\n",
      "Problem with file ../raw_data/images/testing/dunes/31.37450065612793_61.93280258178711_030_CW000_-0.8800142407417297_0.34601882100105286_3.980861186981201.jpg\n",
      "Problem with file ../raw_data/images/testing/dunes/15.777499771118164_49.35749969482422_03_CW000_0.27702221274375916_-0.5867311954498291_1.8404041528701782.jpg\n",
      "Problem with file ../raw_data/images/testing/dunes/44.54449996948242_109.40583190917968_03_CW000_-0.5645065307617188_0.5564512014389038_1.8319741487503052.jpg\n",
      "Problem with file ../raw_data/images/testing/dunes/32.888501739501955_64.00079803466797_01_CW000_-0.43390098214149475_0.33914071321487427_0.6866678595542908.jpg\n"
     ]
    },
    {
     "name": "stderr",
     "output_type": "stream",
     "text": [
      " 46%|████▌     | 1519/3313 [01:07<01:29, 20.11it/s]"
     ]
    },
    {
     "name": "stdout",
     "output_type": "stream",
     "text": [
      "Problem with file ../raw_data/images/testing/dunes/31.55349998474121_57.48103485107422_023_CW000_-0.89073646068573_0.3505879342556_1.7888357639312744.jpg\n",
      "Problem with file ../raw_data/images/testing/dunes/25.92649917602539_7.751500034332276_020_CW000_-0.15097318589687347_-0.36875617504119873_1.1030093431472778.jpg\n",
      "Problem with file ../raw_data/images/testing/dunes/31.42450065612793_61.8827621459961_012_CW000_-0.8927316069602966_0.34784722328186035_4.256605625152588.jpg\n",
      "Problem with file ../raw_data/images/testing/dunes/44.794499206542966_109.60599670410156_023_CW000_-0.3621758818626404_0.6434014439582825_1.7163724899291992.jpg\n",
      "Problem with file ../raw_data/images/testing/dunes/20.721499252319337_34.03266830444336_022_CW000_-0.8621965646743774_-0.18088172376155853_3.3785696029663086.jpg\n"
     ]
    },
    {
     "name": "stderr",
     "output_type": "stream",
     "text": [
      " 46%|████▌     | 1525/3313 [01:08<01:25, 20.86it/s]"
     ]
    },
    {
     "name": "stdout",
     "output_type": "stream",
     "text": [
      "Problem with file ../raw_data/images/testing/dunes/31.378499221801757_56.63050155639648_011_CW000_-0.18898075819015503_0.47843360900878906_1.0891294479370117.jpg\n",
      "Problem with file ../raw_data/images/testing/dunes/44.96649856567383_70.7788818359375_011_CW000_-0.1807394027709961_-0.6585723161697388_1.8677932024002075.jpg\n",
      "Problem with file ../raw_data/images/testing/dunes/40.62049942016601_76.8548080444336_022_CW000_-0.6970863938331604_0.6420078277587891_1.0369129180908203.jpg\n",
      "Problem with file ../raw_data/images/testing/dunes/20.591500091552735_16.310549163818358_020_CW000_-0.23219582438468933_0.16233600676059723_0.5211135149002075.jpg\n",
      "Problem with file ../raw_data/images/testing/dunes/20.94650001525879_34.35791549682617_013_CW000_-0.7939646244049072_-0.3145603835582733_3.4608707427978516.jpg\n"
     ]
    },
    {
     "name": "stderr",
     "output_type": "stream",
     "text": [
      "\r",
      " 46%|████▌     | 1528/3313 [01:08<01:30, 19.83it/s]"
     ]
    },
    {
     "name": "stdout",
     "output_type": "stream",
     "text": [
      "Problem with file ../raw_data/images/testing/dunes/45.46649856567383_70.72880706787109_013_CW000_-0.15203239023685455_-0.6905085444450378_1.9832876920700073.jpg\n",
      "Problem with file ../raw_data/images/testing/dunes/20.566500091552733_16.310549163818358_030_CW000_-0.23219582438468933_0.16233600676059723_0.5211135149002075.jpg\n",
      "Problem with file ../raw_data/images/testing/dunes/18.007499313354494_45.78249969482422_00_CW000_-0.26003918051719666_-0.7593290209770203_2.122446298599243.jpg\n",
      "Problem with file ../raw_data/images/testing/dunes/45.016500854492186_70.30350036621094_032_CW000_-0.17122940719127655_-0.6595162749290466_1.8802216053009033.jpg\n"
     ]
    },
    {
     "name": "stderr",
     "output_type": "stream",
     "text": [
      " 46%|████▌     | 1532/3313 [01:08<01:30, 19.74it/s]"
     ]
    },
    {
     "name": "stdout",
     "output_type": "stream",
     "text": [
      "Problem with file ../raw_data/images/testing/dunes/45.59150085449219_70.7038070678711_02_CW000_-0.13911786675453186_-0.6843159198760986_1.9456740617752075.jpg\n",
      "Problem with file ../raw_data/images/testing/dunes/32.913500213623045_64.05079803466796_033_CW000_-0.1903877705335617_0.09767372906208038_0.6856536865234375.jpg\n",
      "Problem with file ../raw_data/images/testing/dunes/20.766500854492186_16.81080093383789_030_CW000_-0.6576237082481384_0.09578590095043182_0.6180264949798584.jpg\n",
      "Problem with file ../raw_data/images/testing/dunes/15.032500457763671_48.25750045776367_011_CW000_0.5143918395042419_-0.26547548174858093_2.101520299911499.jpg\n",
      "Problem with file ../raw_data/images/testing/dunes/20.941499328613283_16.610699081420897_00_CW000_-0.6810302734375_0.0036022611893713474_0.6935921311378479.jpg\n"
     ]
    },
    {
     "name": "stderr",
     "output_type": "stream",
     "text": [
      " 46%|████▋     | 1538/3313 [01:08<01:28, 19.95it/s]"
     ]
    },
    {
     "name": "stdout",
     "output_type": "stream",
     "text": [
      "Problem with file ../raw_data/images/testing/dunes/43.2734992980957_100.62864990234375_022_CW000_-0.13585664331912994_0.8724046945571899_2.146843194961548.jpg\n",
      "Problem with file ../raw_data/images/testing/dunes/43.14850082397461_101.1538330078125_033_CW000_-0.1863543689250946_0.8408895134925842_1.9971835613250732.jpg\n",
      "Problem with file ../raw_data/images/testing/dunes/20.34150085449219_17.11095085144043_00_CW000_-0.17775921523571014_0.3991169333457947_0.4318420886993408.jpg\n",
      "Problem with file ../raw_data/images/testing/dunes/43.192501831054685_107.035498046875_020_CW000_-0.3970525562763214_0.6987496018409729_2.124063491821289.jpg\n",
      "Problem with file ../raw_data/images/testing/dunes/15.082499885559082_48.13249816894531_030_CW000_0.5415379405021667_-0.2568032741546631_2.109870195388794.jpg\n"
     ]
    },
    {
     "name": "stderr",
     "output_type": "stream",
     "text": [
      " 47%|████▋     | 1543/3313 [01:08<01:29, 19.79it/s]"
     ]
    },
    {
     "name": "stdout",
     "output_type": "stream",
     "text": [
      "Problem with file ../raw_data/images/testing/dunes/29.205500411987305_16.981750106811525_023_CW000_-0.5096351504325867_-0.20398612320423126_1.9245661497116089.jpg\n",
      "Problem with file ../raw_data/images/testing/dunes/20.941499328613283_17.06090087890625_02_CW000_-0.6136155724525452_0.04744504392147064_0.7678508162498474.jpg\n",
      "Problem with file ../raw_data/images/testing/dunes/26.382500839233398_40.62667694091797_010_CW000_-0.016611440107226372_0.07586167752742767_1.3066552877426147.jpg\n",
      "Problem with file ../raw_data/images/testing/dunes/34.16850051879883_55.861708068847655_00_CW000_-0.7659274935722351_-0.23762226104736328_2.1639156341552734.jpg\n"
     ]
    },
    {
     "name": "stderr",
     "output_type": "stream",
     "text": [
      "\r",
      " 47%|████▋     | 1545/3313 [01:09<01:29, 19.70it/s]"
     ]
    },
    {
     "name": "stdout",
     "output_type": "stream",
     "text": [
      "Problem with file ../raw_data/images/testing/dunes/40.595499420166014_77.0548812866211_032_CW000_-0.7803475260734558_0.5782200694084167_1.1328470706939697.jpg\n",
      "Problem with file ../raw_data/images/testing/dunes/43.167501831054686_107.43572082519532_030_CW000_-0.30510076880455017_0.7323349118232727_2.0478405952453613.jpg\n",
      "Problem with file ../raw_data/images/testing/dunes/31.849500274658205_61.60762939453125_03_CW000_-0.9199698567390442_0.298672080039978_5.391808986663818.jpg\n",
      "Problem with file ../raw_data/images/testing/dunes/26.182500076293945_40.45155792236328_011_CW000_0.09911572188138962_0.35176339745521545_1.4056788682937622.jpg\n"
     ]
    },
    {
     "name": "stderr",
     "output_type": "stream",
     "text": [
      " 47%|████▋     | 1550/3313 [01:09<01:33, 18.86it/s]"
     ]
    },
    {
     "name": "stdout",
     "output_type": "stream",
     "text": [
      "Problem with file ../raw_data/images/testing/dunes/41.39549865722656_77.1799102783203_033_CW000_0.6901392936706543_0.11394710838794708_0.8951123952865601.jpg\n",
      "Problem with file ../raw_data/images/testing/dunes/17.882500839233398_46.00750045776367_011_CW000_-0.28634345531463623_-0.7530563473701477_2.073654890060425.jpg\n",
      "Problem with file ../raw_data/images/testing/dunes/31.89950065612793_61.682673645019534_022_CW000_-0.9040991067886353_0.28551948070526123_5.007256031036377.jpg\n",
      "Problem with file ../raw_data/images/testing/dunes/41.22050170898437_77.15491027832032_022_CW000_-0.061476025730371475_-0.06232086569070816_0.6432257890701294.jpg\n"
     ]
    },
    {
     "name": "stderr",
     "output_type": "stream",
     "text": [
      " 47%|████▋     | 1554/3313 [01:09<01:31, 19.29it/s]"
     ]
    },
    {
     "name": "stdout",
     "output_type": "stream",
     "text": [
      "Problem with file ../raw_data/images/testing/dunes/42.96750106811523_107.63583221435547_030_CW000_-0.008332541212439537_0.7519580125808716_2.00122332572937.jpg\n",
      "Problem with file ../raw_data/images/testing/dunes/20.671500778198244_34.332915496826175_02_CW000_-0.7789096832275391_-0.3169129192829132_3.3478753566741943.jpg\n",
      "Problem with file ../raw_data/images/testing/dunes/20.516499710083007_17.18595085144043_013_CW000_-0.410241961479187_0.5179249048233032_0.5145276784896851.jpg\n",
      "Problem with file ../raw_data/images/testing/dunes/14.732500267028808_48.08249969482422_012_CW000_0.6427724361419678_-0.22423656284809113_1.2981243133544922.jpg\n",
      "Problem with file ../raw_data/images/testing/dunes/28.930499267578124_17.081874465942384_013_CW000_-0.4540223777294159_-0.25677013397216797_1.8461145162582397.jpg\n"
     ]
    },
    {
     "name": "stderr",
     "output_type": "stream",
     "text": [
      " 47%|████▋     | 1561/3313 [01:09<01:29, 19.68it/s]"
     ]
    },
    {
     "name": "stdout",
     "output_type": "stream",
     "text": [
      "Problem with file ../raw_data/images/testing/dunes/42.57349853515625_100.953759765625_023_CW000_-0.6342736482620239_0.24210113286972046_1.2769869565963745.jpg\n",
      "Problem with file ../raw_data/images/testing/dunes/41.095499420166014_76.90484466552735_030_CW000_0.07071025669574738_-0.12174086272716522_0.6477588415145874.jpg\n",
      "Problem with file ../raw_data/images/testing/dunes/29.180500411987303_16.781499481201173_033_CW000_-0.4958956241607666_-0.2636813819408417_1.9415779113769531.jpg\n",
      "Problem with file ../raw_data/images/testing/dunes/42.398501586914065_101.22886962890625_012_CW000_-0.3371007442474365_0.1406775414943695_1.0607670545578003.jpg\n"
     ]
    },
    {
     "name": "stderr",
     "output_type": "stream",
     "text": [
      "\r",
      " 47%|████▋     | 1563/3313 [01:10<01:34, 18.47it/s]"
     ]
    },
    {
     "name": "stdout",
     "output_type": "stream",
     "text": [
      "Problem with file ../raw_data/images/testing/dunes/20.771499252319337_34.107750701904294_01_CW000_-0.8340299129486084_-0.23505526781082153_3.348466396331787.jpg\n",
      "Problem with file ../raw_data/images/testing/dunes/28.630500030517577_16.731499481201173_011_CW000_-0.3544507920742035_-0.29909002780914307_1.8752869367599487.jpg\n",
      "Problem with file ../raw_data/images/testing/dunes/19.96749954223633_33.61650161743164_021_CW000_-0.9034959077835083_-0.08976404368877411_3.8963255882263184.jpg\n",
      "Problem with file ../raw_data/images/testing/dunes/45.36650009155274_70.35357513427735_010_CW000_-0.1623912900686264_-0.6763166785240173_1.9462718963623047.jpg\n"
     ]
    },
    {
     "name": "stderr",
     "output_type": "stream",
     "text": [
      " 47%|████▋     | 1567/3313 [01:10<01:32, 18.84it/s]"
     ]
    },
    {
     "name": "stdout",
     "output_type": "stream",
     "text": [
      "Problem with file ../raw_data/images/testing/dunes/34.09350051879883_55.88670806884765_031_CW000_-0.7659274935722351_-0.23762226104736328_2.1639156341552734.jpg\n",
      "Problem with file ../raw_data/images/testing/dunes/43.29250030517578_107.76089172363281_021_CW000_-0.2360256314277649_0.6960911154747009_1.7476433515548706.jpg\n",
      "Problem with file ../raw_data/images/testing/dunes/31.674499893188475_61.407544708251955_033_CW000_-0.9382120966911316_0.3087848126888275_5.850787162780762.jpg\n",
      "Problem with file ../raw_data/images/testing/dunes/29.005499649047852_17.182000732421876_023_CW000_-0.49418437480926514_-0.22355769574642181_1.8240255117416382.jpg\n"
     ]
    },
    {
     "name": "stderr",
     "output_type": "stream",
     "text": [
      " 47%|████▋     | 1571/3313 [01:10<01:30, 19.35it/s]"
     ]
    },
    {
     "name": "stdout",
     "output_type": "stream",
     "text": [
      "Problem with file ../raw_data/images/testing/dunes/33.6385009765625_64.25090179443359_023_CW000_-0.3423406183719635_-0.3204615116119385_1.1499325037002563.jpg\n",
      "Problem with file ../raw_data/images/testing/dunes/31.92450065612793_61.83276214599609_010_CW000_-0.8730796575546265_0.2584809362888336_4.418321132659912.jpg\n",
      "Problem with file ../raw_data/images/testing/dunes/42.59849853515625_100.7036865234375_011_CW000_-0.6895604133605957_0.28865087032318115_1.4176580905914307.jpg\n",
      "Problem with file ../raw_data/images/testing/dunes/28.855500793457033_17.282125091552736_03_CW000_-0.4434850513935089_-0.2522886097431183_1.786432147026062.jpg\n",
      "Problem with file ../raw_data/images/testing/dunes/38.5854995727539_96.38704528808594_020_CW000_0.12886519730091095_0.7174606919288635_1.1566250324249268.jpg\n"
     ]
    },
    {
     "name": "stderr",
     "output_type": "stream",
     "text": [
      " 48%|████▊     | 1578/3313 [01:10<01:28, 19.68it/s]"
     ]
    },
    {
     "name": "stdout",
     "output_type": "stream",
     "text": [
      "Problem with file ../raw_data/images/testing/dunes/14.982500457763672_47.832498931884764_030_CW000_0.5708051919937134_-0.29849594831466675_2.2737481594085693.jpg\n",
      "Problem with file ../raw_data/images/testing/dunes/33.99349822998047_55.46154251098633_030_CW000_-0.8228869438171387_0.051543645560741425_2.267083168029785.jpg\n",
      "Problem with file ../raw_data/images/testing/dunes/25.976499176025392_7.776500034332275_01_CW000_-0.15097318589687347_-0.36875617504119873_1.1030093431472778.jpg\n",
      "Problem with file ../raw_data/images/testing/dunes/44.44450149536133_109.63108673095704_00_CW000_-0.41784754395484924_0.5990960001945496_1.4728094339370728.jpg\n"
     ]
    },
    {
     "name": "stderr",
     "output_type": "stream",
     "text": [
      "\r",
      " 48%|████▊     | 1580/3313 [01:10<01:34, 18.42it/s]"
     ]
    },
    {
     "name": "stdout",
     "output_type": "stream",
     "text": [
      "Problem with file ../raw_data/images/testing/dunes/31.824500274658202_61.95780258178711_011_CW000_-0.8641168475151062_0.25640398263931274_4.2204437255859375.jpg\n",
      "Problem with file ../raw_data/images/testing/dunes/45.166499328613284_70.7038070678711_012_CW000_-0.18394336104393005_-0.681837260723114_1.9496077299118042.jpg\n",
      "Problem with file ../raw_data/images/testing/dunes/42.67350082397461_100.45357666015624_023_CW000_-0.7548223733901978_0.3328409492969513_1.837989091873169.jpg\n",
      "Problem with file ../raw_data/images/testing/dunes/31.699499893188477_61.35754470825195_021_CW000_-0.9382120966911316_0.3087848126888275_5.850787162780762.jpg\n"
     ]
    },
    {
     "name": "stderr",
     "output_type": "stream",
     "text": [
      " 48%|████▊     | 1584/3313 [01:11<01:31, 18.92it/s]"
     ]
    },
    {
     "name": "stdout",
     "output_type": "stream",
     "text": [
      "Problem with file ../raw_data/images/testing/dunes/20.566500091552733_16.58564910888672_033_CW000_-0.479668527841568_0.17684780061244965_0.6195021271705627.jpg\n",
      "Problem with file ../raw_data/images/testing/dunes/33.81850128173828_55.68662338256836_021_CW000_-0.8179576992988586_0.06272365152835846_1.8955152034759521.jpg\n",
      "Problem with file ../raw_data/images/testing/dunes/31.499499130249024_62.10784683227539_023_CW000_-0.8613656163215637_0.3196846544742584_3.8689846992492676.jpg\n",
      "Problem with file ../raw_data/images/testing/dunes/15.127500343322755_50.00750045776367_021_CW000_0.6308180689811707_-0.37644022703170776_1.282456874847412.jpg\n",
      "Problem with file ../raw_data/images/testing/dunes/15.132499885559081_48.25750045776367_011_CW000_0.530726969242096_-0.27493077516555786_2.1112582683563232.jpg\n"
     ]
    },
    {
     "name": "stderr",
     "output_type": "stream",
     "text": [
      " 48%|████▊     | 1590/3313 [01:11<01:27, 19.68it/s]"
     ]
    },
    {
     "name": "stdout",
     "output_type": "stream",
     "text": [
      "Problem with file ../raw_data/images/testing/dunes/25.807500457763673_40.97685165405274_02_CW000_0.13221238553524017_0.06039104238152504_1.395803451538086.jpg\n",
      "Problem with file ../raw_data/images/testing/dunes/20.846499633789062_34.107750701904294_011_CW000_-0.8393993377685547_-0.23280617594718933_3.392848014831543.jpg\n",
      "Problem with file ../raw_data/images/testing/dunes/44.94450149536133_109.38083190917969_02_CW000_-0.3056570589542389_0.6643776297569275_1.7901220321655273.jpg\n",
      "Problem with file ../raw_data/images/testing/dunes/26.001499557495116_8.026785945892334_033_CW000_-0.10474859923124313_-0.3361809253692627_1.0840989351272583.jpg\n",
      "Problem with file ../raw_data/images/testing/dunes/38.31050033569336_96.33695526123047_012_CW000_0.02909848652780056_0.8845816254615784_1.6009963750839233.jpg\n"
     ]
    },
    {
     "name": "stderr",
     "output_type": "stream",
     "text": [
      " 48%|████▊     | 1596/3313 [01:11<01:25, 20.00it/s]"
     ]
    },
    {
     "name": "stdout",
     "output_type": "stream",
     "text": [
      "Problem with file ../raw_data/images/testing/dunes/44.91950149536133_109.43091430664063_010_CW000_-0.3180440068244934_0.6565249562263489_1.7250334024429321.jpg\n",
      "Problem with file ../raw_data/images/testing/dunes/40.74550170898438_76.77977905273437_013_CW000_-0.2506358325481415_0.7672725915908813_0.6477415561676025.jpg\n",
      "Problem with file ../raw_data/images/testing/dunes/20.591500091552735_16.46059913635254_022_CW000_-0.3417208790779114_0.19860801100730896_0.592272937297821.jpg\n",
      "Problem with file ../raw_data/images/testing/dunes/42.62349853515625_100.7536865234375_03_CW000_-0.6895604133605957_0.28865087032318115_1.4176580905914307.jpg\n",
      "Problem with file ../raw_data/images/testing/dunes/21.171500778198244_34.18283309936523_00_CW000_-0.8320323824882507_-0.25281721353530884_3.40447735786438.jpg\n"
     ]
    },
    {
     "name": "stderr",
     "output_type": "stream",
     "text": [
      " 48%|████▊     | 1600/3313 [01:11<01:26, 19.86it/s]"
     ]
    },
    {
     "name": "stdout",
     "output_type": "stream",
     "text": [
      "Problem with file ../raw_data/images/testing/dunes/44.86950149536133_109.55599670410156_031_CW000_-0.32127106189727783_0.646939218044281_1.6671531200408936.jpg\n",
      "Problem with file ../raw_data/images/testing/dunes/44.91950149536133_109.55599670410156_011_CW000_-0.32127106189727783_0.646939218044281_1.6671531200408936.jpg\n",
      "Problem with file ../raw_data/images/testing/dunes/26.001499557495116_7.8766429901123045_031_CW000_-0.14519013464450836_-0.3576643168926239_1.1119623184204102.jpg\n",
      "Problem with file ../raw_data/images/testing/dunes/44.86950149536133_109.43091430664063_030_CW000_-0.3180440068244934_0.6565249562263489_1.7250334024429321.jpg\n",
      "Problem with file ../raw_data/images/testing/dunes/44.26949920654297_109.05558471679687_031_CW000_-0.5882011651992798_0.5166877508163452_1.808281421661377.jpg\n"
     ]
    },
    {
     "name": "stderr",
     "output_type": "stream",
     "text": [
      " 48%|████▊     | 1606/3313 [01:12<01:22, 20.79it/s]"
     ]
    },
    {
     "name": "stdout",
     "output_type": "stream",
     "text": [
      "Problem with file ../raw_data/images/testing/dunes/40.770501708984376_76.8548080444336_02_CW000_-0.5306148529052734_0.7230538725852966_0.7401151657104492.jpg\n",
      "Problem with file ../raw_data/images/testing/dunes/45.19149932861328_70.8288818359375_03_CW000_-0.1928340345621109_-0.6832738518714905_1.9524868726730347.jpg\n",
      "Problem with file ../raw_data/images/testing/dunes/33.393499755859374_56.136792755126955_033_CW000_-0.4501940608024597_-0.06743151694536209_1.1663837432861328.jpg\n",
      "Problem with file ../raw_data/images/testing/dunes/15.37750015258789_49.70750122070312_01_CW000_0.46431758999824524_-0.5653150677680969_1.3872489929199219.jpg\n",
      "Problem with file ../raw_data/images/testing/dunes/21.016499710083007_16.710749053955077_010_CW000_-0.6926047205924988_-0.062145087867975235_0.8218837380409241.jpg\n"
     ]
    },
    {
     "name": "stderr",
     "output_type": "stream",
     "text": [
      "\r",
      " 49%|████▊     | 1609/3313 [01:12<01:22, 20.68it/s]"
     ]
    },
    {
     "name": "stdout",
     "output_type": "stream",
     "text": [
      "Problem with file ../raw_data/images/testing/dunes/42.7734992980957_100.50361328125_021_CW000_-0.7477524280548096_0.3641163110733032_1.9214640855789185.jpg\n",
      "Problem with file ../raw_data/images/testing/dunes/26.3575008392334_41.07691116333008_022_CW000_-0.1430160403251648_-0.21915097534656525_1.3290443420410156.jpg\n",
      "Problem with file ../raw_data/images/testing/dunes/38.48550109863281_95.98668518066407_020_CW000_0.16777095198631287_0.8236806988716125_1.411568284034729.jpg\n",
      "Problem with file ../raw_data/images/testing/dunes/15.057500457763672_47.73250045776367_00_CW000_0.5840241312980652_-0.33360782265663147_2.3078091144561768.jpg\n",
      "Problem with file ../raw_data/images/testing/dunes/28.730500411987304_16.856625747680663_012_CW000_-0.3636600375175476_-0.29754436016082764_1.8568904399871826.jpg\n"
     ]
    },
    {
     "name": "stderr",
     "output_type": "stream",
     "text": [
      " 49%|████▊     | 1615/3313 [01:12<01:19, 21.25it/s]"
     ]
    },
    {
     "name": "stdout",
     "output_type": "stream",
     "text": [
      "Problem with file ../raw_data/images/testing/dunes/44.41950149536133_109.45591430664062_011_CW000_-0.4724518358707428_0.5909433960914612_1.6088941097259521.jpg\n",
      "Problem with file ../raw_data/images/testing/dunes/28.680500411987303_17.00687446594238_030_CW000_-0.3880923092365265_-0.2925341725349426_1.8508652448654175.jpg\n",
      "Problem with file ../raw_data/images/testing/dunes/31.328499221801756_57.30596771240234_030_CW000_-0.7547659873962402_0.59235680103302_1.49251127243042.jpg\n",
      "Problem with file ../raw_data/images/testing/dunes/38.69349899291992_68.09266967773438_032_CW000_-0.6463066339492798_-0.027488093823194504_0.47066551446914673.jpg\n",
      "Problem with file ../raw_data/images/testing/dunes/33.6135009765625_64.27595367431641_030_CW000_-0.31477949023246765_-0.3192647695541382_1.1632159948349.jpg\n"
     ]
    },
    {
     "name": "stderr",
     "output_type": "stream",
     "text": [
      " 49%|████▉     | 1621/3313 [01:12<01:20, 21.02it/s]"
     ]
    },
    {
     "name": "stdout",
     "output_type": "stream",
     "text": [
      "Problem with file ../raw_data/images/testing/dunes/26.23250045776367_40.85179595947265_031_CW000_-0.11016153544187546_-0.07586554437875748_1.2874208688735962.jpg\n",
      "Problem with file ../raw_data/images/testing/dunes/38.71050186157227_96.58722534179688_010_CW000_0.06245463341474533_0.5495375394821167_0.9625502228736877.jpg\n",
      "Problem with file ../raw_data/images/testing/dunes/31.653500366210938_56.7555648803711_022_CW000_-0.3664163649082184_0.7035951018333435_0.9957700967788696.jpg\n",
      "Problem with file ../raw_data/images/testing/dunes/32.83850173950195_64.00079803466797_021_CW000_-0.43390098214149475_0.33914071321487427_0.6866678595542908.jpg\n",
      "Problem with file ../raw_data/images/testing/dunes/17.182500076293945_45.88249816894531_010_CW000_-0.2797195017337799_-0.6935234069824219_1.7272640466690063.jpg\n"
     ]
    },
    {
     "name": "stderr",
     "output_type": "stream",
     "text": [
      "\r",
      " 49%|████▉     | 1624/3313 [01:13<01:20, 21.03it/s]"
     ]
    },
    {
     "name": "stdout",
     "output_type": "stream",
     "text": [
      "Problem with file ../raw_data/images/testing/dunes/43.51750106811524_107.68583221435547_012_CW000_-0.46071723103523254_0.6431394219398499_1.8604093790054321.jpg\n",
      "Problem with file ../raw_data/images/testing/dunes/28.98049964904785_16.806625747680663_030_CW000_-0.4834824800491333_-0.29929909110069275_1.8937963247299194.jpg\n",
      "Problem with file ../raw_data/images/testing/dunes/26.28250045776367_40.45155792236328_011_CW000_0.10226726531982422_0.31261441111564636_1.3945128917694092.jpg\n",
      "Problem with file ../raw_data/images/testing/dunes/43.14249954223633_107.26060943603515_01_CW000_-0.3239474892616272_0.7198408842086792_2.048227548599243.jpg\n",
      "Problem with file ../raw_data/images/testing/dunes/42.423501586914064_100.85372314453124_03_CW000_-0.436320036649704_0.3099846839904785_1.2104905843734741.jpg\n"
     ]
    },
    {
     "name": "stderr",
     "output_type": "stream",
     "text": [
      " 49%|████▉     | 1630/3313 [01:13<01:19, 21.05it/s]"
     ]
    },
    {
     "name": "stdout",
     "output_type": "stream",
     "text": [
      "Problem with file ../raw_data/images/testing/dunes/42.7484992980957_100.82872314453125_032_CW000_-0.721983790397644_0.34904780983924866_1.684287190437317.jpg\n",
      "Problem with file ../raw_data/images/testing/dunes/26.257500457763673_41.10191116333008_023_CW000_-0.1396024376153946_-0.19605056941509247_1.3086574077606201.jpg\n",
      "Problem with file ../raw_data/images/testing/dunes/33.33850173950195_64.20090179443359_021_CW000_-0.19145871698856354_-0.3099783658981323_0.959148108959198.jpg\n",
      "Problem with file ../raw_data/images/testing/dunes/20.891499328613282_16.410599136352538_020_CW000_-0.5094184875488281_-0.31974539160728455_0.6648147106170654.jpg\n",
      "Problem with file ../raw_data/images/testing/dunes/40.89549865722656_77.0048812866211_030_CW000_-0.6934092044830322_0.29324617981910706_0.6616343855857849.jpg\n"
     ]
    },
    {
     "name": "stderr",
     "output_type": "stream",
     "text": [
      " 49%|████▉     | 1636/3313 [01:13<01:18, 21.33it/s]"
     ]
    },
    {
     "name": "stdout",
     "output_type": "stream",
     "text": [
      "Problem with file ../raw_data/images/testing/dunes/25.98249931335449_41.07691116333008_012_CW000_-0.020494312047958374_-0.07841527462005615_1.2872204780578613.jpg\n",
      "Problem with file ../raw_data/images/testing/dunes/33.06349868774414_63.67565002441406_010_CW000_-0.344663143157959_-0.2610417604446411_0.6303470134735107.jpg\n",
      "Problem with file ../raw_data/images/testing/dunes/31.7745002746582_61.50758514404297_033_CW000_-0.9257928133010864_0.3133894205093384_5.601871490478516.jpg\n",
      "Problem with file ../raw_data/images/testing/dunes/40.52050094604492_76.1295669555664_021_CW000_-0.005460376851260662_0.8130400776863098_0.9616098403930664.jpg\n",
      "Problem with file ../raw_data/images/testing/dunes/33.03849868774414_63.45049819946289_023_CW000_-0.6691743731498718_-0.43069934844970703_0.7408806681632996.jpg\n"
     ]
    },
    {
     "name": "stderr",
     "output_type": "stream",
     "text": [
      "\r",
      " 49%|████▉     | 1639/3313 [01:13<01:17, 21.46it/s]"
     ]
    },
    {
     "name": "stdout",
     "output_type": "stream",
     "text": [
      "Problem with file ../raw_data/images/testing/dunes/19.942499542236327_34.016999053955075_031_CW000_-0.8352704644203186_-0.17697227001190186_3.5348799228668213.jpg\n",
      "Problem with file ../raw_data/images/testing/dunes/43.79250030517578_107.43572082519532_020_CW000_-0.5626519322395325_0.6359518766403198_2.296236038208008.jpg\n",
      "Problem with file ../raw_data/images/testing/dunes/40.74550170898438_76.82980804443359_011_CW000_-0.5306148529052734_0.7230538725852966_0.7401151657104492.jpg\n",
      "Problem with file ../raw_data/images/testing/dunes/25.957499313354493_40.97685165405274_022_CW000_0.0036399178206920624_-0.014897942543029785_1.296105146408081.jpg\n",
      "Problem with file ../raw_data/images/testing/dunes/33.48850021362305_63.80070190429687_01_CW000_-0.5527076721191406_-0.28333184123039246_0.8531238436698914.jpg\n"
     ]
    },
    {
     "name": "stderr",
     "output_type": "stream",
     "text": [
      " 50%|████▉     | 1645/3313 [01:14<01:17, 21.41it/s]"
     ]
    },
    {
     "name": "stdout",
     "output_type": "stream",
     "text": [
      "Problem with file ../raw_data/images/testing/dunes/25.707500076293947_41.001851654052736_03_CW000_0.14773139357566833_0.05112936347723007_1.4334502220153809.jpg\n",
      "Problem with file ../raw_data/images/testing/dunes/19.76750068664551_33.7166259765625_021_CW000_-0.8796985745429993_-0.10158123075962067_3.8012449741363525.jpg\n",
      "Problem with file ../raw_data/images/testing/dunes/21.116500091552734_17.08590087890625_013_CW000_-0.6570918560028076_-0.14736638963222504_0.8686606287956238.jpg\n",
      "Problem with file ../raw_data/images/testing/dunes/20.821499633789063_33.98266830444336_020_CW000_-0.8638318777084351_-0.18350116908550262_3.409942150115967.jpg\n",
      "Problem with file ../raw_data/images/testing/dunes/19.812499237060546_45.29249877929688_012_CW000_0.12202513217926025_-0.6915692090988159_2.2859389781951904.jpg\n"
     ]
    },
    {
     "name": "stderr",
     "output_type": "stream",
     "text": [
      " 50%|████▉     | 1651/3313 [01:14<01:16, 21.61it/s]"
     ]
    },
    {
     "name": "stdout",
     "output_type": "stream",
     "text": [
      "Problem with file ../raw_data/images/testing/dunes/20.34150085449219_17.16095085144043_02_CW000_-0.17775921523571014_0.3991169333457947_0.4318420886993408.jpg\n",
      "Problem with file ../raw_data/images/testing/dunes/15.132499885559081_47.73250045776367_010_CW000_0.5952817797660828_-0.33274322748184204_2.2023720741271973.jpg\n",
      "Problem with file ../raw_data/images/testing/dunes/44.294499206542966_109.68108673095703_022_CW000_-0.2641898989677429_0.6325899958610535_1.3895773887634277.jpg\n",
      "Problem with file ../raw_data/images/testing/dunes/20.846499633789062_34.1577507019043_013_CW000_-0.8393993377685547_-0.23280617594718933_3.392848014831543.jpg\n",
      "Problem with file ../raw_data/images/testing/dunes/20.441499328613283_16.310549163818358_00_CW000_-0.06521864980459213_0.15649478137493134_0.6092240214347839.jpg\n"
     ]
    },
    {
     "name": "stderr",
     "output_type": "stream",
     "text": [
      "\r",
      " 50%|████▉     | 1654/3313 [01:14<01:17, 21.39it/s]"
     ]
    },
    {
     "name": "stdout",
     "output_type": "stream",
     "text": [
      "Problem with file ../raw_data/images/testing/dunes/28.53250045776367_22.64749984741211_011_CW000_-0.5767935514450073_-0.17410708963871002_1.7529361248016357.jpg\n",
      "Problem with file ../raw_data/images/testing/dunes/43.092499542236325_107.61078033447265_023_CW000_-0.16774529218673706_0.7544317245483398_2.0006778240203857.jpg\n",
      "Problem with file ../raw_data/images/testing/dunes/42.57349853515625_100.52861328125_022_CW000_-0.7057090997695923_0.33306053280830383_1.5959984064102173.jpg\n",
      "Problem with file ../raw_data/images/testing/dunes/31.42450065612793_61.63267364501953_010_CW000_-0.9260085225105286_0.30318284034729004_4.836687088012695.jpg\n",
      "Problem with file ../raw_data/images/testing/dunes/41.07050094604492_76.60474243164063_00_CW000_0.48151034116744995_0.07289420068264008_0.7118503451347351.jpg\n"
     ]
    },
    {
     "name": "stderr",
     "output_type": "stream",
     "text": [
      " 50%|█████     | 1660/3313 [01:14<01:17, 21.38it/s]"
     ]
    },
    {
     "name": "stdout",
     "output_type": "stream",
     "text": [
      "Problem with file ../raw_data/images/testing/dunes/38.21050186157227_95.86149749755859_013_CW000_-0.2267722487449646_0.8887361288070679_1.251452088356018.jpg\n",
      "Problem with file ../raw_data/images/testing/dunes/44.31949920654297_109.15566711425781_011_CW000_-0.5478127002716064_0.5291091799736023_1.7025138139724731.jpg\n",
      "Problem with file ../raw_data/images/testing/dunes/38.160501861572264_95.8364974975586_032_CW000_-0.2267722487449646_0.8887361288070679_1.251452088356018.jpg\n",
      "Problem with file ../raw_data/images/testing/dunes/26.257500457763673_40.55161743164062_021_CW000_0.04593879356980324_0.23208189010620117_1.3299119472503662.jpg\n",
      "Problem with file ../raw_data/images/testing/dunes/42.99250106811523_107.4106689453125_023_CW000_-0.21536904573440552_0.7283552289009094_1.9757072925567627.jpg\n"
     ]
    },
    {
     "name": "stderr",
     "output_type": "stream",
     "text": [
      " 50%|█████     | 1666/3313 [01:14<01:16, 21.48it/s]"
     ]
    },
    {
     "name": "stdout",
     "output_type": "stream",
     "text": [
      "Problem with file ../raw_data/images/testing/dunes/31.453499603271485_57.20590057373047_020_CW000_-0.7345653176307678_0.5979325175285339_1.392768144607544.jpg\n",
      "Problem with file ../raw_data/images/testing/dunes/33.06349868774414_63.62559814453125_012_CW000_-0.4777297079563141_-0.33530285954475403_0.6580554246902466.jpg\n",
      "Problem with file ../raw_data/images/testing/dunes/15.157499885559082_48.13249816894531_00_CW000_0.5415379405021667_-0.2568032741546631_2.109870195388794.jpg\n",
      "Problem with file ../raw_data/images/testing/dunes/42.64850082397461_100.37857666015626_030_CW000_-0.7548223733901978_0.3328409492969513_1.837989091873169.jpg\n",
      "Problem with file ../raw_data/images/testing/dunes/31.253500747680665_57.180833435058595_023_CW000_-0.5770965218544006_0.6842880845069885_0.9176405668258667.jpg\n"
     ]
    },
    {
     "name": "stderr",
     "output_type": "stream",
     "text": [
      "\r",
      " 50%|█████     | 1669/3313 [01:15<01:16, 21.42it/s]"
     ]
    },
    {
     "name": "stdout",
     "output_type": "stream",
     "text": [
      "Problem with file ../raw_data/images/testing/dunes/31.524499130249023_62.05784683227539_011_CW000_-0.8613656163215637_0.3196846544742584_3.8689846992492676.jpg\n",
      "Problem with file ../raw_data/images/testing/dunes/15.4774995803833_49.532500457763675_02_CW000_0.38708391785621643_-0.5966303944587708_1.6326414346694946.jpg\n",
      "Problem with file ../raw_data/images/testing/dunes/26.28250045776367_40.476557922363284_012_CW000_0.10226726531982422_0.31261441111564636_1.3945128917694092.jpg\n",
      "Problem with file ../raw_data/images/testing/dunes/43.17350082397461_100.80372314453125_021_CW000_-0.24657216668128967_0.8413830399513245_2.2217018604278564.jpg\n",
      "Problem with file ../raw_data/images/testing/dunes/42.69850082397461_101.00379638671875_011_CW000_-0.6811047792434692_0.242052361369133_1.3869277238845825.jpg\n"
     ]
    },
    {
     "name": "stderr",
     "output_type": "stream",
     "text": [
      " 51%|█████     | 1675/3313 [01:15<01:16, 21.39it/s]"
     ]
    },
    {
     "name": "stdout",
     "output_type": "stream",
     "text": [
      "Problem with file ../raw_data/images/testing/dunes/20.291500854492188_17.11095085144043_020_CW000_-0.17775921523571014_0.3991169333457947_0.4318420886993408.jpg\n",
      "Problem with file ../raw_data/images/testing/dunes/31.59949951171875_61.93280258178711_020_CW000_-0.8776283264160156_0.294670969247818_4.190341949462891.jpg\n",
      "Problem with file ../raw_data/images/testing/dunes/31.878499221801757_57.431034851074216_011_CW000_-0.8880738615989685_0.3022298216819763_1.981667399406433.jpg\n",
      "Problem with file ../raw_data/images/testing/dunes/43.56749954223633_107.73589172363282_030_CW000_-0.5074372291564941_0.603607714176178_1.8269751071929932.jpg\n",
      "Problem with file ../raw_data/images/testing/dunes/44.36950149536133_109.35583190917968_031_CW000_-0.48980632424354553_0.5824726819992065_1.6799684762954712.jpg\n"
     ]
    },
    {
     "name": "stderr",
     "output_type": "stream",
     "text": [
      "\r",
      " 51%|█████     | 1678/3313 [01:15<01:20, 20.34it/s]"
     ]
    },
    {
     "name": "stdout",
     "output_type": "stream",
     "text": [
      "Problem with file ../raw_data/images/testing/dunes/31.699499893188477_62.03284683227539_020_CW000_-0.8524061441421509_0.26555073261260986_3.9738004207611084.jpg\n",
      "Problem with file ../raw_data/images/testing/dunes/33.58849868774414_64.2259017944336_02_CW000_-0.29760926961898804_-0.3853986859321594_1.0787827968597412.jpg\n",
      "Problem with file ../raw_data/images/testing/dunes/33.1885009765625_63.82570190429688_02_CW000_-0.14149506390094757_-0.35203054547309875_0.7193716764450073.jpg\n",
      "Problem with file ../raw_data/images/testing/dunes/25.312499237060546_26.57250061035156_010_CW000_-0.8407970070838928_-0.18236656486988068_2.064019203186035.jpg\n"
     ]
    },
    {
     "name": "stderr",
     "output_type": "stream",
     "text": [
      " 51%|█████     | 1684/3313 [01:15<01:20, 20.12it/s]"
     ]
    },
    {
     "name": "stdout",
     "output_type": "stream",
     "text": [
      "Problem with file ../raw_data/images/testing/dunes/15.402499580383301_49.50750045776367_031_CW000_0.38708391785621643_-0.5966303944587708_1.6326414346694946.jpg\n",
      "Problem with file ../raw_data/images/testing/dunes/41.34550018310547_76.92984466552734_011_CW000_0.4666496217250824_-0.07935532182455063_0.8259010314941406.jpg\n",
      "Problem with file ../raw_data/images/testing/dunes/25.657500076293946_40.50155792236328_023_CW000_0.09549535065889359_0.3240325152873993_1.4849518537521362.jpg\n",
      "Problem with file ../raw_data/images/testing/dunes/26.182500076293945_40.526617431640624_010_CW000_0.06576713919639587_0.2708597183227539_1.3499454259872437.jpg\n",
      "Problem with file ../raw_data/images/testing/dunes/31.55349998474121_57.230900573730466_021_CW000_-0.7503873705863953_0.5718626976013184_1.521544337272644.jpg\n"
     ]
    },
    {
     "name": "stderr",
     "output_type": "stream",
     "text": [
      "\r",
      " 51%|█████     | 1687/3313 [01:16<01:21, 20.06it/s]"
     ]
    },
    {
     "name": "stdout",
     "output_type": "stream",
     "text": [
      "Problem with file ../raw_data/images/testing/dunes/29.15550003051758_16.931750106811524_01_CW000_-0.4982140064239502_-0.23002555966377258_1.9008547067642212.jpg\n",
      "Problem with file ../raw_data/images/testing/dunes/41.07050094604492_76.65474243164063_02_CW000_0.48151034116744995_0.07289420068264008_0.7118503451347351.jpg\n",
      "Problem with file ../raw_data/images/testing/dunes/42.37350158691406_100.82872314453125_022_CW000_-0.436320036649704_0.3099846839904785_1.2104905843734741.jpg\n",
      "Problem with file ../raw_data/images/testing/dunes/25.98249931335449_40.75173645019531_011_CW000_0.047021012753248215_0.1396743208169937_1.3254503011703491.jpg\n"
     ]
    },
    {
     "name": "stderr",
     "output_type": "stream",
     "text": [
      " 51%|█████     | 1692/3313 [01:16<01:24, 19.15it/s]"
     ]
    },
    {
     "name": "stdout",
     "output_type": "stream",
     "text": [
      "Problem with file ../raw_data/images/testing/dunes/43.11749954223633_107.58578033447266_012_CW000_-0.16774529218673706_0.7544317245483398_2.0006778240203857.jpg\n",
      "Problem with file ../raw_data/images/testing/dunes/44.794499206542966_109.13066711425782_020_CW000_-0.30368950963020325_0.6769421696662903_1.9560052156448364.jpg\n",
      "Problem with file ../raw_data/images/testing/dunes/33.31350173950195_64.1759017944336_030_CW000_-0.19145871698856354_-0.3099783658981323_0.959148108959198.jpg\n",
      "Problem with file ../raw_data/images/testing/dunes/20.566500091552733_16.560649108886718_032_CW000_-0.479668527841568_0.17684780061244965_0.6195021271705627.jpg\n"
     ]
    },
    {
     "name": "stderr",
     "output_type": "stream",
     "text": [
      " 51%|█████▏    | 1698/3313 [01:16<01:22, 19.56it/s]"
     ]
    },
    {
     "name": "stdout",
     "output_type": "stream",
     "text": [
      "Problem with file ../raw_data/images/testing/dunes/28.78050079345703_17.382249450683595_033_CW000_-0.43740975856781006_-0.2662850618362427_1.7170414924621582.jpg\n",
      "Problem with file ../raw_data/images/testing/dunes/41.595499420166014_77.02988128662109_031_CW000_0.8367235064506531_0.05914394557476044_1.233246922492981.jpg\n",
      "Problem with file ../raw_data/images/testing/dunes/41.195501708984374_76.15456695556641_032_CW000_0.22322186827659607_-0.33204659819602966_0.8019689321517944.jpg\n",
      "Problem with file ../raw_data/images/testing/dunes/31.178500366210937_57.180833435058595_013_CW000_-0.48876750469207764_0.67909836769104_0.8083942532539368.jpg\n"
     ]
    },
    {
     "name": "stderr",
     "output_type": "stream",
     "text": [
      "\r",
      " 51%|█████▏    | 1700/3313 [01:16<01:24, 19.20it/s]"
     ]
    },
    {
     "name": "stdout",
     "output_type": "stream",
     "text": [
      "Problem with file ../raw_data/images/testing/dunes/20.466499710083006_16.46059913635254_032_CW000_-0.2529115080833435_0.23270092904567719_0.6442298293113708.jpg\n",
      "Problem with file ../raw_data/images/testing/dunes/44.36950149536133_109.70608673095703_033_CW000_-0.41784754395484924_0.5990960001945496_1.4728094339370728.jpg\n",
      "Problem with file ../raw_data/images/testing/dunes/44.894501495361325_109.23074951171876_020_CW000_-0.2859478294849396_0.6724535822868347_1.8539502620697021.jpg\n",
      "Problem with file ../raw_data/images/testing/dunes/28.855500793457033_16.931750106811524_01_CW000_-0.40423163771629333_-0.29693302512168884_1.8639382123947144.jpg\n",
      "Problem with file ../raw_data/images/testing/dunes/43.34250030517578_107.48572082519532_02_CW000_-0.3642835021018982_0.720122218132019_2.0803771018981934.jpg\n"
     ]
    },
    {
     "name": "stderr",
     "output_type": "stream",
     "text": [
      " 51%|█████▏    | 1705/3313 [01:16<01:21, 19.80it/s]"
     ]
    },
    {
     "name": "stdout",
     "output_type": "stream",
     "text": [
      "Problem with file ../raw_data/images/testing/dunes/40.87050018310547_76.40466918945313_00_CW000_0.5033560395240784_0.39051440358161926_0.8296945691108704.jpg\n",
      "Problem with file ../raw_data/images/testing/dunes/43.667501831054686_107.28560943603516_032_CW000_-0.566089928150177_0.6573291420936584_2.460852861404419.jpg\n",
      "Problem with file ../raw_data/images/testing/dunes/19.66250076293945_45.79249877929688_032_CW000_0.06141861900687218_-0.7342206835746765_2.218212604522705.jpg\n",
      "Problem with file ../raw_data/images/testing/dunes/29.080500030517577_17.00687446594238_030_CW000_-0.5043209195137024_-0.20788156986236572_1.8819308280944824.jpg\n"
     ]
    },
    {
     "name": "stderr",
     "output_type": "stream",
     "text": [
      " 52%|█████▏    | 1709/3313 [01:17<01:20, 19.86it/s]"
     ]
    },
    {
     "name": "stdout",
     "output_type": "stream",
     "text": [
      "Problem with file ../raw_data/images/testing/dunes/31.87450065612793_62.03284683227539_030_CW000_-0.8351242542266846_0.19600829482078552_3.7639870643615723.jpg\n",
      "Problem with file ../raw_data/images/testing/dunes/40.42049865722656_75.90450134277344_020_CW000_-0.3491290509700775_0.7781546115875244_1.082564115524292.jpg\n",
      "Problem with file ../raw_data/images/testing/dunes/32.788499450683595_63.97579803466797_00_CW000_-0.49406740069389343_0.542845606803894_0.8319675326347351.jpg\n",
      "Problem with file ../raw_data/images/testing/dunes/43.167501831054686_107.63583221435547_030_CW000_-0.19944815337657928_0.7376483678817749_1.9059548377990723.jpg\n"
     ]
    },
    {
     "name": "stderr",
     "output_type": "stream",
     "text": [
      " 52%|█████▏    | 1713/3313 [01:17<01:23, 19.07it/s]"
     ]
    },
    {
     "name": "stdout",
     "output_type": "stream",
     "text": [
      "Problem with file ../raw_data/images/testing/dunes/31.349500274658205_61.65767364501953_01_CW000_-0.9287709593772888_0.30891644954681396_4.64567232131958.jpg\n",
      "Problem with file ../raw_data/images/testing/dunes/40.87050018310547_76.0045379638672_00_CW000_0.6001337170600891_0.48683950304985046_1.2350422143936157.jpg\n",
      "Problem with file ../raw_data/images/testing/dunes/44.86950149536133_109.60599670410156_033_CW000_-0.32127106189727783_0.646939218044281_1.6671531200408936.jpg\n",
      "Problem with file ../raw_data/images/testing/dunes/44.49449996948242_109.03058471679688_020_CW000_-0.5588897466659546_0.5677530169487_2.0252604484558105.jpg\n"
     ]
    },
    {
     "name": "stderr",
     "output_type": "stream",
     "text": [
      " 52%|█████▏    | 1717/3313 [01:17<01:22, 19.27it/s]"
     ]
    },
    {
     "name": "stdout",
     "output_type": "stream",
     "text": [
      "Problem with file ../raw_data/images/testing/dunes/43.11749954223633_107.28560943603516_012_CW000_-0.3239474892616272_0.7198408842086792_2.048227548599243.jpg\n",
      "Problem with file ../raw_data/images/testing/dunes/32.04950103759766_62.03284683227539_00_CW000_-0.8226098418235779_0.16774742305278778_3.635343551635742.jpg\n",
      "Problem with file ../raw_data/images/testing/dunes/28.65550003051758_16.856625747680663_02_CW000_-0.3723045289516449_-0.2951122522354126_1.8755706548690796.jpg\n",
      "Problem with file ../raw_data/images/testing/dunes/14.732500267028808_48.13249816894531_010_CW000_0.6126409769058228_-0.2340208739042282_1.2610050439834595.jpg\n"
     ]
    },
    {
     "name": "stderr",
     "output_type": "stream",
     "text": [
      " 52%|█████▏    | 1722/3313 [01:17<01:19, 20.10it/s]"
     ]
    },
    {
     "name": "stdout",
     "output_type": "stream",
     "text": [
      "Problem with file ../raw_data/images/testing/dunes/41.17049942016602_77.07988128662109_03_CW000_-0.24452728033065796_-0.07031439989805222_0.6575781106948853.jpg\n",
      "Problem with file ../raw_data/images/testing/dunes/42.59849853515625_100.97879638671876_010_CW000_-0.6087461709976196_0.21150092780590057_1.2210578918457031.jpg\n",
      "Problem with file ../raw_data/images/testing/dunes/28.60550003051758_16.731499481201173_021_CW000_-0.3544507920742035_-0.29909002780914307_1.8752869367599487.jpg\n",
      "Problem with file ../raw_data/images/testing/dunes/28.905499267578126_17.157000732421874_022_CW000_-0.45954445004463196_-0.24324582517147064_1.8100817203521729.jpg\n",
      "Problem with file ../raw_data/images/testing/dunes/31.803500747680665_56.780564880371095_03_CW000_-0.4323958158493042_0.7198100090026855_1.0254751443862915.jpg\n"
     ]
    },
    {
     "name": "stderr",
     "output_type": "stream",
     "text": [
      " 52%|█████▏    | 1728/3313 [01:18<01:16, 20.60it/s]"
     ]
    },
    {
     "name": "stdout",
     "output_type": "stream",
     "text": [
      "Problem with file ../raw_data/images/testing/dunes/41.270501708984376_77.15491027832032_02_CW000_-0.061476025730371475_-0.06232086569070816_0.6432257890701294.jpg\n",
      "Problem with file ../raw_data/images/testing/dunes/44.64449844360352_109.35583190917968_01_CW000_-0.4984889328479767_0.5930717587471008_1.8404520750045776.jpg\n",
      "Problem with file ../raw_data/images/testing/dunes/20.69150047302246_16.53564910888672_021_CW000_-0.5643511414527893_0.13684606552124023_0.5955981612205505.jpg\n",
      "Problem with file ../raw_data/images/testing/dunes/44.941498565673825_70.7538818359375_020_CW000_-0.1807394027709961_-0.6585723161697388_1.8677932024002075.jpg\n",
      "Problem with file ../raw_data/images/testing/dunes/20.41649932861328_16.6856990814209_013_CW000_-0.47623181343078613_0.09062356501817703_0.6424728631973267.jpg\n"
     ]
    },
    {
     "name": "stderr",
     "output_type": "stream",
     "text": [
      "\r",
      " 52%|█████▏    | 1731/3313 [01:18<01:15, 20.86it/s]"
     ]
    },
    {
     "name": "stdout",
     "output_type": "stream",
     "text": [
      "Problem with file ../raw_data/images/testing/dunes/21.116500091552734_16.93585090637207_011_CW000_-0.6952460408210754_-0.12563982605934143_0.8509045243263245.jpg\n",
      "Problem with file ../raw_data/images/testing/dunes/43.79250030517578_107.21055755615234_023_CW000_-0.5274150371551514_0.6930060982704163_2.5543875694274902.jpg\n",
      "Problem with file ../raw_data/images/testing/dunes/40.770501708984376_76.72977905273437_01_CW000_-0.2506358325481415_0.7672725915908813_0.6477415561676025.jpg\n",
      "Problem with file ../raw_data/images/testing/dunes/32.913500213623045_63.925749969482425_032_CW000_-0.24206915497779846_0.034709881991147995_0.6473000049591064.jpg\n",
      "Problem with file ../raw_data/images/testing/dunes/40.62049942016601_76.67974243164062_023_CW000_-0.35581591725349426_0.7801026105880737_0.7738096117973328.jpg\n"
     ]
    },
    {
     "name": "stderr",
     "output_type": "stream",
     "text": [
      " 52%|█████▏    | 1737/3313 [01:18<01:14, 21.23it/s]"
     ]
    },
    {
     "name": "stdout",
     "output_type": "stream",
     "text": [
      "Problem with file ../raw_data/images/testing/dunes/43.442498779296876_107.88594360351563_02_CW000_-0.22831451892852783_0.6485686898231506_1.5787773132324219.jpg\n",
      "Problem with file ../raw_data/images/testing/dunes/26.05749969482422_40.95185165405273_021_CW000_-0.0525822676718235_-0.05969373881816864_1.2852734327316284.jpg\n",
      "Problem with file ../raw_data/images/testing/dunes/43.34250030517578_107.13555755615235_00_CW000_-0.42812126874923706_0.7013036608695984_2.1822221279144287.jpg\n",
      "Problem with file ../raw_data/images/testing/dunes/15.227499771118165_49.807499694824216_021_CW000_0.5545884370803833_-0.479530394077301_1.2891514301300049.jpg\n",
      "Problem with file ../raw_data/images/testing/dunes/33.99349822998047_55.96174850463867_030_CW000_-0.47932302951812744_-0.4654006361961365_1.8566752672195435.jpg\n"
     ]
    },
    {
     "name": "stderr",
     "output_type": "stream",
     "text": [
      " 53%|█████▎    | 1743/3313 [01:18<01:13, 21.24it/s]"
     ]
    },
    {
     "name": "stdout",
     "output_type": "stream",
     "text": [
      "Problem with file ../raw_data/images/testing/dunes/20.69150047302246_16.81080093383789_020_CW000_-0.6723994016647339_0.12616480886936188_0.5599585771560669.jpg\n",
      "Problem with file ../raw_data/images/testing/dunes/31.52849998474121_57.10583343505859_030_CW000_-0.6886646151542664_0.6354705095291138_1.2991050481796265.jpg\n",
      "Problem with file ../raw_data/images/testing/dunes/42.57349853515625_101.02879638671875_022_CW000_-0.6087461709976196_0.21150092780590057_1.2210578918457031.jpg\n",
      "Problem with file ../raw_data/images/testing/dunes/31.299500274658204_62.10784683227539_023_CW000_-0.8545985817909241_0.38880273699760437_3.570774555206299.jpg\n",
      "Problem with file ../raw_data/images/testing/dunes/14.982500457763672_48.057499694824216_031_CW000_0.5406758785247803_-0.2509938180446625_2.1969501972198486.jpg\n"
     ]
    },
    {
     "name": "stderr",
     "output_type": "stream",
     "text": [
      "\r",
      " 53%|█████▎    | 1746/3313 [01:18<01:14, 21.08it/s]"
     ]
    },
    {
     "name": "stdout",
     "output_type": "stream",
     "text": [
      "Problem with file ../raw_data/images/testing/dunes/42.97350006103515_101.1538330078125_023_CW000_-0.48369863629341125_0.6125851273536682_1.6593947410583496.jpg\n",
      "Problem with file ../raw_data/images/testing/dunes/44.41950149536133_109.35583190917968_011_CW000_-0.48980632424354553_0.5824726819992065_1.6799684762954712.jpg\n",
      "Problem with file ../raw_data/images/testing/dunes/40.42049865722656_76.57970581054687_023_CW000_-0.6119528412818909_0.6836018562316895_1.0675042867660522.jpg\n",
      "Problem with file ../raw_data/images/testing/dunes/43.14249954223633_107.31060943603515_03_CW000_-0.3239474892616272_0.7198408842086792_2.048227548599243.jpg\n",
      "Problem with file ../raw_data/images/testing/dunes/32.83850173950195_64.3009536743164_021_CW000_-0.577610969543457_0.6462551951408386_0.7555250525474548.jpg\n"
     ]
    },
    {
     "name": "stderr",
     "output_type": "stream",
     "text": [
      " 53%|█████▎    | 1752/3313 [01:19<01:14, 20.85it/s]"
     ]
    },
    {
     "name": "stdout",
     "output_type": "stream",
     "text": [
      "Problem with file ../raw_data/images/testing/dunes/33.1885009765625_63.65059814453125_03_CW000_-0.5385022163391113_-0.38764768838882446_0.6727813482284546.jpg\n",
      "Problem with file ../raw_data/images/testing/dunes/26.307500457763673_40.42655792236328_00_CW000_0.10226726531982422_0.31261441111564636_1.3945128917694092.jpg\n",
      "Problem with file ../raw_data/images/testing/dunes/31.499499130249024_61.407544708251955_023_CW000_-0.9509894251823425_0.279853492975235_5.712926864624023.jpg\n",
      "Problem with file ../raw_data/images/testing/dunes/34.06849822998047_55.361498260498045_00_CW000_-0.815738320350647_0.06807229667901993_2.199172019958496.jpg\n",
      "Problem with file ../raw_data/images/testing/dunes/20.391499328613282_16.83580093383789_021_CW000_-0.599555253982544_0.043672915548086166_0.5805388689041138.jpg\n"
     ]
    },
    {
     "name": "stderr",
     "output_type": "stream",
     "text": [
      " 53%|█████▎    | 1758/3313 [01:19<01:14, 20.96it/s]"
     ]
    },
    {
     "name": "stdout",
     "output_type": "stream",
     "text": [
      "Problem with file ../raw_data/images/testing/dunes/42.34850158691406_101.1038330078125_031_CW000_-0.36165499687194824_0.17034883797168732_1.0835613012313843.jpg\n",
      "Problem with file ../raw_data/images/testing/dunes/42.448500061035155_100.6786865234375_030_CW000_-0.5684000253677368_0.29431968927383423_1.2928047180175781.jpg\n",
      "Problem with file ../raw_data/images/testing/dunes/28.630500030517577_17.00687446594238_010_CW000_-0.3906416594982147_-0.2960372567176819_1.8671456575393677.jpg\n",
      "Problem with file ../raw_data/images/testing/dunes/33.91849975585937_55.386498260498044_021_CW000_-0.8169167637825012_0.11580604314804077_2.0763494968414307.jpg\n",
      "Problem with file ../raw_data/images/testing/dunes/44.91950149536133_109.23074951171876_010_CW000_-0.2859478294849396_0.6724535822868347_1.8539502620697021.jpg\n"
     ]
    },
    {
     "name": "stderr",
     "output_type": "stream",
     "text": [
      "\r",
      " 53%|█████▎    | 1761/3313 [01:19<01:14, 20.81it/s]"
     ]
    },
    {
     "name": "stdout",
     "output_type": "stream",
     "text": [
      "Problem with file ../raw_data/images/testing/dunes/40.57050094604492_76.72977905273437_01_CW000_-0.706877589225769_0.6314568519592285_1.1913402080535889.jpg\n",
      "Problem with file ../raw_data/images/testing/dunes/31.228500747680663_57.25590057373047_032_CW000_-0.6411070823669434_0.6768450140953064_1.0373378992080688.jpg\n",
      "Problem with file ../raw_data/images/testing/dunes/43.12349853515625_100.57864990234376_00_CW000_-0.44795066118240356_0.7251629829406738_2.0357656478881836.jpg\n",
      "Problem with file ../raw_data/images/testing/dunes/33.393499755859374_56.23683319091797_033_CW000_-0.46064338088035583_0.18424516916275024_1.1554737091064453.jpg\n",
      "Problem with file ../raw_data/images/testing/dunes/42.67350082397461_101.02879638671875_022_CW000_-0.6811047792434692_0.242052361369133_1.3869277238845825.jpg\n"
     ]
    },
    {
     "name": "stderr",
     "output_type": "stream",
     "text": [
      " 53%|█████▎    | 1767/3313 [01:19<01:14, 20.88it/s]"
     ]
    },
    {
     "name": "stdout",
     "output_type": "stream",
     "text": [
      "Problem with file ../raw_data/images/testing/dunes/43.167501831054686_107.110498046875_033_CW000_-0.3970525562763214_0.6987496018409729_2.124063491821289.jpg\n",
      "Problem with file ../raw_data/images/testing/dunes/25.95149917602539_7.901642990112305_012_CW000_-0.12161245197057724_-0.3521067798137665_1.071845293045044.jpg\n",
      "Problem with file ../raw_data/images/testing/dunes/31.2745002746582_61.807717895507814_033_CW000_-0.909125030040741_0.343302458524704_4.3167877197265625.jpg\n",
      "Problem with file ../raw_data/images/testing/dunes/33.6385009765625_64.00079803466797_021_CW000_-0.5101184844970703_-0.3115123510360718_1.1709128618240356.jpg\n",
      "Problem with file ../raw_data/images/testing/dunes/19.96749954223633_34.04199905395508_022_CW000_-0.8352704644203186_-0.17697227001190186_3.5348799228668213.jpg\n"
     ]
    },
    {
     "name": "stderr",
     "output_type": "stream",
     "text": [
      " 54%|█████▎    | 1773/3313 [01:20<01:14, 20.58it/s]"
     ]
    },
    {
     "name": "stdout",
     "output_type": "stream",
     "text": [
      "Problem with file ../raw_data/images/testing/dunes/42.34850158691406_101.20386962890625_031_CW000_-0.3371007442474365_0.1406775414943695_1.0607670545578003.jpg\n",
      "Problem with file ../raw_data/images/testing/dunes/31.478499603271484_56.65550155639649_012_CW000_-0.22809141874313354_0.5115693807601929_1.0801432132720947.jpg\n",
      "Problem with file ../raw_data/images/testing/dunes/31.57849998474121_56.680501556396486_013_CW000_-0.2770393192768097_0.5647757649421692_1.0589823722839355.jpg\n",
      "Problem with file ../raw_data/images/testing/dunes/20.441499328613283_16.710749053955077_00_CW000_-0.6116777062416077_0.035889215767383575_0.648766815662384.jpg\n"
     ]
    },
    {
     "name": "stderr",
     "output_type": "stream",
     "text": [
      "\r",
      " 54%|█████▎    | 1776/3313 [01:20<01:17, 19.82it/s]"
     ]
    },
    {
     "name": "stdout",
     "output_type": "stream",
     "text": [
      "Problem with file ../raw_data/images/testing/dunes/33.48850021362305_63.60059814453125_01_CW000_-0.8236797451972961_-0.12355146557092667_0.9487302899360657.jpg\n",
      "Problem with file ../raw_data/images/testing/dunes/43.592499542236325_107.28560943603516_022_CW000_-0.5396078824996948_0.6689233779907227_2.3593597412109375.jpg\n",
      "Problem with file ../raw_data/images/testing/dunes/32.863501739501956_63.550550079345705_013_CW000_-0.5877053141593933_-0.26812654733657837_0.7760009169578552.jpg\n",
      "Problem with file ../raw_data/images/testing/dunes/45.441498565673825_70.35357513427735_020_CW000_-0.14625826478004456_-0.6748873591423035_1.9417333602905273.jpg\n"
     ]
    },
    {
     "name": "stderr",
     "output_type": "stream",
     "text": [
      " 54%|█████▎    | 1780/3313 [01:20<01:17, 19.72it/s]"
     ]
    },
    {
     "name": "stdout",
     "output_type": "stream",
     "text": [
      "Problem with file ../raw_data/images/testing/dunes/25.90149917602539_8.126928901672363_033_CW000_-0.036729104816913605_-0.33000797033309937_1.0404160022735596.jpg\n",
      "Problem with file ../raw_data/images/testing/dunes/39.21849899291992_67.96761016845703_021_CW000_0.6541832685470581_0.04238302633166313_0.8252304792404175.jpg\n",
      "Problem with file ../raw_data/images/testing/dunes/33.618500518798825_55.88670806884765_021_CW000_-0.39061716198921204_-0.23013412952423096_1.3637804985046387.jpg\n",
      "Problem with file ../raw_data/images/testing/dunes/33.1135009765625_63.65059814453125_033_CW000_-0.5385022163391113_-0.38764768838882446_0.6727813482284546.jpg\n",
      "Problem with file ../raw_data/images/testing/dunes/38.410498809814456_96.5621353149414_013_CW000_0.07820376008749008_0.8291241526603699_1.4357186555862427.jpg\n"
     ]
    },
    {
     "name": "stderr",
     "output_type": "stream",
     "text": [
      " 54%|█████▍    | 1786/3313 [01:20<01:17, 19.59it/s]"
     ]
    },
    {
     "name": "stdout",
     "output_type": "stream",
     "text": [
      "Problem with file ../raw_data/images/testing/dunes/20.71650047302246_16.81080093383789_010_CW000_-0.6723994016647339_0.12616480886936188_0.5599585771560669.jpg\n",
      "Problem with file ../raw_data/images/testing/dunes/31.178500366210937_56.63050155639648_011_CW000_-0.08559714257717133_0.3675735294818878_1.2026362419128418.jpg\n",
      "Problem with file ../raw_data/images/testing/dunes/43.2484992980957_100.3535400390625_033_CW000_-0.005821020342409611_0.7945483326911926_1.6093640327453613.jpg\n",
      "Problem with file ../raw_data/images/testing/dunes/31.40349922180176_56.73056488037109_01_CW000_-0.22673991322517395_0.5100675225257874_1.04258131980896.jpg\n"
     ]
    },
    {
     "name": "stderr",
     "output_type": "stream",
     "text": [
      " 54%|█████▍    | 1790/3313 [01:21<01:17, 19.60it/s]"
     ]
    },
    {
     "name": "stdout",
     "output_type": "stream",
     "text": [
      "Problem with file ../raw_data/images/testing/dunes/17.4075008392334_45.28249969482422_00_CW000_-0.211992546916008_-0.6712527275085449_1.6769092082977295.jpg\n",
      "Problem with file ../raw_data/images/testing/dunes/20.391499328613282_16.43559913635254_021_CW000_-0.16867341101169586_0.21569600701332092_0.6603161096572876.jpg\n",
      "Problem with file ../raw_data/images/testing/dunes/31.128500366210936_57.380967712402345_033_CW000_-0.6978933811187744_0.6380075216293335_1.167223334312439.jpg\n",
      "Problem with file ../raw_data/images/testing/dunes/31.178500366210937_57.10583343505859_010_CW000_-0.48876750469207764_0.67909836769104_0.8083942532539368.jpg\n"
     ]
    },
    {
     "name": "stderr",
     "output_type": "stream",
     "text": [
      "\r",
      " 54%|█████▍    | 1792/3313 [01:21<01:17, 19.66it/s]"
     ]
    },
    {
     "name": "stdout",
     "output_type": "stream",
     "text": [
      "Problem with file ../raw_data/images/testing/dunes/33.33850173950195_63.5005500793457_021_CW000_-0.8359847068786621_-0.22614561021327972_0.8922041654586792.jpg\n",
      "Problem with file ../raw_data/images/testing/dunes/20.566500091552733_17.11095085144043_030_CW000_-0.48802709579467773_0.4733189046382904_0.5603674650192261.jpg\n",
      "Problem with file ../raw_data/images/testing/dunes/32.81350173950195_63.5005500793457_031_CW000_-0.5877053141593933_-0.26812654733657837_0.7760009169578552.jpg\n",
      "Problem with file ../raw_data/images/testing/dunes/37.98550109863281_96.46204528808593_023_CW000_-0.36313843727111816_0.8414802551269531_1.4331268072128296.jpg\n"
     ]
    },
    {
     "name": "stderr",
     "output_type": "stream",
     "text": [
      " 54%|█████▍    | 1796/3313 [01:21<01:17, 19.53it/s]"
     ]
    },
    {
     "name": "stdout",
     "output_type": "stream",
     "text": [
      "Problem with file ../raw_data/images/testing/dunes/44.31949920654297_109.63108673095704_010_CW000_-0.2641898989677429_0.6325899958610535_1.3895773887634277.jpg\n",
      "Problem with file ../raw_data/images/testing/dunes/45.516500854492186_70.87896423339843_031_CW000_-0.1376262903213501_-0.6878644824028015_1.9643235206604004.jpg\n",
      "Problem with file ../raw_data/images/testing/dunes/33.54349822998047_55.76166763305664_010_CW000_-0.4758235812187195_-0.08277229964733124_1.2777628898620605.jpg\n",
      "Problem with file ../raw_data/images/testing/dunes/43.22350082397461_100.953759765625_03_CW000_-0.24785806238651276_0.8419911861419678_2.24215030670166.jpg\n",
      "Problem with file ../raw_data/images/testing/dunes/38.660501861572264_96.06168518066406_033_CW000_0.1569157987833023_0.7812523245811462_1.3717600107192993.jpg\n"
     ]
    },
    {
     "name": "stderr",
     "output_type": "stream",
     "text": [
      " 54%|█████▍    | 1802/3313 [01:21<01:13, 20.65it/s]"
     ]
    },
    {
     "name": "stdout",
     "output_type": "stream",
     "text": [
      "Problem with file ../raw_data/images/testing/dunes/32.863501739501956_64.02579803466797_012_CW000_-0.43390098214149475_0.33914071321487427_0.6866678595542908.jpg\n",
      "Problem with file ../raw_data/images/testing/dunes/31.44950065612793_62.10784683227539_03_CW000_-0.8582533001899719_0.34897834062576294_3.7229902744293213.jpg\n",
      "Problem with file ../raw_data/images/testing/dunes/25.957499313354493_41.051911163330075_021_CW000_-0.020494312047958374_-0.07841527462005615_1.2872204780578613.jpg\n",
      "Problem with file ../raw_data/images/testing/dunes/43.22350082397461_101.1538330078125_03_CW000_-0.1863543689250946_0.8408895134925842_1.9971835613250732.jpg\n",
      "Problem with file ../raw_data/images/testing/dunes/40.39549865722656_76.52970581054687_031_CW000_-0.6119528412818909_0.6836018562316895_1.0675042867660522.jpg\n"
     ]
    },
    {
     "name": "stderr",
     "output_type": "stream",
     "text": [
      " 55%|█████▍    | 1808/3313 [01:22<01:12, 20.80it/s]"
     ]
    },
    {
     "name": "stdout",
     "output_type": "stream",
     "text": [
      "Problem with file ../raw_data/images/testing/dunes/44.46949996948242_109.2056671142578_033_CW000_-0.5682117938995361_0.5579925179481506_1.9668080806732178.jpg\n",
      "Problem with file ../raw_data/images/testing/dunes/29.130500030517577_17.031874465942384_011_CW000_-0.5043209195137024_-0.20788156986236572_1.8819308280944824.jpg\n",
      "Problem with file ../raw_data/images/testing/dunes/33.79350128173828_55.43649826049805_033_CW000_-0.8217553496360779_0.1607774943113327_1.945356011390686.jpg\n",
      "Problem with file ../raw_data/images/testing/dunes/25.93249931335449_40.326498413085936_030_CW000_0.17173196375370026_0.4460687041282654_1.5383988618850708.jpg\n",
      "Problem with file ../raw_data/images/testing/dunes/31.57849998474121_57.431034851074216_011_CW000_-0.89073646068573_0.3505879342556_1.7888357639312744.jpg\n"
     ]
    },
    {
     "name": "stderr",
     "output_type": "stream",
     "text": [
      "\r",
      " 55%|█████▍    | 1811/3313 [01:22<01:12, 20.71it/s]"
     ]
    },
    {
     "name": "stdout",
     "output_type": "stream",
     "text": [
      "Problem with file ../raw_data/images/testing/dunes/41.42049865722656_76.67974243164062_023_CW000_0.688023030757904_0.03532743453979492_1.0739624500274658.jpg\n",
      "Problem with file ../raw_data/images/testing/dunes/40.74550170898438_75.92950134277343_011_CW000_0.5467350482940674_0.5771613121032715_1.3074040412902832.jpg\n",
      "Problem with file ../raw_data/images/testing/dunes/20.86649932861328_17.11095085144043_030_CW000_-0.5473282337188721_-0.015356907621026039_0.7793093919754028.jpg\n",
      "Problem with file ../raw_data/images/testing/dunes/25.657500076293946_40.70167694091797_023_CW000_0.13406191766262054_0.19482681155204773_1.4763489961624146.jpg\n",
      "Problem with file ../raw_data/images/testing/dunes/20.97150001525879_34.03266830444336_02_CW000_-0.86432284116745_-0.1870267689228058_3.4366543292999268.jpg\n"
     ]
    },
    {
     "name": "stderr",
     "output_type": "stream",
     "text": [
      " 55%|█████▍    | 1817/3313 [01:22<01:13, 20.43it/s]"
     ]
    },
    {
     "name": "stdout",
     "output_type": "stream",
     "text": [
      "Problem with file ../raw_data/images/testing/dunes/31.653500366210938_57.1558334350586_022_CW000_-0.6969375610351562_0.6152050495147705_1.4064199924468994.jpg\n",
      "Problem with file ../raw_data/images/testing/dunes/20.941499328613283_16.81080093383789_00_CW000_-0.6771032810211182_0.07206614315509796_0.7170417904853821.jpg\n",
      "Problem with file ../raw_data/images/testing/dunes/20.741500473022462_16.6356990814209_01_CW000_-0.6193869113922119_0.055047765374183655_0.5804615020751953.jpg\n",
      "Problem with file ../raw_data/images/testing/dunes/41.52050094604492_76.52970581054687_021_CW000_0.6960700750350952_0.052124351263046265_0.9985663890838623.jpg\n",
      "Problem with file ../raw_data/images/testing/dunes/45.24150161743164_70.90396423339844_022_CW000_-0.2021656036376953_-0.6938071846961975_1.998993158340454.jpg\n"
     ]
    },
    {
     "name": "stderr",
     "output_type": "stream",
     "text": [
      " 55%|█████▌    | 1823/3313 [01:22<01:12, 20.61it/s]"
     ]
    },
    {
     "name": "stdout",
     "output_type": "stream",
     "text": [
      "Problem with file ../raw_data/images/testing/dunes/40.67049942016602_76.0045379638672_00_CW000_0.3640296459197998_0.7231192588806152_1.1394288539886475.jpg\n",
      "Problem with file ../raw_data/images/testing/dunes/28.65550003051758_17.257125091552734_02_CW000_-0.4103155732154846_-0.289995402097702_1.8249518871307373.jpg\n",
      "Problem with file ../raw_data/images/testing/dunes/42.59849853515625_100.55361328125_013_CW000_-0.7057090997695923_0.33306053280830383_1.5959984064102173.jpg\n",
      "Problem with file ../raw_data/images/testing/dunes/43.07349853515625_100.928759765625_022_CW000_-0.3889748156070709_0.7711955308914185_2.0742509365081787.jpg\n",
      "Problem with file ../raw_data/images/testing/dunes/43.592499542236325_107.23560943603516_020_CW000_-0.5396078824996948_0.6689233779907227_2.3593597412109375.jpg\n"
     ]
    },
    {
     "name": "stderr",
     "output_type": "stream",
     "text": [
      "\r",
      " 55%|█████▌    | 1826/3313 [01:22<01:11, 20.66it/s]"
     ]
    },
    {
     "name": "stdout",
     "output_type": "stream",
     "text": [
      "Problem with file ../raw_data/images/testing/dunes/25.707500076293947_40.526617431640624_00_CW000_0.12125470489263535_0.25375744700431824_1.4787013530731201.jpg\n",
      "Problem with file ../raw_data/images/testing/dunes/26.23250045776367_40.50155792236328_033_CW000_0.10226726531982422_0.31261441111564636_1.3945128917694092.jpg\n",
      "Problem with file ../raw_data/images/testing/dunes/43.14850082397461_100.82872314453125_032_CW000_-0.24657216668128967_0.8413830399513245_2.2217018604278564.jpg\n",
      "Problem with file ../raw_data/images/testing/dunes/33.48850021362305_63.550550079345705_03_CW000_-0.8722261786460876_-0.07182224094867706_1.0256292819976807.jpg\n",
      "Problem with file ../raw_data/images/testing/dunes/41.545500946044925_76.95484466552735_012_CW000_0.7758760452270508_0.07573026418685913_1.1748828887939453.jpg\n"
     ]
    },
    {
     "name": "stderr",
     "output_type": "stream",
     "text": [
      " 55%|█████▌    | 1832/3313 [01:23<01:09, 21.17it/s]"
     ]
    },
    {
     "name": "stdout",
     "output_type": "stream",
     "text": [
      "Problem with file ../raw_data/images/testing/dunes/41.37050018310547_76.45466918945313_02_CW000_0.4738213121891022_-0.0968143492937088_0.8734332323074341.jpg\n",
      "Problem with file ../raw_data/images/testing/dunes/43.542501068115236_107.31060943603515_03_CW000_-0.5092216730117798_0.6801055073738098_2.268923044204712.jpg\n",
      "Problem with file ../raw_data/images/testing/dunes/44.96649856567383_70.45365753173829_010_CW000_-0.1376751959323883_-0.6498137712478638_1.8721716403961182.jpg\n",
      "Problem with file ../raw_data/images/testing/dunes/28.755500411987306_16.906750106811522_00_CW000_-0.3803493082523346_-0.2937868535518646_1.8581100702285767.jpg\n",
      "Problem with file ../raw_data/images/testing/dunes/20.71650047302246_16.560649108886718_012_CW000_-0.5643511414527893_0.13684606552124023_0.5955981612205505.jpg\n"
     ]
    },
    {
     "name": "stderr",
     "output_type": "stream",
     "text": [
      " 55%|█████▌    | 1838/3313 [01:23<01:09, 21.19it/s]"
     ]
    },
    {
     "name": "stdout",
     "output_type": "stream",
     "text": [
      "Problem with file ../raw_data/images/testing/dunes/40.87050018310547_76.20460357666016_00_CW000_0.5662387609481812_0.38345906138420105_0.9477093815803528.jpg\n",
      "Problem with file ../raw_data/images/testing/dunes/29.080500030517577_17.182000732421876_033_CW000_-0.50916987657547_-0.1964150071144104_1.8493682146072388.jpg\n",
      "Problem with file ../raw_data/images/testing/dunes/31.803500747680665_56.680501556396486_03_CW000_-0.3773847818374634_0.6704710721969604_1.0476168394088745.jpg\n",
      "Problem with file ../raw_data/images/testing/dunes/14.982500457763672_48.23250045776367_030_CW000_0.5143918395042419_-0.26547548174858093_2.101520299911499.jpg\n",
      "Problem with file ../raw_data/images/testing/dunes/41.12049942016601_76.92984466552734_021_CW000_0.07071025669574738_-0.12174086272716522_0.6477588415145874.jpg\n"
     ]
    },
    {
     "name": "stderr",
     "output_type": "stream",
     "text": [
      "\r",
      " 56%|█████▌    | 1841/3313 [01:23<01:09, 21.09it/s]"
     ]
    },
    {
     "name": "stdout",
     "output_type": "stream",
     "text": [
      "Problem with file ../raw_data/images/testing/dunes/43.29250030517578_107.88594360351563_022_CW000_-0.108709916472435_0.6719561219215393_1.619317889213562.jpg\n",
      "Problem with file ../raw_data/images/testing/dunes/44.91649856567383_70.85396423339844_030_CW000_-0.19007128477096558_-0.6595726013183594_1.8703441619873047.jpg\n",
      "Problem with file ../raw_data/images/testing/dunes/43.01750106811524_107.56078033447265_011_CW000_-0.08754419535398483_0.7478445768356323_1.9767793416976929.jpg\n",
      "Problem with file ../raw_data/images/testing/dunes/20.99149971008301_16.78574905395508_023_CW000_-0.6926047205924988_-0.062145087867975235_0.8218837380409241.jpg\n",
      "Problem with file ../raw_data/images/testing/dunes/43.46750106811523_107.110498046875_033_CW000_-0.47812700271606445_0.7110421061515808_2.394564390182495.jpg\n"
     ]
    },
    {
     "name": "stderr",
     "output_type": "stream",
     "text": [
      " 56%|█████▌    | 1847/3313 [01:23<01:10, 20.78it/s]"
     ]
    },
    {
     "name": "stdout",
     "output_type": "stream",
     "text": [
      "Problem with file ../raw_data/images/testing/dunes/20.91649932861328_17.11095085144043_010_CW000_-0.5473282337188721_-0.015356907621026039_0.7793093919754028.jpg\n",
      "Problem with file ../raw_data/images/testing/dunes/26.157500076293946_41.051911163330075_021_CW000_-0.10883599519729614_-0.16409176588058472_1.2931474447250366.jpg\n",
      "Problem with file ../raw_data/images/testing/dunes/26.307500457763673_40.72673645019531_00_CW000_-0.08852653950452805_-0.008082548156380653_1.2819433212280273.jpg\n",
      "Problem with file ../raw_data/images/testing/dunes/15.627500343322755_50.05750045776367_023_CW000_0.36638081073760986_-0.5745360851287842_1.5820748805999756.jpg\n"
     ]
    },
    {
     "name": "stderr",
     "output_type": "stream",
     "text": [
      "\r",
      " 56%|█████▌    | 1850/3313 [01:24<01:13, 19.77it/s]"
     ]
    },
    {
     "name": "stdout",
     "output_type": "stream",
     "text": [
      "Problem with file ../raw_data/images/testing/dunes/20.59650077819824_34.20783309936523_031_CW000_-0.8013686537742615_-0.28167471289634705_3.307112216949463.jpg\n",
      "Problem with file ../raw_data/images/testing/dunes/43.667501831054686_107.76089172363281_031_CW000_-0.5773500204086304_0.5711233019828796_1.9406782388687134.jpg\n",
      "Problem with file ../raw_data/images/testing/dunes/44.61949844360352_108.93050231933594_010_CW000_-0.44161590933799744_0.6375353336334229_2.070099115371704.jpg\n",
      "Problem with file ../raw_data/images/testing/dunes/31.153500366210938_56.95569915771485_022_CW000_-0.3053824305534363_0.552166759967804_0.8466128706932068.jpg\n"
     ]
    },
    {
     "name": "stderr",
     "output_type": "stream",
     "text": [
      " 56%|█████▌    | 1854/3313 [01:24<01:13, 19.76it/s]"
     ]
    },
    {
     "name": "stdout",
     "output_type": "stream",
     "text": [
      "Problem with file ../raw_data/images/testing/dunes/26.032499694824217_40.50155792236328_033_CW000_0.1026507169008255_0.3892436623573303_1.4255527257919312.jpg\n",
      "Problem with file ../raw_data/images/testing/dunes/33.86850128173828_56.111792755126956_02_CW000_-0.3420296311378479_-0.3857806622982025_1.5319945812225342.jpg\n",
      "Problem with file ../raw_data/images/testing/dunes/38.060499572753905_95.91158752441406_031_CW000_-0.40668028593063354_0.8547045588493347_1.372118353843689.jpg\n",
      "Problem with file ../raw_data/images/testing/dunes/43.19850082397461_100.37857666015626_010_CW000_-0.29644423723220825_0.7749940156936646_1.8447566032409668.jpg\n",
      "Problem with file ../raw_data/images/testing/dunes/43.298499298095706_100.50361328125_011_CW000_-0.1273762732744217_0.8628529906272888_2.0192806720733643.jpg\n"
     ]
    },
    {
     "name": "stderr",
     "output_type": "stream",
     "text": [
      " 56%|█████▌    | 1859/3313 [01:24<01:14, 19.52it/s]"
     ]
    },
    {
     "name": "stdout",
     "output_type": "stream",
     "text": [
      "Problem with file ../raw_data/images/testing/dunes/42.59849853515625_101.0788330078125_010_CW000_-0.5958533883094788_0.17627762258052826_1.1922990083694458.jpg\n",
      "Problem with file ../raw_data/images/testing/dunes/26.23250045776367_40.776736450195315_032_CW000_-0.08852653950452805_-0.008082548156380653_1.2819433212280273.jpg\n",
      "Problem with file ../raw_data/images/testing/dunes/38.48550109863281_96.01168518066406_021_CW000_0.16777095198631287_0.8236806988716125_1.411568284034729.jpg\n",
      "Problem with file ../raw_data/images/testing/dunes/41.42049865722656_76.95484466552735_022_CW000_0.6769541501998901_0.02883663959801197_0.9926735758781433.jpg\n"
     ]
    },
    {
     "name": "stderr",
     "output_type": "stream",
     "text": [
      " 56%|█████▌    | 1863/3313 [01:24<01:16, 19.03it/s]"
     ]
    },
    {
     "name": "stdout",
     "output_type": "stream",
     "text": [
      "Problem with file ../raw_data/images/testing/dunes/43.367498779296874_107.56078033447265_031_CW000_-0.4149738848209381_0.6829695701599121_1.9696263074874878.jpg\n",
      "Problem with file ../raw_data/images/testing/dunes/44.44450149536133_109.38083190917969_02_CW000_-0.48980632424354553_0.5824726819992065_1.6799684762954712.jpg\n",
      "Problem with file ../raw_data/images/testing/dunes/43.442498779296876_107.8108917236328_03_CW000_-0.33430132269859314_0.6684755086898804_1.7250901460647583.jpg\n",
      "Problem with file ../raw_data/images/testing/dunes/21.04149971008301_16.78574905395508_03_CW000_-0.6926047205924988_-0.062145087867975235_0.8218837380409241.jpg\n"
     ]
    },
    {
     "name": "stderr",
     "output_type": "stream",
     "text": [
      " 56%|█████▋    | 1867/3313 [01:24<01:15, 19.26it/s]"
     ]
    },
    {
     "name": "stdout",
     "output_type": "stream",
     "text": [
      "Problem with file ../raw_data/images/testing/dunes/32.98850021362305_64.10084991455078_01_CW000_-0.4501468241214752_0.3341437578201294_0.6634880304336548.jpg\n",
      "Problem with file ../raw_data/images/testing/dunes/43.11749954223633_107.43572082519532_010_CW000_-0.23661687970161438_0.7380018830299377_2.0011441707611084.jpg\n",
      "Problem with file ../raw_data/images/testing/dunes/42.898501586914065_101.0788330078125_010_CW000_-0.6108025908470154_0.4442507028579712_1.469562292098999.jpg\n",
      "Problem with file ../raw_data/images/testing/dunes/40.52050094604492_76.62974243164062_021_CW000_-0.5778640508651733_0.7082821726799011_1.0332496166229248.jpg\n"
     ]
    },
    {
     "name": "stderr",
     "output_type": "stream",
     "text": [
      " 57%|█████▋    | 1872/3313 [01:25<01:11, 20.06it/s]"
     ]
    },
    {
     "name": "stdout",
     "output_type": "stream",
     "text": [
      "Problem with file ../raw_data/images/testing/dunes/33.59350051879883_55.41149826049805_032_CW000_-0.8136365413665771_0.2233174443244934_1.6946970224380493.jpg\n",
      "Problem with file ../raw_data/images/testing/dunes/44.81949920654297_109.43091430664063_010_CW000_-0.35647401213645935_0.6537182331085205_1.7756799459457397.jpg\n",
      "Problem with file ../raw_data/images/testing/dunes/21.69250030517578_49.422499084472655_010_CW000_-0.5154982805252075_-0.7190988063812256_2.0214900970458984.jpg\n",
      "Problem with file ../raw_data/images/testing/dunes/44.26949920654297_109.53099670410157_030_CW000_-0.3349169194698334_0.6186919212341309_1.414851188659668.jpg\n",
      "Problem with file ../raw_data/images/testing/dunes/31.974501037597655_61.85776214599609_031_CW000_-0.865196943283081_0.23078139126300812_4.278225421905518.jpg\n"
     ]
    },
    {
     "name": "stderr",
     "output_type": "stream",
     "text": [
      " 57%|█████▋    | 1878/3313 [01:25<01:09, 20.59it/s]"
     ]
    },
    {
     "name": "stdout",
     "output_type": "stream",
     "text": [
      "Problem with file ../raw_data/images/testing/dunes/26.05749969482422_41.001851654052736_023_CW000_-0.0525822676718235_-0.05969373881816864_1.2852734327316284.jpg\n",
      "Problem with file ../raw_data/images/testing/dunes/20.896500015258788_33.78249969482422_030_CW000_-0.9157795310020447_-0.07739043980836868_3.5500214099884033.jpg\n",
      "Problem with file ../raw_data/images/testing/dunes/43.192501831054685_107.31060943603515_023_CW000_-0.36938050389289856_0.7169845700263977_2.117690086364746.jpg\n",
      "Problem with file ../raw_data/images/testing/dunes/31.59949951171875_61.63267364501953_020_CW000_-0.9144409894943237_0.3138855993747711_5.053655624389648.jpg\n",
      "Problem with file ../raw_data/images/testing/dunes/43.79250030517578_107.13555755615235_020_CW000_-0.5274150371551514_0.6930060982704163_2.5543875694274902.jpg\n"
     ]
    },
    {
     "name": "stderr",
     "output_type": "stream",
     "text": [
      "\r",
      " 57%|█████▋    | 1881/3313 [01:25<01:08, 21.01it/s]"
     ]
    },
    {
     "name": "stdout",
     "output_type": "stream",
     "text": [
      "Problem with file ../raw_data/images/testing/dunes/41.270501708984376_76.42966918945312_01_CW000_0.4562472105026245_-0.09365805983543396_0.8659334778785706.jpg\n",
      "Problem with file ../raw_data/images/testing/dunes/43.84250030517578_107.43572082519532_00_CW000_-0.5626519322395325_0.6359518766403198_2.296236038208008.jpg\n",
      "Problem with file ../raw_data/images/testing/dunes/21.091500091552735_16.23549919128418_021_CW000_-0.2559588849544525_-0.817025363445282_1.3681243658065796.jpg\n",
      "Problem with file ../raw_data/images/testing/dunes/44.941498565673825_70.42857513427734_023_CW000_-0.14516392350196838_-0.6476145386695862_1.860705018043518.jpg\n",
      "Problem with file ../raw_data/images/testing/dunes/40.84550018310547_76.62974243164062_011_CW000_0.38307061791419983_0.46937716007232666_0.6629950404167175.jpg\n"
     ]
    },
    {
     "name": "stderr",
     "output_type": "stream",
     "text": [
      " 57%|█████▋    | 1887/3313 [01:25<01:07, 20.98it/s]"
     ]
    },
    {
     "name": "stdout",
     "output_type": "stream",
     "text": [
      "Problem with file ../raw_data/images/testing/dunes/20.641500091552736_16.510649108886717_00_CW000_-0.479668527841568_0.17684780061244965_0.6195021271705627.jpg\n",
      "Problem with file ../raw_data/images/testing/dunes/43.51750106811524_107.71083221435546_013_CW000_-0.46071723103523254_0.6431394219398499_1.8604093790054321.jpg\n",
      "Problem with file ../raw_data/images/testing/dunes/15.327500152587891_49.88249816894531_020_CW000_0.5091120600700378_-0.4593682587146759_1.4873335361480713.jpg\n",
      "Problem with file ../raw_data/images/testing/dunes/33.71849899291992_55.96174850463867_020_CW000_-0.2964558005332947_-0.33702805638313293_1.4916207790374756.jpg\n",
      "Problem with file ../raw_data/images/testing/dunes/41.22050170898437_76.27960357666015_023_CW000_0.2607017755508423_-0.24212777614593506_0.8278721570968628.jpg\n"
     ]
    },
    {
     "name": "stderr",
     "output_type": "stream",
     "text": [
      " 57%|█████▋    | 1893/3313 [01:26<01:08, 20.64it/s]"
     ]
    },
    {
     "name": "stdout",
     "output_type": "stream",
     "text": [
      "Problem with file ../raw_data/images/testing/dunes/26.23250045776367_41.051911163330075_031_CW000_-0.1396024376153946_-0.19605056941509247_1.3086574077606201.jpg\n",
      "Problem with file ../raw_data/images/testing/dunes/41.39549865722656_76.90484466552735_030_CW000_0.6769541501998901_0.02883663959801197_0.9926735758781433.jpg\n",
      "Problem with file ../raw_data/images/testing/dunes/42.37350158691406_100.3535400390625_023_CW000_-0.6265398859977722_0.3935728371143341_1.552695870399475.jpg\n",
      "Problem with file ../raw_data/images/testing/dunes/43.12349853515625_100.953759765625_03_CW000_-0.3889748156070709_0.7711955308914185_2.0742509365081787.jpg\n",
      "Problem with file ../raw_data/images/testing/dunes/43.02350006103516_101.02879638671875_02_CW000_-0.5091218948364258_0.6407626867294312_1.8381099700927734.jpg\n"
     ]
    },
    {
     "name": "stderr",
     "output_type": "stream",
     "text": [
      "\r",
      " 57%|█████▋    | 1896/3313 [01:26<01:08, 20.84it/s]"
     ]
    },
    {
     "name": "stdout",
     "output_type": "stream",
     "text": [
      "Problem with file ../raw_data/images/testing/dunes/45.49149856567383_70.57873229980468_01_CW000_-0.1444755345582962_-0.6879974603652954_1.9807779788970947.jpg\n",
      "Problem with file ../raw_data/images/testing/dunes/31.228500747680663_56.90569915771484_030_CW000_-0.37960392236709595_0.6079015135765076_0.8213202357292175.jpg\n",
      "Problem with file ../raw_data/images/testing/dunes/31.70350036621094_57.05576629638672_02_CW000_-0.6103047728538513_0.683489978313446_1.1949867010116577.jpg\n",
      "Problem with file ../raw_data/images/testing/dunes/33.393499755859374_55.61158294677735_032_CW000_-0.5956853628158569_0.2805424928665161_1.2432688474655151.jpg\n",
      "Problem with file ../raw_data/images/testing/dunes/19.992499542236327_33.81675033569336_011_CW000_-0.8782212138175964_-0.11979679018259048_3.7005937099456787.jpg\n"
     ]
    },
    {
     "name": "stderr",
     "output_type": "stream",
     "text": [
      " 57%|█████▋    | 1902/3313 [01:26<01:07, 20.77it/s]"
     ]
    },
    {
     "name": "stdout",
     "output_type": "stream",
     "text": [
      "Problem with file ../raw_data/images/testing/dunes/45.541500854492185_70.90396423339844_022_CW000_-0.1376262903213501_-0.6878644824028015_1.9643235206604004.jpg\n",
      "Problem with file ../raw_data/images/testing/dunes/33.743498992919925_55.58658294677734_011_CW000_-0.816493809223175_0.16040976345539093_1.789162278175354.jpg\n",
      "Problem with file ../raw_data/images/testing/dunes/20.41649932861328_16.46059913635254_012_CW000_-0.16867341101169586_0.21569600701332092_0.6603161096572876.jpg\n",
      "Problem with file ../raw_data/images/testing/dunes/15.177500343322754_49.582498931884764_00_CW000_0.6250136494636536_-0.5413540005683899_1.1363763809204102.jpg\n",
      "Problem with file ../raw_data/images/testing/dunes/42.52350006103516_101.05379638671874_03_CW000_-0.44336119294166565_0.16677427291870117_1.124032974243164.jpg\n"
     ]
    },
    {
     "name": "stderr",
     "output_type": "stream",
     "text": [
      "\r",
      " 58%|█████▊    | 1905/3313 [01:26<01:07, 20.82it/s]"
     ]
    },
    {
     "name": "stdout",
     "output_type": "stream",
     "text": [
      "Problem with file ../raw_data/images/testing/dunes/26.05749969482422_40.326498413085936_020_CW000_0.17214055359363556_0.4323449730873108_1.5145550966262817.jpg\n",
      "Problem with file ../raw_data/images/testing/dunes/45.31650009155273_70.37857513427734_031_CW000_-0.1623912900686264_-0.6763166785240173_1.9462718963623047.jpg\n",
      "Problem with file ../raw_data/images/testing/dunes/19.062500381469725_45.86750106811523_031_CW000_-0.026389839127659798_-0.7497044801712036_2.290433645248413.jpg\n",
      "Problem with file ../raw_data/images/testing/dunes/20.466499710083006_17.06090087890625_032_CW000_-0.5178451538085938_0.403838574886322_0.49439409375190735.jpg\n"
     ]
    },
    {
     "name": "stderr",
     "output_type": "stream",
     "text": [
      " 58%|█████▊    | 1910/3313 [01:27<01:10, 19.77it/s]"
     ]
    },
    {
     "name": "stdout",
     "output_type": "stream",
     "text": [
      "Problem with file ../raw_data/images/testing/dunes/33.01349868774414_64.3009536743164_031_CW000_-0.6222116947174072_0.5289663076400757_0.8175492882728577.jpg\n",
      "Problem with file ../raw_data/images/testing/dunes/43.14249954223633_107.28560943603516_02_CW000_-0.3239474892616272_0.7198408842086792_2.048227548599243.jpg\n",
      "Problem with file ../raw_data/images/testing/dunes/44.99149856567383_70.37857513427734_01_CW000_-0.14516392350196838_-0.6476145386695862_1.860705018043518.jpg\n",
      "Problem with file ../raw_data/images/testing/dunes/42.47350006103515_100.80372314453125_021_CW000_-0.5346254110336304_0.23889628052711487_1.2315219640731812.jpg\n",
      "Problem with file ../raw_data/images/testing/dunes/20.49149971008301_16.26049919128418_022_CW000_0.012546190991997719_0.08689669519662857_0.5482457876205444.jpg\n"
     ]
    },
    {
     "name": "stderr",
     "output_type": "stream",
     "text": [
      " 58%|█████▊    | 1916/3313 [01:27<01:08, 20.52it/s]"
     ]
    },
    {
     "name": "stdout",
     "output_type": "stream",
     "text": [
      "Problem with file ../raw_data/images/testing/dunes/20.891499328613282_16.760749053955077_022_CW000_-0.6857670545578003_-0.05471138283610344_0.7159388065338135.jpg\n",
      "Problem with file ../raw_data/images/testing/dunes/42.49850006103516_101.20386962890625_011_CW000_-0.40173354744911194_0.11617141216993332_1.0731942653656006.jpg\n",
      "Problem with file ../raw_data/images/testing/dunes/31.85349922180176_56.63050155639648_021_CW000_-0.4771181344985962_0.6232045888900757_1.0944547653198242.jpg\n",
      "Problem with file ../raw_data/images/testing/dunes/28.78050079345703_16.981750106811525_033_CW000_-0.40423163771629333_-0.29693302512168884_1.8639382123947144.jpg\n",
      "Problem with file ../raw_data/images/testing/dunes/20.66650047302246_16.610699081420897_030_CW000_-0.6193869113922119_0.055047765374183655_0.5804615020751953.jpg\n"
     ]
    },
    {
     "name": "stderr",
     "output_type": "stream",
     "text": [
      " 58%|█████▊    | 1922/3313 [01:27<01:07, 20.74it/s]"
     ]
    },
    {
     "name": "stdout",
     "output_type": "stream",
     "text": [
      "Problem with file ../raw_data/images/testing/dunes/15.007500457763673_48.23250045776367_020_CW000_0.5143918395042419_-0.26547548174858093_2.101520299911499.jpg\n",
      "Problem with file ../raw_data/images/testing/dunes/31.653500366210938_56.80563201904297_020_CW000_-0.4168691039085388_0.7052213549613953_1.0547984838485718.jpg\n",
      "Problem with file ../raw_data/images/testing/dunes/38.61049957275391_95.93658752441407_012_CW000_0.19268926978111267_0.7639127373695374_1.321479320526123.jpg\n",
      "Problem with file ../raw_data/images/testing/dunes/28.60550003051758_17.282125091552736_023_CW000_-0.4103155732154846_-0.289995402097702_1.8249518871307373.jpg\n",
      "Problem with file ../raw_data/images/testing/dunes/31.70350036621094_57.33096771240234_01_CW000_-0.8312428593635559_0.44442984461784363_1.7424017190933228.jpg\n"
     ]
    },
    {
     "name": "stderr",
     "output_type": "stream",
     "text": [
      "\r",
      " 58%|█████▊    | 1925/3313 [01:27<01:07, 20.68it/s]"
     ]
    },
    {
     "name": "stdout",
     "output_type": "stream",
     "text": [
      "Problem with file ../raw_data/images/testing/dunes/32.04950103759766_61.907762145996095_03_CW000_-0.865196943283081_0.23078139126300812_4.278225421905518.jpg\n",
      "Problem with file ../raw_data/images/testing/dunes/25.657500076293946_41.051911163330075_021_CW000_0.1468982696533203_0.02093322202563286_1.4107106924057007.jpg\n",
      "Problem with file ../raw_data/images/testing/dunes/31.428499603271483_56.63050155639648_031_CW000_-0.22809141874313354_0.5115693807601929_1.0801432132720947.jpg\n",
      "Problem with file ../raw_data/images/testing/dunes/31.62449951171875_61.25750045776367_011_CW000_-0.9500872492790222_0.2917090654373169_5.941537380218506.jpg\n",
      "Problem with file ../raw_data/images/testing/dunes/31.428499603271483_57.380967712402345_033_CW000_-0.8061213493347168_0.5177724957466125_1.5697107315063477.jpg\n"
     ]
    },
    {
     "name": "stderr",
     "output_type": "stream",
     "text": [
      " 58%|█████▊    | 1931/3313 [01:28<01:08, 20.08it/s]"
     ]
    },
    {
     "name": "stdout",
     "output_type": "stream",
     "text": [
      "Problem with file ../raw_data/images/testing/dunes/45.541500854492185_70.30350036621094_022_CW000_-0.14054307341575623_-0.6582027077674866_1.8720004558563232.jpg\n",
      "Problem with file ../raw_data/images/testing/dunes/34.04349822998047_55.41149826049805_012_CW000_-0.815738320350647_0.06807229667901993_2.199172019958496.jpg\n",
      "Problem with file ../raw_data/images/testing/dunes/38.66850051879883_68.04266967773438_00_CW000_-0.9318245649337769_-0.20764973759651184_0.5035324692726135.jpg\n",
      "Problem with file ../raw_data/images/testing/dunes/19.69250030517578_33.916874694824216_011_CW000_-0.8389399647712708_-0.1340692639350891_3.5958170890808105.jpg\n"
     ]
    },
    {
     "name": "stderr",
     "output_type": "stream",
     "text": [
      "\r",
      " 58%|█████▊    | 1934/3313 [01:28<01:09, 19.86it/s]"
     ]
    },
    {
     "name": "stdout",
     "output_type": "stream",
     "text": [
      "Problem with file ../raw_data/images/testing/dunes/14.857499694824218_48.08249969482422_02_CW000_0.5823827981948853_-0.25945958495140076_1.5643118619918823.jpg\n",
      "Problem with file ../raw_data/images/testing/dunes/41.02050094604492_76.35464019775391_022_CW000_0.5771361589431763_0.10227207839488983_0.8666524887084961.jpg\n",
      "Problem with file ../raw_data/images/testing/dunes/29.15550003051758_16.731499481201173_01_CW000_-0.48625698685646057_-0.29959172010421753_1.924341082572937.jpg\n",
      "Problem with file ../raw_data/images/testing/dunes/20.721499252319337_34.332915496826175_022_CW000_-0.7798686027526855_-0.32205328345298767_3.3784804344177246.jpg\n"
     ]
    },
    {
     "name": "stderr",
     "output_type": "stream",
     "text": [
      " 59%|█████▊    | 1940/3313 [01:28<01:07, 20.29it/s]"
     ]
    },
    {
     "name": "stdout",
     "output_type": "stream",
     "text": [
      "Problem with file ../raw_data/images/testing/dunes/38.435498809814455_96.5121353149414_01_CW000_0.07820376008749008_0.8291241526603699_1.4357186555862427.jpg\n",
      "Problem with file ../raw_data/images/testing/dunes/32.71349945068359_64.07584991455079_030_CW000_-0.5056102871894836_0.6342415809631348_0.8027263283729553.jpg\n",
      "Problem with file ../raw_data/images/testing/dunes/29.10550003051758_16.731499481201173_021_CW000_-0.48625698685646057_-0.29959172010421753_1.924341082572937.jpg\n",
      "Problem with file ../raw_data/images/testing/dunes/31.999501037597657_62.10784683227539_023_CW000_-0.8226098418235779_0.16774742305278778_3.635343551635742.jpg\n",
      "Problem with file ../raw_data/images/testing/dunes/19.717500305175783_33.61650161743164_01_CW000_-0.8821038007736206_-0.09133318066596985_3.8418962955474854.jpg\n"
     ]
    },
    {
     "name": "stderr",
     "output_type": "stream",
     "text": [
      "\r",
      " 59%|█████▊    | 1943/3313 [01:28<01:07, 20.43it/s]"
     ]
    },
    {
     "name": "stdout",
     "output_type": "stream",
     "text": [
      "Problem with file ../raw_data/images/testing/dunes/42.99250106811523_107.035498046875_020_CW000_-0.3238201141357422_0.678856611251831_1.9719475507736206.jpg\n",
      "Problem with file ../raw_data/images/testing/dunes/15.577499961853027_49.38249816894531_00_CW000_0.36622363328933716_-0.5992628335952759_1.83877694606781.jpg\n",
      "Problem with file ../raw_data/images/testing/dunes/19.612500381469726_45.59250183105469_012_CW000_0.0969640240073204_-0.7032332420349121_2.2173662185668945.jpg\n",
      "Problem with file ../raw_data/images/testing/dunes/38.843501281738284_67.74249877929688_010_CW000_-0.1935843825340271_-0.18485361337661743_0.21116571128368378.jpg\n",
      "Problem with file ../raw_data/images/testing/dunes/20.846499633789062_34.1327507019043_012_CW000_-0.8393993377685547_-0.23280617594718933_3.392848014831543.jpg\n"
     ]
    },
    {
     "name": "stderr",
     "output_type": "stream",
     "text": [
      " 59%|█████▉    | 1949/3313 [01:28<01:09, 19.69it/s]"
     ]
    },
    {
     "name": "stdout",
     "output_type": "stream",
     "text": [
      "Problem with file ../raw_data/images/testing/dunes/20.641500091552736_16.33554916381836_01_CW000_-0.23219582438468933_0.16233600676059723_0.5211135149002075.jpg\n",
      "Problem with file ../raw_data/images/testing/dunes/31.92450065612793_61.55762939453125_011_CW000_-0.9131856560707092_0.30446940660476685_5.2162251472473145.jpg\n",
      "Problem with file ../raw_data/images/testing/dunes/44.34449920654297_109.50591430664062_03_CW000_-0.3737114667892456_0.6144821643829346_1.4741261005401611.jpg\n",
      "Problem with file ../raw_data/images/testing/dunes/32.98850021362305_63.87574996948242_00_CW000_-0.24206915497779846_0.034709881991147995_0.6473000049591064.jpg\n"
     ]
    },
    {
     "name": "stderr",
     "output_type": "stream",
     "text": [
      " 59%|█████▉    | 1953/3313 [01:29<01:09, 19.56it/s]"
     ]
    },
    {
     "name": "stdout",
     "output_type": "stream",
     "text": [
      "Problem with file ../raw_data/images/testing/dunes/15.132499885559081_48.23250045776367_010_CW000_0.530726969242096_-0.27493077516555786_2.1112582683563232.jpg\n",
      "Problem with file ../raw_data/images/testing/dunes/26.182500076293945_41.10191116333008_013_CW000_-0.10883599519729614_-0.16409176588058472_1.2931474447250366.jpg\n",
      "Problem with file ../raw_data/images/testing/dunes/45.391500091552736_70.62873229980468_03_CW000_-0.16012175381183624_-0.689518928527832_1.985512137413025.jpg\n",
      "Problem with file ../raw_data/images/testing/dunes/21.141500091552736_16.86080093383789_02_CW000_-0.7410833835601807_-0.14505797624588013_0.8259909749031067.jpg\n"
     ]
    },
    {
     "name": "stderr",
     "output_type": "stream",
     "text": [
      " 59%|█████▉    | 1957/3313 [01:29<01:10, 19.27it/s]"
     ]
    },
    {
     "name": "stdout",
     "output_type": "stream",
     "text": [
      "Problem with file ../raw_data/images/testing/dunes/31.57449951171875_61.85776214599609_031_CW000_-0.8926652669906616_0.2984755337238312_4.462830543518066.jpg\n",
      "Problem with file ../raw_data/images/testing/dunes/20.54149971008301_16.26049919128418_02_CW000_0.012546190991997719_0.08689669519662857_0.5482457876205444.jpg\n",
      "Problem with file ../raw_data/images/testing/dunes/42.37350158691406_100.953759765625_023_CW000_-0.4162415862083435_0.2639797031879425_1.1598423719406128.jpg\n",
      "Problem with file ../raw_data/images/testing/dunes/25.0375_26.872499847412108_00_CW000_-0.9237890243530273_-0.01389329880475998_2.447786808013916.jpg\n"
     ]
    },
    {
     "name": "stderr",
     "output_type": "stream",
     "text": [
      " 59%|█████▉    | 1961/3313 [01:29<01:13, 18.38it/s]"
     ]
    },
    {
     "name": "stdout",
     "output_type": "stream",
     "text": [
      "Problem with file ../raw_data/images/testing/dunes/26.007499313354494_40.87679595947266_02_CW000_0.029128888621926308_0.05440368130803108_1.3052104711532593.jpg\n",
      "Problem with file ../raw_data/images/testing/dunes/31.699499893188477_61.55762939453125_021_CW000_-0.9222880005836487_0.3065781891345978_5.424952507019043.jpg\n",
      "Problem with file ../raw_data/images/testing/dunes/20.566500091552733_17.08590087890625_033_CW000_-0.6005749106407166_0.3735356032848358_0.5327000021934509.jpg\n",
      "Problem with file ../raw_data/images/testing/dunes/43.01750106811524_107.63583221435547_010_CW000_-0.008332541212439537_0.7519580125808716_2.00122332572937.jpg\n"
     ]
    },
    {
     "name": "stderr",
     "output_type": "stream",
     "text": [
      " 59%|█████▉    | 1965/3313 [01:29<01:12, 18.69it/s]"
     ]
    },
    {
     "name": "stdout",
     "output_type": "stream",
     "text": [
      "Problem with file ../raw_data/images/testing/dunes/41.07050094604492_76.3296401977539_01_CW000_0.5771361589431763_0.10227207839488983_0.8666524887084961.jpg\n",
      "Problem with file ../raw_data/images/testing/dunes/32.96350021362305_63.70065002441406_011_CW000_-0.36001458764076233_-0.17866620421409607_0.6506954431533813.jpg\n",
      "Problem with file ../raw_data/images/testing/dunes/42.62349853515625_101.0788330078125_00_CW000_-0.5958533883094788_0.17627762258052826_1.1922990083694458.jpg\n",
      "Problem with file ../raw_data/images/testing/dunes/26.157500076293946_40.526617431640624_020_CW000_0.06576713919639587_0.2708597183227539_1.3499454259872437.jpg\n"
     ]
    },
    {
     "name": "stderr",
     "output_type": "stream",
     "text": [
      " 59%|█████▉    | 1969/3313 [01:30<01:11, 18.87it/s]"
     ]
    },
    {
     "name": "stdout",
     "output_type": "stream",
     "text": [
      "Problem with file ../raw_data/images/testing/dunes/38.28550033569336_96.28695526123047_020_CW000_0.02909848652780056_0.8845816254615784_1.6009963750839233.jpg\n",
      "Problem with file ../raw_data/images/testing/dunes/43.542501068115236_107.63583221435547_00_CW000_-0.46071723103523254_0.6431394219398499_1.8604093790054321.jpg\n",
      "Problem with file ../raw_data/images/testing/dunes/33.388501739501955_63.90074996948242_01_CW000_-0.189003124833107_-0.401081383228302_0.8570461869239807.jpg\n",
      "Problem with file ../raw_data/images/testing/dunes/20.71650047302246_16.36054916381836_012_CW000_-0.31968554854393005_0.0962035283446312_0.4676901400089264.jpg\n"
     ]
    },
    {
     "name": "stderr",
     "output_type": "stream",
     "text": [
      " 60%|█████▉    | 1973/3313 [01:30<01:15, 17.77it/s]"
     ]
    },
    {
     "name": "stdout",
     "output_type": "stream",
     "text": [
      "Problem with file ../raw_data/images/testing/dunes/31.153500366210938_57.10583343505859_020_CW000_-0.48876750469207764_0.67909836769104_0.8083942532539368.jpg\n",
      "Problem with file ../raw_data/images/testing/dunes/43.79250030517578_107.035498046875_020_CW000_-0.5001820921897888_0.7152990102767944_2.6138482093811035.jpg\n",
      "Problem with file ../raw_data/images/testing/dunes/33.86850128173828_56.011748504638675_02_CW000_-0.34272050857543945_-0.3985860049724579_1.5948807001113892.jpg\n",
      "Problem with file ../raw_data/images/testing/dunes/45.59150085449219_70.90396423339844_02_CW000_-0.1376262903213501_-0.6878644824028015_1.9643235206604004.jpg\n"
     ]
    },
    {
     "name": "stderr",
     "output_type": "stream",
     "text": [
      " 60%|█████▉    | 1977/3313 [01:30<01:12, 18.39it/s]"
     ]
    },
    {
     "name": "stdout",
     "output_type": "stream",
     "text": [
      "Problem with file ../raw_data/images/testing/dunes/45.56650085449219_70.8288818359375_013_CW000_-0.1364414393901825_-0.6864626407623291_1.9521132707595825.jpg\n",
      "Problem with file ../raw_data/images/testing/dunes/21.141500091552736_16.78574905395508_03_CW000_-0.6809753775596619_-0.17973986268043518_0.9162723422050476.jpg\n",
      "Problem with file ../raw_data/images/testing/dunes/33.6635009765625_63.57559814453125_010_CW000_-0.5289808511734009_-0.16425897181034088_1.0264666080474854.jpg\n",
      "Problem with file ../raw_data/images/testing/dunes/20.69150047302246_16.36054916381836_022_CW000_-0.31968554854393005_0.0962035283446312_0.4676901400089264.jpg\n"
     ]
    },
    {
     "name": "stderr",
     "output_type": "stream",
     "text": [
      " 60%|█████▉    | 1981/3313 [01:30<01:14, 17.91it/s]"
     ]
    },
    {
     "name": "stdout",
     "output_type": "stream",
     "text": [
      "Problem with file ../raw_data/images/testing/dunes/43.74250183105469_107.46072082519531_01_CW000_-0.5709773898124695_0.6269375681877136_2.2550153732299805.jpg\n",
      "Problem with file ../raw_data/images/testing/dunes/43.21750183105469_107.3856689453125_012_CW000_-0.33974334597587585_0.7245656251907349_2.0801100730895996.jpg\n",
      "Problem with file ../raw_data/images/testing/dunes/45.441498565673825_70.7038070678711_022_CW000_-0.15203239023685455_-0.6905085444450378_1.9832876920700073.jpg\n",
      "Problem with file ../raw_data/images/testing/dunes/15.652500343322753_50.032500457763675_012_CW000_0.36638081073760986_-0.5745360851287842_1.5820748805999756.jpg\n"
     ]
    },
    {
     "name": "stderr",
     "output_type": "stream",
     "text": [
      " 60%|█████▉    | 1985/3313 [01:30<01:11, 18.46it/s]"
     ]
    },
    {
     "name": "stdout",
     "output_type": "stream",
     "text": [
      "Problem with file ../raw_data/images/testing/dunes/43.12349853515625_101.1538330078125_03_CW000_-0.3312939703464508_0.7593549489974976_1.8075082302093506.jpg\n",
      "Problem with file ../raw_data/images/testing/dunes/33.288499450683595_64.02579803466797_02_CW000_-0.02712608315050602_-0.4054909646511078_0.9594680666923523.jpg\n",
      "Problem with file ../raw_data/images/testing/dunes/19.567499923706055_34.016999053955075_021_CW000_-0.8135537505149841_-0.13925354182720184_3.5280017852783203.jpg\n",
      "Problem with file ../raw_data/images/testing/dunes/14.982500457763672_47.75750045776367_031_CW000_0.5840241312980652_-0.33360782265663147_2.3078091144561768.jpg\n"
     ]
    },
    {
     "name": "stderr",
     "output_type": "stream",
     "text": [
      " 60%|██████    | 1989/3313 [01:31<01:11, 18.55it/s]"
     ]
    },
    {
     "name": "stdout",
     "output_type": "stream",
     "text": [
      "Problem with file ../raw_data/images/testing/dunes/33.44349975585938_56.23683319091797_013_CW000_-0.46064338088035583_0.18424516916275024_1.1554737091064453.jpg\n",
      "Problem with file ../raw_data/images/testing/dunes/40.72050170898437_76.3296401977539_021_CW000_0.4586837589740753_0.5249853730201721_0.9056394100189209.jpg\n",
      "Problem with file ../raw_data/images/testing/dunes/38.435498809814455_96.08677520751954_00_CW000_0.051238764077425_0.8677064776420593_1.4141662120819092.jpg\n",
      "Problem with file ../raw_data/images/testing/dunes/32.73849945068359_63.87574996948242_020_CW000_-0.5111583471298218_0.3842156231403351_0.778876543045044.jpg\n"
     ]
    },
    {
     "name": "stderr",
     "output_type": "stream",
     "text": [
      " 60%|██████    | 1993/3313 [01:31<01:11, 18.34it/s]"
     ]
    },
    {
     "name": "stdout",
     "output_type": "stream",
     "text": [
      "Problem with file ../raw_data/images/testing/dunes/41.24550170898438_77.07988128662109_013_CW000_0.005261147860437632_-0.14277048408985138_0.7232062816619873.jpg\n",
      "Problem with file ../raw_data/images/testing/dunes/25.657500076293946_40.601617431640626_023_CW000_0.12125470489263535_0.25375744700431824_1.4787013530731201.jpg\n",
      "Problem with file ../raw_data/images/testing/dunes/41.195501708984374_76.10456695556641_030_CW000_0.22322186827659607_-0.33204659819602966_0.8019689321517944.jpg\n",
      "Problem with file ../raw_data/images/testing/dunes/15.4774995803833_49.957498168945314_03_CW000_0.47011566162109375_-0.4856918156147003_1.576014757156372.jpg\n"
     ]
    },
    {
     "name": "stderr",
     "output_type": "stream",
     "text": [
      " 60%|██████    | 1997/3313 [01:31<01:11, 18.39it/s]"
     ]
    },
    {
     "name": "stdout",
     "output_type": "stream",
     "text": [
      "Problem with file ../raw_data/images/testing/dunes/40.74550170898438_77.15491027832032_012_CW000_-0.7616252303123474_0.5936388373374939_1.1994197368621826.jpg\n",
      "Problem with file ../raw_data/images/testing/dunes/28.630500030517577_17.332249450683594_011_CW000_-0.40341296792030334_-0.2982408404350281_1.7537842988967896.jpg\n",
      "Problem with file ../raw_data/images/testing/dunes/31.603499984741212_56.830632019042966_01_CW000_-0.3753592371940613_0.6780613660812378_1.0144665241241455.jpg\n",
      "Problem with file ../raw_data/images/testing/dunes/20.84150085449219_16.23549919128418_01_CW000_-0.15044081211090088_-0.5090184807777405_0.5067636370658875.jpg\n"
     ]
    },
    {
     "name": "stderr",
     "output_type": "stream",
     "text": [
      " 60%|██████    | 2001/3313 [01:31<01:10, 18.70it/s]"
     ]
    },
    {
     "name": "stdout",
     "output_type": "stream",
     "text": [
      "Problem with file ../raw_data/images/testing/dunes/40.62049942016601_76.0045379638672_020_CW000_0.3640296459197998_0.7231192588806152_1.1394288539886475.jpg\n",
      "Problem with file ../raw_data/images/testing/dunes/15.032500457763671_48.13249816894531_010_CW000_0.5263717770576477_-0.25283780694007874_2.1373305320739746.jpg\n",
      "Problem with file ../raw_data/images/testing/dunes/41.67049942016602_76.87980804443359_03_CW000_0.8368099927902222_0.060292404145002365_1.2634457349777222.jpg\n",
      "Problem with file ../raw_data/images/testing/dunes/42.7484992980957_101.1288330078125_032_CW000_-0.6748458743095398_0.2847256660461426_1.421557903289795.jpg\n"
     ]
    },
    {
     "name": "stderr",
     "output_type": "stream",
     "text": [
      " 61%|██████    | 2005/3313 [01:31<01:10, 18.50it/s]"
     ]
    },
    {
     "name": "stdout",
     "output_type": "stream",
     "text": [
      "Problem with file ../raw_data/images/testing/dunes/41.52050094604492_77.02988128662109_021_CW000_0.7791029810905457_0.10028454661369324_1.132707118988037.jpg\n",
      "Problem with file ../raw_data/images/testing/dunes/41.39549865722656_76.8048080444336_030_CW000_0.6782362461090088_0.028966382145881653_1.0302200317382812.jpg\n",
      "Problem with file ../raw_data/images/testing/dunes/38.560499572753905_95.91158752441406_031_CW000_0.19268926978111267_0.7639127373695374_1.321479320526123.jpg\n",
      "Problem with file ../raw_data/images/testing/dunes/43.04849853515625_100.65364990234374_033_CW000_-0.44795066118240356_0.7251629829406738_2.0357656478881836.jpg\n"
     ]
    },
    {
     "name": "stderr",
     "output_type": "stream",
     "text": [
      " 61%|██████    | 2009/3313 [01:32<01:10, 18.49it/s]"
     ]
    },
    {
     "name": "stdout",
     "output_type": "stream",
     "text": [
      "Problem with file ../raw_data/images/testing/dunes/19.16250076293945_45.76749877929687_031_CW000_0.0151749849319458_-0.7325435280799866_2.2428390979766846.jpg\n",
      "Problem with file ../raw_data/images/testing/dunes/43.692501831054685_107.76089172363281_021_CW000_-0.5773500204086304_0.5711233019828796_1.9406782388687134.jpg\n",
      "Problem with file ../raw_data/images/testing/dunes/33.438500213623044_63.97579803466797_020_CW000_-0.3964866101741791_-0.46534496545791626_0.9686969518661499.jpg\n",
      "Problem with file ../raw_data/images/testing/dunes/20.316500854492187_16.83580093383789_011_CW000_-0.5153722167015076_0.026518985629081726_0.5788098573684692.jpg\n"
     ]
    },
    {
     "name": "stderr",
     "output_type": "stream",
     "text": [
      " 61%|██████    | 2013/3313 [01:32<01:12, 17.98it/s]"
     ]
    },
    {
     "name": "stdout",
     "output_type": "stream",
     "text": [
      "Problem with file ../raw_data/images/testing/dunes/31.62449951171875_61.43258514404297_010_CW000_-0.9374967813491821_0.2970713675022125_5.627068519592285.jpg\n",
      "Problem with file ../raw_data/images/testing/dunes/20.741500473022462_16.6856990814209_03_CW000_-0.6193869113922119_0.055047765374183655_0.5804615020751953.jpg\n",
      "Problem with file ../raw_data/images/testing/dunes/28.78050079345703_17.00687446594238_030_CW000_-0.4138762950897217_-0.27483323216438293_1.839026927947998.jpg\n",
      "Problem with file ../raw_data/images/testing/dunes/43.442498779296876_107.28560943603516_02_CW000_-0.460286021232605_0.6989418268203735_2.2189183235168457.jpg\n"
     ]
    },
    {
     "name": "stderr",
     "output_type": "stream",
     "text": [
      " 61%|██████    | 2017/3313 [01:32<01:11, 18.12it/s]"
     ]
    },
    {
     "name": "stdout",
     "output_type": "stream",
     "text": [
      "Problem with file ../raw_data/images/testing/dunes/31.653500366210938_57.33096771240234_021_CW000_-0.8312428593635559_0.44442984461784363_1.7424017190933228.jpg\n",
      "Problem with file ../raw_data/images/testing/dunes/42.898501586914065_101.25386962890624_013_CW000_-0.5839303731918335_0.4209716022014618_1.3743618726730347.jpg\n",
      "Problem with file ../raw_data/images/testing/dunes/31.37450065612793_61.682673645019534_032_CW000_-0.9260085225105286_0.30318284034729004_4.836687088012695.jpg\n",
      "Problem with file ../raw_data/images/testing/dunes/20.441499328613283_16.36054916381836_02_CW000_-0.06521864980459213_0.15649478137493134_0.6092240214347839.jpg\n"
     ]
    },
    {
     "name": "stderr",
     "output_type": "stream",
     "text": [
      " 61%|██████    | 2021/3313 [01:32<01:09, 18.70it/s]"
     ]
    },
    {
     "name": "stdout",
     "output_type": "stream",
     "text": [
      "Problem with file ../raw_data/images/testing/dunes/14.832499694824218_48.282500457763675_012_CW000_0.5260545015335083_-0.2561887502670288_1.52852463722229.jpg\n",
      "Problem with file ../raw_data/images/testing/dunes/43.76750030517578_107.91094360351562_033_CW000_-0.5789913535118103_0.5506714582443237_1.8655177354812622.jpg\n",
      "Problem with file ../raw_data/images/testing/dunes/20.91649932861328_16.46059913635254_012_CW000_-0.5094184875488281_-0.31974539160728455_0.6648147106170654.jpg\n",
      "Problem with file ../raw_data/images/testing/dunes/38.46050109863281_95.81149749755859_031_CW000_0.24601466953754425_0.7194265723228455_1.275434970855713.jpg\n"
     ]
    },
    {
     "name": "stderr",
     "output_type": "stream",
     "text": [
      " 61%|██████    | 2025/3313 [01:33<01:08, 18.70it/s]"
     ]
    },
    {
     "name": "stdout",
     "output_type": "stream",
     "text": [
      "Problem with file ../raw_data/images/testing/dunes/43.19850082397461_101.1288330078125_012_CW000_-0.1863543689250946_0.8408895134925842_1.9971835613250732.jpg\n",
      "Problem with file ../raw_data/images/testing/dunes/15.35250015258789_49.532500457763675_012_CW000_0.4600646197795868_-0.5812029242515564_1.5211749076843262.jpg\n",
      "Problem with file ../raw_data/images/testing/dunes/40.49550094604492_76.8048080444336_030_CW000_-0.752255916595459_0.5898942351341248_1.277889370918274.jpg\n",
      "Problem with file ../raw_data/images/testing/dunes/20.54149971008301_16.86080093383789_02_CW000_-0.7050067186355591_0.17107044160366058_0.5570440888404846.jpg\n"
     ]
    },
    {
     "name": "stderr",
     "output_type": "stream",
     "text": [
      " 61%|██████    | 2029/3313 [01:33<01:08, 18.76it/s]"
     ]
    },
    {
     "name": "stdout",
     "output_type": "stream",
     "text": [
      "Problem with file ../raw_data/images/testing/dunes/26.07649955749512_7.926642990112304_03_CW000_-0.14519013464450836_-0.3576643168926239_1.1119623184204102.jpg\n",
      "Problem with file ../raw_data/images/testing/dunes/43.01750106811524_107.68583221435547_012_CW000_-0.008332541212439537_0.7519580125808716_2.00122332572937.jpg\n",
      "Problem with file ../raw_data/images/testing/dunes/20.641500091552736_16.98585090637207_03_CW000_-0.7020641565322876_0.2976413369178772_0.5236460566520691.jpg\n",
      "Problem with file ../raw_data/images/testing/dunes/41.67049942016602_76.82980804443359_01_CW000_0.8368099927902222_0.060292404145002365_1.2634457349777222.jpg\n"
     ]
    },
    {
     "name": "stderr",
     "output_type": "stream",
     "text": [
      " 61%|██████▏   | 2033/3313 [01:33<01:11, 17.89it/s]"
     ]
    },
    {
     "name": "stdout",
     "output_type": "stream",
     "text": [
      "Problem with file ../raw_data/images/testing/dunes/21.09650077819824_33.90758209228515_031_CW000_-0.893015444278717_-0.13983125984668732_3.5130422115325928.jpg\n",
      "Problem with file ../raw_data/images/testing/dunes/22.242500686645506_49.2474983215332_031_CW000_-0.6100631356239319_-0.6373994946479797_1.9282342195510864.jpg\n",
      "Problem with file ../raw_data/images/testing/dunes/31.803500747680665_56.70556488037109_00_CW000_-0.4323958158493042_0.7198100090026855_1.0254751443862915.jpg\n",
      "Problem with file ../raw_data/images/testing/dunes/33.6635009765625_64.07584991455079_010_CW000_-0.408455491065979_-0.33067744970321655_1.1640669107437134.jpg\n"
     ]
    },
    {
     "name": "stderr",
     "output_type": "stream",
     "text": [
      " 61%|██████▏   | 2037/3313 [01:33<01:13, 17.37it/s]"
     ]
    },
    {
     "name": "stdout",
     "output_type": "stream",
     "text": [
      "Problem with file ../raw_data/images/testing/dunes/15.4774995803833_49.90749816894531_01_CW000_0.47011566162109375_-0.4856918156147003_1.576014757156372.jpg\n",
      "Problem with file ../raw_data/images/testing/dunes/33.91849975585937_56.03674850463867_023_CW000_-0.39543676376342773_-0.44409340620040894_1.715564250946045.jpg\n",
      "Problem with file ../raw_data/images/testing/dunes/42.97350006103515_101.0788330078125_020_CW000_-0.48369863629341125_0.6125851273536682_1.6593947410583496.jpg\n",
      "Problem with file ../raw_data/images/testing/dunes/41.14549942016602_77.07988128662109_013_CW000_-0.24452728033065796_-0.07031439989805222_0.6575781106948853.jpg\n"
     ]
    },
    {
     "name": "stderr",
     "output_type": "stream",
     "text": [
      " 62%|██████▏   | 2041/3313 [01:33<01:10, 18.15it/s]"
     ]
    },
    {
     "name": "stdout",
     "output_type": "stream",
     "text": [
      "Problem with file ../raw_data/images/testing/dunes/31.20350036621094_56.65550155639649_02_CW000_-0.08559714257717133_0.3675735294818878_1.2026362419128418.jpg\n",
      "Problem with file ../raw_data/images/testing/dunes/25.33749923706055_26.92249984741211_02_CW000_-0.907149076461792_0.0191965214908123_2.2823987007141113.jpg\n",
      "Problem with file ../raw_data/images/testing/dunes/42.64850082397461_100.45357666015624_033_CW000_-0.7548223733901978_0.3328409492969513_1.837989091873169.jpg\n",
      "Problem with file ../raw_data/images/testing/dunes/20.71650047302246_16.38554916381836_013_CW000_-0.31968554854393005_0.0962035283446312_0.4676901400089264.jpg\n"
     ]
    },
    {
     "name": "stderr",
     "output_type": "stream",
     "text": [
      " 62%|██████▏   | 2045/3313 [01:34<01:11, 17.79it/s]"
     ]
    },
    {
     "name": "stdout",
     "output_type": "stream",
     "text": [
      "Problem with file ../raw_data/images/testing/dunes/40.52050094604492_76.02953796386718_021_CW000_0.07816573232412338_0.8385636210441589_1.1010502576828003.jpg\n",
      "Problem with file ../raw_data/images/testing/dunes/31.87450065612793_61.63267364501953_030_CW000_-0.9040991067886353_0.28551948070526123_5.007256031036377.jpg\n",
      "Problem with file ../raw_data/images/testing/dunes/44.71950073242188_109.15566711425781_011_CW000_-0.36131688952445984_0.6624869704246521_1.9650561809539795.jpg\n",
      "Problem with file ../raw_data/images/testing/dunes/33.2634994506836_64.20090179443359_011_CW000_-0.16660599410533905_-0.20299237966537476_0.9247713088989258.jpg\n"
     ]
    },
    {
     "name": "stderr",
     "output_type": "stream",
     "text": [
      " 62%|██████▏   | 2049/3313 [01:34<01:10, 17.98it/s]"
     ]
    },
    {
     "name": "stdout",
     "output_type": "stream",
     "text": [
      "Problem with file ../raw_data/images/testing/dunes/32.888501739501955_64.25090179443359_03_CW000_-0.5586315989494324_0.6486059427261353_0.7544546127319336.jpg\n",
      "Problem with file ../raw_data/images/testing/dunes/34.06849822998047_55.486542510986325_01_CW000_-0.8228869438171387_0.051543645560741425_2.267083168029785.jpg\n",
      "Problem with file ../raw_data/images/testing/dunes/33.03849868774414_63.40049819946289_021_CW000_-0.6691743731498718_-0.43069934844970703_0.7408806681632996.jpg\n",
      "Problem with file ../raw_data/images/testing/dunes/42.87350158691406_101.20386962890625_021_CW000_-0.5839303731918335_0.4209716022014618_1.3743618726730347.jpg\n"
     ]
    },
    {
     "name": "stderr",
     "output_type": "stream",
     "text": [
      " 62%|██████▏   | 2053/3313 [01:34<01:16, 16.58it/s]"
     ]
    },
    {
     "name": "stdout",
     "output_type": "stream",
     "text": [
      "Problem with file ../raw_data/images/testing/dunes/26.05749969482422_40.50155792236328_023_CW000_0.1026507169008255_0.3892436623573303_1.4255527257919312.jpg\n",
      "Problem with file ../raw_data/images/testing/dunes/40.67049942016602_76.15456695556641_02_CW000_0.3316066563129425_0.6997290253639221_0.9764223098754883.jpg\n",
      "Problem with file ../raw_data/images/testing/dunes/37.98550109863281_96.08677520751954_020_CW000_-0.4780835509300232_0.8095149993896484_1.3793857097625732.jpg\n"
     ]
    },
    {
     "name": "stderr",
     "output_type": "stream",
     "text": [
      "\r",
      " 62%|██████▏   | 2055/3313 [01:34<01:14, 16.89it/s]"
     ]
    },
    {
     "name": "stdout",
     "output_type": "stream",
     "text": [
      "Problem with file ../raw_data/images/testing/dunes/31.749499893188478_61.43258514404297_00_CW000_-0.9329142570495605_0.3001134395599365_5.67570686340332.jpg\n",
      "Problem with file ../raw_data/images/testing/dunes/38.035501098632814_96.08677520751954_00_CW000_-0.4780835509300232_0.8095149993896484_1.3793857097625732.jpg\n",
      "Problem with file ../raw_data/images/testing/dunes/20.291500854492188_16.21049919128418_020_CW000_0.29386845231056213_0.24127914011478424_0.6688743829727173.jpg\n",
      "Problem with file ../raw_data/images/testing/dunes/26.23250045776367_40.75173645019531_031_CW000_-0.08852653950452805_-0.008082548156380653_1.2819433212280273.jpg\n"
     ]
    },
    {
     "name": "stderr",
     "output_type": "stream",
     "text": [
      " 62%|██████▏   | 2059/3313 [01:35<01:08, 18.21it/s]"
     ]
    },
    {
     "name": "stdout",
     "output_type": "stream",
     "text": [
      "Problem with file ../raw_data/images/testing/dunes/38.035501098632814_96.16177520751953_03_CW000_-0.4780835509300232_0.8095149993896484_1.3793857097625732.jpg\n",
      "Problem with file ../raw_data/images/testing/dunes/32.71349945068359_63.37549819946289_030_CW000_-0.5832479596138_-0.22287534177303314_0.8822293877601624.jpg\n",
      "Problem with file ../raw_data/images/testing/dunes/42.7484992980957_101.25386962890624_033_CW000_-0.6524389982223511_0.2614607810974121_1.3448525667190552.jpg\n",
      "Problem with file ../raw_data/images/testing/dunes/20.941499328613283_16.21049919128418_00_CW000_-0.18588700890541077_-0.6683453917503357_0.7124367952346802.jpg\n"
     ]
    },
    {
     "name": "stderr",
     "output_type": "stream",
     "text": [
      " 62%|██████▏   | 2063/3313 [01:35<01:06, 18.67it/s]"
     ]
    },
    {
     "name": "stdout",
     "output_type": "stream",
     "text": [
      "Problem with file ../raw_data/images/testing/dunes/21.066500091552733_16.6856990814209_033_CW000_-0.5446922779083252_-0.3825142979621887_1.0154786109924316.jpg\n",
      "Problem with file ../raw_data/images/testing/dunes/42.398501586914065_100.65364990234374_013_CW000_-0.5230313539505005_0.3490811586380005_1.3080353736877441.jpg\n",
      "Problem with file ../raw_data/images/testing/dunes/26.23250045776367_40.72673645019531_030_CW000_-0.08852653950452805_-0.008082548156380653_1.2819433212280273.jpg\n",
      "Problem with file ../raw_data/images/testing/dunes/20.966499710083006_16.91085090637207_030_CW000_-0.6646875739097595_-0.03605775535106659_0.8784871697425842.jpg\n"
     ]
    },
    {
     "name": "stderr",
     "output_type": "stream",
     "text": [
      " 62%|██████▏   | 2067/3313 [01:35<01:10, 17.70it/s]"
     ]
    },
    {
     "name": "stdout",
     "output_type": "stream",
     "text": [
      "Problem with file ../raw_data/images/testing/dunes/14.782499694824219_47.932501220703124_030_CW000_0.6021972894668579_-0.26524773240089417_1.629909634590149.jpg\n",
      "Problem with file ../raw_data/images/testing/dunes/20.291500854492188_16.43559913635254_021_CW000_-0.09725315868854523_0.20584911108016968_0.6866973638534546.jpg\n",
      "Problem with file ../raw_data/images/testing/dunes/43.39249877929687_107.23560943603516_020_CW000_-0.460286021232605_0.6989418268203735_2.2189183235168457.jpg\n",
      "Problem with file ../raw_data/images/testing/dunes/20.821499633789063_33.807499694824216_021_CW000_-0.9146891236305237_-0.0756167620420456_3.583883285522461.jpg\n"
     ]
    },
    {
     "name": "stderr",
     "output_type": "stream",
     "text": [
      " 63%|██████▎   | 2071/3313 [01:35<01:09, 17.89it/s]"
     ]
    },
    {
     "name": "stdout",
     "output_type": "stream",
     "text": [
      "Problem with file ../raw_data/images/testing/dunes/20.69150047302246_16.43559913635254_021_CW000_-0.4338754713535309_0.15508918464183807_0.5579233169555664.jpg\n",
      "Problem with file ../raw_data/images/testing/dunes/42.798499298095706_100.85372314453124_013_CW000_-0.721983790397644_0.34904780983924866_1.684287190437317.jpg\n",
      "Problem with file ../raw_data/images/testing/dunes/43.74250183105469_107.4106689453125_03_CW000_-0.5689128041267395_0.6423789262771606_2.355210304260254.jpg\n",
      "Problem with file ../raw_data/images/testing/dunes/43.07349853515625_100.45357666015624_023_CW000_-0.49290138483047485_0.6567980051040649_1.8757421970367432.jpg\n"
     ]
    },
    {
     "name": "stderr",
     "output_type": "stream",
     "text": [
      " 63%|██████▎   | 2075/3313 [01:35<01:10, 17.61it/s]"
     ]
    },
    {
     "name": "stdout",
     "output_type": "stream",
     "text": [
      "Problem with file ../raw_data/images/testing/dunes/43.46750106811523_107.68583221435547_032_CW000_-0.46071723103523254_0.6431394219398499_1.8604093790054321.jpg\n",
      "Problem with file ../raw_data/images/testing/dunes/45.34150009155273_70.30350036621094_022_CW000_-0.17213918268680573_-0.6666615009307861_1.9171922206878662.jpg\n",
      "Problem with file ../raw_data/images/testing/dunes/14.832499694824218_48.057499694824216_011_CW000_0.5823827981948853_-0.25945958495140076_1.5643118619918823.jpg\n",
      "Problem with file ../raw_data/images/testing/dunes/31.349500274658205_61.70767364501953_03_CW000_-0.9287709593772888_0.30891644954681396_4.64567232131958.jpg\n"
     ]
    },
    {
     "name": "stderr",
     "output_type": "stream",
     "text": [
      " 63%|██████▎   | 2079/3313 [01:36<01:11, 17.22it/s]"
     ]
    },
    {
     "name": "stdout",
     "output_type": "stream",
     "text": [
      "Problem with file ../raw_data/images/testing/dunes/34.118500518798825_55.71162338256836_022_CW000_-0.8380444645881653_-0.0906069353222847_2.347200632095337.jpg\n",
      "Problem with file ../raw_data/images/testing/dunes/26.4075008392334_40.40149841308594_03_CW000_0.17315372824668884_0.3043399453163147_1.4775274991989136.jpg\n",
      "Problem with file ../raw_data/images/testing/dunes/25.976499176025392_7.926642990112304_03_CW000_-0.12161245197057724_-0.3521067798137665_1.071845293045044.jpg\n",
      "Problem with file ../raw_data/images/testing/dunes/21.141500091552736_16.710749053955077_00_CW000_-0.6809753775596619_-0.17973986268043518_0.9162723422050476.jpg\n"
     ]
    },
    {
     "name": "stderr",
     "output_type": "stream",
     "text": [
      " 63%|██████▎   | 2083/3313 [01:36<01:07, 18.11it/s]"
     ]
    },
    {
     "name": "stdout",
     "output_type": "stream",
     "text": [
      "Problem with file ../raw_data/images/testing/dunes/29.03049964904785_17.282125091552736_013_CW000_-0.49946773052215576_-0.2143469601869583_1.7926068305969238.jpg\n",
      "Problem with file ../raw_data/images/testing/dunes/43.02350006103516_101.05379638671874_03_CW000_-0.5091218948364258_0.6407626867294312_1.8381099700927734.jpg\n",
      "Problem with file ../raw_data/images/testing/dunes/19.667500305175782_33.84175033569336_022_CW000_-0.8568165302276611_-0.11473585665225983_3.68485164642334.jpg\n",
      "Problem with file ../raw_data/images/testing/dunes/44.569498443603514_109.00550231933593_033_CW000_-0.44161590933799744_0.6375353336334229_2.070099115371704.jpg\n"
     ]
    },
    {
     "name": "stderr",
     "output_type": "stream",
     "text": [
      " 63%|██████▎   | 2087/3313 [01:36<01:11, 17.11it/s]"
     ]
    },
    {
     "name": "stdout",
     "output_type": "stream",
     "text": [
      "Problem with file ../raw_data/images/testing/dunes/42.67350082397461_100.878759765625_020_CW000_-0.7008964419364929_0.26701173186302185_1.4472295045852661.jpg\n",
      "Problem with file ../raw_data/images/testing/dunes/20.41649932861328_17.03590087890625_011_CW000_-0.4548834264278412_0.3732754588127136_0.43831104040145874.jpg\n",
      "Problem with file ../raw_data/images/testing/dunes/31.299500274658204_62.00780258178711_023_CW000_-0.8739580512046814_0.38215383887290955_3.827754259109497.jpg\n",
      "Problem with file ../raw_data/images/testing/dunes/38.21050186157227_95.81149749755859_011_CW000_-0.2267722487449646_0.8887361288070679_1.251452088356018.jpg\n"
     ]
    },
    {
     "name": "stderr",
     "output_type": "stream",
     "text": [
      " 63%|██████▎   | 2091/3313 [01:36<01:10, 17.36it/s]"
     ]
    },
    {
     "name": "stdout",
     "output_type": "stream",
     "text": [
      "Problem with file ../raw_data/images/testing/dunes/38.0854995727539_96.48713531494141_020_CW000_-0.1852608323097229_0.8832283020019531_1.593317985534668.jpg\n",
      "Problem with file ../raw_data/images/testing/dunes/44.46949996948242_108.95550231933593_031_CW000_-0.5493270754814148_0.5796059966087341_2.085843086242676.jpg\n",
      "Problem with file ../raw_data/images/testing/dunes/26.10749969482422_41.07691116333008_02_CW000_-0.07088113576173782_-0.12226144224405289_1.2823690176010132.jpg\n",
      "Problem with file ../raw_data/images/testing/dunes/20.69150047302246_16.91085090637207_020_CW000_-0.6502166986465454_0.2707524001598358_0.5761353969573975.jpg\n"
     ]
    },
    {
     "name": "stderr",
     "output_type": "stream",
     "text": [
      " 63%|██████▎   | 2095/3313 [01:37<01:09, 17.54it/s]"
     ]
    },
    {
     "name": "stdout",
     "output_type": "stream",
     "text": [
      "Problem with file ../raw_data/images/testing/dunes/33.2634994506836_64.12584991455078_012_CW000_-0.10783100128173828_-0.27949056029319763_0.9294078350067139.jpg\n",
      "Problem with file ../raw_data/images/testing/dunes/44.519499969482425_109.08058471679688_012_CW000_-0.5588897466659546_0.5677530169487_2.0252604484558105.jpg\n",
      "Problem with file ../raw_data/images/testing/dunes/41.14549942016602_76.97984466552734_013_CW000_0.07071025669574738_-0.12174086272716522_0.6477588415145874.jpg\n",
      "Problem with file ../raw_data/images/testing/dunes/43.22350082397461_100.903759765625_01_CW000_-0.24785806238651276_0.8419911861419678_2.24215030670166.jpg\n"
     ]
    },
    {
     "name": "stderr",
     "output_type": "stream",
     "text": [
      " 63%|██████▎   | 2099/3313 [01:37<01:05, 18.41it/s]"
     ]
    },
    {
     "name": "stdout",
     "output_type": "stream",
     "text": [
      "Problem with file ../raw_data/images/testing/dunes/32.96350021362305_63.67565002441406_010_CW000_-0.36001458764076233_-0.17866620421409607_0.6506954431533813.jpg\n",
      "Problem with file ../raw_data/images/testing/dunes/45.516500854492186_70.5537322998047_030_CW000_-0.13166145980358124_-0.6816415190696716_1.943590521812439.jpg\n",
      "Problem with file ../raw_data/images/testing/dunes/45.166499328613284_70.35357513427735_010_CW000_-0.1707596331834793_-0.6740814447402954_1.9329845905303955.jpg\n",
      "Problem with file ../raw_data/images/testing/dunes/42.398501586914065_100.57864990234376_010_CW000_-0.5230313539505005_0.3490811586380005_1.3080353736877441.jpg\n",
      "Problem with file ../raw_data/images/testing/dunes/45.21650161743164_70.30350036621094_032_CW000_-0.19073069095611572_-0.6680041551589966_1.9273992776870728.jpg\n"
     ]
    },
    {
     "name": "stderr",
     "output_type": "stream",
     "text": [
      " 64%|██████▎   | 2105/3313 [01:37<01:01, 19.80it/s]"
     ]
    },
    {
     "name": "stdout",
     "output_type": "stream",
     "text": [
      "Problem with file ../raw_data/images/testing/dunes/43.11749954223633_107.68583221435547_012_CW000_-0.09514021873474121_0.7583049535751343_1.9841558933258057.jpg\n",
      "Problem with file ../raw_data/images/testing/dunes/15.252499771118163_49.932498168945315_012_CW000_0.574704647064209_-0.41313567757606506_1.375328779220581.jpg\n",
      "Problem with file ../raw_data/images/testing/dunes/19.717500305175783_34.117123413085935_01_CW000_-0.7992690205574036_-0.17534054815769196_3.519487142562866.jpg\n",
      "Problem with file ../raw_data/images/testing/dunes/31.478499603271484_57.13083343505859_011_CW000_-0.6792840957641602_0.6364860534667969_1.2023500204086304.jpg\n",
      "Problem with file ../raw_data/images/testing/dunes/26.4075008392334_40.95185165405273_01_CW000_-0.12236502021551132_-0.17557546496391296_1.3277456760406494.jpg\n"
     ]
    },
    {
     "name": "stderr",
     "output_type": "stream",
     "text": [
      " 64%|██████▎   | 2111/3313 [01:37<00:59, 20.07it/s]"
     ]
    },
    {
     "name": "stdout",
     "output_type": "stream",
     "text": [
      "Problem with file ../raw_data/images/testing/dunes/31.503499603271486_56.95569915771485_02_CW000_-0.4677460789680481_0.7126262784004211_0.9044305682182312.jpg\n",
      "Problem with file ../raw_data/images/testing/dunes/43.298499298095706_100.65364990234374_013_CW000_-0.13585664331912994_0.8724046945571899_2.146843194961548.jpg\n",
      "Problem with file ../raw_data/images/testing/dunes/19.66250076293945_45.76749877929687_031_CW000_0.06141861900687218_-0.7342206835746765_2.218212604522705.jpg\n",
      "Problem with file ../raw_data/images/testing/dunes/44.44450149536133_109.68108673095703_02_CW000_-0.41784754395484924_0.5990960001945496_1.4728094339370728.jpg\n",
      "Problem with file ../raw_data/images/testing/dunes/32.73849945068359_63.65059814453125_023_CW000_-0.5718586444854736_-0.055575937032699585_0.7914447784423828.jpg\n"
     ]
    },
    {
     "name": "stderr",
     "output_type": "stream",
     "text": [
      " 64%|██████▍   | 2115/3313 [01:38<01:00, 19.92it/s]"
     ]
    },
    {
     "name": "stdout",
     "output_type": "stream",
     "text": [
      "Problem with file ../raw_data/images/testing/dunes/14.657499885559082_48.15749816894531_01_CW000_0.7591392397880554_-0.15973423421382904_1.0777760744094849.jpg\n",
      "Problem with file ../raw_data/images/testing/dunes/31.503499603271486_57.28090057373047_03_CW000_-0.7345653176307678_0.5979325175285339_1.392768144607544.jpg\n",
      "Problem with file ../raw_data/images/testing/dunes/43.542501068115236_107.085498046875_02_CW000_-0.47812700271606445_0.7110421061515808_2.394564390182495.jpg\n",
      "Problem with file ../raw_data/images/testing/dunes/43.39249877929687_107.58578033447266_022_CW000_-0.4149738848209381_0.6829695701599121_1.9696263074874878.jpg\n"
     ]
    },
    {
     "name": "stderr",
     "output_type": "stream",
     "text": [
      " 64%|██████▍   | 2120/3313 [01:38<00:59, 20.08it/s]"
     ]
    },
    {
     "name": "stdout",
     "output_type": "stream",
     "text": [
      "Problem with file ../raw_data/images/testing/dunes/20.791500854492188_16.760749053955077_022_CW000_-0.6643871068954468_-0.052440132945775986_0.6270217895507812.jpg\n",
      "Problem with file ../raw_data/images/testing/dunes/28.630500030517577_16.806625747680663_010_CW000_-0.3723045289516449_-0.2951122522354126_1.8755706548690796.jpg\n",
      "Problem with file ../raw_data/images/testing/dunes/38.743498992919925_68.39283294677735_012_CW000_-0.6213557124137878_-0.08668562769889832_0.49845486879348755.jpg\n",
      "Problem with file ../raw_data/images/testing/dunes/43.06749954223633_107.16055755615234_031_CW000_-0.34123143553733826_0.7120633125305176_2.0533828735351562.jpg\n",
      "Problem with file ../raw_data/images/testing/dunes/42.49850006103516_101.00379638671875_011_CW000_-0.44336119294166565_0.16677427291870117_1.124032974243164.jpg\n"
     ]
    },
    {
     "name": "stderr",
     "output_type": "stream",
     "text": [
      "\r",
      " 64%|██████▍   | 2123/3313 [01:38<00:59, 20.15it/s]"
     ]
    },
    {
     "name": "stdout",
     "output_type": "stream",
     "text": [
      "Problem with file ../raw_data/images/testing/dunes/29.180500411987303_17.332249450683594_031_CW000_-0.5175797343254089_-0.26923468708992004_1.81417977809906.jpg\n",
      "Problem with file ../raw_data/images/testing/dunes/20.49149971008301_16.83580093383789_021_CW000_-0.7050067186355591_0.17107044160366058_0.5570440888404846.jpg\n",
      "Problem with file ../raw_data/images/testing/dunes/42.54849853515625_100.903759765625_031_CW000_-0.6342736482620239_0.24210113286972046_1.2769869565963745.jpg\n",
      "Problem with file ../raw_data/images/testing/dunes/40.57050094604492_76.82980804443359_01_CW000_-0.752255916595459_0.5898942351341248_1.277889370918274.jpg\n",
      "Problem with file ../raw_data/images/testing/dunes/44.69450073242187_109.13066711425782_020_CW000_-0.36131688952445984_0.6624869704246521_1.9650561809539795.jpg\n"
     ]
    },
    {
     "name": "stderr",
     "output_type": "stream",
     "text": [
      " 64%|██████▍   | 2129/3313 [01:38<00:59, 19.99it/s]"
     ]
    },
    {
     "name": "stdout",
     "output_type": "stream",
     "text": [
      "Problem with file ../raw_data/images/testing/dunes/33.03849868774414_63.65059814453125_023_CW000_-0.4777297079563141_-0.33530285954475403_0.6580554246902466.jpg\n",
      "Problem with file ../raw_data/images/testing/dunes/33.6385009765625_63.65059814453125_023_CW000_-0.5289808511734009_-0.16425897181034088_1.0264666080474854.jpg\n",
      "Problem with file ../raw_data/images/testing/dunes/44.569498443603514_109.45591430664062_031_CW000_-0.48043006658554077_0.602738618850708_1.76814866065979.jpg\n",
      "Problem with file ../raw_data/images/testing/dunes/33.53849868774414_64.05079803466796_023_CW000_-0.5082791447639465_-0.3906800448894501_1.070723533630371.jpg\n"
     ]
    },
    {
     "name": "stderr",
     "output_type": "stream",
     "text": [
      "\r",
      " 64%|██████▍   | 2132/3313 [01:38<00:58, 20.06it/s]"
     ]
    },
    {
     "name": "stdout",
     "output_type": "stream",
     "text": [
      "Problem with file ../raw_data/images/testing/dunes/33.69349899291992_56.21183319091797_032_CW000_-0.35695457458496094_-0.23840343952178955_1.313857078552246.jpg\n",
      "Problem with file ../raw_data/images/testing/dunes/45.49149856567383_70.42857513427734_03_CW000_-0.14625826478004456_-0.6748873591423035_1.9417333602905273.jpg\n",
      "Problem with file ../raw_data/images/testing/dunes/40.67049942016602_76.47966918945312_03_CW000_0.10334809124469757_0.7213232517242432_0.7636888027191162.jpg\n",
      "Problem with file ../raw_data/images/testing/dunes/31.803500747680665_57.030766296386716_01_CW000_-0.6230229735374451_0.6582323312759399_1.2822920083999634.jpg\n",
      "Problem with file ../raw_data/images/testing/dunes/41.595499420166014_76.40466918945313_030_CW000_0.6987918019294739_0.07153304666280746_0.8545734286308289.jpg\n"
     ]
    },
    {
     "name": "stderr",
     "output_type": "stream",
     "text": [
      " 65%|██████▍   | 2138/3313 [01:39<00:59, 19.89it/s]"
     ]
    },
    {
     "name": "stdout",
     "output_type": "stream",
     "text": [
      "Problem with file ../raw_data/images/testing/dunes/20.791500854492188_16.21049919128418_020_CW000_-0.15044081211090088_-0.5090184807777405_0.5067636370658875.jpg\n",
      "Problem with file ../raw_data/images/testing/dunes/25.78250045776367_40.651676940917966_011_CW000_0.11952321976423264_0.2164408564567566_1.4461398124694824.jpg\n",
      "Problem with file ../raw_data/images/testing/dunes/41.52050094604492_77.07988128662109_023_CW000_0.7791029810905457_0.10028454661369324_1.132707118988037.jpg\n",
      "Problem with file ../raw_data/images/testing/dunes/43.24250183105469_107.63583221435547_00_CW000_-0.19944815337657928_0.7376483678817749_1.9059548377990723.jpg\n"
     ]
    },
    {
     "name": "stderr",
     "output_type": "stream",
     "text": [
      " 65%|██████▍   | 2142/3313 [01:39<01:00, 19.33it/s]"
     ]
    },
    {
     "name": "stdout",
     "output_type": "stream",
     "text": [
      "Problem with file ../raw_data/images/testing/dunes/20.721499252319337_34.20783309936523_021_CW000_-0.8021264672279358_-0.2873130142688751_3.3371903896331787.jpg\n",
      "Problem with file ../raw_data/images/testing/dunes/20.741500473022462_16.93585090637207_01_CW000_-0.6502166986465454_0.2707524001598358_0.5761353969573975.jpg\n",
      "Problem with file ../raw_data/images/testing/dunes/32.913500213623045_64.1759017944336_030_CW000_-0.582917332649231_0.5881261229515076_0.748357892036438.jpg\n",
      "Problem with file ../raw_data/images/testing/dunes/26.307500457763673_40.351498413085935_01_CW000_0.18097646534442902_0.3635493516921997_1.4861421585083008.jpg\n"
     ]
    },
    {
     "name": "stderr",
     "output_type": "stream",
     "text": [
      " 65%|██████▍   | 2146/3313 [01:39<01:01, 19.11it/s]"
     ]
    },
    {
     "name": "stdout",
     "output_type": "stream",
     "text": [
      "Problem with file ../raw_data/images/testing/dunes/26.157500076293946_41.07691116333008_022_CW000_-0.10883599519729614_-0.16409176588058472_1.2931474447250366.jpg\n",
      "Problem with file ../raw_data/images/testing/dunes/41.195501708984374_76.72977905273437_031_CW000_0.35624563694000244_-0.1039375364780426_0.7911377549171448.jpg\n",
      "Problem with file ../raw_data/images/testing/dunes/28.855500793457033_17.357249450683593_02_CW000_-0.43740975856781006_-0.2662850618362427_1.7170414924621582.jpg\n",
      "Problem with file ../raw_data/images/testing/dunes/34.06849822998047_56.21183319091797_02_CW000_-0.46110016107559204_-0.4645468294620514_1.73538339138031.jpg\n"
     ]
    },
    {
     "name": "stderr",
     "output_type": "stream",
     "text": [
      " 65%|██████▍   | 2150/3313 [01:39<01:02, 18.57it/s]"
     ]
    },
    {
     "name": "stdout",
     "output_type": "stream",
     "text": [
      "Problem with file ../raw_data/images/testing/dunes/21.121500778198243_33.98266830444336_020_CW000_-0.8657909631729126_-0.19315387308597565_3.470747947692871.jpg\n",
      "Problem with file ../raw_data/images/testing/dunes/25.212500762939452_27.172499084472655_010_CW000_-0.9400894641876221_0.09694861620664597_2.5903196334838867.jpg\n",
      "Problem with file ../raw_data/images/testing/dunes/45.41649856567383_70.6538070678711_030_CW000_-0.15203239023685455_-0.6905085444450378_1.9832876920700073.jpg\n",
      "Problem with file ../raw_data/images/testing/dunes/44.894501495361325_109.3308319091797_020_CW000_-0.3056570589542389_0.6643776297569275_1.7901220321655273.jpg\n"
     ]
    },
    {
     "name": "stderr",
     "output_type": "stream",
     "text": [
      " 65%|██████▌   | 2154/3313 [01:40<01:02, 18.57it/s]"
     ]
    },
    {
     "name": "stdout",
     "output_type": "stream",
     "text": [
      "Problem with file ../raw_data/images/testing/dunes/44.34449920654297_109.48091430664063_02_CW000_-0.3737114667892456_0.6144821643829346_1.4741261005401611.jpg\n",
      "Problem with file ../raw_data/images/testing/dunes/15.402499580383301_49.957498168945314_033_CW000_0.47011566162109375_-0.4856918156147003_1.576014757156372.jpg\n",
      "Problem with file ../raw_data/images/testing/dunes/42.798499298095706_101.20386962890625_011_CW000_-0.6524389982223511_0.2614607810974121_1.3448525667190552.jpg\n",
      "Problem with file ../raw_data/images/testing/dunes/20.0125_45.51749954223633_013_CW000_0.07535156607627869_-0.7181721329689026_2.158968925476074.jpg\n"
     ]
    },
    {
     "name": "stderr",
     "output_type": "stream",
     "text": [
      " 65%|██████▌   | 2158/3313 [01:40<01:02, 18.43it/s]"
     ]
    },
    {
     "name": "stdout",
     "output_type": "stream",
     "text": [
      "Problem with file ../raw_data/images/testing/dunes/31.92450065612793_61.73271789550781_010_CW000_-0.8876993060112_0.27692607045173645_4.731226921081543.jpg\n",
      "Problem with file ../raw_data/images/testing/dunes/14.80749969482422_48.30750045776367_023_CW000_0.5260545015335083_-0.2561887502670288_1.52852463722229.jpg\n",
      "Problem with file ../raw_data/images/testing/dunes/32.71349945068359_63.45049819946289_033_CW000_-0.5832479596138_-0.22287534177303314_0.8822293877601624.jpg\n",
      "Problem with file ../raw_data/images/testing/dunes/38.560499572753905_96.46204528808593_033_CW000_0.12886519730091095_0.7174606919288635_1.1566250324249268.jpg\n"
     ]
    },
    {
     "name": "stderr",
     "output_type": "stream",
     "text": [
      " 65%|██████▌   | 2162/3313 [01:40<01:01, 18.59it/s]"
     ]
    },
    {
     "name": "stdout",
     "output_type": "stream",
     "text": [
      "Problem with file ../raw_data/images/testing/dunes/31.349500274658205_61.75771789550781_01_CW000_-0.909125030040741_0.343302458524704_4.3167877197265625.jpg\n",
      "Problem with file ../raw_data/images/testing/dunes/43.542501068115236_107.3606689453125_01_CW000_-0.5084171891212463_0.6681925654411316_2.1849076747894287.jpg\n",
      "Problem with file ../raw_data/images/testing/dunes/38.0854995727539_95.91158752441406_021_CW000_-0.40668028593063354_0.8547045588493347_1.372118353843689.jpg\n",
      "Problem with file ../raw_data/images/testing/dunes/26.28250045776367_40.40149841308594_013_CW000_0.18097646534442902_0.3635493516921997_1.4861421585083008.jpg\n"
     ]
    },
    {
     "name": "stderr",
     "output_type": "stream",
     "text": [
      " 65%|██████▌   | 2167/3313 [01:40<00:58, 19.48it/s]"
     ]
    },
    {
     "name": "stdout",
     "output_type": "stream",
     "text": [
      "Problem with file ../raw_data/images/testing/dunes/40.595499420166014_76.35464019775391_032_CW000_0.19221679866313934_0.6753076314926147_0.7850009202957153.jpg\n",
      "Problem with file ../raw_data/images/testing/dunes/41.545500946044925_77.10491027832032_010_CW000_0.7850807309150696_0.15583151578903198_1.0870587825775146.jpg\n",
      "Problem with file ../raw_data/images/testing/dunes/15.37750015258789_49.38249816894531_00_CW000_0.4904870092868805_-0.5652287006378174_1.6804332733154297.jpg\n",
      "Problem with file ../raw_data/images/testing/dunes/41.14549942016602_76.87980804443359_013_CW000_0.3028888702392578_-0.07903091609477997_0.6850938200950623.jpg\n",
      "Problem with file ../raw_data/images/testing/dunes/31.753500747680665_57.05576629638672_022_CW000_-0.6230229735374451_0.6582323312759399_1.2822920083999634.jpg\n"
     ]
    },
    {
     "name": "stderr",
     "output_type": "stream",
     "text": [
      " 66%|██████▌   | 2172/3313 [01:40<00:57, 19.76it/s]"
     ]
    },
    {
     "name": "stdout",
     "output_type": "stream",
     "text": [
      "Problem with file ../raw_data/images/testing/dunes/25.957499313354493_40.57661743164063_022_CW000_0.07508638501167297_0.32369768619537354_1.383949875831604.jpg\n",
      "Problem with file ../raw_data/images/testing/dunes/42.62349853515625_100.3285400390625_02_CW000_-0.7282792329788208_0.3506331145763397_1.7522379159927368.jpg\n",
      "Problem with file ../raw_data/images/testing/dunes/42.62349853515625_100.953759765625_03_CW000_-0.6342736482620239_0.24210113286972046_1.2769869565963745.jpg\n",
      "Problem with file ../raw_data/images/testing/dunes/42.57349853515625_100.40357666015625_021_CW000_-0.7186414003372192_0.34517228603363037_1.6851884126663208.jpg\n",
      "Problem with file ../raw_data/images/testing/dunes/15.777499771118164_49.90749816894531_01_CW000_0.23317432403564453_-0.6723043322563171_1.5492827892303467.jpg\n"
     ]
    },
    {
     "name": "stderr",
     "output_type": "stream",
     "text": [
      " 66%|██████▌   | 2176/3313 [01:41<00:57, 19.71it/s]"
     ]
    },
    {
     "name": "stdout",
     "output_type": "stream",
     "text": [
      "Problem with file ../raw_data/images/testing/dunes/20.91649932861328_17.18595085144043_013_CW000_-0.5473282337188721_-0.015356907621026039_0.7793093919754028.jpg\n",
      "Problem with file ../raw_data/images/testing/dunes/26.10749969482422_40.50155792236328_03_CW000_0.1026507169008255_0.3892436623573303_1.4255527257919312.jpg\n",
      "Problem with file ../raw_data/images/testing/dunes/20.591500091552735_16.28549919128418_023_CW000_-0.06017602980136871_0.0400286540389061_0.47494980692863464.jpg\n",
      "Problem with file ../raw_data/images/testing/dunes/44.86950149536133_109.65608673095703_031_CW000_-0.32086411118507385_0.6356228590011597_1.6110759973526.jpg\n"
     ]
    },
    {
     "name": "stderr",
     "output_type": "stream",
     "text": [
      " 66%|██████▌   | 2180/3313 [01:41<00:57, 19.55it/s]"
     ]
    },
    {
     "name": "stdout",
     "output_type": "stream",
     "text": [
      "Problem with file ../raw_data/images/testing/dunes/33.94349975585938_55.76166763305664_010_CW000_-0.7876712679862976_-0.07554517686367035_1.9258984327316284.jpg\n",
      "Problem with file ../raw_data/images/testing/dunes/42.99250106811523_107.73589172363282_020_CW000_0.07067034393548965_0.7441366314888_2.006405830383301.jpg\n",
      "Problem with file ../raw_data/images/testing/dunes/32.73849945068359_63.725650024414065_022_CW000_-0.543756365776062_0.05391550064086914_0.7607227563858032.jpg\n",
      "Problem with file ../raw_data/images/testing/dunes/42.69850082397461_100.903759765625_011_CW000_-0.7008964419364929_0.26701173186302185_1.4472295045852661.jpg\n"
     ]
    },
    {
     "name": "stderr",
     "output_type": "stream",
     "text": [
      " 66%|██████▌   | 2184/3313 [01:41<00:58, 19.40it/s]"
     ]
    },
    {
     "name": "stdout",
     "output_type": "stream",
     "text": [
      "Problem with file ../raw_data/images/testing/dunes/43.76750030517578_107.035498046875_030_CW000_-0.5001820921897888_0.7152990102767944_2.6138482093811035.jpg\n",
      "Problem with file ../raw_data/images/testing/dunes/14.757500267028808_48.10749969482422_03_CW000_0.6427724361419678_-0.22423656284809113_1.2981243133544922.jpg\n",
      "Problem with file ../raw_data/images/testing/dunes/20.616500091552734_16.21049919128418_010_CW000_-0.06017602980136871_0.0400286540389061_0.47494980692863464.jpg\n",
      "Problem with file ../raw_data/images/testing/dunes/20.137500381469728_45.34250106811523_00_CW000_0.05746952071785927_-0.7298583388328552_2.200040578842163.jpg\n"
     ]
    },
    {
     "name": "stderr",
     "output_type": "stream",
     "text": [
      " 66%|██████▌   | 2189/3313 [01:41<00:55, 20.08it/s]"
     ]
    },
    {
     "name": "stdout",
     "output_type": "stream",
     "text": [
      "Problem with file ../raw_data/images/testing/dunes/31.778500747680663_56.65550155639649_012_CW000_-0.3773847818374634_0.6704710721969604_1.0476168394088745.jpg\n",
      "Problem with file ../raw_data/images/testing/dunes/32.02450103759766_61.60762939453125_013_CW000_-0.9056329131126404_0.3107823431491852_5.024990558624268.jpg\n",
      "Problem with file ../raw_data/images/testing/dunes/29.005499649047852_17.157000732421874_022_CW000_-0.49418437480926514_-0.22355769574642181_1.8240255117416382.jpg\n",
      "Problem with file ../raw_data/images/testing/dunes/31.728500747680663_56.80563201904297_030_CW000_-0.48613056540489197_0.7145801186561584_1.0896981954574585.jpg\n",
      "Problem with file ../raw_data/images/testing/dunes/28.630500030517577_17.056874465942382_012_CW000_-0.3906416594982147_-0.2960372567176819_1.8671456575393677.jpg\n"
     ]
    },
    {
     "name": "stderr",
     "output_type": "stream",
     "text": [
      "\r",
      " 66%|██████▌   | 2192/3313 [01:42<00:55, 20.28it/s]"
     ]
    },
    {
     "name": "stdout",
     "output_type": "stream",
     "text": [
      "Problem with file ../raw_data/images/testing/dunes/43.61749954223633_107.085498046875_012_CW000_-0.4977668225765228_0.7086882591247559_2.486868381500244.jpg\n",
      "Problem with file ../raw_data/images/testing/dunes/26.28250045776367_40.85179595947265_011_CW000_-0.11016153544187546_-0.07586554437875748_1.2874208688735962.jpg\n",
      "Problem with file ../raw_data/images/testing/dunes/43.01750106811524_107.060498046875_011_CW000_-0.3238201141357422_0.678856611251831_1.9719475507736206.jpg\n",
      "Problem with file ../raw_data/images/testing/dunes/43.46750106811523_107.18555755615235_032_CW000_-0.49531522393226624_0.6957945823669434_2.3344295024871826.jpg\n",
      "Problem with file ../raw_data/images/testing/dunes/31.849500274658205_61.98280258178711_02_CW000_-0.8641168475151062_0.25640398263931274_4.2204437255859375.jpg\n"
     ]
    },
    {
     "name": "stderr",
     "output_type": "stream",
     "text": [
      " 66%|██████▋   | 2198/3313 [01:42<00:55, 20.03it/s]"
     ]
    },
    {
     "name": "stdout",
     "output_type": "stream",
     "text": [
      "Problem with file ../raw_data/images/testing/dunes/20.766500854492186_16.410599136352538_030_CW000_-0.5448057651519775_-0.04585214704275131_0.5535215139389038.jpg\n",
      "Problem with file ../raw_data/images/testing/dunes/15.057500457763672_47.782500457763675_02_CW000_0.5840241312980652_-0.33360782265663147_2.3078091144561768.jpg\n",
      "Problem with file ../raw_data/images/testing/dunes/20.721499252319337_33.93258209228516_022_CW000_-0.8896667957305908_-0.12850838899612427_3.483670949935913.jpg\n",
      "Problem with file ../raw_data/images/testing/dunes/20.391499328613282_16.310549163818358_020_CW000_-0.06521864980459213_0.15649478137493134_0.6092240214347839.jpg\n",
      "Problem with file ../raw_data/images/testing/dunes/21.14650077819824_34.1577507019043_013_CW000_-0.8437021374702454_-0.23805595934391022_3.461379289627075.jpg\n"
     ]
    },
    {
     "name": "stderr",
     "output_type": "stream",
     "text": [
      " 67%|██████▋   | 2204/3313 [01:42<00:54, 20.40it/s]"
     ]
    },
    {
     "name": "stdout",
     "output_type": "stream",
     "text": [
      "Problem with file ../raw_data/images/testing/dunes/31.92450065612793_62.10784683227539_013_CW000_-0.8351242542266846_0.19600829482078552_3.7639870643615723.jpg\n",
      "Problem with file ../raw_data/images/testing/dunes/26.07649955749512_7.951785945892334_00_CW000_-0.10474859923124313_-0.3361809253692627_1.0840989351272583.jpg\n",
      "Problem with file ../raw_data/images/testing/dunes/40.74550170898438_76.42966918945312_011_CW000_0.4125034213066101_0.5424414873123169_0.8603050112724304.jpg\n",
      "Problem with file ../raw_data/images/testing/dunes/42.57349853515625_100.47861328125_020_CW000_-0.7057090997695923_0.33306053280830383_1.5959984064102173.jpg\n",
      "Problem with file ../raw_data/images/testing/dunes/38.68550186157226_96.01168518066406_021_CW000_0.1569157987833023_0.7812523245811462_1.3717600107192993.jpg\n"
     ]
    },
    {
     "name": "stderr",
     "output_type": "stream",
     "text": [
      "\r",
      " 67%|██████▋   | 2207/3313 [01:42<00:56, 19.74it/s]"
     ]
    },
    {
     "name": "stdout",
     "output_type": "stream",
     "text": [
      "Problem with file ../raw_data/images/testing/dunes/26.07649955749512_8.101928901672363_02_CW000_-0.05685173347592354_-0.3322336673736572_1.0810060501098633.jpg\n",
      "Problem with file ../raw_data/images/testing/dunes/33.64350051879883_55.361498260498045_010_CW000_-0.8136365413665771_0.2233174443244934_1.6946970224380493.jpg\n",
      "Problem with file ../raw_data/images/testing/dunes/15.602500343322754_49.28249969482422_030_CW000_0.3484245836734772_-0.5908284783363342_1.9248461723327637.jpg\n",
      "Problem with file ../raw_data/images/testing/dunes/33.76849899291992_55.78666763305664_01_CW000_-0.7027923464775085_-0.03171592205762863_1.5863442420959473.jpg\n"
     ]
    },
    {
     "name": "stderr",
     "output_type": "stream",
     "text": [
      " 67%|██████▋   | 2211/3313 [01:42<00:58, 18.76it/s]"
     ]
    },
    {
     "name": "stdout",
     "output_type": "stream",
     "text": [
      "Problem with file ../raw_data/images/testing/dunes/44.64449844360352_109.48091430664063_02_CW000_-0.48043006658554077_0.602738618850708_1.76814866065979.jpg\n",
      "Problem with file ../raw_data/images/testing/dunes/33.64350051879883_55.78666763305664_011_CW000_-0.5875906944274902_-0.07794658094644547_1.40592360496521.jpg\n",
      "Problem with file ../raw_data/images/testing/dunes/19.187500762939454_45.61750183105469_023_CW000_0.06156027689576149_-0.7055351138114929_2.231041193008423.jpg\n",
      "Problem with file ../raw_data/images/testing/dunes/25.587500381469727_26.997500228881837_021_CW000_-0.910820722579956_0.05391796678304672_2.3058063983917236.jpg\n"
     ]
    },
    {
     "name": "stderr",
     "output_type": "stream",
     "text": [
      " 67%|██████▋   | 2215/3313 [01:43<00:58, 18.72it/s]"
     ]
    },
    {
     "name": "stdout",
     "output_type": "stream",
     "text": [
      "Problem with file ../raw_data/images/testing/dunes/20.846499633789062_34.18283309936523_010_CW000_-0.808279275894165_-0.284757137298584_3.379659652709961.jpg\n",
      "Problem with file ../raw_data/images/testing/dunes/38.510501098632815_96.36195526123046_013_CW000_0.17541654407978058_0.8127560615539551_1.4691311120986938.jpg\n",
      "Problem with file ../raw_data/images/testing/dunes/44.54449996948242_109.35583190917968_01_CW000_-0.5645065307617188_0.5564512014389038_1.8319741487503052.jpg\n",
      "Problem with file ../raw_data/images/testing/dunes/38.21050186157227_96.33695526123047_012_CW000_-0.07097212225198746_0.8929637670516968_1.5245940685272217.jpg\n"
     ]
    },
    {
     "name": "stderr",
     "output_type": "stream",
     "text": [
      " 67%|██████▋   | 2219/3313 [01:43<01:00, 18.17it/s]"
     ]
    },
    {
     "name": "stdout",
     "output_type": "stream",
     "text": [
      "Problem with file ../raw_data/images/testing/dunes/44.519499969482425_109.05558471679687_011_CW000_-0.5588897466659546_0.5677530169487_2.0252604484558105.jpg\n",
      "Problem with file ../raw_data/images/testing/dunes/25.957499313354493_40.62667694091797_020_CW000_0.05847509950399399_0.22264893352985382_1.3430331945419312.jpg\n",
      "Problem with file ../raw_data/images/testing/dunes/38.160501861572264_96.16177520751953_033_CW000_-0.17464105784893036_0.8904946446418762_1.3666965961456299.jpg\n",
      "Problem with file ../raw_data/images/testing/dunes/31.728500747680663_57.00576629638672_030_CW000_-0.6230229735374451_0.6582323312759399_1.2822920083999634.jpg\n"
     ]
    },
    {
     "name": "stderr",
     "output_type": "stream",
     "text": [
      " 67%|██████▋   | 2223/3313 [01:43<00:59, 18.46it/s]"
     ]
    },
    {
     "name": "stdout",
     "output_type": "stream",
     "text": [
      "Problem with file ../raw_data/images/testing/dunes/43.24250183105469_107.4106689453125_03_CW000_-0.33974334597587585_0.7245656251907349_2.0801100730895996.jpg\n",
      "Problem with file ../raw_data/images/testing/dunes/28.78050079345703_17.031874465942384_031_CW000_-0.4138762950897217_-0.27483323216438293_1.839026927947998.jpg\n",
      "Problem with file ../raw_data/images/testing/dunes/33.58849868774414_63.62559814453125_02_CW000_-0.7315329909324646_-0.06930819153785706_0.997871994972229.jpg\n",
      "Problem with file ../raw_data/images/testing/dunes/31.324500274658202_61.63267364501953_010_CW000_-0.9287709593772888_0.30891644954681396_4.64567232131958.jpg\n"
     ]
    },
    {
     "name": "stderr",
     "output_type": "stream",
     "text": [
      " 67%|██████▋   | 2227/3313 [01:43<00:58, 18.59it/s]"
     ]
    },
    {
     "name": "stdout",
     "output_type": "stream",
     "text": [
      "Problem with file ../raw_data/images/testing/dunes/33.59350051879883_55.61158294677735_032_CW000_-0.7898571491241455_0.20616480708122253_1.5704519748687744.jpg\n",
      "Problem with file ../raw_data/images/testing/dunes/42.99850006103516_100.40357666015625_011_CW000_-0.6404752135276794_0.5131795406341553_1.9527767896652222.jpg\n",
      "Problem with file ../raw_data/images/testing/dunes/38.535501098632814_96.43704528808594_02_CW000_0.16036121547222137_0.783257007598877_1.3496683835983276.jpg\n",
      "Problem with file ../raw_data/images/testing/dunes/20.591500091552735_17.06090087890625_022_CW000_-0.6005749106407166_0.3735356032848358_0.5327000021934509.jpg\n"
     ]
    },
    {
     "name": "stderr",
     "output_type": "stream",
     "text": [
      " 67%|██████▋   | 2231/3313 [01:44<00:58, 18.35it/s]"
     ]
    },
    {
     "name": "stdout",
     "output_type": "stream",
     "text": [
      "Problem with file ../raw_data/images/testing/dunes/21.016499710083007_16.36054916381836_012_CW000_-0.2906379997730255_-0.618285596370697_0.8882009983062744.jpg\n",
      "Problem with file ../raw_data/images/testing/dunes/31.85349922180176_56.88063201904297_023_CW000_-0.6044173240661621_0.6378604173660278_1.1494481563568115.jpg\n",
      "Problem with file ../raw_data/images/testing/dunes/42.7734992980957_100.40357666015625_021_CW000_-0.7539007663726807_0.3295396864414215_1.8627591133117676.jpg\n",
      "Problem with file ../raw_data/images/testing/dunes/33.58849868774414_63.82570190429688_02_CW000_-0.6696593761444092_-0.17544731497764587_0.9920624494552612.jpg\n"
     ]
    },
    {
     "name": "stderr",
     "output_type": "stream",
     "text": [
      " 67%|██████▋   | 2235/3313 [01:44<00:59, 18.25it/s]"
     ]
    },
    {
     "name": "stdout",
     "output_type": "stream",
     "text": [
      "Problem with file ../raw_data/images/testing/dunes/38.28550033569336_95.86149749755859_023_CW000_-0.056062035262584686_0.863220751285553_1.2079259157180786.jpg\n",
      "Problem with file ../raw_data/images/testing/dunes/20.696499252319335_34.257833099365236_033_CW000_-0.8021264672279358_-0.2873130142688751_3.3371903896331787.jpg\n",
      "Problem with file ../raw_data/images/testing/dunes/25.657500076293946_41.10191116333008_023_CW000_0.1468982696533203_0.02093322202563286_1.4107106924057007.jpg\n",
      "Problem with file ../raw_data/images/testing/dunes/33.81850128173828_55.56158294677734_020_CW000_-0.8350712060928345_0.10379926860332489_1.9671274423599243.jpg\n"
     ]
    },
    {
     "name": "stderr",
     "output_type": "stream",
     "text": [
      " 68%|██████▊   | 2239/3313 [01:44<00:58, 18.38it/s]"
     ]
    },
    {
     "name": "stdout",
     "output_type": "stream",
     "text": [
      "Problem with file ../raw_data/images/testing/dunes/14.80749969482422_48.182498168945315_022_CW000_0.5580542683601379_-0.2581610083580017_1.5363388061523438.jpg\n",
      "Problem with file ../raw_data/images/testing/dunes/40.49550094604492_76.72977905273437_031_CW000_-0.706877589225769_0.6314568519592285_1.1913402080535889.jpg\n",
      "Problem with file ../raw_data/images/testing/dunes/45.19149932861328_70.30350036621094_02_CW000_-0.1815747767686844_-0.6640234589576721_1.903873324394226.jpg\n",
      "Problem with file ../raw_data/images/testing/dunes/41.39549865722656_76.52970581054687_031_CW000_0.6346350908279419_0.00582999037578702_0.9847762584686279.jpg\n"
     ]
    },
    {
     "name": "stderr",
     "output_type": "stream",
     "text": [
      " 68%|██████▊   | 2243/3313 [01:44<00:57, 18.49it/s]"
     ]
    },
    {
     "name": "stdout",
     "output_type": "stream",
     "text": [
      "Problem with file ../raw_data/images/testing/dunes/38.5854995727539_96.13677520751953_022_CW000_0.1708187609910965_0.8070891499519348_1.4546841382980347.jpg\n",
      "Problem with file ../raw_data/images/testing/dunes/43.76750030517578_107.3606689453125_031_CW000_-0.5513802170753479_0.6567386388778687_2.3800370693206787.jpg\n",
      "Problem with file ../raw_data/images/testing/dunes/15.057500457763672_48.057499694824216_01_CW000_0.5406758785247803_-0.2509938180446625_2.1969501972198486.jpg\n",
      "Problem with file ../raw_data/images/testing/dunes/45.21650161743164_70.25350036621094_030_CW000_-0.19073069095611572_-0.6680041551589966_1.9273992776870728.jpg\n"
     ]
    },
    {
     "name": "stderr",
     "output_type": "stream",
     "text": [
      " 68%|██████▊   | 2247/3313 [01:44<00:57, 18.53it/s]"
     ]
    },
    {
     "name": "stdout",
     "output_type": "stream",
     "text": [
      "Problem with file ../raw_data/images/testing/dunes/40.57050094604492_76.87980804443359_03_CW000_-0.752255916595459_0.5898942351341248_1.277889370918274.jpg\n",
      "Problem with file ../raw_data/images/testing/dunes/20.34150085449219_16.58564910888672_03_CW000_-0.22945383191108704_0.1794249564409256_0.6860631704330444.jpg\n",
      "Problem with file ../raw_data/images/testing/dunes/43.12349853515625_101.1038330078125_01_CW000_-0.3312939703464508_0.7593549489974976_1.8075082302093506.jpg\n",
      "Problem with file ../raw_data/images/testing/dunes/20.71650047302246_17.06090087890625_012_CW000_-0.5626145005226135_0.3532107174396515_0.5967787504196167.jpg\n"
     ]
    },
    {
     "name": "stderr",
     "output_type": "stream",
     "text": [
      " 68%|██████▊   | 2251/3313 [01:45<00:56, 18.65it/s]"
     ]
    },
    {
     "name": "stdout",
     "output_type": "stream",
     "text": [
      "Problem with file ../raw_data/images/testing/dunes/28.42249984741211_24.797500228881837_013_CW000_-0.6748910546302795_0.024420849978923798_1.753142237663269.jpg\n",
      "Problem with file ../raw_data/images/testing/dunes/20.01749954223633_34.092123413085936_00_CW000_-0.8152555823326111_-0.21085648238658905_3.4941861629486084.jpg\n",
      "Problem with file ../raw_data/images/testing/dunes/19.592499923706054_33.81675033569336_011_CW000_-0.8467074036598206_-0.1086692214012146_3.6462507247924805.jpg\n",
      "Problem with file ../raw_data/images/testing/dunes/20.466499710083006_16.86080093383789_032_CW000_-0.7050067186355591_0.17107044160366058_0.5570440888404846.jpg\n"
     ]
    },
    {
     "name": "stderr",
     "output_type": "stream",
     "text": [
      " 68%|██████▊   | 2255/3313 [01:45<01:02, 16.97it/s]"
     ]
    },
    {
     "name": "stdout",
     "output_type": "stream",
     "text": [
      "Problem with file ../raw_data/images/testing/dunes/41.445498657226565_76.87980804443359_013_CW000_0.6782362461090088_0.028966382145881653_1.0302200317382812.jpg\n",
      "Problem with file ../raw_data/images/testing/dunes/45.041500854492185_70.35357513427735_020_CW000_-0.16307860612869263_-0.66282719373703_1.8930944204330444.jpg\n",
      "Problem with file ../raw_data/images/testing/dunes/31.128500366210936_56.980699157714845_033_CW000_-0.3053824305534363_0.552166759967804_0.8466128706932068.jpg\n",
      "Problem with file ../raw_data/images/testing/dunes/33.46350021362305_63.925749969482425_012_CW000_-0.4704642593860626_-0.39948728680610657_0.9088390469551086.jpg\n"
     ]
    },
    {
     "name": "stderr",
     "output_type": "stream",
     "text": [
      " 68%|██████▊   | 2259/3313 [01:45<00:59, 17.66it/s]"
     ]
    },
    {
     "name": "stdout",
     "output_type": "stream",
     "text": [
      "Problem with file ../raw_data/images/testing/dunes/31.70350036621094_56.780564880371095_03_CW000_-0.3664163649082184_0.7035951018333435_0.9957700967788696.jpg\n",
      "Problem with file ../raw_data/images/testing/dunes/33.363501739501956_64.3509536743164_013_CW000_-0.33856260776519775_-0.21173477172851562_0.9153397679328918.jpg\n",
      "Problem with file ../raw_data/images/testing/dunes/42.37350158691406_100.903759765625_021_CW000_-0.4162415862083435_0.2639797031879425_1.1598423719406128.jpg\n",
      "Problem with file ../raw_data/images/testing/dunes/44.31949920654297_109.2056671142578_013_CW000_-0.5478127002716064_0.5291091799736023_1.7025138139724731.jpg\n"
     ]
    },
    {
     "name": "stderr",
     "output_type": "stream",
     "text": [
      " 68%|██████▊   | 2263/3313 [01:45<00:58, 17.80it/s]"
     ]
    },
    {
     "name": "stdout",
     "output_type": "stream",
     "text": [
      "Problem with file ../raw_data/images/testing/dunes/38.26050033569336_96.31195526123047_031_CW000_0.02909848652780056_0.8845816254615784_1.6009963750839233.jpg\n",
      "Problem with file ../raw_data/images/testing/dunes/20.087500381469727_45.542501831054686_020_CW000_0.03911877050995827_-0.7461552619934082_2.172156810760498.jpg\n",
      "Problem with file ../raw_data/images/testing/dunes/31.153500366210938_57.33096771240234_021_CW000_-0.6978933811187744_0.6380075216293335_1.167223334312439.jpg\n",
      "Problem with file ../raw_data/images/testing/dunes/33.91849975585937_55.43649826049805_023_CW000_-0.8169167637825012_0.11580604314804077_2.0763494968414307.jpg\n"
     ]
    },
    {
     "name": "stderr",
     "output_type": "stream",
     "text": [
      " 68%|██████▊   | 2267/3313 [01:46<00:59, 17.63it/s]"
     ]
    },
    {
     "name": "stdout",
     "output_type": "stream",
     "text": [
      "Problem with file ../raw_data/images/testing/dunes/31.799500274658204_61.98280258178711_022_CW000_-0.8641168475151062_0.25640398263931274_4.2204437255859375.jpg\n",
      "Problem with file ../raw_data/images/testing/dunes/33.1135009765625_63.775701904296874_030_CW000_-0.14149506390094757_-0.35203054547309875_0.7193716764450073.jpg\n",
      "Problem with file ../raw_data/images/testing/dunes/43.667501831054686_107.43572082519532_030_CW000_-0.5709773898124695_0.6269375681877136_2.2550153732299805.jpg\n",
      "Problem with file ../raw_data/images/testing/dunes/14.70750026702881_47.932501220703124_020_CW000_0.6417410373687744_-0.2526096701622009_1.35492742061615.jpg\n"
     ]
    },
    {
     "name": "stderr",
     "output_type": "stream",
     "text": [
      " 69%|██████▊   | 2271/3313 [01:46<00:57, 18.07it/s]"
     ]
    },
    {
     "name": "stdout",
     "output_type": "stream",
     "text": [
      "Problem with file ../raw_data/images/testing/dunes/33.388501739501955_63.925749969482425_02_CW000_-0.189003124833107_-0.401081383228302_0.8570461869239807.jpg\n",
      "Problem with file ../raw_data/images/testing/dunes/40.67049942016602_76.97984466552734_03_CW000_-0.7509445548057556_0.6033833026885986_1.1220580339431763.jpg\n",
      "Problem with file ../raw_data/images/testing/dunes/38.46050109863281_96.01168518066406_031_CW000_0.16777095198631287_0.8236806988716125_1.411568284034729.jpg\n",
      "Problem with file ../raw_data/images/testing/dunes/33.6385009765625_63.80070190429687_021_CW000_-0.6018028855323792_-0.17726749181747437_1.0962635278701782.jpg\n"
     ]
    },
    {
     "name": "stderr",
     "output_type": "stream",
     "text": [
      " 69%|██████▊   | 2275/3313 [01:46<00:59, 17.43it/s]"
     ]
    },
    {
     "name": "stdout",
     "output_type": "stream",
     "text": [
      "Problem with file ../raw_data/images/testing/dunes/43.12349853515625_100.80372314453125_01_CW000_-0.4079539477825165_0.7680480480194092_2.133735179901123.jpg\n",
      "Problem with file ../raw_data/images/testing/dunes/42.99250106811523_107.3356689453125_020_CW000_-0.21536904573440552_0.7283552289009094_1.9757072925567627.jpg\n",
      "Problem with file ../raw_data/images/testing/dunes/42.96750106811523_107.13555755615235_030_CW000_-0.29717308282852173_0.6999905705451965_1.9841382503509521.jpg\n",
      "Problem with file ../raw_data/images/testing/dunes/33.86850128173828_56.03674850463867_03_CW000_-0.34272050857543945_-0.3985860049724579_1.5948807001113892.jpg\n"
     ]
    },
    {
     "name": "stderr",
     "output_type": "stream",
     "text": [
      " 69%|██████▉   | 2279/3313 [01:46<01:05, 15.81it/s]"
     ]
    },
    {
     "name": "stdout",
     "output_type": "stream",
     "text": [
      "Problem with file ../raw_data/images/testing/dunes/38.13549957275391_96.66222534179687_03_CW000_-0.1671878695487976_0.8904272317886353_1.733194351196289.jpg\n",
      "Problem with file ../raw_data/images/testing/dunes/15.602500343322754_49.85749969482422_033_CW000_0.27988961338996887_-0.6432101726531982_1.5438414812088013.jpg\n",
      "Problem with file ../raw_data/images/testing/dunes/33.79350128173828_56.136792755126955_033_CW000_-0.3420296311378479_-0.3857806622982025_1.5319945812225342.jpg\n",
      "Problem with file ../raw_data/images/testing/dunes/31.253500747680665_56.7555648803711_022_CW000_-0.17529793083667755_0.4317544996738434_1.0995070934295654.jpg\n"
     ]
    },
    {
     "name": "stderr",
     "output_type": "stream",
     "text": [
      " 69%|██████▉   | 2283/3313 [01:47<01:00, 17.11it/s]"
     ]
    },
    {
     "name": "stdout",
     "output_type": "stream",
     "text": [
      "Problem with file ../raw_data/images/testing/dunes/28.905499267578126_17.056874465942382_022_CW000_-0.4540223777294159_-0.25677013397216797_1.8461145162582397.jpg\n",
      "Problem with file ../raw_data/images/testing/dunes/26.001499557495116_7.976785945892334_031_CW000_-0.10474859923124313_-0.3361809253692627_1.0840989351272583.jpg\n",
      "Problem with file ../raw_data/images/testing/dunes/40.695501708984374_76.02953796386718_031_CW000_0.5342249870300293_0.5941424369812012_1.3011113405227661.jpg\n",
      "Problem with file ../raw_data/images/testing/dunes/43.26750030517578_107.035498046875_030_CW000_-0.4392402470111847_0.6916735768318176_2.1830339431762695.jpg\n"
     ]
    },
    {
     "name": "stderr",
     "output_type": "stream",
     "text": [
      " 69%|██████▉   | 2287/3313 [01:47<00:57, 17.75it/s]"
     ]
    },
    {
     "name": "stdout",
     "output_type": "stream",
     "text": [
      "Problem with file ../raw_data/images/testing/dunes/34.018498229980466_55.361498260498045_020_CW000_-0.815738320350647_0.06807229667901993_2.199172019958496.jpg\n",
      "Problem with file ../raw_data/images/testing/dunes/42.948500061035155_101.1038330078125_031_CW000_-0.48369863629341125_0.6125851273536682_1.6593947410583496.jpg\n",
      "Problem with file ../raw_data/images/testing/dunes/40.39549865722656_76.40466918945313_030_CW000_-0.5293348431587219_0.7111181616783142_0.9860074520111084.jpg\n",
      "Problem with file ../raw_data/images/testing/dunes/44.96649856567383_70.92896423339843_013_CW000_-0.19007128477096558_-0.6595726013183594_1.8703441619873047.jpg\n"
     ]
    },
    {
     "name": "stderr",
     "output_type": "stream",
     "text": [
      " 69%|██████▉   | 2291/3313 [01:47<00:59, 17.16it/s]"
     ]
    },
    {
     "name": "stdout",
     "output_type": "stream",
     "text": [
      "Problem with file ../raw_data/images/testing/dunes/28.855500793457033_16.781499481201173_03_CW000_-0.36922043561935425_-0.3061298727989197_1.8614999055862427.jpg\n",
      "Problem with file ../raw_data/images/testing/dunes/43.09849853515625_100.55361328125_013_CW000_-0.4791315197944641_0.6866766810417175_2.013192653656006.jpg\n",
      "Problem with file ../raw_data/images/testing/dunes/43.14850082397461_100.47861328125_030_CW000_-0.29985594749450684_0.7965617775917053_2.001739025115967.jpg\n",
      "Problem with file ../raw_data/images/testing/dunes/19.567499923706055_33.7416259765625_022_CW000_-0.8629893064498901_-0.09205415844917297_3.7333590984344482.jpg\n"
     ]
    },
    {
     "name": "stderr",
     "output_type": "stream",
     "text": [
      " 69%|██████▉   | 2295/3313 [01:47<01:00, 16.94it/s]"
     ]
    },
    {
     "name": "stdout",
     "output_type": "stream",
     "text": [
      "Problem with file ../raw_data/images/testing/dunes/15.702499771118164_49.957498168945314_033_CW000_0.23317432403564453_-0.6723043322563171_1.5492827892303467.jpg\n",
      "Problem with file ../raw_data/images/testing/dunes/33.21349945068359_64.10084991455078_031_CW000_-0.10783100128173828_-0.27949056029319763_0.9294078350067139.jpg\n",
      "Problem with file ../raw_data/images/testing/dunes/19.812499237060546_45.79249877929688_012_CW000_0.059097856283187866_-0.7397521138191223_2.2132043838500977.jpg\n",
      "Problem with file ../raw_data/images/testing/dunes/21.071500396728517_34.23283309936524_02_CW000_-0.8183461427688599_-0.27958765625953674_3.453178644180298.jpg\n"
     ]
    },
    {
     "name": "stderr",
     "output_type": "stream",
     "text": [
      " 69%|██████▉   | 2299/3313 [01:47<00:57, 17.55it/s]"
     ]
    },
    {
     "name": "stdout",
     "output_type": "stream",
     "text": [
      "Problem with file ../raw_data/images/testing/dunes/43.02350006103516_101.1288330078125_02_CW000_-0.48369863629341125_0.6125851273536682_1.6593947410583496.jpg\n",
      "Problem with file ../raw_data/images/testing/dunes/20.49149971008301_17.11095085144043_020_CW000_-0.410241961479187_0.5179249048233032_0.5145276784896851.jpg\n",
      "Problem with file ../raw_data/images/testing/dunes/15.327500152587891_49.957498168945314_023_CW000_0.5091120600700378_-0.4593682587146759_1.4873335361480713.jpg\n",
      "Problem with file ../raw_data/images/testing/dunes/33.08849868774414_63.60059814453125_01_CW000_-0.4777297079563141_-0.33530285954475403_0.6580554246902466.jpg\n"
     ]
    },
    {
     "name": "stderr",
     "output_type": "stream",
     "text": [
      " 70%|██████▉   | 2303/3313 [01:48<00:55, 18.09it/s]"
     ]
    },
    {
     "name": "stdout",
     "output_type": "stream",
     "text": [
      "Problem with file ../raw_data/images/testing/dunes/32.788499450683595_63.60059814453125_01_CW000_-0.5718586444854736_-0.055575937032699585_0.7914447784423828.jpg\n",
      "Problem with file ../raw_data/images/testing/dunes/42.34850158691406_100.62864990234375_032_CW000_-0.5230313539505005_0.3490811586380005_1.3080353736877441.jpg\n",
      "Problem with file ../raw_data/images/testing/dunes/42.96750106811523_107.61078033447265_033_CW000_-0.08754419535398483_0.7478445768356323_1.9767793416976929.jpg\n",
      "Problem with file ../raw_data/images/testing/dunes/40.79550018310547_76.67974243164062_033_CW000_0.38307061791419983_0.46937716007232666_0.6629950404167175.jpg\n"
     ]
    },
    {
     "name": "stderr",
     "output_type": "stream",
     "text": [
      " 70%|██████▉   | 2308/3313 [01:48<00:52, 19.29it/s]"
     ]
    },
    {
     "name": "stdout",
     "output_type": "stream",
     "text": [
      "Problem with file ../raw_data/images/testing/dunes/41.49550094604492_76.60474243164063_030_CW000_0.7433007955551147_0.08164471387863159_1.0936511754989624.jpg\n",
      "Problem with file ../raw_data/images/testing/dunes/42.62349853515625_101.1038330078125_01_CW000_-0.5958533883094788_0.17627762258052826_1.1922990083694458.jpg\n",
      "Problem with file ../raw_data/images/testing/dunes/33.6385009765625_63.850701904296876_023_CW000_-0.6018028855323792_-0.17726749181747437_1.0962635278701782.jpg\n",
      "Problem with file ../raw_data/images/testing/dunes/28.855500793457033_17.232125091552735_01_CW000_-0.4434850513935089_-0.2522886097431183_1.786432147026062.jpg\n",
      "Problem with file ../raw_data/images/testing/dunes/20.821499633789063_34.20783309936523_021_CW000_-0.808279275894165_-0.284757137298584_3.379659652709961.jpg\n"
     ]
    },
    {
     "name": "stderr",
     "output_type": "stream",
     "text": [
      " 70%|██████▉   | 2313/3313 [01:48<00:50, 19.66it/s]"
     ]
    },
    {
     "name": "stdout",
     "output_type": "stream",
     "text": [
      "Problem with file ../raw_data/images/testing/dunes/41.14549942016602_77.15491027832032_012_CW000_-0.478588730096817_0.07501158863306046_0.7021352648735046.jpg\n",
      "Problem with file ../raw_data/images/testing/dunes/18.9625_45.417501068115236_033_CW000_0.04566296190023422_-0.7060338258743286_2.285919666290283.jpg\n",
      "Problem with file ../raw_data/images/testing/dunes/20.741500473022462_16.310549163818358_00_CW000_-0.31968554854393005_0.0962035283446312_0.4676901400089264.jpg\n",
      "Problem with file ../raw_data/images/testing/dunes/43.19850082397461_100.45357666015624_013_CW000_-0.29644423723220825_0.7749940156936646_1.8447566032409668.jpg\n"
     ]
    },
    {
     "name": "stderr",
     "output_type": "stream",
     "text": [
      " 70%|██████▉   | 2317/3313 [01:48<00:52, 19.04it/s]"
     ]
    },
    {
     "name": "stdout",
     "output_type": "stream",
     "text": [
      "Problem with file ../raw_data/images/testing/dunes/42.7484992980957_100.40357666015625_031_CW000_-0.7539007663726807_0.3295396864414215_1.8627591133117676.jpg\n",
      "Problem with file ../raw_data/images/testing/dunes/25.707500076293947_40.95185165405273_01_CW000_0.14773139357566833_0.05112936347723007_1.4334502220153809.jpg\n",
      "Problem with file ../raw_data/images/testing/dunes/31.499499130249024_61.382544708251956_022_CW000_-0.9509894251823425_0.279853492975235_5.712926864624023.jpg\n",
      "Problem with file ../raw_data/images/testing/dunes/28.83050079345703_17.157000732421874_012_CW000_-0.42570146918296814_-0.2627851665019989_1.8101716041564941.jpg\n"
     ]
    },
    {
     "name": "stderr",
     "output_type": "stream",
     "text": [
      " 70%|███████   | 2321/3313 [01:49<00:52, 18.83it/s]"
     ]
    },
    {
     "name": "stdout",
     "output_type": "stream",
     "text": [
      "Problem with file ../raw_data/images/testing/dunes/33.99349822998047_55.361498260498045_030_CW000_-0.815738320350647_0.06807229667901993_2.199172019958496.jpg\n",
      "Problem with file ../raw_data/images/testing/dunes/43.317500305175784_107.110498046875_013_CW000_-0.4392402470111847_0.6916735768318176_2.1830339431762695.jpg\n",
      "Problem with file ../raw_data/images/testing/dunes/42.59849853515625_100.45357666015624_013_CW000_-0.7186414003372192_0.34517228603363037_1.6851884126663208.jpg\n",
      "Problem with file ../raw_data/images/testing/dunes/31.42450065612793_61.53262939453125_010_CW000_-0.9382845163345337_0.29067495465278625_5.165464401245117.jpg\n"
     ]
    },
    {
     "name": "stderr",
     "output_type": "stream",
     "text": [
      " 70%|███████   | 2325/3313 [01:49<00:51, 19.06it/s]"
     ]
    },
    {
     "name": "stdout",
     "output_type": "stream",
     "text": [
      "Problem with file ../raw_data/images/testing/dunes/34.16850051879883_55.43649826049805_03_CW000_-0.8240686655044556_0.004343690350651741_2.2954535484313965.jpg\n",
      "Problem with file ../raw_data/images/testing/dunes/33.46350021362305_64.15084991455078_013_CW000_-0.2776692807674408_-0.44000786542892456_0.9850336313247681.jpg\n",
      "Problem with file ../raw_data/images/testing/dunes/20.01749954223633_33.66650161743164_03_CW000_-0.9034959077835083_-0.08976404368877411_3.8963255882263184.jpg\n",
      "Problem with file ../raw_data/images/testing/dunes/25.362499618530272_26.747499084472658_033_CW000_-0.8647567629814148_-0.09364847838878632_2.0767276287078857.jpg\n",
      "Problem with file ../raw_data/images/testing/dunes/28.755500411987306_16.881625747680665_03_CW000_-0.3636600375175476_-0.29754436016082764_1.8568904399871826.jpg\n"
     ]
    },
    {
     "name": "stderr",
     "output_type": "stream",
     "text": [
      " 70%|███████   | 2330/3313 [01:49<00:49, 19.91it/s]"
     ]
    },
    {
     "name": "stdout",
     "output_type": "stream",
     "text": [
      "Problem with file ../raw_data/images/testing/dunes/40.52050094604492_76.35464019775391_022_CW000_-0.2192709743976593_0.7749276757240295_0.8454846143722534.jpg\n",
      "Problem with file ../raw_data/images/testing/dunes/19.617499923706056_33.81675033569336_01_CW000_-0.8467074036598206_-0.1086692214012146_3.6462507247924805.jpg\n",
      "Problem with file ../raw_data/images/testing/dunes/20.441499328613283_16.86080093383789_02_CW000_-0.599555253982544_0.043672915548086166_0.5805388689041138.jpg\n",
      "Problem with file ../raw_data/images/testing/dunes/44.744500732421876_109.23074951171876_00_CW000_-0.37220391631126404_0.6564979553222656_1.9096006155014038.jpg\n",
      "Problem with file ../raw_data/images/testing/dunes/29.10550003051758_17.081874465942384_023_CW000_-0.5043209195137024_-0.20788156986236572_1.8819308280944824.jpg\n"
     ]
    },
    {
     "name": "stderr",
     "output_type": "stream",
     "text": [
      " 70%|███████   | 2335/3313 [01:49<00:48, 20.11it/s]"
     ]
    },
    {
     "name": "stdout",
     "output_type": "stream",
     "text": [
      "Problem with file ../raw_data/images/testing/dunes/19.81750068664551_33.7416259765625_02_CW000_-0.8796985745429993_-0.10158123075962067_3.8012449741363525.jpg\n",
      "Problem with file ../raw_data/images/testing/dunes/45.19149932861328_70.6538070678711_00_CW000_-0.18394336104393005_-0.681837260723114_1.9496077299118042.jpg\n",
      "Problem with file ../raw_data/images/testing/dunes/44.59449844360351_109.53099670410157_020_CW000_-0.4599796533584595_0.6089715957641602_1.6961402893066406.jpg\n",
      "Problem with file ../raw_data/images/testing/dunes/33.81850128173828_55.98674850463867_021_CW000_-0.34272050857543945_-0.3985860049724579_1.5948807001113892.jpg\n",
      "Problem with file ../raw_data/images/testing/dunes/42.62349853515625_100.50361328125_01_CW000_-0.7057090997695923_0.33306053280830383_1.5959984064102173.jpg\n"
     ]
    },
    {
     "name": "stderr",
     "output_type": "stream",
     "text": [
      " 71%|███████   | 2340/3313 [01:50<00:48, 20.03it/s]"
     ]
    },
    {
     "name": "stdout",
     "output_type": "stream",
     "text": [
      "Problem with file ../raw_data/images/testing/dunes/41.24550170898438_76.27960357666015_013_CW000_0.2607017755508423_-0.24212777614593506_0.8278721570968628.jpg\n",
      "Problem with file ../raw_data/images/testing/dunes/38.5854995727539_96.03668518066407_022_CW000_0.16292287409305573_0.8041420578956604_1.3900864124298096.jpg\n",
      "Problem with file ../raw_data/images/testing/dunes/45.49149856567383_70.5537322998047_00_CW000_-0.1444755345582962_-0.6879974603652954_1.9807779788970947.jpg\n",
      "Problem with file ../raw_data/images/testing/dunes/31.328499221801756_57.180833435058595_033_CW000_-0.6473767161369324_0.6402140259742737_1.0926613807678223.jpg\n"
     ]
    },
    {
     "name": "stderr",
     "output_type": "stream",
     "text": [
      " 71%|███████   | 2345/3313 [01:50<00:48, 19.94it/s]"
     ]
    },
    {
     "name": "stdout",
     "output_type": "stream",
     "text": [
      "Problem with file ../raw_data/images/testing/dunes/21.116500091552734_16.73574905395508_011_CW000_-0.6809753775596619_-0.17973986268043518_0.9162723422050476.jpg\n",
      "Problem with file ../raw_data/images/testing/dunes/20.616500091552734_16.73574905395508_011_CW000_-0.7230864763259888_-0.0019386454951018095_0.599372148513794.jpg\n",
      "Problem with file ../raw_data/images/testing/dunes/15.157499885559082_48.182498168945315_02_CW000_0.5415379405021667_-0.2568032741546631_2.109870195388794.jpg\n",
      "Problem with file ../raw_data/images/testing/dunes/40.79550018310547_77.0548812866211_032_CW000_-0.7503652572631836_0.5366021990776062_0.8278564810752869.jpg\n"
     ]
    },
    {
     "name": "stderr",
     "output_type": "stream",
     "text": [
      "\r",
      " 71%|███████   | 2347/3313 [01:50<00:48, 19.90it/s]"
     ]
    },
    {
     "name": "stdout",
     "output_type": "stream",
     "text": [
      "Problem with file ../raw_data/images/testing/dunes/41.595499420166014_76.67974243164062_033_CW000_0.8180451989173889_0.17381803691387177_1.0682660341262817.jpg\n",
      "Problem with file ../raw_data/images/testing/dunes/43.692501831054685_107.3606689453125_021_CW000_-0.5689128041267395_0.6423789262771606_2.355210304260254.jpg\n",
      "Problem with file ../raw_data/images/testing/dunes/43.26750030517578_107.18555755615235_032_CW000_-0.42812126874923706_0.7013036608695984_2.1822221279144287.jpg\n",
      "Problem with file ../raw_data/images/testing/dunes/43.092499542236325_107.23560943603516_020_CW000_-0.3239474892616272_0.7198408842086792_2.048227548599243.jpg\n"
     ]
    },
    {
     "name": "stderr",
     "output_type": "stream",
     "text": [
      " 71%|███████   | 2352/3313 [01:50<00:47, 20.26it/s]"
     ]
    },
    {
     "name": "stdout",
     "output_type": "stream",
     "text": [
      "Problem with file ../raw_data/images/testing/dunes/40.545500946044925_76.3296401977539_011_CW000_-0.2192709743976593_0.7749276757240295_0.8454846143722534.jpg\n",
      "Problem with file ../raw_data/images/testing/dunes/14.832499694824218_48.15749816894531_011_CW000_0.5580542683601379_-0.2581610083580017_1.5363388061523438.jpg\n",
      "Problem with file ../raw_data/images/testing/dunes/31.57849998474121_57.25590057373047_012_CW000_-0.7503873705863953_0.5718626976013184_1.521544337272644.jpg\n",
      "Problem with file ../raw_data/images/testing/dunes/21.091500091552735_17.06090087890625_022_CW000_-0.6570918560028076_-0.14736638963222504_0.8686606287956238.jpg\n",
      "Problem with file ../raw_data/images/testing/dunes/33.31350173950195_64.3509536743164_033_CW000_-0.33856260776519775_-0.21173477172851562_0.9153397679328918.jpg\n"
     ]
    },
    {
     "name": "stderr",
     "output_type": "stream",
     "text": [
      "\r",
      " 71%|███████   | 2355/3313 [01:50<00:46, 20.66it/s]"
     ]
    },
    {
     "name": "stdout",
     "output_type": "stream",
     "text": [
      "Problem with file ../raw_data/images/testing/dunes/38.010501098632815_96.16177520751953_013_CW000_-0.4780835509300232_0.8095149993896484_1.3793857097625732.jpg\n",
      "Problem with file ../raw_data/images/testing/dunes/42.62349853515625_100.80372314453125_01_CW000_-0.6583199501037598_0.2732419967651367_1.3429620265960693.jpg\n",
      "Problem with file ../raw_data/images/testing/dunes/20.896500015258788_34.30791549682617_031_CW000_-0.7939646244049072_-0.3145603835582733_3.4608707427978516.jpg\n",
      "Problem with file ../raw_data/images/testing/dunes/20.34150085449219_16.23549919128418_01_CW000_0.29386845231056213_0.24127914011478424_0.6688743829727173.jpg\n"
     ]
    },
    {
     "name": "stderr",
     "output_type": "stream",
     "text": [
      " 71%|███████   | 2360/3313 [01:51<00:51, 18.55it/s]"
     ]
    },
    {
     "name": "stdout",
     "output_type": "stream",
     "text": [
      "Problem with file ../raw_data/images/testing/dunes/42.69850082397461_100.65364990234374_013_CW000_-0.7424041628837585_0.30909988284111023_1.6804959774017334.jpg\n",
      "Problem with file ../raw_data/images/testing/dunes/42.84850158691406_101.20386962890625_031_CW000_-0.5839303731918335_0.4209716022014618_1.3743618726730347.jpg\n",
      "Problem with file ../raw_data/images/testing/dunes/33.438500213623044_63.5005500793457_021_CW000_-0.8722261786460876_-0.07182224094867706_1.0256292819976807.jpg\n",
      "Problem with file ../raw_data/images/testing/dunes/15.082499885559082_48.23250045776367_030_CW000_0.530726969242096_-0.27493077516555786_2.1112582683563232.jpg\n"
     ]
    },
    {
     "name": "stderr",
     "output_type": "stream",
     "text": [
      " 71%|███████▏  | 2364/3313 [01:51<00:52, 18.23it/s]"
     ]
    },
    {
     "name": "stdout",
     "output_type": "stream",
     "text": [
      "Problem with file ../raw_data/images/testing/dunes/28.880499267578124_16.70649948120117_030_CW000_-0.4088534414768219_-0.3161790072917938_1.8825643062591553.jpg\n",
      "Problem with file ../raw_data/images/testing/dunes/29.180500411987303_16.731499481201173_031_CW000_-0.4958956241607666_-0.2636813819408417_1.9415779113769531.jpg\n",
      "Problem with file ../raw_data/images/testing/dunes/38.435498809814455_96.06168518066406_03_CW000_0.0354793556034565_0.8667901754379272_1.353738784790039.jpg\n",
      "Problem with file ../raw_data/images/testing/dunes/20.871499633789064_33.78249969482422_00_CW000_-0.9146891236305237_-0.0756167620420456_3.583883285522461.jpg\n"
     ]
    },
    {
     "name": "stderr",
     "output_type": "stream",
     "text": [
      " 71%|███████▏  | 2368/3313 [01:51<00:51, 18.23it/s]"
     ]
    },
    {
     "name": "stdout",
     "output_type": "stream",
     "text": [
      "Problem with file ../raw_data/images/testing/dunes/43.34250030517578_107.86094360351562_01_CW000_-0.108709916472435_0.6719561219215393_1.619317889213562.jpg\n",
      "Problem with file ../raw_data/images/testing/dunes/42.7484992980957_100.80372314453125_031_CW000_-0.721983790397644_0.34904780983924866_1.684287190437317.jpg\n",
      "Problem with file ../raw_data/images/testing/dunes/40.49550094604492_76.50470581054688_030_CW000_-0.40764981508255005_0.7714346051216125_0.9123136401176453.jpg\n",
      "Problem with file ../raw_data/images/testing/dunes/25.8765007019043_7.851642990112305_00_CW000_-0.0849752426147461_-0.3682674467563629_1.0448358058929443.jpg\n"
     ]
    },
    {
     "name": "stderr",
     "output_type": "stream",
     "text": [
      " 72%|███████▏  | 2373/3313 [01:51<00:48, 19.18it/s]"
     ]
    },
    {
     "name": "stdout",
     "output_type": "stream",
     "text": [
      "Problem with file ../raw_data/images/testing/dunes/41.29550018310547_76.8548080444336_032_CW000_0.5145411491394043_-0.05378112569451332_0.8617978692054749.jpg\n",
      "Problem with file ../raw_data/images/testing/dunes/43.692501831054685_107.26060943603515_021_CW000_-0.566089928150177_0.6573291420936584_2.460852861404419.jpg\n",
      "Problem with file ../raw_data/images/testing/dunes/42.423501586914064_101.0788330078125_00_CW000_-0.36165499687194824_0.17034883797168732_1.0835613012313843.jpg\n",
      "Problem with file ../raw_data/images/testing/dunes/31.87450065612793_61.907762145996095_033_CW000_-0.8730796575546265_0.2584809362888336_4.418321132659912.jpg\n",
      "Problem with file ../raw_data/images/testing/dunes/15.082499885559082_47.95750122070312_031_CW000_0.570123016834259_-0.261973112821579_2.191725969314575.jpg\n"
     ]
    },
    {
     "name": "stderr",
     "output_type": "stream",
     "text": [
      " 72%|███████▏  | 2378/3313 [01:52<00:47, 19.63it/s]"
     ]
    },
    {
     "name": "stdout",
     "output_type": "stream",
     "text": [
      "Problem with file ../raw_data/images/testing/dunes/20.79649963378906_34.00766830444336_031_CW000_-0.8638318777084351_-0.18350116908550262_3.409942150115967.jpg\n",
      "Problem with file ../raw_data/images/testing/dunes/33.01349868774414_64.1759017944336_030_CW000_-0.44719189405441284_0.33589333295822144_0.6691069006919861.jpg\n",
      "Problem with file ../raw_data/images/testing/dunes/32.863501739501956_63.37549819946289_010_CW000_-0.6618372797966003_-0.2832964360713959_0.8083289861679077.jpg\n",
      "Problem with file ../raw_data/images/testing/dunes/31.974501037597655_61.70767364501953_033_CW000_-0.8953281044960022_0.28921231627464294_4.824737071990967.jpg\n"
     ]
    },
    {
     "name": "stderr",
     "output_type": "stream",
     "text": [
      " 72%|███████▏  | 2382/3313 [01:52<00:47, 19.47it/s]"
     ]
    },
    {
     "name": "stdout",
     "output_type": "stream",
     "text": [
      "Problem with file ../raw_data/images/testing/dunes/42.823499298095705_100.878759765625_00_CW000_-0.7069888710975647_0.3345068693161011_1.6086927652359009.jpg\n",
      "Problem with file ../raw_data/images/testing/dunes/15.107499885559083_47.782500457763675_022_CW000_0.5952817797660828_-0.33274322748184204_2.2023720741271973.jpg\n",
      "Problem with file ../raw_data/images/testing/dunes/31.603499984741212_56.60550155639648_00_CW000_-0.2770393192768097_0.5647757649421692_1.0589823722839355.jpg\n",
      "Problem with file ../raw_data/images/testing/dunes/45.34150009155273_70.50365753173828_022_CW000_-0.15368613600730896_-0.6864147186279297_1.9800692796707153.jpg\n",
      "Problem with file ../raw_data/images/testing/dunes/44.59449844360351_109.58099670410157_022_CW000_-0.4599796533584595_0.6089715957641602_1.6961402893066406.jpg\n"
     ]
    },
    {
     "name": "stderr",
     "output_type": "stream",
     "text": [
      " 72%|███████▏  | 2388/3313 [01:52<00:45, 20.31it/s]"
     ]
    },
    {
     "name": "stdout",
     "output_type": "stream",
     "text": [
      "Problem with file ../raw_data/images/testing/dunes/31.90349922180176_57.48103485107422_03_CW000_-0.8880738615989685_0.3022298216819763_1.981667399406433.jpg\n",
      "Problem with file ../raw_data/images/testing/dunes/21.046500396728515_34.20783309936523_011_CW000_-0.8183461427688599_-0.27958765625953674_3.453178644180298.jpg\n",
      "Problem with file ../raw_data/images/testing/dunes/33.363501739501956_63.925749969482425_012_CW000_-0.189003124833107_-0.401081383228302_0.8570461869239807.jpg\n",
      "Problem with file ../raw_data/images/testing/dunes/25.632500076293944_40.651676940917966_031_CW000_0.13406191766262054_0.19482681155204773_1.4763489961624146.jpg\n",
      "Problem with file ../raw_data/images/testing/dunes/20.566500091552733_16.660699081420898_032_CW000_-0.6486546993255615_0.08520163595676422_0.6117581725120544.jpg\n"
     ]
    },
    {
     "name": "stderr",
     "output_type": "stream",
     "text": [
      "\r",
      " 72%|███████▏  | 2391/3313 [01:52<00:45, 20.32it/s]"
     ]
    },
    {
     "name": "stdout",
     "output_type": "stream",
     "text": [
      "Problem with file ../raw_data/images/testing/dunes/20.516499710083007_16.91085090637207_010_CW000_-0.6630100011825562_0.3587871193885803_0.49719610810279846.jpg\n",
      "Problem with file ../raw_data/images/testing/dunes/40.545500946044925_76.92984466552734_011_CW000_-0.777779221534729_0.5627327561378479_1.3146240711212158.jpg\n",
      "Problem with file ../raw_data/images/testing/dunes/45.49149856567383_70.7038070678711_02_CW000_-0.15203239023685455_-0.6905085444450378_1.9832876920700073.jpg\n",
      "Problem with file ../raw_data/images/testing/dunes/38.71050186157227_96.06168518066406_013_CW000_0.1569157987833023_0.7812523245811462_1.3717600107192993.jpg\n",
      "Problem with file ../raw_data/images/testing/dunes/25.387499618530274_27.097500610351563_021_CW000_-0.9237326979637146_0.07997694611549377_2.436265468597412.jpg\n"
     ]
    },
    {
     "name": "stderr",
     "output_type": "stream",
     "text": [
      " 72%|███████▏  | 2397/3313 [01:52<00:45, 20.13it/s]"
     ]
    },
    {
     "name": "stdout",
     "output_type": "stream",
     "text": [
      "Problem with file ../raw_data/images/testing/dunes/34.06849822998047_55.51154251098633_02_CW000_-0.8228869438171387_0.051543645560741425_2.267083168029785.jpg\n",
      "Problem with file ../raw_data/images/testing/dunes/31.849500274658205_61.43258514404297_00_CW000_-0.9257928133010864_0.3133894205093384_5.601871490478516.jpg\n",
      "Problem with file ../raw_data/images/testing/dunes/41.39549865722656_77.07988128662109_033_CW000_0.6804739832878113_0.05211382731795311_0.9475784301757812.jpg\n",
      "Problem with file ../raw_data/images/testing/dunes/20.516499710083007_17.06090087890625_012_CW000_-0.5178451538085938_0.403838574886322_0.49439409375190735.jpg\n"
     ]
    },
    {
     "name": "stderr",
     "output_type": "stream",
     "text": [
      "\r",
      " 72%|███████▏  | 2400/3313 [01:53<00:46, 19.53it/s]"
     ]
    },
    {
     "name": "stdout",
     "output_type": "stream",
     "text": [
      "Problem with file ../raw_data/images/testing/dunes/41.34550018310547_76.65474243164063_012_CW000_0.5898355841636658_-0.019885987043380737_0.946825385093689.jpg\n",
      "Problem with file ../raw_data/images/testing/dunes/20.591500091552735_16.98585090637207_023_CW000_-0.7020641565322876_0.2976413369178772_0.5236460566520691.jpg\n",
      "Problem with file ../raw_data/images/testing/dunes/44.744500732421876_109.30574951171874_03_CW000_-0.37220391631126404_0.6564979553222656_1.9096006155014038.jpg\n",
      "Problem with file ../raw_data/images/testing/dunes/20.59650077819824_34.1327507019043_032_CW000_-0.8334205150604248_-0.22890405356884003_3.3193700313568115.jpg\n"
     ]
    },
    {
     "name": "stderr",
     "output_type": "stream",
     "text": [
      " 73%|███████▎  | 2404/3313 [01:53<00:47, 19.07it/s]"
     ]
    },
    {
     "name": "stdout",
     "output_type": "stream",
     "text": [
      "Problem with file ../raw_data/images/testing/dunes/44.34449920654297_109.05558471679687_01_CW000_-0.5882011651992798_0.5166877508163452_1.808281421661377.jpg\n",
      "Problem with file ../raw_data/images/testing/dunes/20.591500091552735_17.13595085144043_021_CW000_-0.48802709579467773_0.4733189046382904_0.5603674650192261.jpg\n",
      "Problem with file ../raw_data/images/testing/dunes/14.732500267028808_48.182498168945315_012_CW000_0.6126409769058228_-0.2340208739042282_1.2610050439834595.jpg\n",
      "Problem with file ../raw_data/images/testing/dunes/41.24550170898438_76.92984466552734_011_CW000_0.16677796840667725_-0.15462572872638702_0.7557660937309265.jpg\n"
     ]
    },
    {
     "name": "stderr",
     "output_type": "stream",
     "text": [
      " 73%|███████▎  | 2408/3313 [01:53<00:46, 19.27it/s]"
     ]
    },
    {
     "name": "stdout",
     "output_type": "stream",
     "text": [
      "Problem with file ../raw_data/images/testing/dunes/42.7484992980957_100.928759765625_032_CW000_-0.7069888710975647_0.3345068693161011_1.6086927652359009.jpg\n",
      "Problem with file ../raw_data/images/testing/dunes/43.22350082397461_101.17886962890626_00_CW000_-0.1442180722951889_0.8279368281364441_1.8160905838012695.jpg\n",
      "Problem with file ../raw_data/images/testing/dunes/31.35349922180176_56.7555648803711_022_CW000_-0.22673991322517395_0.5100675225257874_1.04258131980896.jpg\n",
      "Problem with file ../raw_data/images/testing/dunes/44.91649856567383_70.8288818359375_033_CW000_-0.1807394027709961_-0.6585723161697388_1.8677932024002075.jpg\n",
      "Problem with file ../raw_data/images/testing/dunes/43.74250183105469_107.73589172363282_00_CW000_-0.5773500204086304_0.5711233019828796_1.9406782388687134.jpg\n"
     ]
    },
    {
     "name": "stderr",
     "output_type": "stream",
     "text": [
      " 73%|███████▎  | 2414/3313 [01:53<00:44, 20.00it/s]"
     ]
    },
    {
     "name": "stdout",
     "output_type": "stream",
     "text": [
      "Problem with file ../raw_data/images/testing/dunes/31.824500274658202_61.30750045776367_013_CW000_-0.9337172508239746_0.3349795639514923_5.970757484436035.jpg\n",
      "Problem with file ../raw_data/images/testing/dunes/14.657499885559082_48.13249816894531_00_CW000_0.7591392397880554_-0.15973423421382904_1.0777760744094849.jpg\n",
      "Problem with file ../raw_data/images/testing/dunes/31.55349998474121_56.830632019042966_021_CW000_-0.3753592371940613_0.6780613660812378_1.0144665241241455.jpg\n",
      "Problem with file ../raw_data/images/testing/dunes/41.17049942016602_76.8048080444336_00_CW000_0.3028888702392578_-0.07903091609477997_0.6850938200950623.jpg\n",
      "Problem with file ../raw_data/images/testing/dunes/37.98550109863281_96.33695526123047_022_CW000_-0.38557323813438416_0.8365060091018677_1.3470016717910767.jpg\n"
     ]
    },
    {
     "name": "stderr",
     "output_type": "stream",
     "text": [
      " 73%|███████▎  | 2418/3313 [01:54<00:45, 19.73it/s]"
     ]
    },
    {
     "name": "stdout",
     "output_type": "stream",
     "text": [
      "Problem with file ../raw_data/images/testing/dunes/29.255500411987306_16.831625747680665_01_CW000_-0.5021669268608093_-0.23237678408622742_1.9316169023513794.jpg\n",
      "Problem with file ../raw_data/images/testing/dunes/42.87350158691406_100.47861328125_020_CW000_-0.7000736594200134_0.45810407400131226_1.9835752248764038.jpg\n",
      "Problem with file ../raw_data/images/testing/dunes/21.116500091552734_16.710749053955077_010_CW000_-0.6809753775596619_-0.17973986268043518_0.9162723422050476.jpg\n",
      "Problem with file ../raw_data/images/testing/dunes/44.46949996948242_109.60599670410156_033_CW000_-0.53426194190979_0.5676106810569763_1.6813966035842896.jpg\n"
     ]
    },
    {
     "name": "stderr",
     "output_type": "stream",
     "text": [
      " 73%|███████▎  | 2422/3313 [01:54<00:45, 19.76it/s]"
     ]
    },
    {
     "name": "stdout",
     "output_type": "stream",
     "text": [
      "Problem with file ../raw_data/images/testing/dunes/20.771499252319337_34.332915496826175_02_CW000_-0.7798686027526855_-0.32205328345298767_3.3784804344177246.jpg\n",
      "Problem with file ../raw_data/images/testing/dunes/38.46050109863281_95.7864974975586_030_CW000_0.24601466953754425_0.7194265723228455_1.275434970855713.jpg\n",
      "Problem with file ../raw_data/images/testing/dunes/31.753500747680665_57.48103485107422_023_CW000_-0.8882879018783569_0.3220795691013336_1.975223422050476.jpg\n",
      "Problem with file ../raw_data/images/testing/dunes/20.621500778198243_33.98266830444336_020_CW000_-0.8601608872413635_-0.17921343445777893_3.368201971054077.jpg\n",
      "Problem with file ../raw_data/images/testing/dunes/31.39950065612793_61.23250045776367_020_CW000_-0.9638761878013611_0.24762189388275146_5.716521739959717.jpg\n"
     ]
    },
    {
     "name": "stderr",
     "output_type": "stream",
     "text": [
      " 73%|███████▎  | 2428/3313 [01:54<00:43, 20.18it/s]"
     ]
    },
    {
     "name": "stdout",
     "output_type": "stream",
     "text": [
      "Problem with file ../raw_data/images/testing/dunes/20.49149971008301_16.410599136352538_020_CW000_-0.2529115080833435_0.23270092904567719_0.6442298293113708.jpg\n",
      "Problem with file ../raw_data/images/testing/dunes/41.095499420166014_76.82980804443359_031_CW000_0.3028888702392578_-0.07903091609477997_0.6850938200950623.jpg\n",
      "Problem with file ../raw_data/images/testing/dunes/45.34150009155273_70.7038070678711_022_CW000_-0.16840766370296478_-0.6913437843322754_1.9870202541351318.jpg\n",
      "Problem with file ../raw_data/images/testing/dunes/44.519499969482425_109.55599670410156_011_CW000_-0.53426194190979_0.5676106810569763_1.6813966035842896.jpg\n",
      "Problem with file ../raw_data/images/testing/dunes/45.19149932861328_70.72880706787109_03_CW000_-0.18394336104393005_-0.681837260723114_1.9496077299118042.jpg\n"
     ]
    },
    {
     "name": "stderr",
     "output_type": "stream",
     "text": [
      " 73%|███████▎  | 2434/3313 [01:54<00:43, 20.25it/s]"
     ]
    },
    {
     "name": "stdout",
     "output_type": "stream",
     "text": [
      "Problem with file ../raw_data/images/testing/dunes/45.041500854492185_70.27850036621093_021_CW000_-0.17122940719127655_-0.6595162749290466_1.8802216053009033.jpg\n",
      "Problem with file ../raw_data/images/testing/dunes/15.527499961853028_49.807499694824216_021_CW000_0.36454153060913086_-0.5959151387214661_1.577105164527893.jpg\n",
      "Problem with file ../raw_data/images/testing/dunes/15.327500152587891_49.63249893188477_022_CW000_0.46625402569770813_-0.5746061205863953_1.4636377096176147.jpg\n",
      "Problem with file ../raw_data/images/testing/dunes/15.602500343322754_50.00750045776367_031_CW000_0.36638081073760986_-0.5745360851287842_1.5820748805999756.jpg\n",
      "Problem with file ../raw_data/images/testing/dunes/38.71849899291992_68.11766967773437_023_CW000_-0.6463066339492798_-0.027488093823194504_0.47066551446914673.jpg\n"
     ]
    },
    {
     "name": "stderr",
     "output_type": "stream",
     "text": [
      "\r",
      " 74%|███████▎  | 2437/3313 [01:54<00:43, 20.09it/s]"
     ]
    },
    {
     "name": "stdout",
     "output_type": "stream",
     "text": [
      "Problem with file ../raw_data/images/testing/dunes/19.81750068664551_33.7666259765625_03_CW000_-0.8796985745429993_-0.10158123075962067_3.8012449741363525.jpg\n",
      "Problem with file ../raw_data/images/testing/dunes/21.091500091552735_16.6356990814209_021_CW000_-0.5446922779083252_-0.3825142979621887_1.0154786109924316.jpg\n",
      "Problem with file ../raw_data/images/testing/dunes/20.69150047302246_16.98585090637207_023_CW000_-0.6502166986465454_0.2707524001598358_0.5761353969573975.jpg\n",
      "Problem with file ../raw_data/images/testing/dunes/20.966499710083006_16.36054916381836_032_CW000_-0.2906379997730255_-0.618285596370697_0.8882009983062744.jpg\n",
      "Problem with file ../raw_data/images/testing/dunes/31.324500274658202_62.03284683227539_010_CW000_-0.8545985817909241_0.38880273699760437_3.570774555206299.jpg\n"
     ]
    },
    {
     "name": "stderr",
     "output_type": "stream",
     "text": [
      " 74%|███████▎  | 2443/3313 [01:55<00:42, 20.25it/s]"
     ]
    },
    {
     "name": "stdout",
     "output_type": "stream",
     "text": [
      "Problem with file ../raw_data/images/testing/dunes/43.41749877929688_107.63583221435547_010_CW000_-0.3814745247364044_0.6767218708992004_1.8504204750061035.jpg\n",
      "Problem with file ../raw_data/images/testing/dunes/43.092499542236325_107.21055755615234_023_CW000_-0.34123143553733826_0.7120633125305176_2.0533828735351562.jpg\n",
      "Problem with file ../raw_data/images/testing/dunes/26.082499694824218_40.50155792236328_013_CW000_0.1026507169008255_0.3892436623573303_1.4255527257919312.jpg\n",
      "Problem with file ../raw_data/images/testing/dunes/41.07050094604492_76.62974243164062_01_CW000_0.48151034116744995_0.07289420068264008_0.7118503451347351.jpg\n",
      "Problem with file ../raw_data/images/testing/dunes/26.382500839233398_40.85179595947265_011_CW000_-0.10505552589893341_-0.11088480800390244_1.3147815465927124.jpg\n"
     ]
    },
    {
     "name": "stderr",
     "output_type": "stream",
     "text": [
      " 74%|███████▍  | 2449/3313 [01:55<00:42, 20.33it/s]"
     ]
    },
    {
     "name": "stdout",
     "output_type": "stream",
     "text": [
      "Problem with file ../raw_data/images/testing/dunes/14.70750026702881_48.10749969482422_023_CW000_0.6427724361419678_-0.22423656284809113_1.2981243133544922.jpg\n",
      "Problem with file ../raw_data/images/testing/dunes/33.1635009765625_63.850701904296876_013_CW000_-0.14149506390094757_-0.35203054547309875_0.7193716764450073.jpg\n",
      "Problem with file ../raw_data/images/testing/dunes/44.394501495361325_109.68108673095703_022_CW000_-0.41784754395484924_0.5990960001945496_1.4728094339370728.jpg\n",
      "Problem with file ../raw_data/images/testing/dunes/33.03849868774414_63.60059814453125_021_CW000_-0.4777297079563141_-0.33530285954475403_0.6580554246902466.jpg\n",
      "Problem with file ../raw_data/images/testing/dunes/38.36049880981445_96.211865234375_031_CW000_0.09195462614297867_0.8640323877334595_1.5077096223831177.jpg\n"
     ]
    },
    {
     "name": "stderr",
     "output_type": "stream",
     "text": [
      "\r",
      " 74%|███████▍  | 2452/3313 [01:55<00:42, 20.21it/s]"
     ]
    },
    {
     "name": "stdout",
     "output_type": "stream",
     "text": [
      "Problem with file ../raw_data/images/testing/dunes/41.57050094604492_77.12991027832031_01_CW000_0.7850807309150696_0.15583151578903198_1.0870587825775146.jpg\n",
      "Problem with file ../raw_data/images/testing/dunes/33.79350128173828_55.98674850463867_031_CW000_-0.34272050857543945_-0.3985860049724579_1.5948807001113892.jpg\n",
      "Problem with file ../raw_data/images/testing/dunes/29.15550003051758_17.107000732421874_00_CW000_-0.50916987657547_-0.1964150071144104_1.8493682146072388.jpg\n",
      "Problem with file ../raw_data/images/testing/dunes/31.42450065612793_61.93280258178711_010_CW000_-0.8800142407417297_0.34601882100105286_3.980861186981201.jpg\n",
      "Problem with file ../raw_data/images/testing/dunes/38.73550186157227_96.61222534179687_01_CW000_0.06245463341474533_0.5495375394821167_0.9625502228736877.jpg\n"
     ]
    },
    {
     "name": "stderr",
     "output_type": "stream",
     "text": [
      " 74%|███████▍  | 2458/3313 [01:56<00:41, 20.42it/s]"
     ]
    },
    {
     "name": "stdout",
     "output_type": "stream",
     "text": [
      "Problem with file ../raw_data/images/testing/dunes/32.71349945068359_63.67565002441406_030_CW000_-0.543756365776062_0.05391550064086914_0.7607227563858032.jpg\n",
      "Problem with file ../raw_data/images/testing/dunes/38.26050033569336_96.33695526123047_032_CW000_0.02909848652780056_0.8845816254615784_1.6009963750839233.jpg\n",
      "Problem with file ../raw_data/images/testing/dunes/31.89950065612793_61.282500457763675_022_CW000_-0.9276737570762634_0.34540581703186035_5.80122709274292.jpg\n",
      "Problem with file ../raw_data/images/testing/dunes/41.67049942016602_75.97950134277343_03_CW000_0.19551150500774384_-0.18319888412952423_0.7999233603477478.jpg\n",
      "Problem with file ../raw_data/images/testing/dunes/44.294499206542966_109.18066711425782_022_CW000_-0.5478127002716064_0.5291091799736023_1.7025138139724731.jpg\n"
     ]
    },
    {
     "name": "stderr",
     "output_type": "stream",
     "text": [
      " 74%|███████▍  | 2463/3313 [01:56<00:43, 19.46it/s]"
     ]
    },
    {
     "name": "stdout",
     "output_type": "stream",
     "text": [
      "Problem with file ../raw_data/images/testing/dunes/19.942499542236327_33.89187469482422_030_CW000_-0.8571401238441467_-0.14741413295269012_3.6080596446990967.jpg\n",
      "Problem with file ../raw_data/images/testing/dunes/20.816500854492187_16.760749053955077_012_CW000_-0.6643871068954468_-0.052440132945775986_0.6270217895507812.jpg\n",
      "Problem with file ../raw_data/images/testing/dunes/33.413500213623045_63.57559814453125_030_CW000_-0.8236797451972961_-0.12355146557092667_0.9487302899360657.jpg\n",
      "Problem with file ../raw_data/images/testing/dunes/45.516500854492186_70.90396423339844_032_CW000_-0.1376262903213501_-0.6878644824028015_1.9643235206604004.jpg\n"
     ]
    },
    {
     "name": "stderr",
     "output_type": "stream",
     "text": [
      " 74%|███████▍  | 2467/3313 [01:56<00:44, 19.06it/s]"
     ]
    },
    {
     "name": "stdout",
     "output_type": "stream",
     "text": [
      "Problem with file ../raw_data/images/testing/dunes/45.06650085449219_70.90396423339844_012_CW000_-0.1992909014225006_-0.6736181378364563_1.9138033390045166.jpg\n",
      "Problem with file ../raw_data/images/testing/dunes/38.560499572753905_95.96158752441406_033_CW000_0.19268926978111267_0.7639127373695374_1.321479320526123.jpg\n",
      "Problem with file ../raw_data/images/testing/dunes/44.96649856567383_70.87896423339843_011_CW000_-0.19007128477096558_-0.6595726013183594_1.8703441619873047.jpg\n",
      "Problem with file ../raw_data/images/testing/dunes/34.118500518798825_55.41149826049805_022_CW000_-0.8240686655044556_0.004343690350651741_2.2954535484313965.jpg\n"
     ]
    },
    {
     "name": "stderr",
     "output_type": "stream",
     "text": [
      " 75%|███████▍  | 2471/3313 [01:56<00:45, 18.67it/s]"
     ]
    },
    {
     "name": "stdout",
     "output_type": "stream",
     "text": [
      "Problem with file ../raw_data/images/testing/dunes/42.67350082397461_101.00379638671875_021_CW000_-0.6811047792434692_0.242052361369133_1.3869277238845825.jpg\n",
      "Problem with file ../raw_data/images/testing/dunes/33.468499755859376_55.53654251098633_03_CW000_-0.6878598928451538_0.35237565636634827_1.3015036582946777.jpg\n",
      "Problem with file ../raw_data/images/testing/dunes/38.46050109863281_95.93658752441407_032_CW000_0.1989738792181015_0.7854389548301697_1.3388577699661255.jpg\n",
      "Problem with file ../raw_data/images/testing/dunes/33.1635009765625_63.775701904296874_010_CW000_-0.14149506390094757_-0.35203054547309875_0.7193716764450073.jpg\n"
     ]
    },
    {
     "name": "stderr",
     "output_type": "stream",
     "text": [
      " 75%|███████▍  | 2475/3313 [01:56<00:45, 18.51it/s]"
     ]
    },
    {
     "name": "stdout",
     "output_type": "stream",
     "text": [
      "Problem with file ../raw_data/images/testing/dunes/31.278500747680663_57.13083343505859_011_CW000_-0.5770965218544006_0.6842880845069885_0.9176405668258667.jpg\n",
      "Problem with file ../raw_data/images/testing/dunes/40.445498657226565_76.02953796386718_011_CW000_-0.3332139849662781_0.8002609014511108_1.0968306064605713.jpg\n",
      "Problem with file ../raw_data/images/testing/dunes/31.20350036621094_56.830632019042966_01_CW000_-0.21088147163391113_0.4786773920059204_0.9718106389045715.jpg\n",
      "Problem with file ../raw_data/images/testing/dunes/43.76750030517578_107.83594360351563_030_CW000_-0.5789913535118103_0.5506714582443237_1.8655177354812622.jpg\n"
     ]
    },
    {
     "name": "stderr",
     "output_type": "stream",
     "text": [
      " 75%|███████▍  | 2479/3313 [01:57<00:44, 18.69it/s]"
     ]
    },
    {
     "name": "stdout",
     "output_type": "stream",
     "text": [
      "Problem with file ../raw_data/images/testing/dunes/32.7634994506836_63.42549819946289_012_CW000_-0.5832479596138_-0.22287534177303314_0.8822293877601624.jpg\n",
      "Problem with file ../raw_data/images/testing/dunes/14.957500076293945_47.80750045776367_03_CW000_0.588310182094574_-0.3480420708656311_2.059981107711792.jpg\n",
      "Problem with file ../raw_data/images/testing/dunes/15.302500152587891_49.73250122070313_032_CW000_0.46431758999824524_-0.5653150677680969_1.3872489929199219.jpg\n",
      "Problem with file ../raw_data/images/testing/dunes/31.699499893188477_62.05784683227539_021_CW000_-0.8524061441421509_0.26555073261260986_3.9738004207611084.jpg\n"
     ]
    },
    {
     "name": "stderr",
     "output_type": "stream",
     "text": [
      " 75%|███████▍  | 2483/3313 [01:57<00:43, 19.04it/s]"
     ]
    },
    {
     "name": "stdout",
     "output_type": "stream",
     "text": [
      "Problem with file ../raw_data/images/testing/dunes/40.64549942016602_76.92984466552734_011_CW000_-0.7509445548057556_0.6033833026885986_1.1220580339431763.jpg\n",
      "Problem with file ../raw_data/images/testing/dunes/15.652500343322753_49.307499694824216_011_CW000_0.3484245836734772_-0.5908284783363342_1.9248461723327637.jpg\n",
      "Problem with file ../raw_data/images/testing/dunes/15.327500152587891_49.38249816894531_020_CW000_0.4904870092868805_-0.5652287006378174_1.6804332733154297.jpg\n",
      "Problem with file ../raw_data/images/testing/dunes/20.591500091552735_16.78574905395508_023_CW000_-0.7230864763259888_-0.0019386454951018095_0.599372148513794.jpg\n"
     ]
    },
    {
     "name": "stderr",
     "output_type": "stream",
     "text": [
      " 75%|███████▌  | 2487/3313 [01:57<00:42, 19.39it/s]"
     ]
    },
    {
     "name": "stdout",
     "output_type": "stream",
     "text": [
      "Problem with file ../raw_data/images/testing/dunes/19.312499237060546_45.79249877929688_012_CW000_0.03273998945951462_-0.7302373051643372_2.2333145141601562.jpg\n",
      "Problem with file ../raw_data/images/testing/dunes/40.470498657226564_76.8548080444336_02_CW000_-0.7844164967536926_0.5528392791748047_1.2394577264785767.jpg\n",
      "Problem with file ../raw_data/images/testing/dunes/44.59449844360351_108.93050231933594_020_CW000_-0.44161590933799744_0.6375353336334229_2.070099115371704.jpg\n",
      "Problem with file ../raw_data/images/testing/dunes/44.394501495361325_109.45591430664062_021_CW000_-0.4724518358707428_0.5909433960914612_1.6088941097259521.jpg\n",
      "Problem with file ../raw_data/images/testing/dunes/20.746499252319335_34.30791549682617_011_CW000_-0.7798686027526855_-0.32205328345298767_3.3784804344177246.jpg\n"
     ]
    },
    {
     "name": "stderr",
     "output_type": "stream",
     "text": [
      " 75%|███████▌  | 2491/3313 [01:57<00:43, 19.05it/s]"
     ]
    },
    {
     "name": "stdout",
     "output_type": "stream",
     "text": [
      "Problem with file ../raw_data/images/testing/dunes/31.999501037597657_62.03284683227539_020_CW000_-0.8226098418235779_0.16774742305278778_3.635343551635742.jpg\n",
      "Problem with file ../raw_data/images/testing/dunes/33.54349822998047_55.53654251098633_013_CW000_-0.783058762550354_0.30442818999290466_1.43746817111969.jpg\n",
      "Problem with file ../raw_data/images/testing/dunes/20.766500854492186_16.885800933837892_033_CW000_-0.6576237082481384_0.09578590095043182_0.6180264949798584.jpg\n",
      "Problem with file ../raw_data/images/testing/dunes/28.582500839233397_22.547499465942384_031_CW000_-0.5680720806121826_-0.16428177058696747_1.7529261112213135.jpg\n"
     ]
    },
    {
     "name": "stderr",
     "output_type": "stream",
     "text": [
      " 75%|███████▌  | 2495/3313 [01:57<00:42, 19.31it/s]"
     ]
    },
    {
     "name": "stdout",
     "output_type": "stream",
     "text": [
      "Problem with file ../raw_data/images/testing/dunes/31.778500747680663_57.40603485107422_010_CW000_-0.8882879018783569_0.3220795691013336_1.975223422050476.jpg\n",
      "Problem with file ../raw_data/images/testing/dunes/15.177500343322754_49.532500457763675_02_CW000_0.5829294323921204_-0.5725922584533691_1.2109111547470093.jpg\n",
      "Problem with file ../raw_data/images/testing/dunes/43.51750106811524_107.085498046875_012_CW000_-0.47812700271606445_0.7110421061515808_2.394564390182495.jpg\n",
      "Problem with file ../raw_data/images/testing/dunes/25.5125_26.847499465942384_013_CW000_-0.8819289207458496_-0.023944666609168053_2.1095449924468994.jpg\n"
     ]
    },
    {
     "name": "stderr",
     "output_type": "stream",
     "text": [
      " 75%|███████▌  | 2499/3313 [01:58<00:42, 19.22it/s]"
     ]
    },
    {
     "name": "stdout",
     "output_type": "stream",
     "text": [
      "Problem with file ../raw_data/images/testing/dunes/43.09849853515625_101.17886962890626_010_CW000_-0.285476416349411_0.7415161728858948_1.6268131732940674.jpg\n",
      "Problem with file ../raw_data/images/testing/dunes/28.1575008392334_22.547499465942384_01_CW000_-0.6192654371261597_-0.2821190357208252_1.863721489906311.jpg\n",
      "Problem with file ../raw_data/images/testing/dunes/20.316500854492187_16.6856990814209_013_CW000_-0.3981883227825165_0.08185804635286331_0.6493476033210754.jpg\n",
      "Problem with file ../raw_data/images/testing/dunes/34.16850051879883_55.386498260498044_01_CW000_-0.8240686655044556_0.004343690350651741_2.2954535484313965.jpg\n"
     ]
    },
    {
     "name": "stderr",
     "output_type": "stream",
     "text": [
      " 76%|███████▌  | 2504/3313 [01:58<00:41, 19.27it/s]"
     ]
    },
    {
     "name": "stdout",
     "output_type": "stream",
     "text": [
      "Problem with file ../raw_data/images/testing/dunes/32.04950103759766_61.73271789550781_00_CW000_-0.8816138505935669_0.26300087571144104_4.608498573303223.jpg\n",
      "Problem with file ../raw_data/images/testing/dunes/45.541500854492185_70.7038070678711_022_CW000_-0.13911786675453186_-0.6843159198760986_1.9456740617752075.jpg\n",
      "Problem with file ../raw_data/images/testing/dunes/21.071500396728517_34.00766830444336_01_CW000_-0.8648754954338074_-0.1902933269739151_3.4586687088012695.jpg\n",
      "Problem with file ../raw_data/images/testing/dunes/38.46050109863281_96.211865234375_031_CW000_0.18288764357566833_0.8287736177444458_1.5402576923370361.jpg\n"
     ]
    },
    {
     "name": "stderr",
     "output_type": "stream",
     "text": [
      " 76%|███████▌  | 2508/3313 [01:58<00:42, 19.04it/s]"
     ]
    },
    {
     "name": "stdout",
     "output_type": "stream",
     "text": [
      "Problem with file ../raw_data/images/testing/dunes/38.23550186157227_95.86149749755859_03_CW000_-0.2267722487449646_0.8887361288070679_1.251452088356018.jpg\n",
      "Problem with file ../raw_data/images/testing/dunes/20.66650047302246_17.08590087890625_033_CW000_-0.5626145005226135_0.3532107174396515_0.5967787504196167.jpg\n",
      "Problem with file ../raw_data/images/testing/dunes/25.976499176025392_7.8766429901123045_01_CW000_-0.12161245197057724_-0.3521067798137665_1.071845293045044.jpg\n",
      "Problem with file ../raw_data/images/testing/dunes/15.502499961853028_49.78249969482422_030_CW000_0.36454153060913086_-0.5959151387214661_1.577105164527893.jpg\n"
     ]
    },
    {
     "name": "stderr",
     "output_type": "stream",
     "text": [
      " 76%|███████▌  | 2512/3313 [01:58<00:41, 19.17it/s]"
     ]
    },
    {
     "name": "stdout",
     "output_type": "stream",
     "text": [
      "Problem with file ../raw_data/images/testing/dunes/45.59150085449219_70.7538818359375_00_CW000_-0.1364414393901825_-0.6864626407623291_1.9521132707595825.jpg\n",
      "Problem with file ../raw_data/images/testing/dunes/38.11049957275391_96.53713531494141_012_CW000_-0.1852608323097229_0.8832283020019531_1.593317985534668.jpg\n",
      "Problem with file ../raw_data/images/testing/dunes/38.5854995727539_96.46204528808593_023_CW000_0.12886519730091095_0.7174606919288635_1.1566250324249268.jpg\n",
      "Problem with file ../raw_data/images/testing/dunes/21.091500091552735_16.78574905395508_023_CW000_-0.6809753775596619_-0.17973986268043518_0.9162723422050476.jpg\n"
     ]
    },
    {
     "name": "stderr",
     "output_type": "stream",
     "text": [
      " 76%|███████▌  | 2516/3313 [01:59<00:40, 19.50it/s]"
     ]
    },
    {
     "name": "stdout",
     "output_type": "stream",
     "text": [
      "Problem with file ../raw_data/images/testing/dunes/14.80749969482422_48.13249816894531_020_CW000_0.5580542683601379_-0.2581610083580017_1.5363388061523438.jpg\n",
      "Problem with file ../raw_data/images/testing/dunes/15.527499961853028_49.85749969482422_023_CW000_0.36454153060913086_-0.5959151387214661_1.577105164527893.jpg\n",
      "Problem with file ../raw_data/images/testing/dunes/43.542501068115236_107.16055755615234_01_CW000_-0.49531522393226624_0.6957945823669434_2.3344295024871826.jpg\n",
      "Problem with file ../raw_data/images/testing/dunes/20.41649932861328_16.96085090637207_012_CW000_-0.5764865875244141_0.18182383477687836_0.4804065227508545.jpg\n",
      "Problem with file ../raw_data/images/testing/dunes/42.7734992980957_100.6786865234375_020_CW000_-0.7328791618347168_0.36043301224708557_1.7636442184448242.jpg\n"
     ]
    },
    {
     "name": "stderr",
     "output_type": "stream",
     "text": [
      " 76%|███████▌  | 2522/3313 [01:59<00:40, 19.52it/s]"
     ]
    },
    {
     "name": "stdout",
     "output_type": "stream",
     "text": [
      "Problem with file ../raw_data/images/testing/dunes/43.34250030517578_107.4106689453125_03_CW000_-0.3866487741470337_0.7184271216392517_2.1307601928710938.jpg\n",
      "Problem with file ../raw_data/images/testing/dunes/38.5854995727539_95.96158752441406_023_CW000_0.19268926978111267_0.7639127373695374_1.321479320526123.jpg\n",
      "Problem with file ../raw_data/images/testing/dunes/45.46649856567383_70.42857513427734_013_CW000_-0.14625826478004456_-0.6748873591423035_1.9417333602905273.jpg\n",
      "Problem with file ../raw_data/images/testing/dunes/41.595499420166014_75.95450134277344_032_CW000_0.19551150500774384_-0.18319888412952423_0.7999233603477478.jpg\n"
     ]
    },
    {
     "name": "stderr",
     "output_type": "stream",
     "text": [
      "\r",
      " 76%|███████▌  | 2524/3313 [01:59<00:40, 19.27it/s]"
     ]
    },
    {
     "name": "stdout",
     "output_type": "stream",
     "text": [
      "Problem with file ../raw_data/images/testing/dunes/31.503499603271486_57.35596771240235_02_CW000_-0.8061213493347168_0.5177724957466125_1.5697107315063477.jpg\n",
      "Problem with file ../raw_data/images/testing/dunes/26.332500839233397_40.85179595947265_031_CW000_-0.10505552589893341_-0.11088480800390244_1.3147815465927124.jpg\n",
      "Problem with file ../raw_data/images/testing/dunes/20.91649932861328_16.28549919128418_013_CW000_-0.18588700890541077_-0.6683453917503357_0.7124367952346802.jpg\n",
      "Problem with file ../raw_data/images/testing/dunes/15.577499961853027_49.83249969482422_02_CW000_0.36454153060913086_-0.5959151387214661_1.577105164527893.jpg\n"
     ]
    },
    {
     "name": "stderr",
     "output_type": "stream",
     "text": [
      " 76%|███████▋  | 2529/3313 [01:59<00:40, 19.43it/s]"
     ]
    },
    {
     "name": "stdout",
     "output_type": "stream",
     "text": [
      "Problem with file ../raw_data/images/testing/dunes/42.398501586914065_101.25386962890624_013_CW000_-0.3371007442474365_0.1406775414943695_1.0607670545578003.jpg\n",
      "Problem with file ../raw_data/images/testing/dunes/21.14650077819824_34.23283309936524_012_CW000_-0.8320323824882507_-0.25281721353530884_3.40447735786438.jpg\n",
      "Problem with file ../raw_data/images/testing/dunes/15.107499885559083_48.30750045776367_023_CW000_0.530726969242096_-0.27493077516555786_2.1112582683563232.jpg\n",
      "Problem with file ../raw_data/images/testing/dunes/21.69250030517578_49.272498321533206_012_CW000_-0.513427197933197_-0.7253503799438477_2.065425157546997.jpg\n"
     ]
    },
    {
     "name": "stderr",
     "output_type": "stream",
     "text": [
      " 76%|███████▋  | 2533/3313 [01:59<00:40, 19.04it/s]"
     ]
    },
    {
     "name": "stdout",
     "output_type": "stream",
     "text": [
      "Problem with file ../raw_data/images/testing/dunes/26.007499313354494_40.95185165405273_01_CW000_0.0036399178206920624_-0.014897942543029785_1.296105146408081.jpg\n",
      "Problem with file ../raw_data/images/testing/dunes/44.91950149536133_109.63108673095704_010_CW000_-0.32086411118507385_0.6356228590011597_1.6110759973526.jpg\n",
      "Problem with file ../raw_data/images/testing/dunes/42.37350158691406_100.60364990234375_021_CW000_-0.5230313539505005_0.3490811586380005_1.3080353736877441.jpg\n",
      "Problem with file ../raw_data/images/testing/dunes/26.082499694824218_40.826795959472655_010_CW000_-0.026449987664818764_0.0108346501365304_1.2878034114837646.jpg\n"
     ]
    },
    {
     "name": "stderr",
     "output_type": "stream",
     "text": [
      " 77%|███████▋  | 2537/3313 [02:00<00:40, 19.30it/s]"
     ]
    },
    {
     "name": "stdout",
     "output_type": "stream",
     "text": [
      "Problem with file ../raw_data/images/testing/dunes/44.59449844360351_108.98050231933594_022_CW000_-0.44161590933799744_0.6375353336334229_2.070099115371704.jpg\n",
      "Problem with file ../raw_data/images/testing/dunes/40.545500946044925_76.1295669555664_011_CW000_-0.005460376851260662_0.8130400776863098_0.9616098403930664.jpg\n",
      "Problem with file ../raw_data/images/testing/dunes/40.695501708984374_76.95484466552735_032_CW000_-0.6864979267120361_0.6544946432113647_0.8831303119659424.jpg\n",
      "Problem with file ../raw_data/images/testing/dunes/40.945498657226565_77.02988128662109_011_CW000_-0.6934092044830322_0.29324617981910706_0.6616343855857849.jpg\n",
      "Problem with file ../raw_data/images/testing/dunes/44.49449996948242_109.63108673095704_020_CW000_-0.5022079944610596_0.5700734257698059_1.6070542335510254.jpg\n"
     ]
    },
    {
     "name": "stderr",
     "output_type": "stream",
     "text": [
      " 77%|███████▋  | 2542/3313 [02:00<00:40, 19.16it/s]"
     ]
    },
    {
     "name": "stdout",
     "output_type": "stream",
     "text": [
      "Problem with file ../raw_data/images/testing/dunes/42.7734992980957_101.1038330078125_021_CW000_-0.6748458743095398_0.2847256660461426_1.421557903289795.jpg\n",
      "Problem with file ../raw_data/images/testing/dunes/29.055499649047853_16.806625747680663_00_CW000_-0.4834824800491333_-0.29929909110069275_1.8937963247299194.jpg\n",
      "Problem with file ../raw_data/images/testing/dunes/20.99149971008301_17.01090087890625_020_CW000_-0.6252632141113281_-0.05287300795316696_0.8963918089866638.jpg\n",
      "Problem with file ../raw_data/images/testing/dunes/38.46050109863281_96.38704528808594_030_CW000_0.16036121547222137_0.783257007598877_1.3496683835983276.jpg\n"
     ]
    },
    {
     "name": "stderr",
     "output_type": "stream",
     "text": [
      " 77%|███████▋  | 2546/3313 [02:00<00:42, 18.15it/s]"
     ]
    },
    {
     "name": "stdout",
     "output_type": "stream",
     "text": [
      "Problem with file ../raw_data/images/testing/dunes/43.01750106811524_107.71083221435546_013_CW000_-0.008332541212439537_0.7519580125808716_2.00122332572937.jpg\n",
      "Problem with file ../raw_data/images/testing/dunes/44.61949844360352_109.13066711425782_010_CW000_-0.45960119366645813_0.6211330890655518_1.9466426372528076.jpg\n",
      "Problem with file ../raw_data/images/testing/dunes/31.92450065612793_61.782717895507815_012_CW000_-0.8876993060112_0.27692607045173645_4.731226921081543.jpg\n",
      "Problem with file ../raw_data/images/testing/dunes/20.816500854492187_16.21049919128418_010_CW000_-0.15044081211090088_-0.5090184807777405_0.5067636370658875.jpg\n"
     ]
    },
    {
     "name": "stderr",
     "output_type": "stream",
     "text": [
      " 77%|███████▋  | 2550/3313 [02:00<00:42, 18.11it/s]"
     ]
    },
    {
     "name": "stdout",
     "output_type": "stream",
     "text": [
      "Problem with file ../raw_data/images/testing/dunes/38.410498809814456_96.43704528808594_012_CW000_0.10158061981201172_0.8471601605415344_1.5373255014419556.jpg\n",
      "Problem with file ../raw_data/images/testing/dunes/33.968499755859376_55.91170806884766_02_CW000_-0.6213650703430176_-0.28967946767807007_1.766118049621582.jpg\n",
      "Problem with file ../raw_data/images/testing/dunes/45.11649932861328_70.25350036621094_030_CW000_-0.1815747767686844_-0.6640234589576721_1.903873324394226.jpg\n",
      "Problem with file ../raw_data/images/testing/dunes/43.06749954223633_107.53578033447266_030_CW000_-0.16774529218673706_0.7544317245483398_2.0006778240203857.jpg\n"
     ]
    },
    {
     "name": "stderr",
     "output_type": "stream",
     "text": [
      " 77%|███████▋  | 2554/3313 [02:01<00:42, 17.81it/s]"
     ]
    },
    {
     "name": "stdout",
     "output_type": "stream",
     "text": [
      "Problem with file ../raw_data/images/testing/dunes/43.442498779296876_107.43572082519532_00_CW000_-0.4377151429653168_0.6892668604850769_2.0812344551086426.jpg\n",
      "Problem with file ../raw_data/images/testing/dunes/26.23250045776367_40.326498413085936_030_CW000_0.18097646534442902_0.3635493516921997_1.4861421585083008.jpg\n",
      "Problem with file ../raw_data/images/testing/dunes/33.41849975585937_56.111792755126956_022_CW000_-0.4501940608024597_-0.06743151694536209_1.1663837432861328.jpg\n",
      "Problem with file ../raw_data/images/testing/dunes/18.9875_45.967499542236325_021_CW000_-0.06412810832262039_-0.7644143104553223_2.3448121547698975.jpg\n"
     ]
    },
    {
     "name": "stderr",
     "output_type": "stream",
     "text": [
      " 77%|███████▋  | 2558/3313 [02:01<00:42, 17.89it/s]"
     ]
    },
    {
     "name": "stdout",
     "output_type": "stream",
     "text": [
      "Problem with file ../raw_data/images/testing/dunes/38.59350051879883_68.19272155761719_032_CW000_-0.869401752948761_-0.2618516981601715_0.5565191507339478.jpg\n",
      "Problem with file ../raw_data/images/testing/dunes/44.96649856567383_70.47865753173828_011_CW000_-0.1376751959323883_-0.6498137712478638_1.8721716403961182.jpg\n",
      "Problem with file ../raw_data/images/testing/dunes/25.312499237060546_26.797499465942384_011_CW000_-0.8899258375167847_-0.046662282198667526_2.202192783355713.jpg\n",
      "Problem with file ../raw_data/images/testing/dunes/42.67350082397461_101.05379638671874_023_CW000_-0.6811047792434692_0.242052361369133_1.3869277238845825.jpg\n"
     ]
    },
    {
     "name": "stderr",
     "output_type": "stream",
     "text": [
      " 77%|███████▋  | 2562/3313 [02:01<00:44, 17.01it/s]"
     ]
    },
    {
     "name": "stdout",
     "output_type": "stream",
     "text": [
      "Problem with file ../raw_data/images/testing/dunes/42.96750106811523_107.66083221435547_031_CW000_-0.008332541212439537_0.7519580125808716_2.00122332572937.jpg\n",
      "Problem with file ../raw_data/images/testing/dunes/14.732500267028808_47.75750045776367_011_CW000_0.6120287775993347_-0.3859300911426544_1.4851075410842896.jpg\n",
      "Problem with file ../raw_data/images/testing/dunes/38.060499572753905_96.08677520751954_030_CW000_-0.3402532637119293_0.8606117367744446_1.308220386505127.jpg\n",
      "Problem with file ../raw_data/images/testing/dunes/21.016499710083007_16.760749053955077_012_CW000_-0.6926047205924988_-0.062145087867975235_0.8218837380409241.jpg\n"
     ]
    },
    {
     "name": "stderr",
     "output_type": "stream",
     "text": [
      " 77%|███████▋  | 2566/3313 [02:01<00:43, 17.36it/s]"
     ]
    },
    {
     "name": "stdout",
     "output_type": "stream",
     "text": [
      "Problem with file ../raw_data/images/testing/dunes/33.23849945068359_64.27595367431641_020_CW000_-0.27645736932754517_-0.11519242823123932_0.8834002017974854.jpg\n",
      "Problem with file ../raw_data/images/testing/dunes/20.696499252319335_34.20783309936523_031_CW000_-0.8021264672279358_-0.2873130142688751_3.3371903896331787.jpg\n",
      "Problem with file ../raw_data/images/testing/dunes/31.2745002746582_61.63267364501953_030_CW000_-0.9287709593772888_0.30891644954681396_4.64567232131958.jpg\n",
      "Problem with file ../raw_data/images/testing/dunes/43.46750106811523_107.21055755615234_033_CW000_-0.49531522393226624_0.6957945823669434_2.3344295024871826.jpg\n"
     ]
    },
    {
     "name": "stderr",
     "output_type": "stream",
     "text": [
      " 78%|███████▊  | 2570/3313 [02:02<00:42, 17.29it/s]"
     ]
    },
    {
     "name": "stdout",
     "output_type": "stream",
     "text": [
      "Problem with file ../raw_data/images/testing/dunes/20.84150085449219_16.53564910888672_01_CW000_-0.5957452058792114_0.08138704299926758_0.612690269947052.jpg\n",
      "Problem with file ../raw_data/images/testing/dunes/38.38549880981445_96.236865234375_022_CW000_0.09195462614297867_0.8640323877334595_1.5077096223831177.jpg\n",
      "Problem with file ../raw_data/images/testing/dunes/28.930499267578124_16.906750106811522_010_CW000_-0.44581758975982666_-0.28048256039619446_1.869318962097168.jpg\n",
      "Problem with file ../raw_data/images/testing/dunes/42.423501586914064_100.3035400390625_01_CW000_-0.6265398859977722_0.3935728371143341_1.552695870399475.jpg\n"
     ]
    },
    {
     "name": "stderr",
     "output_type": "stream",
     "text": [
      " 78%|███████▊  | 2574/3313 [02:02<00:43, 17.15it/s]"
     ]
    },
    {
     "name": "stdout",
     "output_type": "stream",
     "text": [
      "Problem with file ../raw_data/images/testing/dunes/43.79250030517578_107.56078033447265_021_CW000_-0.5903657674789429_0.6053684949874878_2.2394893169403076.jpg\n",
      "Problem with file ../raw_data/images/testing/dunes/38.11049957275391_96.01168518066406_011_CW000_-0.407829612493515_0.8472695350646973_1.3741267919540405.jpg\n",
      "Problem with file ../raw_data/images/testing/dunes/33.56849822998047_55.861708068847655_00_CW000_-0.426584392786026_-0.18486425280570984_1.295327067375183.jpg\n",
      "Problem with file ../raw_data/images/testing/dunes/44.76949920654297_109.35583190917968_031_CW000_-0.33580848574638367_0.6632636785507202_1.8371663093566895.jpg\n"
     ]
    },
    {
     "name": "stderr",
     "output_type": "stream",
     "text": [
      " 78%|███████▊  | 2578/3313 [02:02<00:41, 17.55it/s]"
     ]
    },
    {
     "name": "stdout",
     "output_type": "stream",
     "text": [
      "Problem with file ../raw_data/images/testing/dunes/28.930499267578124_17.157000732421874_012_CW000_-0.45954445004463196_-0.24324582517147064_1.8100817203521729.jpg\n",
      "Problem with file ../raw_data/images/testing/dunes/25.8575008392334_40.326498413085936_020_CW000_0.17513146996498108_0.4229266345500946_1.556725263595581.jpg\n",
      "Problem with file ../raw_data/images/testing/dunes/33.968499755859376_55.68662338256836_01_CW000_-0.8335471153259277_0.011805154383182526_2.0720136165618896.jpg\n",
      "Problem with file ../raw_data/images/testing/dunes/43.2734992980957_100.65364990234374_023_CW000_-0.13585664331912994_0.8724046945571899_2.146843194961548.jpg\n"
     ]
    },
    {
     "name": "stderr",
     "output_type": "stream",
     "text": [
      " 78%|███████▊  | 2582/3313 [02:02<00:42, 17.35it/s]"
     ]
    },
    {
     "name": "stdout",
     "output_type": "stream",
     "text": [
      "Problem with file ../raw_data/images/testing/dunes/33.44349975585938_55.361498260498045_010_CW000_-0.70892333984375_0.33195340633392334_1.3386222124099731.jpg\n",
      "Problem with file ../raw_data/images/testing/dunes/25.637500381469728_27.197499084472657_01_CW000_-0.9265093207359314_0.09962987899780273_2.4819040298461914.jpg\n",
      "Problem with file ../raw_data/images/testing/dunes/40.820500183105466_76.52970581054687_021_CW000_0.47031107544898987_0.4112088978290558_0.7825207710266113.jpg\n",
      "Problem with file ../raw_data/images/testing/dunes/31.42450065612793_61.457585144042966_011_CW000_-0.9479904174804688_0.27951526641845703_5.437341690063477.jpg\n"
     ]
    },
    {
     "name": "stderr",
     "output_type": "stream",
     "text": [
      " 78%|███████▊  | 2586/3313 [02:02<00:42, 17.07it/s]"
     ]
    },
    {
     "name": "stdout",
     "output_type": "stream",
     "text": [
      "Problem with file ../raw_data/images/testing/dunes/28.83050079345703_17.00687446594238_010_CW000_-0.4138762950897217_-0.27483323216438293_1.839026927947998.jpg\n",
      "Problem with file ../raw_data/images/testing/dunes/41.095499420166014_76.70477905273438_030_CW000_0.39497748017311096_-0.05050608888268471_0.7165769934654236.jpg\n",
      "Problem with file ../raw_data/images/testing/dunes/26.4075008392334_41.02691116333008_00_CW000_-0.1430160403251648_-0.21915097534656525_1.3290443420410156.jpg\n",
      "Problem with file ../raw_data/images/testing/dunes/20.966499710083006_16.760749053955077_032_CW000_-0.6926047205924988_-0.062145087867975235_0.8218837380409241.jpg\n"
     ]
    },
    {
     "name": "stderr",
     "output_type": "stream",
     "text": [
      " 78%|███████▊  | 2590/3313 [02:03<00:41, 17.41it/s]"
     ]
    },
    {
     "name": "stdout",
     "output_type": "stream",
     "text": [
      "Problem with file ../raw_data/images/testing/dunes/33.1885009765625_64.27595367431641_00_CW000_-0.4736398756504059_0.1598576307296753_0.7752802968025208.jpg\n",
      "Problem with file ../raw_data/images/testing/dunes/20.891499328613282_17.16095085144043_022_CW000_-0.5473282337188721_-0.015356907621026039_0.7793093919754028.jpg\n",
      "Problem with file ../raw_data/images/testing/dunes/33.71849899291992_56.23683319091797_023_CW000_-0.35695457458496094_-0.23840343952178955_1.313857078552246.jpg\n",
      "Problem with file ../raw_data/images/testing/dunes/26.207500076293947_40.57661743164063_02_CW000_0.06576713919639587_0.2708597183227539_1.3499454259872437.jpg\n"
     ]
    },
    {
     "name": "stderr",
     "output_type": "stream",
     "text": [
      " 78%|███████▊  | 2594/3313 [02:03<00:43, 16.43it/s]"
     ]
    },
    {
     "name": "stdout",
     "output_type": "stream",
     "text": [
      "Problem with file ../raw_data/images/testing/dunes/40.72050170898437_77.1799102783203_023_CW000_-0.7616252303123474_0.5936388373374939_1.1994197368621826.jpg\n",
      "Problem with file ../raw_data/images/testing/dunes/33.968499755859376_55.66162338256836_00_CW000_-0.8335471153259277_0.011805154383182526_2.0720136165618896.jpg\n",
      "Problem with file ../raw_data/images/testing/dunes/31.57849998474121_57.30596771240234_010_CW000_-0.8319311738014221_0.4609866142272949_1.6326491832733154.jpg\n",
      "Problem with file ../raw_data/images/testing/dunes/43.79250030517578_107.91094360351562_023_CW000_-0.5789913535118103_0.5506714582443237_1.8655177354812622.jpg\n"
     ]
    },
    {
     "name": "stderr",
     "output_type": "stream",
     "text": [
      " 78%|███████▊  | 2598/3313 [02:03<00:41, 17.06it/s]"
     ]
    },
    {
     "name": "stdout",
     "output_type": "stream",
     "text": [
      "Problem with file ../raw_data/images/testing/dunes/31.94950065612793_61.407544708251955_03_CW000_-0.9245191812515259_0.3344726860523224_5.6120076179504395.jpg\n",
      "Problem with file ../raw_data/images/testing/dunes/38.435498809814455_96.33695526123047_02_CW000_0.11097325384616852_0.8613903522491455_1.603798508644104.jpg\n",
      "Problem with file ../raw_data/images/testing/dunes/44.49449996948242_109.00550231933593_023_CW000_-0.5493270754814148_0.5796059966087341_2.085843086242676.jpg\n",
      "Problem with file ../raw_data/images/testing/dunes/38.36049880981445_96.03668518066407_032_CW000_0.0354793556034565_0.8667901754379272_1.353738784790039.jpg\n"
     ]
    },
    {
     "name": "stderr",
     "output_type": "stream",
     "text": [
      " 79%|███████▊  | 2602/3313 [02:03<00:40, 17.41it/s]"
     ]
    },
    {
     "name": "stdout",
     "output_type": "stream",
     "text": [
      "Problem with file ../raw_data/images/testing/dunes/29.15550003051758_17.232125091552735_01_CW000_-0.5167321562767029_-0.2138291448354721_1.8215068578720093.jpg\n",
      "Problem with file ../raw_data/images/testing/dunes/33.66850051879883_55.83666763305664_03_CW000_-0.5875906944274902_-0.07794658094644547_1.40592360496521.jpg\n",
      "Problem with file ../raw_data/images/testing/dunes/25.5375_27.247499084472658_03_CW000_-0.9282433986663818_0.09422235935926437_2.4945695400238037.jpg\n",
      "Problem with file ../raw_data/images/testing/dunes/43.17350082397461_101.0788330078125_020_CW000_-0.1863543689250946_0.8408895134925842_1.9971835613250732.jpg\n"
     ]
    },
    {
     "name": "stderr",
     "output_type": "stream",
     "text": [
      " 79%|███████▊  | 2606/3313 [02:04<00:42, 16.68it/s]"
     ]
    },
    {
     "name": "stdout",
     "output_type": "stream",
     "text": [
      "Problem with file ../raw_data/images/testing/dunes/31.524499130249023_61.75771789550781_011_CW000_-0.9059226512908936_0.3216901421546936_4.6800007820129395.jpg\n",
      "Problem with file ../raw_data/images/testing/dunes/42.52350006103516_100.50361328125_01_CW000_-0.6224517822265625_0.3512137234210968_1.4666533470153809.jpg\n",
      "Problem with file ../raw_data/images/testing/dunes/15.132499885559081_48.15749816894531_011_CW000_0.5415379405021667_-0.2568032741546631_2.109870195388794.jpg\n",
      "Problem with file ../raw_data/images/testing/dunes/20.69150047302246_16.6356990814209_021_CW000_-0.6193869113922119_0.055047765374183655_0.5804615020751953.jpg\n"
     ]
    },
    {
     "name": "stderr",
     "output_type": "stream",
     "text": [
      " 79%|███████▉  | 2610/3313 [02:04<00:40, 17.37it/s]"
     ]
    },
    {
     "name": "stdout",
     "output_type": "stream",
     "text": [
      "Problem with file ../raw_data/images/testing/dunes/15.35250015258789_49.28249969482422_010_CW000_0.5144613981246948_-0.5667108297348022_1.959619164466858.jpg\n",
      "Problem with file ../raw_data/images/testing/dunes/28.930499267578124_17.00687446594238_010_CW000_-0.4540223777294159_-0.25677013397216797_1.8461145162582397.jpg\n",
      "Problem with file ../raw_data/images/testing/dunes/45.016500854492186_70.67880706787109_031_CW000_-0.18113432824611664_-0.6709339022636414_1.9068721532821655.jpg\n",
      "Problem with file ../raw_data/images/testing/dunes/33.393499755859374_56.011748504638675_032_CW000_-0.4221571087837219_-0.20386292040348053_1.2630585432052612.jpg\n"
     ]
    },
    {
     "name": "stderr",
     "output_type": "stream",
     "text": [
      " 79%|███████▉  | 2614/3313 [02:04<00:41, 16.78it/s]"
     ]
    },
    {
     "name": "stdout",
     "output_type": "stream",
     "text": [
      "Problem with file ../raw_data/images/testing/dunes/33.69349899291992_55.41149826049805_032_CW000_-0.8225076198577881_0.2032286822795868_1.8250418901443481.jpg\n",
      "Problem with file ../raw_data/images/testing/dunes/31.378499221801757_57.20590057373047_010_CW000_-0.6969814896583557_0.6346865892410278_1.2112970352172852.jpg\n",
      "Problem with file ../raw_data/images/testing/dunes/22.14250030517578_49.44749908447265_031_CW000_-0.5843932032585144_-0.6595221757888794_1.9559717178344727.jpg\n",
      "Problem with file ../raw_data/images/testing/dunes/33.413500213623045_64.00079803466797_031_CW000_-0.3964866101741791_-0.46534496545791626_0.9686969518661499.jpg\n"
     ]
    },
    {
     "name": "stderr",
     "output_type": "stream",
     "text": [
      " 79%|███████▉  | 2618/3313 [02:04<00:40, 17.04it/s]"
     ]
    },
    {
     "name": "stdout",
     "output_type": "stream",
     "text": [
      "Problem with file ../raw_data/images/testing/dunes/33.33850173950195_64.1759017944336_020_CW000_-0.19145871698856354_-0.3099783658981323_0.959148108959198.jpg\n",
      "Problem with file ../raw_data/images/testing/dunes/31.628500366210936_56.73056488037109_031_CW000_-0.3664163649082184_0.7035951018333435_0.9957700967788696.jpg\n",
      "Problem with file ../raw_data/images/testing/dunes/43.61749954223633_107.78589172363282_012_CW000_-0.5074372291564941_0.603607714176178_1.8269751071929932.jpg\n",
      "Problem with file ../raw_data/images/testing/dunes/33.968499755859376_55.88670806884765_01_CW000_-0.6213650703430176_-0.28967946767807007_1.766118049621582.jpg\n"
     ]
    },
    {
     "name": "stderr",
     "output_type": "stream",
     "text": [
      " 79%|███████▉  | 2622/3313 [02:05<00:39, 17.28it/s]"
     ]
    },
    {
     "name": "stdout",
     "output_type": "stream",
     "text": [
      "Problem with file ../raw_data/images/testing/dunes/21.116500091552734_17.01090087890625_010_CW000_-0.6570918560028076_-0.14736638963222504_0.8686606287956238.jpg\n",
      "Problem with file ../raw_data/images/testing/dunes/33.59350051879883_56.21183319091797_032_CW000_-0.3614765405654907_-0.0484321154654026_1.2393122911453247.jpg\n",
      "Problem with file ../raw_data/images/testing/dunes/31.878499221801757_57.08076629638672_013_CW000_-0.6958179473876953_0.582922101020813_1.327202558517456.jpg\n",
      "Problem with file ../raw_data/images/testing/dunes/32.788499450683595_63.42549819946289_02_CW000_-0.5832479596138_-0.22287534177303314_0.8822293877601624.jpg\n"
     ]
    },
    {
     "name": "stderr",
     "output_type": "stream",
     "text": [
      " 79%|███████▉  | 2626/3313 [02:05<00:38, 17.79it/s]"
     ]
    },
    {
     "name": "stdout",
     "output_type": "stream",
     "text": [
      "Problem with file ../raw_data/images/testing/dunes/44.91649856567383_70.92896423339843_033_CW000_-0.19007128477096558_-0.6595726013183594_1.8703441619873047.jpg\n",
      "Problem with file ../raw_data/images/testing/dunes/37.98550109863281_96.38704528808594_020_CW000_-0.36313843727111816_0.8414802551269531_1.4331268072128296.jpg\n",
      "Problem with file ../raw_data/images/testing/dunes/34.018498229980466_55.41149826049805_022_CW000_-0.815738320350647_0.06807229667901993_2.199172019958496.jpg\n",
      "Problem with file ../raw_data/images/testing/dunes/43.06749954223633_107.61078033447265_033_CW000_-0.16774529218673706_0.7544317245483398_2.0006778240203857.jpg\n"
     ]
    },
    {
     "name": "stderr",
     "output_type": "stream",
     "text": [
      " 79%|███████▉  | 2630/3313 [02:05<00:36, 18.49it/s]"
     ]
    },
    {
     "name": "stdout",
     "output_type": "stream",
     "text": [
      "Problem with file ../raw_data/images/testing/dunes/31.178500366210937_56.88063201904297_013_CW000_-0.21088147163391113_0.4786773920059204_0.9718106389045715.jpg\n",
      "Problem with file ../raw_data/images/testing/dunes/42.57349853515625_100.3535400390625_023_CW000_-0.7282792329788208_0.3506331145763397_1.7522379159927368.jpg\n",
      "Problem with file ../raw_data/images/testing/dunes/26.292500686645507_22.92749938964844_013_CW000_-0.5913152098655701_-0.5408315658569336_2.0535688400268555.jpg\n",
      "Problem with file ../raw_data/images/testing/dunes/26.3575008392334_40.476557922363284_022_CW000_0.10147184878587723_0.25305336713790894_1.401072382926941.jpg\n"
     ]
    },
    {
     "name": "stderr",
     "output_type": "stream",
     "text": [
      " 80%|███████▉  | 2634/3313 [02:05<00:36, 18.67it/s]"
     ]
    },
    {
     "name": "stdout",
     "output_type": "stream",
     "text": [
      "Problem with file ../raw_data/images/testing/dunes/40.92049865722656_77.0548812866211_022_CW000_-0.6934092044830322_0.29324617981910706_0.6616343855857849.jpg\n",
      "Problem with file ../raw_data/images/testing/dunes/40.79550018310547_77.0048812866211_030_CW000_-0.7503652572631836_0.5366021990776062_0.8278564810752869.jpg\n",
      "Problem with file ../raw_data/images/testing/dunes/29.230500411987304_17.207125091552733_010_CW000_-0.5320478081703186_-0.2118489146232605_1.8517783880233765.jpg\n",
      "Problem with file ../raw_data/images/testing/dunes/31.999501037597657_61.60762939453125_023_CW000_-0.9056329131126404_0.3107823431491852_5.024990558624268.jpg\n"
     ]
    },
    {
     "name": "stderr",
     "output_type": "stream",
     "text": [
      " 80%|███████▉  | 2638/3313 [02:05<00:35, 19.01it/s]"
     ]
    },
    {
     "name": "stdout",
     "output_type": "stream",
     "text": [
      "Problem with file ../raw_data/images/testing/dunes/38.535501098632814_96.53713531494141_02_CW000_0.13647308945655823_0.7535533308982849_1.2568947076797485.jpg\n",
      "Problem with file ../raw_data/images/testing/dunes/15.132499885559081_48.30750045776367_013_CW000_0.530726969242096_-0.27493077516555786_2.1112582683563232.jpg\n",
      "Problem with file ../raw_data/images/testing/dunes/44.34449920654297_109.70608673095703_03_CW000_-0.2641898989677429_0.6325899958610535_1.3895773887634277.jpg\n",
      "Problem with file ../raw_data/images/testing/dunes/25.73250045776367_40.476557922363284_032_CW000_0.12277072668075562_0.3527190387248993_1.4977598190307617.jpg\n"
     ]
    },
    {
     "name": "stderr",
     "output_type": "stream",
     "text": [
      " 80%|███████▉  | 2642/3313 [02:06<00:35, 18.66it/s]"
     ]
    },
    {
     "name": "stdout",
     "output_type": "stream",
     "text": [
      "Problem with file ../raw_data/images/testing/dunes/43.14249954223633_107.48572082519532_02_CW000_-0.23661687970161438_0.7380018830299377_2.0011441707611084.jpg\n",
      "Problem with file ../raw_data/images/testing/dunes/32.04950103759766_61.55762939453125_01_CW000_-0.9056329131126404_0.3107823431491852_5.024990558624268.jpg\n",
      "Problem with file ../raw_data/images/testing/dunes/26.257500457763673_40.90179595947266_023_CW000_-0.11016153544187546_-0.07586554437875748_1.2874208688735962.jpg\n",
      "Problem with file ../raw_data/images/testing/dunes/28.580500030517577_16.70649948120117_030_CW000_-0.3544507920742035_-0.29909002780914307_1.8752869367599487.jpg\n"
     ]
    },
    {
     "name": "stderr",
     "output_type": "stream",
     "text": [
      " 80%|███████▉  | 2646/3313 [02:06<00:35, 18.74it/s]"
     ]
    },
    {
     "name": "stdout",
     "output_type": "stream",
     "text": [
      "Problem with file ../raw_data/images/testing/dunes/20.816500854492187_16.78574905395508_013_CW000_-0.6643871068954468_-0.052440132945775986_0.6270217895507812.jpg\n",
      "Problem with file ../raw_data/images/testing/dunes/41.595499420166014_76.87980804443359_033_CW000_0.8368099927902222_0.060292404145002365_1.2634457349777222.jpg\n",
      "Problem with file ../raw_data/images/testing/dunes/44.294499206542966_109.70608673095703_023_CW000_-0.2641898989677429_0.6325899958610535_1.3895773887634277.jpg\n",
      "Problem with file ../raw_data/images/testing/dunes/31.55349998474121_57.35596771240235_022_CW000_-0.8319311738014221_0.4609866142272949_1.6326491832733154.jpg\n"
     ]
    },
    {
     "name": "stderr",
     "output_type": "stream",
     "text": [
      " 80%|███████▉  | 2650/3313 [02:06<00:35, 18.49it/s]"
     ]
    },
    {
     "name": "stdout",
     "output_type": "stream",
     "text": [
      "Problem with file ../raw_data/images/testing/dunes/33.393499755859374_56.08679275512695_031_CW000_-0.4501940608024597_-0.06743151694536209_1.1663837432861328.jpg\n",
      "Problem with file ../raw_data/images/testing/dunes/41.095499420166014_76.92984466552734_031_CW000_0.07071025669574738_-0.12174086272716522_0.6477588415145874.jpg\n",
      "Problem with file ../raw_data/images/testing/dunes/34.06849822998047_56.03674850463867_03_CW000_-0.47932302951812744_-0.4654006361961365_1.8566752672195435.jpg\n",
      "Problem with file ../raw_data/images/testing/dunes/21.066500091552733_17.08590087890625_033_CW000_-0.6570918560028076_-0.14736638963222504_0.8686606287956238.jpg\n"
     ]
    },
    {
     "name": "stderr",
     "output_type": "stream",
     "text": [
      " 80%|████████  | 2654/3313 [02:06<00:35, 18.76it/s]"
     ]
    },
    {
     "name": "stdout",
     "output_type": "stream",
     "text": [
      "Problem with file ../raw_data/images/testing/dunes/22.31750068664551_51.272498321533206_02_CW000_-0.7500596046447754_-0.4827286899089813_1.968056082725525.jpg\n",
      "Problem with file ../raw_data/images/testing/dunes/33.81850128173828_55.73662338256836_023_CW000_-0.8179576992988586_0.06272365152835846_1.8955152034759521.jpg\n",
      "Problem with file ../raw_data/images/testing/dunes/33.288499450683595_64.15084991455078_03_CW000_-0.10783100128173828_-0.27949056029319763_0.9294078350067139.jpg\n",
      "Problem with file ../raw_data/images/testing/dunes/25.73250045776367_40.42655792236328_030_CW000_0.12277072668075562_0.3527190387248993_1.4977598190307617.jpg\n"
     ]
    },
    {
     "name": "stderr",
     "output_type": "stream",
     "text": [
      " 80%|████████  | 2658/3313 [02:06<00:34, 18.75it/s]"
     ]
    },
    {
     "name": "stdout",
     "output_type": "stream",
     "text": [
      "Problem with file ../raw_data/images/testing/dunes/34.118500518798825_55.53654251098633_023_CW000_-0.8300598859786987_-0.011208529584109783_2.364896297454834.jpg\n",
      "Problem with file ../raw_data/images/testing/dunes/45.34150009155273_70.42857513427734_023_CW000_-0.1623912900686264_-0.6763166785240173_1.9462718963623047.jpg\n",
      "Problem with file ../raw_data/images/testing/dunes/20.59650077819824_34.35791549682617_033_CW000_-0.7789096832275391_-0.3169129192829132_3.3478753566741943.jpg\n",
      "Problem with file ../raw_data/images/testing/dunes/31.278500747680663_56.95569915771485_012_CW000_-0.37960392236709595_0.6079015135765076_0.8213202357292175.jpg\n"
     ]
    },
    {
     "name": "stderr",
     "output_type": "stream",
     "text": [
      " 80%|████████  | 2662/3313 [02:07<00:34, 18.68it/s]"
     ]
    },
    {
     "name": "stdout",
     "output_type": "stream",
     "text": [
      "Problem with file ../raw_data/images/testing/dunes/41.62049942016601_76.67974243164062_023_CW000_0.8180451989173889_0.17381803691387177_1.0682660341262817.jpg\n",
      "Problem with file ../raw_data/images/testing/dunes/34.018498229980466_56.011748504638675_022_CW000_-0.47932302951812744_-0.4654006361961365_1.8566752672195435.jpg\n",
      "Problem with file ../raw_data/images/testing/dunes/33.6385009765625_63.45049819946289_023_CW000_-0.5556339025497437_-0.1510927677154541_1.0892993211746216.jpg\n",
      "Problem with file ../raw_data/images/testing/dunes/31.828499221801756_56.60550155639648_030_CW000_-0.4771181344985962_0.6232045888900757_1.0944547653198242.jpg\n"
     ]
    },
    {
     "name": "stderr",
     "output_type": "stream",
     "text": [
      " 80%|████████  | 2666/3313 [02:07<00:34, 19.02it/s]"
     ]
    },
    {
     "name": "stdout",
     "output_type": "stream",
     "text": [
      "Problem with file ../raw_data/images/testing/dunes/43.542501068115236_107.4106689453125_03_CW000_-0.5084171891212463_0.6681925654411316_2.1849076747894287.jpg\n",
      "Problem with file ../raw_data/images/testing/dunes/44.81949920654297_109.53099670410157_010_CW000_-0.3621758818626404_0.6434014439582825_1.7163724899291992.jpg\n",
      "Problem with file ../raw_data/images/testing/dunes/31.499499130249024_62.05784683227539_021_CW000_-0.8613656163215637_0.3196846544742584_3.8689846992492676.jpg\n",
      "Problem with file ../raw_data/images/testing/dunes/33.388501739501955_64.2259017944336_02_CW000_-0.19145871698856354_-0.3099783658981323_0.959148108959198.jpg\n"
     ]
    },
    {
     "name": "stderr",
     "output_type": "stream",
     "text": [
      " 81%|████████  | 2670/3313 [02:07<00:33, 19.15it/s]"
     ]
    },
    {
     "name": "stdout",
     "output_type": "stream",
     "text": [
      "Problem with file ../raw_data/images/testing/dunes/33.91849975585937_55.93670806884766_023_CW000_-0.6213650703430176_-0.28967946767807007_1.766118049621582.jpg\n",
      "Problem with file ../raw_data/images/testing/dunes/44.64449844360352_109.50591430664062_03_CW000_-0.48043006658554077_0.602738618850708_1.76814866065979.jpg\n",
      "Problem with file ../raw_data/images/testing/dunes/44.46949996948242_109.58099670410157_032_CW000_-0.53426194190979_0.5676106810569763_1.6813966035842896.jpg\n",
      "Problem with file ../raw_data/images/testing/dunes/21.69250030517578_49.47249908447266_012_CW000_-0.5154982805252075_-0.7190988063812256_2.0214900970458984.jpg\n"
     ]
    },
    {
     "name": "stderr",
     "output_type": "stream",
     "text": [
      " 81%|████████  | 2674/3313 [02:07<00:33, 18.81it/s]"
     ]
    },
    {
     "name": "stdout",
     "output_type": "stream",
     "text": [
      "Problem with file ../raw_data/images/testing/dunes/38.560499572753905_96.03668518066407_032_CW000_0.16292287409305573_0.8041420578956604_1.3900864124298096.jpg\n",
      "Problem with file ../raw_data/images/testing/dunes/19.742500686645506_33.89187469482422_030_CW000_-0.8490555882453918_-0.13830071687698364_3.6207082271575928.jpg\n",
      "Problem with file ../raw_data/images/testing/dunes/20.54149971008301_16.91085090637207_00_CW000_-0.6630100011825562_0.3587871193885803_0.49719610810279846.jpg\n",
      "Problem with file ../raw_data/images/testing/dunes/20.86649932861328_16.93585090637207_031_CW000_-0.6532648205757141_0.08141060918569565_0.7499223351478577.jpg\n"
     ]
    },
    {
     "name": "stderr",
     "output_type": "stream",
     "text": [
      " 81%|████████  | 2678/3313 [02:08<00:33, 18.68it/s]"
     ]
    },
    {
     "name": "stdout",
     "output_type": "stream",
     "text": [
      "Problem with file ../raw_data/images/testing/dunes/43.76750030517578_107.110498046875_033_CW000_-0.5001820921897888_0.7152990102767944_2.6138482093811035.jpg\n",
      "Problem with file ../raw_data/images/testing/dunes/38.33550033569336_96.46204528808593_03_CW000_0.042895276099443436_0.8825951814651489_1.6916111707687378.jpg\n",
      "Problem with file ../raw_data/images/testing/dunes/33.86850128173828_55.861708068847655_00_CW000_-0.5138967037200928_-0.28403493762016296_1.619091510772705.jpg\n",
      "Problem with file ../raw_data/images/testing/dunes/41.07050094604492_76.8048080444336_00_CW000_0.26189205050468445_0.012752750888466835_0.5888503789901733.jpg\n"
     ]
    },
    {
     "name": "stderr",
     "output_type": "stream",
     "text": [
      " 81%|████████  | 2682/3313 [02:08<00:33, 18.84it/s]"
     ]
    },
    {
     "name": "stdout",
     "output_type": "stream",
     "text": [
      "Problem with file ../raw_data/images/testing/dunes/26.332500839233397_40.95185165405273_031_CW000_-0.12236502021551132_-0.17557546496391296_1.3277456760406494.jpg\n",
      "Problem with file ../raw_data/images/testing/dunes/20.266500854492186_16.410599136352538_030_CW000_-0.09725315868854523_0.20584911108016968_0.6866973638534546.jpg\n",
      "Problem with file ../raw_data/images/testing/dunes/31.303500747680665_57.20590057373047_00_CW000_-0.6411070823669434_0.6768450140953064_1.0373378992080688.jpg\n",
      "Problem with file ../raw_data/images/testing/dunes/20.846499633789062_34.05766830444336_013_CW000_-0.8638318777084351_-0.18350116908550262_3.409942150115967.jpg\n"
     ]
    },
    {
     "name": "stderr",
     "output_type": "stream",
     "text": [
      " 81%|████████  | 2686/3313 [02:08<00:33, 18.94it/s]"
     ]
    },
    {
     "name": "stdout",
     "output_type": "stream",
     "text": [
      "Problem with file ../raw_data/images/testing/dunes/20.36649932861328_16.36054916381836_032_CW000_-0.06521864980459213_0.15649478137493134_0.6092240214347839.jpg\n",
      "Problem with file ../raw_data/images/testing/dunes/20.891499328613282_16.510649108886717_020_CW000_-0.6154614686965942_-0.12207043915987015_0.682747483253479.jpg\n",
      "Problem with file ../raw_data/images/testing/dunes/26.307500457763673_40.50155792236328_03_CW000_0.10226726531982422_0.31261441111564636_1.3945128917694092.jpg\n",
      "Problem with file ../raw_data/images/testing/dunes/42.64850082397461_100.42857666015625_032_CW000_-0.7548223733901978_0.3328409492969513_1.837989091873169.jpg\n"
     ]
    },
    {
     "name": "stderr",
     "output_type": "stream",
     "text": [
      " 81%|████████  | 2690/3313 [02:08<00:33, 18.69it/s]"
     ]
    },
    {
     "name": "stdout",
     "output_type": "stream",
     "text": [
      "Problem with file ../raw_data/images/testing/dunes/33.03849868774414_64.07584991455079_020_CW000_-0.16106922924518585_0.08705172687768936_0.675915539264679.jpg\n",
      "Problem with file ../raw_data/images/testing/dunes/20.01749954223633_33.916874694824216_01_CW000_-0.8571401238441467_-0.14741413295269012_3.6080596446990967.jpg\n",
      "Problem with file ../raw_data/images/testing/dunes/38.560499572753905_96.13677520751953_032_CW000_0.1708187609910965_0.8070891499519348_1.4546841382980347.jpg\n",
      "Problem with file ../raw_data/images/testing/dunes/15.502499961853028_49.307499694824216_031_CW000_0.4089500904083252_-0.5863487124443054_2.01102352142334.jpg\n"
     ]
    },
    {
     "name": "stderr",
     "output_type": "stream",
     "text": [
      " 81%|████████▏ | 2694/3313 [02:08<00:32, 18.92it/s]"
     ]
    },
    {
     "name": "stdout",
     "output_type": "stream",
     "text": [
      "Problem with file ../raw_data/images/testing/dunes/31.974501037597655_62.03284683227539_030_CW000_-0.8226098418235779_0.16774742305278778_3.635343551635742.jpg\n",
      "Problem with file ../raw_data/images/testing/dunes/20.291500854492188_16.38554916381836_023_CW000_0.10661174356937408_0.23844900727272034_0.6602726578712463.jpg\n",
      "Problem with file ../raw_data/images/testing/dunes/33.968499755859376_56.03674850463867_03_CW000_-0.39543676376342773_-0.44409340620040894_1.715564250946045.jpg\n",
      "Problem with file ../raw_data/images/testing/dunes/44.94450149536133_109.25574951171875_01_CW000_-0.2859478294849396_0.6724535822868347_1.8539502620697021.jpg\n"
     ]
    },
    {
     "name": "stderr",
     "output_type": "stream",
     "text": [
      " 81%|████████▏ | 2698/3313 [02:09<00:32, 19.10it/s]"
     ]
    },
    {
     "name": "stdout",
     "output_type": "stream",
     "text": [
      "Problem with file ../raw_data/images/testing/dunes/21.066500091552733_16.6356990814209_031_CW000_-0.5446922779083252_-0.3825142979621887_1.0154786109924316.jpg\n",
      "Problem with file ../raw_data/images/testing/dunes/38.36049880981445_96.38704528808594_030_CW000_0.10158061981201172_0.8471601605415344_1.5373255014419556.jpg\n",
      "Problem with file ../raw_data/images/testing/dunes/33.31350173950195_64.12584991455078_032_CW000_-0.10447978973388672_-0.3968108594417572_0.9748221039772034.jpg\n",
      "Problem with file ../raw_data/images/testing/dunes/43.817500305175784_107.43572082519532_010_CW000_-0.5626519322395325_0.6359518766403198_2.296236038208008.jpg\n"
     ]
    },
    {
     "name": "stderr",
     "output_type": "stream",
     "text": [
      " 82%|████████▏ | 2702/3313 [02:09<00:32, 18.99it/s]"
     ]
    },
    {
     "name": "stdout",
     "output_type": "stream",
     "text": [
      "Problem with file ../raw_data/images/testing/dunes/26.001499557495116_7.901642990112305_032_CW000_-0.14519013464450836_-0.3576643168926239_1.1119623184204102.jpg\n",
      "Problem with file ../raw_data/images/testing/dunes/45.541500854492185_70.72880706787109_023_CW000_-0.13911786675453186_-0.6843159198760986_1.9456740617752075.jpg\n",
      "Problem with file ../raw_data/images/testing/dunes/44.394501495361325_109.15566711425781_021_CW000_-0.5832961797714233_0.5323303937911987_1.8591136932373047.jpg\n",
      "Problem with file ../raw_data/images/testing/dunes/19.717500305175783_33.7666259765625_03_CW000_-0.871794581413269_-0.09796477109193802_3.77341365814209.jpg\n"
     ]
    },
    {
     "name": "stderr",
     "output_type": "stream",
     "text": [
      " 82%|████████▏ | 2706/3313 [02:09<00:31, 19.12it/s]"
     ]
    },
    {
     "name": "stdout",
     "output_type": "stream",
     "text": [
      "Problem with file ../raw_data/images/testing/dunes/21.09650077819824_34.082750701904295_030_CW000_-0.8437021374702454_-0.23805595934391022_3.461379289627075.jpg\n",
      "Problem with file ../raw_data/images/testing/dunes/31.724499893188476_61.457585144042966_011_CW000_-0.9329142570495605_0.3001134395599365_5.67570686340332.jpg\n",
      "Problem with file ../raw_data/images/testing/dunes/31.299500274658204_61.95780258178711_021_CW000_-0.8739580512046814_0.38215383887290955_3.827754259109497.jpg\n",
      "Problem with file ../raw_data/images/testing/dunes/20.291500854492188_16.6856990814209_023_CW000_-0.3981883227825165_0.08185804635286331_0.6493476033210754.jpg\n"
     ]
    },
    {
     "name": "stderr",
     "output_type": "stream",
     "text": [
      " 82%|████████▏ | 2710/3313 [02:09<00:33, 18.26it/s]"
     ]
    },
    {
     "name": "stdout",
     "output_type": "stream",
     "text": [
      "Problem with file ../raw_data/images/testing/dunes/43.092499542236325_107.18555755615235_022_CW000_-0.34123143553733826_0.7120633125305176_2.0533828735351562.jpg\n",
      "Problem with file ../raw_data/images/testing/dunes/45.34150009155273_70.72880706787109_023_CW000_-0.16840766370296478_-0.6913437843322754_1.9870202541351318.jpg\n",
      "Problem with file ../raw_data/images/testing/dunes/43.39249877929687_107.18555755615235_022_CW000_-0.4740649163722992_0.689431369304657_2.2312939167022705.jpg\n",
      "Problem with file ../raw_data/images/testing/dunes/42.898501586914065_100.85372314453124_013_CW000_-0.653212308883667_0.5031079053878784_1.8249260187149048.jpg\n"
     ]
    },
    {
     "name": "stderr",
     "output_type": "stream",
     "text": [
      " 82%|████████▏ | 2714/3313 [02:09<00:33, 17.79it/s]"
     ]
    },
    {
     "name": "stdout",
     "output_type": "stream",
     "text": [
      "Problem with file ../raw_data/images/testing/dunes/43.21750183105469_107.5107208251953_013_CW000_-0.30510076880455017_0.7323349118232727_2.0478405952453613.jpg\n",
      "Problem with file ../raw_data/images/testing/dunes/42.67350082397461_101.1538330078125_023_CW000_-0.6646287441253662_0.21324422955513_1.3329226970672607.jpg\n",
      "Problem with file ../raw_data/images/testing/dunes/20.591500091552735_16.36054916381836_022_CW000_-0.23219582438468933_0.16233600676059723_0.5211135149002075.jpg\n",
      "Problem with file ../raw_data/images/testing/dunes/42.57349853515625_101.1288330078125_022_CW000_-0.5958533883094788_0.17627762258052826_1.1922990083694458.jpg\n"
     ]
    },
    {
     "name": "stderr",
     "output_type": "stream",
     "text": [
      " 82%|████████▏ | 2718/3313 [02:10<00:33, 17.76it/s]"
     ]
    },
    {
     "name": "stdout",
     "output_type": "stream",
     "text": [
      "Problem with file ../raw_data/images/testing/dunes/20.941499328613283_16.73574905395508_01_CW000_-0.6857670545578003_-0.05471138283610344_0.7159388065338135.jpg\n",
      "Problem with file ../raw_data/images/testing/dunes/43.79250030517578_107.3606689453125_021_CW000_-0.5513802170753479_0.6567386388778687_2.3800370693206787.jpg\n",
      "Problem with file ../raw_data/images/testing/dunes/20.087500381469727_45.59250183105469_022_CW000_0.03911877050995827_-0.7461552619934082_2.172156810760498.jpg\n",
      "Problem with file ../raw_data/images/testing/dunes/42.57349853515625_100.42857666015625_022_CW000_-0.7186414003372192_0.34517228603363037_1.6851884126663208.jpg\n"
     ]
    },
    {
     "name": "stderr",
     "output_type": "stream",
     "text": [
      " 82%|████████▏ | 2722/3313 [02:10<00:34, 17.09it/s]"
     ]
    },
    {
     "name": "stdout",
     "output_type": "stream",
     "text": [
      "Problem with file ../raw_data/images/testing/dunes/31.57849998474121_57.230900573730466_011_CW000_-0.7503873705863953_0.5718626976013184_1.521544337272644.jpg\n",
      "Problem with file ../raw_data/images/testing/dunes/42.59849853515625_100.928759765625_012_CW000_-0.6342736482620239_0.24210113286972046_1.2769869565963745.jpg\n",
      "Problem with file ../raw_data/images/testing/dunes/44.31949920654297_108.98050231933594_012_CW000_-0.5852670073509216_0.5274772644042969_1.8723646402359009.jpg\n",
      "Problem with file ../raw_data/images/testing/dunes/42.34850158691406_101.22886962890625_032_CW000_-0.3371007442474365_0.1406775414943695_1.0607670545578003.jpg\n"
     ]
    },
    {
     "name": "stderr",
     "output_type": "stream",
     "text": [
      " 82%|████████▏ | 2726/3313 [02:10<00:33, 17.44it/s]"
     ]
    },
    {
     "name": "stdout",
     "output_type": "stream",
     "text": [
      "Problem with file ../raw_data/images/testing/dunes/33.91849975585937_55.88670806884765_021_CW000_-0.6213650703430176_-0.28967946767807007_1.766118049621582.jpg\n",
      "Problem with file ../raw_data/images/testing/dunes/45.09150085449219_70.30350036621094_02_CW000_-0.17122940719127655_-0.6595162749290466_1.8802216053009033.jpg\n",
      "Problem with file ../raw_data/images/testing/dunes/42.923501586914064_100.42857666015625_02_CW000_-0.7145716547966003_0.401710569858551_1.8731719255447388.jpg\n",
      "Problem with file ../raw_data/images/testing/dunes/38.46050109863281_96.46204528808593_033_CW000_0.16036121547222137_0.783257007598877_1.3496683835983276.jpg\n"
     ]
    },
    {
     "name": "stderr",
     "output_type": "stream",
     "text": [
      " 82%|████████▏ | 2730/3313 [02:10<00:35, 16.58it/s]"
     ]
    },
    {
     "name": "stdout",
     "output_type": "stream",
     "text": [
      "Problem with file ../raw_data/images/testing/dunes/33.1135009765625_63.57559814453125_030_CW000_-0.5385022163391113_-0.38764768838882446_0.6727813482284546.jpg\n",
      "Problem with file ../raw_data/images/testing/dunes/45.541500854492185_70.27850036621093_021_CW000_-0.14054307341575623_-0.6582027077674866_1.8720004558563232.jpg\n",
      "Problem with file ../raw_data/images/testing/dunes/33.71849899291992_56.03674850463867_023_CW000_-0.2964558005332947_-0.33702805638313293_1.4916207790374756.jpg\n",
      "Problem with file ../raw_data/images/testing/dunes/42.34850158691406_100.50361328125_031_CW000_-0.5571810603141785_0.37100932002067566_1.3955365419387817.jpg\n"
     ]
    },
    {
     "name": "stderr",
     "output_type": "stream",
     "text": [
      " 83%|████████▎ | 2734/3313 [02:11<00:33, 17.06it/s]"
     ]
    },
    {
     "name": "stdout",
     "output_type": "stream",
     "text": [
      "Problem with file ../raw_data/images/testing/dunes/19.812499237060546_46.86750106811523_011_CW000_-0.11801455169916153_-0.8162751793861389_2.180741548538208.jpg\n",
      "Problem with file ../raw_data/images/testing/dunes/20.591500091552735_16.43559913635254_021_CW000_-0.3417208790779114_0.19860801100730896_0.592272937297821.jpg\n",
      "Problem with file ../raw_data/images/testing/dunes/25.632500076293944_40.70167694091797_033_CW000_0.13406191766262054_0.19482681155204773_1.4763489961624146.jpg\n",
      "Problem with file ../raw_data/images/testing/dunes/20.591500091552735_16.660699081420898_022_CW000_-0.6486546993255615_0.08520163595676422_0.6117581725120544.jpg\n"
     ]
    },
    {
     "name": "stderr",
     "output_type": "stream",
     "text": [
      " 83%|████████▎ | 2738/3313 [02:11<00:33, 17.35it/s]"
     ]
    },
    {
     "name": "stdout",
     "output_type": "stream",
     "text": [
      "Problem with file ../raw_data/images/testing/dunes/19.742500686645506_33.94187469482422_032_CW000_-0.8490555882453918_-0.13830071687698364_3.6207082271575928.jpg\n",
      "Problem with file ../raw_data/images/testing/dunes/40.39549865722656_76.0045379638672_030_CW000_-0.3332139849662781_0.8002609014511108_1.0968306064605713.jpg\n",
      "Problem with file ../raw_data/images/testing/dunes/15.4524995803833_50.05750045776367_013_CW000_0.506493330001831_-0.4213229715824127_1.6316087245941162.jpg\n",
      "Problem with file ../raw_data/images/testing/dunes/34.14350051879883_55.861708068847655_010_CW000_-0.7659274935722351_-0.23762226104736328_2.1639156341552734.jpg\n"
     ]
    },
    {
     "name": "stderr",
     "output_type": "stream",
     "text": [
      " 83%|████████▎ | 2742/3313 [02:11<00:32, 17.65it/s]"
     ]
    },
    {
     "name": "stdout",
     "output_type": "stream",
     "text": [
      "Problem with file ../raw_data/images/testing/dunes/28.580500030517577_16.781499481201173_033_CW000_-0.3544507920742035_-0.29909002780914307_1.8752869367599487.jpg\n",
      "Problem with file ../raw_data/images/testing/dunes/33.1635009765625_64.3009536743164_011_CW000_-0.4736398756504059_0.1598576307296753_0.7752802968025208.jpg\n",
      "Problem with file ../raw_data/images/testing/dunes/44.794499206542966_109.2056671142578_023_CW000_-0.30368950963020325_0.6769421696662903_1.9560052156448364.jpg\n",
      "Problem with file ../raw_data/images/testing/dunes/42.398501586914065_100.3035400390625_011_CW000_-0.6265398859977722_0.3935728371143341_1.552695870399475.jpg\n"
     ]
    },
    {
     "name": "stderr",
     "output_type": "stream",
     "text": [
      " 83%|████████▎ | 2746/3313 [02:11<00:34, 16.51it/s]"
     ]
    },
    {
     "name": "stdout",
     "output_type": "stream",
     "text": [
      "Problem with file ../raw_data/images/testing/dunes/42.7734992980957_100.7536865234375_023_CW000_-0.7328791618347168_0.36043301224708557_1.7636442184448242.jpg\n",
      "Problem with file ../raw_data/images/testing/dunes/43.39249877929687_107.26060943603515_021_CW000_-0.460286021232605_0.6989418268203735_2.2189183235168457.jpg\n",
      "Problem with file ../raw_data/images/testing/dunes/33.49349822998047_55.861708068847655_030_CW000_-0.426584392786026_-0.18486425280570984_1.295327067375183.jpg\n",
      "Problem with file ../raw_data/images/testing/dunes/31.52849998474121_56.90569915771484_030_CW000_-0.4845132827758789_0.7173264026641846_0.9956381916999817.jpg\n"
     ]
    },
    {
     "name": "stderr",
     "output_type": "stream",
     "text": [
      " 83%|████████▎ | 2750/3313 [02:12<00:34, 16.51it/s]"
     ]
    },
    {
     "name": "stdout",
     "output_type": "stream",
     "text": [
      "Problem with file ../raw_data/images/testing/dunes/41.57050094604492_76.42966918945312_01_CW000_0.6116629838943481_-0.02190515398979187_0.9145123958587646.jpg\n",
      "Problem with file ../raw_data/images/testing/dunes/40.89549865722656_76.90484466552735_030_CW000_-0.45483413338661194_0.18503020703792572_0.520279049873352.jpg\n",
      "Problem with file ../raw_data/images/testing/dunes/44.46949996948242_109.53099670410157_030_CW000_-0.53426194190979_0.5676106810569763_1.6813966035842896.jpg\n",
      "Problem with file ../raw_data/images/testing/dunes/41.57050094604492_76.62974243164062_01_CW000_0.7433007955551147_0.08164471387863159_1.0936511754989624.jpg\n"
     ]
    },
    {
     "name": "stderr",
     "output_type": "stream",
     "text": [
      " 83%|████████▎ | 2754/3313 [02:12<00:32, 17.11it/s]"
     ]
    },
    {
     "name": "stdout",
     "output_type": "stream",
     "text": [
      "Problem with file ../raw_data/images/testing/dunes/41.29550018310547_77.1799102783203_033_CW000_0.4720132350921631_0.00903276726603508_0.6998651027679443.jpg\n",
      "Problem with file ../raw_data/images/testing/dunes/38.63549957275391_96.43704528808594_02_CW000_0.12886519730091095_0.7174606919288635_1.1566250324249268.jpg\n",
      "Problem with file ../raw_data/images/testing/dunes/42.398501586914065_101.1288330078125_012_CW000_-0.36165499687194824_0.17034883797168732_1.0835613012313843.jpg\n",
      "Problem with file ../raw_data/images/testing/dunes/44.26949920654297_108.98050231933594_032_CW000_-0.5852670073509216_0.5274772644042969_1.8723646402359009.jpg\n"
     ]
    },
    {
     "name": "stderr",
     "output_type": "stream",
     "text": [
      " 83%|████████▎ | 2758/3313 [02:12<00:31, 17.44it/s]"
     ]
    },
    {
     "name": "stdout",
     "output_type": "stream",
     "text": [
      "Problem with file ../raw_data/images/testing/dunes/33.438500213623044_63.82570190429688_022_CW000_-0.5527076721191406_-0.28333184123039246_0.8531238436698914.jpg\n",
      "Problem with file ../raw_data/images/testing/dunes/15.102500343322754_49.70750122070312_031_CW000_0.631294310092926_-0.5291854739189148_1.0608407258987427.jpg\n",
      "Problem with file ../raw_data/images/testing/dunes/20.871499633789064_34.082750701904295_00_CW000_-0.8393993377685547_-0.23280617594718933_3.392848014831543.jpg\n",
      "Problem with file ../raw_data/images/testing/dunes/42.97350006103515_100.40357666015625_021_CW000_-0.6404752135276794_0.5131795406341553_1.9527767896652222.jpg\n"
     ]
    },
    {
     "name": "stderr",
     "output_type": "stream",
     "text": [
      " 83%|████████▎ | 2762/3313 [02:12<00:31, 17.54it/s]"
     ]
    },
    {
     "name": "stdout",
     "output_type": "stream",
     "text": [
      "Problem with file ../raw_data/images/testing/dunes/26.032499694824217_40.92685165405273_030_CW000_-0.0525822676718235_-0.05969373881816864_1.2852734327316284.jpg\n",
      "Problem with file ../raw_data/images/testing/dunes/31.824500274658202_61.23250045776367_010_CW000_-0.9337172508239746_0.3349795639514923_5.970757484436035.jpg\n",
      "Problem with file ../raw_data/images/testing/dunes/31.70350036621094_56.95569915771485_02_CW000_-0.483203262090683_0.7090615630149841_1.1020348072052002.jpg\n",
      "Problem with file ../raw_data/images/testing/dunes/31.724499893188476_61.23250045776367_010_CW000_-0.9407658576965332_0.3187292218208313_6.037672996520996.jpg\n"
     ]
    },
    {
     "name": "stderr",
     "output_type": "stream",
     "text": [
      " 83%|████████▎ | 2766/3313 [02:13<00:33, 16.55it/s]"
     ]
    },
    {
     "name": "stdout",
     "output_type": "stream",
     "text": [
      "Problem with file ../raw_data/images/testing/dunes/43.21750183105469_107.3356689453125_010_CW000_-0.33974334597587585_0.7245656251907349_2.0801100730895996.jpg\n",
      "Problem with file ../raw_data/images/testing/dunes/25.707500076293947_40.476557922363284_02_CW000_0.09549535065889359_0.3240325152873993_1.4849518537521362.jpg\n",
      "Problem with file ../raw_data/images/testing/dunes/25.807500457763673_40.776736450195315_02_CW000_0.1265324503183365_0.15716145932674408_1.4407179355621338.jpg\n",
      "Problem with file ../raw_data/images/testing/dunes/20.66650047302246_16.81080093383789_030_CW000_-0.6723994016647339_0.12616480886936188_0.5599585771560669.jpg\n"
     ]
    },
    {
     "name": "stderr",
     "output_type": "stream",
     "text": [
      " 84%|████████▎ | 2770/3313 [02:13<00:31, 17.07it/s]"
     ]
    },
    {
     "name": "stdout",
     "output_type": "stream",
     "text": [
      "Problem with file ../raw_data/images/testing/dunes/28.630500030517577_16.70649948120117_010_CW000_-0.3544507920742035_-0.29909002780914307_1.8752869367599487.jpg\n",
      "Problem with file ../raw_data/images/testing/dunes/32.7634994506836_63.925749969482425_012_CW000_-0.5111583471298218_0.3842156231403351_0.778876543045044.jpg\n",
      "Problem with file ../raw_data/images/testing/dunes/45.56650085449219_70.90396423339844_012_CW000_-0.1376262903213501_-0.6878644824028015_1.9643235206604004.jpg\n",
      "Problem with file ../raw_data/images/testing/dunes/31.57849998474121_56.93069915771484_011_CW000_-0.4845132827758789_0.7173264026641846_0.9956381916999817.jpg\n"
     ]
    },
    {
     "name": "stderr",
     "output_type": "stream",
     "text": [
      " 84%|████████▎ | 2774/3313 [02:13<00:31, 17.23it/s]"
     ]
    },
    {
     "name": "stdout",
     "output_type": "stream",
     "text": [
      "Problem with file ../raw_data/images/testing/dunes/15.702499771118164_49.50750045776367_031_CW000_0.18674372136592865_-0.6197118759155273_1.6730375289916992.jpg\n",
      "Problem with file ../raw_data/images/testing/dunes/33.58849868774414_63.725650024414065_02_CW000_-0.6641709208488464_-0.1211867555975914_0.9556662440299988.jpg\n",
      "Problem with file ../raw_data/images/testing/dunes/33.518498229980466_55.53654251098633_023_CW000_-0.783058762550354_0.30442818999290466_1.43746817111969.jpg\n",
      "Problem with file ../raw_data/images/testing/dunes/43.12349853515625_100.77872314453126_00_CW000_-0.4079539477825165_0.7680480480194092_2.133735179901123.jpg\n"
     ]
    },
    {
     "name": "stderr",
     "output_type": "stream",
     "text": [
      " 84%|████████▍ | 2778/3313 [02:13<00:30, 17.36it/s]"
     ]
    },
    {
     "name": "stdout",
     "output_type": "stream",
     "text": [
      "Problem with file ../raw_data/images/testing/dunes/20.34150085449219_16.46059913635254_02_CW000_-0.09725315868854523_0.20584911108016968_0.6866973638534546.jpg\n",
      "Problem with file ../raw_data/images/testing/dunes/40.470498657226564_76.65474243164063_02_CW000_-0.7288605570793152_0.6054867506027222_1.2320246696472168.jpg\n",
      "Problem with file ../raw_data/images/testing/dunes/42.7734992980957_100.47861328125_020_CW000_-0.7477524280548096_0.3641163110733032_1.9214640855789185.jpg\n",
      "Problem with file ../raw_data/images/testing/dunes/45.166499328613284_70.45365753173829_010_CW000_-0.16307269036769867_-0.6771461963653564_1.9460620880126953.jpg\n"
     ]
    },
    {
     "name": "stderr",
     "output_type": "stream",
     "text": [
      " 84%|████████▍ | 2782/3313 [02:13<00:29, 18.24it/s]"
     ]
    },
    {
     "name": "stdout",
     "output_type": "stream",
     "text": [
      "Problem with file ../raw_data/images/testing/dunes/40.567501831054685_101.79249877929688_022_CW000_0.33976122736930847_0.22724643349647522_1.1576907634735107.jpg\n",
      "Problem with file ../raw_data/images/testing/dunes/14.657499885559082_48.08249969482422_02_CW000_0.773026704788208_-0.16512669622898102_1.1143494844436646.jpg\n",
      "Problem with file ../raw_data/images/testing/dunes/20.641500091552736_16.73574905395508_01_CW000_-0.7230864763259888_-0.0019386454951018095_0.599372148513794.jpg\n",
      "Problem with file ../raw_data/images/testing/dunes/25.95149917602539_7.851642990112305_010_CW000_-0.12161245197057724_-0.3521067798137665_1.071845293045044.jpg\n"
     ]
    },
    {
     "name": "stderr",
     "output_type": "stream",
     "text": [
      " 84%|████████▍ | 2786/3313 [02:14<00:28, 18.78it/s]"
     ]
    },
    {
     "name": "stdout",
     "output_type": "stream",
     "text": [
      "Problem with file ../raw_data/images/testing/dunes/15.227499771118165_49.60749893188476_021_CW000_0.5329304337501526_-0.542854368686676_1.3357374668121338.jpg\n",
      "Problem with file ../raw_data/images/testing/dunes/34.018498229980466_56.03674850463867_023_CW000_-0.47932302951812744_-0.4654006361961365_1.8566752672195435.jpg\n",
      "Problem with file ../raw_data/images/testing/dunes/26.082499694824218_40.87679595947266_012_CW000_-0.026449987664818764_0.0108346501365304_1.2878034114837646.jpg\n",
      "Problem with file ../raw_data/images/testing/dunes/20.36649932861328_16.86080093383789_032_CW000_-0.599555253982544_0.043672915548086166_0.5805388689041138.jpg\n"
     ]
    },
    {
     "name": "stderr",
     "output_type": "stream",
     "text": [
      " 84%|████████▍ | 2790/3313 [02:14<00:27, 19.04it/s]"
     ]
    },
    {
     "name": "stdout",
     "output_type": "stream",
     "text": [
      "Problem with file ../raw_data/images/testing/dunes/31.728500747680663_57.030766296386716_031_CW000_-0.6230229735374451_0.6582323312759399_1.2822920083999634.jpg\n",
      "Problem with file ../raw_data/images/testing/dunes/31.628500366210936_56.80563201904297_030_CW000_-0.4168691039085388_0.7052213549613953_1.0547984838485718.jpg\n",
      "Problem with file ../raw_data/images/testing/dunes/14.982500457763672_48.30750045776367_033_CW000_0.5143918395042419_-0.26547548174858093_2.101520299911499.jpg\n",
      "Problem with file ../raw_data/images/testing/dunes/33.53849868774414_63.70065002441406_021_CW000_-0.6641709208488464_-0.1211867555975914_0.9556662440299988.jpg\n"
     ]
    },
    {
     "name": "stderr",
     "output_type": "stream",
     "text": [
      " 84%|████████▍ | 2794/3313 [02:14<00:27, 18.92it/s]"
     ]
    },
    {
     "name": "stdout",
     "output_type": "stream",
     "text": [
      "Problem with file ../raw_data/images/testing/dunes/20.316500854492187_16.46059913635254_012_CW000_-0.09725315868854523_0.20584911108016968_0.6866973638534546.jpg\n",
      "Problem with file ../raw_data/images/testing/dunes/38.060499572753905_96.11177520751953_031_CW000_-0.3402532637119293_0.8606117367744446_1.308220386505127.jpg\n",
      "Problem with file ../raw_data/images/testing/dunes/43.12349853515625_100.47861328125_00_CW000_-0.4791315197944641_0.6866766810417175_2.013192653656006.jpg\n",
      "Problem with file ../raw_data/images/testing/dunes/32.81350173950195_64.3009536743164_031_CW000_-0.577610969543457_0.6462551951408386_0.7555250525474548.jpg\n"
     ]
    },
    {
     "name": "stderr",
     "output_type": "stream",
     "text": [
      " 84%|████████▍ | 2798/3313 [02:14<00:27, 19.06it/s]"
     ]
    },
    {
     "name": "stdout",
     "output_type": "stream",
     "text": [
      "Problem with file ../raw_data/images/testing/dunes/44.71950073242188_109.18066711425782_012_CW000_-0.36131688952445984_0.6624869704246521_1.9650561809539795.jpg\n",
      "Problem with file ../raw_data/images/testing/dunes/44.76949920654297_109.40583190917968_033_CW000_-0.33580848574638367_0.6632636785507202_1.8371663093566895.jpg\n",
      "Problem with file ../raw_data/images/testing/dunes/41.595499420166014_76.1795669555664_033_CW000_0.38369303941726685_-0.13137894868850708_0.8038560152053833.jpg\n",
      "Problem with file ../raw_data/images/testing/dunes/33.2634994506836_63.550550079345705_013_CW000_-0.7278525829315186_-0.4196597933769226_0.7802976369857788.jpg\n"
     ]
    },
    {
     "name": "stderr",
     "output_type": "stream",
     "text": [
      " 85%|████████▍ | 2802/3313 [02:15<00:27, 18.81it/s]"
     ]
    },
    {
     "name": "stdout",
     "output_type": "stream",
     "text": [
      "Problem with file ../raw_data/images/testing/dunes/38.36049880981445_96.13677520751953_032_CW000_0.051238764077425_0.8677064776420593_1.4141662120819092.jpg\n",
      "Problem with file ../raw_data/images/testing/dunes/31.44950065612793_61.98280258178711_02_CW000_-0.8800142407417297_0.34601882100105286_3.980861186981201.jpg\n",
      "Problem with file ../raw_data/images/testing/dunes/33.6635009765625_63.60059814453125_011_CW000_-0.5289808511734009_-0.16425897181034088_1.0264666080474854.jpg\n",
      "Problem with file ../raw_data/images/testing/dunes/31.828499221801756_57.230900573730466_031_CW000_-0.7824859023094177_0.48101377487182617_1.7364662885665894.jpg\n"
     ]
    },
    {
     "name": "stderr",
     "output_type": "stream",
     "text": [
      " 85%|████████▍ | 2806/3313 [02:15<00:27, 18.60it/s]"
     ]
    },
    {
     "name": "stdout",
     "output_type": "stream",
     "text": [
      "Problem with file ../raw_data/images/testing/dunes/20.516499710083007_17.11095085144043_010_CW000_-0.410241961479187_0.5179249048233032_0.5145276784896851.jpg\n",
      "Problem with file ../raw_data/images/testing/dunes/33.53849868774414_64.12584991455078_022_CW000_-0.3980640470981598_-0.3934464454650879_1.0651755332946777.jpg\n",
      "Problem with file ../raw_data/images/testing/dunes/43.692501831054685_107.18555755615235_022_CW000_-0.5445125102996826_0.6801014542579651_2.526923656463623.jpg\n",
      "Problem with file ../raw_data/images/testing/dunes/25.087500381469727_26.822499465942382_022_CW000_-0.9027831554412842_-0.07703263312578201_2.3295607566833496.jpg\n"
     ]
    },
    {
     "name": "stderr",
     "output_type": "stream",
     "text": [
      " 85%|████████▍ | 2810/3313 [02:15<00:27, 18.50it/s]"
     ]
    },
    {
     "name": "stdout",
     "output_type": "stream",
     "text": [
      "Problem with file ../raw_data/images/testing/dunes/20.49149971008301_16.53564910888672_021_CW000_-0.3883780241012573_0.1885625123977661_0.6620272397994995.jpg\n",
      "Problem with file ../raw_data/images/testing/dunes/45.46649856567383_70.30350036621094_012_CW000_-0.154693141579628_-0.664530873298645_1.9085493087768555.jpg\n",
      "Problem with file ../raw_data/images/testing/dunes/20.99149971008301_17.13595085144043_021_CW000_-0.5551247000694275_-0.09763241559267044_0.9070002436637878.jpg\n",
      "Problem with file ../raw_data/images/testing/dunes/25.757500457763673_40.42655792236328_020_CW000_0.12277072668075562_0.3527190387248993_1.4977598190307617.jpg\n"
     ]
    },
    {
     "name": "stderr",
     "output_type": "stream",
     "text": [
      " 85%|████████▍ | 2814/3313 [02:15<00:26, 18.77it/s]"
     ]
    },
    {
     "name": "stdout",
     "output_type": "stream",
     "text": [
      "Problem with file ../raw_data/images/testing/dunes/42.923501586914064_100.77872314453126_00_CW000_-0.653212308883667_0.5031079053878784_1.8249260187149048.jpg\n",
      "Problem with file ../raw_data/images/testing/dunes/41.595499420166014_76.35464019775391_032_CW000_0.5777603387832642_-0.006812931038439274_0.7931641340255737.jpg\n",
      "Problem with file ../raw_data/images/testing/dunes/33.743498992919925_55.361498260498045_010_CW000_-0.8225076198577881_0.2032286822795868_1.8250418901443481.jpg\n",
      "Problem with file ../raw_data/images/testing/dunes/33.91849975585937_55.96174850463867_020_CW000_-0.39543676376342773_-0.44409340620040894_1.715564250946045.jpg\n"
     ]
    },
    {
     "name": "stderr",
     "output_type": "stream",
     "text": [
      " 85%|████████▌ | 2818/3313 [02:15<00:28, 17.67it/s]"
     ]
    },
    {
     "name": "stdout",
     "output_type": "stream",
     "text": [
      "Problem with file ../raw_data/images/testing/dunes/43.49250106811523_107.71083221435546_023_CW000_-0.46071723103523254_0.6431394219398499_1.8604093790054321.jpg\n",
      "Problem with file ../raw_data/images/testing/dunes/19.587500381469727_45.86750106811523_021_CW000_0.04421413317322731_-0.7449430227279663_2.2413136959075928.jpg\n",
      "Problem with file ../raw_data/images/testing/dunes/43.092499542236325_107.28560943603516_022_CW000_-0.3239474892616272_0.7198408842086792_2.048227548599243.jpg\n",
      "Problem with file ../raw_data/images/testing/dunes/20.696499252319335_34.28291549682617_030_CW000_-0.7798686027526855_-0.32205328345298767_3.3784804344177246.jpg\n"
     ]
    },
    {
     "name": "stderr",
     "output_type": "stream",
     "text": [
      " 85%|████████▌ | 2822/3313 [02:16<00:27, 17.62it/s]"
     ]
    },
    {
     "name": "stdout",
     "output_type": "stream",
     "text": [
      "Problem with file ../raw_data/images/testing/dunes/28.880499267578124_17.282125091552736_033_CW000_-0.4729827046394348_-0.23391593992710114_1.785662055015564.jpg\n",
      "Problem with file ../raw_data/images/testing/dunes/26.032499694824217_40.326498413085936_030_CW000_0.17214055359363556_0.4323449730873108_1.5145550966262817.jpg\n",
      "Problem with file ../raw_data/images/testing/dunes/25.682500076293945_40.97685165405274_012_CW000_0.14773139357566833_0.05112936347723007_1.4334502220153809.jpg\n",
      "Problem with file ../raw_data/images/testing/dunes/32.73849945068359_64.3509536743164_023_CW000_-0.501689612865448_0.6559579968452454_0.7979852557182312.jpg\n"
     ]
    },
    {
     "name": "stderr",
     "output_type": "stream",
     "text": [
      " 85%|████████▌ | 2826/3313 [02:16<00:27, 17.57it/s]"
     ]
    },
    {
     "name": "stdout",
     "output_type": "stream",
     "text": [
      "Problem with file ../raw_data/images/testing/dunes/20.616500091552734_16.33554916381836_011_CW000_-0.23219582438468933_0.16233600676059723_0.5211135149002075.jpg\n",
      "Problem with file ../raw_data/images/testing/dunes/43.11749954223633_107.13555755615235_010_CW000_-0.34123143553733826_0.7120633125305176_2.0533828735351562.jpg\n",
      "Problem with file ../raw_data/images/testing/dunes/19.8924991607666_33.99199905395508_010_CW000_-0.8323107957839966_-0.17058706283569336_3.5404322147369385.jpg\n",
      "Problem with file ../raw_data/images/testing/dunes/19.567499923706055_33.7666259765625_023_CW000_-0.8629893064498901_-0.09205415844917297_3.7333590984344482.jpg\n"
     ]
    },
    {
     "name": "stderr",
     "output_type": "stream",
     "text": [
      " 85%|████████▌ | 2830/3313 [02:16<00:29, 16.43it/s]"
     ]
    },
    {
     "name": "stdout",
     "output_type": "stream",
     "text": [
      "Problem with file ../raw_data/images/testing/dunes/28.60550003051758_17.031874465942384_021_CW000_-0.3906416594982147_-0.2960372567176819_1.8671456575393677.jpg\n",
      "Problem with file ../raw_data/images/testing/dunes/38.560499572753905_96.06168518066406_033_CW000_0.16292287409305573_0.8041420578956604_1.3900864124298096.jpg\n",
      "Problem with file ../raw_data/images/testing/dunes/43.442498779296876_107.61078033447265_03_CW000_-0.4149738848209381_0.6829695701599121_1.9696263074874878.jpg\n",
      "Problem with file ../raw_data/images/testing/dunes/15.277499771118164_49.90749816894531_01_CW000_0.574704647064209_-0.41313567757606506_1.375328779220581.jpg\n"
     ]
    },
    {
     "name": "stderr",
     "output_type": "stream",
     "text": [
      "\r",
      " 85%|████████▌ | 2832/3313 [02:16<00:32, 14.93it/s]"
     ]
    },
    {
     "name": "stdout",
     "output_type": "stream",
     "text": [
      "Problem with file ../raw_data/images/testing/dunes/33.468499755859376_56.06179275512695_00_CW000_-0.4501940608024597_-0.06743151694536209_1.1663837432861328.jpg\n",
      "Problem with file ../raw_data/images/testing/dunes/15.552499961853027_49.757501220703126_013_CW000_0.3321518301963806_-0.6067373752593994_1.5844863653182983.jpg\n",
      "Problem with file ../raw_data/images/testing/dunes/43.667501831054686_107.3356689453125_030_CW000_-0.5689128041267395_0.6423789262771606_2.355210304260254.jpg\n"
     ]
    },
    {
     "name": "stderr",
     "output_type": "stream",
     "text": [
      " 86%|████████▌ | 2836/3313 [02:17<00:30, 15.82it/s]"
     ]
    },
    {
     "name": "stdout",
     "output_type": "stream",
     "text": [
      "Problem with file ../raw_data/images/testing/dunes/40.820500183105466_76.97984466552734_023_CW000_-0.6352092027664185_0.5760141611099243_0.6418247818946838.jpg\n",
      "Problem with file ../raw_data/images/testing/dunes/43.667501831054686_107.13555755615235_030_CW000_-0.5445125102996826_0.6801014542579651_2.526923656463623.jpg\n",
      "Problem with file ../raw_data/images/testing/dunes/38.11049957275391_95.8364974975586_012_CW000_-0.38617706298828125_0.8664689064025879_1.3352460861206055.jpg\n",
      "Problem with file ../raw_data/images/testing/dunes/43.39249877929687_107.71083221435546_023_CW000_-0.3814745247364044_0.6767218708992004_1.8504204750061035.jpg\n"
     ]
    },
    {
     "name": "stderr",
     "output_type": "stream",
     "text": [
      " 86%|████████▌ | 2840/3313 [02:17<00:28, 16.76it/s]"
     ]
    },
    {
     "name": "stdout",
     "output_type": "stream",
     "text": [
      "Problem with file ../raw_data/images/testing/dunes/38.618500518798825_67.99261016845703_022_CW000_-0.9401986598968506_-0.07695747911930084_0.497111052274704.jpg\n",
      "Problem with file ../raw_data/images/testing/dunes/25.93249931335449_40.92685165405273_030_CW000_0.0036399178206920624_-0.014897942543029785_1.296105146408081.jpg\n",
      "Problem with file ../raw_data/images/testing/dunes/38.61049957275391_95.8364974975586_012_CW000_0.23360179364681244_0.7051487565040588_1.2659376859664917.jpg\n",
      "Problem with file ../raw_data/images/testing/dunes/45.59150085449219_70.6538070678711_00_CW000_-0.13911786675453186_-0.6843159198760986_1.9456740617752075.jpg\n"
     ]
    },
    {
     "name": "stderr",
     "output_type": "stream",
     "text": [
      " 86%|████████▌ | 2844/3313 [02:17<00:26, 17.53it/s]"
     ]
    },
    {
     "name": "stdout",
     "output_type": "stream",
     "text": [
      "Problem with file ../raw_data/images/testing/dunes/40.79550018310547_76.30464019775391_030_CW000_0.5365363359451294_0.3835773766040802_0.8833788633346558.jpg\n",
      "Problem with file ../raw_data/images/testing/dunes/21.116500091552734_16.6856990814209_013_CW000_-0.5446922779083252_-0.3825142979621887_1.0154786109924316.jpg\n",
      "Problem with file ../raw_data/images/testing/dunes/40.84550018310547_76.72977905273437_011_CW000_0.10616618394851685_0.5557782053947449_0.5313279628753662.jpg\n",
      "Problem with file ../raw_data/images/testing/dunes/33.79350128173828_55.58658294677734_031_CW000_-0.8350712060928345_0.10379926860332489_1.9671274423599243.jpg\n"
     ]
    },
    {
     "name": "stderr",
     "output_type": "stream",
     "text": [
      " 86%|████████▌ | 2848/3313 [02:17<00:25, 18.29it/s]"
     ]
    },
    {
     "name": "stdout",
     "output_type": "stream",
     "text": [
      "Problem with file ../raw_data/images/testing/dunes/31.35349922180176_57.13083343505859_021_CW000_-0.6473767161369324_0.6402140259742737_1.0926613807678223.jpg\n",
      "Problem with file ../raw_data/images/testing/dunes/19.867499160766602_34.117123413085935_021_CW000_-0.8118012547492981_-0.20359788835048676_3.499728202819824.jpg\n",
      "Problem with file ../raw_data/images/testing/dunes/32.938500213623044_63.87574996948242_020_CW000_-0.24206915497779846_0.034709881991147995_0.6473000049591064.jpg\n",
      "Problem with file ../raw_data/images/testing/dunes/33.44349975585938_56.08679275512695_011_CW000_-0.4501940608024597_-0.06743151694536209_1.1663837432861328.jpg\n"
     ]
    },
    {
     "name": "stderr",
     "output_type": "stream",
     "text": [
      " 86%|████████▌ | 2852/3313 [02:17<00:25, 18.39it/s]"
     ]
    },
    {
     "name": "stdout",
     "output_type": "stream",
     "text": [
      "Problem with file ../raw_data/images/testing/dunes/43.19850082397461_100.928759765625_012_CW000_-0.24785806238651276_0.8419911861419678_2.24215030670166.jpg\n",
      "Problem with file ../raw_data/images/testing/dunes/20.441499328613283_16.885800933837892_03_CW000_-0.599555253982544_0.043672915548086166_0.5805388689041138.jpg\n",
      "Problem with file ../raw_data/images/testing/dunes/14.832499694824218_47.95750122070312_011_CW000_0.6021972894668579_-0.26524773240089417_1.629909634590149.jpg\n",
      "Problem with file ../raw_data/images/testing/dunes/20.71650047302246_16.760749053955077_012_CW000_-0.673046886920929_-0.037063002586364746_0.582739531993866.jpg\n"
     ]
    },
    {
     "name": "stderr",
     "output_type": "stream",
     "text": [
      " 86%|████████▌ | 2856/3313 [02:18<00:24, 18.55it/s]"
     ]
    },
    {
     "name": "stdout",
     "output_type": "stream",
     "text": [
      "Problem with file ../raw_data/images/testing/dunes/33.01349868774414_63.42549819946289_032_CW000_-0.6691743731498718_-0.43069934844970703_0.7408806681632996.jpg\n",
      "Problem with file ../raw_data/images/testing/dunes/38.36049880981445_96.41204528808593_031_CW000_0.10158061981201172_0.8471601605415344_1.5373255014419556.jpg\n",
      "Problem with file ../raw_data/images/testing/dunes/20.34150085449219_16.43559913635254_01_CW000_-0.09725315868854523_0.20584911108016968_0.6866973638534546.jpg\n",
      "Problem with file ../raw_data/images/testing/dunes/31.92450065612793_62.08284683227539_012_CW000_-0.8351242542266846_0.19600829482078552_3.7639870643615723.jpg\n"
     ]
    },
    {
     "name": "stderr",
     "output_type": "stream",
     "text": [
      " 86%|████████▋ | 2860/3313 [02:18<00:24, 18.84it/s]"
     ]
    },
    {
     "name": "stdout",
     "output_type": "stream",
     "text": [
      "Problem with file ../raw_data/images/testing/dunes/41.595499420166014_75.90450134277344_030_CW000_0.19551150500774384_-0.18319888412952423_0.7999233603477478.jpg\n",
      "Problem with file ../raw_data/images/testing/dunes/42.84850158691406_100.47861328125_030_CW000_-0.7000736594200134_0.45810407400131226_1.9835752248764038.jpg\n",
      "Problem with file ../raw_data/images/testing/dunes/20.616500091552734_16.96085090637207_012_CW000_-0.7020641565322876_0.2976413369178772_0.5236460566520691.jpg\n",
      "Problem with file ../raw_data/images/testing/dunes/33.438500213623044_64.10084991455078_021_CW000_-0.2776692807674408_-0.44000786542892456_0.9850336313247681.jpg\n"
     ]
    },
    {
     "name": "stderr",
     "output_type": "stream",
     "text": [
      " 86%|████████▋ | 2864/3313 [02:18<00:23, 18.85it/s]"
     ]
    },
    {
     "name": "stdout",
     "output_type": "stream",
     "text": [
      "Problem with file ../raw_data/images/testing/dunes/15.227499771118165_49.98250045776367_020_CW000_0.5859046578407288_-0.3570096790790558_1.4682555198669434.jpg\n",
      "Problem with file ../raw_data/images/testing/dunes/45.391500091552736_70.5537322998047_00_CW000_-0.16012175381183624_-0.689518928527832_1.985512137413025.jpg\n",
      "Problem with file ../raw_data/images/testing/dunes/33.51349868774414_63.775701904296874_030_CW000_-0.6696593761444092_-0.17544731497764587_0.9920624494552612.jpg\n",
      "Problem with file ../raw_data/images/testing/dunes/44.91649856567383_70.7538818359375_030_CW000_-0.1807394027709961_-0.6585723161697388_1.8677932024002075.jpg\n"
     ]
    },
    {
     "name": "stderr",
     "output_type": "stream",
     "text": [
      " 87%|████████▋ | 2868/3313 [02:18<00:25, 17.66it/s]"
     ]
    },
    {
     "name": "stdout",
     "output_type": "stream",
     "text": [
      "Problem with file ../raw_data/images/testing/dunes/33.1385009765625_64.05079803466796_023_CW000_-0.0788906067609787_-0.204548642039299_0.8351045250892639.jpg\n",
      "Problem with file ../raw_data/images/testing/dunes/25.976499176025392_7.826500034332275_03_CW000_-0.15097318589687347_-0.36875617504119873_1.1030093431472778.jpg\n",
      "Problem with file ../raw_data/images/testing/dunes/32.96350021362305_64.3009536743164_011_CW000_-0.6062071919441223_0.6115427017211914_0.759109616279602.jpg\n",
      "Problem with file ../raw_data/images/testing/dunes/21.171500778198244_33.807499694824216_01_CW000_-0.9161922335624695_-0.09259109944105148_3.5866894721984863.jpg\n"
     ]
    },
    {
     "name": "stderr",
     "output_type": "stream",
     "text": [
      " 87%|████████▋ | 2872/3313 [02:18<00:25, 17.22it/s]"
     ]
    },
    {
     "name": "stdout",
     "output_type": "stream",
     "text": [
      "Problem with file ../raw_data/images/testing/dunes/45.26650161743164_70.30350036621094_012_CW000_-0.19073069095611572_-0.6680041551589966_1.9273992776870728.jpg\n",
      "Problem with file ../raw_data/images/testing/dunes/45.541500854492185_70.7538818359375_020_CW000_-0.1364414393901825_-0.6864626407623291_1.9521132707595825.jpg\n",
      "Problem with file ../raw_data/images/testing/dunes/31.453499603271485_56.80563201904297_020_CW000_-0.3589107394218445_0.6655879616737366_0.9280227422714233.jpg\n",
      "Problem with file ../raw_data/images/testing/dunes/28.880499267578124_17.182000732421876_033_CW000_-0.45954445004463196_-0.24324582517147064_1.8100817203521729.jpg\n"
     ]
    },
    {
     "name": "stderr",
     "output_type": "stream",
     "text": [
      " 87%|████████▋ | 2876/3313 [02:19<00:25, 17.31it/s]"
     ]
    },
    {
     "name": "stdout",
     "output_type": "stream",
     "text": [
      "Problem with file ../raw_data/images/testing/dunes/41.195501708984374_76.1295669555664_031_CW000_0.22322186827659607_-0.33204659819602966_0.8019689321517944.jpg\n",
      "Problem with file ../raw_data/images/testing/dunes/31.299500274658204_62.03284683227539_020_CW000_-0.8545985817909241_0.38880273699760437_3.570774555206299.jpg\n",
      "Problem with file ../raw_data/images/testing/dunes/41.270501708984376_77.07988128662109_03_CW000_0.005261147860437632_-0.14277048408985138_0.7232062816619873.jpg\n",
      "Problem with file ../raw_data/images/testing/dunes/19.942499542236327_33.61650161743164_031_CW000_-0.9034959077835083_-0.08976404368877411_3.8963255882263184.jpg\n"
     ]
    },
    {
     "name": "stderr",
     "output_type": "stream",
     "text": [
      " 87%|████████▋ | 2880/3313 [02:19<00:25, 16.85it/s]"
     ]
    },
    {
     "name": "stdout",
     "output_type": "stream",
     "text": [
      "Problem with file ../raw_data/images/testing/dunes/31.59949951171875_61.48258514404297_022_CW000_-0.9374967813491821_0.2970713675022125_5.627068519592285.jpg\n",
      "Problem with file ../raw_data/images/testing/dunes/32.788499450683595_63.40049819946289_01_CW000_-0.5832479596138_-0.22287534177303314_0.8822293877601624.jpg\n",
      "Problem with file ../raw_data/images/testing/dunes/41.470498657226564_76.95484466552735_02_CW000_0.6769541501998901_0.02883663959801197_0.9926735758781433.jpg\n",
      "Problem with file ../raw_data/images/testing/dunes/38.71849899291992_68.4428924560547_020_CW000_-0.6329362392425537_-0.0822913646697998_0.4633278548717499.jpg\n"
     ]
    },
    {
     "name": "stderr",
     "output_type": "stream",
     "text": [
      " 87%|████████▋ | 2884/3313 [02:19<00:25, 16.51it/s]"
     ]
    },
    {
     "name": "stdout",
     "output_type": "stream",
     "text": [
      "Problem with file ../raw_data/images/testing/dunes/28.98049964904785_17.182000732421876_033_CW000_-0.49418437480926514_-0.22355769574642181_1.8240255117416382.jpg\n",
      "Problem with file ../raw_data/images/testing/dunes/43.04849853515625_100.45357666015624_033_CW000_-0.49290138483047485_0.6567980051040649_1.8757421970367432.jpg\n",
      "Problem with file ../raw_data/images/testing/dunes/19.64250030517578_33.81675033569336_031_CW000_-0.8568165302276611_-0.11473585665225983_3.68485164642334.jpg\n",
      "Problem with file ../raw_data/images/testing/dunes/21.04149971008301_16.33554916381836_01_CW000_-0.2906379997730255_-0.618285596370697_0.8882009983062744.jpg\n"
     ]
    },
    {
     "name": "stderr",
     "output_type": "stream",
     "text": [
      " 87%|████████▋ | 2888/3313 [02:19<00:25, 16.69it/s]"
     ]
    },
    {
     "name": "stdout",
     "output_type": "stream",
     "text": [
      "Problem with file ../raw_data/images/testing/dunes/15.157499885559082_48.057499694824216_01_CW000_0.555108368396759_-0.25157174468040466_2.1437087059020996.jpg\n",
      "Problem with file ../raw_data/images/testing/dunes/26.032499694824217_40.826795959472655_030_CW000_-0.026449987664818764_0.0108346501365304_1.2878034114837646.jpg\n",
      "Problem with file ../raw_data/images/testing/dunes/44.99149856567383_70.8288818359375_03_CW000_-0.1807394027709961_-0.6585723161697388_1.8677932024002075.jpg\n",
      "Problem with file ../raw_data/images/testing/dunes/25.98249931335449_41.10191116333008_013_CW000_-0.020494312047958374_-0.07841527462005615_1.2872204780578613.jpg\n"
     ]
    },
    {
     "name": "stderr",
     "output_type": "stream",
     "text": [
      " 87%|████████▋ | 2892/3313 [02:20<00:24, 17.09it/s]"
     ]
    },
    {
     "name": "stdout",
     "output_type": "stream",
     "text": [
      "Problem with file ../raw_data/images/testing/dunes/21.116500091552734_16.610699081420897_010_CW000_-0.5446922779083252_-0.3825142979621887_1.0154786109924316.jpg\n",
      "Problem with file ../raw_data/images/testing/dunes/20.66650047302246_17.01090087890625_030_CW000_-0.5626145005226135_0.3532107174396515_0.5967787504196167.jpg\n",
      "Problem with file ../raw_data/images/testing/dunes/28.930499267578124_16.731499481201173_011_CW000_-0.4088534414768219_-0.3161790072917938_1.8825643062591553.jpg\n",
      "Problem with file ../raw_data/images/testing/dunes/20.896500015258788_34.05766830444336_033_CW000_-0.86432284116745_-0.1870267689228058_3.4366543292999268.jpg\n"
     ]
    },
    {
     "name": "stderr",
     "output_type": "stream",
     "text": [
      " 87%|████████▋ | 2896/3313 [02:20<00:23, 17.75it/s]"
     ]
    },
    {
     "name": "stdout",
     "output_type": "stream",
     "text": [
      "Problem with file ../raw_data/images/testing/dunes/31.549499130249025_62.00780258178711_03_CW000_-0.8823068141937256_0.3167140781879425_4.126463413238525.jpg\n",
      "Problem with file ../raw_data/images/testing/dunes/25.16250076293945_27.197499084472657_031_CW000_-0.9400894641876221_0.09694861620664597_2.5903196334838867.jpg\n",
      "Problem with file ../raw_data/images/testing/dunes/38.64350051879883_68.04266967773438_010_CW000_-0.9318245649337769_-0.20764973759651184_0.5035324692726135.jpg\n",
      "Problem with file ../raw_data/images/testing/dunes/43.14249954223633_107.4106689453125_03_CW000_-0.28662362694740295_0.7267662286758423_2.0171797275543213.jpg\n"
     ]
    },
    {
     "name": "stderr",
     "output_type": "stream",
     "text": [
      " 88%|████████▊ | 2900/3313 [02:20<00:22, 18.27it/s]"
     ]
    },
    {
     "name": "stdout",
     "output_type": "stream",
     "text": [
      "Problem with file ../raw_data/images/testing/dunes/43.298499298095706_101.17886962890626_010_CW000_-0.035208698362112045_0.867872416973114_1.9788161516189575.jpg\n",
      "Problem with file ../raw_data/images/testing/dunes/31.40349922180176_57.05576629638672_02_CW000_-0.555110514163971_0.6716208457946777_0.9215668439865112.jpg\n",
      "Problem with file ../raw_data/images/testing/dunes/21.69250030517578_49.2224983215332_010_CW000_-0.513427197933197_-0.7253503799438477_2.065425157546997.jpg\n",
      "Problem with file ../raw_data/images/testing/dunes/28.755500411987306_17.031874465942384_01_CW000_-0.3880923092365265_-0.2925341725349426_1.8508652448654175.jpg\n"
     ]
    },
    {
     "name": "stderr",
     "output_type": "stream",
     "text": [
      " 88%|████████▊ | 2904/3313 [02:20<00:22, 18.57it/s]"
     ]
    },
    {
     "name": "stdout",
     "output_type": "stream",
     "text": [
      "Problem with file ../raw_data/images/testing/dunes/40.770501708984376_77.1799102783203_03_CW000_-0.7616252303123474_0.5936388373374939_1.1994197368621826.jpg\n",
      "Problem with file ../raw_data/images/testing/dunes/43.817500305175784_107.3856689453125_012_CW000_-0.5513802170753479_0.6567386388778687_2.3800370693206787.jpg\n",
      "Problem with file ../raw_data/images/testing/dunes/25.957499313354493_41.02691116333008_020_CW000_-0.020494312047958374_-0.07841527462005615_1.2872204780578613.jpg\n",
      "Problem with file ../raw_data/images/testing/dunes/31.678500366210937_57.30596771240234_010_CW000_-0.8312428593635559_0.44442984461784363_1.7424017190933228.jpg\n"
     ]
    },
    {
     "name": "stderr",
     "output_type": "stream",
     "text": [
      " 88%|████████▊ | 2908/3313 [02:21<00:21, 18.45it/s]"
     ]
    },
    {
     "name": "stdout",
     "output_type": "stream",
     "text": [
      "Problem with file ../raw_data/images/testing/dunes/31.20350036621094_56.680501556396486_03_CW000_-0.08559714257717133_0.3675735294818878_1.2026362419128418.jpg\n",
      "Problem with file ../raw_data/images/testing/dunes/33.438500213623044_63.4755500793457_020_CW000_-0.8722261786460876_-0.07182224094867706_1.0256292819976807.jpg\n",
      "Problem with file ../raw_data/images/testing/dunes/15.127500343322755_50.032500457763675_022_CW000_0.6308180689811707_-0.37644022703170776_1.282456874847412.jpg\n",
      "Problem with file ../raw_data/images/testing/dunes/28.65550003051758_17.00687446594238_00_CW000_-0.3906416594982147_-0.2960372567176819_1.8671456575393677.jpg\n"
     ]
    },
    {
     "name": "stderr",
     "output_type": "stream",
     "text": [
      " 88%|████████▊ | 2912/3313 [02:21<00:21, 18.33it/s]"
     ]
    },
    {
     "name": "stdout",
     "output_type": "stream",
     "text": [
      "Problem with file ../raw_data/images/testing/dunes/28.855500793457033_17.056874465942382_02_CW000_-0.4138762950897217_-0.27483323216438293_1.839026927947998.jpg\n",
      "Problem with file ../raw_data/images/testing/dunes/43.06749954223633_107.63583221435547_030_CW000_-0.09514021873474121_0.7583049535751343_1.9841558933258057.jpg\n",
      "Problem with file ../raw_data/images/testing/dunes/42.72350082397461_101.1538330078125_03_CW000_-0.6646287441253662_0.21324422955513_1.3329226970672607.jpg\n",
      "Problem with file ../raw_data/images/testing/dunes/14.757500267028808_47.98250122070313_02_CW000_0.6417410373687744_-0.2526096701622009_1.35492742061615.jpg\n"
     ]
    },
    {
     "name": "stderr",
     "output_type": "stream",
     "text": [
      " 88%|████████▊ | 2916/3313 [02:21<00:21, 18.63it/s]"
     ]
    },
    {
     "name": "stdout",
     "output_type": "stream",
     "text": [
      "Problem with file ../raw_data/images/testing/dunes/20.99149971008301_16.81080093383789_020_CW000_-0.684723973274231_-0.03733500838279724_0.8428527116775513.jpg\n",
      "Problem with file ../raw_data/images/testing/dunes/28.680500411987303_17.056874465942382_032_CW000_-0.3880923092365265_-0.2925341725349426_1.8508652448654175.jpg\n",
      "Problem with file ../raw_data/images/testing/dunes/17.332500839233397_45.432498168945315_032_CW000_-0.23704053461551666_-0.679129958152771_1.711531400680542.jpg\n",
      "Problem with file ../raw_data/images/testing/dunes/28.83050079345703_16.75649948120117_012_CW000_-0.36922043561935425_-0.3061298727989197_1.8614999055862427.jpg\n"
     ]
    },
    {
     "name": "stderr",
     "output_type": "stream",
     "text": [
      " 88%|████████▊ | 2920/3313 [02:21<00:21, 18.64it/s]"
     ]
    },
    {
     "name": "stdout",
     "output_type": "stream",
     "text": [
      "Problem with file ../raw_data/images/testing/dunes/21.091500091552735_16.46059913635254_022_CW000_-0.35357558727264404_-0.5766075849533081_1.0990289449691772.jpg\n",
      "Problem with file ../raw_data/images/testing/dunes/20.266500854492186_16.885800933837892_033_CW000_-0.5153722167015076_0.026518985629081726_0.5788098573684692.jpg\n",
      "Problem with file ../raw_data/images/testing/dunes/43.14850082397461_101.17886962890626_030_CW000_-0.1442180722951889_0.8279368281364441_1.8160905838012695.jpg\n",
      "Problem with file ../raw_data/images/testing/dunes/33.968499755859376_55.53654251098633_03_CW000_-0.8246844410896301_0.0980977863073349_2.1433112621307373.jpg\n"
     ]
    },
    {
     "name": "stderr",
     "output_type": "stream",
     "text": [
      " 88%|████████▊ | 2924/3313 [02:21<00:21, 17.96it/s]"
     ]
    },
    {
     "name": "stdout",
     "output_type": "stream",
     "text": [
      "Problem with file ../raw_data/images/testing/dunes/25.682500076293945_40.50155792236328_013_CW000_0.09549535065889359_0.3240325152873993_1.4849518537521362.jpg\n",
      "Problem with file ../raw_data/images/testing/dunes/20.891499328613282_16.98585090637207_023_CW000_-0.6532648205757141_0.08141060918569565_0.7499223351478577.jpg\n",
      "Problem with file ../raw_data/images/testing/dunes/33.413500213623045_63.65059814453125_033_CW000_-0.8236797451972961_-0.12355146557092667_0.9487302899360657.jpg\n",
      "Problem with file ../raw_data/images/testing/dunes/33.49349822998047_55.88670806884765_031_CW000_-0.426584392786026_-0.18486425280570984_1.295327067375183.jpg\n"
     ]
    },
    {
     "name": "stderr",
     "output_type": "stream",
     "text": [
      " 88%|████████▊ | 2928/3313 [02:22<00:21, 17.60it/s]"
     ]
    },
    {
     "name": "stdout",
     "output_type": "stream",
     "text": [
      "Problem with file ../raw_data/images/testing/dunes/42.96750106811523_107.88594360351563_032_CW000_0.16554132103919983_0.7164748907089233_1.9545917510986328.jpg\n",
      "Problem with file ../raw_data/images/testing/dunes/19.9625_45.36750106811523_031_CW000_0.08510906994342804_-0.7121939063072205_2.1933987140655518.jpg\n",
      "Problem with file ../raw_data/images/testing/dunes/33.893499755859374_56.08679275512695_031_CW000_-0.3892465829849243_-0.4385664463043213_1.6566416025161743.jpg\n",
      "Problem with file ../raw_data/images/testing/dunes/42.948500061035155_100.6786865234375_030_CW000_-0.5689179301261902_0.6382215023040771_2.085033416748047.jpg\n"
     ]
    },
    {
     "name": "stderr",
     "output_type": "stream",
     "text": [
      " 88%|████████▊ | 2932/3313 [02:22<00:21, 17.46it/s]"
     ]
    },
    {
     "name": "stdout",
     "output_type": "stream",
     "text": [
      "Problem with file ../raw_data/images/testing/dunes/28.78050079345703_17.182000732421876_033_CW000_-0.42570146918296814_-0.2627851665019989_1.8101716041564941.jpg\n",
      "Problem with file ../raw_data/images/testing/dunes/45.34150009155273_70.90396423339844_022_CW000_-0.18420006334781647_-0.6940234303474426_1.9933085441589355.jpg\n",
      "Problem with file ../raw_data/images/testing/dunes/44.99149856567383_70.7538818359375_00_CW000_-0.1807394027709961_-0.6585723161697388_1.8677932024002075.jpg\n",
      "Problem with file ../raw_data/images/testing/dunes/45.21650161743164_70.27850036621093_031_CW000_-0.19073069095611572_-0.6680041551589966_1.9273992776870728.jpg\n"
     ]
    },
    {
     "name": "stderr",
     "output_type": "stream",
     "text": [
      " 89%|████████▊ | 2936/3313 [02:22<00:22, 16.42it/s]"
     ]
    },
    {
     "name": "stdout",
     "output_type": "stream",
     "text": [
      "Problem with file ../raw_data/images/testing/dunes/41.67049942016602_75.95450134277344_02_CW000_0.19551150500774384_-0.18319888412952423_0.7999233603477478.jpg\n",
      "Problem with file ../raw_data/images/testing/dunes/20.871499633789064_34.1327507019043_02_CW000_-0.8393993377685547_-0.23280617594718933_3.392848014831543.jpg\n",
      "Problem with file ../raw_data/images/testing/dunes/38.010501098632815_96.66222534179687_013_CW000_-0.3079851269721985_0.8626965880393982_1.6596730947494507.jpg\n",
      "Problem with file ../raw_data/images/testing/dunes/33.51349868774414_63.550550079345705_033_CW000_-0.8136654496192932_-0.013480071909725666_1.0658302307128906.jpg\n"
     ]
    },
    {
     "name": "stderr",
     "output_type": "stream",
     "text": [
      " 89%|████████▊ | 2940/3313 [02:22<00:23, 16.07it/s]"
     ]
    },
    {
     "name": "stdout",
     "output_type": "stream",
     "text": [
      "Problem with file ../raw_data/images/testing/dunes/20.591500091552735_16.53564910888672_021_CW000_-0.479668527841568_0.17684780061244965_0.6195021271705627.jpg\n",
      "Problem with file ../raw_data/images/testing/dunes/26.007499313354494_41.001851654052736_03_CW000_0.0036399178206920624_-0.014897942543029785_1.296105146408081.jpg\n",
      "Problem with file ../raw_data/images/testing/dunes/44.941498565673825_70.52865753173828_023_CW000_-0.1376751959323883_-0.6498137712478638_1.8721716403961182.jpg\n",
      "Problem with file ../raw_data/images/testing/dunes/25.957499313354493_40.75173645019531_021_CW000_0.047021012753248215_0.1396743208169937_1.3254503011703491.jpg\n"
     ]
    },
    {
     "name": "stderr",
     "output_type": "stream",
     "text": [
      " 89%|████████▉ | 2944/3313 [02:23<00:22, 16.67it/s]"
     ]
    },
    {
     "name": "stdout",
     "output_type": "stream",
     "text": [
      "Problem with file ../raw_data/images/testing/dunes/31.878499221801757_57.00576629638672_010_CW000_-0.6958179473876953_0.582922101020813_1.327202558517456.jpg\n",
      "Problem with file ../raw_data/images/testing/dunes/20.641500091552736_16.23549919128418_01_CW000_-0.06017602980136871_0.0400286540389061_0.47494980692863464.jpg\n",
      "Problem with file ../raw_data/images/testing/dunes/33.51349868774414_63.525550079345706_032_CW000_-0.8136654496192932_-0.013480071909725666_1.0658302307128906.jpg\n",
      "Problem with file ../raw_data/images/testing/dunes/42.96750106811523_107.56078033447265_031_CW000_-0.08754419535398483_0.7478445768356323_1.9767793416976929.jpg\n"
     ]
    },
    {
     "name": "stderr",
     "output_type": "stream",
     "text": [
      " 89%|████████▉ | 2948/3313 [02:23<00:21, 17.36it/s]"
     ]
    },
    {
     "name": "stdout",
     "output_type": "stream",
     "text": [
      "Problem with file ../raw_data/images/testing/dunes/20.291500854492188_16.46059913635254_022_CW000_-0.09725315868854523_0.20584911108016968_0.6866973638534546.jpg\n",
      "Problem with file ../raw_data/images/testing/dunes/38.0854995727539_95.88658752441407_020_CW000_-0.40668028593063354_0.8547045588493347_1.372118353843689.jpg\n",
      "Problem with file ../raw_data/images/testing/dunes/44.31949920654297_109.08058471679688_012_CW000_-0.5882011651992798_0.5166877508163452_1.808281421661377.jpg\n",
      "Problem with file ../raw_data/images/testing/dunes/38.73550186157227_96.58722534179688_00_CW000_0.06245463341474533_0.5495375394821167_0.9625502228736877.jpg\n"
     ]
    },
    {
     "name": "stderr",
     "output_type": "stream",
     "text": [
      " 89%|████████▉ | 2952/3313 [02:23<00:20, 17.70it/s]"
     ]
    },
    {
     "name": "stdout",
     "output_type": "stream",
     "text": [
      "Problem with file ../raw_data/images/testing/dunes/43.367498779296874_107.21055755615234_033_CW000_-0.4740649163722992_0.689431369304657_2.2312939167022705.jpg\n",
      "Problem with file ../raw_data/images/testing/dunes/19.667500305175782_33.7666259765625_023_CW000_-0.871794581413269_-0.09796477109193802_3.77341365814209.jpg\n",
      "Problem with file ../raw_data/images/testing/dunes/32.96350021362305_63.4755500793457_010_CW000_-0.5657123923301697_-0.3566766083240509_0.7216888666152954.jpg\n",
      "Problem with file ../raw_data/images/testing/dunes/33.438500213623044_63.750650024414064_023_CW000_-0.7157612442970276_-0.18459554016590118_0.8789709210395813.jpg\n"
     ]
    },
    {
     "name": "stderr",
     "output_type": "stream",
     "text": [
      " 89%|████████▉ | 2956/3313 [02:23<00:19, 18.09it/s]"
     ]
    },
    {
     "name": "stdout",
     "output_type": "stream",
     "text": [
      "Problem with file ../raw_data/images/testing/dunes/26.051499557495116_8.051928901672364_010_CW000_-0.05685173347592354_-0.3322336673736572_1.0810060501098633.jpg\n",
      "Problem with file ../raw_data/images/testing/dunes/20.891499328613282_17.11095085144043_020_CW000_-0.5473282337188721_-0.015356907621026039_0.7793093919754028.jpg\n",
      "Problem with file ../raw_data/images/testing/dunes/43.29250030517578_107.86094360351562_021_CW000_-0.108709916472435_0.6719561219215393_1.619317889213562.jpg\n",
      "Problem with file ../raw_data/images/testing/dunes/44.64449844360352_109.60599670410156_03_CW000_-0.4599796533584595_0.6089715957641602_1.6961402893066406.jpg\n"
     ]
    },
    {
     "name": "stderr",
     "output_type": "stream",
     "text": [
      " 89%|████████▉ | 2960/3313 [02:23<00:19, 18.19it/s]"
     ]
    },
    {
     "name": "stdout",
     "output_type": "stream",
     "text": [
      "Problem with file ../raw_data/images/testing/dunes/31.37450065612793_61.85776214599609_031_CW000_-0.8927316069602966_0.34784722328186035_4.256605625152588.jpg\n",
      "Problem with file ../raw_data/images/testing/dunes/43.21750183105469_107.23560943603516_010_CW000_-0.36938050389289856_0.7169845700263977_2.117690086364746.jpg\n",
      "Problem with file ../raw_data/images/testing/dunes/40.84550018310547_76.30464019775391_010_CW000_0.5365363359451294_0.3835773766040802_0.8833788633346558.jpg\n",
      "Problem with file ../raw_data/images/testing/dunes/43.14850082397461_101.25386962890624_033_CW000_-0.1442180722951889_0.8279368281364441_1.8160905838012695.jpg\n"
     ]
    },
    {
     "name": "stderr",
     "output_type": "stream",
     "text": [
      " 89%|████████▉ | 2964/3313 [02:24<00:18, 18.39it/s]"
     ]
    },
    {
     "name": "stdout",
     "output_type": "stream",
     "text": [
      "Problem with file ../raw_data/images/testing/dunes/33.6885009765625_64.07584991455079_00_CW000_-0.408455491065979_-0.33067744970321655_1.1640669107437134.jpg\n",
      "Problem with file ../raw_data/images/testing/dunes/42.62349853515625_100.52861328125_02_CW000_-0.7057090997695923_0.33306053280830383_1.5959984064102173.jpg\n",
      "Problem with file ../raw_data/images/testing/dunes/25.93249931335449_40.95185165405273_031_CW000_0.0036399178206920624_-0.014897942543029785_1.296105146408081.jpg\n",
      "Problem with file ../raw_data/images/testing/dunes/15.527499961853028_49.432498168945315_022_CW000_0.36622363328933716_-0.5992628335952759_1.83877694606781.jpg\n"
     ]
    },
    {
     "name": "stderr",
     "output_type": "stream",
     "text": [
      " 90%|████████▉ | 2968/3313 [02:24<00:18, 18.44it/s]"
     ]
    },
    {
     "name": "stdout",
     "output_type": "stream",
     "text": [
      "Problem with file ../raw_data/images/testing/dunes/31.253500747680665_56.980699157714845_023_CW000_-0.37960392236709595_0.6079015135765076_0.8213202357292175.jpg\n",
      "Problem with file ../raw_data/images/testing/dunes/20.66650047302246_16.78574905395508_033_CW000_-0.673046886920929_-0.037063002586364746_0.582739531993866.jpg\n",
      "Problem with file ../raw_data/images/testing/dunes/21.542499923706053_49.372500610351565_032_CW000_-0.4971260726451874_-0.735040545463562_2.0613443851470947.jpg\n",
      "Problem with file ../raw_data/images/testing/dunes/43.092499542236325_107.5107208251953_023_CW000_-0.23661687970161438_0.7380018830299377_2.0011441707611084.jpg\n"
     ]
    },
    {
     "name": "stderr",
     "output_type": "stream",
     "text": [
      " 90%|████████▉ | 2972/3313 [02:24<00:18, 18.55it/s]"
     ]
    },
    {
     "name": "stdout",
     "output_type": "stream",
     "text": [
      "Problem with file ../raw_data/images/testing/dunes/26.182500076293945_40.50155792236328_013_CW000_0.09911572188138962_0.35176339745521545_1.4056788682937622.jpg\n",
      "Problem with file ../raw_data/images/testing/dunes/31.474499130249022_62.08284683227539_032_CW000_-0.8613656163215637_0.3196846544742584_3.8689846992492676.jpg\n",
      "Problem with file ../raw_data/images/testing/dunes/29.15550003051758_17.031874465942384_01_CW000_-0.5043209195137024_-0.20788156986236572_1.8819308280944824.jpg\n",
      "Problem with file ../raw_data/images/testing/dunes/15.4774995803833_49.85749969482422_03_CW000_0.4275696873664856_-0.550430417060852_1.5378460884094238.jpg\n"
     ]
    },
    {
     "name": "stderr",
     "output_type": "stream",
     "text": [
      " 90%|████████▉ | 2976/3313 [02:24<00:18, 18.28it/s]"
     ]
    },
    {
     "name": "stdout",
     "output_type": "stream",
     "text": [
      "Problem with file ../raw_data/images/testing/dunes/42.72350082397461_100.60364990234375_01_CW000_-0.7424041628837585_0.30909988284111023_1.6804959774017334.jpg\n",
      "Problem with file ../raw_data/images/testing/dunes/20.516499710083007_16.510649108886717_010_CW000_-0.3883780241012573_0.1885625123977661_0.6620272397994995.jpg\n",
      "Problem with file ../raw_data/images/testing/dunes/43.442498779296876_107.5107208251953_03_CW000_-0.4377151429653168_0.6892668604850769_2.0812344551086426.jpg\n",
      "Problem with file ../raw_data/images/testing/dunes/21.016499710083007_16.23549919128418_011_CW000_-0.2041156142950058_-0.7232433557510376_0.9618509411811829.jpg\n"
     ]
    },
    {
     "name": "stderr",
     "output_type": "stream",
     "text": [
      " 90%|████████▉ | 2980/3313 [02:25<00:18, 18.19it/s]"
     ]
    },
    {
     "name": "stdout",
     "output_type": "stream",
     "text": [
      "Problem with file ../raw_data/images/testing/dunes/31.70350036621094_57.00576629638672_00_CW000_-0.6103047728538513_0.683489978313446_1.1949867010116577.jpg\n",
      "Problem with file ../raw_data/images/testing/dunes/44.59449844360351_109.3308319091797_020_CW000_-0.4984889328479767_0.5930717587471008_1.8404520750045776.jpg\n",
      "Problem with file ../raw_data/images/testing/dunes/33.1135009765625_64.32595367431641_032_CW000_-0.4736398756504059_0.1598576307296753_0.7752802968025208.jpg\n",
      "Problem with file ../raw_data/images/testing/dunes/43.01750106811524_107.085498046875_012_CW000_-0.3238201141357422_0.678856611251831_1.9719475507736206.jpg\n"
     ]
    },
    {
     "name": "stderr",
     "output_type": "stream",
     "text": [
      " 90%|█████████ | 2984/3313 [02:25<00:18, 18.20it/s]"
     ]
    },
    {
     "name": "stdout",
     "output_type": "stream",
     "text": [
      "Problem with file ../raw_data/images/testing/dunes/38.510501098632815_95.8364974975586_012_CW000_0.24601466953754425_0.7194265723228455_1.275434970855713.jpg\n",
      "Problem with file ../raw_data/images/testing/dunes/45.49149856567383_70.37857513427734_01_CW000_-0.14625826478004456_-0.6748873591423035_1.9417333602905273.jpg\n",
      "Problem with file ../raw_data/images/testing/dunes/31.349500274658205_61.407544708251955_03_CW000_-0.9628475308418274_0.24484972655773163_5.422873020172119.jpg\n",
      "Problem with file ../raw_data/images/testing/dunes/20.36649932861328_17.11095085144043_030_CW000_-0.28596338629722595_0.5224985480308533_0.44578996300697327.jpg\n"
     ]
    },
    {
     "name": "stderr",
     "output_type": "stream",
     "text": [
      " 90%|█████████ | 2988/3313 [02:25<00:18, 17.49it/s]"
     ]
    },
    {
     "name": "stdout",
     "output_type": "stream",
     "text": [
      "Problem with file ../raw_data/images/testing/dunes/19.69250030517578_34.117123413085935_011_CW000_-0.7992690205574036_-0.17534054815769196_3.519487142562866.jpg\n",
      "Problem with file ../raw_data/images/testing/dunes/20.266500854492186_16.510649108886717_030_CW000_-0.22945383191108704_0.1794249564409256_0.6860631704330444.jpg\n",
      "Problem with file ../raw_data/images/testing/dunes/45.41649856567383_70.52865753173828_033_CW000_-0.13828419148921967_-0.6847541332244873_1.9758327007293701.jpg\n",
      "Problem with file ../raw_data/images/testing/dunes/44.54449996948242_109.63108673095704_00_CW000_-0.5022079944610596_0.5700734257698059_1.6070542335510254.jpg\n"
     ]
    },
    {
     "name": "stderr",
     "output_type": "stream",
     "text": [
      " 90%|█████████ | 2992/3313 [02:25<00:19, 16.28it/s]"
     ]
    },
    {
     "name": "stdout",
     "output_type": "stream",
     "text": [
      "Problem with file ../raw_data/images/testing/dunes/31.849500274658205_61.93280258178711_00_CW000_-0.8641168475151062_0.25640398263931274_4.2204437255859375.jpg\n",
      "Problem with file ../raw_data/images/testing/dunes/19.917499160766603_34.16712341308594_03_CW000_-0.8118012547492981_-0.20359788835048676_3.499728202819824.jpg\n",
      "Problem with file ../raw_data/images/testing/dunes/38.0854995727539_96.66222534179687_023_CW000_-0.1671878695487976_0.8904272317886353_1.733194351196289.jpg\n",
      "Problem with file ../raw_data/images/testing/dunes/40.445498657226565_76.45466918945313_012_CW000_-0.5293348431587219_0.7111181616783142_0.9860074520111084.jpg\n"
     ]
    },
    {
     "name": "stderr",
     "output_type": "stream",
     "text": [
      " 90%|█████████ | 2996/3313 [02:26<00:19, 16.59it/s]"
     ]
    },
    {
     "name": "stdout",
     "output_type": "stream",
     "text": [
      "Problem with file ../raw_data/images/testing/dunes/25.757500457763673_40.72673645019531_020_CW000_0.1265324503183365_0.15716145932674408_1.4407179355621338.jpg\n",
      "Problem with file ../raw_data/images/testing/dunes/33.438500213623044_63.42549819946289_022_CW000_-0.8435562252998352_-0.11427003145217896_1.04338538646698.jpg\n",
      "Problem with file ../raw_data/images/testing/dunes/33.6885009765625_64.05079803466796_03_CW000_-0.5101184844970703_-0.3115123510360718_1.1709128618240356.jpg\n",
      "Problem with file ../raw_data/images/testing/dunes/33.468499755859376_56.03674850463867_03_CW000_-0.4221571087837219_-0.20386292040348053_1.2630585432052612.jpg\n"
     ]
    },
    {
     "name": "stderr",
     "output_type": "stream",
     "text": [
      " 91%|█████████ | 3000/3313 [02:26<00:18, 17.31it/s]"
     ]
    },
    {
     "name": "stdout",
     "output_type": "stream",
     "text": [
      "Problem with file ../raw_data/images/testing/dunes/17.532499694824217_45.40749816894531_031_CW000_-0.24191196262836456_-0.7076607942581177_1.8489681482315063.jpg\n",
      "Problem with file ../raw_data/images/testing/dunes/38.410498809814456_96.211865234375_011_CW000_0.09195462614297867_0.8640323877334595_1.5077096223831177.jpg\n",
      "Problem with file ../raw_data/images/testing/dunes/15.127500343322755_49.85749969482422_023_CW000_0.6504278182983398_-0.47019436955451965_1.0947129726409912.jpg\n",
      "Problem with file ../raw_data/images/testing/dunes/43.24250183105469_107.66083221435547_01_CW000_-0.19944815337657928_0.7376483678817749_1.9059548377990723.jpg\n"
     ]
    },
    {
     "name": "stderr",
     "output_type": "stream",
     "text": [
      " 91%|█████████ | 3004/3313 [02:26<00:17, 17.75it/s]"
     ]
    },
    {
     "name": "stdout",
     "output_type": "stream",
     "text": [
      "Problem with file ../raw_data/images/testing/dunes/42.96750106811523_107.83594360351563_030_CW000_0.16554132103919983_0.7164748907089233_1.9545917510986328.jpg\n",
      "Problem with file ../raw_data/images/testing/dunes/31.7745002746582_61.25750045776367_031_CW000_-0.9337172508239746_0.3349795639514923_5.970757484436035.jpg\n",
      "Problem with file ../raw_data/images/testing/dunes/20.291500854492188_16.86080093383789_022_CW000_-0.5153722167015076_0.026518985629081726_0.5788098573684692.jpg\n",
      "Problem with file ../raw_data/images/testing/dunes/38.68550186157226_96.48713531494141_020_CW000_0.04876280948519707_0.5405842065811157_0.9419390559196472.jpg\n"
     ]
    },
    {
     "name": "stderr",
     "output_type": "stream",
     "text": [
      " 91%|█████████ | 3008/3313 [02:26<00:16, 18.05it/s]"
     ]
    },
    {
     "name": "stdout",
     "output_type": "stream",
     "text": [
      "Problem with file ../raw_data/images/testing/dunes/21.091500091552735_16.885800933837892_023_CW000_-0.7410833835601807_-0.14505797624588013_0.8259909749031067.jpg\n",
      "Problem with file ../raw_data/images/testing/dunes/20.591500091552735_16.58564910888672_023_CW000_-0.479668527841568_0.17684780061244965_0.6195021271705627.jpg\n",
      "Problem with file ../raw_data/images/testing/dunes/31.42450065612793_61.682673645019534_012_CW000_-0.9260085225105286_0.30318284034729004_4.836687088012695.jpg\n",
      "Problem with file ../raw_data/images/testing/dunes/45.24150161743164_70.87896423339843_021_CW000_-0.2021656036376953_-0.6938071846961975_1.998993158340454.jpg\n"
     ]
    },
    {
     "name": "stderr",
     "output_type": "stream",
     "text": [
      " 91%|█████████ | 3012/3313 [02:26<00:16, 18.18it/s]"
     ]
    },
    {
     "name": "stdout",
     "output_type": "stream",
     "text": [
      "Problem with file ../raw_data/images/testing/dunes/43.49250106811523_107.3356689453125_020_CW000_-0.5084171891212463_0.6681925654411316_2.1849076747894287.jpg\n",
      "Problem with file ../raw_data/images/testing/dunes/41.195501708984374_76.70477905273438_030_CW000_0.35624563694000244_-0.1039375364780426_0.7911377549171448.jpg\n",
      "Problem with file ../raw_data/images/testing/dunes/20.891499328613282_16.96085090637207_022_CW000_-0.6532648205757141_0.08141060918569565_0.7499223351478577.jpg\n",
      "Problem with file ../raw_data/images/testing/dunes/31.378499221801757_56.7555648803711_012_CW000_-0.22673991322517395_0.5100675225257874_1.04258131980896.jpg\n"
     ]
    },
    {
     "name": "stderr",
     "output_type": "stream",
     "text": [
      " 91%|█████████ | 3016/3313 [02:27<00:16, 18.43it/s]"
     ]
    },
    {
     "name": "stdout",
     "output_type": "stream",
     "text": [
      "Problem with file ../raw_data/images/testing/dunes/44.94450149536133_109.15566711425781_01_CW000_-0.27590587735176086_0.6779554486274719_1.911336898803711.jpg\n",
      "Problem with file ../raw_data/images/testing/dunes/43.21750183105469_107.28560943603516_012_CW000_-0.36938050389289856_0.7169845700263977_2.117690086364746.jpg\n",
      "Problem with file ../raw_data/images/testing/dunes/41.595499420166014_75.97950134277343_033_CW000_0.19551150500774384_-0.18319888412952423_0.7999233603477478.jpg\n",
      "Problem with file ../raw_data/images/testing/dunes/32.7634994506836_63.850701904296876_013_CW000_-0.5201670527458191_0.20122765004634857_0.7504945397377014.jpg\n"
     ]
    },
    {
     "name": "stderr",
     "output_type": "stream",
     "text": [
      " 91%|█████████ | 3020/3313 [02:27<00:16, 18.01it/s]"
     ]
    },
    {
     "name": "stdout",
     "output_type": "stream",
     "text": [
      "Problem with file ../raw_data/images/testing/dunes/33.468499755859376_56.136792755126955_03_CW000_-0.4501940608024597_-0.06743151694536209_1.1663837432861328.jpg\n",
      "Problem with file ../raw_data/images/testing/dunes/25.98249931335449_41.001851654052736_013_CW000_0.0036399178206920624_-0.014897942543029785_1.296105146408081.jpg\n",
      "Problem with file ../raw_data/images/testing/dunes/40.545500946044925_76.55470581054688_012_CW000_-0.40764981508255005_0.7714346051216125_0.9123136401176453.jpg\n",
      "Problem with file ../raw_data/images/testing/dunes/41.42049865722656_76.52970581054687_021_CW000_0.6346350908279419_0.00582999037578702_0.9847762584686279.jpg\n"
     ]
    },
    {
     "name": "stderr",
     "output_type": "stream",
     "text": [
      " 91%|█████████▏| 3024/3313 [02:27<00:16, 17.83it/s]"
     ]
    },
    {
     "name": "stdout",
     "output_type": "stream",
     "text": [
      "Problem with file ../raw_data/images/testing/dunes/33.2634994506836_64.10084991455078_011_CW000_-0.10783100128173828_-0.27949056029319763_0.9294078350067139.jpg\n",
      "Problem with file ../raw_data/images/testing/dunes/38.035501098632814_96.5121353149414_01_CW000_-0.33969244360923767_0.8482838869094849_1.5306893587112427.jpg\n",
      "Problem with file ../raw_data/images/testing/dunes/38.035501098632814_96.38704528808594_00_CW000_-0.36313843727111816_0.8414802551269531_1.4331268072128296.jpg\n",
      "Problem with file ../raw_data/images/testing/dunes/42.47350006103515_100.6786865234375_020_CW000_-0.5684000253677368_0.29431968927383423_1.2928047180175781.jpg\n"
     ]
    },
    {
     "name": "stderr",
     "output_type": "stream",
     "text": [
      " 91%|█████████▏| 3028/3313 [02:27<00:15, 18.05it/s]"
     ]
    },
    {
     "name": "stdout",
     "output_type": "stream",
     "text": [
      "Problem with file ../raw_data/images/testing/dunes/20.641500091552736_16.26049919128418_02_CW000_-0.06017602980136871_0.0400286540389061_0.47494980692863464.jpg\n",
      "Problem with file ../raw_data/images/testing/dunes/44.31949920654297_109.65608673095703_011_CW000_-0.2641898989677429_0.6325899958610535_1.3895773887634277.jpg\n",
      "Problem with file ../raw_data/images/testing/dunes/42.64850082397461_100.40357666015625_031_CW000_-0.7548223733901978_0.3328409492969513_1.837989091873169.jpg\n",
      "Problem with file ../raw_data/images/testing/dunes/19.96749954223633_33.66650161743164_023_CW000_-0.9034959077835083_-0.08976404368877411_3.8963255882263184.jpg\n"
     ]
    },
    {
     "name": "stderr",
     "output_type": "stream",
     "text": [
      " 92%|█████████▏| 3032/3313 [02:28<00:15, 17.80it/s]"
     ]
    },
    {
     "name": "stdout",
     "output_type": "stream",
     "text": [
      "Problem with file ../raw_data/images/testing/dunes/31.428499603271483_57.25590057373047_032_CW000_-0.7345653176307678_0.5979325175285339_1.392768144607544.jpg\n",
      "Problem with file ../raw_data/images/testing/dunes/20.34150085449219_16.96085090637207_02_CW000_-0.4664161205291748_0.025598566979169846_0.5182279348373413.jpg\n",
      "Problem with file ../raw_data/images/testing/dunes/21.14650077819824_34.18283309936523_010_CW000_-0.8320323824882507_-0.25281721353530884_3.40447735786438.jpg\n",
      "Problem with file ../raw_data/images/testing/dunes/45.59150085449219_70.47865753173828_01_CW000_-0.12554486095905304_-0.678234875202179_1.9390069246292114.jpg\n"
     ]
    },
    {
     "name": "stderr",
     "output_type": "stream",
     "text": [
      " 92%|█████████▏| 3036/3313 [02:28<00:15, 17.50it/s]"
     ]
    },
    {
     "name": "stdout",
     "output_type": "stream",
     "text": [
      "Problem with file ../raw_data/images/testing/dunes/34.16850051879883_55.71162338256836_02_CW000_-0.8380444645881653_-0.0906069353222847_2.347200632095337.jpg\n",
      "Problem with file ../raw_data/images/testing/dunes/26.257500457763673_40.776736450195315_022_CW000_-0.08852653950452805_-0.008082548156380653_1.2819433212280273.jpg\n",
      "Problem with file ../raw_data/images/testing/dunes/40.52050094604492_76.27960357666015_023_CW000_-0.12234601378440857_0.7557646036148071_0.8422565460205078.jpg\n",
      "Problem with file ../raw_data/images/testing/dunes/33.2634994506836_64.02579803466797_012_CW000_-0.02712608315050602_-0.4054909646511078_0.9594680666923523.jpg\n"
     ]
    },
    {
     "name": "stderr",
     "output_type": "stream",
     "text": [
      " 92%|█████████▏| 3040/3313 [02:28<00:15, 17.31it/s]"
     ]
    },
    {
     "name": "stdout",
     "output_type": "stream",
     "text": [
      "Problem with file ../raw_data/images/testing/dunes/43.24250183105469_107.68583221435547_02_CW000_-0.19944815337657928_0.7376483678817749_1.9059548377990723.jpg\n",
      "Problem with file ../raw_data/images/testing/dunes/20.137500381469728_45.59250183105469_02_CW000_0.03911877050995827_-0.7461552619934082_2.172156810760498.jpg\n",
      "Problem with file ../raw_data/images/testing/dunes/15.082499885559082_47.75750045776367_031_CW000_0.5952817797660828_-0.33274322748184204_2.2023720741271973.jpg\n",
      "Problem with file ../raw_data/images/testing/dunes/33.31350173950195_63.80070190429687_031_CW000_-0.2792373597621918_-0.41813185811042786_0.7775893807411194.jpg\n"
     ]
    },
    {
     "name": "stderr",
     "output_type": "stream",
     "text": [
      " 92%|█████████▏| 3044/3313 [02:28<00:15, 17.29it/s]"
     ]
    },
    {
     "name": "stdout",
     "output_type": "stream",
     "text": [
      "Problem with file ../raw_data/images/testing/dunes/15.427499580383301_49.85749969482422_023_CW000_0.4275696873664856_-0.550430417060852_1.5378460884094238.jpg\n",
      "Problem with file ../raw_data/images/testing/dunes/38.560499572753905_96.66222534179687_033_CW000_0.052560217678546906_0.6555051207542419_1.05289888381958.jpg\n",
      "Problem with file ../raw_data/images/testing/dunes/26.28250045776367_40.801736450195314_013_CW000_-0.08852653950452805_-0.008082548156380653_1.2819433212280273.jpg\n",
      "Problem with file ../raw_data/images/testing/dunes/42.99250106811523_107.43572082519532_020_CW000_-0.15917082130908966_0.7355684638023376_1.9676432609558105.jpg\n"
     ]
    },
    {
     "name": "stderr",
     "output_type": "stream",
     "text": [
      " 92%|█████████▏| 3048/3313 [02:29<00:16, 15.74it/s]"
     ]
    },
    {
     "name": "stdout",
     "output_type": "stream",
     "text": [
      "Problem with file ../raw_data/images/testing/dunes/26.132500076293944_40.476557922363284_032_CW000_0.09911572188138962_0.35176339745521545_1.4056788682937622.jpg\n",
      "Problem with file ../raw_data/images/testing/dunes/43.11749954223633_107.23560943603516_010_CW000_-0.3239474892616272_0.7198408842086792_2.048227548599243.jpg\n",
      "Problem with file ../raw_data/images/testing/dunes/33.968499755859376_56.136792755126955_03_CW000_-0.3892465829849243_-0.4385664463043213_1.6566416025161743.jpg\n",
      "Problem with file ../raw_data/images/testing/dunes/33.31350173950195_64.32595367431641_032_CW000_-0.33856260776519775_-0.21173477172851562_0.9153397679328918.jpg\n"
     ]
    },
    {
     "name": "stderr",
     "output_type": "stream",
     "text": [
      " 92%|█████████▏| 3052/3313 [02:29<00:15, 16.41it/s]"
     ]
    },
    {
     "name": "stdout",
     "output_type": "stream",
     "text": [
      "Problem with file ../raw_data/images/testing/dunes/19.762499237060545_45.242498779296874_030_CW000_0.12202513217926025_-0.6915692090988159_2.2859389781951904.jpg\n",
      "Problem with file ../raw_data/images/testing/dunes/28.580500030517577_17.031874465942384_031_CW000_-0.3906416594982147_-0.2960372567176819_1.8671456575393677.jpg\n",
      "Problem with file ../raw_data/images/testing/dunes/33.41849975585937_56.16183319091797_020_CW000_-0.46064338088035583_0.18424516916275024_1.1554737091064453.jpg\n",
      "Problem with file ../raw_data/images/testing/dunes/45.516500854492186_70.6538070678711_030_CW000_-0.13911786675453186_-0.6843159198760986_1.9456740617752075.jpg\n"
     ]
    },
    {
     "name": "stderr",
     "output_type": "stream",
     "text": [
      " 92%|█████████▏| 3056/3313 [02:29<00:15, 16.75it/s]"
     ]
    },
    {
     "name": "stdout",
     "output_type": "stream",
     "text": [
      "Problem with file ../raw_data/images/testing/dunes/21.091500091552735_16.760749053955077_022_CW000_-0.6809753775596619_-0.17973986268043518_0.9162723422050476.jpg\n",
      "Problem with file ../raw_data/images/testing/dunes/29.03049964904785_17.132000732421876_011_CW000_-0.49418437480926514_-0.22355769574642181_1.8240255117416382.jpg\n",
      "Problem with file ../raw_data/images/testing/dunes/31.57449951171875_61.682673645019534_032_CW000_-0.9144409894943237_0.3138855993747711_5.053655624389648.jpg\n",
      "Problem with file ../raw_data/images/testing/dunes/43.667501831054686_107.26060943603515_031_CW000_-0.566089928150177_0.6573291420936584_2.460852861404419.jpg\n"
     ]
    },
    {
     "name": "stderr",
     "output_type": "stream",
     "text": [
      " 92%|█████████▏| 3060/3313 [02:29<00:14, 17.62it/s]"
     ]
    },
    {
     "name": "stdout",
     "output_type": "stream",
     "text": [
      "Problem with file ../raw_data/images/testing/dunes/31.62449951171875_61.35754470825195_011_CW000_-0.9472439885139465_0.28369036316871643_5.757511138916016.jpg\n",
      "Problem with file ../raw_data/images/testing/dunes/42.448500061035155_100.903759765625_031_CW000_-0.49239465594291687_0.19740483164787292_1.1725594997406006.jpg\n",
      "Problem with file ../raw_data/images/testing/dunes/20.54149971008301_16.760749053955077_02_CW000_-0.6785840392112732_0.05545015260577202_0.6573966145515442.jpg\n",
      "Problem with file ../raw_data/images/testing/dunes/20.266500854492186_16.91085090637207_030_CW000_-0.4664161205291748_0.025598566979169846_0.5182279348373413.jpg\n"
     ]
    },
    {
     "name": "stderr",
     "output_type": "stream",
     "text": [
      " 92%|█████████▏| 3064/3313 [02:29<00:13, 18.07it/s]"
     ]
    },
    {
     "name": "stdout",
     "output_type": "stream",
     "text": [
      "Problem with file ../raw_data/images/testing/dunes/25.78250045776367_40.62667694091797_010_CW000_0.11952321976423264_0.2164408564567566_1.4461398124694824.jpg\n",
      "Problem with file ../raw_data/images/testing/dunes/38.410498809814456_96.46204528808593_013_CW000_0.10158061981201172_0.8471601605415344_1.5373255014419556.jpg\n",
      "Problem with file ../raw_data/images/testing/dunes/42.798499298095706_100.47861328125_010_CW000_-0.7477524280548096_0.3641163110733032_1.9214640855789185.jpg\n",
      "Problem with file ../raw_data/images/testing/dunes/42.948500061035155_100.65364990234374_033_CW000_-0.5945671796798706_0.6023494601249695_2.0742669105529785.jpg\n"
     ]
    },
    {
     "name": "stderr",
     "output_type": "stream",
     "text": [
      " 93%|█████████▎| 3068/3313 [02:30<00:13, 18.19it/s]"
     ]
    },
    {
     "name": "stdout",
     "output_type": "stream",
     "text": [
      "Problem with file ../raw_data/images/testing/dunes/44.94450149536133_109.48091430664063_02_CW000_-0.3180440068244934_0.6565249562263489_1.7250334024429321.jpg\n",
      "Problem with file ../raw_data/images/testing/dunes/25.632500076293944_40.42655792236328_030_CW000_0.09549535065889359_0.3240325152873993_1.4849518537521362.jpg\n",
      "Problem with file ../raw_data/images/testing/dunes/38.33550033569336_96.186865234375_00_CW000_0.004880859050899744_0.8867989778518677_1.5097514390945435.jpg\n",
      "Problem with file ../raw_data/images/testing/dunes/20.92150001525879_34.28291549682617_020_CW000_-0.7939646244049072_-0.3145603835582733_3.4608707427978516.jpg\n"
     ]
    },
    {
     "name": "stderr",
     "output_type": "stream",
     "text": [
      " 93%|█████████▎| 3072/3313 [02:30<00:13, 18.36it/s]"
     ]
    },
    {
     "name": "stdout",
     "output_type": "stream",
     "text": [
      "Problem with file ../raw_data/images/testing/dunes/14.80749969482422_47.932501220703124_020_CW000_0.6021972894668579_-0.26524773240089417_1.629909634590149.jpg\n",
      "Problem with file ../raw_data/images/testing/dunes/45.166499328613284_70.8288818359375_013_CW000_-0.1928340345621109_-0.6832738518714905_1.9524868726730347.jpg\n",
      "Problem with file ../raw_data/images/testing/dunes/28.705500411987305_17.257125091552734_022_CW000_-0.41911643743515015_-0.269721657037735_1.7972992658615112.jpg\n",
      "Problem with file ../raw_data/images/testing/dunes/44.744500732421876_109.08058471679688_02_CW000_-0.3530530035495758_0.667420506477356_2.020052671432495.jpg\n"
     ]
    },
    {
     "name": "stderr",
     "output_type": "stream",
     "text": [
      " 93%|█████████▎| 3076/3313 [02:30<00:12, 18.41it/s]"
     ]
    },
    {
     "name": "stdout",
     "output_type": "stream",
     "text": [
      "Problem with file ../raw_data/images/testing/dunes/41.22050170898437_76.35464019775391_022_CW000_0.36324208974838257_-0.1682421863079071_0.8382837176322937.jpg\n",
      "Problem with file ../raw_data/images/testing/dunes/20.91649932861328_16.660699081420898_012_CW000_-0.6810302734375_0.0036022611893713474_0.6935921311378479.jpg\n",
      "Problem with file ../raw_data/images/testing/dunes/31.324500274658202_61.83276214599609_010_CW000_-0.8920423984527588_0.3653720021247864_4.07539176940918.jpg\n",
      "Problem with file ../raw_data/images/testing/dunes/38.510501098632815_96.43704528808594_012_CW000_0.16036121547222137_0.783257007598877_1.3496683835983276.jpg\n"
     ]
    },
    {
     "name": "stderr",
     "output_type": "stream",
     "text": [
      " 93%|█████████▎| 3080/3313 [02:30<00:12, 18.42it/s]"
     ]
    },
    {
     "name": "stdout",
     "output_type": "stream",
     "text": [
      "Problem with file ../raw_data/images/testing/dunes/41.545500946044925_76.42966918945312_011_CW000_0.6116629838943481_-0.02190515398979187_0.9145123958587646.jpg\n",
      "Problem with file ../raw_data/images/testing/dunes/45.56650085449219_70.87896423339843_011_CW000_-0.1376262903213501_-0.6878644824028015_1.9643235206604004.jpg\n",
      "Problem with file ../raw_data/images/testing/dunes/20.112500381469726_45.36750106811523_011_CW000_0.05746952071785927_-0.7298583388328552_2.200040578842163.jpg\n",
      "Problem with file ../raw_data/images/testing/dunes/40.89549865722656_77.02988128662109_031_CW000_-0.6934092044830322_0.29324617981910706_0.6616343855857849.jpg\n"
     ]
    },
    {
     "name": "stderr",
     "output_type": "stream",
     "text": [
      " 93%|█████████▎| 3084/3313 [02:30<00:12, 18.45it/s]"
     ]
    },
    {
     "name": "stdout",
     "output_type": "stream",
     "text": [
      "Problem with file ../raw_data/images/testing/dunes/31.453499603271485_57.33096771240234_021_CW000_-0.8061213493347168_0.5177724957466125_1.5697107315063477.jpg\n",
      "Problem with file ../raw_data/images/testing/dunes/19.992499542236327_33.94187469482422_012_CW000_-0.8571401238441467_-0.14741413295269012_3.6080596446990967.jpg\n",
      "Problem with file ../raw_data/images/testing/dunes/42.99250106811523_107.91094360351562_023_CW000_0.16554132103919983_0.7164748907089233_1.9545917510986328.jpg\n",
      "Problem with file ../raw_data/images/testing/dunes/45.391500091552736_70.42857513427734_03_CW000_-0.1623912900686264_-0.6763166785240173_1.9462718963623047.jpg\n"
     ]
    },
    {
     "name": "stderr",
     "output_type": "stream",
     "text": [
      " 93%|█████████▎| 3088/3313 [02:31<00:12, 18.28it/s]"
     ]
    },
    {
     "name": "stdout",
     "output_type": "stream",
     "text": [
      "Problem with file ../raw_data/images/testing/dunes/45.34150009155273_70.32850036621093_023_CW000_-0.17213918268680573_-0.6666615009307861_1.9171922206878662.jpg\n",
      "Problem with file ../raw_data/images/testing/dunes/33.6635009765625_64.02579803466797_012_CW000_-0.5101184844970703_-0.3115123510360718_1.1709128618240356.jpg\n",
      "Problem with file ../raw_data/images/testing/dunes/14.732500267028808_47.90749893188477_013_CW000_0.6285747289657593_-0.3254481256008148_1.4163028001785278.jpg\n",
      "Problem with file ../raw_data/images/testing/dunes/41.445498657226565_76.57970581054687_013_CW000_0.6346350908279419_0.00582999037578702_0.9847762584686279.jpg\n"
     ]
    },
    {
     "name": "stderr",
     "output_type": "stream",
     "text": [
      " 93%|█████████▎| 3092/3313 [02:31<00:12, 17.08it/s]"
     ]
    },
    {
     "name": "stdout",
     "output_type": "stream",
     "text": [
      "Problem with file ../raw_data/images/testing/dunes/33.01349868774414_64.3509536743164_033_CW000_-0.6222116947174072_0.5289663076400757_0.8175492882728577.jpg\n",
      "Problem with file ../raw_data/images/testing/dunes/42.923501586914064_101.25386962890624_03_CW000_-0.5839303731918335_0.4209716022014618_1.3743618726730347.jpg\n",
      "Problem with file ../raw_data/images/testing/dunes/20.97150001525879_34.30791549682617_01_CW000_-0.7939646244049072_-0.3145603835582733_3.4608707427978516.jpg\n",
      "Problem with file ../raw_data/images/testing/dunes/32.863501739501956_63.97579803466797_010_CW000_-0.43390098214149475_0.33914071321487427_0.6866678595542908.jpg\n"
     ]
    },
    {
     "name": "stderr",
     "output_type": "stream",
     "text": [
      " 93%|█████████▎| 3096/3313 [02:31<00:12, 17.66it/s]"
     ]
    },
    {
     "name": "stdout",
     "output_type": "stream",
     "text": [
      "Problem with file ../raw_data/images/testing/dunes/44.519499969482425_108.98050231933594_012_CW000_-0.5493270754814148_0.5796059966087341_2.085843086242676.jpg\n",
      "Problem with file ../raw_data/images/testing/dunes/41.64549942016602_76.82980804443359_011_CW000_0.8368099927902222_0.060292404145002365_1.2634457349777222.jpg\n",
      "Problem with file ../raw_data/images/testing/dunes/29.180500411987303_17.382249450683595_033_CW000_-0.5175797343254089_-0.26923468708992004_1.81417977809906.jpg\n",
      "Problem with file ../raw_data/images/testing/dunes/31.303500747680665_56.70556488037109_00_CW000_-0.17529793083667755_0.4317544996738434_1.0995070934295654.jpg\n"
     ]
    },
    {
     "name": "stderr",
     "output_type": "stream",
     "text": [
      " 94%|█████████▎| 3100/3313 [02:31<00:11, 17.82it/s]"
     ]
    },
    {
     "name": "stdout",
     "output_type": "stream",
     "text": [
      "Problem with file ../raw_data/images/testing/dunes/38.5854995727539_96.43704528808594_022_CW000_0.12886519730091095_0.7174606919288635_1.1566250324249268.jpg\n",
      "Problem with file ../raw_data/images/testing/dunes/45.26650161743164_70.87896423339843_011_CW000_-0.2021656036376953_-0.6938071846961975_1.998993158340454.jpg\n",
      "Problem with file ../raw_data/images/testing/dunes/32.913500213623045_64.12584991455078_032_CW000_-0.4501468241214752_0.3341437578201294_0.6634880304336548.jpg\n",
      "Problem with file ../raw_data/images/testing/dunes/14.70750026702881_48.15749816894531_021_CW000_0.6126409769058228_-0.2340208739042282_1.2610050439834595.jpg\n"
     ]
    },
    {
     "name": "stderr",
     "output_type": "stream",
     "text": [
      " 94%|█████████▎| 3104/3313 [02:32<00:11, 18.09it/s]"
     ]
    },
    {
     "name": "stdout",
     "output_type": "stream",
     "text": [
      "Problem with file ../raw_data/images/testing/dunes/25.93249931335449_41.051911163330075_031_CW000_-0.020494312047958374_-0.07841527462005615_1.2872204780578613.jpg\n",
      "Problem with file ../raw_data/images/testing/dunes/42.34850158691406_100.60364990234375_031_CW000_-0.5230313539505005_0.3490811586380005_1.3080353736877441.jpg\n",
      "Problem with file ../raw_data/images/testing/dunes/40.49550094604492_76.60474243164063_030_CW000_-0.5778640508651733_0.7082821726799011_1.0332496166229248.jpg\n",
      "Problem with file ../raw_data/images/testing/dunes/38.61049957275391_96.236865234375_012_CW000_0.16212278604507446_0.7956377267837524_1.380468726158142.jpg\n"
     ]
    },
    {
     "name": "stderr",
     "output_type": "stream",
     "text": [
      " 94%|█████████▍| 3108/3313 [02:32<00:11, 18.49it/s]"
     ]
    },
    {
     "name": "stdout",
     "output_type": "stream",
     "text": [
      "Problem with file ../raw_data/images/testing/dunes/34.06849822998047_55.636582946777345_03_CW000_-0.8293412327766418_0.010032386519014835_2.236435651779175.jpg\n",
      "Problem with file ../raw_data/images/testing/dunes/38.0854995727539_95.86149749755859_023_CW000_-0.38617706298828125_0.8664689064025879_1.3352460861206055.jpg\n",
      "Problem with file ../raw_data/images/testing/dunes/38.010501098632815_96.38704528808594_010_CW000_-0.36313843727111816_0.8414802551269531_1.4331268072128296.jpg\n",
      "Problem with file ../raw_data/images/testing/dunes/19.992499542236327_33.89187469482422_010_CW000_-0.8571401238441467_-0.14741413295269012_3.6080596446990967.jpg\n"
     ]
    },
    {
     "name": "stderr",
     "output_type": "stream",
     "text": [
      " 94%|█████████▍| 3112/3313 [02:32<00:11, 18.24it/s]"
     ]
    },
    {
     "name": "stdout",
     "output_type": "stream",
     "text": [
      "Problem with file ../raw_data/images/testing/dunes/40.89549865722656_76.27960357666015_033_CW000_0.6012409925460815_0.2421332597732544_0.9206333756446838.jpg\n",
      "Problem with file ../raw_data/images/testing/dunes/31.724499893188476_61.60762939453125_013_CW000_-0.9222880005836487_0.3065781891345978_5.424952507019043.jpg\n",
      "Problem with file ../raw_data/images/testing/dunes/25.826500701904298_7.751500034332276_020_CW000_-0.09208878129720688_-0.37843793630599976_1.071054458618164.jpg\n",
      "Problem with file ../raw_data/images/testing/dunes/20.941499328613283_17.11095085144043_00_CW000_-0.5473282337188721_-0.015356907621026039_0.7793093919754028.jpg\n"
     ]
    },
    {
     "name": "stderr",
     "output_type": "stream",
     "text": [
      " 94%|█████████▍| 3116/3313 [02:32<00:10, 18.34it/s]"
     ]
    },
    {
     "name": "stdout",
     "output_type": "stream",
     "text": [
      "Problem with file ../raw_data/images/testing/dunes/38.46050109863281_96.5621353149414_033_CW000_0.13647308945655823_0.7535533308982849_1.2568947076797485.jpg\n",
      "Problem with file ../raw_data/images/testing/dunes/25.78250045776367_40.42655792236328_010_CW000_0.12277072668075562_0.3527190387248993_1.4977598190307617.jpg\n",
      "Problem with file ../raw_data/images/testing/dunes/45.21650161743164_70.32850036621093_033_CW000_-0.19073069095611572_-0.6680041551589966_1.9273992776870728.jpg\n",
      "Problem with file ../raw_data/images/testing/dunes/31.828499221801756_57.25590057373047_032_CW000_-0.7824859023094177_0.48101377487182617_1.7364662885665894.jpg\n"
     ]
    },
    {
     "name": "stderr",
     "output_type": "stream",
     "text": [
      " 94%|█████████▍| 3120/3313 [02:32<00:10, 18.57it/s]"
     ]
    },
    {
     "name": "stdout",
     "output_type": "stream",
     "text": [
      "Problem with file ../raw_data/images/testing/dunes/38.11049957275391_95.91158752441406_011_CW000_-0.40668028593063354_0.8547045588493347_1.372118353843689.jpg\n",
      "Problem with file ../raw_data/images/testing/dunes/32.7634994506836_63.57559814453125_010_CW000_-0.5718586444854736_-0.055575937032699585_0.7914447784423828.jpg\n",
      "Problem with file ../raw_data/images/testing/dunes/31.678500366210937_57.13083343505859_011_CW000_-0.6969375610351562_0.6152050495147705_1.4064199924468994.jpg\n",
      "Problem with file ../raw_data/images/testing/dunes/31.40349922180176_57.20590057373047_00_CW000_-0.6969814896583557_0.6346865892410278_1.2112970352172852.jpg\n"
     ]
    },
    {
     "name": "stderr",
     "output_type": "stream",
     "text": [
      " 94%|█████████▍| 3124/3313 [02:33<00:10, 18.56it/s]"
     ]
    },
    {
     "name": "stdout",
     "output_type": "stream",
     "text": [
      "Problem with file ../raw_data/images/testing/dunes/33.48850021362305_63.725650024414065_02_CW000_-0.7157612442970276_-0.18459554016590118_0.8789709210395813.jpg\n",
      "Problem with file ../raw_data/images/testing/dunes/25.9075008392334_40.801736450195314_03_CW000_0.0924835130572319_0.1494700312614441_1.3801978826522827.jpg\n",
      "Problem with file ../raw_data/images/testing/dunes/42.37350158691406_101.1538330078125_023_CW000_-0.36165499687194824_0.17034883797168732_1.0835613012313843.jpg\n",
      "Problem with file ../raw_data/images/testing/dunes/41.17049942016602_76.57970581054687_03_CW000_0.4803626835346222_-0.010953057557344437_0.7996968030929565.jpg\n"
     ]
    },
    {
     "name": "stderr",
     "output_type": "stream",
     "text": [
      " 94%|█████████▍| 3128/3313 [02:33<00:09, 18.72it/s]"
     ]
    },
    {
     "name": "stdout",
     "output_type": "stream",
     "text": [
      "Problem with file ../raw_data/images/testing/dunes/38.21050186157227_96.48713531494141_010_CW000_-0.0465027317404747_0.8922232985496521_1.7161295413970947.jpg\n",
      "Problem with file ../raw_data/images/testing/dunes/31.474499130249022_61.807717895507814_033_CW000_-0.9059226512908936_0.3216901421546936_4.6800007820129395.jpg\n",
      "Problem with file ../raw_data/images/testing/dunes/40.57050094604492_76.15456695556641_02_CW000_-0.005460376851260662_0.8130400776863098_0.9616098403930664.jpg\n",
      "Problem with file ../raw_data/images/testing/dunes/45.11649932861328_70.50365753173828_032_CW000_-0.16307269036769867_-0.6771461963653564_1.9460620880126953.jpg\n"
     ]
    },
    {
     "name": "stderr",
     "output_type": "stream",
     "text": [
      " 95%|█████████▍| 3132/3313 [02:33<00:09, 18.57it/s]"
     ]
    },
    {
     "name": "stdout",
     "output_type": "stream",
     "text": [
      "Problem with file ../raw_data/images/testing/dunes/21.016499710083007_16.91085090637207_010_CW000_-0.6646875739097595_-0.03605775535106659_0.8784871697425842.jpg\n",
      "Problem with file ../raw_data/images/testing/dunes/33.54349822998047_55.51154251098633_012_CW000_-0.783058762550354_0.30442818999290466_1.43746817111969.jpg\n",
      "Problem with file ../raw_data/images/testing/dunes/40.595499420166014_76.0045379638672_030_CW000_0.3640296459197998_0.7231192588806152_1.1394288539886475.jpg\n",
      "Problem with file ../raw_data/images/testing/dunes/25.9875_25.947499084472657_021_CW000_-0.7658425569534302_-0.23666107654571533_1.8346564769744873.jpg\n"
     ]
    },
    {
     "name": "stderr",
     "output_type": "stream",
     "text": [
      " 95%|█████████▍| 3136/3313 [02:33<00:09, 18.48it/s]"
     ]
    },
    {
     "name": "stdout",
     "output_type": "stream",
     "text": [
      "Problem with file ../raw_data/images/testing/dunes/21.066500091552733_16.81080093383789_030_CW000_-0.7410833835601807_-0.14505797624588013_0.8259909749031067.jpg\n",
      "Problem with file ../raw_data/images/testing/dunes/31.85349922180176_57.030766296386716_021_CW000_-0.6958179473876953_0.582922101020813_1.327202558517456.jpg\n",
      "Problem with file ../raw_data/images/testing/dunes/43.06749954223633_107.21055755615234_033_CW000_-0.34123143553733826_0.7120633125305176_2.0533828735351562.jpg\n",
      "Problem with file ../raw_data/images/testing/dunes/45.541500854492185_70.50365753173828_022_CW000_-0.12554486095905304_-0.678234875202179_1.9390069246292114.jpg\n"
     ]
    },
    {
     "name": "stderr",
     "output_type": "stream",
     "text": [
      " 95%|█████████▍| 3140/3313 [02:34<00:09, 18.29it/s]"
     ]
    },
    {
     "name": "stdout",
     "output_type": "stream",
     "text": [
      "Problem with file ../raw_data/images/testing/dunes/38.36049880981445_96.5621353149414_033_CW000_0.07820376008749008_0.8291241526603699_1.4357186555862427.jpg\n",
      "Problem with file ../raw_data/images/testing/dunes/25.851500701904296_7.751500034332276_010_CW000_-0.09208878129720688_-0.37843793630599976_1.071054458618164.jpg\n",
      "Problem with file ../raw_data/images/testing/dunes/42.99250106811523_107.26060943603515_021_CW000_-0.26746049523353577_0.7162901759147644_1.9901317358016968.jpg\n",
      "Problem with file ../raw_data/images/testing/dunes/32.96350021362305_63.87574996948242_010_CW000_-0.24206915497779846_0.034709881991147995_0.6473000049591064.jpg\n"
     ]
    },
    {
     "name": "stderr",
     "output_type": "stream",
     "text": [
      " 95%|█████████▍| 3144/3313 [02:34<00:09, 18.35it/s]"
     ]
    },
    {
     "name": "stdout",
     "output_type": "stream",
     "text": [
      "Problem with file ../raw_data/images/testing/dunes/15.177500343322754_49.85749969482422_03_CW000_0.6504278182983398_-0.47019436955451965_1.0947129726409912.jpg\n",
      "Problem with file ../raw_data/images/testing/dunes/41.34550018310547_76.8548080444336_012_CW000_0.5145411491394043_-0.05378112569451332_0.8617978692054749.jpg\n",
      "Problem with file ../raw_data/images/testing/dunes/31.603499984741212_56.90569915771484_00_CW000_-0.4845132827758789_0.7173264026641846_0.9956381916999817.jpg\n",
      "Problem with file ../raw_data/images/testing/dunes/33.69349899291992_55.98674850463867_031_CW000_-0.2964558005332947_-0.33702805638313293_1.4916207790374756.jpg\n"
     ]
    },
    {
     "name": "stderr",
     "output_type": "stream",
     "text": [
      " 95%|█████████▌| 3148/3313 [02:34<00:08, 18.39it/s]"
     ]
    },
    {
     "name": "stdout",
     "output_type": "stream",
     "text": [
      "Problem with file ../raw_data/images/testing/dunes/21.091500091552735_16.6856990814209_023_CW000_-0.5446922779083252_-0.3825142979621887_1.0154786109924316.jpg\n",
      "Problem with file ../raw_data/images/testing/dunes/40.545500946044925_76.8048080444336_010_CW000_-0.752255916595459_0.5898942351341248_1.277889370918274.jpg\n",
      "Problem with file ../raw_data/images/testing/dunes/34.018498229980466_55.58658294677734_021_CW000_-0.8293412327766418_0.010032386519014835_2.236435651779175.jpg\n",
      "Problem with file ../raw_data/images/testing/dunes/28.955499267578126_16.781499481201173_03_CW000_-0.4088534414768219_-0.3161790072917938_1.8825643062591553.jpg\n"
     ]
    },
    {
     "name": "stderr",
     "output_type": "stream",
     "text": [
      " 95%|█████████▌| 3152/3313 [02:34<00:08, 18.14it/s]"
     ]
    },
    {
     "name": "stdout",
     "output_type": "stream",
     "text": [
      "Problem with file ../raw_data/images/testing/dunes/31.39950065612793_62.03284683227539_020_CW000_-0.8582533001899719_0.34897834062576294_3.7229902744293213.jpg\n",
      "Problem with file ../raw_data/images/testing/dunes/32.788499450683595_63.70065002441406_01_CW000_-0.543756365776062_0.05391550064086914_0.7607227563858032.jpg\n",
      "Problem with file ../raw_data/images/testing/dunes/31.999501037597657_61.63267364501953_020_CW000_-0.8953281044960022_0.28921231627464294_4.824737071990967.jpg\n",
      "Problem with file ../raw_data/images/testing/dunes/31.328499221801756_56.73056488037109_031_CW000_-0.22673991322517395_0.5100675225257874_1.04258131980896.jpg\n"
     ]
    },
    {
     "name": "stderr",
     "output_type": "stream",
     "text": [
      " 95%|█████████▌| 3156/3313 [02:34<00:08, 18.42it/s]"
     ]
    },
    {
     "name": "stdout",
     "output_type": "stream",
     "text": [
      "Problem with file ../raw_data/images/testing/dunes/31.40349922180176_56.65550155639649_02_CW000_-0.18898075819015503_0.47843360900878906_1.0891294479370117.jpg\n",
      "Problem with file ../raw_data/images/testing/dunes/25.8765007019043_7.826500034332275_03_CW000_-0.09208878129720688_-0.37843793630599976_1.071054458618164.jpg\n",
      "Problem with file ../raw_data/images/testing/dunes/33.44349975585938_56.186833190917966_011_CW000_-0.46064338088035583_0.18424516916275024_1.1554737091064453.jpg\n",
      "Problem with file ../raw_data/images/testing/dunes/20.316500854492187_16.21049919128418_010_CW000_0.29386845231056213_0.24127914011478424_0.6688743829727173.jpg\n"
     ]
    },
    {
     "name": "stderr",
     "output_type": "stream",
     "text": [
      " 95%|█████████▌| 3160/3313 [02:35<00:08, 18.45it/s]"
     ]
    },
    {
     "name": "stdout",
     "output_type": "stream",
     "text": [
      "Problem with file ../raw_data/images/testing/dunes/18.762499237060545_45.967499542236325_031_CW000_-0.11082775145769119_-0.7671975493431091_2.342355728149414.jpg\n",
      "Problem with file ../raw_data/images/testing/dunes/33.2634994506836_63.775701904296874_010_CW000_-0.058669015765190125_-0.4941750466823578_0.7816983461380005.jpg\n",
      "Problem with file ../raw_data/images/testing/dunes/44.41950149536133_109.2056671142578_013_CW000_-0.5832961797714233_0.5323303937911987_1.8591136932373047.jpg\n",
      "Problem with file ../raw_data/images/testing/dunes/31.70350036621094_56.73056488037109_01_CW000_-0.3664163649082184_0.7035951018333435_0.9957700967788696.jpg\n"
     ]
    },
    {
     "name": "stderr",
     "output_type": "stream",
     "text": [
      " 96%|█████████▌| 3164/3313 [02:35<00:08, 18.52it/s]"
     ]
    },
    {
     "name": "stdout",
     "output_type": "stream",
     "text": [
      "Problem with file ../raw_data/images/testing/dunes/31.87450065612793_61.23250045776367_030_CW000_-0.9276737570762634_0.34540581703186035_5.80122709274292.jpg\n",
      "Problem with file ../raw_data/images/testing/dunes/41.470498657226564_76.62974243164062_01_CW000_0.688023030757904_0.03532743453979492_1.0739624500274658.jpg\n",
      "Problem with file ../raw_data/images/testing/dunes/25.8575008392334_40.776736450195315_022_CW000_0.0924835130572319_0.1494700312614441_1.3801978826522827.jpg\n",
      "Problem with file ../raw_data/images/testing/dunes/41.270501708984376_76.8048080444336_00_CW000_0.26745280623435974_-0.13000425696372986_0.7670804858207703.jpg\n"
     ]
    },
    {
     "name": "stderr",
     "output_type": "stream",
     "text": [
      " 96%|█████████▌| 3168/3313 [02:35<00:07, 18.46it/s]"
     ]
    },
    {
     "name": "stdout",
     "output_type": "stream",
     "text": [
      "Problem with file ../raw_data/images/testing/dunes/26.257500457763673_41.051911163330075_021_CW000_-0.1396024376153946_-0.19605056941509247_1.3086574077606201.jpg\n",
      "Problem with file ../raw_data/images/testing/dunes/43.04849853515625_100.80372314453125_031_CW000_-0.4079539477825165_0.7680480480194092_2.133735179901123.jpg\n",
      "Problem with file ../raw_data/images/testing/dunes/33.53849868774414_63.775701904296874_020_CW000_-0.6696593761444092_-0.17544731497764587_0.9920624494552612.jpg\n",
      "Problem with file ../raw_data/images/testing/dunes/42.54849853515625_100.7286865234375_032_CW000_-0.6895604133605957_0.28865087032318115_1.4176580905914307.jpg\n"
     ]
    },
    {
     "name": "stderr",
     "output_type": "stream",
     "text": [
      " 96%|█████████▌| 3172/3313 [02:35<00:08, 17.25it/s]"
     ]
    },
    {
     "name": "stdout",
     "output_type": "stream",
     "text": [
      "Problem with file ../raw_data/images/testing/dunes/33.56349868774414_63.70065002441406_011_CW000_-0.6641709208488464_-0.1211867555975914_0.9556662440299988.jpg\n",
      "Problem with file ../raw_data/images/testing/dunes/33.518498229980466_55.78666763305664_021_CW000_-0.4758235812187195_-0.08277229964733124_1.2777628898620605.jpg\n",
      "Problem with file ../raw_data/images/testing/dunes/40.64549942016602_76.62974243164062_011_CW000_-0.35581591725349426_0.7801026105880737_0.7738096117973328.jpg\n",
      "Problem with file ../raw_data/images/testing/dunes/29.180500411987303_16.856625747680663_032_CW000_-0.5021669268608093_-0.23237678408622742_1.9316169023513794.jpg\n"
     ]
    },
    {
     "name": "stderr",
     "output_type": "stream",
     "text": [
      " 96%|█████████▌| 3176/3313 [02:36<00:07, 17.55it/s]"
     ]
    },
    {
     "name": "stdout",
     "output_type": "stream",
     "text": [
      "Problem with file ../raw_data/images/testing/dunes/26.212500762939452_25.997499084472658_013_CW000_-0.754910409450531_-0.20091891288757324_1.747833490371704.jpg\n",
      "Problem with file ../raw_data/images/testing/dunes/33.79350128173828_55.68662338256836_031_CW000_-0.8179576992988586_0.06272365152835846_1.8955152034759521.jpg\n",
      "Problem with file ../raw_data/images/testing/dunes/31.849500274658205_61.30750045776367_03_CW000_-0.9337172508239746_0.3349795639514923_5.970757484436035.jpg\n",
      "Problem with file ../raw_data/images/testing/dunes/15.107499885559083_48.282500457763675_022_CW000_0.530726969242096_-0.27493077516555786_2.1112582683563232.jpg\n"
     ]
    },
    {
     "name": "stderr",
     "output_type": "stream",
     "text": [
      " 96%|█████████▌| 3180/3313 [02:36<00:07, 18.05it/s]"
     ]
    },
    {
     "name": "stdout",
     "output_type": "stream",
     "text": [
      "Problem with file ../raw_data/images/testing/dunes/31.39950065612793_61.48258514404297_022_CW000_-0.9479904174804688_0.27951526641845703_5.437341690063477.jpg\n",
      "Problem with file ../raw_data/images/testing/dunes/31.878499221801757_57.48103485107422_013_CW000_-0.8880738615989685_0.3022298216819763_1.981667399406433.jpg\n",
      "Problem with file ../raw_data/images/testing/dunes/43.192501831054685_107.3856689453125_022_CW000_-0.33974334597587585_0.7245656251907349_2.0801100730895996.jpg\n",
      "Problem with file ../raw_data/images/testing/dunes/41.045500946044925_76.62974243164062_011_CW000_0.48151034116744995_0.07289420068264008_0.7118503451347351.jpg\n"
     ]
    },
    {
     "name": "stderr",
     "output_type": "stream",
     "text": [
      " 96%|█████████▌| 3184/3313 [02:36<00:07, 17.60it/s]"
     ]
    },
    {
     "name": "stdout",
     "output_type": "stream",
     "text": [
      "Problem with file ../raw_data/images/testing/dunes/20.391499328613282_16.28549919128418_023_CW000_0.17970147728919983_0.17535635828971863_0.5946692228317261.jpg\n",
      "Problem with file ../raw_data/images/testing/dunes/44.49449996948242_109.40583190917968_023_CW000_-0.5645065307617188_0.5564512014389038_1.8319741487503052.jpg\n",
      "Problem with file ../raw_data/images/testing/dunes/21.171500778198244_33.882582092285155_00_CW000_-0.893015444278717_-0.13983125984668732_3.5130422115325928.jpg\n",
      "Problem with file ../raw_data/images/testing/dunes/25.957499313354493_40.37649841308594_022_CW000_0.17173196375370026_0.4460687041282654_1.5383988618850708.jpg\n"
     ]
    },
    {
     "name": "stderr",
     "output_type": "stream",
     "text": [
      " 96%|█████████▌| 3188/3313 [02:36<00:06, 18.04it/s]"
     ]
    },
    {
     "name": "stdout",
     "output_type": "stream",
     "text": [
      "Problem with file ../raw_data/images/testing/dunes/25.562500381469725_27.247499084472658_033_CW000_-0.9265093207359314_0.09962987899780273_2.4819040298461914.jpg\n",
      "Problem with file ../raw_data/images/testing/dunes/44.669500732421874_109.18066711425782_032_CW000_-0.36131688952445984_0.6624869704246521_1.9650561809539795.jpg\n",
      "Problem with file ../raw_data/images/testing/dunes/15.502499961853028_49.85749969482422_033_CW000_0.36454153060913086_-0.5959151387214661_1.577105164527893.jpg\n",
      "Problem with file ../raw_data/images/testing/dunes/15.277499771118164_49.50750045776367_01_CW000_0.5308857560157776_-0.5527489185333252_1.415801763534546.jpg\n"
     ]
    },
    {
     "name": "stderr",
     "output_type": "stream",
     "text": [
      " 96%|█████████▋| 3192/3313 [02:36<00:06, 18.45it/s]"
     ]
    },
    {
     "name": "stdout",
     "output_type": "stream",
     "text": [
      "Problem with file ../raw_data/images/testing/dunes/43.56749954223633_107.76089172363281_031_CW000_-0.5074372291564941_0.603607714176178_1.8269751071929932.jpg\n",
      "Problem with file ../raw_data/images/testing/dunes/33.843501281738284_55.43649826049805_013_CW000_-0.8217553496360779_0.1607774943113327_1.945356011390686.jpg\n",
      "Problem with file ../raw_data/images/testing/dunes/15.007500457763673_47.80750045776367_023_CW000_0.5840241312980652_-0.33360782265663147_2.3078091144561768.jpg\n",
      "Problem with file ../raw_data/images/testing/dunes/43.592499542236325_107.8108917236328_023_CW000_-0.5074372291564941_0.603607714176178_1.8269751071929932.jpg\n"
     ]
    },
    {
     "name": "stderr",
     "output_type": "stream",
     "text": [
      " 96%|█████████▋| 3196/3313 [02:37<00:06, 18.40it/s]"
     ]
    },
    {
     "name": "stdout",
     "output_type": "stream",
     "text": [
      "Problem with file ../raw_data/images/testing/dunes/43.21750183105469_107.66083221435547_011_CW000_-0.19944815337657928_0.7376483678817749_1.9059548377990723.jpg\n",
      "Problem with file ../raw_data/images/testing/dunes/41.445498657226565_76.50470581054688_010_CW000_0.6346350908279419_0.00582999037578702_0.9847762584686279.jpg\n",
      "Problem with file ../raw_data/images/testing/dunes/34.16850051879883_55.486542510986325_01_CW000_-0.8300598859786987_-0.011208529584109783_2.364896297454834.jpg\n",
      "Problem with file ../raw_data/images/testing/dunes/42.823499298095705_100.82872314453125_02_CW000_-0.721983790397644_0.34904780983924866_1.684287190437317.jpg\n"
     ]
    },
    {
     "name": "stderr",
     "output_type": "stream",
     "text": [
      " 97%|█████████▋| 3200/3313 [02:37<00:06, 18.60it/s]"
     ]
    },
    {
     "name": "stdout",
     "output_type": "stream",
     "text": [
      "Problem with file ../raw_data/images/testing/dunes/31.92450065612793_61.70767364501953_013_CW000_-0.9040991067886353_0.28551948070526123_5.007256031036377.jpg\n",
      "Problem with file ../raw_data/images/testing/dunes/44.61949844360352_109.43091430664063_010_CW000_-0.48043006658554077_0.602738618850708_1.76814866065979.jpg\n",
      "Problem with file ../raw_data/images/testing/dunes/42.448500061035155_100.85372314453124_033_CW000_-0.5346254110336304_0.23889628052711487_1.2315219640731812.jpg\n",
      "Problem with file ../raw_data/images/testing/dunes/40.770501708984376_76.42966918945312_01_CW000_0.4125034213066101_0.5424414873123169_0.8603050112724304.jpg\n"
     ]
    },
    {
     "name": "stderr",
     "output_type": "stream",
     "text": [
      " 97%|█████████▋| 3204/3313 [02:37<00:06, 17.98it/s]"
     ]
    },
    {
     "name": "stdout",
     "output_type": "stream",
     "text": [
      "Problem with file ../raw_data/images/testing/dunes/20.66650047302246_16.710749053955077_030_CW000_-0.673046886920929_-0.037063002586364746_0.582739531993866.jpg\n",
      "Problem with file ../raw_data/images/testing/dunes/42.7734992980957_100.77872314453126_020_CW000_-0.721983790397644_0.34904780983924866_1.684287190437317.jpg\n",
      "Problem with file ../raw_data/images/testing/dunes/33.48850021362305_63.775701904296874_00_CW000_-0.5527076721191406_-0.28333184123039246_0.8531238436698914.jpg\n",
      "Problem with file ../raw_data/images/testing/dunes/33.6885009765625_64.02579803466797_02_CW000_-0.5101184844970703_-0.3115123510360718_1.1709128618240356.jpg\n"
     ]
    },
    {
     "name": "stderr",
     "output_type": "stream",
     "text": [
      " 97%|█████████▋| 3208/3313 [02:37<00:06, 17.25it/s]"
     ]
    },
    {
     "name": "stdout",
     "output_type": "stream",
     "text": [
      "Problem with file ../raw_data/images/testing/dunes/28.930499267578124_16.70649948120117_010_CW000_-0.4088534414768219_-0.3161790072917938_1.8825643062591553.jpg\n",
      "Problem with file ../raw_data/images/testing/dunes/31.549499130249025_61.407544708251955_03_CW000_-0.9509894251823425_0.279853492975235_5.712926864624023.jpg\n",
      "Problem with file ../raw_data/images/testing/dunes/40.695501708984374_77.1799102783203_033_CW000_-0.7616252303123474_0.5936388373374939_1.1994197368621826.jpg\n",
      "Problem with file ../raw_data/images/testing/dunes/21.121500778198243_34.1327507019043_022_CW000_-0.8437021374702454_-0.23805595934391022_3.461379289627075.jpg\n"
     ]
    },
    {
     "name": "stderr",
     "output_type": "stream",
     "text": [
      " 97%|█████████▋| 3212/3313 [02:38<00:05, 17.17it/s]"
     ]
    },
    {
     "name": "stdout",
     "output_type": "stream",
     "text": [
      "Problem with file ../raw_data/images/testing/dunes/15.277499771118164_49.807499694824216_01_CW000_0.5545884370803833_-0.479530394077301_1.2891514301300049.jpg\n",
      "Problem with file ../raw_data/images/testing/dunes/31.128500366210936_56.80563201904297_030_CW000_-0.21088147163391113_0.4786773920059204_0.9718106389045715.jpg\n",
      "Problem with file ../raw_data/images/testing/dunes/20.941499328613283_16.96085090637207_02_CW000_-0.6532648205757141_0.08141060918569565_0.7499223351478577.jpg\n",
      "Problem with file ../raw_data/images/testing/dunes/20.86649932861328_16.510649108886717_030_CW000_-0.6154614686965942_-0.12207043915987015_0.682747483253479.jpg\n"
     ]
    },
    {
     "name": "stderr",
     "output_type": "stream",
     "text": [
      " 97%|█████████▋| 3216/3313 [02:38<00:05, 17.37it/s]"
     ]
    },
    {
     "name": "stdout",
     "output_type": "stream",
     "text": [
      "Problem with file ../raw_data/images/testing/dunes/15.37750015258789_49.28249969482422_00_CW000_0.5144613981246948_-0.5667108297348022_1.959619164466858.jpg\n",
      "Problem with file ../raw_data/images/testing/dunes/42.34850158691406_100.47861328125_030_CW000_-0.5571810603141785_0.37100932002067566_1.3955365419387817.jpg\n",
      "Problem with file ../raw_data/images/testing/dunes/25.95149917602539_7.8766429901123045_011_CW000_-0.12161245197057724_-0.3521067798137665_1.071845293045044.jpg\n",
      "Problem with file ../raw_data/images/testing/dunes/29.10550003051758_17.056874465942382_022_CW000_-0.5043209195137024_-0.20788156986236572_1.8819308280944824.jpg\n"
     ]
    },
    {
     "name": "stderr",
     "output_type": "stream",
     "text": [
      " 97%|█████████▋| 3220/3313 [02:38<00:05, 17.80it/s]"
     ]
    },
    {
     "name": "stdout",
     "output_type": "stream",
     "text": [
      "Problem with file ../raw_data/images/testing/dunes/31.799500274658204_61.457585144042966_021_CW000_-0.9257928133010864_0.3133894205093384_5.601871490478516.jpg\n",
      "Problem with file ../raw_data/images/testing/dunes/33.86850128173828_55.61158294677735_02_CW000_-0.8350712060928345_0.10379926860332489_1.9671274423599243.jpg\n",
      "Problem with file ../raw_data/images/testing/dunes/31.35349922180176_56.63050155639648_021_CW000_-0.18898075819015503_0.47843360900878906_1.0891294479370117.jpg\n",
      "Problem with file ../raw_data/images/testing/dunes/37.98550109863281_96.43704528808594_022_CW000_-0.36313843727111816_0.8414802551269531_1.4331268072128296.jpg\n"
     ]
    },
    {
     "name": "stderr",
     "output_type": "stream",
     "text": [
      " 97%|█████████▋| 3224/3313 [02:38<00:05, 17.41it/s]"
     ]
    },
    {
     "name": "stdout",
     "output_type": "stream",
     "text": [
      "Problem with file ../raw_data/images/testing/dunes/21.066500091552733_17.13595085144043_031_CW000_-0.5856184363365173_-0.18860609829425812_0.8822872042655945.jpg\n",
      "Problem with file ../raw_data/images/testing/dunes/43.692501831054685_107.3356689453125_020_CW000_-0.5689128041267395_0.6423789262771606_2.355210304260254.jpg\n",
      "Problem with file ../raw_data/images/testing/dunes/40.67049942016602_76.25460357666016_02_CW000_0.2744268774986267_0.6674769520759583_0.818360447883606.jpg\n",
      "Problem with file ../raw_data/images/testing/dunes/33.743498992919925_55.81166763305664_012_CW000_-0.7027923464775085_-0.03171592205762863_1.5863442420959473.jpg\n"
     ]
    },
    {
     "name": "stderr",
     "output_type": "stream",
     "text": [
      " 97%|█████████▋| 3228/3313 [02:38<00:04, 17.83it/s]"
     ]
    },
    {
     "name": "stdout",
     "output_type": "stream",
     "text": [
      "Problem with file ../raw_data/images/testing/dunes/33.6885009765625_64.1759017944336_00_CW000_-0.3423406183719635_-0.3204615116119385_1.1499325037002563.jpg\n",
      "Problem with file ../raw_data/images/testing/dunes/45.041500854492185_70.50365753173828_022_CW000_-0.15549689531326294_-0.6650609970092773_1.904170274734497.jpg\n",
      "Problem with file ../raw_data/images/testing/dunes/40.61750183105469_101.81749877929687_03_CW000_0.33976122736930847_0.22724643349647522_1.1576907634735107.jpg\n",
      "Problem with file ../raw_data/images/testing/dunes/14.682500267028809_48.10749969482422_033_CW000_0.6427724361419678_-0.22423656284809113_1.2981243133544922.jpg\n"
     ]
    },
    {
     "name": "stderr",
     "output_type": "stream",
     "text": [
      " 98%|█████████▊| 3232/3313 [02:39<00:04, 18.08it/s]"
     ]
    },
    {
     "name": "stdout",
     "output_type": "stream",
     "text": [
      "Problem with file ../raw_data/images/testing/dunes/29.180500411987303_17.307249450683592_030_CW000_-0.5175797343254089_-0.26923468708992004_1.81417977809906.jpg\n",
      "Problem with file ../raw_data/images/testing/dunes/33.1385009765625_64.3509536743164_023_CW000_-0.4736398756504059_0.1598576307296753_0.7752802968025208.jpg\n",
      "Problem with file ../raw_data/images/testing/dunes/21.09650077819824_34.03266830444336_032_CW000_-0.8657909631729126_-0.19315387308597565_3.470747947692871.jpg\n",
      "Problem with file ../raw_data/images/testing/dunes/31.37450065612793_62.03284683227539_030_CW000_-0.8582533001899719_0.34897834062576294_3.7229902744293213.jpg\n"
     ]
    },
    {
     "name": "stderr",
     "output_type": "stream",
     "text": [
      " 98%|█████████▊| 3236/3313 [02:39<00:04, 18.44it/s]"
     ]
    },
    {
     "name": "stdout",
     "output_type": "stream",
     "text": [
      "Problem with file ../raw_data/images/testing/dunes/38.010501098632815_96.186865234375_010_CW000_-0.4190104901790619_0.8281781077384949_1.3005887269973755.jpg\n",
      "Problem with file ../raw_data/images/testing/dunes/38.71050186157227_96.61222534179687_011_CW000_0.06245463341474533_0.5495375394821167_0.9625502228736877.jpg\n",
      "Problem with file ../raw_data/images/testing/dunes/33.48850021362305_63.5005500793457_01_CW000_-0.8722261786460876_-0.07182224094867706_1.0256292819976807.jpg\n",
      "Problem with file ../raw_data/images/testing/dunes/41.22050170898437_76.75477905273438_022_CW000_0.35624563694000244_-0.1039375364780426_0.7911377549171448.jpg\n"
     ]
    },
    {
     "name": "stderr",
     "output_type": "stream",
     "text": [
      " 98%|█████████▊| 3240/3313 [02:39<00:03, 18.32it/s]"
     ]
    },
    {
     "name": "stdout",
     "output_type": "stream",
     "text": [
      "Problem with file ../raw_data/images/testing/dunes/38.28550033569336_95.7864974975586_020_CW000_-0.056062035262584686_0.863220751285553_1.2079259157180786.jpg\n",
      "Problem with file ../raw_data/images/testing/dunes/43.21750183105469_107.43572082519532_010_CW000_-0.30510076880455017_0.7323349118232727_2.0478405952453613.jpg\n",
      "Problem with file ../raw_data/images/testing/dunes/43.192501831054685_107.3606689453125_021_CW000_-0.33974334597587585_0.7245656251907349_2.0801100730895996.jpg\n",
      "Problem with file ../raw_data/images/testing/dunes/33.21349945068359_63.37549819946289_030_CW000_-0.837819516658783_-0.35563814640045166_0.88577800989151.jpg\n"
     ]
    },
    {
     "name": "stderr",
     "output_type": "stream",
     "text": [
      " 98%|█████████▊| 3244/3313 [02:39<00:03, 17.80it/s]"
     ]
    },
    {
     "name": "stdout",
     "output_type": "stream",
     "text": [
      "Problem with file ../raw_data/images/testing/dunes/32.888501739501955_63.45049819946289_03_CW000_-0.6618372797966003_-0.2832964360713959_0.8083289861679077.jpg\n",
      "Problem with file ../raw_data/images/testing/dunes/40.42049865722656_76.40466918945313_020_CW000_-0.5293348431587219_0.7111181616783142_0.9860074520111084.jpg\n",
      "Problem with file ../raw_data/images/testing/dunes/20.671500778198244_34.23283309936524_02_CW000_-0.8013686537742615_-0.28167471289634705_3.307112216949463.jpg\n",
      "Problem with file ../raw_data/images/testing/dunes/29.080500030517577_16.731499481201173_031_CW000_-0.48625698685646057_-0.29959172010421753_1.924341082572937.jpg\n"
     ]
    },
    {
     "name": "stderr",
     "output_type": "stream",
     "text": [
      " 98%|█████████▊| 3248/3313 [02:40<00:03, 17.83it/s]"
     ]
    },
    {
     "name": "stdout",
     "output_type": "stream",
     "text": [
      "Problem with file ../raw_data/images/testing/dunes/43.192501831054685_107.48572082519532_022_CW000_-0.30510076880455017_0.7323349118232727_2.0478405952453613.jpg\n",
      "Problem with file ../raw_data/images/testing/dunes/41.14549942016602_76.1795669555664_013_CW000_0.44003134965896606_-0.16835583746433258_0.781140148639679.jpg\n",
      "Problem with file ../raw_data/images/testing/dunes/31.278500747680663_56.980699157714845_013_CW000_-0.37960392236709595_0.6079015135765076_0.8213202357292175.jpg\n",
      "Problem with file ../raw_data/images/testing/dunes/38.060499572753905_96.16177520751953_033_CW000_-0.3402532637119293_0.8606117367744446_1.308220386505127.jpg\n"
     ]
    },
    {
     "name": "stderr",
     "output_type": "stream",
     "text": [
      " 98%|█████████▊| 3252/3313 [02:40<00:03, 18.19it/s]"
     ]
    },
    {
     "name": "stdout",
     "output_type": "stream",
     "text": [
      "Problem with file ../raw_data/images/testing/dunes/41.14549942016602_76.57970581054687_013_CW000_0.4803626835346222_-0.010953057557344437_0.7996968030929565.jpg\n",
      "Problem with file ../raw_data/images/testing/dunes/26.307500457763673_40.651676940917966_01_CW000_-0.009873449802398682_0.11496395617723465_1.2901782989501953.jpg\n",
      "Problem with file ../raw_data/images/testing/dunes/19.8924991607666_34.016999053955075_011_CW000_-0.8323107957839966_-0.17058706283569336_3.5404322147369385.jpg\n",
      "Problem with file ../raw_data/images/testing/dunes/28.60550003051758_16.781499481201173_023_CW000_-0.3544507920742035_-0.29909002780914307_1.8752869367599487.jpg\n"
     ]
    },
    {
     "name": "stderr",
     "output_type": "stream",
     "text": [
      " 98%|█████████▊| 3256/3313 [02:40<00:03, 18.38it/s]"
     ]
    },
    {
     "name": "stdout",
     "output_type": "stream",
     "text": [
      "Problem with file ../raw_data/images/testing/dunes/33.1385009765625_63.87574996948242_020_CW000_-0.09983144700527191_-0.3061773478984833_0.8082009553909302.jpg\n",
      "Problem with file ../raw_data/images/testing/dunes/19.64250030517578_33.6916259765625_030_CW000_-0.871794581413269_-0.09796477109193802_3.77341365814209.jpg\n",
      "Problem with file ../raw_data/images/testing/dunes/25.95149917602539_7.801500034332276_012_CW000_-0.15097318589687347_-0.36875617504119873_1.1030093431472778.jpg\n",
      "Problem with file ../raw_data/images/testing/dunes/41.22050170898437_76.8548080444336_022_CW000_0.26745280623435974_-0.13000425696372986_0.7670804858207703.jpg\n"
     ]
    },
    {
     "name": "stderr",
     "output_type": "stream",
     "text": [
      " 98%|█████████▊| 3260/3313 [02:40<00:02, 18.34it/s]"
     ]
    },
    {
     "name": "stdout",
     "output_type": "stream",
     "text": [
      "Problem with file ../raw_data/images/testing/dunes/31.228500747680663_57.180833435058595_033_CW000_-0.5770965218544006_0.6842880845069885_0.9176405668258667.jpg\n",
      "Problem with file ../raw_data/images/testing/dunes/15.082499885559082_47.80750045776367_033_CW000_0.5952817797660828_-0.33274322748184204_2.2023720741271973.jpg\n",
      "Problem with file ../raw_data/images/testing/dunes/42.948500061035155_100.45357666015624_033_CW000_-0.6404752135276794_0.5131795406341553_1.9527767896652222.jpg\n",
      "Problem with file ../raw_data/images/testing/dunes/19.542499923706053_33.7166259765625_031_CW000_-0.8629893064498901_-0.09205415844917297_3.7333590984344482.jpg\n"
     ]
    },
    {
     "name": "stderr",
     "output_type": "stream",
     "text": [
      " 99%|█████████▊| 3264/3313 [02:40<00:02, 17.63it/s]"
     ]
    },
    {
     "name": "stdout",
     "output_type": "stream",
     "text": [
      "Problem with file ../raw_data/images/testing/dunes/15.727499771118165_49.33249969482422_022_CW000_0.27702221274375916_-0.5867311954498291_1.8404041528701782.jpg\n",
      "Problem with file ../raw_data/images/testing/dunes/45.59150085449219_70.8288818359375_03_CW000_-0.1364414393901825_-0.6864626407623291_1.9521132707595825.jpg\n",
      "Problem with file ../raw_data/images/testing/dunes/31.35349922180176_57.28090057373047_023_CW000_-0.6969814896583557_0.6346865892410278_1.2112970352172852.jpg\n",
      "Problem with file ../raw_data/images/testing/dunes/28.730500411987304_17.207125091552733_010_CW000_-0.41911643743515015_-0.269721657037735_1.7972992658615112.jpg\n"
     ]
    },
    {
     "name": "stderr",
     "output_type": "stream",
     "text": [
      " 99%|█████████▊| 3268/3313 [02:41<00:02, 17.00it/s]"
     ]
    },
    {
     "name": "stdout",
     "output_type": "stream",
     "text": [
      "Problem with file ../raw_data/images/testing/dunes/26.026499557495118_8.051928901672364_020_CW000_-0.05685173347592354_-0.3322336673736572_1.0810060501098633.jpg\n",
      "Problem with file ../raw_data/images/testing/dunes/31.57449951171875_61.907762145996095_033_CW000_-0.8926652669906616_0.2984755337238312_4.462830543518066.jpg\n",
      "Problem with file ../raw_data/images/testing/dunes/20.41649932861328_16.660699081420898_012_CW000_-0.47623181343078613_0.09062356501817703_0.6424728631973267.jpg\n",
      "Problem with file ../raw_data/images/testing/dunes/42.823499298095705_100.7286865234375_02_CW000_-0.7328791618347168_0.36043301224708557_1.7636442184448242.jpg\n"
     ]
    },
    {
     "name": "stderr",
     "output_type": "stream",
     "text": [
      " 99%|█████████▉| 3272/3313 [02:41<00:02, 17.72it/s]"
     ]
    },
    {
     "name": "stdout",
     "output_type": "stream",
     "text": [
      "Problem with file ../raw_data/images/testing/dunes/40.74550170898438_77.12991027832031_011_CW000_-0.7616252303123474_0.5936388373374939_1.1994197368621826.jpg\n",
      "Problem with file ../raw_data/images/testing/dunes/31.849500274658205_61.95780258178711_01_CW000_-0.8641168475151062_0.25640398263931274_4.2204437255859375.jpg\n",
      "Problem with file ../raw_data/images/testing/dunes/34.16850051879883_55.68662338256836_01_CW000_-0.8380444645881653_-0.0906069353222847_2.347200632095337.jpg\n",
      "Problem with file ../raw_data/images/testing/dunes/33.288499450683595_64.27595367431641_00_CW000_-0.27645736932754517_-0.11519242823123932_0.8834002017974854.jpg\n"
     ]
    },
    {
     "name": "stderr",
     "output_type": "stream",
     "text": [
      " 99%|█████████▉| 3276/3313 [02:41<00:02, 17.88it/s]"
     ]
    },
    {
     "name": "stdout",
     "output_type": "stream",
     "text": [
      "Problem with file ../raw_data/images/testing/dunes/33.363501739501956_63.775701904296874_010_CW000_-0.2792373597621918_-0.41813185811042786_0.7775893807411194.jpg\n",
      "Problem with file ../raw_data/images/testing/dunes/15.157499885559082_47.80750045776367_03_CW000_0.5952817797660828_-0.33274322748184204_2.2023720741271973.jpg\n",
      "Problem with file ../raw_data/images/testing/dunes/25.5125_25.622499847412108_010_CW000_-0.7358306646347046_-0.399491548538208_1.8975234031677246.jpg\n",
      "Problem with file ../raw_data/images/testing/dunes/38.26050033569336_95.88658752441407_030_CW000_-0.09166600555181503_0.8732662200927734_1.2599958181381226.jpg\n"
     ]
    },
    {
     "name": "stderr",
     "output_type": "stream",
     "text": [
      " 99%|█████████▉| 3280/3313 [02:41<00:01, 17.44it/s]"
     ]
    },
    {
     "name": "stdout",
     "output_type": "stream",
     "text": [
      "Problem with file ../raw_data/images/testing/dunes/33.76849899291992_55.56158294677734_00_CW000_-0.816493809223175_0.16040976345539093_1.789162278175354.jpg\n",
      "Problem with file ../raw_data/images/testing/dunes/19.792500686645507_33.916874694824216_011_CW000_-0.8490555882453918_-0.13830071687698364_3.6207082271575928.jpg\n",
      "Problem with file ../raw_data/images/testing/dunes/40.79550018310547_76.95484466552735_032_CW000_-0.6352092027664185_0.5760141611099243_0.6418247818946838.jpg\n",
      "Problem with file ../raw_data/images/testing/dunes/15.252499771118163_49.532500457763675_012_CW000_0.5308857560157776_-0.5527489185333252_1.415801763534546.jpg\n"
     ]
    },
    {
     "name": "stderr",
     "output_type": "stream",
     "text": [
      " 99%|█████████▉| 3284/3313 [02:42<00:01, 16.59it/s]"
     ]
    },
    {
     "name": "stdout",
     "output_type": "stream",
     "text": [
      "Problem with file ../raw_data/images/testing/dunes/19.542499923706053_33.81675033569336_031_CW000_-0.8467074036598206_-0.1086692214012146_3.6462507247924805.jpg\n",
      "Problem with file ../raw_data/images/testing/dunes/43.07349853515625_101.17886962890626_020_CW000_-0.285476416349411_0.7415161728858948_1.6268131732940674.jpg\n",
      "Problem with file ../raw_data/images/testing/dunes/41.67049942016602_76.70477905273438_00_CW000_0.8417595028877258_0.13494452834129333_1.1771981716156006.jpg\n",
      "Problem with file ../raw_data/images/testing/dunes/41.29550018310547_76.65474243164063_032_CW000_0.5898355841636658_-0.019885987043380737_0.946825385093689.jpg\n"
     ]
    },
    {
     "name": "stderr",
     "output_type": "stream",
     "text": [
      " 99%|█████████▉| 3288/3313 [02:42<00:01, 16.81it/s]"
     ]
    },
    {
     "name": "stdout",
     "output_type": "stream",
     "text": [
      "Problem with file ../raw_data/images/testing/dunes/31.699499893188477_61.60762939453125_023_CW000_-0.9222880005836487_0.3065781891345978_5.424952507019043.jpg\n",
      "Problem with file ../raw_data/images/testing/dunes/15.177500343322754_49.65749893188477_03_CW000_0.6250136494636536_-0.5413540005683899_1.1363763809204102.jpg\n",
      "Problem with file ../raw_data/images/testing/dunes/15.602500343322754_49.307499694824216_031_CW000_0.3484245836734772_-0.5908284783363342_1.9248461723327637.jpg\n",
      "Problem with file ../raw_data/images/testing/dunes/25.92649917602539_7.8766429901123045_021_CW000_-0.12161245197057724_-0.3521067798137665_1.071845293045044.jpg\n"
     ]
    },
    {
     "name": "stderr",
     "output_type": "stream",
     "text": [
      " 99%|█████████▉| 3292/3313 [02:42<00:01, 16.86it/s]"
     ]
    },
    {
     "name": "stdout",
     "output_type": "stream",
     "text": [
      "Problem with file ../raw_data/images/testing/dunes/42.87350158691406_100.62864990234375_022_CW000_-0.675938606262207_0.500434160232544_1.9753309488296509.jpg\n",
      "Problem with file ../raw_data/images/testing/dunes/26.23250045776367_40.87679595947266_032_CW000_-0.11016153544187546_-0.07586554437875748_1.2874208688735962.jpg\n",
      "Problem with file ../raw_data/images/testing/dunes/33.59350051879883_55.361498260498045_030_CW000_-0.8136365413665771_0.2233174443244934_1.6946970224380493.jpg\n",
      "Problem with file ../raw_data/images/testing/dunes/33.363501739501956_63.87574996948242_010_CW000_-0.189003124833107_-0.401081383228302_0.8570461869239807.jpg\n"
     ]
    },
    {
     "name": "stderr",
     "output_type": "stream",
     "text": [
      " 99%|█████████▉| 3296/3313 [02:42<00:01, 16.75it/s]"
     ]
    },
    {
     "name": "stdout",
     "output_type": "stream",
     "text": [
      "Problem with file ../raw_data/images/testing/dunes/34.04349822998047_55.93670806884766_013_CW000_-0.6936283707618713_-0.2808060348033905_1.9442325830459595.jpg\n",
      "Problem with file ../raw_data/images/testing/dunes/43.2484992980957_101.17886962890626_030_CW000_-0.035208698362112045_0.867872416973114_1.9788161516189575.jpg\n",
      "Problem with file ../raw_data/images/testing/dunes/44.669500732421874_109.2056671142578_033_CW000_-0.36131688952445984_0.6624869704246521_1.9650561809539795.jpg\n",
      "Problem with file ../raw_data/images/testing/dunes/28.83050079345703_16.70649948120117_010_CW000_-0.36922043561935425_-0.3061298727989197_1.8614999055862427.jpg\n"
     ]
    },
    {
     "name": "stderr",
     "output_type": "stream",
     "text": [
      "100%|█████████▉| 3300/3313 [02:43<00:00, 15.65it/s]"
     ]
    },
    {
     "name": "stdout",
     "output_type": "stream",
     "text": [
      "Problem with file ../raw_data/images/testing/dunes/26.007499313354494_40.40149841308594_03_CW000_0.17173196375370026_0.4460687041282654_1.5383988618850708.jpg\n",
      "Problem with file ../raw_data/images/testing/dunes/32.71349945068359_63.775701904296874_030_CW000_-0.5201670527458191_0.20122765004634857_0.7504945397377014.jpg\n",
      "Problem with file ../raw_data/images/testing/dunes/45.19149932861328_70.35357513427735_00_CW000_-0.1707596331834793_-0.6740814447402954_1.9329845905303955.jpg\n"
     ]
    },
    {
     "name": "stderr",
     "output_type": "stream",
     "text": [
      "100%|█████████▉| 3304/3313 [02:43<00:00, 16.24it/s]"
     ]
    },
    {
     "name": "stdout",
     "output_type": "stream",
     "text": [
      "Problem with file ../raw_data/images/testing/dunes/20.316500854492187_16.885800933837892_013_CW000_-0.5153722167015076_0.026518985629081726_0.5788098573684692.jpg\n",
      "Problem with file ../raw_data/images/testing/dunes/25.807500457763673_40.75173645019531_01_CW000_0.1265324503183365_0.15716145932674408_1.4407179355621338.jpg\n",
      "Problem with file ../raw_data/images/testing/dunes/33.01349868774414_63.62559814453125_032_CW000_-0.4777297079563141_-0.33530285954475403_0.6580554246902466.jpg\n",
      "Problem with file ../raw_data/images/testing/dunes/40.74550170898438_76.95484466552735_012_CW000_-0.6864979267120361_0.6544946432113647_0.8831303119659424.jpg\n"
     ]
    },
    {
     "name": "stderr",
     "output_type": "stream",
     "text": [
      "100%|█████████▉| 3308/3313 [02:43<00:00, 16.57it/s]"
     ]
    },
    {
     "name": "stdout",
     "output_type": "stream",
     "text": [
      "Problem with file ../raw_data/images/testing/dunes/26.212500762939452_25.722500228881835_010_CW000_-0.7327685356140137_-0.2275446653366089_1.728513479232788.jpg\n",
      "Problem with file ../raw_data/images/testing/dunes/20.66650047302246_16.43559913635254_031_CW000_-0.4338754713535309_0.15508918464183807_0.5579233169555664.jpg\n",
      "Problem with file ../raw_data/images/testing/dunes/28.680500411987303_16.931750106811524_031_CW000_-0.3803493082523346_-0.2937868535518646_1.8581100702285767.jpg\n",
      "Problem with file ../raw_data/images/testing/dunes/31.178500366210937_56.80563201904297_010_CW000_-0.21088147163391113_0.4786773920059204_0.9718106389045715.jpg\n"
     ]
    },
    {
     "name": "stderr",
     "output_type": "stream",
     "text": [
      "100%|█████████▉| 3312/3313 [02:43<00:00, 15.61it/s]"
     ]
    },
    {
     "name": "stdout",
     "output_type": "stream",
     "text": [
      "Problem with file ../raw_data/images/testing/dunes/38.38549880981445_96.16177520751953_023_CW000_0.051238764077425_0.8677064776420593_1.4141662120819092.jpg\n",
      "Problem with file ../raw_data/images/testing/dunes/31.153500366210938_57.48103485107422_023_CW000_-0.750908613204956_0.586715817451477_1.4864286184310913.jpg\n",
      "Problem with file ../raw_data/images/testing/dunes/41.39549865722656_77.10491027832032_030_CW000_0.6901392936706543_0.11394710838794708_0.8951123952865601.jpg\n"
     ]
    },
    {
     "name": "stderr",
     "output_type": "stream",
     "text": [
      "100%|██████████| 3313/3313 [02:43<00:00, 20.21it/s]\n"
     ]
    },
    {
     "name": "stdout",
     "output_type": "stream",
     "text": [
      "Problem with file ../raw_data/images/testing/dunes/33.413500213623045_64.20090179443359_031_CW000_-0.20786884427070618_-0.4033299684524536_1.0149190425872803.jpg\n"
     ]
    }
   ],
   "source": [
    "log_name = '../raw_data/logs/testing_classifier.csv'\n",
    "\n",
    "for files in [is_dune_files,no_dune_files]:\n",
    "    get_class(files[1], files[0])\n"
   ]
  },
  {
   "cell_type": "code",
   "execution_count": null,
   "id": "95da7013",
   "metadata": {
    "ExecuteTime": {
     "end_time": "2021-07-01T17:13:37.235831Z",
     "start_time": "2021-07-01T17:13:37.146540Z"
    }
   },
   "outputs": [],
   "source": [
    "results = pd.read_csv(log_name)"
   ]
  },
  {
   "cell_type": "code",
   "execution_count": null,
   "id": "248fce8d",
   "metadata": {
    "ExecuteTime": {
     "end_time": "2021-07-01T17:13:39.899185Z",
     "start_time": "2021-07-01T17:13:39.844987Z"
    }
   },
   "outputs": [],
   "source": [
    "results"
   ]
  },
  {
   "cell_type": "code",
   "execution_count": null,
   "id": "faf02bdb",
   "metadata": {
    "ExecuteTime": {
     "end_time": "2021-07-01T17:13:58.945215Z",
     "start_time": "2021-07-01T17:13:58.937090Z"
    }
   },
   "outputs": [],
   "source": [
    "results.predicted_proba == np.nan"
   ]
  },
  {
   "cell_type": "code",
   "execution_count": null,
   "id": "c4c55c77",
   "metadata": {},
   "outputs": [],
   "source": []
  }
 ],
 "metadata": {
  "kernelspec": {
   "display_name": "marswinds",
   "language": "python",
   "name": "marswinds"
  },
  "language_info": {
   "codemirror_mode": {
    "name": "ipython",
    "version": 3
   },
   "file_extension": ".py",
   "mimetype": "text/x-python",
   "name": "python",
   "nbconvert_exporter": "python",
   "pygments_lexer": "ipython3",
   "version": "3.8.6"
  },
  "toc": {
   "base_numbering": 1,
   "nav_menu": {},
   "number_sections": true,
   "sideBar": true,
   "skip_h1_title": false,
   "title_cell": "Table of Contents",
   "title_sidebar": "Contents",
   "toc_cell": false,
   "toc_position": {},
   "toc_section_display": true,
   "toc_window_display": false
  }
 },
 "nbformat": 4,
 "nbformat_minor": 5
}
