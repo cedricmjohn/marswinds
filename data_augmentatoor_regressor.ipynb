{
 "cells": [
  {
   "cell_type": "code",
   "execution_count": 83,
   "id": "78801b30",
   "metadata": {},
   "outputs": [],
   "source": [
    "from tensorflow.keras.preprocessing.image import load_img, ImageDataGenerator, img_to_array\n",
    "from tensorflow import keras\n",
    "import numpy as np\n",
    "from tensorflow.keras.optimizers import Adam\n",
    "from tensorflow.keras import Sequential, layers\n",
    "import os\n",
    "import pandas as pd\n"
   ]
  },
  {
   "cell_type": "code",
   "execution_count": 84,
   "id": "22f9e8ea",
   "metadata": {},
   "outputs": [],
   "source": [
    "clean_file_names = [x for x in os.listdir('code/practice_images/') if x.endswith('.jpg')]"
   ]
  },
  {
   "cell_type": "code",
   "execution_count": 85,
   "id": "e3ded57a",
   "metadata": {},
   "outputs": [],
   "source": [
    "wind_strength = []\n",
    "\n",
    "for i in clean_file_names:\n",
    "    wind_strength.append(i.split('_')[6].strip('.jpg'))"
   ]
  },
  {
   "cell_type": "code",
   "execution_count": 86,
   "id": "fc6d2b5a",
   "metadata": {},
   "outputs": [],
   "source": [
    "sin = []\n",
    "\n",
    "for i in clean_file_names:\n",
    "    sin.append(i.split('_')[4].strip('jpg'))"
   ]
  },
  {
   "cell_type": "code",
   "execution_count": 87,
   "id": "fdf7a05d",
   "metadata": {},
   "outputs": [],
   "source": [
    "cos = []\n",
    "\n",
    "for i in clean_file_names:\n",
    "    cos.append(i.split('_')[4].strip('jpg'))"
   ]
  },
  {
   "cell_type": "code",
   "execution_count": 98,
   "id": "703f7c00",
   "metadata": {},
   "outputs": [],
   "source": [
    "df = pd.DataFrame()\n",
    "\n",
    "df['filename'] = clean_file_names\n",
    "df['wind_strength'] = wind_strength\n",
    "df['sin'] = sin\n",
    "df['cos'] = cos"
   ]
  },
  {
   "cell_type": "code",
   "execution_count": 99,
   "id": "09803c12",
   "metadata": {},
   "outputs": [],
   "source": [
    "df['wind_strength'] = df['wind_strength'].apply(float)"
   ]
  },
  {
   "cell_type": "code",
   "execution_count": 102,
   "id": "8bb54a4d",
   "metadata": {},
   "outputs": [
    {
     "name": "stdout",
     "output_type": "stream",
     "text": [
      "<class 'pandas.core.frame.DataFrame'>\n",
      "RangeIndex: 12 entries, 0 to 11\n",
      "Data columns (total 4 columns):\n",
      " #   Column         Non-Null Count  Dtype  \n",
      "---  ------         --------------  -----  \n",
      " 0   filename       12 non-null     object \n",
      " 1   wind_strength  12 non-null     float64\n",
      " 2   sin            12 non-null     object \n",
      " 3   cos            12 non-null     object \n",
      "dtypes: float64(1), object(3)\n",
      "memory usage: 512.0+ bytes\n"
     ]
    }
   ],
   "source": [
    "df.info()"
   ]
  },
  {
   "cell_type": "code",
   "execution_count": 70,
   "id": "c1f66961",
   "metadata": {
    "scrolled": false
   },
   "outputs": [
    {
     "data": {
      "text/plain": [
       "['32.96499862670898_-106.34500274658203_02_CW000_0.07893691956996918_0.7222934365272522_1.2358866930007935.jpg',\n",
       " '32.914998626708986_-106.39500274658204_00_CW000_0.07893691956996918_0.7222934365272522_1.2358866930007935.jpg',\n",
       " '20.934999847412108_52.69499816894531_02_CW000_-0.3862479329109192_-0.49399876594543457_1.6461933851242065.jpg',\n",
       " '20.88499984741211_52.69499816894531_03_CW000_-0.3862479329109192_-0.49399876594543457_1.6461933851242065.jpg',\n",
       " '40.93499984741211_101.70500030517579_02_CW000_0.17025038599967957_0.3836674392223358_1.167919635772705.jpg',\n",
       " '40.88499984741211_101.65500030517578_00_CW000_0.17025038599967957_0.3836674392223358_1.167919635772705.jpg',\n",
       " '32.914998626708986_-106.34500274658203_03_CW000_0.07893691956996918_0.7222934365272522_1.2358866930007935.jpg',\n",
       " '40.93499984741211_101.65500030517578_01_CW000_0.17025038599967957_0.3836674392223358_1.167919635772705.jpg',\n",
       " '20.88499984741211_52.644998168945314_00_CW000_-0.3862479329109192_-0.49399876594543457_1.6461933851242065.jpg',\n",
       " '20.934999847412108_52.644998168945314_01_CW000_-0.3862479329109192_-0.49399876594543457_1.6461933851242065.jpg',\n",
       " '40.88499984741211_101.70500030517579_03_CW000_0.17025038599967957_0.3836674392223358_1.167919635772705.jpg',\n",
       " '32.96499862670898_-106.39500274658204_01_CW000_0.07893691956996918_0.7222934365272522_1.2358866930007935.jpg']"
      ]
     },
     "execution_count": 70,
     "metadata": {},
     "output_type": "execute_result"
    }
   ],
   "source": [
    "clean_file_names"
   ]
  },
  {
   "cell_type": "code",
   "execution_count": 11,
   "id": "f0a7918e",
   "metadata": {},
   "outputs": [],
   "source": [
    "augmented_data = ImageDataGenerator(rescale=1./255)\n",
    "                                    #brightness_range = [0.5,0.8])\n"
   ]
  },
  {
   "cell_type": "code",
   "execution_count": 42,
   "id": "999da83e",
   "metadata": {
    "scrolled": false
   },
   "outputs": [
    {
     "name": "stdout",
     "output_type": "stream",
     "text": [
      "Found 12 validated image filenames.\n"
     ]
    }
   ],
   "source": [
    "aug_generator = augmented_data.flow_from_dataframe(dataframe=df,\n",
    "                                                    directory=\"code/practice_images/\",\n",
    "                                                    x_col=\"filename\",\n",
    "                                                    y_col=\"target\",\n",
    "                                                    batch_size=1,\n",
    "                                                    class_mode= 'raw',\n",
    "                                                   save_to_dir='code', save_prefix='..',\n",
    "                                                    save_format='png',\n",
    "                                                    color_mode=\"grayscale\",\n",
    "                                                    target_size=(512, 512))"
   ]
  },
  {
   "cell_type": "code",
   "execution_count": 43,
   "id": "a7953183",
   "metadata": {
    "scrolled": true
   },
   "outputs": [
    {
     "name": "stdout",
     "output_type": "stream",
     "text": [
      "Model: \"sequential_12\"\n",
      "_________________________________________________________________\n",
      "Layer (type)                 Output Shape              Param #   \n",
      "=================================================================\n",
      "resnet50 (Functional)        (None, 2048)              23581440  \n",
      "_________________________________________________________________\n",
      "dense_19 (Dense)             (None, 1)                 2049      \n",
      "=================================================================\n",
      "Total params: 23,583,489\n",
      "Trainable params: 23,530,369\n",
      "Non-trainable params: 53,120\n",
      "_________________________________________________________________\n"
     ]
    }
   ],
   "source": [
    "def load_resnet():\n",
    "    model = keras.applications.ResNet50(\n",
    "                                            include_top=False, weights=None,\n",
    "                                            input_shape=(512, 512,1), pooling=\"max\",\n",
    "    )\n",
    "    model.trainable = True \n",
    "    model = keras.models.Sequential([ \n",
    "                            model,\n",
    "                            keras.layers.Dense(1, activation='relu')\n",
    "                                ])\n",
    "    opt = Adam(learning_rate=0.001)\n",
    "    model.compile(loss='mae',\n",
    "                  optimizer=opt,\n",
    "                  metrics=['mae'])\n",
    "    return model\n",
    "model = load_resnet()\n",
    "model.summary()"
   ]
  },
  {
   "cell_type": "code",
   "execution_count": 45,
   "id": "56a719ac",
   "metadata": {},
   "outputs": [
    {
     "name": "stdout",
     "output_type": "stream",
     "text": [
      "12/12 [==============================] - 28s 2s/step - loss: 0.6929\n"
     ]
    }
   ],
   "source": [
    "history = model.fit(aug_generator, epochs=1)"
   ]
  },
  {
   "cell_type": "code",
   "execution_count": null,
   "id": "eff5a09c",
   "metadata": {},
   "outputs": [],
   "source": [
    "# 'model = Sequential()\n",
    "# model.add(layers.Conv2D(16, (3,3), activation='relu', input_shape=(512,512,1)))\n",
    "# model.add(layers.Conv2D(32, (3,3), activation='relu'))\n",
    "# model.add(layers.Conv2D(64, (3,3), activation='relu'))\n",
    "# model.add(layers.MaxPool2D(2,2))\n",
    "# model.add(layers.Flatten())\n",
    "# model.add(layers.Dense(512, activation='relu'))\n",
    "# model.add(layers.Dense(1, activation='sigmoid'))\n",
    "\n",
    "# model.summary()        "
   ]
  },
  {
   "cell_type": "code",
   "execution_count": null,
   "id": "e850cfb0",
   "metadata": {},
   "outputs": [],
   "source": [
    "!ls code"
   ]
  },
  {
   "cell_type": "code",
   "execution_count": null,
   "id": "6459bff0",
   "metadata": {},
   "outputs": [],
   "source": []
  }
 ],
 "metadata": {
  "kernelspec": {
   "display_name": "Python 3",
   "language": "python",
   "name": "python3"
  },
  "language_info": {
   "codemirror_mode": {
    "name": "ipython",
    "version": 3
   },
   "file_extension": ".py",
   "mimetype": "text/x-python",
   "name": "python",
   "nbconvert_exporter": "python",
   "pygments_lexer": "ipython3",
   "version": "3.8.6"
  },
  "toc": {
   "base_numbering": 1,
   "nav_menu": {},
   "number_sections": true,
   "sideBar": true,
   "skip_h1_title": false,
   "title_cell": "Table of Contents",
   "title_sidebar": "Contents",
   "toc_cell": false,
   "toc_position": {},
   "toc_section_display": true,
   "toc_window_display": false
  }
 },
 "nbformat": 4,
 "nbformat_minor": 5
}
