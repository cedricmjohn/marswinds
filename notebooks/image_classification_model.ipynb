{
 "cells": [
  {
   "cell_type": "code",
   "execution_count": 63,
   "id": "78801b30",
   "metadata": {},
   "outputs": [],
   "source": [
    "from tensorflow.keras.preprocessing.image import load_img, ImageDataGenerator, img_to_array\n",
    "import numpy as np\n",
    "from tensorflow.keras import Sequential, layers\n",
    "import os\n",
    "from tensorflow.keras import optimizers\n",
    "adam_opt = optimizers.Adam(learning_rate=0.01, beta_1=0.9, beta_2=0.999)\n",
    "import matplotlib.pyplot as plt\n",
    "import os"
   ]
  },
  {
   "cell_type": "code",
   "execution_count": 64,
   "id": "f0a7918e",
   "metadata": {},
   "outputs": [],
   "source": [
    "augmented_data = ImageDataGenerator(rescale=1./255,\n",
    "                                    brightness_range = [0.5,0.8],\n",
    "                                   channel_shift_range =50)"
   ]
  },
  {
   "cell_type": "code",
   "execution_count": 65,
   "id": "999da83e",
   "metadata": {},
   "outputs": [
    {
     "name": "stdout",
     "output_type": "stream",
     "text": [
      "Found 131 images belonging to 2 classes.\n"
     ]
    }
   ],
   "source": [
    "aug_generator = augmented_data.flow_from_directory('images/train/',\n",
    "                                                    batch_size=16,\n",
    "                                                   classes = ['dunes',\n",
    "                                                             'no_dunes'],\n",
    "                                                    class_mode='binary',\n",
    "                                                    color_mode=\"grayscale\",\n",
    "                                                    target_size=(512, 512))"
   ]
  },
  {
   "cell_type": "code",
   "execution_count": 66,
   "id": "eff5a09c",
   "metadata": {
    "scrolled": true
   },
   "outputs": [
    {
     "name": "stdout",
     "output_type": "stream",
     "text": [
      "Model: \"sequential_3\"\n",
      "_________________________________________________________________\n",
      "Layer (type)                 Output Shape              Param #   \n",
      "=================================================================\n",
      "conv2d_12 (Conv2D)           (None, 510, 510, 16)      160       \n",
      "_________________________________________________________________\n",
      "max_pooling2d_12 (MaxPooling (None, 255, 255, 16)      0         \n",
      "_________________________________________________________________\n",
      "conv2d_13 (Conv2D)           (None, 253, 253, 32)      4640      \n",
      "_________________________________________________________________\n",
      "max_pooling2d_13 (MaxPooling (None, 126, 126, 32)      0         \n",
      "_________________________________________________________________\n",
      "conv2d_14 (Conv2D)           (None, 124, 124, 32)      9248      \n",
      "_________________________________________________________________\n",
      "max_pooling2d_14 (MaxPooling (None, 62, 62, 32)        0         \n",
      "_________________________________________________________________\n",
      "conv2d_15 (Conv2D)           (None, 60, 60, 64)        18496     \n",
      "_________________________________________________________________\n",
      "max_pooling2d_15 (MaxPooling (None, 30, 30, 64)        0         \n",
      "_________________________________________________________________\n",
      "flatten_3 (Flatten)          (None, 57600)             0         \n",
      "_________________________________________________________________\n",
      "dense_6 (Dense)              (None, 512)               29491712  \n",
      "_________________________________________________________________\n",
      "dense_7 (Dense)              (None, 1)                 513       \n",
      "=================================================================\n",
      "Total params: 29,524,769\n",
      "Trainable params: 29,524,769\n",
      "Non-trainable params: 0\n",
      "_________________________________________________________________\n"
     ]
    }
   ],
   "source": [
    "model = Sequential()\n",
    "model.add(layers.Conv2D(16, (3,3), activation='relu', input_shape=(512,512,1)))\n",
    "model.add(layers.MaxPool2D(2,2))\n",
    "model.add(layers.Conv2D(32, (3,3), activation='relu'))\n",
    "model.add(layers.MaxPool2D(2,2))\n",
    "model.add(layers.Conv2D(32, (3,3), activation='relu'))\n",
    "model.add(layers.MaxPool2D(2,2))\n",
    "model.add(layers.Conv2D(64, (3,3), activation='relu'))\n",
    "model.add(layers.MaxPool2D(2,2))\n",
    "model.add(layers.Flatten())\n",
    "model.add(layers.Dense(512, activation='relu'))\n",
    "model.add(layers.Dense(1, activation='sigmoid'))\n",
    "model.summary()       "
   ]
  },
  {
   "cell_type": "code",
   "execution_count": 67,
   "id": "610561bb",
   "metadata": {},
   "outputs": [],
   "source": [
    "model.compile(loss='binary_crossentropy', \n",
    "              optimizer=adam_opt,\n",
    "              metrics=['accuracy'])"
   ]
  },
  {
   "cell_type": "code",
   "execution_count": 68,
   "id": "22683ef5",
   "metadata": {
    "scrolled": false
   },
   "outputs": [
    {
     "name": "stdout",
     "output_type": "stream",
     "text": [
      "9/9 [==============================] - 12s 1s/step - loss: 2.1423 - accuracy: 0.6870\n"
     ]
    },
    {
     "data": {
      "text/plain": [
       "<tensorflow.python.keras.callbacks.History at 0x7f993b5c5190>"
      ]
     },
     "execution_count": 68,
     "metadata": {},
     "output_type": "execute_result"
    }
   ],
   "source": [
    "model.fit(aug_generator,\n",
    "          epochs=1,\n",
    "          verbose=1)"
   ]
  },
  {
   "cell_type": "code",
   "execution_count": 69,
   "id": "4c938595",
   "metadata": {},
   "outputs": [],
   "source": [
    "simple_data = ImageDataGenerator(rescale=1./255)"
   ]
  },
  {
   "cell_type": "code",
   "execution_count": 70,
   "id": "1c1eb6a2",
   "metadata": {},
   "outputs": [
    {
     "name": "stdout",
     "output_type": "stream",
     "text": [
      "Found 38 images belonging to 2 classes.\n"
     ]
    }
   ],
   "source": [
    "X_test = simple_data.flow_from_directory('images/test/',\n",
    "                                                    batch_size=16,\n",
    "                                                   classes = ['dunes',\n",
    "                                                             'no_dunes'],\n",
    "                                                    class_mode='binary',\n",
    "                                                    color_mode=\"grayscale\",\n",
    "                                                    target_size=(512, 512))"
   ]
  },
  {
   "cell_type": "code",
   "execution_count": 71,
   "id": "470ff568",
   "metadata": {
    "scrolled": true
   },
   "outputs": [
    {
     "name": "stdout",
     "output_type": "stream",
     "text": [
      "3/3 [==============================] - 1s 197ms/step - loss: 0.6834 - accuracy: 0.6579\n",
      "[0.6834234595298767, 0.6578947305679321]\n"
     ]
    }
   ],
   "source": [
    "print(model.evaluate(X_test, verbose=1))\n"
   ]
  },
  {
   "cell_type": "code",
   "execution_count": 62,
   "id": "c12ace3f",
   "metadata": {},
   "outputs": [
    {
     "data": {
      "text/plain": [
       "array([[0.9090998 ],\n",
       "       [0.9088461 ],\n",
       "       [0.9090035 ],\n",
       "       [0.9088461 ],\n",
       "       [0.9087667 ],\n",
       "       [0.9082658 ],\n",
       "       [0.90869594],\n",
       "       [0.90852106],\n",
       "       [0.9082488 ],\n",
       "       [0.9081369 ],\n",
       "       [0.9083251 ],\n",
       "       [0.908922  ],\n",
       "       [0.9088777 ],\n",
       "       [0.9088461 ],\n",
       "       [0.90888953],\n",
       "       [0.90892714],\n",
       "       [0.90887904],\n",
       "       [0.9090432 ],\n",
       "       [0.90884435],\n",
       "       [0.9088461 ],\n",
       "       [0.9088335 ],\n",
       "       [0.90888774],\n",
       "       [0.908929  ],\n",
       "       [0.9088305 ],\n",
       "       [0.9089129 ],\n",
       "       [0.9088497 ],\n",
       "       [0.9089001 ],\n",
       "       [0.9086812 ],\n",
       "       [0.9088143 ],\n",
       "       [0.90840083],\n",
       "       [0.9088503 ],\n",
       "       [0.90609044],\n",
       "       [0.9089231 ],\n",
       "       [0.90886116],\n",
       "       [0.9089258 ],\n",
       "       [0.90843433],\n",
       "       [0.9088799 ],\n",
       "       [0.9088461 ]], dtype=float32)"
      ]
     },
     "execution_count": 62,
     "metadata": {},
     "output_type": "execute_result"
    }
   ],
   "source": [
    " model.predict(X_test)"
   ]
  },
  {
   "cell_type": "code",
   "execution_count": null,
   "id": "adb88f64",
   "metadata": {},
   "outputs": [],
   "source": []
  }
 ],
 "metadata": {
  "kernelspec": {
   "display_name": "Python 3",
   "language": "python",
   "name": "python3"
  },
  "language_info": {
   "codemirror_mode": {
    "name": "ipython",
    "version": 3
   },
   "file_extension": ".py",
   "mimetype": "text/x-python",
   "name": "python",
   "nbconvert_exporter": "python",
   "pygments_lexer": "ipython3",
   "version": "3.8.6"
  },
  "toc": {
   "base_numbering": 1,
   "nav_menu": {},
   "number_sections": true,
   "sideBar": true,
   "skip_h1_title": false,
   "title_cell": "Table of Contents",
   "title_sidebar": "Contents",
   "toc_cell": false,
   "toc_position": {},
   "toc_section_display": true,
   "toc_window_display": false
  }
 },
 "nbformat": 4,
 "nbformat_minor": 5
}
