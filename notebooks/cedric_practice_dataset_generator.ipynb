{
 "cells": [
  {
   "cell_type": "markdown",
   "id": "65b6e7ef-3221-4061-ad82-80a42817c28f",
   "metadata": {},
   "source": [
    "# Notebook to generate a practice dataset\n",
    "\n",
    "## Wind Data\n",
    "\n",
    "Let's use the pre-downloaded wind data from the Arabian Peninsula and create a dataframe of useful values"
   ]
  },
  {
   "cell_type": "code",
   "execution_count": 1,
   "id": "ccaf4aaa-0a55-4a6c-a73a-42670b0feaaf",
   "metadata": {
    "execution": {
     "iopub.execute_input": "2021-06-09T15:50:38.040367Z",
     "iopub.status.busy": "2021-06-09T15:50:38.040112Z",
     "iopub.status.idle": "2021-06-09T15:50:40.063973Z",
     "shell.execute_reply": "2021-06-09T15:50:40.063376Z",
     "shell.execute_reply.started": "2021-06-09T15:50:38.040306Z"
    },
    "tags": []
   },
   "outputs": [],
   "source": [
    "import xarray as xr\n",
    "import pandas as pd\n",
    "import numpy as np\n",
    "import os\n",
    "import ee\n",
    "import geemap\n",
    "import cdsapi\n",
    "import cv2\n",
    "from sklearn.model_selection import train_test_split\n",
    "import matplotlib.pyplot as plt"
   ]
  },
  {
   "cell_type": "code",
   "execution_count": 138,
   "id": "cde6283e-e6f0-4199-ba1c-852ce9b76822",
   "metadata": {
    "execution": {
     "iopub.execute_input": "2021-06-09T13:16:19.045448Z",
     "iopub.status.busy": "2021-06-09T13:16:19.045131Z",
     "iopub.status.idle": "2021-06-09T13:16:19.073722Z",
     "shell.execute_reply": "2021-06-09T13:16:19.073027Z",
     "shell.execute_reply.started": "2021-06-09T13:16:19.045419Z"
    },
    "tags": []
   },
   "outputs": [
    {
     "data": {
      "text/html": [
       "<div>\n",
       "<style scoped>\n",
       "    .dataframe tbody tr th:only-of-type {\n",
       "        vertical-align: middle;\n",
       "    }\n",
       "\n",
       "    .dataframe tbody tr th {\n",
       "        vertical-align: top;\n",
       "    }\n",
       "\n",
       "    .dataframe thead th {\n",
       "        text-align: right;\n",
       "    }\n",
       "</style>\n",
       "<table border=\"1\" class=\"dataframe\">\n",
       "  <thead>\n",
       "    <tr style=\"text-align: right;\">\n",
       "      <th></th>\n",
       "      <th>latitude</th>\n",
       "      <th>longitude</th>\n",
       "      <th>time</th>\n",
       "      <th>u10</th>\n",
       "      <th>v10</th>\n",
       "    </tr>\n",
       "  </thead>\n",
       "  <tbody>\n",
       "    <tr>\n",
       "      <th>0</th>\n",
       "      <td>-23.02</td>\n",
       "      <td>14.47</td>\n",
       "      <td>2011-01-01</td>\n",
       "      <td>1.894173</td>\n",
       "      <td>1.674366</td>\n",
       "    </tr>\n",
       "    <tr>\n",
       "      <th>1</th>\n",
       "      <td>-23.02</td>\n",
       "      <td>14.47</td>\n",
       "      <td>2011-02-01</td>\n",
       "      <td>2.082840</td>\n",
       "      <td>2.654056</td>\n",
       "    </tr>\n",
       "    <tr>\n",
       "      <th>2</th>\n",
       "      <td>-23.02</td>\n",
       "      <td>14.47</td>\n",
       "      <td>2011-03-01</td>\n",
       "      <td>1.951652</td>\n",
       "      <td>2.674042</td>\n",
       "    </tr>\n",
       "    <tr>\n",
       "      <th>3</th>\n",
       "      <td>-23.02</td>\n",
       "      <td>14.47</td>\n",
       "      <td>2011-04-01</td>\n",
       "      <td>1.037798</td>\n",
       "      <td>3.245492</td>\n",
       "    </tr>\n",
       "    <tr>\n",
       "      <th>4</th>\n",
       "      <td>-23.02</td>\n",
       "      <td>14.47</td>\n",
       "      <td>2011-05-01</td>\n",
       "      <td>0.488088</td>\n",
       "      <td>2.980637</td>\n",
       "    </tr>\n",
       "    <tr>\n",
       "      <th>...</th>\n",
       "      <td>...</td>\n",
       "      <td>...</td>\n",
       "      <td>...</td>\n",
       "      <td>...</td>\n",
       "      <td>...</td>\n",
       "    </tr>\n",
       "    <tr>\n",
       "      <th>118</th>\n",
       "      <td>-23.02</td>\n",
       "      <td>14.47</td>\n",
       "      <td>2020-11-01</td>\n",
       "      <td>1.770226</td>\n",
       "      <td>3.003730</td>\n",
       "    </tr>\n",
       "    <tr>\n",
       "      <th>119</th>\n",
       "      <td>-23.02</td>\n",
       "      <td>14.47</td>\n",
       "      <td>2020-12-01</td>\n",
       "      <td>1.937622</td>\n",
       "      <td>1.576097</td>\n",
       "    </tr>\n",
       "    <tr>\n",
       "      <th>120</th>\n",
       "      <td>-23.02</td>\n",
       "      <td>14.47</td>\n",
       "      <td>2021-01-01</td>\n",
       "      <td>1.781153</td>\n",
       "      <td>0.678924</td>\n",
       "    </tr>\n",
       "    <tr>\n",
       "      <th>121</th>\n",
       "      <td>-23.02</td>\n",
       "      <td>14.47</td>\n",
       "      <td>2021-02-01</td>\n",
       "      <td>1.917772</td>\n",
       "      <td>1.711177</td>\n",
       "    </tr>\n",
       "    <tr>\n",
       "      <th>122</th>\n",
       "      <td>-23.02</td>\n",
       "      <td>14.47</td>\n",
       "      <td>2021-03-01</td>\n",
       "      <td>1.663672</td>\n",
       "      <td>3.540727</td>\n",
       "    </tr>\n",
       "  </tbody>\n",
       "</table>\n",
       "<p>123 rows × 5 columns</p>\n",
       "</div>"
      ],
      "text/plain": [
       "     latitude  longitude       time       u10       v10\n",
       "0      -23.02      14.47 2011-01-01  1.894173  1.674366\n",
       "1      -23.02      14.47 2011-02-01  2.082840  2.654056\n",
       "2      -23.02      14.47 2011-03-01  1.951652  2.674042\n",
       "3      -23.02      14.47 2011-04-01  1.037798  3.245492\n",
       "4      -23.02      14.47 2011-05-01  0.488088  2.980637\n",
       "..        ...        ...        ...       ...       ...\n",
       "118    -23.02      14.47 2020-11-01  1.770226  3.003730\n",
       "119    -23.02      14.47 2020-12-01  1.937622  1.576097\n",
       "120    -23.02      14.47 2021-01-01  1.781153  0.678924\n",
       "121    -23.02      14.47 2021-02-01  1.917772  1.711177\n",
       "122    -23.02      14.47 2021-03-01  1.663672  3.540727\n",
       "\n",
       "[123 rows x 5 columns]"
      ]
     },
     "execution_count": 138,
     "metadata": {},
     "output_type": "execute_result"
    }
   ],
   "source": [
    "file_path = '../raw_data/namib_desert_winds.nc'\n",
    "\n",
    "ds = xr.open_dataset(file_path)\n",
    "raw_data = ds.to_dataframe()\n",
    "clean_df = raw_data.dropna().reset_index()\n",
    "clean_df"
   ]
  },
  {
   "cell_type": "markdown",
   "id": "f30c9953-70ec-4e33-8a0b-f1acdb5010f0",
   "metadata": {},
   "source": [
    "### Adding wind strength feature"
   ]
  },
  {
   "cell_type": "code",
   "execution_count": 139,
   "id": "5db887b3-79ea-43a6-b538-8b9f93f820fc",
   "metadata": {
    "execution": {
     "iopub.execute_input": "2021-06-09T13:16:21.750392Z",
     "iopub.status.busy": "2021-06-09T13:16:21.750189Z",
     "iopub.status.idle": "2021-06-09T13:16:21.766541Z",
     "shell.execute_reply": "2021-06-09T13:16:21.765963Z",
     "shell.execute_reply.started": "2021-06-09T13:16:21.750369Z"
    },
    "tags": []
   },
   "outputs": [
    {
     "data": {
      "text/html": [
       "<div>\n",
       "<style scoped>\n",
       "    .dataframe tbody tr th:only-of-type {\n",
       "        vertical-align: middle;\n",
       "    }\n",
       "\n",
       "    .dataframe tbody tr th {\n",
       "        vertical-align: top;\n",
       "    }\n",
       "\n",
       "    .dataframe thead th {\n",
       "        text-align: right;\n",
       "    }\n",
       "</style>\n",
       "<table border=\"1\" class=\"dataframe\">\n",
       "  <thead>\n",
       "    <tr style=\"text-align: right;\">\n",
       "      <th></th>\n",
       "      <th>latitude</th>\n",
       "      <th>longitude</th>\n",
       "      <th>time</th>\n",
       "      <th>u10</th>\n",
       "      <th>v10</th>\n",
       "      <th>wind_strength</th>\n",
       "    </tr>\n",
       "  </thead>\n",
       "  <tbody>\n",
       "    <tr>\n",
       "      <th>0</th>\n",
       "      <td>-23.02</td>\n",
       "      <td>14.47</td>\n",
       "      <td>2011-01-01</td>\n",
       "      <td>1.894173</td>\n",
       "      <td>1.674366</td>\n",
       "      <td>2.528120</td>\n",
       "    </tr>\n",
       "    <tr>\n",
       "      <th>1</th>\n",
       "      <td>-23.02</td>\n",
       "      <td>14.47</td>\n",
       "      <td>2011-02-01</td>\n",
       "      <td>2.082840</td>\n",
       "      <td>2.654056</td>\n",
       "      <td>3.373757</td>\n",
       "    </tr>\n",
       "    <tr>\n",
       "      <th>2</th>\n",
       "      <td>-23.02</td>\n",
       "      <td>14.47</td>\n",
       "      <td>2011-03-01</td>\n",
       "      <td>1.951652</td>\n",
       "      <td>2.674042</td>\n",
       "      <td>3.310505</td>\n",
       "    </tr>\n",
       "    <tr>\n",
       "      <th>3</th>\n",
       "      <td>-23.02</td>\n",
       "      <td>14.47</td>\n",
       "      <td>2011-04-01</td>\n",
       "      <td>1.037798</td>\n",
       "      <td>3.245492</td>\n",
       "      <td>3.407380</td>\n",
       "    </tr>\n",
       "    <tr>\n",
       "      <th>4</th>\n",
       "      <td>-23.02</td>\n",
       "      <td>14.47</td>\n",
       "      <td>2011-05-01</td>\n",
       "      <td>0.488088</td>\n",
       "      <td>2.980637</td>\n",
       "      <td>3.020335</td>\n",
       "    </tr>\n",
       "    <tr>\n",
       "      <th>...</th>\n",
       "      <td>...</td>\n",
       "      <td>...</td>\n",
       "      <td>...</td>\n",
       "      <td>...</td>\n",
       "      <td>...</td>\n",
       "      <td>...</td>\n",
       "    </tr>\n",
       "    <tr>\n",
       "      <th>118</th>\n",
       "      <td>-23.02</td>\n",
       "      <td>14.47</td>\n",
       "      <td>2020-11-01</td>\n",
       "      <td>1.770226</td>\n",
       "      <td>3.003730</td>\n",
       "      <td>3.486560</td>\n",
       "    </tr>\n",
       "    <tr>\n",
       "      <th>119</th>\n",
       "      <td>-23.02</td>\n",
       "      <td>14.47</td>\n",
       "      <td>2020-12-01</td>\n",
       "      <td>1.937622</td>\n",
       "      <td>1.576097</td>\n",
       "      <td>2.497691</td>\n",
       "    </tr>\n",
       "    <tr>\n",
       "      <th>120</th>\n",
       "      <td>-23.02</td>\n",
       "      <td>14.47</td>\n",
       "      <td>2021-01-01</td>\n",
       "      <td>1.781153</td>\n",
       "      <td>0.678924</td>\n",
       "      <td>1.906160</td>\n",
       "    </tr>\n",
       "    <tr>\n",
       "      <th>121</th>\n",
       "      <td>-23.02</td>\n",
       "      <td>14.47</td>\n",
       "      <td>2021-02-01</td>\n",
       "      <td>1.917772</td>\n",
       "      <td>1.711177</td>\n",
       "      <td>2.570210</td>\n",
       "    </tr>\n",
       "    <tr>\n",
       "      <th>122</th>\n",
       "      <td>-23.02</td>\n",
       "      <td>14.47</td>\n",
       "      <td>2021-03-01</td>\n",
       "      <td>1.663672</td>\n",
       "      <td>3.540727</td>\n",
       "      <td>3.912104</td>\n",
       "    </tr>\n",
       "  </tbody>\n",
       "</table>\n",
       "<p>123 rows × 6 columns</p>\n",
       "</div>"
      ],
      "text/plain": [
       "     latitude  longitude       time       u10       v10  wind_strength\n",
       "0      -23.02      14.47 2011-01-01  1.894173  1.674366       2.528120\n",
       "1      -23.02      14.47 2011-02-01  2.082840  2.654056       3.373757\n",
       "2      -23.02      14.47 2011-03-01  1.951652  2.674042       3.310505\n",
       "3      -23.02      14.47 2011-04-01  1.037798  3.245492       3.407380\n",
       "4      -23.02      14.47 2011-05-01  0.488088  2.980637       3.020335\n",
       "..        ...        ...        ...       ...       ...            ...\n",
       "118    -23.02      14.47 2020-11-01  1.770226  3.003730       3.486560\n",
       "119    -23.02      14.47 2020-12-01  1.937622  1.576097       2.497691\n",
       "120    -23.02      14.47 2021-01-01  1.781153  0.678924       1.906160\n",
       "121    -23.02      14.47 2021-02-01  1.917772  1.711177       2.570210\n",
       "122    -23.02      14.47 2021-03-01  1.663672  3.540727       3.912104\n",
       "\n",
       "[123 rows x 6 columns]"
      ]
     },
     "execution_count": 139,
     "metadata": {},
     "output_type": "execute_result"
    }
   ],
   "source": [
    "clean_df['wind_strength'] = (clean_df.u10**2 + clean_df.v10**2)**.5\n",
    "clean_df"
   ]
  },
  {
   "cell_type": "markdown",
   "id": "60e194d5-95b6-4dba-a2fd-12babc7bb706",
   "metadata": {},
   "source": [
    "### Adding Sin and Cosin of wind direction"
   ]
  },
  {
   "cell_type": "code",
   "execution_count": 140,
   "id": "695a8d99-040e-461d-9fd8-2c3dd951e0cf",
   "metadata": {
    "execution": {
     "iopub.execute_input": "2021-06-09T13:16:24.216136Z",
     "iopub.status.busy": "2021-06-09T13:16:24.215915Z",
     "iopub.status.idle": "2021-06-09T13:16:24.236275Z",
     "shell.execute_reply": "2021-06-09T13:16:24.235332Z",
     "shell.execute_reply.started": "2021-06-09T13:16:24.216113Z"
    },
    "tags": []
   },
   "outputs": [
    {
     "data": {
      "text/html": [
       "<div>\n",
       "<style scoped>\n",
       "    .dataframe tbody tr th:only-of-type {\n",
       "        vertical-align: middle;\n",
       "    }\n",
       "\n",
       "    .dataframe tbody tr th {\n",
       "        vertical-align: top;\n",
       "    }\n",
       "\n",
       "    .dataframe thead th {\n",
       "        text-align: right;\n",
       "    }\n",
       "</style>\n",
       "<table border=\"1\" class=\"dataframe\">\n",
       "  <thead>\n",
       "    <tr style=\"text-align: right;\">\n",
       "      <th></th>\n",
       "      <th>latitude</th>\n",
       "      <th>longitude</th>\n",
       "      <th>time</th>\n",
       "      <th>u10</th>\n",
       "      <th>v10</th>\n",
       "      <th>wind_strength</th>\n",
       "      <th>sin</th>\n",
       "      <th>cosin</th>\n",
       "    </tr>\n",
       "  </thead>\n",
       "  <tbody>\n",
       "    <tr>\n",
       "      <th>0</th>\n",
       "      <td>-23.02</td>\n",
       "      <td>14.47</td>\n",
       "      <td>2011-01-01</td>\n",
       "      <td>1.894173</td>\n",
       "      <td>1.674366</td>\n",
       "      <td>2.528120</td>\n",
       "      <td>0.749242</td>\n",
       "      <td>0.662297</td>\n",
       "    </tr>\n",
       "    <tr>\n",
       "      <th>1</th>\n",
       "      <td>-23.02</td>\n",
       "      <td>14.47</td>\n",
       "      <td>2011-02-01</td>\n",
       "      <td>2.082840</td>\n",
       "      <td>2.654056</td>\n",
       "      <td>3.373757</td>\n",
       "      <td>0.617365</td>\n",
       "      <td>0.786677</td>\n",
       "    </tr>\n",
       "    <tr>\n",
       "      <th>2</th>\n",
       "      <td>-23.02</td>\n",
       "      <td>14.47</td>\n",
       "      <td>2011-03-01</td>\n",
       "      <td>1.951652</td>\n",
       "      <td>2.674042</td>\n",
       "      <td>3.310505</td>\n",
       "      <td>0.589533</td>\n",
       "      <td>0.807744</td>\n",
       "    </tr>\n",
       "    <tr>\n",
       "      <th>3</th>\n",
       "      <td>-23.02</td>\n",
       "      <td>14.47</td>\n",
       "      <td>2011-04-01</td>\n",
       "      <td>1.037798</td>\n",
       "      <td>3.245492</td>\n",
       "      <td>3.407380</td>\n",
       "      <td>0.304574</td>\n",
       "      <td>0.952489</td>\n",
       "    </tr>\n",
       "    <tr>\n",
       "      <th>4</th>\n",
       "      <td>-23.02</td>\n",
       "      <td>14.47</td>\n",
       "      <td>2011-05-01</td>\n",
       "      <td>0.488088</td>\n",
       "      <td>2.980637</td>\n",
       "      <td>3.020335</td>\n",
       "      <td>0.161601</td>\n",
       "      <td>0.986856</td>\n",
       "    </tr>\n",
       "    <tr>\n",
       "      <th>...</th>\n",
       "      <td>...</td>\n",
       "      <td>...</td>\n",
       "      <td>...</td>\n",
       "      <td>...</td>\n",
       "      <td>...</td>\n",
       "      <td>...</td>\n",
       "      <td>...</td>\n",
       "      <td>...</td>\n",
       "    </tr>\n",
       "    <tr>\n",
       "      <th>118</th>\n",
       "      <td>-23.02</td>\n",
       "      <td>14.47</td>\n",
       "      <td>2020-11-01</td>\n",
       "      <td>1.770226</td>\n",
       "      <td>3.003730</td>\n",
       "      <td>3.486560</td>\n",
       "      <td>0.507729</td>\n",
       "      <td>0.861517</td>\n",
       "    </tr>\n",
       "    <tr>\n",
       "      <th>119</th>\n",
       "      <td>-23.02</td>\n",
       "      <td>14.47</td>\n",
       "      <td>2020-12-01</td>\n",
       "      <td>1.937622</td>\n",
       "      <td>1.576097</td>\n",
       "      <td>2.497691</td>\n",
       "      <td>0.775765</td>\n",
       "      <td>0.631022</td>\n",
       "    </tr>\n",
       "    <tr>\n",
       "      <th>120</th>\n",
       "      <td>-23.02</td>\n",
       "      <td>14.47</td>\n",
       "      <td>2021-01-01</td>\n",
       "      <td>1.781153</td>\n",
       "      <td>0.678924</td>\n",
       "      <td>1.906160</td>\n",
       "      <td>0.934420</td>\n",
       "      <td>0.356174</td>\n",
       "    </tr>\n",
       "    <tr>\n",
       "      <th>121</th>\n",
       "      <td>-23.02</td>\n",
       "      <td>14.47</td>\n",
       "      <td>2021-02-01</td>\n",
       "      <td>1.917772</td>\n",
       "      <td>1.711177</td>\n",
       "      <td>2.570210</td>\n",
       "      <td>0.746154</td>\n",
       "      <td>0.665773</td>\n",
       "    </tr>\n",
       "    <tr>\n",
       "      <th>122</th>\n",
       "      <td>-23.02</td>\n",
       "      <td>14.47</td>\n",
       "      <td>2021-03-01</td>\n",
       "      <td>1.663672</td>\n",
       "      <td>3.540727</td>\n",
       "      <td>3.912104</td>\n",
       "      <td>0.425263</td>\n",
       "      <td>0.905070</td>\n",
       "    </tr>\n",
       "  </tbody>\n",
       "</table>\n",
       "<p>123 rows × 8 columns</p>\n",
       "</div>"
      ],
      "text/plain": [
       "     latitude  longitude       time       u10       v10  wind_strength  \\\n",
       "0      -23.02      14.47 2011-01-01  1.894173  1.674366       2.528120   \n",
       "1      -23.02      14.47 2011-02-01  2.082840  2.654056       3.373757   \n",
       "2      -23.02      14.47 2011-03-01  1.951652  2.674042       3.310505   \n",
       "3      -23.02      14.47 2011-04-01  1.037798  3.245492       3.407380   \n",
       "4      -23.02      14.47 2011-05-01  0.488088  2.980637       3.020335   \n",
       "..        ...        ...        ...       ...       ...            ...   \n",
       "118    -23.02      14.47 2020-11-01  1.770226  3.003730       3.486560   \n",
       "119    -23.02      14.47 2020-12-01  1.937622  1.576097       2.497691   \n",
       "120    -23.02      14.47 2021-01-01  1.781153  0.678924       1.906160   \n",
       "121    -23.02      14.47 2021-02-01  1.917772  1.711177       2.570210   \n",
       "122    -23.02      14.47 2021-03-01  1.663672  3.540727       3.912104   \n",
       "\n",
       "          sin     cosin  \n",
       "0    0.749242  0.662297  \n",
       "1    0.617365  0.786677  \n",
       "2    0.589533  0.807744  \n",
       "3    0.304574  0.952489  \n",
       "4    0.161601  0.986856  \n",
       "..        ...       ...  \n",
       "118  0.507729  0.861517  \n",
       "119  0.775765  0.631022  \n",
       "120  0.934420  0.356174  \n",
       "121  0.746154  0.665773  \n",
       "122  0.425263  0.905070  \n",
       "\n",
       "[123 rows x 8 columns]"
      ]
     },
     "execution_count": 140,
     "metadata": {},
     "output_type": "execute_result"
    }
   ],
   "source": [
    "clean_df['sin'] = np.sin(np.arctan2(clean_df['u10'],clean_df['v10']))\n",
    "clean_df['cosin'] = np.cos(np.arctan2(clean_df['u10'],clean_df['v10']))\n",
    "clean_df"
   ]
  },
  {
   "cell_type": "markdown",
   "id": "f803f942-0b86-4041-aaeb-35489aa18bb7",
   "metadata": {},
   "source": [
    "### Aggregating final wind dataset by mean()"
   ]
  },
  {
   "cell_type": "code",
   "execution_count": 141,
   "id": "efb13cde-a7bf-4c61-a245-13d4d0cfc42f",
   "metadata": {
    "execution": {
     "iopub.execute_input": "2021-06-09T13:16:27.532460Z",
     "iopub.status.busy": "2021-06-09T13:16:27.532259Z",
     "iopub.status.idle": "2021-06-09T13:16:27.545406Z",
     "shell.execute_reply": "2021-06-09T13:16:27.544824Z",
     "shell.execute_reply.started": "2021-06-09T13:16:27.532439Z"
    },
    "tags": []
   },
   "outputs": [
    {
     "data": {
      "text/html": [
       "<div>\n",
       "<style scoped>\n",
       "    .dataframe tbody tr th:only-of-type {\n",
       "        vertical-align: middle;\n",
       "    }\n",
       "\n",
       "    .dataframe tbody tr th {\n",
       "        vertical-align: top;\n",
       "    }\n",
       "\n",
       "    .dataframe thead th {\n",
       "        text-align: right;\n",
       "    }\n",
       "</style>\n",
       "<table border=\"1\" class=\"dataframe\">\n",
       "  <thead>\n",
       "    <tr style=\"text-align: right;\">\n",
       "      <th></th>\n",
       "      <th>latitude</th>\n",
       "      <th>longitude</th>\n",
       "      <th>u10</th>\n",
       "      <th>v10</th>\n",
       "      <th>wind_strength</th>\n",
       "      <th>sin</th>\n",
       "      <th>cosin</th>\n",
       "    </tr>\n",
       "  </thead>\n",
       "  <tbody>\n",
       "    <tr>\n",
       "      <th>0</th>\n",
       "      <td>-23.02</td>\n",
       "      <td>14.47</td>\n",
       "      <td>1.097745</td>\n",
       "      <td>2.567064</td>\n",
       "      <td>2.985563</td>\n",
       "      <td>0.341605</td>\n",
       "      <td>0.853073</td>\n",
       "    </tr>\n",
       "  </tbody>\n",
       "</table>\n",
       "</div>"
      ],
      "text/plain": [
       "   latitude  longitude       u10       v10  wind_strength       sin     cosin\n",
       "0    -23.02      14.47  1.097745  2.567064       2.985563  0.341605  0.853073"
      ]
     },
     "execution_count": 141,
     "metadata": {},
     "output_type": "execute_result"
    }
   ],
   "source": [
    "wind_data = clean_df.groupby(by=['latitude','longitude']).mean().reset_index()\n",
    "wind_data"
   ]
  },
  {
   "cell_type": "code",
   "execution_count": 3,
   "id": "f4d4a3d8-f34f-497b-98e3-255710b93ffe",
   "metadata": {
    "execution": {
     "iopub.execute_input": "2021-06-09T15:50:53.091960Z",
     "iopub.status.busy": "2021-06-09T15:50:53.091744Z",
     "iopub.status.idle": "2021-06-09T15:50:53.097093Z",
     "shell.execute_reply": "2021-06-09T15:50:53.096100Z",
     "shell.execute_reply.started": "2021-06-09T15:50:53.091938Z"
    },
    "tags": []
   },
   "outputs": [],
   "source": [
    "def prep_data(path):\n",
    "    ds = xr.open_dataset(path)\n",
    "    raw_data = ds.to_dataframe()\n",
    "    clean_df = raw_data.dropna().reset_index()\n",
    "    clean_df['wind_strength'] = (clean_df.u10**2 + clean_df.v10**2)**.5\n",
    "    clean_df['sin'] = np.sin(np.arctan2(clean_df['u10'],clean_df['v10']))\n",
    "    clean_df['cosin'] = np.cos(np.arctan2(clean_df['u10'],clean_df['v10']))\n",
    "    wind_data = clean_df.groupby(by=['latitude','longitude']).mean().reset_index()\n",
    "    return wind_data"
   ]
  },
  {
   "cell_type": "markdown",
   "id": "f48d4838-7f09-4926-b31d-89dfade9d9be",
   "metadata": {},
   "source": [
    "## Aquiring satellite images"
   ]
  },
  {
   "cell_type": "markdown",
   "id": "3d2f1540-062e-455b-839b-0d24161d31e0",
   "metadata": {},
   "source": [
    "### Base function "
   ]
  },
  {
   "cell_type": "code",
   "execution_count": 220,
   "id": "e20c7ddf-8378-4a34-8c67-127bf6b47fd0",
   "metadata": {
    "execution": {
     "iopub.execute_input": "2021-06-09T14:53:02.750678Z",
     "iopub.status.busy": "2021-06-09T14:53:02.750460Z",
     "iopub.status.idle": "2021-06-09T14:53:02.763345Z",
     "shell.execute_reply": "2021-06-09T14:53:02.762676Z",
     "shell.execute_reply.started": "2021-06-09T14:53:02.750653Z"
    },
    "tags": []
   },
   "outputs": [],
   "source": [
    "\n",
    "def get_four_image_dup(data:pd.Series, **kwargs) -> list:\n",
    "    \n",
    "    ee.Initialize()\n",
    "    \n",
    "    if 'resolution' in kwargs.keys():\n",
    "        resolution=int(kwargs['resolution'])\n",
    "    else:\n",
    "        resolution = 512\n",
    "    \n",
    "    satellite_name='COPERNICUS/S2_SR'\n",
    "    \n",
    "    area = [(data.longitude-0.025,data.latitude-0.025),\n",
    "            (data.longitude+0.025,data.latitude+0.025)]\n",
    "        \n",
    "    roi = ee.Geometry.Rectangle(coords=area)\n",
    "    \n",
    "\n",
    "           \n",
    "    collection = ee.ImageCollection(satellite_name) \\\n",
    "                .filterBounds(roi) \\\n",
    "                .sort(\"CLOUD_COVER\") \\\n",
    "                .filter('HIGH_PROBA_CLOUDS_PERCENTAGE < 10') \\\n",
    "                .limit(1)\n",
    "\n",
    "    image = collection.first()\n",
    "    \n",
    "    #img = ee.Image(satellite_name).select('B4','B3','B2')\n",
    "    \n",
    "    \n",
    "    vis_params = {\n",
    "                  'bands': [ 'B4','B3','B2'],\n",
    "                  'min': 0,\n",
    "                  'max': 10000,\n",
    "                  'gamma': 1.4}\n",
    "    \n",
    "    coordinates = [(data.longitude-0.025,data.latitude-0.025),\n",
    "              (data.longitude-0.025,data.latitude+0.025),\n",
    "              (data.longitude+0.025,data.latitude+0.025),\n",
    "              (data.longitude+0.025,data.latitude-0.025)]\n",
    "    \n",
    "    images = []\n",
    "\n",
    "    for quadrant,coordinate in enumerate(coordinates):\n",
    "        \n",
    "        long = coordinate[0]\n",
    "        lat = coordinate[1]\n",
    "        \n",
    "        bounds = [(long-0.025,lat-0.025),\n",
    "                (long+0.025,lat+0.025)]\n",
    "        \n",
    "        roi = ee.Geometry.Rectangle(coords=bounds)\n",
    "        \n",
    "        band_arrs = image.sampleRectangle(region=roi)\n",
    "        \n",
    "        band_arr_b4 = band_arrs.get('B4')\n",
    "        band_arr_b3 = band_arrs.get('B3')\n",
    "        band_arr_b2 = band_arrs.get('B2')\n",
    "        np_arr_b4 = np.array(band_arr_b4.getInfo())\n",
    "        np_arr_b3 = np.array(band_arr_b3.getInfo())\n",
    "        np_arr_b2 = np.array(band_arr_b2.getInfo())\n",
    "        \n",
    "        print(np_arr_b4.shape)\n",
    "        print(np_arr_b3.shape)\n",
    "        print(np_arr_b2.shape)\n",
    "    \n",
    "        file_name = f\"{lat}_{long}_0{quadrant}_CW000_{data.sin}_{data.cosin}_{data.wind_strength}\"\n",
    "        out_img = os.path.expanduser(f\"../raw_data/practice_dataset/{file_name}.jpg\")\n",
    "        region = ee.Geometry.Rectangle(bounds)\n",
    "        geemap.get_image_thumbnail(image, out_img,vis_params,dimensions=(resolution, resolution),region=region, format='jpg')\n",
    "        \n",
    "        image_grey = cv2.imread(out_img)\n",
    "        print(image_grey.shape)\n",
    "        #image_grey = cv2.cvtColor(image, cv2.COLOR_BGR2GRAY)\n",
    "        #cv2.imshow(image_grey)\n",
    "        #cv2.imwrite(file_name)\n",
    "        geemap.show_image(out_img)\n",
    "        images.append(out_img)\n",
    "        \n",
    "    return image.getInfo()\n",
    "\n",
    "\n",
    "def get_image_per_coordinates(data:pd.Series, **kwargs) -> list:\n",
    "    \n",
    "        coordinates = [(data.longitude-0.025,data.latitude-0.025),\n",
    "              (data.longitude-0.025,data.latitude+0.025),\n",
    "              (data.longitude+0.025,data.latitude+0.025),\n",
    "              (data.longitude+0.025,data.latitude-0.025)]\n",
    "        \n",
    "        for quadrant,coordinate in enumerate(coordinates):\n",
    "            get_one_image(long=coordinate[0], lat=coordinate[1], data=data, quadrant=quadrant)\n",
    "        \n",
    "        return None"
   ]
  },
  {
   "cell_type": "code",
   "execution_count": 263,
   "id": "151f5f08-5ad9-443a-871e-058c54952efa",
   "metadata": {
    "execution": {
     "iopub.execute_input": "2021-06-09T15:24:36.323368Z",
     "iopub.status.busy": "2021-06-09T15:24:36.323137Z",
     "iopub.status.idle": "2021-06-09T15:24:36.330097Z",
     "shell.execute_reply": "2021-06-09T15:24:36.329425Z",
     "shell.execute_reply.started": "2021-06-09T15:24:36.323340Z"
    },
    "tags": []
   },
   "outputs": [],
   "source": [
    "def get_one_image(long:float, lat:float,data:pd.Series, quadrant:int, **kwargs) -> list:\n",
    "    \n",
    "    ee.Initialize()\n",
    "    \n",
    "    if 'resolution' in kwargs.keys():\n",
    "        resolution=int(kwargs['resolution'])\n",
    "    else:\n",
    "        resolution = 512\n",
    "    \n",
    "    satellite_name='COPERNICUS/S2_SR'\n",
    "    \n",
    "    area = [(long-0.025,lat-0.025),\n",
    "            (long+0.025,lat+0.025)]\n",
    "        \n",
    "    roi = ee.Geometry.Rectangle(coords=area)\n",
    "           \n",
    "    collection = ee.ImageCollection(satellite_name) \\\n",
    "                .filterBounds(roi) \\\n",
    "                .sort(\"CLOUD_COVER\") \\\n",
    "                .filter('HIGH_PROBA_CLOUDS_PERCENTAGE < 10') \\\n",
    "                .limit(1)\n",
    "\n",
    "    image = collection.first()\n",
    "    \n",
    "    vis_params = {\n",
    "                  'bands': [ 'B4','B3','B2'],\n",
    "                  'min': 0,\n",
    "                  'max': 10000,\n",
    "                  'gamma': 1.4}\n",
    "\n",
    "    file_name = f\"{lat}_{long}_0{quadrant}_CW000_{data.sin}_{data.cosin}_{data.wind_strength}\"\n",
    "    out_img = os.path.expanduser(f\"../raw_data/practice_dataset/{file_name}.jpg\")\n",
    "\n",
    "    geemap.get_image_thumbnail(image, out_img,vis_params,dimensions=(resolution, resolution),region=roi, format='jpg')\n",
    "        \n",
    "    image_grey = cv2.imread(out_img)\n",
    "    image_grey = cv2.cvtColor(image_grey, cv2.COLOR_BGR2GRAY)\n",
    "    #plt.imshow(image_grey, cmap='Greys')\n",
    "    cv2.imshow(file_name,image_grey)\n",
    "    cv2.imwrite(f\"../raw_data/practice_dataset/{file_name}.jpg\",image_grey)\n",
    "    #geemap.show_image(out_img)\n",
    "    #images.append(out_img)\n",
    "        \n",
    "    return None"
   ]
  },
  {
   "cell_type": "code",
   "execution_count": null,
   "id": "08a0f124-8c6a-4cb6-91ad-d004ae00efd5",
   "metadata": {
    "jupyter": {
     "source_hidden": true
    },
    "tags": []
   },
   "outputs": [],
   "source": [
    "LC8_BANDS = ['B2',   'B3',    'B4',  'B5',  'B6',    'B7',    'B10'];\n",
    "STD_NAMES = ['blue', 'green', 'red', 'nir', 'swir1', 'swir2', 'temp'];\n",
    "\n",
    "def cloudscore(img):\n",
    "    \n",
    "    def rescale(img1, exp, thresholds):\n",
    "        return img1.expression(exp, {img1: img1}).subtract(thresholds[0]).divide(thresholds[1] - thresholds[0])\n",
    "    \n",
    "    score = ee.Image(1.0);\n",
    "    score = score.min(rescale(img, 'img.blue', [0.1, 0.3]));\n",
    "    score = score.min(rescale(img, 'img.red + img.green + img.blue', [0.2, 0.8]));\n",
    "    score = score.min(rescale(img, 'img.nir + img.swir1 + img.swir2', [0.3, 0.8]));\n",
    "    score = score.min(rescale(img, 'img.temp', [300, 290]));\n",
    "    ndsi = img.normalizedDifference(['green', 'swir1']);\n",
    "    return score.min(rescale(ndsi, 'img', [0.8, 0.6]));\n",
    "\n",
    "def badSelect(img):\n",
    "    # Invert the cloudscore so 1 is least cloudy, and rename the band.\n",
    "    score = cloudscore(img.select(LC8_BANDS, STD_NAMES))\n",
    "    score = ee.Image(1).subtract(score).select([0], ['cloudscore'])\n",
    "    return img.addBands(score)\n",
    "\n",
    "image = ee.ImageCollection('LANDSAT/LC08/C01/T1')\\\n",
    "        .filter(ee.Filter.calendarRange(2018,2018,'year'))\\\n",
    "        .filter(ee.Filter.calendarRange(3,3,'month'))\\\n",
    "        .map(badSelect)\n",
    "\n",
    "image = image.qualityMosaic('cloudscore')\n",
    "image_out = image.clip(fc.filterMetadata(\"Name\",\"equals\",kml))\n",
    "vizParams = {'bands': ['B4', 'B3', 'B2'], 'max': 30000, 'gamma': 1.6}\n",
    "Coordinate_List = fc.filterMetadata(\"Name\",\"equals\",kml).geometry().bounds().getInfo()['coordinates']\n",
    "geo = ee.Geometry.Polygon(Coordinate_List)\n",
    "task = ee.batch.Export.image.toDrive(  \n",
    "                    image = image_out.visualize(vizParams),\n",
    "                    description = FileName,\n",
    "                    folder = folderName,\n",
    "                    scale=30,\n",
    "                    region=Coordinate_List,\n",
    "                    fileFormat='GeoTIFF'\n",
    "                    )\n",
    "task.start()"
   ]
  },
  {
   "cell_type": "code",
   "execution_count": 264,
   "id": "f76c6791-bdca-492d-8c0e-da589529c749",
   "metadata": {
    "execution": {
     "iopub.execute_input": "2021-06-09T15:24:40.921811Z",
     "iopub.status.busy": "2021-06-09T15:24:40.921569Z",
     "iopub.status.idle": "2021-06-09T15:24:56.553545Z",
     "shell.execute_reply": "2021-06-09T15:24:56.552969Z",
     "shell.execute_reply.started": "2021-06-09T15:24:40.921778Z"
    },
    "tags": []
   },
   "outputs": [
    {
     "data": {
      "text/plain": [
       "'Ok'"
      ]
     },
     "execution_count": 264,
     "metadata": {},
     "output_type": "execute_result"
    }
   ],
   "source": [
    "file_path = '../raw_data/practice_wind_dataset.nc'\n",
    "test_data = prep_data(file_path).iloc[1,:]\n",
    "get_image_per_coordinates(test_data)"
   ]
  },
  {
   "cell_type": "code",
   "execution_count": 266,
   "id": "9ccd7b3b-786e-44bb-bf28-e33899f7eea5",
   "metadata": {
    "execution": {
     "iopub.execute_input": "2021-06-09T15:25:16.689282Z",
     "iopub.status.busy": "2021-06-09T15:25:16.689061Z",
     "iopub.status.idle": "2021-06-09T15:25:30.702525Z",
     "shell.execute_reply": "2021-06-09T15:25:30.701946Z",
     "shell.execute_reply.started": "2021-06-09T15:25:16.689258Z"
    },
    "tags": []
   },
   "outputs": [
    {
     "data": {
      "text/plain": [
       "'Ok'"
      ]
     },
     "execution_count": 266,
     "metadata": {},
     "output_type": "execute_result"
    }
   ],
   "source": [
    "file_path = '../raw_data/white_sands_winds.nc'\n",
    "test_data = prep_data(file_path).iloc[1,:]\n",
    "get_image_per_coordinates(test_data)"
   ]
  },
  {
   "cell_type": "code",
   "execution_count": 203,
   "id": "3e0169a8-76bc-412b-ab44-544e485e0bb4",
   "metadata": {
    "execution": {
     "iopub.execute_input": "2021-06-09T14:33:42.909614Z",
     "iopub.status.busy": "2021-06-09T14:33:42.909206Z",
     "iopub.status.idle": "2021-06-09T14:33:51.569232Z",
     "shell.execute_reply": "2021-06-09T14:33:51.568628Z",
     "shell.execute_reply.started": "2021-06-09T14:33:42.909552Z"
    },
    "tags": []
   },
   "outputs": [
    {
     "name": "stdout",
     "output_type": "stream",
     "text": [
      "(512, 512, 3)\n"
     ]
    },
    {
     "data": {
      "application/vnd.jupyter.widget-view+json": {
       "model_id": "6eb3491146514edfa3b812da0cfffb79",
       "version_major": 2,
       "version_minor": 0
      },
      "text/plain": [
       "Output()"
      ]
     },
     "metadata": {},
     "output_type": "display_data"
    },
    {
     "name": "stdout",
     "output_type": "stream",
     "text": [
      "(512, 512, 3)\n"
     ]
    },
    {
     "data": {
      "application/vnd.jupyter.widget-view+json": {
       "model_id": "8c079c8269e0437d93f3a4764ef0302a",
       "version_major": 2,
       "version_minor": 0
      },
      "text/plain": [
       "Output()"
      ]
     },
     "metadata": {},
     "output_type": "display_data"
    },
    {
     "name": "stdout",
     "output_type": "stream",
     "text": [
      "(512, 512, 3)\n"
     ]
    },
    {
     "data": {
      "application/vnd.jupyter.widget-view+json": {
       "model_id": "fe83223bd0dd42e8814c0dda02d3bf86",
       "version_major": 2,
       "version_minor": 0
      },
      "text/plain": [
       "Output()"
      ]
     },
     "metadata": {},
     "output_type": "display_data"
    },
    {
     "name": "stdout",
     "output_type": "stream",
     "text": [
      "(512, 512, 3)\n"
     ]
    },
    {
     "data": {
      "application/vnd.jupyter.widget-view+json": {
       "model_id": "e06969e4d76142f8b5ec1b50846fdf8c",
       "version_major": 2,
       "version_minor": 0
      },
      "text/plain": [
       "Output()"
      ]
     },
     "metadata": {},
     "output_type": "display_data"
    }
   ],
   "source": [
    "file_path = '../raw_data/practice_wind_dataset.nc'\n",
    "test_data = prep_data(file_path).iloc[0,:]\n",
    "arabian_values = get_one_image(test_data)"
   ]
  },
  {
   "cell_type": "code",
   "execution_count": 267,
   "id": "e4347180-470b-4e77-ae5f-d5243edd2be7",
   "metadata": {
    "execution": {
     "iopub.execute_input": "2021-06-09T15:25:30.704119Z",
     "iopub.status.busy": "2021-06-09T15:25:30.703877Z",
     "iopub.status.idle": "2021-06-09T15:25:45.033369Z",
     "shell.execute_reply": "2021-06-09T15:25:45.032803Z",
     "shell.execute_reply.started": "2021-06-09T15:25:30.704092Z"
    },
    "tags": []
   },
   "outputs": [
    {
     "data": {
      "text/plain": [
       "'Ok'"
      ]
     },
     "execution_count": 267,
     "metadata": {},
     "output_type": "execute_result"
    }
   ],
   "source": [
    "file_path = '../raw_data/namib_desert_winds.nc'\n",
    "test_data = prep_data(file_path).iloc[0,:]\n",
    "get_image_per_coordinates(test_data)"
   ]
  },
  {
   "cell_type": "code",
   "execution_count": 183,
   "id": "43de3f6a-c3e3-4dae-b2ba-f7dd57dba479",
   "metadata": {
    "execution": {
     "iopub.execute_input": "2021-06-09T14:01:45.578047Z",
     "iopub.status.busy": "2021-06-09T14:01:45.577849Z",
     "iopub.status.idle": "2021-06-09T14:01:45.583027Z",
     "shell.execute_reply": "2021-06-09T14:01:45.582392Z",
     "shell.execute_reply.started": "2021-06-09T14:01:45.578024Z"
    }
   },
   "outputs": [
    {
     "data": {
      "text/plain": [
       "latitude          40.910000\n",
       "longitude        101.580002\n",
       "u10                0.176066\n",
       "v10                0.392398\n",
       "wind_strength      1.111934\n",
       "sin                0.151244\n",
       "cosin              0.326632\n",
       "Name: 0, dtype: float64"
      ]
     },
     "execution_count": 183,
     "metadata": {},
     "output_type": "execute_result"
    }
   ],
   "source": [
    "test_data"
   ]
  },
  {
   "cell_type": "code",
   "execution_count": 184,
   "id": "68980d8b-cd0a-4c2a-9ba1-95dc32def86b",
   "metadata": {
    "execution": {
     "iopub.execute_input": "2021-06-09T14:04:57.935588Z",
     "iopub.status.busy": "2021-06-09T14:04:57.935382Z",
     "iopub.status.idle": "2021-06-09T14:05:07.068154Z",
     "shell.execute_reply": "2021-06-09T14:05:07.067566Z",
     "shell.execute_reply.started": "2021-06-09T14:04:57.935566Z"
    },
    "tags": []
   },
   "outputs": [
    {
     "data": {
      "application/vnd.jupyter.widget-view+json": {
       "model_id": "3690dc2ed6ba4e958913142ad076c412",
       "version_major": 2,
       "version_minor": 0
      },
      "text/plain": [
       "Output()"
      ]
     },
     "metadata": {},
     "output_type": "display_data"
    },
    {
     "data": {
      "application/vnd.jupyter.widget-view+json": {
       "model_id": "0d3d36b9a184452aa9c33cf796b1a694",
       "version_major": 2,
       "version_minor": 0
      },
      "text/plain": [
       "Output()"
      ]
     },
     "metadata": {},
     "output_type": "display_data"
    },
    {
     "data": {
      "application/vnd.jupyter.widget-view+json": {
       "model_id": "6214f22e89674b92abb65e24cf599bec",
       "version_major": 2,
       "version_minor": 0
      },
      "text/plain": [
       "Output()"
      ]
     },
     "metadata": {},
     "output_type": "display_data"
    },
    {
     "data": {
      "application/vnd.jupyter.widget-view+json": {
       "model_id": "acffed98e314450e8bd6d7d420295c9e",
       "version_major": 2,
       "version_minor": 0
      },
      "text/plain": [
       "Output()"
      ]
     },
     "metadata": {},
     "output_type": "display_data"
    }
   ],
   "source": [
    "file_path = '../raw_data/gobi_winds.nc'\n",
    "test_data = prep_data(file_path).iloc[0,:]\n",
    "gobi_desert_values = get_one_image(test_data)"
   ]
  },
  {
   "cell_type": "code",
   "execution_count": 77,
   "id": "8977d685-2444-44c1-b5b4-809858ae625a",
   "metadata": {
    "execution": {
     "iopub.execute_input": "2021-06-09T11:35:45.414456Z",
     "iopub.status.busy": "2021-06-09T11:35:45.414176Z",
     "iopub.status.idle": "2021-06-09T11:36:43.406963Z",
     "shell.execute_reply": "2021-06-09T11:36:43.405896Z",
     "shell.execute_reply.started": "2021-06-09T11:35:45.414402Z"
    },
    "tags": []
   },
   "outputs": [
    {
     "name": "stdout",
     "output_type": "stream",
     "text": [
      "RESOLUTION: 128 x 128 pixels\n"
     ]
    },
    {
     "data": {
      "application/vnd.jupyter.widget-view+json": {
       "model_id": "37db0e04f85f4888b639d00632eafa66",
       "version_major": 2,
       "version_minor": 0
      },
      "text/plain": [
       "Output()"
      ]
     },
     "metadata": {},
     "output_type": "display_data"
    },
    {
     "data": {
      "application/vnd.jupyter.widget-view+json": {
       "model_id": "cc0c3707e70e4906bbf595cd3422343d",
       "version_major": 2,
       "version_minor": 0
      },
      "text/plain": [
       "Output()"
      ]
     },
     "metadata": {},
     "output_type": "display_data"
    },
    {
     "data": {
      "application/vnd.jupyter.widget-view+json": {
       "model_id": "d99d356f65be41f68a9187475cfead64",
       "version_major": 2,
       "version_minor": 0
      },
      "text/plain": [
       "Output()"
      ]
     },
     "metadata": {},
     "output_type": "display_data"
    },
    {
     "data": {
      "application/vnd.jupyter.widget-view+json": {
       "model_id": "fb22bfd14c03453d99c3d83b2b37ad0e",
       "version_major": 2,
       "version_minor": 0
      },
      "text/plain": [
       "Output()"
      ]
     },
     "metadata": {},
     "output_type": "display_data"
    },
    {
     "name": "stdout",
     "output_type": "stream",
     "text": [
      "RESOLUTION: 256 x 256 pixels\n"
     ]
    },
    {
     "data": {
      "application/vnd.jupyter.widget-view+json": {
       "model_id": "b8ee47c3067e40a2a542090094c5ca97",
       "version_major": 2,
       "version_minor": 0
      },
      "text/plain": [
       "Output()"
      ]
     },
     "metadata": {},
     "output_type": "display_data"
    },
    {
     "data": {
      "application/vnd.jupyter.widget-view+json": {
       "model_id": "eeb3e3394f324a51a0620c4ad732ff6d",
       "version_major": 2,
       "version_minor": 0
      },
      "text/plain": [
       "Output()"
      ]
     },
     "metadata": {},
     "output_type": "display_data"
    },
    {
     "data": {
      "application/vnd.jupyter.widget-view+json": {
       "model_id": "1bb28972406e4f9d92bf2e240198d5dc",
       "version_major": 2,
       "version_minor": 0
      },
      "text/plain": [
       "Output()"
      ]
     },
     "metadata": {},
     "output_type": "display_data"
    },
    {
     "data": {
      "application/vnd.jupyter.widget-view+json": {
       "model_id": "c997fa1d7f084900b9f7029757137629",
       "version_major": 2,
       "version_minor": 0
      },
      "text/plain": [
       "Output()"
      ]
     },
     "metadata": {},
     "output_type": "display_data"
    },
    {
     "name": "stdout",
     "output_type": "stream",
     "text": [
      "RESOLUTION: 512 x 512 pixels\n"
     ]
    },
    {
     "data": {
      "application/vnd.jupyter.widget-view+json": {
       "model_id": "a1d34513e1fe4e769a3d9ee1959a54d8",
       "version_major": 2,
       "version_minor": 0
      },
      "text/plain": [
       "Output()"
      ]
     },
     "metadata": {},
     "output_type": "display_data"
    },
    {
     "data": {
      "application/vnd.jupyter.widget-view+json": {
       "model_id": "c7f6df6b0e074eb88d2486c80675c95a",
       "version_major": 2,
       "version_minor": 0
      },
      "text/plain": [
       "Output()"
      ]
     },
     "metadata": {},
     "output_type": "display_data"
    },
    {
     "data": {
      "application/vnd.jupyter.widget-view+json": {
       "model_id": "cba95605819842f68bb658f15b4df1ad",
       "version_major": 2,
       "version_minor": 0
      },
      "text/plain": [
       "Output()"
      ]
     },
     "metadata": {},
     "output_type": "display_data"
    },
    {
     "data": {
      "application/vnd.jupyter.widget-view+json": {
       "model_id": "c582028588bc439ab633292d9da85af5",
       "version_major": 2,
       "version_minor": 0
      },
      "text/plain": [
       "Output()"
      ]
     },
     "metadata": {},
     "output_type": "display_data"
    },
    {
     "name": "stdout",
     "output_type": "stream",
     "text": [
      "RESOLUTION: 1024 x 1024 pixels\n"
     ]
    },
    {
     "data": {
      "application/vnd.jupyter.widget-view+json": {
       "model_id": "4f72efd783d845b2a1022d607aad3fca",
       "version_major": 2,
       "version_minor": 0
      },
      "text/plain": [
       "Output()"
      ]
     },
     "metadata": {},
     "output_type": "display_data"
    },
    {
     "data": {
      "application/vnd.jupyter.widget-view+json": {
       "model_id": "0e6c6a09a1ba4f5a9ae86ecc93216604",
       "version_major": 2,
       "version_minor": 0
      },
      "text/plain": [
       "Output()"
      ]
     },
     "metadata": {},
     "output_type": "display_data"
    },
    {
     "data": {
      "application/vnd.jupyter.widget-view+json": {
       "model_id": "7b9aaf7a87c942579a2819718811f9d5",
       "version_major": 2,
       "version_minor": 0
      },
      "text/plain": [
       "Output()"
      ]
     },
     "metadata": {},
     "output_type": "display_data"
    },
    {
     "data": {
      "application/vnd.jupyter.widget-view+json": {
       "model_id": "7cf815d247b5495cb2a8094f7c4feec8",
       "version_major": 2,
       "version_minor": 0
      },
      "text/plain": [
       "Output()"
      ]
     },
     "metadata": {},
     "output_type": "display_data"
    },
    {
     "name": "stdout",
     "output_type": "stream",
     "text": [
      "RESOLUTION: 2048 x 2048 pixels\n"
     ]
    },
    {
     "data": {
      "application/vnd.jupyter.widget-view+json": {
       "model_id": "11d3920c68364901bf235931eec3114e",
       "version_major": 2,
       "version_minor": 0
      },
      "text/plain": [
       "Output()"
      ]
     },
     "metadata": {},
     "output_type": "display_data"
    },
    {
     "data": {
      "application/vnd.jupyter.widget-view+json": {
       "model_id": "9404e8ee14764fee80f844f7a358066b",
       "version_major": 2,
       "version_minor": 0
      },
      "text/plain": [
       "Output()"
      ]
     },
     "metadata": {},
     "output_type": "display_data"
    },
    {
     "data": {
      "application/vnd.jupyter.widget-view+json": {
       "model_id": "3f6d666045b54263b4b44415ad6c67fa",
       "version_major": 2,
       "version_minor": 0
      },
      "text/plain": [
       "Output()"
      ]
     },
     "metadata": {},
     "output_type": "display_data"
    },
    {
     "data": {
      "application/vnd.jupyter.widget-view+json": {
       "model_id": "2267df903ae24d008f2fbed8f5febf15",
       "version_major": 2,
       "version_minor": 0
      },
      "text/plain": [
       "Output()"
      ]
     },
     "metadata": {},
     "output_type": "display_data"
    }
   ],
   "source": [
    "resolutions = [128, 256,512, 1024,2048]\n",
    "\n",
    "image_collection = []\n",
    "\n",
    "for resolution in resolutions:\n",
    "    print(f\"RESOLUTION: {resolution} x {resolution} pixels\")\n",
    "    image_collection.append(get_one_image(test_data,resolution=resolution))"
   ]
  },
  {
   "cell_type": "code",
   "execution_count": 25,
   "id": "e004eb17-6b43-4ba9-a77d-2a0c55c26d12",
   "metadata": {
    "execution": {
     "iopub.execute_input": "2021-06-09T16:04:17.091716Z",
     "iopub.status.busy": "2021-06-09T16:04:17.091484Z",
     "iopub.status.idle": "2021-06-09T16:04:17.097047Z",
     "shell.execute_reply": "2021-06-09T16:04:17.096399Z",
     "shell.execute_reply.started": "2021-06-09T16:04:17.091694Z"
    },
    "tags": []
   },
   "outputs": [],
   "source": [
    "def train_test_geographic_split(data:pd.DataFrame) -> pd.DataFrame:\n",
    "    \n",
    "    wind_data = data.copy()\n",
    "    \n",
    "    nb_long = wind_data.longitude.unique().shape[0]\n",
    "    nb_lat = wind_data.latitude.unique().shape[0]\n",
    "\n",
    "    nb_test_long = int(nb_long*.4)\n",
    "    nb_test_lat = int(nb_lat*.4)\n",
    "\n",
    "    test_lat = np.sort(wind_data.latitude.unique())[:nb_test_lat]\n",
    "    test_long = np.sort(wind_data.longitude.unique())[:nb_test_long]\n",
    "\n",
    "    wind_data['folder']='training'\n",
    "\n",
    "    for vlat in test_lat:\n",
    "        for vlong in test_long:\n",
    "            wind_data.loc[(wind_data.latitude == vlat) & (wind_data.longitude==vlong),'folder']='testing'\n",
    "            \n",
    "    val = wind_data[wind_data.folder=='testing'].sample(frac=0.3)\n",
    "    wind_data.loc[~val,'folder'] = 'validating'\n",
    "    \n",
    "    return wind_data"
   ]
  },
  {
   "cell_type": "code",
   "execution_count": 26,
   "id": "8ee5f924-c8db-4c7a-b90d-5f5bd59ddd95",
   "metadata": {
    "execution": {
     "iopub.execute_input": "2021-06-09T16:04:19.804457Z",
     "iopub.status.busy": "2021-06-09T16:04:19.804241Z",
     "iopub.status.idle": "2021-06-09T16:04:19.901814Z",
     "shell.execute_reply": "2021-06-09T16:04:19.900805Z",
     "shell.execute_reply.started": "2021-06-09T16:04:19.804435Z"
    },
    "tags": []
   },
   "outputs": [
    {
     "ename": "TypeError",
     "evalue": "ufunc 'invert' not supported for the input types, and the inputs could not be safely coerced to any supported types according to the casting rule ''safe''",
     "output_type": "error",
     "traceback": [
      "\u001b[0;31m---------------------------------------------------------------------------\u001b[0m",
      "\u001b[0;31mTypeError\u001b[0m                                 Traceback (most recent call last)",
      "\u001b[0;32m<ipython-input-26-aff07acc367e>\u001b[0m in \u001b[0;36m<module>\u001b[0;34m\u001b[0m\n\u001b[1;32m      1\u001b[0m \u001b[0mdf\u001b[0m \u001b[0;34m=\u001b[0m \u001b[0mprep_data\u001b[0m\u001b[0;34m(\u001b[0m\u001b[0;34m'../raw_data/practice_wind_dataset.nc'\u001b[0m\u001b[0;34m)\u001b[0m\u001b[0;34m\u001b[0m\u001b[0;34m\u001b[0m\u001b[0m\n\u001b[0;32m----> 2\u001b[0;31m \u001b[0mtrain_test_geographic_split\u001b[0m\u001b[0;34m(\u001b[0m\u001b[0mdf\u001b[0m\u001b[0;34m)\u001b[0m\u001b[0;34m\u001b[0m\u001b[0;34m\u001b[0m\u001b[0m\n\u001b[0m",
      "\u001b[0;32m<ipython-input-25-cc5f07285894>\u001b[0m in \u001b[0;36mtrain_test_geographic_split\u001b[0;34m(data)\u001b[0m\n\u001b[1;32m     19\u001b[0m \u001b[0;34m\u001b[0m\u001b[0m\n\u001b[1;32m     20\u001b[0m     \u001b[0mval\u001b[0m \u001b[0;34m=\u001b[0m \u001b[0mwind_data\u001b[0m\u001b[0;34m[\u001b[0m\u001b[0mwind_data\u001b[0m\u001b[0;34m.\u001b[0m\u001b[0mfolder\u001b[0m\u001b[0;34m==\u001b[0m\u001b[0;34m'testing'\u001b[0m\u001b[0;34m]\u001b[0m\u001b[0;34m.\u001b[0m\u001b[0msample\u001b[0m\u001b[0;34m(\u001b[0m\u001b[0mfrac\u001b[0m\u001b[0;34m=\u001b[0m\u001b[0;36m0.3\u001b[0m\u001b[0;34m)\u001b[0m\u001b[0;34m\u001b[0m\u001b[0;34m\u001b[0m\u001b[0m\n\u001b[0;32m---> 21\u001b[0;31m     \u001b[0mwind_data\u001b[0m\u001b[0;34m.\u001b[0m\u001b[0mloc\u001b[0m\u001b[0;34m[\u001b[0m\u001b[0;34m~\u001b[0m\u001b[0mval\u001b[0m\u001b[0;34m,\u001b[0m\u001b[0;34m'folder'\u001b[0m\u001b[0;34m]\u001b[0m \u001b[0;34m=\u001b[0m \u001b[0;34m'validating'\u001b[0m\u001b[0;34m\u001b[0m\u001b[0;34m\u001b[0m\u001b[0m\n\u001b[0m\u001b[1;32m     22\u001b[0m \u001b[0;34m\u001b[0m\u001b[0m\n\u001b[1;32m     23\u001b[0m     \u001b[0;32mreturn\u001b[0m \u001b[0mwind_data\u001b[0m\u001b[0;34m\u001b[0m\u001b[0;34m\u001b[0m\u001b[0m\n",
      "\u001b[0;32m~/.pyenv/versions/marswinds/lib/python3.8/site-packages/pandas/core/generic.py\u001b[0m in \u001b[0;36m__invert__\u001b[0;34m(self)\u001b[0m\n\u001b[1;32m   1434\u001b[0m             \u001b[0;32mreturn\u001b[0m \u001b[0mself\u001b[0m\u001b[0;34m\u001b[0m\u001b[0;34m\u001b[0m\u001b[0m\n\u001b[1;32m   1435\u001b[0m \u001b[0;34m\u001b[0m\u001b[0m\n\u001b[0;32m-> 1436\u001b[0;31m         \u001b[0mnew_data\u001b[0m \u001b[0;34m=\u001b[0m \u001b[0mself\u001b[0m\u001b[0;34m.\u001b[0m\u001b[0m_mgr\u001b[0m\u001b[0;34m.\u001b[0m\u001b[0mapply\u001b[0m\u001b[0;34m(\u001b[0m\u001b[0moperator\u001b[0m\u001b[0;34m.\u001b[0m\u001b[0minvert\u001b[0m\u001b[0;34m)\u001b[0m\u001b[0;34m\u001b[0m\u001b[0;34m\u001b[0m\u001b[0m\n\u001b[0m\u001b[1;32m   1437\u001b[0m         \u001b[0mresult\u001b[0m \u001b[0;34m=\u001b[0m \u001b[0mself\u001b[0m\u001b[0;34m.\u001b[0m\u001b[0m_constructor\u001b[0m\u001b[0;34m(\u001b[0m\u001b[0mnew_data\u001b[0m\u001b[0;34m)\u001b[0m\u001b[0;34m.\u001b[0m\u001b[0m__finalize__\u001b[0m\u001b[0;34m(\u001b[0m\u001b[0mself\u001b[0m\u001b[0;34m,\u001b[0m \u001b[0mmethod\u001b[0m\u001b[0;34m=\u001b[0m\u001b[0;34m\"__invert__\"\u001b[0m\u001b[0;34m)\u001b[0m\u001b[0;34m\u001b[0m\u001b[0;34m\u001b[0m\u001b[0m\n\u001b[1;32m   1438\u001b[0m         \u001b[0;32mreturn\u001b[0m \u001b[0mresult\u001b[0m\u001b[0;34m\u001b[0m\u001b[0;34m\u001b[0m\u001b[0m\n",
      "\u001b[0;32m~/.pyenv/versions/marswinds/lib/python3.8/site-packages/pandas/core/internals/managers.py\u001b[0m in \u001b[0;36mapply\u001b[0;34m(self, f, align_keys, ignore_failures, **kwargs)\u001b[0m\n\u001b[1;32m    423\u001b[0m             \u001b[0;32mtry\u001b[0m\u001b[0;34m:\u001b[0m\u001b[0;34m\u001b[0m\u001b[0;34m\u001b[0m\u001b[0m\n\u001b[1;32m    424\u001b[0m                 \u001b[0;32mif\u001b[0m \u001b[0mcallable\u001b[0m\u001b[0;34m(\u001b[0m\u001b[0mf\u001b[0m\u001b[0;34m)\u001b[0m\u001b[0;34m:\u001b[0m\u001b[0;34m\u001b[0m\u001b[0;34m\u001b[0m\u001b[0m\n\u001b[0;32m--> 425\u001b[0;31m                     \u001b[0mapplied\u001b[0m \u001b[0;34m=\u001b[0m \u001b[0mb\u001b[0m\u001b[0;34m.\u001b[0m\u001b[0mapply\u001b[0m\u001b[0;34m(\u001b[0m\u001b[0mf\u001b[0m\u001b[0;34m,\u001b[0m \u001b[0;34m**\u001b[0m\u001b[0mkwargs\u001b[0m\u001b[0;34m)\u001b[0m\u001b[0;34m\u001b[0m\u001b[0;34m\u001b[0m\u001b[0m\n\u001b[0m\u001b[1;32m    426\u001b[0m                 \u001b[0;32melse\u001b[0m\u001b[0;34m:\u001b[0m\u001b[0;34m\u001b[0m\u001b[0;34m\u001b[0m\u001b[0m\n\u001b[1;32m    427\u001b[0m                     \u001b[0mapplied\u001b[0m \u001b[0;34m=\u001b[0m \u001b[0mgetattr\u001b[0m\u001b[0;34m(\u001b[0m\u001b[0mb\u001b[0m\u001b[0;34m,\u001b[0m \u001b[0mf\u001b[0m\u001b[0;34m)\u001b[0m\u001b[0;34m(\u001b[0m\u001b[0;34m**\u001b[0m\u001b[0mkwargs\u001b[0m\u001b[0;34m)\u001b[0m\u001b[0;34m\u001b[0m\u001b[0;34m\u001b[0m\u001b[0m\n",
      "\u001b[0;32m~/.pyenv/versions/marswinds/lib/python3.8/site-packages/pandas/core/internals/blocks.py\u001b[0m in \u001b[0;36mapply\u001b[0;34m(self, func, **kwargs)\u001b[0m\n\u001b[1;32m    376\u001b[0m         \"\"\"\n\u001b[1;32m    377\u001b[0m         \u001b[0;32mwith\u001b[0m \u001b[0mnp\u001b[0m\u001b[0;34m.\u001b[0m\u001b[0merrstate\u001b[0m\u001b[0;34m(\u001b[0m\u001b[0mall\u001b[0m\u001b[0;34m=\u001b[0m\u001b[0;34m\"ignore\"\u001b[0m\u001b[0;34m)\u001b[0m\u001b[0;34m:\u001b[0m\u001b[0;34m\u001b[0m\u001b[0;34m\u001b[0m\u001b[0m\n\u001b[0;32m--> 378\u001b[0;31m             \u001b[0mresult\u001b[0m \u001b[0;34m=\u001b[0m \u001b[0mfunc\u001b[0m\u001b[0;34m(\u001b[0m\u001b[0mself\u001b[0m\u001b[0;34m.\u001b[0m\u001b[0mvalues\u001b[0m\u001b[0;34m,\u001b[0m \u001b[0;34m**\u001b[0m\u001b[0mkwargs\u001b[0m\u001b[0;34m)\u001b[0m\u001b[0;34m\u001b[0m\u001b[0;34m\u001b[0m\u001b[0m\n\u001b[0m\u001b[1;32m    379\u001b[0m \u001b[0;34m\u001b[0m\u001b[0m\n\u001b[1;32m    380\u001b[0m         \u001b[0;32mreturn\u001b[0m \u001b[0mself\u001b[0m\u001b[0;34m.\u001b[0m\u001b[0m_split_op_result\u001b[0m\u001b[0;34m(\u001b[0m\u001b[0mresult\u001b[0m\u001b[0;34m)\u001b[0m\u001b[0;34m\u001b[0m\u001b[0;34m\u001b[0m\u001b[0m\n",
      "\u001b[0;31mTypeError\u001b[0m: ufunc 'invert' not supported for the input types, and the inputs could not be safely coerced to any supported types according to the casting rule ''safe''"
     ]
    }
   ],
   "source": [
    "df = prep_data('../raw_data/practice_wind_dataset.nc')\n",
    "train_test_geographic_split(df)"
   ]
  },
  {
   "cell_type": "code",
   "execution_count": 22,
   "id": "ce6f5b27-d457-4b37-ab0d-15d974ec707b",
   "metadata": {
    "execution": {
     "iopub.execute_input": "2021-06-09T15:55:21.120332Z",
     "iopub.status.busy": "2021-06-09T15:55:21.120110Z",
     "iopub.status.idle": "2021-06-09T15:55:21.185019Z",
     "shell.execute_reply": "2021-06-09T15:55:21.184309Z",
     "shell.execute_reply.started": "2021-06-09T15:55:21.120304Z"
    },
    "tags": []
   },
   "outputs": [
    {
     "data": {
      "text/html": [
       "<div>\n",
       "<style scoped>\n",
       "    .dataframe tbody tr th:only-of-type {\n",
       "        vertical-align: middle;\n",
       "    }\n",
       "\n",
       "    .dataframe tbody tr th {\n",
       "        vertical-align: top;\n",
       "    }\n",
       "\n",
       "    .dataframe thead th {\n",
       "        text-align: right;\n",
       "    }\n",
       "</style>\n",
       "<table border=\"1\" class=\"dataframe\">\n",
       "  <thead>\n",
       "    <tr style=\"text-align: right;\">\n",
       "      <th></th>\n",
       "      <th>latitude</th>\n",
       "      <th>longitude</th>\n",
       "      <th>u10</th>\n",
       "      <th>v10</th>\n",
       "      <th>wind_strength</th>\n",
       "      <th>sin</th>\n",
       "      <th>cosin</th>\n",
       "      <th>folder</th>\n",
       "    </tr>\n",
       "  </thead>\n",
       "  <tbody>\n",
       "    <tr>\n",
       "      <th>0</th>\n",
       "      <td>20.91</td>\n",
       "      <td>52.570000</td>\n",
       "      <td>-0.654569</td>\n",
       "      <td>-0.941064</td>\n",
       "      <td>1.674286</td>\n",
       "      <td>-0.401793</td>\n",
       "      <td>-0.504130</td>\n",
       "      <td>testing</td>\n",
       "    </tr>\n",
       "    <tr>\n",
       "      <th>1</th>\n",
       "      <td>20.91</td>\n",
       "      <td>52.669998</td>\n",
       "      <td>-0.617733</td>\n",
       "      <td>-0.908168</td>\n",
       "      <td>1.646193</td>\n",
       "      <td>-0.386248</td>\n",
       "      <td>-0.493999</td>\n",
       "      <td>testing</td>\n",
       "    </tr>\n",
       "    <tr>\n",
       "      <th>2</th>\n",
       "      <td>20.91</td>\n",
       "      <td>52.770000</td>\n",
       "      <td>-0.581895</td>\n",
       "      <td>-0.866254</td>\n",
       "      <td>1.615274</td>\n",
       "      <td>-0.377852</td>\n",
       "      <td>-0.467297</td>\n",
       "      <td>testing</td>\n",
       "    </tr>\n",
       "    <tr>\n",
       "      <th>3</th>\n",
       "      <td>20.91</td>\n",
       "      <td>52.869999</td>\n",
       "      <td>-0.550300</td>\n",
       "      <td>-0.815944</td>\n",
       "      <td>1.582373</td>\n",
       "      <td>-0.372668</td>\n",
       "      <td>-0.449101</td>\n",
       "      <td>testing</td>\n",
       "    </tr>\n",
       "    <tr>\n",
       "      <th>4</th>\n",
       "      <td>20.91</td>\n",
       "      <td>52.970001</td>\n",
       "      <td>-0.519233</td>\n",
       "      <td>-0.762639</td>\n",
       "      <td>1.549767</td>\n",
       "      <td>-0.367174</td>\n",
       "      <td>-0.428177</td>\n",
       "      <td>testing</td>\n",
       "    </tr>\n",
       "    <tr>\n",
       "      <th>...</th>\n",
       "      <td>...</td>\n",
       "      <td>...</td>\n",
       "      <td>...</td>\n",
       "      <td>...</td>\n",
       "      <td>...</td>\n",
       "      <td>...</td>\n",
       "      <td>...</td>\n",
       "      <td>...</td>\n",
       "    </tr>\n",
       "    <tr>\n",
       "      <th>427</th>\n",
       "      <td>22.41</td>\n",
       "      <td>54.770000</td>\n",
       "      <td>0.287349</td>\n",
       "      <td>-0.968053</td>\n",
       "      <td>1.496343</td>\n",
       "      <td>0.131434</td>\n",
       "      <td>-0.510543</td>\n",
       "      <td>training</td>\n",
       "    </tr>\n",
       "    <tr>\n",
       "      <th>428</th>\n",
       "      <td>22.41</td>\n",
       "      <td>54.869999</td>\n",
       "      <td>0.343487</td>\n",
       "      <td>-0.912141</td>\n",
       "      <td>1.490919</td>\n",
       "      <td>0.173079</td>\n",
       "      <td>-0.483219</td>\n",
       "      <td>training</td>\n",
       "    </tr>\n",
       "    <tr>\n",
       "      <th>429</th>\n",
       "      <td>22.41</td>\n",
       "      <td>54.970001</td>\n",
       "      <td>0.388347</td>\n",
       "      <td>-0.855774</td>\n",
       "      <td>1.486733</td>\n",
       "      <td>0.210044</td>\n",
       "      <td>-0.455772</td>\n",
       "      <td>training</td>\n",
       "    </tr>\n",
       "    <tr>\n",
       "      <th>430</th>\n",
       "      <td>22.41</td>\n",
       "      <td>55.070000</td>\n",
       "      <td>0.430046</td>\n",
       "      <td>-0.800121</td>\n",
       "      <td>1.486798</td>\n",
       "      <td>0.245079</td>\n",
       "      <td>-0.427435</td>\n",
       "      <td>training</td>\n",
       "    </tr>\n",
       "    <tr>\n",
       "      <th>431</th>\n",
       "      <td>22.41</td>\n",
       "      <td>55.169998</td>\n",
       "      <td>0.454830</td>\n",
       "      <td>-0.746156</td>\n",
       "      <td>1.488617</td>\n",
       "      <td>0.268225</td>\n",
       "      <td>-0.402357</td>\n",
       "      <td>training</td>\n",
       "    </tr>\n",
       "  </tbody>\n",
       "</table>\n",
       "<p>432 rows × 8 columns</p>\n",
       "</div>"
      ],
      "text/plain": [
       "     latitude  longitude       u10       v10  wind_strength       sin  \\\n",
       "0       20.91  52.570000 -0.654569 -0.941064       1.674286 -0.401793   \n",
       "1       20.91  52.669998 -0.617733 -0.908168       1.646193 -0.386248   \n",
       "2       20.91  52.770000 -0.581895 -0.866254       1.615274 -0.377852   \n",
       "3       20.91  52.869999 -0.550300 -0.815944       1.582373 -0.372668   \n",
       "4       20.91  52.970001 -0.519233 -0.762639       1.549767 -0.367174   \n",
       "..        ...        ...       ...       ...            ...       ...   \n",
       "427     22.41  54.770000  0.287349 -0.968053       1.496343  0.131434   \n",
       "428     22.41  54.869999  0.343487 -0.912141       1.490919  0.173079   \n",
       "429     22.41  54.970001  0.388347 -0.855774       1.486733  0.210044   \n",
       "430     22.41  55.070000  0.430046 -0.800121       1.486798  0.245079   \n",
       "431     22.41  55.169998  0.454830 -0.746156       1.488617  0.268225   \n",
       "\n",
       "        cosin    folder  \n",
       "0   -0.504130   testing  \n",
       "1   -0.493999   testing  \n",
       "2   -0.467297   testing  \n",
       "3   -0.449101   testing  \n",
       "4   -0.428177   testing  \n",
       "..        ...       ...  \n",
       "427 -0.510543  training  \n",
       "428 -0.483219  training  \n",
       "429 -0.455772  training  \n",
       "430 -0.427435  training  \n",
       "431 -0.402357  training  \n",
       "\n",
       "[432 rows x 8 columns]"
      ]
     },
     "execution_count": 22,
     "metadata": {},
     "output_type": "execute_result"
    }
   ],
   "source": [
    "df2 = train_test_geographic_split(df)\n",
    "df2"
   ]
  },
  {
   "cell_type": "code",
   "execution_count": 23,
   "id": "197f9347-f43b-4da8-8f5e-096dfc6e6a1f",
   "metadata": {
    "execution": {
     "iopub.execute_input": "2021-06-09T15:55:24.980776Z",
     "iopub.status.busy": "2021-06-09T15:55:24.980572Z",
     "iopub.status.idle": "2021-06-09T15:55:24.984849Z",
     "shell.execute_reply": "2021-06-09T15:55:24.984206Z",
     "shell.execute_reply.started": "2021-06-09T15:55:24.980753Z"
    },
    "tags": []
   },
   "outputs": [
    {
     "data": {
      "text/plain": [
       "array(['testing', 'training'], dtype=object)"
      ]
     },
     "execution_count": 23,
     "metadata": {},
     "output_type": "execute_result"
    }
   ],
   "source": [
    "df2.folder.unique()"
   ]
  },
  {
   "cell_type": "code",
   "execution_count": 51,
   "id": "f4531b62-fda4-4745-acc8-e404ece1fb9d",
   "metadata": {
    "execution": {
     "iopub.execute_input": "2021-06-09T10:46:41.167282Z",
     "iopub.status.busy": "2021-06-09T10:46:41.167039Z",
     "iopub.status.idle": "2021-06-09T10:46:41.242294Z",
     "shell.execute_reply": "2021-06-09T10:46:41.241689Z",
     "shell.execute_reply.started": "2021-06-09T10:46:41.167256Z"
    },
    "tags": []
   },
   "outputs": [],
   "source": [
    "nb_long = wind_data.longitude.unique().shape[0]\n",
    "nb_lat = wind_data.latitude.unique().shape[0]\n",
    "\n",
    "nb_test_long = int(nb_long*.4)\n",
    "nb_test_lat = int(nb_lat*.4)\n",
    "\n",
    "test_lat = np.sort(wind_data.latitude.unique())[:nb_test_lat]\n",
    "test_long = np.sort(wind_data.longitude.unique())[:nb_test_long]\n",
    "\n",
    "test_validate_df = pd.DataFrame()\n",
    "\n",
    "for vlat in test_lat:\n",
    "    for vlong in test_long:\n",
    "        test_validate_df = pd.concat([test_validate_df,wind_data[(wind_data.latitude == vlat) & (wind_data.longitude==vlong)]])\n"
   ]
  },
  {
   "cell_type": "code",
   "execution_count": 69,
   "id": "563557f4-f512-4a39-ba8f-286a3f527add",
   "metadata": {
    "execution": {
     "iopub.execute_input": "2021-06-09T10:59:44.204271Z",
     "iopub.status.busy": "2021-06-09T10:59:44.204064Z",
     "iopub.status.idle": "2021-06-09T10:59:44.278510Z",
     "shell.execute_reply": "2021-06-09T10:59:44.277809Z",
     "shell.execute_reply.started": "2021-06-09T10:59:44.204249Z"
    },
    "tags": []
   },
   "outputs": [],
   "source": [
    "test, validate = train_test_geographic_split(wind_data)"
   ]
  },
  {
   "cell_type": "code",
   "execution_count": 71,
   "id": "13e73a58-5f32-43ef-976a-c8e2fece1c68",
   "metadata": {
    "execution": {
     "iopub.execute_input": "2021-06-09T11:23:09.911680Z",
     "iopub.status.busy": "2021-06-09T11:23:09.911479Z",
     "iopub.status.idle": "2021-06-09T11:23:09.924572Z",
     "shell.execute_reply": "2021-06-09T11:23:09.923967Z",
     "shell.execute_reply.started": "2021-06-09T11:23:09.911659Z"
    },
    "tags": []
   },
   "outputs": [
    {
     "data": {
      "text/html": [
       "<div>\n",
       "<style scoped>\n",
       "    .dataframe tbody tr th:only-of-type {\n",
       "        vertical-align: middle;\n",
       "    }\n",
       "\n",
       "    .dataframe tbody tr th {\n",
       "        vertical-align: top;\n",
       "    }\n",
       "\n",
       "    .dataframe thead th {\n",
       "        text-align: right;\n",
       "    }\n",
       "</style>\n",
       "<table border=\"1\" class=\"dataframe\">\n",
       "  <thead>\n",
       "    <tr style=\"text-align: right;\">\n",
       "      <th></th>\n",
       "      <th>latitude</th>\n",
       "      <th>longitude</th>\n",
       "      <th>u10</th>\n",
       "      <th>v10</th>\n",
       "      <th>wind_strength</th>\n",
       "      <th>sin</th>\n",
       "      <th>cosin</th>\n",
       "    </tr>\n",
       "  </thead>\n",
       "  <tbody>\n",
       "    <tr>\n",
       "      <th>35</th>\n",
       "      <td>21.010000</td>\n",
       "      <td>53.369999</td>\n",
       "      <td>-0.418923</td>\n",
       "      <td>-0.629496</td>\n",
       "      <td>1.478506</td>\n",
       "      <td>-0.330199</td>\n",
       "      <td>-0.357673</td>\n",
       "    </tr>\n",
       "    <tr>\n",
       "      <th>36</th>\n",
       "      <td>21.010000</td>\n",
       "      <td>53.470001</td>\n",
       "      <td>-0.388602</td>\n",
       "      <td>-0.587667</td>\n",
       "      <td>1.467832</td>\n",
       "      <td>-0.314558</td>\n",
       "      <td>-0.339529</td>\n",
       "    </tr>\n",
       "    <tr>\n",
       "      <th>108</th>\n",
       "      <td>21.309999</td>\n",
       "      <td>52.570000</td>\n",
       "      <td>-0.611208</td>\n",
       "      <td>-1.135007</td>\n",
       "      <td>1.732329</td>\n",
       "      <td>-0.372710</td>\n",
       "      <td>-0.586616</td>\n",
       "    </tr>\n",
       "    <tr>\n",
       "      <th>116</th>\n",
       "      <td>21.309999</td>\n",
       "      <td>53.369999</td>\n",
       "      <td>-0.432021</td>\n",
       "      <td>-0.828298</td>\n",
       "      <td>1.522710</td>\n",
       "      <td>-0.326505</td>\n",
       "      <td>-0.454204</td>\n",
       "    </tr>\n",
       "    <tr>\n",
       "      <th>30</th>\n",
       "      <td>21.010000</td>\n",
       "      <td>52.869999</td>\n",
       "      <td>-0.545430</td>\n",
       "      <td>-0.873532</td>\n",
       "      <td>1.596858</td>\n",
       "      <td>-0.363426</td>\n",
       "      <td>-0.477551</td>\n",
       "    </tr>\n",
       "    <tr>\n",
       "      <th>109</th>\n",
       "      <td>21.309999</td>\n",
       "      <td>52.669998</td>\n",
       "      <td>-0.578432</td>\n",
       "      <td>-1.108965</td>\n",
       "      <td>1.708075</td>\n",
       "      <td>-0.360920</td>\n",
       "      <td>-0.581710</td>\n",
       "    </tr>\n",
       "    <tr>\n",
       "      <th>84</th>\n",
       "      <td>21.209999</td>\n",
       "      <td>52.869999</td>\n",
       "      <td>-0.541218</td>\n",
       "      <td>-0.990874</td>\n",
       "      <td>1.637855</td>\n",
       "      <td>-0.354801</td>\n",
       "      <td>-0.545062</td>\n",
       "    </tr>\n",
       "    <tr>\n",
       "      <th>137</th>\n",
       "      <td>21.410000</td>\n",
       "      <td>52.770000</td>\n",
       "      <td>-0.546089</td>\n",
       "      <td>-1.126400</td>\n",
       "      <td>1.697951</td>\n",
       "      <td>-0.346065</td>\n",
       "      <td>-0.594248</td>\n",
       "    </tr>\n",
       "    <tr>\n",
       "      <th>34</th>\n",
       "      <td>21.010000</td>\n",
       "      <td>53.270000</td>\n",
       "      <td>-0.446262</td>\n",
       "      <td>-0.674574</td>\n",
       "      <td>1.493649</td>\n",
       "      <td>-0.343393</td>\n",
       "      <td>-0.378835</td>\n",
       "    </tr>\n",
       "    <tr>\n",
       "      <th>139</th>\n",
       "      <td>21.410000</td>\n",
       "      <td>52.970001</td>\n",
       "      <td>-0.510685</td>\n",
       "      <td>-1.047559</td>\n",
       "      <td>1.638342</td>\n",
       "      <td>-0.340067</td>\n",
       "      <td>-0.574397</td>\n",
       "    </tr>\n",
       "    <tr>\n",
       "      <th>31</th>\n",
       "      <td>21.010000</td>\n",
       "      <td>52.970001</td>\n",
       "      <td>-0.520527</td>\n",
       "      <td>-0.823347</td>\n",
       "      <td>1.565517</td>\n",
       "      <td>-0.360322</td>\n",
       "      <td>-0.458321</td>\n",
       "    </tr>\n",
       "    <tr>\n",
       "      <th>111</th>\n",
       "      <td>21.309999</td>\n",
       "      <td>52.869999</td>\n",
       "      <td>-0.534801</td>\n",
       "      <td>-1.040207</td>\n",
       "      <td>1.653265</td>\n",
       "      <td>-0.349162</td>\n",
       "      <td>-0.565459</td>\n",
       "    </tr>\n",
       "    <tr>\n",
       "      <th>82</th>\n",
       "      <td>21.209999</td>\n",
       "      <td>52.669998</td>\n",
       "      <td>-0.585549</td>\n",
       "      <td>-1.059644</td>\n",
       "      <td>1.692702</td>\n",
       "      <td>-0.367481</td>\n",
       "      <td>-0.562289</td>\n",
       "    </tr>\n",
       "    <tr>\n",
       "      <th>56</th>\n",
       "      <td>21.110001</td>\n",
       "      <td>52.770000</td>\n",
       "      <td>-0.565080</td>\n",
       "      <td>-0.975112</td>\n",
       "      <td>1.647023</td>\n",
       "      <td>-0.364623</td>\n",
       "      <td>-0.533495</td>\n",
       "    </tr>\n",
       "    <tr>\n",
       "      <th>83</th>\n",
       "      <td>21.209999</td>\n",
       "      <td>52.770000</td>\n",
       "      <td>-0.558578</td>\n",
       "      <td>-1.028591</td>\n",
       "      <td>1.666341</td>\n",
       "      <td>-0.358635</td>\n",
       "      <td>-0.555262</td>\n",
       "    </tr>\n",
       "    <tr>\n",
       "      <th>8</th>\n",
       "      <td>20.910000</td>\n",
       "      <td>53.369999</td>\n",
       "      <td>-0.410378</td>\n",
       "      <td>-0.567364</td>\n",
       "      <td>1.469875</td>\n",
       "      <td>-0.327775</td>\n",
       "      <td>-0.321118</td>\n",
       "    </tr>\n",
       "    <tr>\n",
       "      <th>89</th>\n",
       "      <td>21.209999</td>\n",
       "      <td>53.369999</td>\n",
       "      <td>-0.437740</td>\n",
       "      <td>-0.768397</td>\n",
       "      <td>1.509161</td>\n",
       "      <td>-0.332150</td>\n",
       "      <td>-0.425464</td>\n",
       "    </tr>\n",
       "    <tr>\n",
       "      <th>54</th>\n",
       "      <td>21.110001</td>\n",
       "      <td>52.570000</td>\n",
       "      <td>-0.630906</td>\n",
       "      <td>-1.036458</td>\n",
       "      <td>1.701255</td>\n",
       "      <td>-0.387669</td>\n",
       "      <td>-0.547415</td>\n",
       "    </tr>\n",
       "  </tbody>\n",
       "</table>\n",
       "</div>"
      ],
      "text/plain": [
       "      latitude  longitude       u10       v10  wind_strength       sin  \\\n",
       "35   21.010000  53.369999 -0.418923 -0.629496       1.478506 -0.330199   \n",
       "36   21.010000  53.470001 -0.388602 -0.587667       1.467832 -0.314558   \n",
       "108  21.309999  52.570000 -0.611208 -1.135007       1.732329 -0.372710   \n",
       "116  21.309999  53.369999 -0.432021 -0.828298       1.522710 -0.326505   \n",
       "30   21.010000  52.869999 -0.545430 -0.873532       1.596858 -0.363426   \n",
       "109  21.309999  52.669998 -0.578432 -1.108965       1.708075 -0.360920   \n",
       "84   21.209999  52.869999 -0.541218 -0.990874       1.637855 -0.354801   \n",
       "137  21.410000  52.770000 -0.546089 -1.126400       1.697951 -0.346065   \n",
       "34   21.010000  53.270000 -0.446262 -0.674574       1.493649 -0.343393   \n",
       "139  21.410000  52.970001 -0.510685 -1.047559       1.638342 -0.340067   \n",
       "31   21.010000  52.970001 -0.520527 -0.823347       1.565517 -0.360322   \n",
       "111  21.309999  52.869999 -0.534801 -1.040207       1.653265 -0.349162   \n",
       "82   21.209999  52.669998 -0.585549 -1.059644       1.692702 -0.367481   \n",
       "56   21.110001  52.770000 -0.565080 -0.975112       1.647023 -0.364623   \n",
       "83   21.209999  52.770000 -0.558578 -1.028591       1.666341 -0.358635   \n",
       "8    20.910000  53.369999 -0.410378 -0.567364       1.469875 -0.327775   \n",
       "89   21.209999  53.369999 -0.437740 -0.768397       1.509161 -0.332150   \n",
       "54   21.110001  52.570000 -0.630906 -1.036458       1.701255 -0.387669   \n",
       "\n",
       "        cosin  \n",
       "35  -0.357673  \n",
       "36  -0.339529  \n",
       "108 -0.586616  \n",
       "116 -0.454204  \n",
       "30  -0.477551  \n",
       "109 -0.581710  \n",
       "84  -0.545062  \n",
       "137 -0.594248  \n",
       "34  -0.378835  \n",
       "139 -0.574397  \n",
       "31  -0.458321  \n",
       "111 -0.565459  \n",
       "82  -0.562289  \n",
       "56  -0.533495  \n",
       "83  -0.555262  \n",
       "8   -0.321118  \n",
       "89  -0.425464  \n",
       "54  -0.547415  "
      ]
     },
     "execution_count": 71,
     "metadata": {},
     "output_type": "execute_result"
    }
   ],
   "source": [
    "validate"
   ]
  },
  {
   "cell_type": "code",
   "execution_count": 110,
   "id": "2e1e8003-1ff5-40bd-832f-8a87a14e41ea",
   "metadata": {
    "execution": {
     "iopub.execute_input": "2021-06-09T13:00:52.715972Z",
     "iopub.status.busy": "2021-06-09T13:00:52.715668Z",
     "iopub.status.idle": "2021-06-09T13:00:52.732141Z",
     "shell.execute_reply": "2021-06-09T13:00:52.731503Z",
     "shell.execute_reply.started": "2021-06-09T13:00:52.715942Z"
    }
   },
   "outputs": [
    {
     "data": {
      "text/plain": [
       "{'type': 'Image',\n",
       " 'bands': [{'id': 'B1',\n",
       "   'data_type': {'type': 'PixelType',\n",
       "    'precision': 'int',\n",
       "    'min': 0,\n",
       "    'max': 65535},\n",
       "   'dimensions': [1830, 1830],\n",
       "   'crs': 'EPSG:32613',\n",
       "   'crs_transform': [60, 0, 300000, 0, -60, 3700020]},\n",
       "  {'id': 'B2',\n",
       "   'data_type': {'type': 'PixelType',\n",
       "    'precision': 'int',\n",
       "    'min': 0,\n",
       "    'max': 65535},\n",
       "   'dimensions': [10980, 10980],\n",
       "   'crs': 'EPSG:32613',\n",
       "   'crs_transform': [10, 0, 300000, 0, -10, 3700020]},\n",
       "  {'id': 'B3',\n",
       "   'data_type': {'type': 'PixelType',\n",
       "    'precision': 'int',\n",
       "    'min': 0,\n",
       "    'max': 65535},\n",
       "   'dimensions': [10980, 10980],\n",
       "   'crs': 'EPSG:32613',\n",
       "   'crs_transform': [10, 0, 300000, 0, -10, 3700020]},\n",
       "  {'id': 'B4',\n",
       "   'data_type': {'type': 'PixelType',\n",
       "    'precision': 'int',\n",
       "    'min': 0,\n",
       "    'max': 65535},\n",
       "   'dimensions': [10980, 10980],\n",
       "   'crs': 'EPSG:32613',\n",
       "   'crs_transform': [10, 0, 300000, 0, -10, 3700020]},\n",
       "  {'id': 'B5',\n",
       "   'data_type': {'type': 'PixelType',\n",
       "    'precision': 'int',\n",
       "    'min': 0,\n",
       "    'max': 65535},\n",
       "   'dimensions': [5490, 5490],\n",
       "   'crs': 'EPSG:32613',\n",
       "   'crs_transform': [20, 0, 300000, 0, -20, 3700020]},\n",
       "  {'id': 'B6',\n",
       "   'data_type': {'type': 'PixelType',\n",
       "    'precision': 'int',\n",
       "    'min': 0,\n",
       "    'max': 65535},\n",
       "   'dimensions': [5490, 5490],\n",
       "   'crs': 'EPSG:32613',\n",
       "   'crs_transform': [20, 0, 300000, 0, -20, 3700020]},\n",
       "  {'id': 'B7',\n",
       "   'data_type': {'type': 'PixelType',\n",
       "    'precision': 'int',\n",
       "    'min': 0,\n",
       "    'max': 65535},\n",
       "   'dimensions': [5490, 5490],\n",
       "   'crs': 'EPSG:32613',\n",
       "   'crs_transform': [20, 0, 300000, 0, -20, 3700020]},\n",
       "  {'id': 'B8',\n",
       "   'data_type': {'type': 'PixelType',\n",
       "    'precision': 'int',\n",
       "    'min': 0,\n",
       "    'max': 65535},\n",
       "   'dimensions': [10980, 10980],\n",
       "   'crs': 'EPSG:32613',\n",
       "   'crs_transform': [10, 0, 300000, 0, -10, 3700020]},\n",
       "  {'id': 'B8A',\n",
       "   'data_type': {'type': 'PixelType',\n",
       "    'precision': 'int',\n",
       "    'min': 0,\n",
       "    'max': 65535},\n",
       "   'dimensions': [5490, 5490],\n",
       "   'crs': 'EPSG:32613',\n",
       "   'crs_transform': [20, 0, 300000, 0, -20, 3700020]},\n",
       "  {'id': 'B9',\n",
       "   'data_type': {'type': 'PixelType',\n",
       "    'precision': 'int',\n",
       "    'min': 0,\n",
       "    'max': 65535},\n",
       "   'dimensions': [1830, 1830],\n",
       "   'crs': 'EPSG:32613',\n",
       "   'crs_transform': [60, 0, 300000, 0, -60, 3700020]},\n",
       "  {'id': 'B11',\n",
       "   'data_type': {'type': 'PixelType',\n",
       "    'precision': 'int',\n",
       "    'min': 0,\n",
       "    'max': 65535},\n",
       "   'dimensions': [5490, 5490],\n",
       "   'crs': 'EPSG:32613',\n",
       "   'crs_transform': [20, 0, 300000, 0, -20, 3700020]},\n",
       "  {'id': 'B12',\n",
       "   'data_type': {'type': 'PixelType',\n",
       "    'precision': 'int',\n",
       "    'min': 0,\n",
       "    'max': 65535},\n",
       "   'dimensions': [5490, 5490],\n",
       "   'crs': 'EPSG:32613',\n",
       "   'crs_transform': [20, 0, 300000, 0, -20, 3700020]},\n",
       "  {'id': 'AOT',\n",
       "   'data_type': {'type': 'PixelType',\n",
       "    'precision': 'int',\n",
       "    'min': 0,\n",
       "    'max': 65535},\n",
       "   'dimensions': [10980, 10980],\n",
       "   'crs': 'EPSG:32613',\n",
       "   'crs_transform': [10, 0, 300000, 0, -10, 3700020]},\n",
       "  {'id': 'WVP',\n",
       "   'data_type': {'type': 'PixelType',\n",
       "    'precision': 'int',\n",
       "    'min': 0,\n",
       "    'max': 65535},\n",
       "   'dimensions': [10980, 10980],\n",
       "   'crs': 'EPSG:32613',\n",
       "   'crs_transform': [10, 0, 300000, 0, -10, 3700020]},\n",
       "  {'id': 'SCL',\n",
       "   'data_type': {'type': 'PixelType',\n",
       "    'precision': 'int',\n",
       "    'min': 0,\n",
       "    'max': 255},\n",
       "   'dimensions': [5490, 5490],\n",
       "   'crs': 'EPSG:32613',\n",
       "   'crs_transform': [20, 0, 300000, 0, -20, 3700020]},\n",
       "  {'id': 'TCI_R',\n",
       "   'data_type': {'type': 'PixelType',\n",
       "    'precision': 'int',\n",
       "    'min': 0,\n",
       "    'max': 255},\n",
       "   'dimensions': [10980, 10980],\n",
       "   'crs': 'EPSG:32613',\n",
       "   'crs_transform': [10, 0, 300000, 0, -10, 3700020]},\n",
       "  {'id': 'TCI_G',\n",
       "   'data_type': {'type': 'PixelType',\n",
       "    'precision': 'int',\n",
       "    'min': 0,\n",
       "    'max': 255},\n",
       "   'dimensions': [10980, 10980],\n",
       "   'crs': 'EPSG:32613',\n",
       "   'crs_transform': [10, 0, 300000, 0, -10, 3700020]},\n",
       "  {'id': 'TCI_B',\n",
       "   'data_type': {'type': 'PixelType',\n",
       "    'precision': 'int',\n",
       "    'min': 0,\n",
       "    'max': 255},\n",
       "   'dimensions': [10980, 10980],\n",
       "   'crs': 'EPSG:32613',\n",
       "   'crs_transform': [10, 0, 300000, 0, -10, 3700020]},\n",
       "  {'id': 'MSK_CLDPRB',\n",
       "   'data_type': {'type': 'PixelType',\n",
       "    'precision': 'int',\n",
       "    'min': 0,\n",
       "    'max': 255},\n",
       "   'dimensions': [5490, 5490],\n",
       "   'crs': 'EPSG:32613',\n",
       "   'crs_transform': [20, 0, 300000, 0, -20, 3700020]},\n",
       "  {'id': 'MSK_SNWPRB',\n",
       "   'data_type': {'type': 'PixelType',\n",
       "    'precision': 'int',\n",
       "    'min': 0,\n",
       "    'max': 255},\n",
       "   'dimensions': [5490, 5490],\n",
       "   'crs': 'EPSG:32613',\n",
       "   'crs_transform': [20, 0, 300000, 0, -20, 3700020]},\n",
       "  {'id': 'QA10',\n",
       "   'data_type': {'type': 'PixelType',\n",
       "    'precision': 'int',\n",
       "    'min': 0,\n",
       "    'max': 65535},\n",
       "   'dimensions': [10980, 10980],\n",
       "   'crs': 'EPSG:32613',\n",
       "   'crs_transform': [10, 0, 300000, 0, -10, 3700020]},\n",
       "  {'id': 'QA20',\n",
       "   'data_type': {'type': 'PixelType',\n",
       "    'precision': 'int',\n",
       "    'min': 0,\n",
       "    'max': 4294967295},\n",
       "   'dimensions': [5490, 5490],\n",
       "   'crs': 'EPSG:32613',\n",
       "   'crs_transform': [20, 0, 300000, 0, -20, 3700020]},\n",
       "  {'id': 'QA60',\n",
       "   'data_type': {'type': 'PixelType',\n",
       "    'precision': 'int',\n",
       "    'min': 0,\n",
       "    'max': 65535},\n",
       "   'dimensions': [1830, 1830],\n",
       "   'crs': 'EPSG:32613',\n",
       "   'crs_transform': [60, 0, 300000, 0, -60, 3700020]}],\n",
       " 'id': 'COPERNICUS/S2_SR/20181215T174729_20181215T174829_T13SCS',\n",
       " 'version': 1557005886705114,\n",
       " 'properties': {'DATATAKE_IDENTIFIER': 'GS2B_20181215T174729_009276_N02.11',\n",
       "  'AOT_RETRIEVAL_ACCURACY': 0,\n",
       "  'SPACECRAFT_NAME': 'Sentinel-2B',\n",
       "  'SATURATED_DEFECTIVE_PIXEL_PERCENTAGE': 0,\n",
       "  'MEAN_INCIDENCE_AZIMUTH_ANGLE_B8A': 105.993769046,\n",
       "  'CLOUD_SHADOW_PERCENTAGE': 0.022127,\n",
       "  'MEAN_SOLAR_AZIMUTH_ANGLE': 162.015667312,\n",
       "  'system:footprint': {'type': 'LinearRing',\n",
       "   'coordinates': [[-107.12270708466453, 33.421488961164236],\n",
       "    [-107.12272979959401, 33.421476778596926],\n",
       "    [-107.12590170809302, 33.419258223865164],\n",
       "    [-107.1259280289153, 33.41923374173958],\n",
       "    [-107.12776400348473, 33.41485778291686],\n",
       "    [-107.1301860005043, 33.40832116830431],\n",
       "    [-107.13981527624063, 33.380016632487155],\n",
       "    [-107.14680864446196, 33.349588344830245],\n",
       "    [-107.1487756726452, 33.324656978296495],\n",
       "    [-107.13792927028094, 32.878014356102824],\n",
       "    [-107.12731988168785, 32.43134054955547],\n",
       "    [-107.12723533007637, 32.4312519258818],\n",
       "    [-105.9598117444048, 32.445561622180996],\n",
       "    [-105.95970587094153, 32.4456320471602],\n",
       "    [-105.96501844276803, 32.940735180137814],\n",
       "    [-105.97046232425531, 33.435777960720735],\n",
       "    [-105.97054677678244, 33.43586726176816],\n",
       "    [-107.12266273647504, 33.42149773245396],\n",
       "    [-107.12270708466453, 33.421488961164236]]},\n",
       "  'VEGETATION_PERCENTAGE': 0.005442,\n",
       "  'SOLAR_IRRADIANCE_B12': 87.75,\n",
       "  'SOLAR_IRRADIANCE_B10': 365.41,\n",
       "  'SENSOR_QUALITY': 'PASSED',\n",
       "  'SOLAR_IRRADIANCE_B11': 247.08,\n",
       "  'GENERATION_TIME': 1544905108000,\n",
       "  'SOLAR_IRRADIANCE_B8A': 953.93,\n",
       "  'FORMAT_CORRECTNESS': 'PASSED',\n",
       "  'CLOUD_COVERAGE_ASSESSMENT': 65.684506,\n",
       "  'THIN_CIRRUS_PERCENTAGE': 25.026366,\n",
       "  'system:time_end': 1544896492000,\n",
       "  'WATER_VAPOUR_RETRIEVAL_ACCURACY': 0,\n",
       "  'system:time_start': 1544896492000,\n",
       "  'DATASTRIP_ID': 'S2B_OPER_MSI_L2A_DS_SGS__20181215T201828_S20181215T174829_N02.11',\n",
       "  'PROCESSING_BASELINE': '02.11',\n",
       "  'SENSING_ORBIT_NUMBER': 98,\n",
       "  'NODATA_PIXEL_PERCENTAGE': 0.138045,\n",
       "  'SENSING_ORBIT_DIRECTION': 'DESCENDING',\n",
       "  'GENERAL_QUALITY': 'PASSED',\n",
       "  'GRANULE_ID': 'L2A_T13SCS_A009276_20181215T174829',\n",
       "  'REFLECTANCE_CONVERSION_CORRECTION': 1.03170700079,\n",
       "  'MEDIUM_PROBA_CLOUDS_PERCENTAGE': 24.472761,\n",
       "  'MEAN_INCIDENCE_AZIMUTH_ANGLE_B8': 105.277220234,\n",
       "  'DATATAKE_TYPE': 'INS-NOBS',\n",
       "  'MEAN_INCIDENCE_AZIMUTH_ANGLE_B9': 106.204401819,\n",
       "  'MEAN_INCIDENCE_AZIMUTH_ANGLE_B6': 105.811944274,\n",
       "  'MEAN_INCIDENCE_AZIMUTH_ANGLE_B7': 105.912707192,\n",
       "  'MEAN_INCIDENCE_AZIMUTH_ANGLE_B4': 105.617323939,\n",
       "  'MEAN_INCIDENCE_ZENITH_ANGLE_B1': 7.01103667319,\n",
       "  'NOT_VEGETATED_PERCENTAGE': 29.042023,\n",
       "  'MEAN_INCIDENCE_AZIMUTH_ANGLE_B5': 105.719248529,\n",
       "  'RADIOMETRIC_QUALITY': 'PASSED',\n",
       "  'MEAN_INCIDENCE_AZIMUTH_ANGLE_B2': 105.144476953,\n",
       "  'MEAN_INCIDENCE_AZIMUTH_ANGLE_B3': 105.411892063,\n",
       "  'MEAN_INCIDENCE_ZENITH_ANGLE_B5': 6.86329659551,\n",
       "  'MEAN_INCIDENCE_AZIMUTH_ANGLE_B1': 106.133303874,\n",
       "  'MEAN_INCIDENCE_ZENITH_ANGLE_B4': 6.8286851544,\n",
       "  'MEAN_INCIDENCE_ZENITH_ANGLE_B3': 6.77827934823,\n",
       "  'MEAN_INCIDENCE_ZENITH_ANGLE_B2': 6.73691225092,\n",
       "  'MEAN_INCIDENCE_ZENITH_ANGLE_B9': 7.05625470321,\n",
       "  'MEAN_INCIDENCE_ZENITH_ANGLE_B8': 6.75866651618,\n",
       "  'MEAN_INCIDENCE_ZENITH_ANGLE_B7': 6.93078515036,\n",
       "  'DARK_FEATURES_PERCENTAGE': 2.47434,\n",
       "  'HIGH_PROBA_CLOUDS_PERCENTAGE': 16.185379,\n",
       "  'MEAN_INCIDENCE_ZENITH_ANGLE_B6': 6.89545654671,\n",
       "  'UNCLASSIFIED_PERCENTAGE': 2.733522,\n",
       "  'MEAN_SOLAR_ZENITH_ANGLE': 58.4202694058,\n",
       "  'MEAN_INCIDENCE_ZENITH_ANGLE_B8A': 6.96898374307,\n",
       "  'RADIATIVE_TRANSFER_ACCURACY': 0,\n",
       "  'MGRS_TILE': '13SCS',\n",
       "  'CLOUDY_PIXEL_PERCENTAGE': 65.684506,\n",
       "  'PRODUCT_ID': 'S2B_MSIL2A_20181215T174729_N0211_R098_T13SCS_20181215T201828',\n",
       "  'MEAN_INCIDENCE_ZENITH_ANGLE_B10': 6.80392197299,\n",
       "  'SOLAR_IRRADIANCE_B9': 817.58,\n",
       "  'SNOW_ICE_PERCENTAGE': 0.006193,\n",
       "  'DEGRADED_MSI_DATA_PERCENTAGE': 0,\n",
       "  'MEAN_INCIDENCE_ZENITH_ANGLE_B11': 6.87829158956,\n",
       "  'MEAN_INCIDENCE_ZENITH_ANGLE_B12': 6.97714864542,\n",
       "  'SOLAR_IRRADIANCE_B6': 1291.13,\n",
       "  'MEAN_INCIDENCE_AZIMUTH_ANGLE_B10': 105.698778936,\n",
       "  'SOLAR_IRRADIANCE_B5': 1425.78,\n",
       "  'MEAN_INCIDENCE_AZIMUTH_ANGLE_B11': 105.941772455,\n",
       "  'SOLAR_IRRADIANCE_B8': 1041.28,\n",
       "  'MEAN_INCIDENCE_AZIMUTH_ANGLE_B12': 106.119439094,\n",
       "  'SOLAR_IRRADIANCE_B7': 1175.57,\n",
       "  'SOLAR_IRRADIANCE_B2': 1959.77,\n",
       "  'SOLAR_IRRADIANCE_B1': 1874.3,\n",
       "  'SOLAR_IRRADIANCE_B4': 1512.79,\n",
       "  'GEOMETRIC_QUALITY': 'PASSED',\n",
       "  'SOLAR_IRRADIANCE_B3': 1824.93,\n",
       "  'system:asset_size': 1617110820,\n",
       "  'WATER_PERCENTAGE': 0.031849,\n",
       "  'system:index': '20181215T174729_20181215T174829_T13SCS'}}"
      ]
     },
     "execution_count": 110,
     "metadata": {},
     "output_type": "execute_result"
    }
   ],
   "source": [
    "white_sand_values"
   ]
  },
  {
   "cell_type": "code",
   "execution_count": 157,
   "id": "9378d2a4-3976-4b2b-9dbe-9356ea2900ff",
   "metadata": {
    "execution": {
     "iopub.execute_input": "2021-06-09T13:42:23.322000Z",
     "iopub.status.busy": "2021-06-09T13:42:23.321773Z",
     "iopub.status.idle": "2021-06-09T13:42:23.326523Z",
     "shell.execute_reply": "2021-06-09T13:42:23.325585Z",
     "shell.execute_reply.started": "2021-06-09T13:42:23.321979Z"
    },
    "tags": []
   },
   "outputs": [
    {
     "name": "stdout",
     "output_type": "stream",
     "text": [
      "65.684506\n",
      "0.017896\n",
      "9.740144\n"
     ]
    }
   ],
   "source": [
    "feature = 'CLOUDY_PIXEL_PERCENTAGE'\n",
    "\n",
    "print(white_sand_values['properties'][feature])\n",
    "print(arabian_sand_values['properties'][feature])\n",
    "print(namib_desert_values['properties'][feature])"
   ]
  },
  {
   "cell_type": "code",
   "execution_count": 158,
   "id": "023c455f-a906-49a6-a0a5-2f323efd3042",
   "metadata": {
    "execution": {
     "iopub.execute_input": "2021-06-09T13:42:31.080403Z",
     "iopub.status.busy": "2021-06-09T13:42:31.080197Z",
     "iopub.status.idle": "2021-06-09T13:42:31.083924Z",
     "shell.execute_reply": "2021-06-09T13:42:31.083235Z",
     "shell.execute_reply.started": "2021-06-09T13:42:31.080381Z"
    },
    "tags": []
   },
   "outputs": [
    {
     "name": "stdout",
     "output_type": "stream",
     "text": [
      "16.185379\n",
      "0\n",
      "7.998335\n"
     ]
    }
   ],
   "source": [
    "feature = 'HIGH_PROBA_CLOUDS_PERCENTAGE'\n",
    "\n",
    "print(white_sand_values['properties'][feature])\n",
    "print(arabian_sand_values['properties'][feature])\n",
    "print(namib_desert_values['properties'][feature])"
   ]
  },
  {
   "cell_type": "code",
   "execution_count": null,
   "id": "e7ef44e9-692f-4b5d-8a3a-cb9129c193b9",
   "metadata": {},
   "outputs": [],
   "source": [
    "'DARK_FEATURES_PERCENTAGE'\n",
    "'SOLAR_IRRADIANCE_B9': 817.58,\n",
    "'SOLAR_IRRADIANCE_B3': 1824.93,\n",
    "    'SOLAR_IRRADIANCE_B12': 87.75,\n",
    "  'SOLAR_IRRADIANCE_B10': 365.41,\n",
    "  'SENSOR_QUALITY': 'PASSED',\n",
    "  'SOLAR_IRRADIANCE_B11': 247.08,\n",
    "  'GENERATION_TIME': 1544905108000,\n",
    "  'SOLAR_IRRADIANCE_B8A': 953.93,\n",
    "    'THIN_CIRRUS_PERCENTAGE': 25.026366,\n",
    "        'SNOW_ICE_PERCENTAGE': 0.006193,\n",
    "            'HIGH_PROBA_CLOUDS_PERCENTAGE': 16.185379,"
   ]
  }
 ],
 "metadata": {
  "kernelspec": {
   "display_name": "marswinds",
   "language": "python",
   "name": "marswinds"
  },
  "language_info": {
   "codemirror_mode": {
    "name": "ipython",
    "version": 3
   },
   "file_extension": ".py",
   "mimetype": "text/x-python",
   "name": "python",
   "nbconvert_exporter": "python",
   "pygments_lexer": "ipython3",
   "version": "3.8.6"
  }
 },
 "nbformat": 4,
 "nbformat_minor": 5
}
