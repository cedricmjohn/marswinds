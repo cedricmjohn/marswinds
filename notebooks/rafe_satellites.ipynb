{
 "cells": [
  {
   "cell_type": "code",
   "execution_count": 1,
   "id": "792fe1f7",
   "metadata": {},
   "outputs": [
    {
     "name": "stdout",
     "output_type": "stream",
     "text": [
      "Requirement already satisfied: geemap in ./.pyenv/versions/3.8.6/envs/lewagon/lib/python3.8/site-packages (0.8.16)\n",
      "Requirement already satisfied: ipyfilechooser in ./.pyenv/versions/3.8.6/envs/lewagon/lib/python3.8/site-packages (from geemap) (0.4.3)\n",
      "Requirement already satisfied: ipynb-py-convert in ./.pyenv/versions/3.8.6/envs/lewagon/lib/python3.8/site-packages (from geemap) (0.4.6)\n",
      "Requirement already satisfied: ipyevents in ./.pyenv/versions/3.8.6/envs/lewagon/lib/python3.8/site-packages (from geemap) (0.8.2)\n",
      "Requirement already satisfied: voila in ./.pyenv/versions/3.8.6/envs/lewagon/lib/python3.8/site-packages (from geemap) (0.2.10)\n",
      "Requirement already satisfied: earthengine-api>=0.1.230 in ./.pyenv/versions/3.8.6/envs/lewagon/lib/python3.8/site-packages (from geemap) (0.1.268)\n",
      "Requirement already satisfied: geeadd>=0.5.1 in ./.pyenv/versions/3.8.6/envs/lewagon/lib/python3.8/site-packages (from geemap) (0.5.5)\n",
      "Requirement already satisfied: pyshp>=2.1.3 in ./.pyenv/versions/3.8.6/envs/lewagon/lib/python3.8/site-packages (from geemap) (2.1.3)\n",
      "Requirement already satisfied: pycrs in ./.pyenv/versions/3.8.6/envs/lewagon/lib/python3.8/site-packages (from geemap) (1.0.2)\n",
      "Requirement already satisfied: matplotlib in ./.pyenv/versions/3.8.6/envs/lewagon/lib/python3.8/site-packages (from geemap) (3.4.1)\n",
      "Requirement already satisfied: bqplot in ./.pyenv/versions/3.8.6/envs/lewagon/lib/python3.8/site-packages (from geemap) (0.12.28)\n",
      "Requirement already satisfied: numpy in ./.pyenv/versions/3.8.6/envs/lewagon/lib/python3.8/site-packages (from geemap) (1.18.5)\n",
      "Requirement already satisfied: ffmpeg-python in ./.pyenv/versions/3.8.6/envs/lewagon/lib/python3.8/site-packages (from geemap) (0.2.0)\n",
      "Requirement already satisfied: pillow in ./.pyenv/versions/3.8.6/envs/lewagon/lib/python3.8/site-packages (from geemap) (8.2.0)\n",
      "Requirement already satisfied: geocoder in ./.pyenv/versions/3.8.6/envs/lewagon/lib/python3.8/site-packages (from geemap) (1.38.1)\n",
      "Requirement already satisfied: colour in ./.pyenv/versions/3.8.6/envs/lewagon/lib/python3.8/site-packages (from geemap) (0.1.5)\n",
      "Requirement already satisfied: mss in ./.pyenv/versions/3.8.6/envs/lewagon/lib/python3.8/site-packages (from geemap) (6.1.0)\n",
      "Requirement already satisfied: pandas in ./.pyenv/versions/3.8.6/envs/lewagon/lib/python3.8/site-packages (from geemap) (1.2.4)\n",
      "Requirement already satisfied: whiteboxgui in ./.pyenv/versions/3.8.6/envs/lewagon/lib/python3.8/site-packages (from geemap) (0.1.9)\n",
      "Requirement already satisfied: click in ./.pyenv/versions/3.8.6/envs/lewagon/lib/python3.8/site-packages (from geemap) (7.1.2)\n",
      "Requirement already satisfied: ipytree in ./.pyenv/versions/3.8.6/envs/lewagon/lib/python3.8/site-packages (from geemap) (0.2.1)\n",
      "Requirement already satisfied: googledrivedownloader in ./.pyenv/versions/3.8.6/envs/lewagon/lib/python3.8/site-packages (from geemap) (0.4)\n",
      "Requirement already satisfied: ipyleaflet<=0.13.3 in ./.pyenv/versions/3.8.6/envs/lewagon/lib/python3.8/site-packages (from geemap) (0.13.3)\n",
      "Requirement already satisfied: python-box in ./.pyenv/versions/3.8.6/envs/lewagon/lib/python3.8/site-packages (from geemap) (5.3.0)\n",
      "Requirement already satisfied: folium>=0.11.0 in ./.pyenv/versions/3.8.6/envs/lewagon/lib/python3.8/site-packages (from geemap) (0.12.1)\n",
      "Requirement already satisfied: google-api-python-client<2,>=1.12.1 in ./.pyenv/versions/3.8.6/envs/lewagon/lib/python3.8/site-packages (from earthengine-api>=0.1.230->geemap) (1.12.8)\n",
      "Requirement already satisfied: google-auth-httplib2>=0.0.3 in ./.pyenv/versions/3.8.6/envs/lewagon/lib/python3.8/site-packages (from earthengine-api>=0.1.230->geemap) (0.1.0)\n",
      "Requirement already satisfied: google-cloud-storage in ./.pyenv/versions/3.8.6/envs/lewagon/lib/python3.8/site-packages (from earthengine-api>=0.1.230->geemap) (1.38.0)\n",
      "Requirement already satisfied: future in ./.pyenv/versions/3.8.6/envs/lewagon/lib/python3.8/site-packages (from earthengine-api>=0.1.230->geemap) (0.18.2)\n",
      "Requirement already satisfied: google-auth>=1.4.1 in ./.pyenv/versions/3.8.6/envs/lewagon/lib/python3.8/site-packages (from earthengine-api>=0.1.230->geemap) (1.29.0)\n",
      "Requirement already satisfied: httplib2shim in ./.pyenv/versions/3.8.6/envs/lewagon/lib/python3.8/site-packages (from earthengine-api>=0.1.230->geemap) (0.0.3)\n",
      "Requirement already satisfied: six in ./.pyenv/versions/3.8.6/envs/lewagon/lib/python3.8/site-packages (from earthengine-api>=0.1.230->geemap) (1.14.0)\n",
      "Requirement already satisfied: httplib2<1dev,>=0.9.2 in ./.pyenv/versions/3.8.6/envs/lewagon/lib/python3.8/site-packages (from earthengine-api>=0.1.230->geemap) (0.19.1)\n",
      "Requirement already satisfied: branca>=0.3.0 in ./.pyenv/versions/3.8.6/envs/lewagon/lib/python3.8/site-packages (from folium>=0.11.0->geemap) (0.4.2)\n",
      "Requirement already satisfied: requests in ./.pyenv/versions/3.8.6/envs/lewagon/lib/python3.8/site-packages (from folium>=0.11.0->geemap) (2.25.1)\n",
      "Requirement already satisfied: jinja2>=2.9 in ./.pyenv/versions/3.8.6/envs/lewagon/lib/python3.8/site-packages (from folium>=0.11.0->geemap) (2.11.3)\n",
      "Requirement already satisfied: logzero>=1.5.0 in ./.pyenv/versions/3.8.6/envs/lewagon/lib/python3.8/site-packages (from geeadd>=0.5.1->geemap) (1.7.0)\n",
      "Requirement already satisfied: beautifulsoup4>=4.9.0 in ./.pyenv/versions/3.8.6/envs/lewagon/lib/python3.8/site-packages (from geeadd>=0.5.1->geemap) (4.9.3)\n",
      "Requirement already satisfied: soupsieve>1.2 in ./.pyenv/versions/3.8.6/envs/lewagon/lib/python3.8/site-packages (from beautifulsoup4>=4.9.0->geeadd>=0.5.1->geemap) (2.2.1)\n",
      "Requirement already satisfied: google-api-core<2dev,>=1.21.0 in ./.pyenv/versions/3.8.6/envs/lewagon/lib/python3.8/site-packages (from google-api-python-client<2,>=1.12.1->earthengine-api>=0.1.230->geemap) (1.28.0)\n",
      "Requirement already satisfied: uritemplate<4dev,>=3.0.0 in ./.pyenv/versions/3.8.6/envs/lewagon/lib/python3.8/site-packages (from google-api-python-client<2,>=1.12.1->earthengine-api>=0.1.230->geemap) (3.0.1)\n",
      "Requirement already satisfied: packaging>=14.3 in ./.pyenv/versions/3.8.6/envs/lewagon/lib/python3.8/site-packages (from google-api-core<2dev,>=1.21.0->google-api-python-client<2,>=1.12.1->earthengine-api>=0.1.230->geemap) (20.9)\n",
      "Requirement already satisfied: pytz in ./.pyenv/versions/3.8.6/envs/lewagon/lib/python3.8/site-packages (from google-api-core<2dev,>=1.21.0->google-api-python-client<2,>=1.12.1->earthengine-api>=0.1.230->geemap) (2021.1)\n",
      "Requirement already satisfied: setuptools>=40.3.0 in ./.pyenv/versions/3.8.6/envs/lewagon/lib/python3.8/site-packages (from google-api-core<2dev,>=1.21.0->google-api-python-client<2,>=1.12.1->earthengine-api>=0.1.230->geemap) (49.2.1)\n",
      "Requirement already satisfied: protobuf>=3.12.0 in ./.pyenv/versions/3.8.6/envs/lewagon/lib/python3.8/site-packages (from google-api-core<2dev,>=1.21.0->google-api-python-client<2,>=1.12.1->earthengine-api>=0.1.230->geemap) (3.15.8)\n",
      "Requirement already satisfied: googleapis-common-protos<2.0dev,>=1.6.0 in ./.pyenv/versions/3.8.6/envs/lewagon/lib/python3.8/site-packages (from google-api-core<2dev,>=1.21.0->google-api-python-client<2,>=1.12.1->earthengine-api>=0.1.230->geemap) (1.53.0)\n",
      "Requirement already satisfied: pyasn1-modules>=0.2.1 in ./.pyenv/versions/3.8.6/envs/lewagon/lib/python3.8/site-packages (from google-auth>=1.4.1->earthengine-api>=0.1.230->geemap) (0.2.8)\n",
      "Requirement already satisfied: cachetools<5.0,>=2.0.0 in ./.pyenv/versions/3.8.6/envs/lewagon/lib/python3.8/site-packages (from google-auth>=1.4.1->earthengine-api>=0.1.230->geemap) (4.2.1)\n",
      "Requirement already satisfied: rsa<5,>=3.1.4 in ./.pyenv/versions/3.8.6/envs/lewagon/lib/python3.8/site-packages (from google-auth>=1.4.1->earthengine-api>=0.1.230->geemap) (4.7.2)\n",
      "Requirement already satisfied: pyparsing<3,>=2.4.2 in ./.pyenv/versions/3.8.6/envs/lewagon/lib/python3.8/site-packages (from httplib2<1dev,>=0.9.2->earthengine-api>=0.1.230->geemap) (2.4.7)\n",
      "Requirement already satisfied: ipywidgets<8,>=7.5.0 in ./.pyenv/versions/3.8.6/envs/lewagon/lib/python3.8/site-packages (from ipyleaflet<=0.13.3->geemap) (7.6.3)\n",
      "Requirement already satisfied: traittypes<3,>=0.2.1 in ./.pyenv/versions/3.8.6/envs/lewagon/lib/python3.8/site-packages (from ipyleaflet<=0.13.3->geemap) (0.2.1)\n",
      "Requirement already satisfied: traitlets>=4.3.1 in ./.pyenv/versions/3.8.6/envs/lewagon/lib/python3.8/site-packages (from ipywidgets<8,>=7.5.0->ipyleaflet<=0.13.3->geemap) (5.0.5)\n",
      "Requirement already satisfied: nbformat>=4.2.0 in ./.pyenv/versions/3.8.6/envs/lewagon/lib/python3.8/site-packages (from ipywidgets<8,>=7.5.0->ipyleaflet<=0.13.3->geemap) (5.1.3)\n"
     ]
    },
    {
     "name": "stdout",
     "output_type": "stream",
     "text": [
      "Requirement already satisfied: ipykernel>=4.5.1 in ./.pyenv/versions/3.8.6/envs/lewagon/lib/python3.8/site-packages (from ipywidgets<8,>=7.5.0->ipyleaflet<=0.13.3->geemap) (5.5.3)\n",
      "Requirement already satisfied: jupyterlab-widgets>=1.0.0 in ./.pyenv/versions/3.8.6/envs/lewagon/lib/python3.8/site-packages (from ipywidgets<8,>=7.5.0->ipyleaflet<=0.13.3->geemap) (1.0.0)\n",
      "Requirement already satisfied: widgetsnbextension~=3.5.0 in ./.pyenv/versions/3.8.6/envs/lewagon/lib/python3.8/site-packages (from ipywidgets<8,>=7.5.0->ipyleaflet<=0.13.3->geemap) (3.5.1)\n",
      "Requirement already satisfied: ipython>=4.0.0 in ./.pyenv/versions/3.8.6/envs/lewagon/lib/python3.8/site-packages (from ipywidgets<8,>=7.5.0->ipyleaflet<=0.13.3->geemap) (7.22.0)\n",
      "Requirement already satisfied: tornado>=4.2 in ./.pyenv/versions/3.8.6/envs/lewagon/lib/python3.8/site-packages (from ipykernel>=4.5.1->ipywidgets<8,>=7.5.0->ipyleaflet<=0.13.3->geemap) (6.1)\n",
      "Requirement already satisfied: jupyter-client in ./.pyenv/versions/3.8.6/envs/lewagon/lib/python3.8/site-packages (from ipykernel>=4.5.1->ipywidgets<8,>=7.5.0->ipyleaflet<=0.13.3->geemap) (6.1.12)\n",
      "Requirement already satisfied: backcall in ./.pyenv/versions/3.8.6/envs/lewagon/lib/python3.8/site-packages (from ipython>=4.0.0->ipywidgets<8,>=7.5.0->ipyleaflet<=0.13.3->geemap) (0.2.0)\n",
      "Requirement already satisfied: pickleshare in ./.pyenv/versions/3.8.6/envs/lewagon/lib/python3.8/site-packages (from ipython>=4.0.0->ipywidgets<8,>=7.5.0->ipyleaflet<=0.13.3->geemap) (0.7.5)\n",
      "Requirement already satisfied: jedi>=0.16 in ./.pyenv/versions/3.8.6/envs/lewagon/lib/python3.8/site-packages (from ipython>=4.0.0->ipywidgets<8,>=7.5.0->ipyleaflet<=0.13.3->geemap) (0.18.0)\n",
      "Requirement already satisfied: decorator in ./.pyenv/versions/3.8.6/envs/lewagon/lib/python3.8/site-packages (from ipython>=4.0.0->ipywidgets<8,>=7.5.0->ipyleaflet<=0.13.3->geemap) (4.4.2)\n",
      "Requirement already satisfied: pygments in ./.pyenv/versions/3.8.6/envs/lewagon/lib/python3.8/site-packages (from ipython>=4.0.0->ipywidgets<8,>=7.5.0->ipyleaflet<=0.13.3->geemap) (2.8.1)\n",
      "Requirement already satisfied: prompt-toolkit!=3.0.0,!=3.0.1,<3.1.0,>=2.0.0 in ./.pyenv/versions/3.8.6/envs/lewagon/lib/python3.8/site-packages (from ipython>=4.0.0->ipywidgets<8,>=7.5.0->ipyleaflet<=0.13.3->geemap) (3.0.18)\n",
      "Requirement already satisfied: pexpect>4.3 in ./.pyenv/versions/3.8.6/envs/lewagon/lib/python3.8/site-packages (from ipython>=4.0.0->ipywidgets<8,>=7.5.0->ipyleaflet<=0.13.3->geemap) (4.8.0)\n",
      "Requirement already satisfied: parso<0.9.0,>=0.8.0 in ./.pyenv/versions/3.8.6/envs/lewagon/lib/python3.8/site-packages (from jedi>=0.16->ipython>=4.0.0->ipywidgets<8,>=7.5.0->ipyleaflet<=0.13.3->geemap) (0.8.2)\n",
      "Requirement already satisfied: MarkupSafe>=0.23 in ./.pyenv/versions/3.8.6/envs/lewagon/lib/python3.8/site-packages (from jinja2>=2.9->folium>=0.11.0->geemap) (1.1.1)\n",
      "Requirement already satisfied: jsonschema!=2.5.0,>=2.4 in ./.pyenv/versions/3.8.6/envs/lewagon/lib/python3.8/site-packages (from nbformat>=4.2.0->ipywidgets<8,>=7.5.0->ipyleaflet<=0.13.3->geemap) (3.2.0)\n",
      "Requirement already satisfied: jupyter-core in ./.pyenv/versions/3.8.6/envs/lewagon/lib/python3.8/site-packages (from nbformat>=4.2.0->ipywidgets<8,>=7.5.0->ipyleaflet<=0.13.3->geemap) (4.7.1)\n",
      "Requirement already satisfied: ipython-genutils in ./.pyenv/versions/3.8.6/envs/lewagon/lib/python3.8/site-packages (from nbformat>=4.2.0->ipywidgets<8,>=7.5.0->ipyleaflet<=0.13.3->geemap) (0.2.0)\n",
      "Requirement already satisfied: attrs>=17.4.0 in ./.pyenv/versions/3.8.6/envs/lewagon/lib/python3.8/site-packages (from jsonschema!=2.5.0,>=2.4->nbformat>=4.2.0->ipywidgets<8,>=7.5.0->ipyleaflet<=0.13.3->geemap) (20.3.0)\n",
      "Requirement already satisfied: pyrsistent>=0.14.0 in ./.pyenv/versions/3.8.6/envs/lewagon/lib/python3.8/site-packages (from jsonschema!=2.5.0,>=2.4->nbformat>=4.2.0->ipywidgets<8,>=7.5.0->ipyleaflet<=0.13.3->geemap) (0.17.3)\n",
      "Requirement already satisfied: ptyprocess>=0.5 in ./.pyenv/versions/3.8.6/envs/lewagon/lib/python3.8/site-packages (from pexpect>4.3->ipython>=4.0.0->ipywidgets<8,>=7.5.0->ipyleaflet<=0.13.3->geemap) (0.7.0)\n",
      "Requirement already satisfied: wcwidth in ./.pyenv/versions/3.8.6/envs/lewagon/lib/python3.8/site-packages (from prompt-toolkit!=3.0.0,!=3.0.1,<3.1.0,>=2.0.0->ipython>=4.0.0->ipywidgets<8,>=7.5.0->ipyleaflet<=0.13.3->geemap) (0.2.5)\n",
      "Requirement already satisfied: pyasn1<0.5.0,>=0.4.6 in ./.pyenv/versions/3.8.6/envs/lewagon/lib/python3.8/site-packages (from pyasn1-modules>=0.2.1->google-auth>=1.4.1->earthengine-api>=0.1.230->geemap) (0.4.8)\n",
      "Requirement already satisfied: idna<3,>=2.5 in ./.pyenv/versions/3.8.6/envs/lewagon/lib/python3.8/site-packages (from requests->folium>=0.11.0->geemap) (2.10)\n",
      "Requirement already satisfied: certifi>=2017.4.17 in ./.pyenv/versions/3.8.6/envs/lewagon/lib/python3.8/site-packages (from requests->folium>=0.11.0->geemap) (2020.12.5)\n",
      "Requirement already satisfied: urllib3<1.27,>=1.21.1 in ./.pyenv/versions/3.8.6/envs/lewagon/lib/python3.8/site-packages (from requests->folium>=0.11.0->geemap) (1.26.4)\n",
      "Requirement already satisfied: chardet<5,>=3.0.2 in ./.pyenv/versions/3.8.6/envs/lewagon/lib/python3.8/site-packages (from requests->folium>=0.11.0->geemap) (4.0.0)\n",
      "Requirement already satisfied: notebook>=4.4.1 in ./.pyenv/versions/3.8.6/envs/lewagon/lib/python3.8/site-packages (from widgetsnbextension~=3.5.0->ipywidgets<8,>=7.5.0->ipyleaflet<=0.13.3->geemap) (6.3.0)\n",
      "Requirement already satisfied: prometheus-client in ./.pyenv/versions/3.8.6/envs/lewagon/lib/python3.8/site-packages (from notebook>=4.4.1->widgetsnbextension~=3.5.0->ipywidgets<8,>=7.5.0->ipyleaflet<=0.13.3->geemap) (0.10.1)\n",
      "Requirement already satisfied: terminado>=0.8.3 in ./.pyenv/versions/3.8.6/envs/lewagon/lib/python3.8/site-packages (from notebook>=4.4.1->widgetsnbextension~=3.5.0->ipywidgets<8,>=7.5.0->ipyleaflet<=0.13.3->geemap) (0.9.4)\n",
      "Requirement already satisfied: argon2-cffi in ./.pyenv/versions/3.8.6/envs/lewagon/lib/python3.8/site-packages (from notebook>=4.4.1->widgetsnbextension~=3.5.0->ipywidgets<8,>=7.5.0->ipyleaflet<=0.13.3->geemap) (20.1.0)\n",
      "Requirement already satisfied: Send2Trash>=1.5.0 in ./.pyenv/versions/3.8.6/envs/lewagon/lib/python3.8/site-packages (from notebook>=4.4.1->widgetsnbextension~=3.5.0->ipywidgets<8,>=7.5.0->ipyleaflet<=0.13.3->geemap) (1.5.0)\n",
      "Requirement already satisfied: nbconvert in ./.pyenv/versions/3.8.6/envs/lewagon/lib/python3.8/site-packages (from notebook>=4.4.1->widgetsnbextension~=3.5.0->ipywidgets<8,>=7.5.0->ipyleaflet<=0.13.3->geemap) (6.0.7)\n",
      "Requirement already satisfied: pyzmq>=17 in ./.pyenv/versions/3.8.6/envs/lewagon/lib/python3.8/site-packages (from notebook>=4.4.1->widgetsnbextension~=3.5.0->ipywidgets<8,>=7.5.0->ipyleaflet<=0.13.3->geemap) (22.0.3)\n",
      "Requirement already satisfied: python-dateutil>=2.1 in ./.pyenv/versions/3.8.6/envs/lewagon/lib/python3.8/site-packages (from jupyter-client->ipykernel>=4.5.1->ipywidgets<8,>=7.5.0->ipyleaflet<=0.13.3->geemap) (2.8.1)\n",
      "Requirement already satisfied: cffi>=1.0.0 in ./.pyenv/versions/3.8.6/envs/lewagon/lib/python3.8/site-packages (from argon2-cffi->notebook>=4.4.1->widgetsnbextension~=3.5.0->ipywidgets<8,>=7.5.0->ipyleaflet<=0.13.3->geemap) (1.14.5)\n",
      "Requirement already satisfied: pycparser in ./.pyenv/versions/3.8.6/envs/lewagon/lib/python3.8/site-packages (from cffi>=1.0.0->argon2-cffi->notebook>=4.4.1->widgetsnbextension~=3.5.0->ipywidgets<8,>=7.5.0->ipyleaflet<=0.13.3->geemap) (2.20)\n",
      "Requirement already satisfied: ratelim in ./.pyenv/versions/3.8.6/envs/lewagon/lib/python3.8/site-packages (from geocoder->geemap) (0.1.6)\n",
      "Requirement already satisfied: google-resumable-media<2.0dev,>=1.2.0 in ./.pyenv/versions/3.8.6/envs/lewagon/lib/python3.8/site-packages (from google-cloud-storage->earthengine-api>=0.1.230->geemap) (1.3.0)\n",
      "Requirement already satisfied: google-cloud-core<2.0dev,>=1.4.1 in ./.pyenv/versions/3.8.6/envs/lewagon/lib/python3.8/site-packages (from google-cloud-storage->earthengine-api>=0.1.230->geemap) (1.6.0)\n",
      "Requirement already satisfied: google-crc32c<2.0dev,>=1.0 in ./.pyenv/versions/3.8.6/envs/lewagon/lib/python3.8/site-packages (from google-resumable-media<2.0dev,>=1.2.0->google-cloud-storage->earthengine-api>=0.1.230->geemap) (1.1.2)\n"
     ]
    },
    {
     "name": "stdout",
     "output_type": "stream",
     "text": [
      "Requirement already satisfied: kiwisolver>=1.0.1 in ./.pyenv/versions/3.8.6/envs/lewagon/lib/python3.8/site-packages (from matplotlib->geemap) (1.3.1)\n",
      "Requirement already satisfied: cycler>=0.10 in ./.pyenv/versions/3.8.6/envs/lewagon/lib/python3.8/site-packages (from matplotlib->geemap) (0.10.0)\n",
      "Requirement already satisfied: nbclient<0.6.0,>=0.5.0 in ./.pyenv/versions/3.8.6/envs/lewagon/lib/python3.8/site-packages (from nbconvert->notebook>=4.4.1->widgetsnbextension~=3.5.0->ipywidgets<8,>=7.5.0->ipyleaflet<=0.13.3->geemap) (0.5.3)\n",
      "Requirement already satisfied: testpath in ./.pyenv/versions/3.8.6/envs/lewagon/lib/python3.8/site-packages (from nbconvert->notebook>=4.4.1->widgetsnbextension~=3.5.0->ipywidgets<8,>=7.5.0->ipyleaflet<=0.13.3->geemap) (0.4.4)\n",
      "Requirement already satisfied: defusedxml in ./.pyenv/versions/3.8.6/envs/lewagon/lib/python3.8/site-packages (from nbconvert->notebook>=4.4.1->widgetsnbextension~=3.5.0->ipywidgets<8,>=7.5.0->ipyleaflet<=0.13.3->geemap) (0.7.1)\n",
      "Requirement already satisfied: entrypoints>=0.2.2 in ./.pyenv/versions/3.8.6/envs/lewagon/lib/python3.8/site-packages (from nbconvert->notebook>=4.4.1->widgetsnbextension~=3.5.0->ipywidgets<8,>=7.5.0->ipyleaflet<=0.13.3->geemap) (0.3)\n",
      "Requirement already satisfied: jupyterlab-pygments in ./.pyenv/versions/3.8.6/envs/lewagon/lib/python3.8/site-packages (from nbconvert->notebook>=4.4.1->widgetsnbextension~=3.5.0->ipywidgets<8,>=7.5.0->ipyleaflet<=0.13.3->geemap) (0.1.2)\n",
      "Requirement already satisfied: mistune<2,>=0.8.1 in ./.pyenv/versions/3.8.6/envs/lewagon/lib/python3.8/site-packages (from nbconvert->notebook>=4.4.1->widgetsnbextension~=3.5.0->ipywidgets<8,>=7.5.0->ipyleaflet<=0.13.3->geemap) (0.8.4)\n",
      "Requirement already satisfied: pandocfilters>=1.4.1 in ./.pyenv/versions/3.8.6/envs/lewagon/lib/python3.8/site-packages (from nbconvert->notebook>=4.4.1->widgetsnbextension~=3.5.0->ipywidgets<8,>=7.5.0->ipyleaflet<=0.13.3->geemap) (1.4.3)\n",
      "Requirement already satisfied: bleach in ./.pyenv/versions/3.8.6/envs/lewagon/lib/python3.8/site-packages (from nbconvert->notebook>=4.4.1->widgetsnbextension~=3.5.0->ipywidgets<8,>=7.5.0->ipyleaflet<=0.13.3->geemap) (3.3.0)\n",
      "Requirement already satisfied: async-generator in ./.pyenv/versions/3.8.6/envs/lewagon/lib/python3.8/site-packages (from nbclient<0.6.0,>=0.5.0->nbconvert->notebook>=4.4.1->widgetsnbextension~=3.5.0->ipywidgets<8,>=7.5.0->ipyleaflet<=0.13.3->geemap) (1.10)\n",
      "Requirement already satisfied: nest-asyncio in ./.pyenv/versions/3.8.6/envs/lewagon/lib/python3.8/site-packages (from nbclient<0.6.0,>=0.5.0->nbconvert->notebook>=4.4.1->widgetsnbextension~=3.5.0->ipywidgets<8,>=7.5.0->ipyleaflet<=0.13.3->geemap) (1.5.1)\n",
      "Requirement already satisfied: webencodings in ./.pyenv/versions/3.8.6/envs/lewagon/lib/python3.8/site-packages (from bleach->nbconvert->notebook>=4.4.1->widgetsnbextension~=3.5.0->ipywidgets<8,>=7.5.0->ipyleaflet<=0.13.3->geemap) (0.5.1)\n",
      "Requirement already satisfied: jupyter-server<2.0.0,>=0.3.0 in ./.pyenv/versions/3.8.6/envs/lewagon/lib/python3.8/site-packages (from voila->geemap) (1.6.2)\n",
      "Requirement already satisfied: jupyter-packaging~=0.9 in ./.pyenv/versions/3.8.6/envs/lewagon/lib/python3.8/site-packages (from jupyter-server<2.0.0,>=0.3.0->voila->geemap) (0.9.2)\n",
      "Requirement already satisfied: anyio>=2.0.2 in ./.pyenv/versions/3.8.6/envs/lewagon/lib/python3.8/site-packages (from jupyter-server<2.0.0,>=0.3.0->voila->geemap) (2.2.0)\n",
      "Requirement already satisfied: sniffio>=1.1 in ./.pyenv/versions/3.8.6/envs/lewagon/lib/python3.8/site-packages (from anyio>=2.0.2->jupyter-server<2.0.0,>=0.3.0->voila->geemap) (1.2.0)\n",
      "Requirement already satisfied: deprecation in ./.pyenv/versions/3.8.6/envs/lewagon/lib/python3.8/site-packages (from jupyter-packaging~=0.9->jupyter-server<2.0.0,>=0.3.0->voila->geemap) (2.1.0)\n",
      "Requirement already satisfied: tomlkit in ./.pyenv/versions/3.8.6/envs/lewagon/lib/python3.8/site-packages (from jupyter-packaging~=0.9->jupyter-server<2.0.0,>=0.3.0->voila->geemap) (0.7.0)\n",
      "Requirement already satisfied: wheel in ./.pyenv/versions/3.8.6/envs/lewagon/lib/python3.8/site-packages (from jupyter-packaging~=0.9->jupyter-server<2.0.0,>=0.3.0->voila->geemap) (0.36.2)\n",
      "Requirement already satisfied: whitebox in ./.pyenv/versions/3.8.6/envs/lewagon/lib/python3.8/site-packages (from whiteboxgui->geemap) (1.5.0)\n",
      "\u001b[33mWARNING: You are using pip version 21.1.1; however, version 21.1.2 is available.\n",
      "You should consider upgrading via the '/home/rafael/.pyenv/versions/3.8.6/envs/lewagon/bin/python3.8 -m pip install --upgrade pip' command.\u001b[0m\n"
     ]
    }
   ],
   "source": [
    "!pip install geemap\n",
    "import os\n",
    "import ee\n",
    "import geemap\n"
   ]
  },
  {
   "cell_type": "code",
   "execution_count": 2,
   "id": "b5f1bbb4",
   "metadata": {},
   "outputs": [
    {
     "data": {
      "text/html": [
       "<p>To authorize access needed by Earth Engine, open the following\n",
       "        URL in a web browser and follow the instructions:</p>\n",
       "        <p><a href=https://accounts.google.com/o/oauth2/auth?client_id=517222506229-vsmmajv00ul0bs7p89v5m89qs8eb9359.apps.googleusercontent.com&scope=https%3A%2F%2Fwww.googleapis.com%2Fauth%2Fearthengine+https%3A%2F%2Fwww.googleapis.com%2Fauth%2Fdevstorage.full_control&redirect_uri=urn%3Aietf%3Awg%3Aoauth%3A2.0%3Aoob&response_type=code&code_challenge=A4sQK-6DlqqLMx1hHAi9yADfUL5zun9RUEFWY9frIdQ&code_challenge_method=S256>https://accounts.google.com/o/oauth2/auth?client_id=517222506229-vsmmajv00ul0bs7p89v5m89qs8eb9359.apps.googleusercontent.com&scope=https%3A%2F%2Fwww.googleapis.com%2Fauth%2Fearthengine+https%3A%2F%2Fwww.googleapis.com%2Fauth%2Fdevstorage.full_control&redirect_uri=urn%3Aietf%3Awg%3Aoauth%3A2.0%3Aoob&response_type=code&code_challenge=A4sQK-6DlqqLMx1hHAi9yADfUL5zun9RUEFWY9frIdQ&code_challenge_method=S256</a></p>\n",
       "        <p>The authorization workflow will generate a code, which you\n",
       "        should paste in the box below</p>\n",
       "        "
      ],
      "text/plain": [
       "<IPython.core.display.HTML object>"
      ]
     },
     "metadata": {},
     "output_type": "display_data"
    },
    {
     "name": "stdout",
     "output_type": "stream",
     "text": [
      "Enter verification code: 4/1AY0e-g48XFpVDkTYePO4UB4pp1vO6Gkb-0QUYSjizcBXZpYdUeODHOtX8Jc\n",
      "\n",
      "Successfully saved authorization token.\n"
     ]
    }
   ],
   "source": [
    "#Map = geemap.Map()\n",
    "ee.Authenticate()"
   ]
  },
  {
   "cell_type": "code",
   "execution_count": 3,
   "id": "c0da38cc",
   "metadata": {},
   "outputs": [],
   "source": [
    "ee.Initialize()"
   ]
  },
  {
   "cell_type": "code",
   "execution_count": 20,
   "id": "be323755",
   "metadata": {},
   "outputs": [],
   "source": [
    "roi = ee.Geometry.Rectangle([54.28, 22.002, 54.273, 22])\n",
    "collection = ee.ImageCollection('COPERNICUS/S2_SR') \\\n",
    "    .filterBounds(roi) \\\n",
    "    .sort(\"CLOUD_COVER\") \\\n",
    "    .limit(1)\n",
    "\n",
    "image = collection.first()\n",
    "small_boundry = ee.Geometry.Rectangle([54.3, 22.01, 54.35, 22.05])"
   ]
  },
  {
   "cell_type": "code",
   "execution_count": 21,
   "id": "d7aec2bd",
   "metadata": {},
   "outputs": [],
   "source": [
    "vis_params = {\n",
    "  'bands': [ 'B4' ,'B3', 'B2'],\n",
    "  'min': 0,\n",
    "  'max': 6000,\n",
    "  'gamma': 1.4,\n",
    "};\n",
    "\n",
    "#Map.addLayer(image)\n",
    "#Map.setCenter(-122.44, 39.75)\n",
    "#Map"
   ]
  },
  {
   "cell_type": "code",
   "execution_count": 22,
   "id": "c208ce7d",
   "metadata": {},
   "outputs": [],
   "source": [
    "#print(image.getInfo())"
   ]
  },
  {
   "cell_type": "code",
   "execution_count": 23,
   "id": "baabf2f0",
   "metadata": {},
   "outputs": [],
   "source": [
    "out_img = os.path.expanduser(\"~/Downloads/landsat.png\")"
   ]
  },
  {
   "cell_type": "code",
   "execution_count": 24,
   "id": "53249770",
   "metadata": {},
   "outputs": [],
   "source": [
    "geemap.get_image_thumbnail(image, out_img,vis_params, dimensions=3000, format='png', region = small_boundry)"
   ]
  },
  {
   "cell_type": "code",
   "execution_count": 25,
   "id": "2a5b8ffb",
   "metadata": {
    "scrolled": true
   },
   "outputs": [
    {
     "data": {
      "application/vnd.jupyter.widget-view+json": {
       "model_id": "98730f66ca424de48818cede45b1d338",
       "version_major": 2,
       "version_minor": 0
      },
      "text/plain": [
       "Output()"
      ]
     },
     "metadata": {},
     "output_type": "display_data"
    }
   ],
   "source": [
    "geemap.show_image(out_img)"
   ]
  },
  {
   "cell_type": "code",
   "execution_count": 19,
   "id": "eda17e3c",
   "metadata": {},
   "outputs": [
    {
     "name": "stdout",
     "output_type": "stream",
     "text": [
      "/home/rafael/Downloads\n"
     ]
    }
   ],
   "source": [
    "out_dir = os.path.expanduser(\"~/Downloads\")\n",
    "print(out_dir)"
   ]
  },
  {
   "cell_type": "code",
   "execution_count": 11,
   "id": "f0e245ce",
   "metadata": {
    "scrolled": true
   },
   "outputs": [
    {
     "name": "stdout",
     "output_type": "stream",
     "text": [
      "Total number of images: 1\n",
      "\n",
      "Downloading 1/1: 20181216T035149_20181216T035143_T48SVB.jpg ...\n"
     ]
    }
   ],
   "source": [
    "geemap.get_image_collection_thumbnails(collection, out_dir, vis_params, dimensions=500, format=\"jpg\", region = small_boundry)"
   ]
  },
  {
   "cell_type": "code",
   "execution_count": 12,
   "id": "d728414e",
   "metadata": {},
   "outputs": [
    {
     "ename": "AttributeError",
     "evalue": "'Map' object has no attribute 'add_ee_layer'",
     "output_type": "error",
     "traceback": [
      "\u001b[0;31m---------------------------------------------------------------------------\u001b[0m",
      "\u001b[0;31mAttributeError\u001b[0m                            Traceback (most recent call last)",
      "\u001b[0;32m<ipython-input-12-ab28584c415d>\u001b[0m in \u001b[0;36m<module>\u001b[0;34m\u001b[0m\n\u001b[1;32m     15\u001b[0m \u001b[0;34m\u001b[0m\u001b[0m\n\u001b[1;32m     16\u001b[0m \u001b[0;31m# Add the image layer to the map and display it.\u001b[0m\u001b[0;34m\u001b[0m\u001b[0;34m\u001b[0m\u001b[0;34m\u001b[0m\u001b[0m\n\u001b[0;32m---> 17\u001b[0;31m \u001b[0mmap_l8\u001b[0m\u001b[0;34m.\u001b[0m\u001b[0madd_ee_layer\u001b[0m\u001b[0;34m(\u001b[0m\u001b[0mimage\u001b[0m\u001b[0;34m,\u001b[0m \u001b[0mimage_viz_params\u001b[0m\u001b[0;34m,\u001b[0m \u001b[0;34m'false color composite'\u001b[0m\u001b[0;34m)\u001b[0m\u001b[0;34m\u001b[0m\u001b[0;34m\u001b[0m\u001b[0m\n\u001b[0m\u001b[1;32m     18\u001b[0m \u001b[0;34m\u001b[0m\u001b[0m\n\u001b[1;32m     19\u001b[0m \u001b[0mdisplay\u001b[0m\u001b[0;34m(\u001b[0m\u001b[0mmap_l8\u001b[0m\u001b[0;34m)\u001b[0m\u001b[0;34m\u001b[0m\u001b[0;34m\u001b[0m\u001b[0m\n",
      "\u001b[0;31mAttributeError\u001b[0m: 'Map' object has no attribute 'add_ee_layer'"
     ]
    }
   ],
   "source": [
    "\n",
    "import folium\n",
    "# Load an image.\n",
    "image = ee.Image('LANDSAT/LC08/C01/T1_TOA/LC08_044034_20140318')\n",
    "\n",
    "# Define the visualization parameters.\n",
    "image_viz_params = {\n",
    "    'bands': ['B5', 'B4', 'B3'],\n",
    "    'min': 0,\n",
    "    'max': 0.5,\n",
    "    'gamma': [0.95, 1.1, 1]\n",
    "}\n",
    "\n",
    "# Define a map centered on San Francisco Bay.\n",
    "map_l8 = folium.Map(location=[37.5010, -122.1899], zoom_start=10)\n",
    "\n",
    "# Add the image layer to the map and display it.\n",
    "map_l8.add_ee_layer(image, image_viz_params, 'false color composite')\n",
    "\n",
    "display(map_l8)"
   ]
  },
  {
   "cell_type": "code",
   "execution_count": null,
   "id": "203e09ae",
   "metadata": {},
   "outputs": [],
   "source": [
    "! pwd\n"
   ]
  },
  {
   "cell_type": "code",
   "execution_count": null,
   "id": "72ce8737",
   "metadata": {},
   "outputs": [],
   "source": []
  },
  {
   "cell_type": "code",
   "execution_count": null,
   "id": "91cb3f18",
   "metadata": {},
   "outputs": [],
   "source": []
  }
 ],
 "metadata": {
  "kernelspec": {
   "display_name": "Python 3",
   "language": "python",
   "name": "python3"
  },
  "language_info": {
   "codemirror_mode": {
    "name": "ipython",
    "version": 3
   },
   "file_extension": ".py",
   "mimetype": "text/x-python",
   "name": "python",
   "nbconvert_exporter": "python",
   "pygments_lexer": "ipython3",
   "version": "3.8.6"
  },
  "toc": {
   "base_numbering": 1,
   "nav_menu": {},
   "number_sections": true,
   "sideBar": true,
   "skip_h1_title": false,
   "title_cell": "Table of Contents",
   "title_sidebar": "Contents",
   "toc_cell": false,
   "toc_position": {},
   "toc_section_display": true,
   "toc_window_display": false
  }
 },
 "nbformat": 4,
 "nbformat_minor": 5
}
