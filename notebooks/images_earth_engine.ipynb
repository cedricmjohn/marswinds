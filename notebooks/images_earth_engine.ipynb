{
 "cells": [
  {
   "cell_type": "code",
   "execution_count": 124,
   "id": "9615be76",
   "metadata": {},
   "outputs": [],
   "source": [
    "import ee\n",
    "import os\n",
    "import geemap\n",
    "import numpy as np "
   ]
  },
  {
   "cell_type": "code",
   "execution_count": 125,
   "id": "8e9cdd7a",
   "metadata": {
    "scrolled": true
   },
   "outputs": [
    {
     "data": {
      "text/html": [
       "<p>To authorize access needed by Earth Engine, open the following\n",
       "        URL in a web browser and follow the instructions:</p>\n",
       "        <p><a href=https://accounts.google.com/o/oauth2/auth?client_id=517222506229-vsmmajv00ul0bs7p89v5m89qs8eb9359.apps.googleusercontent.com&scope=https%3A%2F%2Fwww.googleapis.com%2Fauth%2Fearthengine+https%3A%2F%2Fwww.googleapis.com%2Fauth%2Fdevstorage.full_control&redirect_uri=urn%3Aietf%3Awg%3Aoauth%3A2.0%3Aoob&response_type=code&code_challenge=UbdeB0PoUM4Fr3mmm5nXGsF4tdGPoEQCY7GWLR3VVLQ&code_challenge_method=S256>https://accounts.google.com/o/oauth2/auth?client_id=517222506229-vsmmajv00ul0bs7p89v5m89qs8eb9359.apps.googleusercontent.com&scope=https%3A%2F%2Fwww.googleapis.com%2Fauth%2Fearthengine+https%3A%2F%2Fwww.googleapis.com%2Fauth%2Fdevstorage.full_control&redirect_uri=urn%3Aietf%3Awg%3Aoauth%3A2.0%3Aoob&response_type=code&code_challenge=UbdeB0PoUM4Fr3mmm5nXGsF4tdGPoEQCY7GWLR3VVLQ&code_challenge_method=S256</a></p>\n",
       "        <p>The authorization workflow will generate a code, which you\n",
       "        should paste in the box below</p>\n",
       "        "
      ],
      "text/plain": [
       "<IPython.core.display.HTML object>"
      ]
     },
     "metadata": {},
     "output_type": "display_data"
    },
    {
     "name": "stdout",
     "output_type": "stream",
     "text": [
      "Enter verification code: 4/1AY0e-g7bc89FcchvcWjscLR7Ixm-ixxNzEGf68_GINujILc4pdCwfRrv5V4\n",
      "\n",
      "Successfully saved authorization token.\n"
     ]
    }
   ],
   "source": [
    "ee.Authenticate()"
   ]
  },
  {
   "cell_type": "code",
   "execution_count": 131,
   "id": "c2fa3b98",
   "metadata": {},
   "outputs": [],
   "source": [
    "ee.Initialize()"
   ]
  },
  {
   "cell_type": "code",
   "execution_count": 132,
   "id": "15035c57",
   "metadata": {},
   "outputs": [],
   "source": [
    "margin =0.025\n",
    "# coords=[54.28, 22.002]\n",
    "coords=[-106.373427, 33.023187]"
   ]
  },
  {
   "cell_type": "code",
   "execution_count": 133,
   "id": "0861ea23",
   "metadata": {},
   "outputs": [],
   "source": [
    "def quadrants(coords, margin):\n",
    "    \n",
    "    ll_long=coords[0]-margin\n",
    "    ll_lat=coords[1]-margin\n",
    "    ur_long=coords[0]+margin\n",
    "    ur_lat=coords[1]+margin\n",
    "    \n",
    "    bounds = [ll_long, ll_lat, ur_long, ur_lat]\n",
    "    \n",
    "    # 'COPERNICUS/S2_SR'\n",
    "    # 'LANDSAT/LC08/C01/T1_SR'\n",
    "    roi = ee.Geometry.Point(coords)\n",
    "    collection = ee.ImageCollection('COPERNICUS/S2_SR') \\\n",
    "    .filterBounds(roi) \\\n",
    "    .sort(\"CLOUD_COVER\")\\\n",
    "    .limit(1)\n",
    "    \n",
    "    image = collection.first()\n",
    "    quadrant = ee.Geometry.Rectangle(bounds)\n",
    "    \n",
    "    vis_params = {\n",
    "        'bands': ['B4'],\n",
    "#         'bands':['VV'],\n",
    "        'min': 0,\n",
    "        'max': 20000,\n",
    "#         \n",
    "        'palette': ['000000','808080','FFFFFF']};\n",
    "#         'opacity':0.5,\n",
    "#         'gamma': 1.6};\n",
    "    \n",
    "    roi_str = \"_\".join([str(value) for value in bounds])\n",
    "    out_img = os.path.expanduser(f\"~/Downloads/landsat{roi_str}.png\")\n",
    "    region = ee.Geometry.Rectangle(bounds)\n",
    "    geemap.get_image_thumbnail(image, out_img,vis_params,dimensions=256,region=region, format='jpg')\n",
    "    geemap.show_image(out_img)\n",
    "    \n",
    "    return out_img"
   ]
  },
  {
   "cell_type": "code",
   "execution_count": 134,
   "id": "da6dffe2",
   "metadata": {
    "scrolled": true
   },
   "outputs": [
    {
     "ename": "NameError",
     "evalue": "name 'image' is not defined",
     "output_type": "error",
     "traceback": [
      "\u001b[0;31m---------------------------------------------------------------------------\u001b[0m",
      "\u001b[0;31mNameError\u001b[0m                                 Traceback (most recent call last)",
      "\u001b[0;32m<ipython-input-134-e9fda9c716e9>\u001b[0m in \u001b[0;36m<module>\u001b[0;34m\u001b[0m\n\u001b[0;32m----> 1\u001b[0;31m \u001b[0mimage\u001b[0m\u001b[0;34m.\u001b[0m\u001b[0mgetInfo\u001b[0m\u001b[0;34m(\u001b[0m\u001b[0;34m)\u001b[0m\u001b[0;34m\u001b[0m\u001b[0;34m\u001b[0m\u001b[0m\n\u001b[0m",
      "\u001b[0;31mNameError\u001b[0m: name 'image' is not defined"
     ]
    }
   ],
   "source": [
    "image.getInfo()"
   ]
  },
  {
   "cell_type": "code",
   "execution_count": 118,
   "id": "88c1f7fb",
   "metadata": {
    "scrolled": true
   },
   "outputs": [
    {
     "data": {
      "application/vnd.jupyter.widget-view+json": {
       "model_id": "9c87e058b9684ccdbd292625fd84014b",
       "version_major": 2,
       "version_minor": 0
      },
      "text/plain": [
       "Output()"
      ]
     },
     "metadata": {},
     "output_type": "display_data"
    },
    {
     "data": {
      "text/plain": [
       "'/home/pilar/Downloads/landsat-106.39842700000001_32.998187_-106.348427_33.048187.png'"
      ]
     },
     "execution_count": 118,
     "metadata": {},
     "output_type": "execute_result"
    }
   ],
   "source": [
    "quadrants(coords, margin)"
   ]
  },
  {
   "cell_type": "code",
   "execution_count": 102,
   "id": "422bf201",
   "metadata": {},
   "outputs": [],
   "source": [
    "def coordinates(coords, margin):\n",
    "    \n",
    "    ll_long=coords[0]-margin\n",
    "    ll_lat=coords[1]-margin\n",
    "    ur_long=coords[0]+margin\n",
    "    ur_lat=coords[1]+margin\n",
    "    \n",
    "    coordinates = [[ll_long, ll_lat],\n",
    "                  [ll_long, ur_lat], \n",
    "                  [ur_long, ur_lat],\n",
    "                  [ur_long, ll_lat]]\n",
    "    \n",
    "\n",
    "    return coordinates"
   ]
  },
  {
   "cell_type": "code",
   "execution_count": 263,
   "id": "bd4bf760",
   "metadata": {},
   "outputs": [
    {
     "data": {
      "text/plain": [
       "[[-106.39842700000001, 32.998187],\n",
       " [-106.39842700000001, 33.048187],\n",
       " [-106.348427, 33.048187],\n",
       " [-106.348427, 32.998187]]"
      ]
     },
     "execution_count": 263,
     "metadata": {},
     "output_type": "execute_result"
    }
   ],
   "source": [
    "coordinates = coordinates(coords, margin)\n",
    "coordinates"
   ]
  },
  {
   "cell_type": "code",
   "execution_count": 264,
   "id": "f416ecb5",
   "metadata": {},
   "outputs": [
    {
     "data": {
      "application/vnd.jupyter.widget-view+json": {
       "model_id": "47323ec992fc4bb3818f341c5c4a0f50",
       "version_major": 2,
       "version_minor": 0
      },
      "text/plain": [
       "Output()"
      ]
     },
     "metadata": {},
     "output_type": "display_data"
    },
    {
     "data": {
      "application/vnd.jupyter.widget-view+json": {
       "model_id": "3b316045382c4c4d853ad55f5865e18a",
       "version_major": 2,
       "version_minor": 0
      },
      "text/plain": [
       "Output()"
      ]
     },
     "metadata": {},
     "output_type": "display_data"
    },
    {
     "data": {
      "application/vnd.jupyter.widget-view+json": {
       "model_id": "fb67c21d72854e97962c978c2ad09acd",
       "version_major": 2,
       "version_minor": 0
      },
      "text/plain": [
       "Output()"
      ]
     },
     "metadata": {},
     "output_type": "display_data"
    },
    {
     "data": {
      "application/vnd.jupyter.widget-view+json": {
       "model_id": "e324246a69964393a037f352412ef605",
       "version_major": 2,
       "version_minor": 0
      },
      "text/plain": [
       "Output()"
      ]
     },
     "metadata": {},
     "output_type": "display_data"
    }
   ],
   "source": [
    "for coordinate in coordinates:\n",
    "    quadrants(coordinate,margin)"
   ]
  },
  {
   "cell_type": "code",
   "execution_count": null,
   "id": "cf37c506",
   "metadata": {},
   "outputs": [],
   "source": []
  }
 ],
 "metadata": {
  "kernelspec": {
   "display_name": "Python 3",
   "language": "python",
   "name": "python3"
  },
  "language_info": {
   "codemirror_mode": {
    "name": "ipython",
    "version": 3
   },
   "file_extension": ".py",
   "mimetype": "text/x-python",
   "name": "python",
   "nbconvert_exporter": "python",
   "pygments_lexer": "ipython3",
   "version": "3.8.6"
  },
  "toc": {
   "base_numbering": 1,
   "nav_menu": {},
   "number_sections": true,
   "sideBar": true,
   "skip_h1_title": false,
   "title_cell": "Table of Contents",
   "title_sidebar": "Contents",
   "toc_cell": false,
   "toc_position": {},
   "toc_section_display": true,
   "toc_window_display": false
  }
 },
 "nbformat": 4,
 "nbformat_minor": 5
}
